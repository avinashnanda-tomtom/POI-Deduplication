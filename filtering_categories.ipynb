{
 "cells": [
  {
   "cell_type": "code",
   "execution_count": 1,
   "metadata": {},
   "outputs": [],
   "source": [
    "import pandas as pd\n",
    "from sklearn.model_selection import GroupKFold"
   ]
  },
  {
   "cell_type": "code",
   "execution_count": 2,
   "metadata": {},
   "outputs": [],
   "source": [
    "df_pairs = pd.read_csv(\"/workspace/Training_data/training/Full_training_data_fold_v4.csv\")"
   ]
  },
  {
   "cell_type": "code",
   "execution_count": 3,
   "metadata": {},
   "outputs": [],
   "source": [
    "df_pairs = df_pairs[((df_pairs[\"category1\"]!=\"public transport stop\") & (df_pairs[\"category2\"]!=\"public transport stop\"))]"
   ]
  },
  {
   "cell_type": "code",
   "execution_count": 4,
   "metadata": {},
   "outputs": [],
   "source": [
    "df_pairs = df_pairs[((df_pairs[\"category1\"]!=\"public amenity\") & (df_pairs[\"category2\"]!=\"public amenity\"))]\n",
    "df_pairs = df_pairs[((df_pairs[\"category1\"]!=\"open parking area\") & (df_pairs[\"category2\"]!=\"open parking area\"))]\n",
    "df_pairs = df_pairs[((df_pairs[\"category1\"]!=\"parking garage\") & (df_pairs[\"category2\"]!=\"parking garage\"))]\n",
    "df_pairs = df_pairs[((df_pairs[\"category1\"]!=\"rest area\") & (df_pairs[\"category2\"]!=\"rest area\"))]\n",
    "df_pairs = df_pairs[((df_pairs[\"category1\"]!=\"cash dispenser\") & (df_pairs[\"category2\"]!=\"cash dispenser\"))]"
   ]
  },
  {
   "cell_type": "code",
   "execution_count": 5,
   "metadata": {},
   "outputs": [],
   "source": [
    "df_pairs = df_pairs.sample(frac=1).reset_index(drop=True)"
   ]
  },
  {
   "cell_type": "code",
   "execution_count": 6,
   "metadata": {},
   "outputs": [],
   "source": [
    "kf = GroupKFold(n_splits=5)\n",
    "for i, (trn_idx, val_idx) in enumerate(kf.split(df_pairs, df_pairs[\"placeId1\"], df_pairs[\"placeId1\"])):\n",
    "    df_pairs.loc[val_idx, \"fold\"] = i\n",
    "df_pairs[\"fold\"].value_counts()\n",
    "df_pairs.to_csv(\"/workspace/Training_data/training/Full_training_data_fold_v4_without_categories.csv\",index=None)"
   ]
  },
  {
   "cell_type": "code",
   "execution_count": 7,
   "metadata": {},
   "outputs": [
    {
     "data": {
      "text/plain": [
       "0.0    175433\n",
       "1.0    175433\n",
       "2.0    175433\n",
       "3.0    175432\n",
       "4.0    175432\n",
       "Name: fold, dtype: int64"
      ]
     },
     "execution_count": 7,
     "metadata": {},
     "output_type": "execute_result"
    }
   ],
   "source": [
    "df_pairs[\"fold\"].value_counts()"
   ]
  }
 ],
 "metadata": {
  "kernelspec": {
   "display_name": "rapids",
   "language": "python",
   "name": "python3"
  },
  "language_info": {
   "codemirror_mode": {
    "name": "ipython",
    "version": 3
   },
   "file_extension": ".py",
   "mimetype": "text/x-python",
   "name": "python",
   "nbconvert_exporter": "python",
   "pygments_lexer": "ipython3",
   "version": "3.8.13"
  },
  "orig_nbformat": 4,
  "vscode": {
   "interpreter": {
    "hash": "f708a36acfaef0acf74ccd43dfb58100269bf08fb79032a1e0a6f35bd9856f51"
   }
  }
 },
 "nbformat": 4,
 "nbformat_minor": 2
}
