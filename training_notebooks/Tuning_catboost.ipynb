{
 "cells": [
  {
   "cell_type": "code",
   "execution_count": 2,
   "metadata": {},
   "outputs": [],
   "source": [
    "import pandas as pd\n",
    "import numpy as np\n",
    "from xgboost import XGBClassifier, callback\n",
    "import mlflow\n"
   ]
  },
  {
   "cell_type": "code",
   "execution_count": 3,
   "metadata": {},
   "outputs": [],
   "source": [
    "\n",
    "\n",
    "import pandas as pd\n",
    "from sklearn.metrics import roc_auc_score\n",
    "from Config import config\n",
    "import warnings\n",
    "warnings.filterwarnings(\"ignore\")\n",
    "import optuna  # pip install optuna\n",
    "from sklearn.model_selection import StratifiedKFold\n",
    "from sklearn.model_selection import GroupKFold\n",
    "import numpy as np\n",
    "from sklearn.model_selection import train_test_split\n",
    "from datetime import datetime\n",
    "import gc\n",
    "import pickle\n",
    "import tempfile"
   ]
  },
  {
   "cell_type": "code",
   "execution_count": 4,
   "metadata": {},
   "outputs": [],
   "source": [
    "from lightgbm.basic import LightGBMError\n",
    "from lightgbm import LGBMClassifier, early_stopping, log_evaluation, Booster\n",
    "from sklearn.metrics import roc_auc_score\n",
    "import os\n",
    "from catboost import CatBoostClassifier\n"
   ]
  },
  {
   "cell_type": "markdown",
   "metadata": {},
   "source": [
    "# Loading data and group split"
   ]
  },
  {
   "cell_type": "code",
   "execution_count": null,
   "metadata": {},
   "outputs": [],
   "source": [
    "# df_pairs = pd.read_csv(\"/workspace/Training_data/training/Full_training_data.csv\")\n",
    "# df_pairs = df_pairs.sample(frac=1).reset_index(drop=True)\n",
    "# kf = GroupKFold(n_splits=5)\n",
    "# for i, (trn_idx, val_idx) in enumerate(kf.split(df_pairs, df_pairs[\"placeId1\"], df_pairs[\"placeId1\"])):\n",
    "#     df_pairs.loc[val_idx, \"fold\"] = i\n",
    "# df_pairs[\"fold\"].value_counts()\n",
    "# df_pairs.to_csv(\"/workspace/Training_data/training/Full_training_data_fold.csv\",index=None)"
   ]
  },
  {
   "cell_type": "markdown",
   "metadata": {},
   "source": [
    "# Loading data"
   ]
  },
  {
   "cell_type": "code",
   "execution_count": 5,
   "metadata": {},
   "outputs": [],
   "source": [
    "df_pairs = pd.read_csv(\"/workspace/Traininf_model_v4/Training_data/Full_training_data_fold_v4_without_categories.csv\")"
   ]
  },
  {
   "cell_type": "code",
   "execution_count": 6,
   "metadata": {},
   "outputs": [],
   "source": [
    "features = ['similarity', 'haversine', 'name_davies',\n",
    "       'name_leven', 'name_dice', 'name_jaro', 'name_set_ratio',\n",
    "       'street_davies', 'street_leven', 'street_jaro', 'email_davies',\n",
    "       'email_leven', 'email_jaro', 'url_davies', 'url_leven', 'url_jaro',\n",
    "       'brands_davies', 'brand_leven', 'brand_jaro', 'phone_lcs',\n",
    "       'subcat_WRatio', 'subcat_ratio', 'subcat_token_set_ratio',\n",
    "       'Is_direction_match_0', 'Is_direction_match_1', 'Is_direction_match_2',\n",
    "       'Is_house_match_0', 'Is_house_match_1', 'Is_house_match_2',\n",
    "       'Is_category_match_0', 'Is_category_match_1', 'Is_subcategory_match_0',\n",
    "       'Is_subcategory_match_1', 'Is_subcategory_match_2', 'Is_brand_match_0',\n",
    "       'Is_brand_match_1', 'Is_brand_match_2', 'Is_brand_match_3',\n",
    "       'Is_related_cat_0', 'Is_related_cat_1', 'Is_name_number_match_0',\n",
    "       'Is_name_number_match_1', 'Is_name_number_match_2',\n",
    "       'Is_name_number_match_3', 'is_phone_match_1', 'is_phone_match_2',\n",
    "       'is_phone_match_3', 'is_phone_match_4', 'Is_email_match_0',\n",
    "       'Is_email_match_1', 'Is_email_match_2', 'Is_url_match_0',\n",
    "       'Is_url_match_1', 'Is_url_match_2']"
   ]
  },
  {
   "cell_type": "code",
   "execution_count": 7,
   "metadata": {},
   "outputs": [],
   "source": [
    "def objective(trial, df_pairs):\n",
    "    catboost_params = dict(\n",
    "        depth=trial.suggest_int(\"depth\", 5, 15),\n",
    "        border_count=trial.suggest_int(\"border_count\", 16, 256),\n",
    "        min_data_in_leaf=trial.suggest_int(\"min_data_in_leaf\", 100, 10000),\n",
    "        l2_leaf_reg=trial.suggest_float(\"l2_leaf_reg\", 1e-3, 1, log=True)\n",
    "    )\n",
    "    \n",
    "    cv_scores = np.empty(5)\n",
    "    cv_scores_train = np.empty(5)\n",
    "    for fold in [0, 1, 2, 3, 4]:\n",
    "        X_train = df_pairs[df_pairs[\"fold\"] != fold]\n",
    "        X_test = df_pairs[df_pairs[\"fold\"] == fold]\n",
    "\n",
    "        model = CatBoostClassifier(\n",
    "            **catboost_params,\n",
    "            learning_rate=0.1,\n",
    "            n_estimators=10000,\n",
    "            objective=\"Logloss\",\n",
    "            eval_metric=\"AUC\",\n",
    "            gpu_ram_part=0.90,\n",
    "            task_type=\"GPU\",\n",
    "            use_best_model = True\n",
    "        )\n",
    "        \n",
    "        model.fit(X_train[features],\n",
    "                  X_train[\"duplicate_flag\"],verbose=100,\n",
    "                  eval_set=[(X_test[features], X_test[\"duplicate_flag\"])],\n",
    "                  early_stopping_rounds=40)\n",
    "\n",
    "        preds = model.predict_proba(X_test[features])[:, 1]\n",
    "        preds_train = model.predict_proba(X_train[features])[:, 1]\n",
    "        cv_scores[fold] = roc_auc_score(X_test[\"duplicate_flag\"], preds)\n",
    "        cv_scores_train[fold] = roc_auc_score(X_train[\"duplicate_flag\"],\n",
    "                                              preds_train)\n",
    "    print(f\"train auc score = {np.mean(cv_scores_train)}\")\n",
    "    print(f\"test auc score = {np.mean(cv_scores)}\")\n",
    "    mlflow.log_metric('train_auc', np.mean(cv_scores_train))\n",
    "    mlflow.log_metric('test_auc', np.mean(cv_scores))\n",
    "    return np.mean(cv_scores)"
   ]
  },
  {
   "cell_type": "code",
   "execution_count": 8,
   "metadata": {},
   "outputs": [
    {
     "name": "stderr",
     "output_type": "stream",
     "text": [
      "\u001b[32m[I 2023-01-13 13:57:54,165]\u001b[0m A new study created in memory with name: parameter_tuning_GBR_2023_01_13_13_57\u001b[0m\n",
      "Default metric period is 5 because AUC is/are not implemented for GPU\n"
     ]
    },
    {
     "name": "stdout",
     "output_type": "stream",
     "text": [
      "0:\ttest: 0.9920742\tbest: 0.9920742 (0)\ttotal: 30.1ms\tremaining: 5m 1s\n",
      "100:\ttest: 0.9999019\tbest: 0.9999019 (100)\ttotal: 1.13s\tremaining: 1m 50s\n",
      "200:\ttest: 0.9999135\tbest: 0.9999139 (193)\ttotal: 2.24s\tremaining: 1m 49s\n",
      "bestTest = 0.9999167323\n",
      "bestIteration = 242\n",
      "Shrink model to first 243 iterations.\n"
     ]
    },
    {
     "name": "stderr",
     "output_type": "stream",
     "text": [
      "Default metric period is 5 because AUC is/are not implemented for GPU\n"
     ]
    },
    {
     "name": "stdout",
     "output_type": "stream",
     "text": [
      "0:\ttest: 0.9926341\tbest: 0.9926341 (0)\ttotal: 14.4ms\tremaining: 2m 23s\n",
      "100:\ttest: 0.9999115\tbest: 0.9999116 (98)\ttotal: 1.15s\tremaining: 1m 52s\n",
      "200:\ttest: 0.9999218\tbest: 0.9999225 (197)\ttotal: 2.29s\tremaining: 1m 51s\n",
      "bestTest = 0.9999258518\n",
      "bestIteration = 247\n",
      "Shrink model to first 248 iterations.\n"
     ]
    },
    {
     "name": "stderr",
     "output_type": "stream",
     "text": [
      "Default metric period is 5 because AUC is/are not implemented for GPU\n"
     ]
    },
    {
     "name": "stdout",
     "output_type": "stream",
     "text": [
      "0:\ttest: 0.9928498\tbest: 0.9928498 (0)\ttotal: 11.4ms\tremaining: 1m 53s\n",
      "100:\ttest: 0.9998926\tbest: 0.9998926 (100)\ttotal: 1.16s\tremaining: 1m 54s\n",
      "200:\ttest: 0.9999067\tbest: 0.9999068 (196)\ttotal: 2.31s\tremaining: 1m 52s\n",
      "300:\ttest: 0.9999109\tbest: 0.9999109 (281)\ttotal: 3.49s\tremaining: 1m 52s\n",
      "bestTest = 0.9999130368\n",
      "bestIteration = 325\n",
      "Shrink model to first 326 iterations.\n"
     ]
    },
    {
     "name": "stderr",
     "output_type": "stream",
     "text": [
      "Default metric period is 5 because AUC is/are not implemented for GPU\n"
     ]
    },
    {
     "name": "stdout",
     "output_type": "stream",
     "text": [
      "0:\ttest: 0.9925817\tbest: 0.9925817 (0)\ttotal: 11.5ms\tremaining: 1m 54s\n",
      "100:\ttest: 0.9999126\tbest: 0.9999126 (100)\ttotal: 1.13s\tremaining: 1m 51s\n",
      "200:\ttest: 0.9999259\tbest: 0.9999260 (198)\ttotal: 2.31s\tremaining: 1m 52s\n",
      "bestTest = 0.9999260306\n",
      "bestIteration = 198\n",
      "Shrink model to first 199 iterations.\n"
     ]
    },
    {
     "name": "stderr",
     "output_type": "stream",
     "text": [
      "Default metric period is 5 because AUC is/are not implemented for GPU\n"
     ]
    },
    {
     "name": "stdout",
     "output_type": "stream",
     "text": [
      "0:\ttest: 0.9928177\tbest: 0.9928177 (0)\ttotal: 11.4ms\tremaining: 1m 54s\n",
      "100:\ttest: 0.9999115\tbest: 0.9999122 (97)\ttotal: 1.3s\tremaining: 2m 8s\n",
      "200:\ttest: 0.9999242\tbest: 0.9999242 (200)\ttotal: 2.55s\tremaining: 2m 4s\n",
      "bestTest = 0.9999248087\n",
      "bestIteration = 236\n",
      "Shrink model to first 237 iterations.\n",
      "train auc score = 0.9999832023648919\n",
      "test auc score = 0.9999212591015677\n"
     ]
    },
    {
     "name": "stderr",
     "output_type": "stream",
     "text": [
      "\u001b[32m[I 2023-01-13 13:58:23,313]\u001b[0m Trial 0 finished with value: 0.9999212591015677 and parameters: {'depth': 8, 'border_count': 38, 'min_data_in_leaf': 544, 'l2_leaf_reg': 0.027009596511052936}. Best is trial 0 with value: 0.9999212591015677.\u001b[0m\n",
      "Default metric period is 5 because AUC is/are not implemented for GPU\n"
     ]
    },
    {
     "name": "stdout",
     "output_type": "stream",
     "text": [
      "0:\ttest: 0.9994672\tbest: 0.9994672 (0)\ttotal: 322ms\tremaining: 53m 43s\n",
      "100:\ttest: 0.9999297\tbest: 0.9999298 (96)\ttotal: 32.6s\tremaining: 53m 15s\n",
      "200:\ttest: 0.9999335\tbest: 0.9999337 (199)\ttotal: 1m 4s\tremaining: 52m 43s\n",
      "bestTest = 0.9999344945\n",
      "bestIteration = 211\n",
      "Shrink model to first 212 iterations.\n"
     ]
    },
    {
     "name": "stderr",
     "output_type": "stream",
     "text": [
      "Default metric period is 5 because AUC is/are not implemented for GPU\n"
     ]
    },
    {
     "name": "stdout",
     "output_type": "stream",
     "text": [
      "0:\ttest: 0.9993717\tbest: 0.9993717 (0)\ttotal: 326ms\tremaining: 54m 24s\n",
      "100:\ttest: 0.9999348\tbest: 0.9999360 (78)\ttotal: 32.7s\tremaining: 53m 25s\n",
      "bestTest = 0.9999359846\n",
      "bestIteration = 78\n",
      "Shrink model to first 79 iterations.\n"
     ]
    },
    {
     "name": "stderr",
     "output_type": "stream",
     "text": [
      "Default metric period is 5 because AUC is/are not implemented for GPU\n"
     ]
    },
    {
     "name": "stdout",
     "output_type": "stream",
     "text": [
      "0:\ttest: 0.9994186\tbest: 0.9994186 (0)\ttotal: 322ms\tremaining: 53m 42s\n",
      "100:\ttest: 0.9999282\tbest: 0.9999282 (98)\ttotal: 32.7s\tremaining: 53m 23s\n",
      "200:\ttest: 0.9999337\tbest: 0.9999338 (193)\ttotal: 1m 4s\tremaining: 52m 46s\n",
      "bestTest = 0.9999343753\n",
      "bestIteration = 218\n",
      "Shrink model to first 219 iterations.\n"
     ]
    },
    {
     "name": "stderr",
     "output_type": "stream",
     "text": [
      "Default metric period is 5 because AUC is/are not implemented for GPU\n"
     ]
    },
    {
     "name": "stdout",
     "output_type": "stream",
     "text": [
      "0:\ttest: 0.9995147\tbest: 0.9995147 (0)\ttotal: 322ms\tremaining: 53m 44s\n",
      "100:\ttest: 0.9999237\tbest: 0.9999253 (79)\ttotal: 32.7s\tremaining: 53m 23s\n",
      "bestTest = 0.9999279976\n",
      "bestIteration = 153\n",
      "Shrink model to first 154 iterations.\n"
     ]
    },
    {
     "name": "stderr",
     "output_type": "stream",
     "text": [
      "Default metric period is 5 because AUC is/are not implemented for GPU\n"
     ]
    },
    {
     "name": "stdout",
     "output_type": "stream",
     "text": [
      "0:\ttest: 0.9995439\tbest: 0.9995439 (0)\ttotal: 337ms\tremaining: 56m 6s\n",
      "bestTest = 0.9999358654\n",
      "bestIteration = 58\n",
      "Shrink model to first 59 iterations.\n"
     ]
    },
    {
     "name": "stderr",
     "output_type": "stream",
     "text": [
      "\u001b[32m[I 2023-01-13 14:03:32,679]\u001b[0m Trial 1 finished with value: 0.9999337145975616 and parameters: {'depth': 15, 'border_count': 150, 'min_data_in_leaf': 6797, 'l2_leaf_reg': 0.2608385004803975}. Best is trial 1 with value: 0.9999337145975616.\u001b[0m\n"
     ]
    },
    {
     "name": "stdout",
     "output_type": "stream",
     "text": [
      "train auc score = 0.9999972704892617\n",
      "test auc score = 0.9999337145975616\n"
     ]
    },
    {
     "name": "stderr",
     "output_type": "stream",
     "text": [
      "Default metric period is 5 because AUC is/are not implemented for GPU\n"
     ]
    },
    {
     "name": "stdout",
     "output_type": "stream",
     "text": [
      "0:\ttest: 0.9988315\tbest: 0.9988315 (0)\ttotal: 53.5ms\tremaining: 8m 54s\n",
      "100:\ttest: 0.9999140\tbest: 0.9999146 (94)\ttotal: 6.1s\tremaining: 9m 58s\n",
      "bestTest = 0.9999175072\n",
      "bestIteration = 126\n",
      "Shrink model to first 127 iterations.\n"
     ]
    },
    {
     "name": "stderr",
     "output_type": "stream",
     "text": [
      "Default metric period is 5 because AUC is/are not implemented for GPU\n"
     ]
    },
    {
     "name": "stdout",
     "output_type": "stream",
     "text": [
      "0:\ttest: 0.9986825\tbest: 0.9986825 (0)\ttotal: 55.3ms\tremaining: 9m 12s\n",
      "100:\ttest: 0.9999253\tbest: 0.9999257 (99)\ttotal: 5.35s\tremaining: 8m 44s\n",
      "200:\ttest: 0.9999295\tbest: 0.9999303 (191)\ttotal: 11s\tremaining: 8m 58s\n",
      "bestTest = 0.9999302626\n",
      "bestIteration = 191\n",
      "Shrink model to first 192 iterations.\n"
     ]
    },
    {
     "name": "stderr",
     "output_type": "stream",
     "text": [
      "Default metric period is 5 because AUC is/are not implemented for GPU\n"
     ]
    },
    {
     "name": "stdout",
     "output_type": "stream",
     "text": [
      "0:\ttest: 0.9987716\tbest: 0.9987716 (0)\ttotal: 53.7ms\tremaining: 8m 56s\n",
      "100:\ttest: 0.9999213\tbest: 0.9999213 (100)\ttotal: 5.42s\tremaining: 8m 51s\n",
      "bestTest = 0.9999235272\n",
      "bestIteration = 138\n",
      "Shrink model to first 139 iterations.\n"
     ]
    },
    {
     "name": "stderr",
     "output_type": "stream",
     "text": [
      "Default metric period is 5 because AUC is/are not implemented for GPU\n"
     ]
    },
    {
     "name": "stdout",
     "output_type": "stream",
     "text": [
      "0:\ttest: 0.9990151\tbest: 0.9990151 (0)\ttotal: 60.5ms\tremaining: 10m 4s\n",
      "100:\ttest: 0.9999201\tbest: 0.9999207 (99)\ttotal: 5.72s\tremaining: 9m 20s\n",
      "200:\ttest: 0.9999223\tbest: 0.9999235 (163)\ttotal: 11.1s\tremaining: 8m 59s\n",
      "bestTest = 0.9999234676\n",
      "bestIteration = 163\n",
      "Shrink model to first 164 iterations.\n"
     ]
    },
    {
     "name": "stderr",
     "output_type": "stream",
     "text": [
      "Default metric period is 5 because AUC is/are not implemented for GPU\n"
     ]
    },
    {
     "name": "stdout",
     "output_type": "stream",
     "text": [
      "0:\ttest: 0.9990395\tbest: 0.9990395 (0)\ttotal: 53.8ms\tremaining: 8m 57s\n",
      "100:\ttest: 0.9999221\tbest: 0.9999228 (78)\ttotal: 5.99s\tremaining: 9m 47s\n",
      "bestTest = 0.9999244809\n",
      "bestIteration = 140\n",
      "Shrink model to first 141 iterations.\n"
     ]
    },
    {
     "name": "stderr",
     "output_type": "stream",
     "text": [
      "\u001b[32m[I 2023-01-13 14:04:36,066]\u001b[0m Trial 2 finished with value: 0.999923854115862 and parameters: {'depth': 12, 'border_count': 213, 'min_data_in_leaf': 2489, 'l2_leaf_reg': 0.076242811793785}. Best is trial 1 with value: 0.9999337145975616.\u001b[0m\n"
     ]
    },
    {
     "name": "stdout",
     "output_type": "stream",
     "text": [
      "train auc score = 0.9999964890089281\n",
      "test auc score = 0.999923854115862\n"
     ]
    },
    {
     "name": "stderr",
     "output_type": "stream",
     "text": [
      "Default metric period is 5 because AUC is/are not implemented for GPU\n"
     ]
    },
    {
     "name": "stdout",
     "output_type": "stream",
     "text": [
      "0:\ttest: 0.9964055\tbest: 0.9964055 (0)\ttotal: 16.7ms\tremaining: 2m 46s\n",
      "100:\ttest: 0.9998802\tbest: 0.9998806 (99)\ttotal: 1.04s\tremaining: 1m 41s\n",
      "200:\ttest: 0.9999020\tbest: 0.9999020 (200)\ttotal: 1.98s\tremaining: 1m 36s\n",
      "bestTest = 0.9999030828\n",
      "bestIteration = 248\n",
      "Shrink model to first 249 iterations.\n"
     ]
    },
    {
     "name": "stderr",
     "output_type": "stream",
     "text": [
      "Default metric period is 5 because AUC is/are not implemented for GPU\n"
     ]
    },
    {
     "name": "stdout",
     "output_type": "stream",
     "text": [
      "0:\ttest: 0.9968443\tbest: 0.9968443 (0)\ttotal: 10.1ms\tremaining: 1m 41s\n",
      "100:\ttest: 0.9999029\tbest: 0.9999029 (100)\ttotal: 1.08s\tremaining: 1m 46s\n",
      "200:\ttest: 0.9999168\tbest: 0.9999170 (197)\ttotal: 2.03s\tremaining: 1m 39s\n",
      "300:\ttest: 0.9999210\tbest: 0.9999226 (282)\ttotal: 3.05s\tremaining: 1m 38s\n",
      "bestTest = 0.9999225736\n",
      "bestIteration = 282\n",
      "Shrink model to first 283 iterations.\n"
     ]
    },
    {
     "name": "stderr",
     "output_type": "stream",
     "text": [
      "Default metric period is 5 because AUC is/are not implemented for GPU\n"
     ]
    },
    {
     "name": "stdout",
     "output_type": "stream",
     "text": [
      "0:\ttest: 0.9965470\tbest: 0.9965470 (0)\ttotal: 10.2ms\tremaining: 1m 42s\n",
      "100:\ttest: 0.9998972\tbest: 0.9998972 (100)\ttotal: 1.13s\tremaining: 1m 50s\n",
      "200:\ttest: 0.9999118\tbest: 0.9999121 (197)\ttotal: 2.16s\tremaining: 1m 45s\n",
      "300:\ttest: 0.9999176\tbest: 0.9999179 (278)\ttotal: 3.21s\tremaining: 1m 43s\n",
      "400:\ttest: 0.9999216\tbest: 0.9999216 (396)\ttotal: 4.18s\tremaining: 1m 40s\n",
      "500:\ttest: 0.9999235\tbest: 0.9999235 (500)\ttotal: 5.17s\tremaining: 1m 38s\n",
      "600:\ttest: 0.9999249\tbest: 0.9999255 (595)\ttotal: 6.15s\tremaining: 1m 36s\n",
      "bestTest = 0.999925524\n",
      "bestIteration = 595\n",
      "Shrink model to first 596 iterations.\n"
     ]
    },
    {
     "name": "stderr",
     "output_type": "stream",
     "text": [
      "Default metric period is 5 because AUC is/are not implemented for GPU\n"
     ]
    },
    {
     "name": "stdout",
     "output_type": "stream",
     "text": [
      "0:\ttest: 0.9970932\tbest: 0.9970932 (0)\ttotal: 10ms\tremaining: 1m 40s\n",
      "100:\ttest: 0.9998915\tbest: 0.9998915 (99)\ttotal: 1.02s\tremaining: 1m 39s\n",
      "200:\ttest: 0.9999098\tbest: 0.9999103 (197)\ttotal: 2s\tremaining: 1m 37s\n",
      "bestTest = 0.9999106526\n",
      "bestIteration = 216\n",
      "Shrink model to first 217 iterations.\n"
     ]
    },
    {
     "name": "stderr",
     "output_type": "stream",
     "text": [
      "Default metric period is 5 because AUC is/are not implemented for GPU\n"
     ]
    },
    {
     "name": "stdout",
     "output_type": "stream",
     "text": [
      "0:\ttest: 0.9970488\tbest: 0.9970488 (0)\ttotal: 10ms\tremaining: 1m 40s\n",
      "100:\ttest: 0.9999054\tbest: 0.9999055 (97)\ttotal: 1.01s\tremaining: 1m 39s\n",
      "200:\ttest: 0.9999168\tbest: 0.9999168 (200)\ttotal: 1.98s\tremaining: 1m 36s\n",
      "300:\ttest: 0.9999223\tbest: 0.9999224 (296)\ttotal: 3.05s\tremaining: 1m 38s\n",
      "400:\ttest: 0.9999256\tbest: 0.9999264 (375)\ttotal: 4.14s\tremaining: 1m 39s\n",
      "bestTest = 0.9999263585\n",
      "bestIteration = 375\n",
      "Shrink model to first 376 iterations.\n"
     ]
    },
    {
     "name": "stderr",
     "output_type": "stream",
     "text": [
      "\u001b[32m[I 2023-01-13 14:05:04,323]\u001b[0m Trial 3 finished with value: 0.9999176502142667 and parameters: {'depth': 7, 'border_count': 224, 'min_data_in_leaf': 3854, 'l2_leaf_reg': 0.016100933123164803}. Best is trial 1 with value: 0.9999337145975616.\u001b[0m\n"
     ]
    },
    {
     "name": "stdout",
     "output_type": "stream",
     "text": [
      "train auc score = 0.9999792535569556\n",
      "test auc score = 0.9999176502142667\n"
     ]
    },
    {
     "name": "stderr",
     "output_type": "stream",
     "text": [
      "Default metric period is 5 because AUC is/are not implemented for GPU\n"
     ]
    },
    {
     "name": "stdout",
     "output_type": "stream",
     "text": [
      "0:\ttest: 0.9982129\tbest: 0.9982129 (0)\ttotal: 15ms\tremaining: 2m 29s\n",
      "100:\ttest: 0.9999035\tbest: 0.9999035 (100)\ttotal: 1.51s\tremaining: 2m 28s\n",
      "200:\ttest: 0.9999194\tbest: 0.9999194 (193)\ttotal: 3.02s\tremaining: 2m 27s\n",
      "bestTest = 0.999920249\n",
      "bestIteration = 220\n",
      "Shrink model to first 221 iterations.\n"
     ]
    },
    {
     "name": "stderr",
     "output_type": "stream",
     "text": [
      "Default metric period is 5 because AUC is/are not implemented for GPU\n"
     ]
    },
    {
     "name": "stdout",
     "output_type": "stream",
     "text": [
      "0:\ttest: 0.9979225\tbest: 0.9979225 (0)\ttotal: 18.8ms\tremaining: 3m 8s\n",
      "100:\ttest: 0.9999157\tbest: 0.9999157 (100)\ttotal: 1.53s\tremaining: 2m 30s\n",
      "200:\ttest: 0.9999277\tbest: 0.9999279 (197)\ttotal: 3.02s\tremaining: 2m 27s\n",
      "300:\ttest: 0.9999339\tbest: 0.9999339 (300)\ttotal: 4.42s\tremaining: 2m 22s\n",
      "400:\ttest: 0.9999373\tbest: 0.9999373 (394)\ttotal: 5.83s\tremaining: 2m 19s\n",
      "500:\ttest: 0.9999397\tbest: 0.9999398 (481)\ttotal: 7.42s\tremaining: 2m 20s\n",
      "bestTest = 0.999940455\n",
      "bestIteration = 513\n",
      "Shrink model to first 514 iterations.\n"
     ]
    },
    {
     "name": "stderr",
     "output_type": "stream",
     "text": [
      "Default metric period is 5 because AUC is/are not implemented for GPU\n"
     ]
    },
    {
     "name": "stdout",
     "output_type": "stream",
     "text": [
      "0:\ttest: 0.9983108\tbest: 0.9983108 (0)\ttotal: 16ms\tremaining: 2m 39s\n",
      "100:\ttest: 0.9999104\tbest: 0.9999104 (100)\ttotal: 1.6s\tremaining: 2m 36s\n",
      "200:\ttest: 0.9999196\tbest: 0.9999196 (200)\ttotal: 3.25s\tremaining: 2m 38s\n",
      "300:\ttest: 0.9999242\tbest: 0.9999242 (299)\ttotal: 4.8s\tremaining: 2m 34s\n",
      "400:\ttest: 0.9999270\tbest: 0.9999270 (398)\ttotal: 6.3s\tremaining: 2m 30s\n",
      "bestTest = 0.9999275208\n",
      "bestIteration = 409\n",
      "Shrink model to first 410 iterations.\n"
     ]
    },
    {
     "name": "stderr",
     "output_type": "stream",
     "text": [
      "Default metric period is 5 because AUC is/are not implemented for GPU\n"
     ]
    },
    {
     "name": "stdout",
     "output_type": "stream",
     "text": [
      "0:\ttest: 0.9984728\tbest: 0.9984728 (0)\ttotal: 14.4ms\tremaining: 2m 24s\n",
      "100:\ttest: 0.9999165\tbest: 0.9999165 (100)\ttotal: 1.53s\tremaining: 2m 30s\n",
      "200:\ttest: 0.9999279\tbest: 0.9999284 (195)\ttotal: 3.14s\tremaining: 2m 32s\n",
      "300:\ttest: 0.9999304\tbest: 0.9999308 (298)\ttotal: 4.66s\tremaining: 2m 30s\n",
      "bestTest = 0.999930799\n",
      "bestIteration = 298\n",
      "Shrink model to first 299 iterations.\n"
     ]
    },
    {
     "name": "stderr",
     "output_type": "stream",
     "text": [
      "Default metric period is 5 because AUC is/are not implemented for GPU\n"
     ]
    },
    {
     "name": "stdout",
     "output_type": "stream",
     "text": [
      "0:\ttest: 0.9984313\tbest: 0.9984313 (0)\ttotal: 14.7ms\tremaining: 2m 27s\n",
      "100:\ttest: 0.9999220\tbest: 0.9999220 (100)\ttotal: 1.53s\tremaining: 2m 30s\n",
      "200:\ttest: 0.9999313\tbest: 0.9999313 (200)\ttotal: 2.92s\tremaining: 2m 22s\n",
      "bestTest = 0.9999322295\n",
      "bestIteration = 220\n",
      "Shrink model to first 221 iterations.\n"
     ]
    },
    {
     "name": "stderr",
     "output_type": "stream",
     "text": [
      "\u001b[32m[I 2023-01-13 14:05:42,143]\u001b[0m Trial 4 finished with value: 0.9999302188958368 and parameters: {'depth': 9, 'border_count': 103, 'min_data_in_leaf': 4276, 'l2_leaf_reg': 0.3268585355147309}. Best is trial 1 with value: 0.9999337145975616.\u001b[0m\n"
     ]
    },
    {
     "name": "stdout",
     "output_type": "stream",
     "text": [
      "train auc score = 0.999991139490439\n",
      "test auc score = 0.9999302188958368\n"
     ]
    },
    {
     "name": "stderr",
     "output_type": "stream",
     "text": [
      "Default metric period is 5 because AUC is/are not implemented for GPU\n"
     ]
    },
    {
     "name": "stdout",
     "output_type": "stream",
     "text": [
      "0:\ttest: 0.9988168\tbest: 0.9988168 (0)\ttotal: 53.7ms\tremaining: 8m 56s\n",
      "100:\ttest: 0.9999056\tbest: 0.9999075 (95)\ttotal: 5.57s\tremaining: 9m 5s\n",
      "bestTest = 0.9999101758\n",
      "bestIteration = 124\n",
      "Shrink model to first 125 iterations.\n"
     ]
    },
    {
     "name": "stderr",
     "output_type": "stream",
     "text": [
      "Default metric period is 5 because AUC is/are not implemented for GPU\n"
     ]
    },
    {
     "name": "stdout",
     "output_type": "stream",
     "text": [
      "0:\ttest: 0.9986404\tbest: 0.9986404 (0)\ttotal: 53.8ms\tremaining: 8m 58s\n",
      "100:\ttest: 0.9999183\tbest: 0.9999183 (100)\ttotal: 5.72s\tremaining: 9m 20s\n",
      "200:\ttest: 0.9999210\tbest: 0.9999217 (177)\ttotal: 11.4s\tremaining: 9m 17s\n",
      "bestTest = 0.9999216795\n",
      "bestIteration = 177\n",
      "Shrink model to first 178 iterations.\n"
     ]
    },
    {
     "name": "stderr",
     "output_type": "stream",
     "text": [
      "Default metric period is 5 because AUC is/are not implemented for GPU\n"
     ]
    },
    {
     "name": "stdout",
     "output_type": "stream",
     "text": [
      "0:\ttest: 0.9987205\tbest: 0.9987205 (0)\ttotal: 58.5ms\tremaining: 9m 44s\n",
      "100:\ttest: 0.9999136\tbest: 0.9999139 (97)\ttotal: 5.61s\tremaining: 9m 9s\n",
      "bestTest = 0.9999143481\n",
      "bestIteration = 103\n",
      "Shrink model to first 104 iterations.\n"
     ]
    },
    {
     "name": "stderr",
     "output_type": "stream",
     "text": [
      "Default metric period is 5 because AUC is/are not implemented for GPU\n"
     ]
    },
    {
     "name": "stdout",
     "output_type": "stream",
     "text": [
      "0:\ttest: 0.9989980\tbest: 0.9989980 (0)\ttotal: 53.9ms\tremaining: 8m 58s\n",
      "100:\ttest: 0.9999006\tbest: 0.9999041 (82)\ttotal: 6.54s\tremaining: 10m 40s\n",
      "200:\ttest: 0.9999077\tbest: 0.9999106 (170)\ttotal: 12s\tremaining: 9m 43s\n",
      "bestTest = 0.999910593\n",
      "bestIteration = 170\n",
      "Shrink model to first 171 iterations.\n"
     ]
    },
    {
     "name": "stderr",
     "output_type": "stream",
     "text": [
      "Default metric period is 5 because AUC is/are not implemented for GPU\n"
     ]
    },
    {
     "name": "stdout",
     "output_type": "stream",
     "text": [
      "0:\ttest: 0.9989870\tbest: 0.9989870 (0)\ttotal: 53.6ms\tremaining: 8m 55s\n",
      "100:\ttest: 0.9999112\tbest: 0.9999147 (73)\ttotal: 5.5s\tremaining: 8m 58s\n",
      "bestTest = 0.9999147058\n",
      "bestIteration = 73\n",
      "Shrink model to first 74 iterations.\n"
     ]
    },
    {
     "name": "stderr",
     "output_type": "stream",
     "text": [
      "\u001b[32m[I 2023-01-13 14:06:39,417]\u001b[0m Trial 5 finished with value: 0.9999142755106704 and parameters: {'depth': 12, 'border_count': 241, 'min_data_in_leaf': 6907, 'l2_leaf_reg': 0.007204081562965327}. Best is trial 1 with value: 0.9999337145975616.\u001b[0m\n"
     ]
    },
    {
     "name": "stdout",
     "output_type": "stream",
     "text": [
      "train auc score = 0.9999932959549959\n",
      "test auc score = 0.9999142755106704\n"
     ]
    },
    {
     "name": "stderr",
     "output_type": "stream",
     "text": [
      "Default metric period is 5 because AUC is/are not implemented for GPU\n"
     ]
    },
    {
     "name": "stdout",
     "output_type": "stream",
     "text": [
      "0:\ttest: 0.9979905\tbest: 0.9979905 (0)\ttotal: 11.8ms\tremaining: 1m 57s\n",
      "100:\ttest: 0.9998844\tbest: 0.9998844 (100)\ttotal: 1.32s\tremaining: 2m 9s\n",
      "200:\ttest: 0.9999018\tbest: 0.9999022 (199)\ttotal: 2.54s\tremaining: 2m 3s\n",
      "300:\ttest: 0.9999022\tbest: 0.9999046 (261)\ttotal: 3.88s\tremaining: 2m 5s\n",
      "bestTest = 0.999904573\n",
      "bestIteration = 261\n",
      "Shrink model to first 262 iterations.\n"
     ]
    },
    {
     "name": "stderr",
     "output_type": "stream",
     "text": [
      "Default metric period is 5 because AUC is/are not implemented for GPU\n"
     ]
    },
    {
     "name": "stdout",
     "output_type": "stream",
     "text": [
      "0:\ttest: 0.9977683\tbest: 0.9977683 (0)\ttotal: 14.3ms\tremaining: 2m 23s\n",
      "100:\ttest: 0.9999073\tbest: 0.9999073 (100)\ttotal: 1.21s\tremaining: 1m 58s\n",
      "bestTest = 0.9999155998\n",
      "bestIteration = 147\n",
      "Shrink model to first 148 iterations.\n"
     ]
    },
    {
     "name": "stderr",
     "output_type": "stream",
     "text": [
      "Default metric period is 5 because AUC is/are not implemented for GPU\n"
     ]
    },
    {
     "name": "stdout",
     "output_type": "stream",
     "text": [
      "0:\ttest: 0.9980730\tbest: 0.9980730 (0)\ttotal: 11.9ms\tremaining: 1m 59s\n",
      "100:\ttest: 0.9999104\tbest: 0.9999104 (100)\ttotal: 1.28s\tremaining: 2m 5s\n",
      "bestTest = 0.9999144077\n",
      "bestIteration = 129\n",
      "Shrink model to first 130 iterations.\n"
     ]
    },
    {
     "name": "stderr",
     "output_type": "stream",
     "text": [
      "Default metric period is 5 because AUC is/are not implemented for GPU\n"
     ]
    },
    {
     "name": "stdout",
     "output_type": "stream",
     "text": [
      "0:\ttest: 0.9982926\tbest: 0.9982926 (0)\ttotal: 11.8ms\tremaining: 1m 57s\n",
      "100:\ttest: 0.9999018\tbest: 0.9999024 (99)\ttotal: 1.16s\tremaining: 1m 54s\n",
      "200:\ttest: 0.9999117\tbest: 0.9999132 (197)\ttotal: 2.43s\tremaining: 1m 58s\n",
      "300:\ttest: 0.9999178\tbest: 0.9999180 (296)\ttotal: 3.62s\tremaining: 1m 56s\n",
      "bestTest = 0.9999197125\n",
      "bestIteration = 323\n",
      "Shrink model to first 324 iterations.\n"
     ]
    },
    {
     "name": "stderr",
     "output_type": "stream",
     "text": [
      "Default metric period is 5 because AUC is/are not implemented for GPU\n"
     ]
    },
    {
     "name": "stdout",
     "output_type": "stream",
     "text": [
      "0:\ttest: 0.9982036\tbest: 0.9982036 (0)\ttotal: 11.9ms\tremaining: 1m 59s\n",
      "100:\ttest: 0.9999099\tbest: 0.9999111 (95)\ttotal: 1.26s\tremaining: 2m 3s\n",
      "bestTest = 0.9999168515\n",
      "bestIteration = 157\n",
      "Shrink model to first 158 iterations.\n"
     ]
    },
    {
     "name": "stderr",
     "output_type": "stream",
     "text": [
      "\u001b[32m[I 2023-01-13 14:07:03,068]\u001b[0m Trial 6 finished with value: 0.9999142116876161 and parameters: {'depth': 8, 'border_count': 177, 'min_data_in_leaf': 6586, 'l2_leaf_reg': 0.0043397788824810785}. Best is trial 1 with value: 0.9999337145975616.\u001b[0m\n"
     ]
    },
    {
     "name": "stdout",
     "output_type": "stream",
     "text": [
      "train auc score = 0.9999762858762326\n",
      "test auc score = 0.9999142116876161\n"
     ]
    },
    {
     "name": "stderr",
     "output_type": "stream",
     "text": [
      "Default metric period is 5 because AUC is/are not implemented for GPU\n"
     ]
    },
    {
     "name": "stdout",
     "output_type": "stream",
     "text": [
      "0:\ttest: 0.9862818\tbest: 0.9862818 (0)\ttotal: 7.97ms\tremaining: 1m 19s\n",
      "100:\ttest: 0.9998416\tbest: 0.9998416 (100)\ttotal: 788ms\tremaining: 1m 17s\n",
      "200:\ttest: 0.9998921\tbest: 0.9998921 (200)\ttotal: 1.56s\tremaining: 1m 16s\n",
      "300:\ttest: 0.9999061\tbest: 0.9999061 (299)\ttotal: 2.35s\tremaining: 1m 15s\n",
      "400:\ttest: 0.9999150\tbest: 0.9999157 (396)\ttotal: 3.08s\tremaining: 1m 13s\n",
      "500:\ttest: 0.9999185\tbest: 0.9999187 (494)\ttotal: 3.81s\tremaining: 1m 12s\n",
      "bestTest = 0.9999197721\n",
      "bestIteration = 516\n",
      "Shrink model to first 517 iterations.\n"
     ]
    },
    {
     "name": "stderr",
     "output_type": "stream",
     "text": [
      "Default metric period is 5 because AUC is/are not implemented for GPU\n"
     ]
    },
    {
     "name": "stdout",
     "output_type": "stream",
     "text": [
      "0:\ttest: 0.9878185\tbest: 0.9878185 (0)\ttotal: 7.96ms\tremaining: 1m 19s\n",
      "100:\ttest: 0.9998571\tbest: 0.9998571 (100)\ttotal: 754ms\tremaining: 1m 13s\n",
      "200:\ttest: 0.9999002\tbest: 0.9999002 (200)\ttotal: 1.53s\tremaining: 1m 14s\n",
      "300:\ttest: 0.9999087\tbest: 0.9999093 (295)\ttotal: 2.29s\tremaining: 1m 13s\n",
      "400:\ttest: 0.9999115\tbest: 0.9999120 (387)\ttotal: 3.04s\tremaining: 1m 12s\n",
      "500:\ttest: 0.9999170\tbest: 0.9999170 (500)\ttotal: 3.79s\tremaining: 1m 11s\n",
      "600:\ttest: 0.9999199\tbest: 0.9999199 (598)\ttotal: 4.57s\tremaining: 1m 11s\n",
      "700:\ttest: 0.9999236\tbest: 0.9999237 (689)\ttotal: 5.34s\tremaining: 1m 10s\n",
      "bestTest = 0.9999237061\n",
      "bestIteration = 689\n",
      "Shrink model to first 690 iterations.\n"
     ]
    },
    {
     "name": "stderr",
     "output_type": "stream",
     "text": [
      "Default metric period is 5 because AUC is/are not implemented for GPU\n"
     ]
    },
    {
     "name": "stdout",
     "output_type": "stream",
     "text": [
      "0:\ttest: 0.9866754\tbest: 0.9866754 (0)\ttotal: 8.22ms\tremaining: 1m 22s\n",
      "100:\ttest: 0.9998659\tbest: 0.9998659 (100)\ttotal: 827ms\tremaining: 1m 21s\n",
      "200:\ttest: 0.9998966\tbest: 0.9998966 (200)\ttotal: 1.71s\tremaining: 1m 23s\n",
      "bestTest = 0.9999001622\n",
      "bestIteration = 234\n",
      "Shrink model to first 235 iterations.\n"
     ]
    },
    {
     "name": "stderr",
     "output_type": "stream",
     "text": [
      "Default metric period is 5 because AUC is/are not implemented for GPU\n"
     ]
    },
    {
     "name": "stdout",
     "output_type": "stream",
     "text": [
      "0:\ttest: 0.9873571\tbest: 0.9873571 (0)\ttotal: 7.98ms\tremaining: 1m 19s\n",
      "100:\ttest: 0.9998590\tbest: 0.9998590 (100)\ttotal: 767ms\tremaining: 1m 15s\n",
      "200:\ttest: 0.9998887\tbest: 0.9998887 (200)\ttotal: 1.51s\tremaining: 1m 13s\n",
      "300:\ttest: 0.9999018\tbest: 0.9999020 (286)\ttotal: 2.32s\tremaining: 1m 14s\n",
      "400:\ttest: 0.9999062\tbest: 0.9999062 (396)\ttotal: 3.05s\tremaining: 1m 12s\n",
      "500:\ttest: 0.9999099\tbest: 0.9999121 (469)\ttotal: 3.82s\tremaining: 1m 12s\n",
      "bestTest = 0.9999121428\n",
      "bestIteration = 469\n",
      "Shrink model to first 470 iterations.\n"
     ]
    },
    {
     "name": "stderr",
     "output_type": "stream",
     "text": [
      "Default metric period is 5 because AUC is/are not implemented for GPU\n"
     ]
    },
    {
     "name": "stdout",
     "output_type": "stream",
     "text": [
      "0:\ttest: 0.9869902\tbest: 0.9869902 (0)\ttotal: 8.2ms\tremaining: 1m 21s\n",
      "100:\ttest: 0.9998729\tbest: 0.9998729 (100)\ttotal: 777ms\tremaining: 1m 16s\n",
      "200:\ttest: 0.9999008\tbest: 0.9999017 (187)\ttotal: 1.57s\tremaining: 1m 16s\n",
      "300:\ttest: 0.9999126\tbest: 0.9999126 (300)\ttotal: 2.44s\tremaining: 1m 18s\n",
      "400:\ttest: 0.9999174\tbest: 0.9999185 (391)\ttotal: 3.19s\tremaining: 1m 16s\n",
      "bestTest = 0.9999207258\n",
      "bestIteration = 435\n",
      "Shrink model to first 436 iterations.\n"
     ]
    },
    {
     "name": "stderr",
     "output_type": "stream",
     "text": [
      "\u001b[32m[I 2023-01-13 14:07:31,651]\u001b[0m Trial 7 finished with value: 0.9999152707911769 and parameters: {'depth': 5, 'border_count': 220, 'min_data_in_leaf': 4210, 'l2_leaf_reg': 0.005819588621116329}. Best is trial 1 with value: 0.9999337145975616.\u001b[0m\n"
     ]
    },
    {
     "name": "stdout",
     "output_type": "stream",
     "text": [
      "train auc score = 0.9999607707553594\n",
      "test auc score = 0.9999152707911769\n"
     ]
    },
    {
     "name": "stderr",
     "output_type": "stream",
     "text": [
      "Default metric period is 5 because AUC is/are not implemented for GPU\n"
     ]
    },
    {
     "name": "stdout",
     "output_type": "stream",
     "text": [
      "0:\ttest: 0.9986886\tbest: 0.9986886 (0)\ttotal: 32.7ms\tremaining: 5m 26s\n",
      "100:\ttest: 0.9999155\tbest: 0.9999156 (98)\ttotal: 3.33s\tremaining: 5m 26s\n",
      "200:\ttest: 0.9999274\tbest: 0.9999275 (198)\ttotal: 6.56s\tremaining: 5m 20s\n",
      "300:\ttest: 0.9999304\tbest: 0.9999304 (278)\ttotal: 9.85s\tremaining: 5m 17s\n",
      "bestTest = 0.9999316931\n",
      "bestIteration = 326\n",
      "Shrink model to first 327 iterations.\n"
     ]
    },
    {
     "name": "stderr",
     "output_type": "stream",
     "text": [
      "Default metric period is 5 because AUC is/are not implemented for GPU\n"
     ]
    },
    {
     "name": "stdout",
     "output_type": "stream",
     "text": [
      "0:\ttest: 0.9985870\tbest: 0.9985870 (0)\ttotal: 34.3ms\tremaining: 5m 42s\n",
      "100:\ttest: 0.9999282\tbest: 0.9999282 (100)\ttotal: 3.35s\tremaining: 5m 28s\n",
      "200:\ttest: 0.9999324\tbest: 0.9999325 (199)\ttotal: 6.7s\tremaining: 5m 26s\n",
      "300:\ttest: 0.9999363\tbest: 0.9999363 (295)\ttotal: 9.84s\tremaining: 5m 17s\n",
      "bestTest = 0.9999367595\n",
      "bestIteration = 313\n",
      "Shrink model to first 314 iterations.\n"
     ]
    },
    {
     "name": "stderr",
     "output_type": "stream",
     "text": [
      "Default metric period is 5 because AUC is/are not implemented for GPU\n"
     ]
    },
    {
     "name": "stdout",
     "output_type": "stream",
     "text": [
      "0:\ttest: 0.9986806\tbest: 0.9986806 (0)\ttotal: 32.6ms\tremaining: 5m 25s\n",
      "100:\ttest: 0.9999222\tbest: 0.9999228 (97)\ttotal: 3.27s\tremaining: 5m 20s\n",
      "200:\ttest: 0.9999297\tbest: 0.9999298 (197)\ttotal: 6.5s\tremaining: 5m 16s\n",
      "bestTest = 0.9999328852\n",
      "bestIteration = 244\n",
      "Shrink model to first 245 iterations.\n"
     ]
    },
    {
     "name": "stderr",
     "output_type": "stream",
     "text": [
      "Default metric period is 5 because AUC is/are not implemented for GPU\n"
     ]
    },
    {
     "name": "stdout",
     "output_type": "stream",
     "text": [
      "0:\ttest: 0.9988779\tbest: 0.9988779 (0)\ttotal: 33.4ms\tremaining: 5m 33s\n",
      "100:\ttest: 0.9999254\tbest: 0.9999259 (84)\ttotal: 3.29s\tremaining: 5m 22s\n",
      "200:\ttest: 0.9999352\tbest: 0.9999356 (190)\ttotal: 6.65s\tremaining: 5m 24s\n",
      "300:\ttest: 0.9999372\tbest: 0.9999372 (296)\ttotal: 9.96s\tremaining: 5m 21s\n",
      "bestTest = 0.9999382496\n",
      "bestIteration = 352\n",
      "Shrink model to first 353 iterations.\n"
     ]
    },
    {
     "name": "stderr",
     "output_type": "stream",
     "text": [
      "Default metric period is 5 because AUC is/are not implemented for GPU\n"
     ]
    },
    {
     "name": "stdout",
     "output_type": "stream",
     "text": [
      "0:\ttest: 0.9989170\tbest: 0.9989170 (0)\ttotal: 32.6ms\tremaining: 5m 25s\n",
      "100:\ttest: 0.9999246\tbest: 0.9999246 (100)\ttotal: 3.19s\tremaining: 5m 12s\n",
      "200:\ttest: 0.9999311\tbest: 0.9999311 (194)\ttotal: 6.44s\tremaining: 5m 14s\n",
      "bestTest = 0.9999316931\n",
      "bestIteration = 214\n",
      "Shrink model to first 215 iterations.\n"
     ]
    },
    {
     "name": "stderr",
     "output_type": "stream",
     "text": [
      "\u001b[32m[I 2023-01-13 14:08:35,665]\u001b[0m Trial 8 finished with value: 0.9999342138846042 and parameters: {'depth': 11, 'border_count': 230, 'min_data_in_leaf': 5778, 'l2_leaf_reg': 0.43590751098304675}. Best is trial 8 with value: 0.9999342138846042.\u001b[0m\n"
     ]
    },
    {
     "name": "stdout",
     "output_type": "stream",
     "text": [
      "train auc score = 0.9999976944555394\n",
      "test auc score = 0.9999342138846042\n"
     ]
    },
    {
     "name": "stderr",
     "output_type": "stream",
     "text": [
      "Default metric period is 5 because AUC is/are not implemented for GPU\n"
     ]
    },
    {
     "name": "stdout",
     "output_type": "stream",
     "text": [
      "0:\ttest: 0.9988499\tbest: 0.9988499 (0)\ttotal: 51.1ms\tremaining: 8m 30s\n",
      "100:\ttest: 0.9999096\tbest: 0.9999107 (91)\ttotal: 5.22s\tremaining: 8m 31s\n",
      "200:\ttest: 0.9999162\tbest: 0.9999177 (169)\ttotal: 10.8s\tremaining: 8m 45s\n",
      "bestTest = 0.9999177456\n",
      "bestIteration = 169\n",
      "Shrink model to first 170 iterations.\n"
     ]
    },
    {
     "name": "stderr",
     "output_type": "stream",
     "text": [
      "Default metric period is 5 because AUC is/are not implemented for GPU\n"
     ]
    },
    {
     "name": "stdout",
     "output_type": "stream",
     "text": [
      "0:\ttest: 0.9987277\tbest: 0.9987277 (0)\ttotal: 56ms\tremaining: 9m 19s\n",
      "100:\ttest: 0.9999289\tbest: 0.9999290 (99)\ttotal: 5.76s\tremaining: 9m 24s\n",
      "bestTest = 0.9999349117\n",
      "bestIteration = 153\n",
      "Shrink model to first 154 iterations.\n"
     ]
    },
    {
     "name": "stderr",
     "output_type": "stream",
     "text": [
      "Default metric period is 5 because AUC is/are not implemented for GPU\n"
     ]
    },
    {
     "name": "stdout",
     "output_type": "stream",
     "text": [
      "0:\ttest: 0.9987854\tbest: 0.9987854 (0)\ttotal: 51.1ms\tremaining: 8m 31s\n",
      "100:\ttest: 0.9999192\tbest: 0.9999192 (97)\ttotal: 5.21s\tremaining: 8m 30s\n",
      "200:\ttest: 0.9999244\tbest: 0.9999244 (200)\ttotal: 10.3s\tremaining: 8m 21s\n",
      "300:\ttest: 0.9999267\tbest: 0.9999270 (296)\ttotal: 15.4s\tremaining: 8m 16s\n",
      "bestTest = 0.9999278486\n",
      "bestIteration = 342\n",
      "Shrink model to first 343 iterations.\n"
     ]
    },
    {
     "name": "stderr",
     "output_type": "stream",
     "text": [
      "Default metric period is 5 because AUC is/are not implemented for GPU\n"
     ]
    },
    {
     "name": "stdout",
     "output_type": "stream",
     "text": [
      "0:\ttest: 0.9989929\tbest: 0.9989929 (0)\ttotal: 51.2ms\tremaining: 8m 32s\n",
      "100:\ttest: 0.9999207\tbest: 0.9999210 (92)\ttotal: 5.26s\tremaining: 8m 35s\n",
      "200:\ttest: 0.9999280\tbest: 0.9999280 (200)\ttotal: 10.3s\tremaining: 8m 21s\n",
      "bestTest = 0.9999284744\n",
      "bestIteration = 216\n",
      "Shrink model to first 217 iterations.\n"
     ]
    },
    {
     "name": "stderr",
     "output_type": "stream",
     "text": [
      "Default metric period is 5 because AUC is/are not implemented for GPU\n"
     ]
    },
    {
     "name": "stdout",
     "output_type": "stream",
     "text": [
      "0:\ttest: 0.9990138\tbest: 0.9990138 (0)\ttotal: 51.3ms\tremaining: 8m 33s\n",
      "100:\ttest: 0.9999219\tbest: 0.9999249 (65)\ttotal: 5.62s\tremaining: 9m 10s\n",
      "bestTest = 0.9999248981\n",
      "bestIteration = 65\n",
      "Shrink model to first 66 iterations.\n"
     ]
    },
    {
     "name": "stderr",
     "output_type": "stream",
     "text": [
      "\u001b[32m[I 2023-01-13 14:09:46,222]\u001b[0m Trial 9 finished with value: 0.9999267650642395 and parameters: {'depth': 12, 'border_count': 153, 'min_data_in_leaf': 2970, 'l2_leaf_reg': 0.16051040466678954}. Best is trial 8 with value: 0.9999342138846042.\u001b[0m\n"
     ]
    },
    {
     "name": "stdout",
     "output_type": "stream",
     "text": [
      "train auc score = 0.9999939523618344\n",
      "test auc score = 0.9999267650642395\n"
     ]
    },
    {
     "name": "stderr",
     "output_type": "stream",
     "text": [
      "Default metric period is 5 because AUC is/are not implemented for GPU\n"
     ]
    },
    {
     "name": "stdout",
     "output_type": "stream",
     "text": [
      "0:\ttest: 0.9994349\tbest: 0.9994349 (0)\ttotal: 326ms\tremaining: 54m 22s\n",
      "bestTest = 0.999891758\n",
      "bestIteration = 47\n",
      "Shrink model to first 48 iterations.\n"
     ]
    },
    {
     "name": "stderr",
     "output_type": "stream",
     "text": [
      "Default metric period is 5 because AUC is/are not implemented for GPU\n"
     ]
    },
    {
     "name": "stdout",
     "output_type": "stream",
     "text": [
      "0:\ttest: 0.9993107\tbest: 0.9993107 (0)\ttotal: 324ms\tremaining: 54m 1s\n",
      "100:\ttest: 0.9999056\tbest: 0.9999090 (88)\ttotal: 32.3s\tremaining: 52m 46s\n",
      "bestTest = 0.9999089837\n",
      "bestIteration = 88\n",
      "Shrink model to first 89 iterations.\n"
     ]
    },
    {
     "name": "stderr",
     "output_type": "stream",
     "text": [
      "Default metric period is 5 because AUC is/are not implemented for GPU\n"
     ]
    },
    {
     "name": "stdout",
     "output_type": "stream",
     "text": [
      "0:\ttest: 0.9993128\tbest: 0.9993128 (0)\ttotal: 328ms\tremaining: 54m 44s\n",
      "100:\ttest: 0.9999077\tbest: 0.9999077 (100)\ttotal: 32.6s\tremaining: 53m 12s\n",
      "bestTest = 0.9999085665\n",
      "bestIteration = 106\n",
      "Shrink model to first 107 iterations.\n"
     ]
    },
    {
     "name": "stderr",
     "output_type": "stream",
     "text": [
      "Default metric period is 5 because AUC is/are not implemented for GPU\n"
     ]
    },
    {
     "name": "stdout",
     "output_type": "stream",
     "text": [
      "0:\ttest: 0.9994445\tbest: 0.9994445 (0)\ttotal: 319ms\tremaining: 53m 9s\n",
      "100:\ttest: 0.9998944\tbest: 0.9999045 (73)\ttotal: 32.3s\tremaining: 52m 47s\n",
      "bestTest = 0.9999044538\n",
      "bestIteration = 73\n",
      "Shrink model to first 74 iterations.\n"
     ]
    },
    {
     "name": "stderr",
     "output_type": "stream",
     "text": [
      "Default metric period is 5 because AUC is/are not implemented for GPU\n"
     ]
    },
    {
     "name": "stdout",
     "output_type": "stream",
     "text": [
      "0:\ttest: 0.9994256\tbest: 0.9994256 (0)\ttotal: 328ms\tremaining: 54m 38s\n",
      "bestTest = 0.9999146461\n",
      "bestIteration = 38\n",
      "Shrink model to first 39 iterations.\n"
     ]
    },
    {
     "name": "stderr",
     "output_type": "stream",
     "text": [
      "\u001b[32m[I 2023-01-13 14:12:54,223]\u001b[0m Trial 10 finished with value: 0.9999056805374433 and parameters: {'depth': 15, 'border_count': 92, 'min_data_in_leaf': 8223, 'l2_leaf_reg': 0.0011538691846154838}. Best is trial 8 with value: 0.9999342138846042.\u001b[0m\n"
     ]
    },
    {
     "name": "stdout",
     "output_type": "stream",
     "text": [
      "train auc score = 0.9999839009312363\n",
      "test auc score = 0.9999056805374433\n"
     ]
    },
    {
     "name": "stderr",
     "output_type": "stream",
     "text": [
      "Default metric period is 5 because AUC is/are not implemented for GPU\n"
     ]
    },
    {
     "name": "stdout",
     "output_type": "stream",
     "text": [
      "0:\ttest: 0.9994048\tbest: 0.9994048 (0)\ttotal: 347ms\tremaining: 57m 48s\n",
      "100:\ttest: 0.9999285\tbest: 0.9999285 (100)\ttotal: 34.5s\tremaining: 56m 20s\n",
      "200:\ttest: 0.9999327\tbest: 0.9999331 (195)\ttotal: 1m 8s\tremaining: 55m 41s\n",
      "300:\ttest: 0.9999350\tbest: 0.9999352 (291)\ttotal: 1m 42s\tremaining: 55m 2s\n",
      "bestTest = 0.9999351501\n",
      "bestIteration = 291\n",
      "Shrink model to first 292 iterations.\n"
     ]
    },
    {
     "name": "stderr",
     "output_type": "stream",
     "text": [
      "Default metric period is 5 because AUC is/are not implemented for GPU\n"
     ]
    },
    {
     "name": "stdout",
     "output_type": "stream",
     "text": [
      "0:\ttest: 0.9993416\tbest: 0.9993416 (0)\ttotal: 339ms\tremaining: 56m 30s\n",
      "100:\ttest: 0.9999390\tbest: 0.9999390 (99)\ttotal: 34.4s\tremaining: 56m 10s\n",
      "200:\ttest: 0.9999443\tbest: 0.9999443 (199)\ttotal: 1m 8s\tremaining: 55m 33s\n",
      "300:\ttest: 0.9999445\tbest: 0.9999458 (262)\ttotal: 1m 42s\tremaining: 54m 58s\n",
      "bestTest = 0.9999458194\n",
      "bestIteration = 262\n",
      "Shrink model to first 263 iterations.\n"
     ]
    },
    {
     "name": "stderr",
     "output_type": "stream",
     "text": [
      "Default metric period is 5 because AUC is/are not implemented for GPU\n"
     ]
    },
    {
     "name": "stdout",
     "output_type": "stream",
     "text": [
      "0:\ttest: 0.9994352\tbest: 0.9994352 (0)\ttotal: 347ms\tremaining: 57m 49s\n",
      "100:\ttest: 0.9999287\tbest: 0.9999287 (100)\ttotal: 34.5s\tremaining: 56m 22s\n",
      "200:\ttest: 0.9999315\tbest: 0.9999325 (162)\ttotal: 1m 8s\tremaining: 55m 36s\n",
      "bestTest = 0.9999324679\n",
      "bestIteration = 162\n",
      "Shrink model to first 163 iterations.\n"
     ]
    },
    {
     "name": "stderr",
     "output_type": "stream",
     "text": [
      "Default metric period is 5 because AUC is/are not implemented for GPU\n"
     ]
    },
    {
     "name": "stdout",
     "output_type": "stream",
     "text": [
      "0:\ttest: 0.9995317\tbest: 0.9995317 (0)\ttotal: 338ms\tremaining: 56m 21s\n",
      "100:\ttest: 0.9999345\tbest: 0.9999345 (100)\ttotal: 34s\tremaining: 55m 30s\n",
      "200:\ttest: 0.9999385\tbest: 0.9999385 (196)\ttotal: 1m 7s\tremaining: 55m 11s\n",
      "bestTest = 0.9999393225\n",
      "bestIteration = 250\n",
      "Shrink model to first 251 iterations.\n"
     ]
    },
    {
     "name": "stderr",
     "output_type": "stream",
     "text": [
      "Default metric period is 5 because AUC is/are not implemented for GPU\n"
     ]
    },
    {
     "name": "stdout",
     "output_type": "stream",
     "text": [
      "0:\ttest: 0.9995496\tbest: 0.9995496 (0)\ttotal: 338ms\tremaining: 56m 24s\n",
      "100:\ttest: 0.9999382\tbest: 0.9999382 (100)\ttotal: 34.4s\tremaining: 56m 8s\n",
      "bestTest = 0.9999383092\n",
      "bestIteration = 102\n",
      "Shrink model to first 103 iterations.\n"
     ]
    },
    {
     "name": "stderr",
     "output_type": "stream",
     "text": [
      "\u001b[32m[I 2023-01-13 14:20:18,633]\u001b[0m Trial 11 finished with value: 0.9999382164164723 and parameters: {'depth': 15, 'border_count': 187, 'min_data_in_leaf': 8835, 'l2_leaf_reg': 0.7501984753764515}. Best is trial 11 with value: 0.9999382164164723.\u001b[0m\n"
     ]
    },
    {
     "name": "stdout",
     "output_type": "stream",
     "text": [
      "train auc score = 0.999998932328835\n",
      "test auc score = 0.9999382164164723\n"
     ]
    },
    {
     "name": "stderr",
     "output_type": "stream",
     "text": [
      "Default metric period is 5 because AUC is/are not implemented for GPU\n"
     ]
    },
    {
     "name": "stdout",
     "output_type": "stream",
     "text": [
      "0:\ttest: 0.9993115\tbest: 0.9993115 (0)\ttotal: 92.3ms\tremaining: 15m 22s\n",
      "100:\ttest: 0.9999268\tbest: 0.9999268 (97)\ttotal: 9.24s\tremaining: 15m 5s\n",
      "200:\ttest: 0.9999318\tbest: 0.9999319 (197)\ttotal: 18.5s\tremaining: 15m 1s\n",
      "300:\ttest: 0.9999331\tbest: 0.9999338 (280)\ttotal: 27.6s\tremaining: 14m 47s\n",
      "bestTest = 0.9999338388\n",
      "bestIteration = 280\n",
      "Shrink model to first 281 iterations.\n"
     ]
    },
    {
     "name": "stderr",
     "output_type": "stream",
     "text": [
      "Default metric period is 5 because AUC is/are not implemented for GPU\n"
     ]
    },
    {
     "name": "stdout",
     "output_type": "stream",
     "text": [
      "0:\ttest: 0.9992563\tbest: 0.9992563 (0)\ttotal: 96.1ms\tremaining: 16m\n",
      "100:\ttest: 0.9999358\tbest: 0.9999358 (95)\ttotal: 9.12s\tremaining: 14m 53s\n",
      "200:\ttest: 0.9999394\tbest: 0.9999401 (185)\ttotal: 18.2s\tremaining: 14m 47s\n",
      "bestTest = 0.9999403358\n",
      "bestIteration = 222\n",
      "Shrink model to first 223 iterations.\n"
     ]
    },
    {
     "name": "stderr",
     "output_type": "stream",
     "text": [
      "Default metric period is 5 because AUC is/are not implemented for GPU\n"
     ]
    },
    {
     "name": "stdout",
     "output_type": "stream",
     "text": [
      "0:\ttest: 0.9993048\tbest: 0.9993048 (0)\ttotal: 94.3ms\tremaining: 15m 42s\n",
      "100:\ttest: 0.9999254\tbest: 0.9999255 (98)\ttotal: 9.45s\tremaining: 15m 26s\n",
      "200:\ttest: 0.9999328\tbest: 0.9999329 (199)\ttotal: 18.6s\tremaining: 15m 6s\n",
      "bestTest = 0.9999334216\n",
      "bestIteration = 214\n",
      "Shrink model to first 215 iterations.\n"
     ]
    },
    {
     "name": "stderr",
     "output_type": "stream",
     "text": [
      "Default metric period is 5 because AUC is/are not implemented for GPU\n"
     ]
    },
    {
     "name": "stdout",
     "output_type": "stream",
     "text": [
      "0:\ttest: 0.9993684\tbest: 0.9993684 (0)\ttotal: 97ms\tremaining: 16m 10s\n",
      "100:\ttest: 0.9999325\tbest: 0.9999325 (100)\ttotal: 9.2s\tremaining: 15m 2s\n",
      "200:\ttest: 0.9999363\tbest: 0.9999364 (195)\ttotal: 18.5s\tremaining: 14m 59s\n",
      "300:\ttest: 0.9999381\tbest: 0.9999384 (290)\ttotal: 28s\tremaining: 15m 2s\n",
      "bestTest = 0.9999386072\n",
      "bestIteration = 320\n",
      "Shrink model to first 321 iterations.\n"
     ]
    },
    {
     "name": "stderr",
     "output_type": "stream",
     "text": [
      "Default metric period is 5 because AUC is/are not implemented for GPU\n"
     ]
    },
    {
     "name": "stdout",
     "output_type": "stream",
     "text": [
      "0:\ttest: 0.9994205\tbest: 0.9994205 (0)\ttotal: 90.8ms\tremaining: 15m 7s\n",
      "100:\ttest: 0.9999359\tbest: 0.9999359 (100)\ttotal: 9.25s\tremaining: 15m 7s\n",
      "200:\ttest: 0.9999366\tbest: 0.9999382 (168)\ttotal: 18.3s\tremaining: 14m 53s\n",
      "bestTest = 0.99993819\n",
      "bestIteration = 168\n",
      "Shrink model to first 169 iterations.\n"
     ]
    },
    {
     "name": "stderr",
     "output_type": "stream",
     "text": [
      "\u001b[32m[I 2023-01-13 14:22:38,281]\u001b[0m Trial 12 finished with value: 0.9999368424351763 and parameters: {'depth': 13, 'border_count': 186, 'min_data_in_leaf': 8714, 'l2_leaf_reg': 0.851512952017196}. Best is trial 11 with value: 0.9999382164164723.\u001b[0m\n"
     ]
    },
    {
     "name": "stdout",
     "output_type": "stream",
     "text": [
      "train auc score = 0.9999987104213635\n",
      "test auc score = 0.9999368424351763\n"
     ]
    },
    {
     "name": "stderr",
     "output_type": "stream",
     "text": [
      "Default metric period is 5 because AUC is/are not implemented for GPU\n"
     ]
    },
    {
     "name": "stdout",
     "output_type": "stream",
     "text": [
      "0:\ttest: 0.9993836\tbest: 0.9993836 (0)\ttotal: 171ms\tremaining: 28m 33s\n",
      "100:\ttest: 0.9999278\tbest: 0.9999278 (100)\ttotal: 17.1s\tremaining: 27m 57s\n",
      "200:\ttest: 0.9999335\tbest: 0.9999340 (192)\ttotal: 34.1s\tremaining: 27m 41s\n",
      "bestTest = 0.9999339581\n",
      "bestIteration = 192\n",
      "Shrink model to first 193 iterations.\n"
     ]
    },
    {
     "name": "stderr",
     "output_type": "stream",
     "text": [
      "Default metric period is 5 because AUC is/are not implemented for GPU\n"
     ]
    },
    {
     "name": "stdout",
     "output_type": "stream",
     "text": [
      "0:\ttest: 0.9992619\tbest: 0.9992619 (0)\ttotal: 175ms\tremaining: 29m 7s\n",
      "100:\ttest: 0.9999364\tbest: 0.9999364 (99)\ttotal: 17.1s\tremaining: 27m 58s\n",
      "200:\ttest: 0.9999418\tbest: 0.9999419 (194)\ttotal: 34s\tremaining: 27m 38s\n",
      "bestTest = 0.9999423027\n",
      "bestIteration = 231\n",
      "Shrink model to first 232 iterations.\n"
     ]
    },
    {
     "name": "stderr",
     "output_type": "stream",
     "text": [
      "Default metric period is 5 because AUC is/are not implemented for GPU\n"
     ]
    },
    {
     "name": "stdout",
     "output_type": "stream",
     "text": [
      "0:\ttest: 0.9993421\tbest: 0.9993421 (0)\ttotal: 173ms\tremaining: 28m 49s\n",
      "100:\ttest: 0.9999300\tbest: 0.9999300 (100)\ttotal: 17.1s\tremaining: 27m 52s\n",
      "200:\ttest: 0.9999343\tbest: 0.9999347 (190)\ttotal: 34s\tremaining: 27m 37s\n",
      "bestTest = 0.9999358058\n",
      "bestIteration = 230\n",
      "Shrink model to first 231 iterations.\n"
     ]
    },
    {
     "name": "stderr",
     "output_type": "stream",
     "text": [
      "Default metric period is 5 because AUC is/are not implemented for GPU\n"
     ]
    },
    {
     "name": "stdout",
     "output_type": "stream",
     "text": [
      "0:\ttest: 0.9994732\tbest: 0.9994732 (0)\ttotal: 169ms\tremaining: 28m 6s\n",
      "100:\ttest: 0.9999321\tbest: 0.9999325 (99)\ttotal: 17.1s\tremaining: 27m 58s\n",
      "200:\ttest: 0.9999382\tbest: 0.9999382 (200)\ttotal: 34s\tremaining: 27m 37s\n",
      "bestTest = 0.9999383688\n",
      "bestIteration = 210\n",
      "Shrink model to first 211 iterations.\n"
     ]
    },
    {
     "name": "stderr",
     "output_type": "stream",
     "text": [
      "Default metric period is 5 because AUC is/are not implemented for GPU\n"
     ]
    },
    {
     "name": "stdout",
     "output_type": "stream",
     "text": [
      "0:\ttest: 0.9994937\tbest: 0.9994937 (0)\ttotal: 169ms\tremaining: 28m 6s\n",
      "100:\ttest: 0.9999374\tbest: 0.9999374 (100)\ttotal: 17.2s\tremaining: 28m 2s\n",
      "bestTest = 0.9999384284\n",
      "bestIteration = 135\n",
      "Shrink model to first 136 iterations.\n"
     ]
    },
    {
     "name": "stderr",
     "output_type": "stream",
     "text": [
      "\u001b[32m[I 2023-01-13 14:26:12,366]\u001b[0m Trial 13 finished with value: 0.9999377161374914 and parameters: {'depth': 14, 'border_count': 182, 'min_data_in_leaf': 9977, 'l2_leaf_reg': 0.9954854759588199}. Best is trial 11 with value: 0.9999382164164723.\u001b[0m\n"
     ]
    },
    {
     "name": "stdout",
     "output_type": "stream",
     "text": [
      "train auc score = 0.9999986678245902\n",
      "test auc score = 0.9999377161374914\n"
     ]
    },
    {
     "name": "stderr",
     "output_type": "stream",
     "text": [
      "Default metric period is 5 because AUC is/are not implemented for GPU\n"
     ]
    },
    {
     "name": "stdout",
     "output_type": "stream",
     "text": [
      "0:\ttest: 0.9993778\tbest: 0.9993778 (0)\ttotal: 168ms\tremaining: 28m 1s\n",
      "100:\ttest: 0.9999286\tbest: 0.9999287 (99)\ttotal: 16.9s\tremaining: 27m 35s\n",
      "bestTest = 0.9999310374\n",
      "bestIteration = 154\n",
      "Shrink model to first 155 iterations.\n"
     ]
    },
    {
     "name": "stderr",
     "output_type": "stream",
     "text": [
      "Default metric period is 5 because AUC is/are not implemented for GPU\n"
     ]
    },
    {
     "name": "stdout",
     "output_type": "stream",
     "text": [
      "0:\ttest: 0.9992990\tbest: 0.9992990 (0)\ttotal: 174ms\tremaining: 28m 59s\n",
      "100:\ttest: 0.9999343\tbest: 0.9999343 (96)\ttotal: 17s\tremaining: 27m 43s\n",
      "200:\ttest: 0.9999400\tbest: 0.9999400 (199)\ttotal: 33.8s\tremaining: 27m 27s\n",
      "300:\ttest: 0.9999418\tbest: 0.9999422 (264)\ttotal: 50.4s\tremaining: 27m 5s\n",
      "bestTest = 0.9999421835\n",
      "bestIteration = 264\n",
      "Shrink model to first 265 iterations.\n"
     ]
    },
    {
     "name": "stderr",
     "output_type": "stream",
     "text": [
      "Default metric period is 5 because AUC is/are not implemented for GPU\n"
     ]
    },
    {
     "name": "stdout",
     "output_type": "stream",
     "text": [
      "0:\ttest: 0.9993542\tbest: 0.9993542 (0)\ttotal: 175ms\tremaining: 29m 10s\n",
      "100:\ttest: 0.9999297\tbest: 0.9999298 (99)\ttotal: 16.9s\tremaining: 27m 36s\n",
      "200:\ttest: 0.9999340\tbest: 0.9999345 (193)\ttotal: 33.8s\tremaining: 27m 26s\n",
      "300:\ttest: 0.9999356\tbest: 0.9999357 (297)\ttotal: 50.8s\tremaining: 27m 18s\n",
      "bestTest = 0.9999357462\n",
      "bestIteration = 297\n",
      "Shrink model to first 298 iterations.\n"
     ]
    },
    {
     "name": "stderr",
     "output_type": "stream",
     "text": [
      "Default metric period is 5 because AUC is/are not implemented for GPU\n"
     ]
    },
    {
     "name": "stdout",
     "output_type": "stream",
     "text": [
      "0:\ttest: 0.9994690\tbest: 0.9994690 (0)\ttotal: 167ms\tremaining: 27m 49s\n",
      "100:\ttest: 0.9999291\tbest: 0.9999297 (95)\ttotal: 17.1s\tremaining: 27m 59s\n",
      "200:\ttest: 0.9999363\tbest: 0.9999368 (185)\ttotal: 33.9s\tremaining: 27m 33s\n",
      "bestTest = 0.9999367595\n",
      "bestIteration = 185\n",
      "Shrink model to first 186 iterations.\n"
     ]
    },
    {
     "name": "stderr",
     "output_type": "stream",
     "text": [
      "Default metric period is 5 because AUC is/are not implemented for GPU\n"
     ]
    },
    {
     "name": "stdout",
     "output_type": "stream",
     "text": [
      "0:\ttest: 0.9994943\tbest: 0.9994943 (0)\ttotal: 170ms\tremaining: 28m 17s\n",
      "100:\ttest: 0.9999406\tbest: 0.9999412 (99)\ttotal: 17s\tremaining: 27m 47s\n",
      "bestTest = 0.9999412298\n",
      "bestIteration = 108\n",
      "Shrink model to first 109 iterations.\n"
     ]
    },
    {
     "name": "stderr",
     "output_type": "stream",
     "text": [
      "\u001b[32m[I 2023-01-13 14:29:47,255]\u001b[0m Trial 14 finished with value: 0.9999373731844443 and parameters: {'depth': 14, 'border_count': 122, 'min_data_in_leaf': 9917, 'l2_leaf_reg': 0.8703672395012115}. Best is trial 11 with value: 0.9999382164164723.\u001b[0m\n"
     ]
    },
    {
     "name": "stdout",
     "output_type": "stream",
     "text": [
      "train auc score = 0.9999982048327679\n",
      "test auc score = 0.9999373731844443\n"
     ]
    },
    {
     "name": "stderr",
     "output_type": "stream",
     "text": [
      "Default metric period is 5 because AUC is/are not implemented for GPU\n"
     ]
    },
    {
     "name": "stdout",
     "output_type": "stream",
     "text": [
      "0:\ttest: 0.9993846\tbest: 0.9993846 (0)\ttotal: 169ms\tremaining: 28m 6s\n",
      "100:\ttest: 0.9999200\tbest: 0.9999207 (83)\ttotal: 17.3s\tremaining: 28m 16s\n",
      "bestTest = 0.9999206662\n",
      "bestIteration = 83\n",
      "Shrink model to first 84 iterations.\n"
     ]
    },
    {
     "name": "stderr",
     "output_type": "stream",
     "text": [
      "Default metric period is 5 because AUC is/are not implemented for GPU\n"
     ]
    },
    {
     "name": "stdout",
     "output_type": "stream",
     "text": [
      "0:\ttest: 0.9992532\tbest: 0.9992532 (0)\ttotal: 169ms\tremaining: 28m 8s\n",
      "100:\ttest: 0.9999328\tbest: 0.9999328 (100)\ttotal: 17.3s\tremaining: 28m 13s\n",
      "bestTest = 0.9999353886\n",
      "bestIteration = 155\n",
      "Shrink model to first 156 iterations.\n"
     ]
    },
    {
     "name": "stderr",
     "output_type": "stream",
     "text": [
      "Default metric period is 5 because AUC is/are not implemented for GPU\n"
     ]
    },
    {
     "name": "stdout",
     "output_type": "stream",
     "text": [
      "0:\ttest: 0.9993119\tbest: 0.9993119 (0)\ttotal: 169ms\tremaining: 28m 5s\n",
      "100:\ttest: 0.9999221\tbest: 0.9999223 (98)\ttotal: 17.2s\tremaining: 28m 8s\n",
      "200:\ttest: 0.9999284\tbest: 0.9999284 (200)\ttotal: 34.3s\tremaining: 27m 53s\n",
      "300:\ttest: 0.9999304\tbest: 0.9999306 (289)\ttotal: 51.4s\tremaining: 27m 37s\n",
      "bestTest = 0.9999306202\n",
      "bestIteration = 289\n",
      "Shrink model to first 290 iterations.\n"
     ]
    },
    {
     "name": "stderr",
     "output_type": "stream",
     "text": [
      "Default metric period is 5 because AUC is/are not implemented for GPU\n"
     ]
    },
    {
     "name": "stdout",
     "output_type": "stream",
     "text": [
      "0:\ttest: 0.9994771\tbest: 0.9994771 (0)\ttotal: 177ms\tremaining: 29m 26s\n",
      "100:\ttest: 0.9999201\tbest: 0.9999219 (81)\ttotal: 17.1s\tremaining: 28m\n",
      "bestTest = 0.9999232292\n",
      "bestIteration = 116\n",
      "Shrink model to first 117 iterations.\n"
     ]
    },
    {
     "name": "stderr",
     "output_type": "stream",
     "text": [
      "Default metric period is 5 because AUC is/are not implemented for GPU\n"
     ]
    },
    {
     "name": "stdout",
     "output_type": "stream",
     "text": [
      "0:\ttest: 0.9994713\tbest: 0.9994713 (0)\ttotal: 169ms\tremaining: 28m 7s\n",
      "bestTest = 0.9999263287\n",
      "bestIteration = 46\n",
      "Shrink model to first 47 iterations.\n"
     ]
    },
    {
     "name": "stderr",
     "output_type": "stream",
     "text": [
      "\u001b[32m[I 2023-01-13 14:32:29,368]\u001b[0m Trial 15 finished with value: 0.9999272221082227 and parameters: {'depth': 14, 'border_count': 183, 'min_data_in_leaf': 9962, 'l2_leaf_reg': 0.10458054312608915}. Best is trial 11 with value: 0.9999382164164723.\u001b[0m\n"
     ]
    },
    {
     "name": "stdout",
     "output_type": "stream",
     "text": [
      "train auc score = 0.9999947122442567\n",
      "test auc score = 0.9999272221082227\n"
     ]
    },
    {
     "name": "stderr",
     "output_type": "stream",
     "text": [
      "Default metric period is 5 because AUC is/are not implemented for GPU\n"
     ]
    },
    {
     "name": "stdout",
     "output_type": "stream",
     "text": [
      "0:\ttest: 0.9983386\tbest: 0.9983386 (0)\ttotal: 27.3ms\tremaining: 4m 33s\n",
      "100:\ttest: 0.9999016\tbest: 0.9999019 (99)\ttotal: 2.51s\tremaining: 4m 5s\n",
      "200:\ttest: 0.9999123\tbest: 0.9999123 (200)\ttotal: 4.59s\tremaining: 3m 43s\n",
      "300:\ttest: 0.9999145\tbest: 0.9999150 (281)\ttotal: 7.1s\tremaining: 3m 48s\n",
      "bestTest = 0.9999150038\n",
      "bestIteration = 281\n",
      "Shrink model to first 282 iterations.\n"
     ]
    },
    {
     "name": "stderr",
     "output_type": "stream",
     "text": [
      "Default metric period is 5 because AUC is/are not implemented for GPU\n"
     ]
    },
    {
     "name": "stdout",
     "output_type": "stream",
     "text": [
      "0:\ttest: 0.9983374\tbest: 0.9983374 (0)\ttotal: 22.8ms\tremaining: 3m 48s\n",
      "100:\ttest: 0.9999175\tbest: 0.9999177 (98)\ttotal: 2.09s\tremaining: 3m 25s\n",
      "200:\ttest: 0.9999234\tbest: 0.9999234 (198)\ttotal: 4.08s\tremaining: 3m 19s\n",
      "300:\ttest: 0.9999258\tbest: 0.9999265 (272)\ttotal: 6.15s\tremaining: 3m 18s\n",
      "bestTest = 0.9999265075\n",
      "bestIteration = 272\n",
      "Shrink model to first 273 iterations.\n"
     ]
    },
    {
     "name": "stderr",
     "output_type": "stream",
     "text": [
      "Default metric period is 5 because AUC is/are not implemented for GPU\n"
     ]
    },
    {
     "name": "stdout",
     "output_type": "stream",
     "text": [
      "0:\ttest: 0.9982464\tbest: 0.9982464 (0)\ttotal: 19.7ms\tremaining: 3m 17s\n",
      "100:\ttest: 0.9999070\tbest: 0.9999075 (79)\ttotal: 2.1s\tremaining: 3m 25s\n",
      "200:\ttest: 0.9999148\tbest: 0.9999154 (183)\ttotal: 4.21s\tremaining: 3m 25s\n",
      "bestTest = 0.9999169111\n",
      "bestIteration = 224\n",
      "Shrink model to first 225 iterations.\n"
     ]
    },
    {
     "name": "stderr",
     "output_type": "stream",
     "text": [
      "Default metric period is 5 because AUC is/are not implemented for GPU\n"
     ]
    },
    {
     "name": "stdout",
     "output_type": "stream",
     "text": [
      "0:\ttest: 0.9984444\tbest: 0.9984444 (0)\ttotal: 19.9ms\tremaining: 3m 19s\n",
      "100:\ttest: 0.9999150\tbest: 0.9999152 (99)\ttotal: 2.07s\tremaining: 3m 22s\n",
      "bestTest = 0.9999183416\n",
      "bestIteration = 130\n",
      "Shrink model to first 131 iterations.\n"
     ]
    },
    {
     "name": "stderr",
     "output_type": "stream",
     "text": [
      "Default metric period is 5 because AUC is/are not implemented for GPU\n"
     ]
    },
    {
     "name": "stdout",
     "output_type": "stream",
     "text": [
      "0:\ttest: 0.9985854\tbest: 0.9985854 (0)\ttotal: 22.4ms\tremaining: 3m 43s\n",
      "100:\ttest: 0.9999190\tbest: 0.9999193 (99)\ttotal: 2.02s\tremaining: 3m 18s\n",
      "bestTest = 0.9999209046\n",
      "bestIteration = 113\n",
      "Shrink model to first 114 iterations.\n"
     ]
    },
    {
     "name": "stderr",
     "output_type": "stream",
     "text": [
      "\u001b[32m[I 2023-01-13 14:33:04,387]\u001b[0m Trial 16 finished with value: 0.9999195132935146 and parameters: {'depth': 10, 'border_count': 63, 'min_data_in_leaf': 8337, 'l2_leaf_reg': 0.05911562802764923}. Best is trial 11 with value: 0.9999382164164723.\u001b[0m\n"
     ]
    },
    {
     "name": "stdout",
     "output_type": "stream",
     "text": [
      "train auc score = 0.999990990454833\n",
      "test auc score = 0.9999195132935146\n"
     ]
    },
    {
     "name": "stderr",
     "output_type": "stream",
     "text": [
      "Default metric period is 5 because AUC is/are not implemented for GPU\n"
     ]
    },
    {
     "name": "stdout",
     "output_type": "stream",
     "text": [
      "0:\ttest: 0.9993877\tbest: 0.9993877 (0)\ttotal: 177ms\tremaining: 29m 32s\n",
      "100:\ttest: 0.9999276\tbest: 0.9999276 (99)\ttotal: 18s\tremaining: 29m 22s\n",
      "200:\ttest: 0.9999335\tbest: 0.9999340 (194)\ttotal: 35.7s\tremaining: 29m 2s\n",
      "300:\ttest: 0.9999347\tbest: 0.9999349 (280)\ttotal: 53.5s\tremaining: 28m 42s\n",
      "bestTest = 0.9999350905\n",
      "bestIteration = 350\n",
      "Shrink model to first 351 iterations.\n"
     ]
    },
    {
     "name": "stderr",
     "output_type": "stream",
     "text": [
      "Default metric period is 5 because AUC is/are not implemented for GPU\n"
     ]
    },
    {
     "name": "stdout",
     "output_type": "stream",
     "text": [
      "0:\ttest: 0.9992667\tbest: 0.9992667 (0)\ttotal: 177ms\tremaining: 29m 27s\n",
      "100:\ttest: 0.9999365\tbest: 0.9999370 (95)\ttotal: 18s\tremaining: 29m 20s\n",
      "200:\ttest: 0.9999406\tbest: 0.9999406 (200)\ttotal: 35.7s\tremaining: 28m 58s\n",
      "bestTest = 0.9999411702\n",
      "bestIteration = 205\n",
      "Shrink model to first 206 iterations.\n"
     ]
    },
    {
     "name": "stderr",
     "output_type": "stream",
     "text": [
      "Default metric period is 5 because AUC is/are not implemented for GPU\n"
     ]
    },
    {
     "name": "stdout",
     "output_type": "stream",
     "text": [
      "0:\ttest: 0.9993433\tbest: 0.9993433 (0)\ttotal: 177ms\tremaining: 29m 27s\n",
      "100:\ttest: 0.9999284\tbest: 0.9999287 (89)\ttotal: 17.8s\tremaining: 29m 9s\n",
      "200:\ttest: 0.9999346\tbest: 0.9999350 (197)\ttotal: 35.6s\tremaining: 28m 55s\n",
      "bestTest = 0.9999349713\n",
      "bestIteration = 197\n",
      "Shrink model to first 198 iterations.\n"
     ]
    },
    {
     "name": "stderr",
     "output_type": "stream",
     "text": [
      "Default metric period is 5 because AUC is/are not implemented for GPU\n"
     ]
    },
    {
     "name": "stdout",
     "output_type": "stream",
     "text": [
      "0:\ttest: 0.9994953\tbest: 0.9994953 (0)\ttotal: 181ms\tremaining: 30m 5s\n",
      "100:\ttest: 0.9999310\tbest: 0.9999313 (96)\ttotal: 17.9s\tremaining: 29m 16s\n",
      "200:\ttest: 0.9999347\tbest: 0.9999347 (200)\ttotal: 35.6s\tremaining: 28m 53s\n",
      "300:\ttest: 0.9999368\tbest: 0.9999370 (298)\ttotal: 53.3s\tremaining: 28m 36s\n",
      "400:\ttest: 0.9999380\tbest: 0.9999385 (383)\ttotal: 1m 10s\tremaining: 28m 16s\n",
      "bestTest = 0.999938488\n",
      "bestIteration = 383\n",
      "Shrink model to first 384 iterations.\n"
     ]
    },
    {
     "name": "stderr",
     "output_type": "stream",
     "text": [
      "Default metric period is 5 because AUC is/are not implemented for GPU\n"
     ]
    },
    {
     "name": "stdout",
     "output_type": "stream",
     "text": [
      "0:\ttest: 0.9994949\tbest: 0.9994949 (0)\ttotal: 177ms\tremaining: 29m 27s\n",
      "100:\ttest: 0.9999377\tbest: 0.9999377 (96)\ttotal: 17.9s\tremaining: 29m 15s\n",
      "bestTest = 0.9999397397\n",
      "bestIteration = 130\n",
      "Shrink model to first 131 iterations.\n"
     ]
    },
    {
     "name": "stderr",
     "output_type": "stream",
     "text": [
      "\u001b[32m[I 2023-01-13 14:37:35,776]\u001b[0m Trial 17 finished with value: 0.9999378345746859 and parameters: {'depth': 14, 'border_count': 199, 'min_data_in_leaf': 8854, 'l2_leaf_reg': 0.8312761153569659}. Best is trial 11 with value: 0.9999382164164723.\u001b[0m\n"
     ]
    },
    {
     "name": "stdout",
     "output_type": "stream",
     "text": [
      "train auc score = 0.9999989605412122\n",
      "test auc score = 0.9999378345746859\n"
     ]
    },
    {
     "name": "stderr",
     "output_type": "stream",
     "text": [
      "Default metric period is 5 because AUC is/are not implemented for GPU\n"
     ]
    },
    {
     "name": "stdout",
     "output_type": "stream",
     "text": [
      "0:\ttest: 0.9994980\tbest: 0.9994980 (0)\ttotal: 342ms\tremaining: 56m 58s\n",
      "100:\ttest: 0.9999260\tbest: 0.9999262 (71)\ttotal: 34.6s\tremaining: 56m 34s\n",
      "bestTest = 0.99992764\n",
      "bestIteration = 145\n",
      "Shrink model to first 146 iterations.\n"
     ]
    },
    {
     "name": "stderr",
     "output_type": "stream",
     "text": [
      "Default metric period is 5 because AUC is/are not implemented for GPU\n"
     ]
    },
    {
     "name": "stdout",
     "output_type": "stream",
     "text": [
      "0:\ttest: 0.9994700\tbest: 0.9994700 (0)\ttotal: 345ms\tremaining: 57m 30s\n",
      "100:\ttest: 0.9999347\tbest: 0.9999349 (98)\ttotal: 34.6s\tremaining: 56m 32s\n",
      "200:\ttest: 0.9999385\tbest: 0.9999387 (198)\ttotal: 1m 8s\tremaining: 55m 54s\n",
      "300:\ttest: 0.9999391\tbest: 0.9999401 (280)\ttotal: 1m 43s\tremaining: 55m 21s\n",
      "bestTest = 0.9999400973\n",
      "bestIteration = 280\n",
      "Shrink model to first 281 iterations.\n"
     ]
    },
    {
     "name": "stderr",
     "output_type": "stream",
     "text": [
      "Default metric period is 5 because AUC is/are not implemented for GPU\n"
     ]
    },
    {
     "name": "stdout",
     "output_type": "stream",
     "text": [
      "0:\ttest: 0.9995300\tbest: 0.9995300 (0)\ttotal: 342ms\tremaining: 56m 58s\n",
      "100:\ttest: 0.9999253\tbest: 0.9999253 (100)\ttotal: 34.6s\tremaining: 56m 28s\n",
      "200:\ttest: 0.9999328\tbest: 0.9999331 (193)\ttotal: 1m 8s\tremaining: 55m 51s\n",
      "300:\ttest: 0.9999347\tbest: 0.9999347 (298)\ttotal: 1m 42s\tremaining: 55m 17s\n",
      "400:\ttest: 0.9999356\tbest: 0.9999356 (399)\ttotal: 2m 17s\tremaining: 54m 42s\n",
      "bestTest = 0.9999362826\n",
      "bestIteration = 454\n",
      "Shrink model to first 455 iterations.\n"
     ]
    },
    {
     "name": "stderr",
     "output_type": "stream",
     "text": [
      "Default metric period is 5 because AUC is/are not implemented for GPU\n"
     ]
    },
    {
     "name": "stdout",
     "output_type": "stream",
     "text": [
      "0:\ttest: 0.9995237\tbest: 0.9995237 (0)\ttotal: 341ms\tremaining: 56m 52s\n",
      "100:\ttest: 0.9999331\tbest: 0.9999331 (92)\ttotal: 34.7s\tremaining: 56m 40s\n",
      "200:\ttest: 0.9999371\tbest: 0.9999372 (197)\ttotal: 1m 8s\tremaining: 55m 59s\n",
      "bestTest = 0.9999372363\n",
      "bestIteration = 197\n",
      "Shrink model to first 198 iterations.\n"
     ]
    },
    {
     "name": "stderr",
     "output_type": "stream",
     "text": [
      "Default metric period is 5 because AUC is/are not implemented for GPU\n"
     ]
    },
    {
     "name": "stdout",
     "output_type": "stream",
     "text": [
      "0:\ttest: 0.9995126\tbest: 0.9995126 (0)\ttotal: 342ms\tremaining: 57m 3s\n",
      "100:\ttest: 0.9999397\tbest: 0.9999402 (78)\ttotal: 34.7s\tremaining: 56m 37s\n",
      "bestTest = 0.9999402761\n",
      "bestIteration = 112\n",
      "Shrink model to first 113 iterations.\n"
     ]
    },
    {
     "name": "stderr",
     "output_type": "stream",
     "text": [
      "\u001b[32m[I 2023-01-13 14:45:45,095]\u001b[0m Trial 18 finished with value: 0.9999362706290569 and parameters: {'depth': 15, 'border_count': 256, 'min_data_in_leaf': 7564, 'l2_leaf_reg': 0.35814030172019357}. Best is trial 11 with value: 0.9999382164164723.\u001b[0m\n"
     ]
    },
    {
     "name": "stdout",
     "output_type": "stream",
     "text": [
      "train auc score = 0.9999993845041457\n",
      "test auc score = 0.9999362706290569\n"
     ]
    },
    {
     "name": "stderr",
     "output_type": "stream",
     "text": [
      "Default metric period is 5 because AUC is/are not implemented for GPU\n"
     ]
    },
    {
     "name": "stdout",
     "output_type": "stream",
     "text": [
      "0:\ttest: 0.9993109\tbest: 0.9993109 (0)\ttotal: 94.8ms\tremaining: 15m 47s\n",
      "100:\ttest: 0.9999210\tbest: 0.9999220 (96)\ttotal: 9.71s\tremaining: 15m 51s\n",
      "200:\ttest: 0.9999237\tbest: 0.9999245 (166)\ttotal: 19.4s\tremaining: 15m 43s\n",
      "bestTest = 0.9999245405\n",
      "bestIteration = 166\n",
      "Shrink model to first 167 iterations.\n"
     ]
    },
    {
     "name": "stderr",
     "output_type": "stream",
     "text": [
      "Default metric period is 5 because AUC is/are not implemented for GPU\n"
     ]
    },
    {
     "name": "stdout",
     "output_type": "stream",
     "text": [
      "0:\ttest: 0.9992550\tbest: 0.9992550 (0)\ttotal: 99.5ms\tremaining: 16m 34s\n",
      "100:\ttest: 0.9999309\tbest: 0.9999309 (99)\ttotal: 9.71s\tremaining: 15m 52s\n",
      "200:\ttest: 0.9999358\tbest: 0.9999359 (176)\ttotal: 19.3s\tremaining: 15m 41s\n",
      "300:\ttest: 0.9999388\tbest: 0.9999390 (274)\ttotal: 28.7s\tremaining: 15m 24s\n",
      "bestTest = 0.9999390841\n",
      "bestIteration = 308\n",
      "Shrink model to first 309 iterations.\n"
     ]
    },
    {
     "name": "stderr",
     "output_type": "stream",
     "text": [
      "Default metric period is 5 because AUC is/are not implemented for GPU\n"
     ]
    },
    {
     "name": "stdout",
     "output_type": "stream",
     "text": [
      "0:\ttest: 0.9992889\tbest: 0.9992889 (0)\ttotal: 94.7ms\tremaining: 15m 46s\n",
      "100:\ttest: 0.9999178\tbest: 0.9999178 (100)\ttotal: 9.55s\tremaining: 15m 35s\n",
      "bestTest = 0.9999204278\n",
      "bestIteration = 136\n",
      "Shrink model to first 137 iterations.\n"
     ]
    },
    {
     "name": "stderr",
     "output_type": "stream",
     "text": [
      "Default metric period is 5 because AUC is/are not implemented for GPU\n"
     ]
    },
    {
     "name": "stdout",
     "output_type": "stream",
     "text": [
      "0:\ttest: 0.9994024\tbest: 0.9994024 (0)\ttotal: 96.4ms\tremaining: 16m 4s\n",
      "100:\ttest: 0.9999249\tbest: 0.9999254 (96)\ttotal: 9.56s\tremaining: 15m 36s\n",
      "200:\ttest: 0.9999304\tbest: 0.9999306 (196)\ttotal: 19.3s\tremaining: 15m 42s\n",
      "bestTest = 0.9999310374\n",
      "bestIteration = 209\n",
      "Shrink model to first 210 iterations.\n"
     ]
    },
    {
     "name": "stderr",
     "output_type": "stream",
     "text": [
      "Default metric period is 5 because AUC is/are not implemented for GPU\n"
     ]
    },
    {
     "name": "stdout",
     "output_type": "stream",
     "text": [
      "0:\ttest: 0.9994152\tbest: 0.9994152 (0)\ttotal: 94.9ms\tremaining: 15m 48s\n",
      "100:\ttest: 0.9999233\tbest: 0.9999237 (91)\ttotal: 9.58s\tremaining: 15m 38s\n",
      "bestTest = 0.9999244809\n",
      "bestIteration = 110\n",
      "Shrink model to first 111 iterations.\n"
     ]
    },
    {
     "name": "stderr",
     "output_type": "stream",
     "text": [
      "\u001b[32m[I 2023-01-13 14:47:43,430]\u001b[0m Trial 19 finished with value: 0.9999279013335218 and parameters: {'depth': 13, 'border_count': 202, 'min_data_in_leaf': 5603, 'l2_leaf_reg': 0.16883431590682005}. Best is trial 11 with value: 0.9999382164164723.\u001b[0m\n"
     ]
    },
    {
     "name": "stdout",
     "output_type": "stream",
     "text": [
      "train auc score = 0.9999982043320186\n",
      "test auc score = 0.9999279013335218\n"
     ]
    },
    {
     "name": "stderr",
     "output_type": "stream",
     "text": [
      "Default metric period is 5 because AUC is/are not implemented for GPU\n"
     ]
    },
    {
     "name": "stdout",
     "output_type": "stream",
     "text": [
      "0:\ttest: 0.9986934\tbest: 0.9986934 (0)\ttotal: 32ms\tremaining: 5m 20s\n",
      "100:\ttest: 0.9999154\tbest: 0.9999154 (100)\ttotal: 3.31s\tremaining: 5m 24s\n",
      "200:\ttest: 0.9999260\tbest: 0.9999260 (200)\ttotal: 6.61s\tremaining: 5m 22s\n",
      "300:\ttest: 0.9999297\tbest: 0.9999297 (287)\ttotal: 9.85s\tremaining: 5m 17s\n",
      "400:\ttest: 0.9999297\tbest: 0.9999302 (383)\ttotal: 12.9s\tremaining: 5m 9s\n",
      "bestTest = 0.999930203\n",
      "bestIteration = 383\n",
      "Shrink model to first 384 iterations.\n"
     ]
    },
    {
     "name": "stderr",
     "output_type": "stream",
     "text": [
      "Default metric period is 5 because AUC is/are not implemented for GPU\n"
     ]
    },
    {
     "name": "stdout",
     "output_type": "stream",
     "text": [
      "0:\ttest: 0.9986283\tbest: 0.9986283 (0)\ttotal: 31.6ms\tremaining: 5m 15s\n",
      "100:\ttest: 0.9999303\tbest: 0.9999303 (100)\ttotal: 3.21s\tremaining: 5m 15s\n",
      "200:\ttest: 0.9999380\tbest: 0.9999381 (199)\ttotal: 6.41s\tremaining: 5m 12s\n",
      "300:\ttest: 0.9999403\tbest: 0.9999403 (298)\ttotal: 9.56s\tremaining: 5m 8s\n",
      "400:\ttest: 0.9999419\tbest: 0.9999421 (392)\ttotal: 13.4s\tremaining: 5m 20s\n",
      "bestTest = 0.9999420643\n",
      "bestIteration = 392\n",
      "Shrink model to first 393 iterations.\n"
     ]
    },
    {
     "name": "stderr",
     "output_type": "stream",
     "text": [
      "Default metric period is 5 because AUC is/are not implemented for GPU\n"
     ]
    },
    {
     "name": "stdout",
     "output_type": "stream",
     "text": [
      "0:\ttest: 0.9987577\tbest: 0.9987577 (0)\ttotal: 33.6ms\tremaining: 5m 35s\n",
      "100:\ttest: 0.9999219\tbest: 0.9999221 (95)\ttotal: 3.23s\tremaining: 5m 16s\n",
      "200:\ttest: 0.9999316\tbest: 0.9999316 (199)\ttotal: 6.29s\tremaining: 5m 6s\n",
      "300:\ttest: 0.9999350\tbest: 0.9999350 (297)\ttotal: 9.4s\tremaining: 5m 2s\n",
      "bestTest = 0.9999355078\n",
      "bestIteration = 345\n",
      "Shrink model to first 346 iterations.\n"
     ]
    },
    {
     "name": "stderr",
     "output_type": "stream",
     "text": [
      "Default metric period is 5 because AUC is/are not implemented for GPU\n"
     ]
    },
    {
     "name": "stdout",
     "output_type": "stream",
     "text": [
      "0:\ttest: 0.9988638\tbest: 0.9988638 (0)\ttotal: 45.2ms\tremaining: 7m 32s\n",
      "100:\ttest: 0.9999262\tbest: 0.9999276 (91)\ttotal: 3.37s\tremaining: 5m 30s\n",
      "200:\ttest: 0.9999342\tbest: 0.9999348 (191)\ttotal: 6.54s\tremaining: 5m 19s\n",
      "300:\ttest: 0.9999351\tbest: 0.9999359 (264)\ttotal: 9.9s\tremaining: 5m 19s\n",
      "bestTest = 0.9999358654\n",
      "bestIteration = 264\n",
      "Shrink model to first 265 iterations.\n"
     ]
    },
    {
     "name": "stderr",
     "output_type": "stream",
     "text": [
      "Default metric period is 5 because AUC is/are not implemented for GPU\n"
     ]
    },
    {
     "name": "stdout",
     "output_type": "stream",
     "text": [
      "0:\ttest: 0.9988794\tbest: 0.9988794 (0)\ttotal: 33.7ms\tremaining: 5m 37s\n",
      "100:\ttest: 0.9999327\tbest: 0.9999327 (99)\ttotal: 3.12s\tremaining: 5m 5s\n",
      "200:\ttest: 0.9999343\tbest: 0.9999346 (164)\ttotal: 6.24s\tremaining: 5m 4s\n",
      "bestTest = 0.9999346137\n",
      "bestIteration = 164\n",
      "Shrink model to first 165 iterations.\n"
     ]
    },
    {
     "name": "stderr",
     "output_type": "stream",
     "text": [
      "\u001b[32m[I 2023-01-13 14:48:49,997]\u001b[0m Trial 20 finished with value: 0.9999356505562117 and parameters: {'depth': 11, 'border_count': 142, 'min_data_in_leaf': 9015, 'l2_leaf_reg': 0.5440401761791658}. Best is trial 11 with value: 0.9999382164164723.\u001b[0m\n"
     ]
    },
    {
     "name": "stdout",
     "output_type": "stream",
     "text": [
      "train auc score = 0.9999969473954021\n",
      "test auc score = 0.9999356505562117\n"
     ]
    },
    {
     "name": "stderr",
     "output_type": "stream",
     "text": [
      "Default metric period is 5 because AUC is/are not implemented for GPU\n"
     ]
    },
    {
     "name": "stdout",
     "output_type": "stream",
     "text": [
      "0:\ttest: 0.9993923\tbest: 0.9993923 (0)\ttotal: 173ms\tremaining: 28m 49s\n",
      "100:\ttest: 0.9999279\tbest: 0.9999285 (87)\ttotal: 17.1s\tremaining: 27m 57s\n",
      "200:\ttest: 0.9999335\tbest: 0.9999335 (200)\ttotal: 33.9s\tremaining: 27m 34s\n",
      "bestTest = 0.99993366\n",
      "bestIteration = 205\n",
      "Shrink model to first 206 iterations.\n"
     ]
    },
    {
     "name": "stderr",
     "output_type": "stream",
     "text": [
      "Default metric period is 5 because AUC is/are not implemented for GPU\n"
     ]
    },
    {
     "name": "stdout",
     "output_type": "stream",
     "text": [
      "0:\ttest: 0.9992974\tbest: 0.9992974 (0)\ttotal: 169ms\tremaining: 28m 6s\n",
      "100:\ttest: 0.9999349\tbest: 0.9999349 (99)\ttotal: 17.1s\tremaining: 27m 52s\n",
      "bestTest = 0.9999394417\n",
      "bestIteration = 157\n",
      "Shrink model to first 158 iterations.\n"
     ]
    },
    {
     "name": "stderr",
     "output_type": "stream",
     "text": [
      "Default metric period is 5 because AUC is/are not implemented for GPU\n"
     ]
    },
    {
     "name": "stdout",
     "output_type": "stream",
     "text": [
      "0:\ttest: 0.9993413\tbest: 0.9993413 (0)\ttotal: 168ms\tremaining: 28m 2s\n",
      "100:\ttest: 0.9999225\tbest: 0.9999225 (100)\ttotal: 17s\tremaining: 27m 47s\n",
      "200:\ttest: 0.9999305\tbest: 0.9999308 (194)\ttotal: 33.8s\tremaining: 27m 27s\n",
      "bestTest = 0.9999314547\n",
      "bestIteration = 222\n",
      "Shrink model to first 223 iterations.\n"
     ]
    },
    {
     "name": "stderr",
     "output_type": "stream",
     "text": [
      "Default metric period is 5 because AUC is/are not implemented for GPU\n"
     ]
    },
    {
     "name": "stdout",
     "output_type": "stream",
     "text": [
      "0:\ttest: 0.9994776\tbest: 0.9994776 (0)\ttotal: 171ms\tremaining: 28m 25s\n",
      "100:\ttest: 0.9999336\tbest: 0.9999338 (99)\ttotal: 17s\tremaining: 27m 49s\n",
      "200:\ttest: 0.9999366\tbest: 0.9999374 (176)\ttotal: 34s\tremaining: 27m 35s\n",
      "bestTest = 0.9999373555\n",
      "bestIteration = 176\n",
      "Shrink model to first 177 iterations.\n"
     ]
    },
    {
     "name": "stderr",
     "output_type": "stream",
     "text": [
      "Default metric period is 5 because AUC is/are not implemented for GPU\n"
     ]
    },
    {
     "name": "stdout",
     "output_type": "stream",
     "text": [
      "0:\ttest: 0.9994955\tbest: 0.9994955 (0)\ttotal: 181ms\tremaining: 30m 7s\n",
      "100:\ttest: 0.9999364\tbest: 0.9999366 (99)\ttotal: 17.2s\tremaining: 28m 6s\n",
      "bestTest = 0.9999368191\n",
      "bestIteration = 109\n",
      "Shrink model to first 110 iterations.\n"
     ]
    },
    {
     "name": "stderr",
     "output_type": "stream",
     "text": [
      "\u001b[32m[I 2023-01-13 14:52:01,544]\u001b[0m Trial 21 finished with value: 0.9999357172353426 and parameters: {'depth': 14, 'border_count': 166, 'min_data_in_leaf': 9501, 'l2_leaf_reg': 0.7530619766695622}. Best is trial 11 with value: 0.9999382164164723.\u001b[0m\n"
     ]
    },
    {
     "name": "stdout",
     "output_type": "stream",
     "text": [
      "train auc score = 0.999997974436859\n",
      "test auc score = 0.9999357172353426\n"
     ]
    },
    {
     "name": "stderr",
     "output_type": "stream",
     "text": [
      "Default metric period is 5 because AUC is/are not implemented for GPU\n"
     ]
    },
    {
     "name": "stdout",
     "output_type": "stream",
     "text": [
      "0:\ttest: 0.9993105\tbest: 0.9993105 (0)\ttotal: 95.7ms\tremaining: 15m 57s\n",
      "100:\ttest: 0.9999247\tbest: 0.9999247 (100)\ttotal: 9.84s\tremaining: 16m 4s\n",
      "200:\ttest: 0.9999292\tbest: 0.9999299 (180)\ttotal: 19.8s\tremaining: 16m 3s\n",
      "300:\ttest: 0.9999318\tbest: 0.9999322 (295)\ttotal: 29.4s\tremaining: 15m 46s\n",
      "bestTest = 0.9999322295\n",
      "bestIteration = 295\n",
      "Shrink model to first 296 iterations.\n"
     ]
    },
    {
     "name": "stderr",
     "output_type": "stream",
     "text": [
      "Default metric period is 5 because AUC is/are not implemented for GPU\n"
     ]
    },
    {
     "name": "stdout",
     "output_type": "stream",
     "text": [
      "0:\ttest: 0.9992552\tbest: 0.9992552 (0)\ttotal: 94.9ms\tremaining: 15m 48s\n",
      "100:\ttest: 0.9999350\tbest: 0.9999350 (97)\ttotal: 9.78s\tremaining: 15m 58s\n",
      "200:\ttest: 0.9999411\tbest: 0.9999411 (200)\ttotal: 19.3s\tremaining: 15m 39s\n",
      "bestTest = 0.9999415278\n",
      "bestIteration = 217\n",
      "Shrink model to first 218 iterations.\n"
     ]
    },
    {
     "name": "stderr",
     "output_type": "stream",
     "text": [
      "Default metric period is 5 because AUC is/are not implemented for GPU\n"
     ]
    },
    {
     "name": "stdout",
     "output_type": "stream",
     "text": [
      "0:\ttest: 0.9993042\tbest: 0.9993042 (0)\ttotal: 94.6ms\tremaining: 15m 46s\n",
      "100:\ttest: 0.9999274\tbest: 0.9999274 (100)\ttotal: 9.68s\tremaining: 15m 48s\n",
      "200:\ttest: 0.9999331\tbest: 0.9999332 (191)\ttotal: 19.2s\tremaining: 15m 37s\n",
      "bestTest = 0.9999344349\n",
      "bestIteration = 225\n",
      "Shrink model to first 226 iterations.\n"
     ]
    },
    {
     "name": "stderr",
     "output_type": "stream",
     "text": [
      "Default metric period is 5 because AUC is/are not implemented for GPU\n"
     ]
    },
    {
     "name": "stdout",
     "output_type": "stream",
     "text": [
      "0:\ttest: 0.9993977\tbest: 0.9993977 (0)\ttotal: 103ms\tremaining: 17m 5s\n",
      "100:\ttest: 0.9999248\tbest: 0.9999250 (98)\ttotal: 9.89s\tremaining: 16m 8s\n",
      "200:\ttest: 0.9999306\tbest: 0.9999306 (200)\ttotal: 19.6s\tremaining: 15m 53s\n",
      "bestTest = 0.9999331236\n",
      "bestIteration = 227\n",
      "Shrink model to first 228 iterations.\n"
     ]
    },
    {
     "name": "stderr",
     "output_type": "stream",
     "text": [
      "Default metric period is 5 because AUC is/are not implemented for GPU\n"
     ]
    },
    {
     "name": "stdout",
     "output_type": "stream",
     "text": [
      "0:\ttest: 0.9994207\tbest: 0.9994207 (0)\ttotal: 94.8ms\tremaining: 15m 48s\n",
      "100:\ttest: 0.9999360\tbest: 0.9999360 (100)\ttotal: 9.95s\tremaining: 16m 15s\n",
      "200:\ttest: 0.9999391\tbest: 0.9999392 (197)\ttotal: 19.5s\tremaining: 15m 52s\n",
      "bestTest = 0.9999397993\n",
      "bestIteration = 252\n",
      "Shrink model to first 253 iterations.\n"
     ]
    },
    {
     "name": "stderr",
     "output_type": "stream",
     "text": [
      "\u001b[32m[I 2023-01-13 14:54:29,345]\u001b[0m Trial 22 finished with value: 0.9999361667483051 and parameters: {'depth': 13, 'border_count': 196, 'min_data_in_leaf': 7875, 'l2_leaf_reg': 0.9220327002674394}. Best is trial 11 with value: 0.9999382164164723.\u001b[0m\n"
     ]
    },
    {
     "name": "stdout",
     "output_type": "stream",
     "text": [
      "train auc score = 0.9999989807466093\n",
      "test auc score = 0.9999361667483051\n"
     ]
    },
    {
     "name": "stderr",
     "output_type": "stream",
     "text": [
      "Default metric period is 5 because AUC is/are not implemented for GPU\n"
     ]
    },
    {
     "name": "stdout",
     "output_type": "stream",
     "text": [
      "0:\ttest: 0.9994768\tbest: 0.9994768 (0)\ttotal: 328ms\tremaining: 54m 35s\n",
      "100:\ttest: 0.9999248\tbest: 0.9999248 (100)\ttotal: 32.5s\tremaining: 53m 10s\n",
      "200:\ttest: 0.9999266\tbest: 0.9999276 (180)\ttotal: 1m 4s\tremaining: 52m 35s\n",
      "bestTest = 0.99992764\n",
      "bestIteration = 180\n",
      "Shrink model to first 181 iterations.\n"
     ]
    },
    {
     "name": "stderr",
     "output_type": "stream",
     "text": [
      "Default metric period is 5 because AUC is/are not implemented for GPU\n"
     ]
    },
    {
     "name": "stdout",
     "output_type": "stream",
     "text": [
      "0:\ttest: 0.9993652\tbest: 0.9993652 (0)\ttotal: 321ms\tremaining: 53m 28s\n",
      "100:\ttest: 0.9999328\tbest: 0.9999335 (93)\ttotal: 32.6s\tremaining: 53m 15s\n",
      "200:\ttest: 0.9999369\tbest: 0.9999369 (163)\ttotal: 1m 4s\tremaining: 52m 40s\n",
      "bestTest = 0.9999374747\n",
      "bestIteration = 226\n",
      "Shrink model to first 227 iterations.\n"
     ]
    },
    {
     "name": "stderr",
     "output_type": "stream",
     "text": [
      "Default metric period is 5 because AUC is/are not implemented for GPU\n"
     ]
    },
    {
     "name": "stdout",
     "output_type": "stream",
     "text": [
      "0:\ttest: 0.9994263\tbest: 0.9994263 (0)\ttotal: 323ms\tremaining: 53m 53s\n",
      "100:\ttest: 0.9999291\tbest: 0.9999291 (98)\ttotal: 32.5s\tremaining: 53m\n",
      "bestTest = 0.9999313354\n",
      "bestIteration = 127\n",
      "Shrink model to first 128 iterations.\n"
     ]
    },
    {
     "name": "stderr",
     "output_type": "stream",
     "text": [
      "Default metric period is 5 because AUC is/are not implemented for GPU\n"
     ]
    },
    {
     "name": "stdout",
     "output_type": "stream",
     "text": [
      "0:\ttest: 0.9995086\tbest: 0.9995086 (0)\ttotal: 326ms\tremaining: 54m 21s\n",
      "100:\ttest: 0.9999272\tbest: 0.9999281 (96)\ttotal: 32.5s\tremaining: 53m 2s\n",
      "200:\ttest: 0.9999323\tbest: 0.9999334 (181)\ttotal: 1m 4s\tremaining: 52m 30s\n",
      "bestTest = 0.999933362\n",
      "bestIteration = 181\n",
      "Shrink model to first 182 iterations.\n"
     ]
    },
    {
     "name": "stderr",
     "output_type": "stream",
     "text": [
      "Default metric period is 5 because AUC is/are not implemented for GPU\n"
     ]
    },
    {
     "name": "stdout",
     "output_type": "stream",
     "text": [
      "0:\ttest: 0.9995367\tbest: 0.9995367 (0)\ttotal: 330ms\tremaining: 55m\n",
      "100:\ttest: 0.9999322\tbest: 0.9999357 (63)\ttotal: 32.6s\tremaining: 53m 14s\n",
      "bestTest = 0.9999356866\n",
      "bestIteration = 63\n",
      "Shrink model to first 64 iterations.\n"
     ]
    },
    {
     "name": "stderr",
     "output_type": "stream",
     "text": [
      "\u001b[32m[I 2023-01-13 14:59:56,490]\u001b[0m Trial 23 finished with value: 0.9999330649126174 and parameters: {'depth': 15, 'border_count': 123, 'min_data_in_leaf': 9141, 'l2_leaf_reg': 0.17544902036208487}. Best is trial 11 with value: 0.9999382164164723.\u001b[0m\n"
     ]
    },
    {
     "name": "stdout",
     "output_type": "stream",
     "text": [
      "train auc score = 0.9999983421027194\n",
      "test auc score = 0.9999330649126174\n"
     ]
    },
    {
     "name": "stderr",
     "output_type": "stream",
     "text": [
      "Default metric period is 5 because AUC is/are not implemented for GPU\n"
     ]
    },
    {
     "name": "stdout",
     "output_type": "stream",
     "text": [
      "0:\ttest: 0.9993939\tbest: 0.9993939 (0)\ttotal: 174ms\tremaining: 29m 2s\n",
      "100:\ttest: 0.9999260\tbest: 0.9999263 (99)\ttotal: 17.2s\tremaining: 28m 9s\n",
      "bestTest = 0.9999287128\n",
      "bestIteration = 125\n",
      "Shrink model to first 126 iterations.\n"
     ]
    },
    {
     "name": "stderr",
     "output_type": "stream",
     "text": [
      "Default metric period is 5 because AUC is/are not implemented for GPU\n"
     ]
    },
    {
     "name": "stdout",
     "output_type": "stream",
     "text": [
      "0:\ttest: 0.9992976\tbest: 0.9992976 (0)\ttotal: 174ms\tremaining: 28m 57s\n",
      "100:\ttest: 0.9999345\tbest: 0.9999345 (100)\ttotal: 17.1s\tremaining: 27m 56s\n",
      "200:\ttest: 0.9999383\tbest: 0.9999390 (169)\ttotal: 34s\tremaining: 27m 37s\n",
      "bestTest = 0.9999389648\n",
      "bestIteration = 169\n",
      "Shrink model to first 170 iterations.\n"
     ]
    },
    {
     "name": "stderr",
     "output_type": "stream",
     "text": [
      "Default metric period is 5 because AUC is/are not implemented for GPU\n"
     ]
    },
    {
     "name": "stdout",
     "output_type": "stream",
     "text": [
      "0:\ttest: 0.9993440\tbest: 0.9993440 (0)\ttotal: 171ms\tremaining: 28m 33s\n",
      "100:\ttest: 0.9999258\tbest: 0.9999258 (100)\ttotal: 17.1s\tremaining: 27m 52s\n",
      "200:\ttest: 0.9999319\tbest: 0.9999320 (193)\ttotal: 33.9s\tremaining: 27m 32s\n",
      "300:\ttest: 0.9999345\tbest: 0.9999347 (293)\ttotal: 50.7s\tremaining: 27m 13s\n",
      "bestTest = 0.999935925\n",
      "bestIteration = 358\n",
      "Shrink model to first 359 iterations.\n"
     ]
    },
    {
     "name": "stderr",
     "output_type": "stream",
     "text": [
      "Default metric period is 5 because AUC is/are not implemented for GPU\n"
     ]
    },
    {
     "name": "stdout",
     "output_type": "stream",
     "text": [
      "0:\ttest: 0.9994811\tbest: 0.9994811 (0)\ttotal: 177ms\tremaining: 29m 27s\n",
      "100:\ttest: 0.9999315\tbest: 0.9999322 (96)\ttotal: 17.4s\tremaining: 28m 24s\n",
      "200:\ttest: 0.9999342\tbest: 0.9999344 (166)\ttotal: 34.7s\tremaining: 28m 10s\n",
      "bestTest = 0.9999344349\n",
      "bestIteration = 166\n",
      "Shrink model to first 167 iterations.\n"
     ]
    },
    {
     "name": "stderr",
     "output_type": "stream",
     "text": [
      "Default metric period is 5 because AUC is/are not implemented for GPU\n"
     ]
    },
    {
     "name": "stdout",
     "output_type": "stream",
     "text": [
      "0:\ttest: 0.9994907\tbest: 0.9994907 (0)\ttotal: 169ms\tremaining: 28m 10s\n",
      "100:\ttest: 0.9999332\tbest: 0.9999332 (99)\ttotal: 17.1s\tremaining: 27m 56s\n",
      "bestTest = 0.9999335408\n",
      "bestIteration = 120\n",
      "Shrink model to first 121 iterations.\n"
     ]
    },
    {
     "name": "stderr",
     "output_type": "stream",
     "text": [
      "\u001b[32m[I 2023-01-13 15:03:20,842]\u001b[0m Trial 24 finished with value: 0.9999343214521792 and parameters: {'depth': 14, 'border_count': 169, 'min_data_in_leaf': 7608, 'l2_leaf_reg': 0.48264200505433347}. Best is trial 11 with value: 0.9999382164164723.\u001b[0m\n"
     ]
    },
    {
     "name": "stdout",
     "output_type": "stream",
     "text": [
      "train auc score = 0.9999983854966967\n",
      "test auc score = 0.9999343214521792\n"
     ]
    },
    {
     "name": "stderr",
     "output_type": "stream",
     "text": [
      "Default metric period is 5 because AUC is/are not implemented for GPU\n"
     ]
    },
    {
     "name": "stdout",
     "output_type": "stream",
     "text": [
      "0:\ttest: 0.9993129\tbest: 0.9993129 (0)\ttotal: 95ms\tremaining: 15m 49s\n",
      "100:\ttest: 0.9999231\tbest: 0.9999231 (100)\ttotal: 10.5s\tremaining: 17m 5s\n",
      "200:\ttest: 0.9999294\tbest: 0.9999297 (199)\ttotal: 20.1s\tremaining: 16m 18s\n",
      "300:\ttest: 0.9999306\tbest: 0.9999314 (268)\ttotal: 30.1s\tremaining: 16m 8s\n",
      "bestTest = 0.9999313951\n",
      "bestIteration = 268\n",
      "Shrink model to first 269 iterations.\n"
     ]
    },
    {
     "name": "stderr",
     "output_type": "stream",
     "text": [
      "Default metric period is 5 because AUC is/are not implemented for GPU\n"
     ]
    },
    {
     "name": "stdout",
     "output_type": "stream",
     "text": [
      "0:\ttest: 0.9992601\tbest: 0.9992601 (0)\ttotal: 96.7ms\tremaining: 16m 6s\n",
      "100:\ttest: 0.9999316\tbest: 0.9999316 (98)\ttotal: 9.58s\tremaining: 15m 39s\n",
      "200:\ttest: 0.9999372\tbest: 0.9999372 (191)\ttotal: 19.1s\tremaining: 15m 33s\n",
      "bestTest = 0.9999372363\n",
      "bestIteration = 191\n",
      "Shrink model to first 192 iterations.\n"
     ]
    },
    {
     "name": "stderr",
     "output_type": "stream",
     "text": [
      "Default metric period is 5 because AUC is/are not implemented for GPU\n"
     ]
    },
    {
     "name": "stdout",
     "output_type": "stream",
     "text": [
      "0:\ttest: 0.9992933\tbest: 0.9992933 (0)\ttotal: 94.7ms\tremaining: 15m 46s\n",
      "100:\ttest: 0.9999261\tbest: 0.9999264 (82)\ttotal: 9.53s\tremaining: 15m 33s\n",
      "200:\ttest: 0.9999300\tbest: 0.9999303 (187)\ttotal: 19s\tremaining: 15m 26s\n",
      "300:\ttest: 0.9999321\tbest: 0.9999321 (299)\ttotal: 28.6s\tremaining: 15m 20s\n",
      "400:\ttest: 0.9999327\tbest: 0.9999336 (363)\ttotal: 38.1s\tremaining: 15m 12s\n",
      "bestTest = 0.9999336004\n",
      "bestIteration = 363\n",
      "Shrink model to first 364 iterations.\n"
     ]
    },
    {
     "name": "stderr",
     "output_type": "stream",
     "text": [
      "Default metric period is 5 because AUC is/are not implemented for GPU\n"
     ]
    },
    {
     "name": "stdout",
     "output_type": "stream",
     "text": [
      "0:\ttest: 0.9994033\tbest: 0.9994033 (0)\ttotal: 102ms\tremaining: 17m 1s\n",
      "100:\ttest: 0.9999243\tbest: 0.9999272 (90)\ttotal: 9.63s\tremaining: 15m 43s\n",
      "200:\ttest: 0.9999288\tbest: 0.9999293 (173)\ttotal: 19.6s\tremaining: 15m 54s\n",
      "bestTest = 0.9999293089\n",
      "bestIteration = 173\n",
      "Shrink model to first 174 iterations.\n"
     ]
    },
    {
     "name": "stderr",
     "output_type": "stream",
     "text": [
      "Default metric period is 5 because AUC is/are not implemented for GPU\n"
     ]
    },
    {
     "name": "stdout",
     "output_type": "stream",
     "text": [
      "0:\ttest: 0.9994177\tbest: 0.9994177 (0)\ttotal: 100ms\tremaining: 16m 43s\n",
      "100:\ttest: 0.9999306\tbest: 0.9999306 (100)\ttotal: 9.83s\tremaining: 16m 3s\n",
      "bestTest = 0.9999305904\n",
      "bestIteration = 100\n",
      "Shrink model to first 101 iterations.\n"
     ]
    },
    {
     "name": "stderr",
     "output_type": "stream",
     "text": [
      "\u001b[32m[I 2023-01-13 15:05:37,457]\u001b[0m Trial 25 finished with value: 0.9999324021659419 and parameters: {'depth': 13, 'border_count': 205, 'min_data_in_leaf': 9055, 'l2_leaf_reg': 0.23926117390749985}. Best is trial 11 with value: 0.9999382164164723.\u001b[0m\n"
     ]
    },
    {
     "name": "stdout",
     "output_type": "stream",
     "text": [
      "train auc score = 0.9999981184037805\n",
      "test auc score = 0.9999324021659419\n"
     ]
    },
    {
     "name": "stderr",
     "output_type": "stream",
     "text": [
      "Default metric period is 5 because AUC is/are not implemented for GPU\n"
     ]
    },
    {
     "name": "stdout",
     "output_type": "stream",
     "text": [
      "0:\ttest: 0.9986936\tbest: 0.9986936 (0)\ttotal: 39.3ms\tremaining: 6m 33s\n",
      "100:\ttest: 0.9999163\tbest: 0.9999164 (99)\ttotal: 3.35s\tremaining: 5m 28s\n",
      "200:\ttest: 0.9999265\tbest: 0.9999266 (199)\ttotal: 6.59s\tremaining: 5m 21s\n",
      "300:\ttest: 0.9999311\tbest: 0.9999311 (300)\ttotal: 9.66s\tremaining: 5m 11s\n",
      "bestTest = 0.9999313951\n",
      "bestIteration = 318\n",
      "Shrink model to first 319 iterations.\n"
     ]
    },
    {
     "name": "stderr",
     "output_type": "stream",
     "text": [
      "Default metric period is 5 because AUC is/are not implemented for GPU\n"
     ]
    },
    {
     "name": "stdout",
     "output_type": "stream",
     "text": [
      "0:\ttest: 0.9986174\tbest: 0.9986174 (0)\ttotal: 31.7ms\tremaining: 5m 16s\n",
      "100:\ttest: 0.9999262\tbest: 0.9999266 (98)\ttotal: 3.41s\tremaining: 5m 33s\n",
      "200:\ttest: 0.9999335\tbest: 0.9999335 (199)\ttotal: 6.59s\tremaining: 5m 21s\n",
      "300:\ttest: 0.9999360\tbest: 0.9999362 (277)\ttotal: 9.87s\tremaining: 5m 18s\n",
      "bestTest = 0.9999367595\n",
      "bestIteration = 341\n",
      "Shrink model to first 342 iterations.\n"
     ]
    },
    {
     "name": "stderr",
     "output_type": "stream",
     "text": [
      "Default metric period is 5 because AUC is/are not implemented for GPU\n"
     ]
    },
    {
     "name": "stdout",
     "output_type": "stream",
     "text": [
      "0:\ttest: 0.9986868\tbest: 0.9986868 (0)\ttotal: 32.7ms\tremaining: 5m 27s\n",
      "100:\ttest: 0.9999179\tbest: 0.9999181 (98)\ttotal: 3.1s\tremaining: 5m 4s\n",
      "200:\ttest: 0.9999282\tbest: 0.9999282 (200)\ttotal: 6.38s\tremaining: 5m 10s\n",
      "300:\ttest: 0.9999314\tbest: 0.9999317 (290)\ttotal: 9.52s\tremaining: 5m 6s\n",
      "bestTest = 0.9999331236\n",
      "bestIteration = 334\n",
      "Shrink model to first 335 iterations.\n"
     ]
    },
    {
     "name": "stderr",
     "output_type": "stream",
     "text": [
      "Default metric period is 5 because AUC is/are not implemented for GPU\n"
     ]
    },
    {
     "name": "stdout",
     "output_type": "stream",
     "text": [
      "0:\ttest: 0.9988558\tbest: 0.9988558 (0)\ttotal: 31.6ms\tremaining: 5m 16s\n",
      "100:\ttest: 0.9999220\tbest: 0.9999223 (91)\ttotal: 3.38s\tremaining: 5m 31s\n",
      "200:\ttest: 0.9999318\tbest: 0.9999322 (197)\ttotal: 6.49s\tremaining: 5m 16s\n",
      "300:\ttest: 0.9999345\tbest: 0.9999345 (299)\ttotal: 9.81s\tremaining: 5m 16s\n",
      "400:\ttest: 0.9999362\tbest: 0.9999363 (397)\ttotal: 12.9s\tremaining: 5m 7s\n",
      "bestTest = 0.9999364018\n",
      "bestIteration = 403\n",
      "Shrink model to first 404 iterations.\n"
     ]
    },
    {
     "name": "stderr",
     "output_type": "stream",
     "text": [
      "Default metric period is 5 because AUC is/are not implemented for GPU\n"
     ]
    },
    {
     "name": "stdout",
     "output_type": "stream",
     "text": [
      "0:\ttest: 0.9988794\tbest: 0.9988794 (0)\ttotal: 32.4ms\tremaining: 5m 24s\n",
      "100:\ttest: 0.9999302\tbest: 0.9999304 (99)\ttotal: 3.22s\tremaining: 5m 15s\n",
      "200:\ttest: 0.9999313\tbest: 0.9999325 (163)\ttotal: 6.37s\tremaining: 5m 10s\n",
      "bestTest = 0.9999325275\n",
      "bestIteration = 163\n",
      "Shrink model to first 164 iterations.\n"
     ]
    },
    {
     "name": "stderr",
     "output_type": "stream",
     "text": [
      "\u001b[32m[I 2023-01-13 15:06:43,994]\u001b[0m Trial 26 finished with value: 0.999934031470817 and parameters: {'depth': 11, 'border_count': 166, 'min_data_in_leaf': 9997, 'l2_leaf_reg': 0.48134009333994804}. Best is trial 11 with value: 0.9999382164164723.\u001b[0m\n"
     ]
    },
    {
     "name": "stdout",
     "output_type": "stream",
     "text": [
      "train auc score = 0.9999972629880215\n",
      "test auc score = 0.999934031470817\n"
     ]
    },
    {
     "name": "stderr",
     "output_type": "stream",
     "text": [
      "Default metric period is 5 because AUC is/are not implemented for GPU\n"
     ]
    },
    {
     "name": "stdout",
     "output_type": "stream",
     "text": [
      "0:\ttest: 0.9993757\tbest: 0.9993757 (0)\ttotal: 177ms\tremaining: 29m 34s\n",
      "100:\ttest: 0.9999160\tbest: 0.9999160 (98)\ttotal: 17.9s\tremaining: 29m 12s\n",
      "bestTest = 0.9999160767\n",
      "bestIteration = 107\n",
      "Shrink model to first 108 iterations.\n"
     ]
    },
    {
     "name": "stderr",
     "output_type": "stream",
     "text": [
      "Default metric period is 5 because AUC is/are not implemented for GPU\n"
     ]
    },
    {
     "name": "stdout",
     "output_type": "stream",
     "text": [
      "0:\ttest: 0.9992440\tbest: 0.9992440 (0)\ttotal: 177ms\tremaining: 29m 29s\n",
      "100:\ttest: 0.9999269\tbest: 0.9999269 (100)\ttotal: 17.9s\tremaining: 29m 17s\n",
      "bestTest = 0.9999287128\n",
      "bestIteration = 127\n",
      "Shrink model to first 128 iterations.\n"
     ]
    },
    {
     "name": "stderr",
     "output_type": "stream",
     "text": [
      "Default metric period is 5 because AUC is/are not implemented for GPU\n"
     ]
    },
    {
     "name": "stdout",
     "output_type": "stream",
     "text": [
      "0:\ttest: 0.9993033\tbest: 0.9993033 (0)\ttotal: 177ms\tremaining: 29m 28s\n",
      "100:\ttest: 0.9999176\tbest: 0.9999194 (73)\ttotal: 17.9s\tremaining: 29m 10s\n",
      "200:\ttest: 0.9999248\tbest: 0.9999252 (179)\ttotal: 35.5s\tremaining: 28m 53s\n",
      "300:\ttest: 0.9999274\tbest: 0.9999275 (278)\ttotal: 53.1s\tremaining: 28m 31s\n",
      "bestTest = 0.99992764\n",
      "bestIteration = 309\n",
      "Shrink model to first 310 iterations.\n"
     ]
    },
    {
     "name": "stderr",
     "output_type": "stream",
     "text": [
      "Default metric period is 5 because AUC is/are not implemented for GPU\n"
     ]
    },
    {
     "name": "stdout",
     "output_type": "stream",
     "text": [
      "0:\ttest: 0.9994908\tbest: 0.9994908 (0)\ttotal: 182ms\tremaining: 30m 17s\n",
      "100:\ttest: 0.9999216\tbest: 0.9999223 (73)\ttotal: 17.8s\tremaining: 29m 5s\n",
      "bestTest = 0.9999262691\n",
      "bestIteration = 155\n",
      "Shrink model to first 156 iterations.\n"
     ]
    },
    {
     "name": "stderr",
     "output_type": "stream",
     "text": [
      "Default metric period is 5 because AUC is/are not implemented for GPU\n"
     ]
    },
    {
     "name": "stdout",
     "output_type": "stream",
     "text": [
      "0:\ttest: 0.9994597\tbest: 0.9994597 (0)\ttotal: 178ms\tremaining: 29m 42s\n",
      "100:\ttest: 0.9999241\tbest: 0.9999249 (93)\ttotal: 17.9s\tremaining: 29m 18s\n",
      "bestTest = 0.9999252558\n",
      "bestIteration = 106\n",
      "Shrink model to first 107 iterations.\n"
     ]
    },
    {
     "name": "stderr",
     "output_type": "stream",
     "text": [
      "\u001b[32m[I 2023-01-13 15:09:52,523]\u001b[0m Trial 27 finished with value: 0.9999247863230056 and parameters: {'depth': 14, 'border_count': 192, 'min_data_in_leaf': 8454, 'l2_leaf_reg': 0.054232904865037214}. Best is trial 11 with value: 0.9999382164164723.\u001b[0m\n"
     ]
    },
    {
     "name": "stdout",
     "output_type": "stream",
     "text": [
      "train auc score = 0.9999989680621487\n",
      "test auc score = 0.9999247863230056\n"
     ]
    },
    {
     "name": "stderr",
     "output_type": "stream",
     "text": [
      "Default metric period is 5 because AUC is/are not implemented for GPU\n"
     ]
    },
    {
     "name": "stdout",
     "output_type": "stream",
     "text": [
      "0:\ttest: 0.9993977\tbest: 0.9993977 (0)\ttotal: 343ms\tremaining: 57m 14s\n",
      "100:\ttest: 0.9999318\tbest: 0.9999318 (99)\ttotal: 34.6s\tremaining: 56m 34s\n",
      "bestTest = 0.9999338388\n",
      "bestIteration = 139\n",
      "Shrink model to first 140 iterations.\n"
     ]
    },
    {
     "name": "stderr",
     "output_type": "stream",
     "text": [
      "Default metric period is 5 because AUC is/are not implemented for GPU\n"
     ]
    },
    {
     "name": "stdout",
     "output_type": "stream",
     "text": [
      "0:\ttest: 0.9993401\tbest: 0.9993401 (0)\ttotal: 341ms\tremaining: 56m 53s\n",
      "100:\ttest: 0.9999378\tbest: 0.9999378 (98)\ttotal: 34.7s\tremaining: 56m 43s\n",
      "200:\ttest: 0.9999424\tbest: 0.9999425 (188)\ttotal: 1m 8s\tremaining: 56m 2s\n",
      "300:\ttest: 0.9999440\tbest: 0.9999446 (264)\ttotal: 1m 43s\tremaining: 55m 20s\n",
      "bestTest = 0.9999446273\n",
      "bestIteration = 264\n",
      "Shrink model to first 265 iterations.\n"
     ]
    },
    {
     "name": "stderr",
     "output_type": "stream",
     "text": [
      "Default metric period is 5 because AUC is/are not implemented for GPU\n"
     ]
    },
    {
     "name": "stdout",
     "output_type": "stream",
     "text": [
      "0:\ttest: 0.9994342\tbest: 0.9994342 (0)\ttotal: 343ms\tremaining: 57m 11s\n",
      "100:\ttest: 0.9999275\tbest: 0.9999276 (99)\ttotal: 34.6s\tremaining: 56m 30s\n",
      "200:\ttest: 0.9999347\tbest: 0.9999347 (199)\ttotal: 1m 8s\tremaining: 55m 51s\n",
      "300:\ttest: 0.9999371\tbest: 0.9999372 (295)\ttotal: 1m 42s\tremaining: 55m 16s\n",
      "bestTest = 0.9999372363\n",
      "bestIteration = 295\n",
      "Shrink model to first 296 iterations.\n"
     ]
    },
    {
     "name": "stderr",
     "output_type": "stream",
     "text": [
      "Default metric period is 5 because AUC is/are not implemented for GPU\n"
     ]
    },
    {
     "name": "stdout",
     "output_type": "stream",
     "text": [
      "0:\ttest: 0.9995274\tbest: 0.9995274 (0)\ttotal: 342ms\tremaining: 56m 59s\n",
      "100:\ttest: 0.9999350\tbest: 0.9999350 (100)\ttotal: 34.6s\tremaining: 56m 32s\n",
      "200:\ttest: 0.9999394\tbest: 0.9999394 (200)\ttotal: 1m 8s\tremaining: 55m 52s\n",
      "bestTest = 0.9999401569\n",
      "bestIteration = 245\n",
      "Shrink model to first 246 iterations.\n"
     ]
    },
    {
     "name": "stderr",
     "output_type": "stream",
     "text": [
      "Default metric period is 5 because AUC is/are not implemented for GPU\n"
     ]
    },
    {
     "name": "stdout",
     "output_type": "stream",
     "text": [
      "0:\ttest: 0.9995483\tbest: 0.9995483 (0)\ttotal: 341ms\tremaining: 56m 47s\n",
      "100:\ttest: 0.9999405\tbest: 0.9999405 (99)\ttotal: 34.6s\tremaining: 56m 32s\n",
      "bestTest = 0.999941051\n",
      "bestIteration = 116\n",
      "Shrink model to first 117 iterations.\n"
     ]
    },
    {
     "name": "stderr",
     "output_type": "stream",
     "text": [
      "\u001b[32m[I 2023-01-13 15:17:17,227]\u001b[0m Trial 28 finished with value: 0.99993934376161 and parameters: {'depth': 15, 'border_count': 236, 'min_data_in_leaf': 7251, 'l2_leaf_reg': 0.9906853098873613}. Best is trial 28 with value: 0.99993934376161.\u001b[0m\n"
     ]
    },
    {
     "name": "stdout",
     "output_type": "stream",
     "text": [
      "train auc score = 0.9999988656429935\n",
      "test auc score = 0.99993934376161\n"
     ]
    },
    {
     "name": "stderr",
     "output_type": "stream",
     "text": [
      "Default metric period is 5 because AUC is/are not implemented for GPU\n"
     ]
    },
    {
     "name": "stdout",
     "output_type": "stream",
     "text": [
      "0:\ttest: 0.9994574\tbest: 0.9994574 (0)\ttotal: 319ms\tremaining: 53m 8s\n",
      "100:\ttest: 0.9999121\tbest: 0.9999122 (78)\ttotal: 32.2s\tremaining: 52m 31s\n",
      "bestTest = 0.9999147654\n",
      "bestIteration = 120\n",
      "Shrink model to first 121 iterations.\n"
     ]
    },
    {
     "name": "stderr",
     "output_type": "stream",
     "text": [
      "Default metric period is 5 because AUC is/are not implemented for GPU\n"
     ]
    },
    {
     "name": "stdout",
     "output_type": "stream",
     "text": [
      "0:\ttest: 0.9993940\tbest: 0.9993940 (0)\ttotal: 316ms\tremaining: 52m 37s\n",
      "100:\ttest: 0.9999197\tbest: 0.9999216 (62)\ttotal: 32.1s\tremaining: 52m 29s\n",
      "bestTest = 0.9999215603\n",
      "bestIteration = 62\n",
      "Shrink model to first 63 iterations.\n"
     ]
    },
    {
     "name": "stderr",
     "output_type": "stream",
     "text": [
      "Default metric period is 5 because AUC is/are not implemented for GPU\n"
     ]
    },
    {
     "name": "stdout",
     "output_type": "stream",
     "text": [
      "0:\ttest: 0.9992650\tbest: 0.9992650 (0)\ttotal: 317ms\tremaining: 52m 47s\n",
      "100:\ttest: 0.9999095\tbest: 0.9999095 (99)\ttotal: 32.1s\tremaining: 52m 24s\n",
      "bestTest = 0.9999095201\n",
      "bestIteration = 99\n",
      "Shrink model to first 100 iterations.\n"
     ]
    },
    {
     "name": "stderr",
     "output_type": "stream",
     "text": [
      "Default metric period is 5 because AUC is/are not implemented for GPU\n"
     ]
    },
    {
     "name": "stdout",
     "output_type": "stream",
     "text": [
      "0:\ttest: 0.9994891\tbest: 0.9994891 (0)\ttotal: 319ms\tremaining: 53m 9s\n",
      "100:\ttest: 0.9999086\tbest: 0.9999104 (92)\ttotal: 32.1s\tremaining: 52m 30s\n",
      "bestTest = 0.9999116659\n",
      "bestIteration = 120\n",
      "Shrink model to first 121 iterations.\n"
     ]
    },
    {
     "name": "stderr",
     "output_type": "stream",
     "text": [
      "Default metric period is 5 because AUC is/are not implemented for GPU\n"
     ]
    },
    {
     "name": "stdout",
     "output_type": "stream",
     "text": [
      "0:\ttest: 0.9995137\tbest: 0.9995137 (0)\ttotal: 317ms\tremaining: 52m 53s\n",
      "bestTest = 0.9999281466\n",
      "bestIteration = 46\n",
      "Shrink model to first 47 iterations.\n"
     ]
    },
    {
     "name": "stderr",
     "output_type": "stream",
     "text": [
      "\u001b[32m[I 2023-01-13 15:20:54,229]\u001b[0m Trial 29 finished with value: 0.9999171306233772 and parameters: {'depth': 15, 'border_count': 24, 'min_data_in_leaf': 279, 'l2_leaf_reg': 0.04263746758977485}. Best is trial 28 with value: 0.99993934376161.\u001b[0m\n"
     ]
    },
    {
     "name": "stdout",
     "output_type": "stream",
     "text": [
      "train auc score = 0.9999962942092309\n",
      "test auc score = 0.9999171306233772\n"
     ]
    },
    {
     "name": "stderr",
     "output_type": "stream",
     "text": [
      "Default metric period is 5 because AUC is/are not implemented for GPU\n"
     ]
    },
    {
     "name": "stdout",
     "output_type": "stream",
     "text": [
      "0:\ttest: 0.9942546\tbest: 0.9942546 (0)\ttotal: 9.12ms\tremaining: 1m 31s\n",
      "100:\ttest: 0.9998636\tbest: 0.9998636 (100)\ttotal: 833ms\tremaining: 1m 21s\n",
      "200:\ttest: 0.9998960\tbest: 0.9998960 (200)\ttotal: 1.75s\tremaining: 1m 25s\n",
      "300:\ttest: 0.9999080\tbest: 0.9999080 (300)\ttotal: 2.57s\tremaining: 1m 22s\n",
      "400:\ttest: 0.9999144\tbest: 0.9999154 (388)\ttotal: 3.47s\tremaining: 1m 23s\n",
      "500:\ttest: 0.9999186\tbest: 0.9999191 (499)\ttotal: 4.28s\tremaining: 1m 21s\n",
      "bestTest = 0.9999191165\n",
      "bestIteration = 499\n",
      "Shrink model to first 500 iterations.\n"
     ]
    },
    {
     "name": "stderr",
     "output_type": "stream",
     "text": [
      "Default metric period is 5 because AUC is/are not implemented for GPU\n"
     ]
    },
    {
     "name": "stdout",
     "output_type": "stream",
     "text": [
      "0:\ttest: 0.9949176\tbest: 0.9949176 (0)\ttotal: 11.7ms\tremaining: 1m 57s\n",
      "100:\ttest: 0.9998883\tbest: 0.9998883 (100)\ttotal: 875ms\tremaining: 1m 25s\n",
      "200:\ttest: 0.9999078\tbest: 0.9999084 (197)\ttotal: 1.7s\tremaining: 1m 23s\n",
      "300:\ttest: 0.9999170\tbest: 0.9999173 (296)\ttotal: 2.63s\tremaining: 1m 24s\n",
      "400:\ttest: 0.9999222\tbest: 0.9999224 (396)\ttotal: 3.48s\tremaining: 1m 23s\n",
      "500:\ttest: 0.9999246\tbest: 0.9999257 (474)\ttotal: 4.33s\tremaining: 1m 22s\n",
      "bestTest = 0.9999257326\n",
      "bestIteration = 474\n",
      "Shrink model to first 475 iterations.\n"
     ]
    },
    {
     "name": "stderr",
     "output_type": "stream",
     "text": [
      "Default metric period is 5 because AUC is/are not implemented for GPU\n"
     ]
    },
    {
     "name": "stdout",
     "output_type": "stream",
     "text": [
      "0:\ttest: 0.9946729\tbest: 0.9946729 (0)\ttotal: 8.87ms\tremaining: 1m 28s\n",
      "100:\ttest: 0.9998618\tbest: 0.9998618 (100)\ttotal: 894ms\tremaining: 1m 27s\n",
      "200:\ttest: 0.9998828\tbest: 0.9998835 (197)\ttotal: 1.91s\tremaining: 1m 32s\n",
      "300:\ttest: 0.9998933\tbest: 0.9998933 (300)\ttotal: 2.76s\tremaining: 1m 28s\n",
      "400:\ttest: 0.9999007\tbest: 0.9999010 (394)\ttotal: 3.61s\tremaining: 1m 26s\n",
      "500:\ttest: 0.9999061\tbest: 0.9999061 (498)\ttotal: 4.46s\tremaining: 1m 24s\n",
      "600:\ttest: 0.9999098\tbest: 0.9999098 (600)\ttotal: 5.28s\tremaining: 1m 22s\n",
      "700:\ttest: 0.9999116\tbest: 0.9999120 (693)\ttotal: 6.14s\tremaining: 1m 21s\n",
      "800:\ttest: 0.9999138\tbest: 0.9999139 (765)\ttotal: 6.96s\tremaining: 1m 19s\n",
      "bestTest = 0.9999138713\n",
      "bestIteration = 765\n",
      "Shrink model to first 766 iterations.\n"
     ]
    },
    {
     "name": "stderr",
     "output_type": "stream",
     "text": [
      "Default metric period is 5 because AUC is/are not implemented for GPU\n"
     ]
    },
    {
     "name": "stdout",
     "output_type": "stream",
     "text": [
      "0:\ttest: 0.9949215\tbest: 0.9949215 (0)\ttotal: 8.85ms\tremaining: 1m 28s\n",
      "100:\ttest: 0.9998839\tbest: 0.9998839 (100)\ttotal: 876ms\tremaining: 1m 25s\n",
      "200:\ttest: 0.9999094\tbest: 0.9999095 (198)\ttotal: 1.68s\tremaining: 1m 21s\n",
      "300:\ttest: 0.9999176\tbest: 0.9999176 (300)\ttotal: 2.58s\tremaining: 1m 23s\n",
      "400:\ttest: 0.9999236\tbest: 0.9999238 (398)\ttotal: 3.4s\tremaining: 1m 21s\n",
      "500:\ttest: 0.9999276\tbest: 0.9999276 (500)\ttotal: 4.23s\tremaining: 1m 20s\n",
      "bestTest = 0.9999292493\n",
      "bestIteration = 547\n",
      "Shrink model to first 548 iterations.\n"
     ]
    },
    {
     "name": "stderr",
     "output_type": "stream",
     "text": [
      "Default metric period is 5 because AUC is/are not implemented for GPU\n"
     ]
    },
    {
     "name": "stdout",
     "output_type": "stream",
     "text": [
      "0:\ttest: 0.9944848\tbest: 0.9944848 (0)\ttotal: 8.88ms\tremaining: 1m 28s\n",
      "100:\ttest: 0.9998924\tbest: 0.9998924 (100)\ttotal: 850ms\tremaining: 1m 23s\n",
      "200:\ttest: 0.9999095\tbest: 0.9999095 (200)\ttotal: 1.72s\tremaining: 1m 23s\n",
      "bestTest = 0.9999109507\n",
      "bestIteration = 206\n",
      "Shrink model to first 207 iterations.\n"
     ]
    },
    {
     "name": "stderr",
     "output_type": "stream",
     "text": [
      "\u001b[32m[I 2023-01-13 15:21:26,334]\u001b[0m Trial 30 finished with value: 0.9999197541520864 and parameters: {'depth': 6, 'border_count': 246, 'min_data_in_leaf': 5855, 'l2_leaf_reg': 0.022510000812554602}. Best is trial 28 with value: 0.99993934376161.\u001b[0m\n"
     ]
    },
    {
     "name": "stdout",
     "output_type": "stream",
     "text": [
      "train auc score = 0.9999756844791852\n",
      "test auc score = 0.9999197541520864\n"
     ]
    },
    {
     "name": "stderr",
     "output_type": "stream",
     "text": [
      "Default metric period is 5 because AUC is/are not implemented for GPU\n"
     ]
    },
    {
     "name": "stdout",
     "output_type": "stream",
     "text": [
      "0:\ttest: 0.9993877\tbest: 0.9993877 (0)\ttotal: 178ms\tremaining: 29m 41s\n",
      "100:\ttest: 0.9999315\tbest: 0.9999316 (99)\ttotal: 17.9s\tremaining: 29m 10s\n",
      "bestTest = 0.9999341369\n",
      "bestIteration = 131\n",
      "Shrink model to first 132 iterations.\n"
     ]
    },
    {
     "name": "stderr",
     "output_type": "stream",
     "text": [
      "Default metric period is 5 because AUC is/are not implemented for GPU\n"
     ]
    },
    {
     "name": "stdout",
     "output_type": "stream",
     "text": [
      "0:\ttest: 0.9992673\tbest: 0.9992673 (0)\ttotal: 185ms\tremaining: 30m 50s\n",
      "100:\ttest: 0.9999346\tbest: 0.9999346 (100)\ttotal: 17.9s\tremaining: 29m 14s\n",
      "200:\ttest: 0.9999391\tbest: 0.9999391 (200)\ttotal: 35.6s\tremaining: 28m 56s\n",
      "bestTest = 0.9999419451\n",
      "bestIteration = 259\n",
      "Shrink model to first 260 iterations.\n"
     ]
    },
    {
     "name": "stderr",
     "output_type": "stream",
     "text": [
      "Default metric period is 5 because AUC is/are not implemented for GPU\n"
     ]
    },
    {
     "name": "stdout",
     "output_type": "stream",
     "text": [
      "0:\ttest: 0.9993457\tbest: 0.9993457 (0)\ttotal: 178ms\tremaining: 29m 40s\n",
      "100:\ttest: 0.9999251\tbest: 0.9999254 (98)\ttotal: 17.9s\tremaining: 29m 11s\n",
      "200:\ttest: 0.9999311\tbest: 0.9999311 (198)\ttotal: 35.7s\tremaining: 28m 58s\n",
      "300:\ttest: 0.9999331\tbest: 0.9999332 (292)\ttotal: 53.4s\tremaining: 28m 42s\n",
      "400:\ttest: 0.9999337\tbest: 0.9999344 (371)\ttotal: 1m 11s\tremaining: 28m 22s\n",
      "bestTest = 0.9999343753\n",
      "bestIteration = 371\n",
      "Shrink model to first 372 iterations.\n"
     ]
    },
    {
     "name": "stderr",
     "output_type": "stream",
     "text": [
      "Default metric period is 5 because AUC is/are not implemented for GPU\n"
     ]
    },
    {
     "name": "stdout",
     "output_type": "stream",
     "text": [
      "0:\ttest: 0.9994978\tbest: 0.9994978 (0)\ttotal: 178ms\tremaining: 29m 39s\n",
      "100:\ttest: 0.9999358\tbest: 0.9999358 (100)\ttotal: 18s\tremaining: 29m 23s\n",
      "200:\ttest: 0.9999402\tbest: 0.9999406 (172)\ttotal: 35.7s\tremaining: 28m 59s\n",
      "bestTest = 0.9999405742\n",
      "bestIteration = 172\n",
      "Shrink model to first 173 iterations.\n"
     ]
    },
    {
     "name": "stderr",
     "output_type": "stream",
     "text": [
      "Default metric period is 5 because AUC is/are not implemented for GPU\n"
     ]
    },
    {
     "name": "stdout",
     "output_type": "stream",
     "text": [
      "0:\ttest: 0.9994940\tbest: 0.9994940 (0)\ttotal: 178ms\tremaining: 29m 35s\n",
      "100:\ttest: 0.9999356\tbest: 0.9999357 (99)\ttotal: 18s\tremaining: 29m 19s\n",
      "bestTest = 0.999937892\n",
      "bestIteration = 154\n",
      "Shrink model to first 155 iterations.\n"
     ]
    },
    {
     "name": "stderr",
     "output_type": "stream",
     "text": [
      "\u001b[32m[I 2023-01-13 15:25:26,161]\u001b[0m Trial 31 finished with value: 0.9999377279845497 and parameters: {'depth': 14, 'border_count': 233, 'min_data_in_leaf': 7087, 'l2_leaf_reg': 0.6010397218411234}. Best is trial 28 with value: 0.99993934376161.\u001b[0m\n"
     ]
    },
    {
     "name": "stdout",
     "output_type": "stream",
     "text": [
      "train auc score = 0.9999987883559707\n",
      "test auc score = 0.9999377279845497\n"
     ]
    },
    {
     "name": "stderr",
     "output_type": "stream",
     "text": [
      "Default metric period is 5 because AUC is/are not implemented for GPU\n"
     ]
    },
    {
     "name": "stdout",
     "output_type": "stream",
     "text": [
      "0:\ttest: 0.9994057\tbest: 0.9994057 (0)\ttotal: 342ms\tremaining: 56m 56s\n",
      "100:\ttest: 0.9999255\tbest: 0.9999255 (100)\ttotal: 34.5s\tremaining: 56m 26s\n",
      "bestTest = 0.9999292493\n",
      "bestIteration = 145\n",
      "Shrink model to first 146 iterations.\n"
     ]
    },
    {
     "name": "stderr",
     "output_type": "stream",
     "text": [
      "Default metric period is 5 because AUC is/are not implemented for GPU\n"
     ]
    },
    {
     "name": "stdout",
     "output_type": "stream",
     "text": [
      "0:\ttest: 0.9993415\tbest: 0.9993415 (0)\ttotal: 343ms\tremaining: 57m 5s\n",
      "100:\ttest: 0.9999348\tbest: 0.9999348 (100)\ttotal: 34.5s\tremaining: 56m 25s\n",
      "200:\ttest: 0.9999396\tbest: 0.9999396 (200)\ttotal: 1m 8s\tremaining: 55m 47s\n",
      "bestTest = 0.9999398589\n",
      "bestIteration = 214\n",
      "Shrink model to first 215 iterations.\n"
     ]
    },
    {
     "name": "stderr",
     "output_type": "stream",
     "text": [
      "Default metric period is 5 because AUC is/are not implemented for GPU\n"
     ]
    },
    {
     "name": "stdout",
     "output_type": "stream",
     "text": [
      "0:\ttest: 0.9994380\tbest: 0.9994380 (0)\ttotal: 346ms\tremaining: 57m 39s\n",
      "100:\ttest: 0.9999272\tbest: 0.9999272 (100)\ttotal: 34.5s\tremaining: 56m 24s\n",
      "bestTest = 0.9999287724\n",
      "bestIteration = 115\n",
      "Shrink model to first 116 iterations.\n"
     ]
    },
    {
     "name": "stderr",
     "output_type": "stream",
     "text": [
      "Default metric period is 5 because AUC is/are not implemented for GPU\n"
     ]
    },
    {
     "name": "stdout",
     "output_type": "stream",
     "text": [
      "0:\ttest: 0.9995272\tbest: 0.9995272 (0)\ttotal: 343ms\tremaining: 57m 11s\n",
      "100:\ttest: 0.9999314\tbest: 0.9999316 (95)\ttotal: 34.5s\tremaining: 56m 22s\n",
      "200:\ttest: 0.9999360\tbest: 0.9999369 (161)\ttotal: 1m 8s\tremaining: 55m 49s\n",
      "bestTest = 0.9999368787\n",
      "bestIteration = 161\n",
      "Shrink model to first 162 iterations.\n"
     ]
    },
    {
     "name": "stderr",
     "output_type": "stream",
     "text": [
      "Default metric period is 5 because AUC is/are not implemented for GPU\n"
     ]
    },
    {
     "name": "stdout",
     "output_type": "stream",
     "text": [
      "0:\ttest: 0.9995492\tbest: 0.9995492 (0)\ttotal: 341ms\tremaining: 56m 51s\n",
      "100:\ttest: 0.9999382\tbest: 0.9999382 (100)\ttotal: 34.6s\tremaining: 56m 27s\n",
      "bestTest = 0.9999391437\n",
      "bestIteration = 130\n",
      "Shrink model to first 131 iterations.\n"
     ]
    },
    {
     "name": "stderr",
     "output_type": "stream",
     "text": [
      "\u001b[32m[I 2023-01-13 15:31:08,461]\u001b[0m Trial 32 finished with value: 0.9999347522715645 and parameters: {'depth': 15, 'border_count': 231, 'min_data_in_leaf': 6581, 'l2_leaf_reg': 0.6033712797711298}. Best is trial 28 with value: 0.99993934376161.\u001b[0m\n"
     ]
    },
    {
     "name": "stdout",
     "output_type": "stream",
     "text": [
      "train auc score = 0.9999986841304416\n",
      "test auc score = 0.9999347522715645\n"
     ]
    },
    {
     "name": "stderr",
     "output_type": "stream",
     "text": [
      "Default metric period is 5 because AUC is/are not implemented for GPU\n"
     ]
    },
    {
     "name": "stdout",
     "output_type": "stream",
     "text": [
      "0:\ttest: 0.9993125\tbest: 0.9993125 (0)\ttotal: 98.3ms\tremaining: 16m 23s\n",
      "100:\ttest: 0.9999208\tbest: 0.9999208 (97)\ttotal: 10s\tremaining: 16m 23s\n",
      "200:\ttest: 0.9999259\tbest: 0.9999260 (192)\ttotal: 19.9s\tremaining: 16m 8s\n",
      "bestTest = 0.9999260306\n",
      "bestIteration = 192\n",
      "Shrink model to first 193 iterations.\n"
     ]
    },
    {
     "name": "stderr",
     "output_type": "stream",
     "text": [
      "Default metric period is 5 because AUC is/are not implemented for GPU\n"
     ]
    },
    {
     "name": "stdout",
     "output_type": "stream",
     "text": [
      "0:\ttest: 0.9992595\tbest: 0.9992595 (0)\ttotal: 95ms\tremaining: 15m 49s\n",
      "100:\ttest: 0.9999301\tbest: 0.9999301 (99)\ttotal: 10.3s\tremaining: 16m 45s\n",
      "200:\ttest: 0.9999317\tbest: 0.9999332 (169)\ttotal: 19.7s\tremaining: 16m 1s\n",
      "bestTest = 0.9999332428\n",
      "bestIteration = 169\n",
      "Shrink model to first 170 iterations.\n"
     ]
    },
    {
     "name": "stderr",
     "output_type": "stream",
     "text": [
      "Default metric period is 5 because AUC is/are not implemented for GPU\n"
     ]
    },
    {
     "name": "stdout",
     "output_type": "stream",
     "text": [
      "0:\ttest: 0.9992939\tbest: 0.9992939 (0)\ttotal: 101ms\tremaining: 16m 51s\n",
      "100:\ttest: 0.9999285\tbest: 0.9999285 (100)\ttotal: 10.1s\tremaining: 16m 30s\n",
      "200:\ttest: 0.9999311\tbest: 0.9999316 (197)\ttotal: 19.7s\tremaining: 16m 1s\n",
      "300:\ttest: 0.9999349\tbest: 0.9999350 (298)\ttotal: 29.5s\tremaining: 15m 49s\n",
      "bestTest = 0.9999349713\n",
      "bestIteration = 298\n",
      "Shrink model to first 299 iterations.\n"
     ]
    },
    {
     "name": "stderr",
     "output_type": "stream",
     "text": [
      "Default metric period is 5 because AUC is/are not implemented for GPU\n"
     ]
    },
    {
     "name": "stdout",
     "output_type": "stream",
     "text": [
      "0:\ttest: 0.9994037\tbest: 0.9994037 (0)\ttotal: 107ms\tremaining: 17m 49s\n",
      "100:\ttest: 0.9999251\tbest: 0.9999251 (100)\ttotal: 10.5s\tremaining: 17m 10s\n",
      "200:\ttest: 0.9999296\tbest: 0.9999301 (169)\ttotal: 20s\tremaining: 16m 13s\n",
      "300:\ttest: 0.9999322\tbest: 0.9999328 (289)\ttotal: 29.3s\tremaining: 15m 44s\n",
      "bestTest = 0.999932766\n",
      "bestIteration = 289\n",
      "Shrink model to first 290 iterations.\n"
     ]
    },
    {
     "name": "stderr",
     "output_type": "stream",
     "text": [
      "Default metric period is 5 because AUC is/are not implemented for GPU\n"
     ]
    },
    {
     "name": "stdout",
     "output_type": "stream",
     "text": [
      "0:\ttest: 0.9994199\tbest: 0.9994199 (0)\ttotal: 95.3ms\tremaining: 15m 52s\n",
      "100:\ttest: 0.9999344\tbest: 0.9999344 (100)\ttotal: 9.6s\tremaining: 15m 40s\n",
      "200:\ttest: 0.9999349\tbest: 0.9999357 (179)\ttotal: 19.1s\tremaining: 15m 29s\n",
      "bestTest = 0.9999357462\n",
      "bestIteration = 179\n",
      "Shrink model to first 180 iterations.\n"
     ]
    },
    {
     "name": "stderr",
     "output_type": "stream",
     "text": [
      "\u001b[32m[I 2023-01-13 15:33:28,317]\u001b[0m Trial 33 finished with value: 0.999932520735392 and parameters: {'depth': 13, 'border_count': 208, 'min_data_in_leaf': 7327, 'l2_leaf_reg': 0.2668129756465464}. Best is trial 28 with value: 0.99993934376161.\u001b[0m\n"
     ]
    },
    {
     "name": "stdout",
     "output_type": "stream",
     "text": [
      "train auc score = 0.9999991875464437\n",
      "test auc score = 0.999932520735392\n"
     ]
    },
    {
     "name": "stderr",
     "output_type": "stream",
     "text": [
      "Default metric period is 5 because AUC is/are not implemented for GPU\n"
     ]
    },
    {
     "name": "stdout",
     "output_type": "stream",
     "text": [
      "0:\ttest: 0.9994557\tbest: 0.9994557 (0)\ttotal: 342ms\tremaining: 56m 58s\n",
      "100:\ttest: 0.9999211\tbest: 0.9999216 (86)\ttotal: 34.5s\tremaining: 56m 22s\n",
      "bestTest = 0.9999267459\n",
      "bestIteration = 148\n",
      "Shrink model to first 149 iterations.\n"
     ]
    },
    {
     "name": "stderr",
     "output_type": "stream",
     "text": [
      "Default metric period is 5 because AUC is/are not implemented for GPU\n"
     ]
    },
    {
     "name": "stdout",
     "output_type": "stream",
     "text": [
      "0:\ttest: 0.9993345\tbest: 0.9993345 (0)\ttotal: 354ms\tremaining: 59m 4s\n",
      "100:\ttest: 0.9999307\tbest: 0.9999335 (71)\ttotal: 35.7s\tremaining: 58m 17s\n",
      "bestTest = 0.9999335408\n",
      "bestIteration = 71\n",
      "Shrink model to first 72 iterations.\n"
     ]
    },
    {
     "name": "stderr",
     "output_type": "stream",
     "text": [
      "Default metric period is 5 because AUC is/are not implemented for GPU\n"
     ]
    },
    {
     "name": "stdout",
     "output_type": "stream",
     "text": [
      "0:\ttest: 0.9994086\tbest: 0.9994086 (0)\ttotal: 342ms\tremaining: 56m 55s\n",
      "100:\ttest: 0.9999226\tbest: 0.9999226 (100)\ttotal: 34.6s\tremaining: 56m 27s\n",
      "200:\ttest: 0.9999278\tbest: 0.9999280 (195)\ttotal: 1m 8s\tremaining: 55m 48s\n",
      "300:\ttest: 0.9999312\tbest: 0.9999312 (294)\ttotal: 1m 42s\tremaining: 55m 11s\n",
      "400:\ttest: 0.9999329\tbest: 0.9999329 (380)\ttotal: 2m 16s\tremaining: 54m 35s\n",
      "bestTest = 0.9999330044\n",
      "bestIteration = 402\n",
      "Shrink model to first 403 iterations.\n"
     ]
    },
    {
     "name": "stderr",
     "output_type": "stream",
     "text": [
      "Default metric period is 5 because AUC is/are not implemented for GPU\n"
     ]
    },
    {
     "name": "stdout",
     "output_type": "stream",
     "text": [
      "0:\ttest: 0.9995237\tbest: 0.9995237 (0)\ttotal: 341ms\tremaining: 56m 54s\n",
      "100:\ttest: 0.9999274\tbest: 0.9999275 (89)\ttotal: 34.6s\tremaining: 56m 33s\n",
      "bestTest = 0.9999290705\n",
      "bestIteration = 126\n",
      "Shrink model to first 127 iterations.\n"
     ]
    },
    {
     "name": "stderr",
     "output_type": "stream",
     "text": [
      "Default metric period is 5 because AUC is/are not implemented for GPU\n"
     ]
    },
    {
     "name": "stdout",
     "output_type": "stream",
     "text": [
      "0:\ttest: 0.9995302\tbest: 0.9995302 (0)\ttotal: 345ms\tremaining: 57m 31s\n",
      "100:\ttest: 0.9999268\tbest: 0.9999304 (77)\ttotal: 34.6s\tremaining: 56m 26s\n",
      "bestTest = 0.9999304414\n",
      "bestIteration = 77\n",
      "Shrink model to first 78 iterations.\n"
     ]
    },
    {
     "name": "stderr",
     "output_type": "stream",
     "text": [
      "\u001b[32m[I 2023-01-13 15:39:32,120]\u001b[0m Trial 34 finished with value: 0.9999305438074002 and parameters: {'depth': 15, 'border_count': 240, 'min_data_in_leaf': 4919, 'l2_leaf_reg': 0.11525662502124455}. Best is trial 28 with value: 0.99993934376161.\u001b[0m\n"
     ]
    },
    {
     "name": "stdout",
     "output_type": "stream",
     "text": [
      "train auc score = 0.9999982754885449\n",
      "test auc score = 0.9999305438074002\n"
     ]
    },
    {
     "name": "stderr",
     "output_type": "stream",
     "text": [
      "Default metric period is 5 because AUC is/are not implemented for GPU\n"
     ]
    },
    {
     "name": "stdout",
     "output_type": "stream",
     "text": [
      "0:\ttest: 0.9988433\tbest: 0.9988433 (0)\ttotal: 55.7ms\tremaining: 9m 17s\n",
      "100:\ttest: 0.9999127\tbest: 0.9999130 (88)\ttotal: 6.2s\tremaining: 10m 7s\n",
      "200:\ttest: 0.9999233\tbest: 0.9999236 (179)\ttotal: 11.8s\tremaining: 9m 35s\n",
      "300:\ttest: 0.9999276\tbest: 0.9999278 (297)\ttotal: 17.2s\tremaining: 9m 15s\n",
      "bestTest = 0.999927938\n",
      "bestIteration = 313\n",
      "Shrink model to first 314 iterations.\n"
     ]
    },
    {
     "name": "stderr",
     "output_type": "stream",
     "text": [
      "Default metric period is 5 because AUC is/are not implemented for GPU\n"
     ]
    },
    {
     "name": "stdout",
     "output_type": "stream",
     "text": [
      "0:\ttest: 0.9987077\tbest: 0.9987077 (0)\ttotal: 53.9ms\tremaining: 8m 59s\n",
      "100:\ttest: 0.9999365\tbest: 0.9999365 (100)\ttotal: 6.38s\tremaining: 10m 24s\n",
      "200:\ttest: 0.9999394\tbest: 0.9999399 (185)\ttotal: 12.3s\tremaining: 9m 58s\n",
      "300:\ttest: 0.9999422\tbest: 0.9999425 (277)\ttotal: 17.6s\tremaining: 9m 26s\n",
      "bestTest = 0.9999425411\n",
      "bestIteration = 277\n",
      "Shrink model to first 278 iterations.\n"
     ]
    },
    {
     "name": "stderr",
     "output_type": "stream",
     "text": [
      "Default metric period is 5 because AUC is/are not implemented for GPU\n"
     ]
    },
    {
     "name": "stdout",
     "output_type": "stream",
     "text": [
      "0:\ttest: 0.9988021\tbest: 0.9988021 (0)\ttotal: 53.9ms\tremaining: 8m 58s\n",
      "100:\ttest: 0.9999256\tbest: 0.9999256 (100)\ttotal: 5.47s\tremaining: 8m 55s\n",
      "200:\ttest: 0.9999309\tbest: 0.9999310 (193)\ttotal: 11s\tremaining: 8m 55s\n",
      "bestTest = 0.9999313951\n",
      "bestIteration = 222\n",
      "Shrink model to first 223 iterations.\n"
     ]
    },
    {
     "name": "stderr",
     "output_type": "stream",
     "text": [
      "Default metric period is 5 because AUC is/are not implemented for GPU\n"
     ]
    },
    {
     "name": "stdout",
     "output_type": "stream",
     "text": [
      "0:\ttest: 0.9990238\tbest: 0.9990238 (0)\ttotal: 54.8ms\tremaining: 9m 7s\n",
      "100:\ttest: 0.9999229\tbest: 0.9999233 (99)\ttotal: 5.38s\tremaining: 8m 46s\n",
      "200:\ttest: 0.9999275\tbest: 0.9999278 (190)\ttotal: 10.8s\tremaining: 8m 47s\n",
      "bestTest = 0.9999293089\n",
      "bestIteration = 223\n",
      "Shrink model to first 224 iterations.\n"
     ]
    },
    {
     "name": "stderr",
     "output_type": "stream",
     "text": [
      "Default metric period is 5 because AUC is/are not implemented for GPU\n"
     ]
    },
    {
     "name": "stdout",
     "output_type": "stream",
     "text": [
      "0:\ttest: 0.9990483\tbest: 0.9990483 (0)\ttotal: 53.6ms\tremaining: 8m 55s\n",
      "100:\ttest: 0.9999353\tbest: 0.9999353 (100)\ttotal: 5.75s\tremaining: 9m 23s\n",
      "200:\ttest: 0.9999377\tbest: 0.9999378 (198)\ttotal: 11.2s\tremaining: 9m 4s\n",
      "bestTest = 0.9999378324\n",
      "bestIteration = 205\n",
      "Shrink model to first 206 iterations.\n"
     ]
    },
    {
     "name": "stderr",
     "output_type": "stream",
     "text": [
      "\u001b[32m[I 2023-01-13 15:41:03,054]\u001b[0m Trial 35 finished with value: 0.9999337637753296 and parameters: {'depth': 12, 'border_count': 218, 'min_data_in_leaf': 7119, 'l2_leaf_reg': 0.31592975387084604}. Best is trial 28 with value: 0.99993934376161.\u001b[0m\n"
     ]
    },
    {
     "name": "stdout",
     "output_type": "stream",
     "text": [
      "train auc score = 0.9999986656715448\n",
      "test auc score = 0.9999337637753296\n"
     ]
    },
    {
     "name": "stderr",
     "output_type": "stream",
     "text": [
      "Default metric period is 5 because AUC is/are not implemented for GPU\n"
     ]
    },
    {
     "name": "stdout",
     "output_type": "stream",
     "text": [
      "0:\ttest: 0.9993885\tbest: 0.9993885 (0)\ttotal: 185ms\tremaining: 30m 53s\n",
      "100:\ttest: 0.9999289\tbest: 0.9999292 (89)\ttotal: 18.2s\tremaining: 29m 46s\n",
      "bestTest = 0.9999319315\n",
      "bestIteration = 156\n",
      "Shrink model to first 157 iterations.\n"
     ]
    },
    {
     "name": "stderr",
     "output_type": "stream",
     "text": [
      "Default metric period is 5 because AUC is/are not implemented for GPU\n"
     ]
    },
    {
     "name": "stdout",
     "output_type": "stream",
     "text": [
      "0:\ttest: 0.9992677\tbest: 0.9992677 (0)\ttotal: 186ms\tremaining: 30m 55s\n",
      "100:\ttest: 0.9999371\tbest: 0.9999371 (100)\ttotal: 18.2s\tremaining: 29m 43s\n",
      "200:\ttest: 0.9999389\tbest: 0.9999392 (180)\ttotal: 36s\tremaining: 29m 13s\n",
      "bestTest = 0.9999392033\n",
      "bestIteration = 180\n",
      "Shrink model to first 181 iterations.\n"
     ]
    },
    {
     "name": "stderr",
     "output_type": "stream",
     "text": [
      "Default metric period is 5 because AUC is/are not implemented for GPU\n"
     ]
    },
    {
     "name": "stdout",
     "output_type": "stream",
     "text": [
      "0:\ttest: 0.9993455\tbest: 0.9993455 (0)\ttotal: 178ms\tremaining: 29m 37s\n",
      "100:\ttest: 0.9999304\tbest: 0.9999310 (99)\ttotal: 18.2s\tremaining: 29m 40s\n",
      "bestTest = 0.999933064\n",
      "bestIteration = 150\n",
      "Shrink model to first 151 iterations.\n"
     ]
    },
    {
     "name": "stderr",
     "output_type": "stream",
     "text": [
      "Default metric period is 5 because AUC is/are not implemented for GPU\n"
     ]
    },
    {
     "name": "stdout",
     "output_type": "stream",
     "text": [
      "0:\ttest: 0.9994998\tbest: 0.9994998 (0)\ttotal: 178ms\tremaining: 29m 36s\n",
      "100:\ttest: 0.9999342\tbest: 0.9999343 (91)\ttotal: 18.2s\tremaining: 29m 45s\n",
      "200:\ttest: 0.9999374\tbest: 0.9999376 (191)\ttotal: 36s\tremaining: 29m 14s\n",
      "bestTest = 0.9999381304\n",
      "bestIteration = 220\n",
      "Shrink model to first 221 iterations.\n"
     ]
    },
    {
     "name": "stderr",
     "output_type": "stream",
     "text": [
      "Default metric period is 5 because AUC is/are not implemented for GPU\n"
     ]
    },
    {
     "name": "stdout",
     "output_type": "stream",
     "text": [
      "0:\ttest: 0.9994938\tbest: 0.9994938 (0)\ttotal: 188ms\tremaining: 31m 17s\n",
      "100:\ttest: 0.9999371\tbest: 0.9999382 (92)\ttotal: 18s\tremaining: 29m 26s\n",
      "bestTest = 0.9999389052\n",
      "bestIteration = 130\n",
      "Shrink model to first 131 iterations.\n"
     ]
    },
    {
     "name": "stderr",
     "output_type": "stream",
     "text": [
      "\u001b[32m[I 2023-01-13 15:44:19,400]\u001b[0m Trial 36 finished with value: 0.999936263657897 and parameters: {'depth': 14, 'border_count': 255, 'min_data_in_leaf': 6210, 'l2_leaf_reg': 0.5616315402490714}. Best is trial 28 with value: 0.99993934376161.\u001b[0m\n"
     ]
    },
    {
     "name": "stdout",
     "output_type": "stream",
     "text": [
      "train auc score = 0.9999983500038535\n",
      "test auc score = 0.999936263657897\n"
     ]
    },
    {
     "name": "stderr",
     "output_type": "stream",
     "text": [
      "Default metric period is 5 because AUC is/are not implemented for GPU\n"
     ]
    },
    {
     "name": "stdout",
     "output_type": "stream",
     "text": [
      "0:\ttest: 0.9994092\tbest: 0.9994092 (0)\ttotal: 343ms\tremaining: 57m 12s\n",
      "100:\ttest: 0.9999239\tbest: 0.9999240 (98)\ttotal: 34.5s\tremaining: 56m 21s\n",
      "bestTest = 0.9999281764\n",
      "bestIteration = 154\n",
      "Shrink model to first 155 iterations.\n"
     ]
    },
    {
     "name": "stderr",
     "output_type": "stream",
     "text": [
      "Default metric period is 5 because AUC is/are not implemented for GPU\n"
     ]
    },
    {
     "name": "stdout",
     "output_type": "stream",
     "text": [
      "0:\ttest: 0.9993437\tbest: 0.9993437 (0)\ttotal: 343ms\tremaining: 57m 10s\n",
      "100:\ttest: 0.9999344\tbest: 0.9999350 (94)\ttotal: 34.5s\tremaining: 56m 25s\n",
      "200:\ttest: 0.9999378\tbest: 0.9999381 (193)\ttotal: 1m 8s\tremaining: 55m 47s\n",
      "bestTest = 0.9999382496\n",
      "bestIteration = 214\n",
      "Shrink model to first 215 iterations.\n"
     ]
    },
    {
     "name": "stderr",
     "output_type": "stream",
     "text": [
      "Default metric period is 5 because AUC is/are not implemented for GPU\n"
     ]
    },
    {
     "name": "stdout",
     "output_type": "stream",
     "text": [
      "0:\ttest: 0.9994234\tbest: 0.9994234 (0)\ttotal: 341ms\tremaining: 56m 48s\n",
      "100:\ttest: 0.9999267\tbest: 0.9999267 (100)\ttotal: 34.6s\tremaining: 56m 29s\n",
      "200:\ttest: 0.9999306\tbest: 0.9999307 (194)\ttotal: 1m 8s\tremaining: 55m 47s\n",
      "300:\ttest: 0.9999326\tbest: 0.9999327 (296)\ttotal: 1m 42s\tremaining: 55m 10s\n",
      "400:\ttest: 0.9999341\tbest: 0.9999344 (398)\ttotal: 2m 16s\tremaining: 54m 34s\n",
      "bestTest = 0.9999343753\n",
      "bestIteration = 398\n",
      "Shrink model to first 399 iterations.\n"
     ]
    },
    {
     "name": "stderr",
     "output_type": "stream",
     "text": [
      "Default metric period is 5 because AUC is/are not implemented for GPU\n"
     ]
    },
    {
     "name": "stdout",
     "output_type": "stream",
     "text": [
      "0:\ttest: 0.9995266\tbest: 0.9995266 (0)\ttotal: 344ms\tremaining: 57m 15s\n",
      "100:\ttest: 0.9999244\tbest: 0.9999257 (85)\ttotal: 34.5s\tremaining: 56m 26s\n",
      "bestTest = 0.99992764\n",
      "bestIteration = 126\n",
      "Shrink model to first 127 iterations.\n"
     ]
    },
    {
     "name": "stderr",
     "output_type": "stream",
     "text": [
      "Default metric period is 5 because AUC is/are not implemented for GPU\n"
     ]
    },
    {
     "name": "stdout",
     "output_type": "stream",
     "text": [
      "0:\ttest: 0.9995373\tbest: 0.9995373 (0)\ttotal: 341ms\tremaining: 56m 46s\n",
      "100:\ttest: 0.9999391\tbest: 0.9999399 (95)\ttotal: 34.5s\tremaining: 56m 19s\n",
      "bestTest = 0.9999398589\n",
      "bestIteration = 95\n",
      "Shrink model to first 96 iterations.\n"
     ]
    },
    {
     "name": "stderr",
     "output_type": "stream",
     "text": [
      "\u001b[32m[I 2023-01-13 15:51:17,857]\u001b[0m Trial 37 finished with value: 0.9999336086508682 and parameters: {'depth': 15, 'border_count': 232, 'min_data_in_leaf': 7879, 'l2_leaf_reg': 0.2141163676762147}. Best is trial 28 with value: 0.99993934376161.\u001b[0m\n"
     ]
    },
    {
     "name": "stdout",
     "output_type": "stream",
     "text": [
      "train auc score = 0.9999991771376401\n",
      "test auc score = 0.9999336086508682\n"
     ]
    },
    {
     "name": "stderr",
     "output_type": "stream",
     "text": [
      "Default metric period is 5 because AUC is/are not implemented for GPU\n"
     ]
    },
    {
     "name": "stdout",
     "output_type": "stream",
     "text": [
      "0:\ttest: 0.9982465\tbest: 0.9982465 (0)\ttotal: 18.6ms\tremaining: 3m 5s\n",
      "100:\ttest: 0.9999014\tbest: 0.9999014 (100)\ttotal: 1.59s\tremaining: 2m 36s\n",
      "200:\ttest: 0.9999138\tbest: 0.9999138 (200)\ttotal: 3.27s\tremaining: 2m 39s\n",
      "bestTest = 0.9999144673\n",
      "bestIteration = 247\n",
      "Shrink model to first 248 iterations.\n"
     ]
    },
    {
     "name": "stderr",
     "output_type": "stream",
     "text": [
      "Default metric period is 5 because AUC is/are not implemented for GPU\n"
     ]
    },
    {
     "name": "stdout",
     "output_type": "stream",
     "text": [
      "0:\ttest: 0.9979970\tbest: 0.9979970 (0)\ttotal: 15.8ms\tremaining: 2m 38s\n",
      "100:\ttest: 0.9999158\tbest: 0.9999159 (99)\ttotal: 1.57s\tremaining: 2m 34s\n",
      "200:\ttest: 0.9999207\tbest: 0.9999229 (181)\ttotal: 3.23s\tremaining: 2m 37s\n",
      "bestTest = 0.9999229312\n",
      "bestIteration = 181\n",
      "Shrink model to first 182 iterations.\n"
     ]
    },
    {
     "name": "stderr",
     "output_type": "stream",
     "text": [
      "Default metric period is 5 because AUC is/are not implemented for GPU\n"
     ]
    },
    {
     "name": "stdout",
     "output_type": "stream",
     "text": [
      "0:\ttest: 0.9982134\tbest: 0.9982134 (0)\ttotal: 18.5ms\tremaining: 3m 4s\n",
      "100:\ttest: 0.9999056\tbest: 0.9999075 (82)\ttotal: 1.59s\tremaining: 2m 36s\n",
      "200:\ttest: 0.9999141\tbest: 0.9999141 (200)\ttotal: 3.18s\tremaining: 2m 34s\n",
      "bestTest = 0.9999174476\n",
      "bestIteration = 253\n",
      "Shrink model to first 254 iterations.\n"
     ]
    },
    {
     "name": "stderr",
     "output_type": "stream",
     "text": [
      "Default metric period is 5 because AUC is/are not implemented for GPU\n"
     ]
    },
    {
     "name": "stdout",
     "output_type": "stream",
     "text": [
      "0:\ttest: 0.9985138\tbest: 0.9985138 (0)\ttotal: 15.3ms\tremaining: 2m 32s\n",
      "100:\ttest: 0.9999067\tbest: 0.9999074 (98)\ttotal: 1.69s\tremaining: 2m 45s\n",
      "bestTest = 0.999912858\n",
      "bestIteration = 125\n",
      "Shrink model to first 126 iterations.\n"
     ]
    },
    {
     "name": "stderr",
     "output_type": "stream",
     "text": [
      "Default metric period is 5 because AUC is/are not implemented for GPU\n"
     ]
    },
    {
     "name": "stdout",
     "output_type": "stream",
     "text": [
      "0:\ttest: 0.9984713\tbest: 0.9984713 (0)\ttotal: 15.4ms\tremaining: 2m 34s\n",
      "100:\ttest: 0.9999139\tbest: 0.9999139 (100)\ttotal: 1.7s\tremaining: 2m 46s\n",
      "200:\ttest: 0.9999193\tbest: 0.9999214 (175)\ttotal: 3.37s\tremaining: 2m 44s\n",
      "bestTest = 0.9999214411\n",
      "bestIteration = 175\n",
      "Shrink model to first 176 iterations.\n"
     ]
    },
    {
     "name": "stderr",
     "output_type": "stream",
     "text": [
      "\u001b[32m[I 2023-01-13 15:51:45,981]\u001b[0m Trial 38 finished with value: 0.9999178033319556 and parameters: {'depth': 9, 'border_count': 215, 'min_data_in_leaf': 4933, 'l2_leaf_reg': 0.010632430180131039}. Best is trial 28 with value: 0.99993934376161.\u001b[0m\n"
     ]
    },
    {
     "name": "stdout",
     "output_type": "stream",
     "text": [
      "train auc score = 0.9999863456503402\n",
      "test auc score = 0.9999178033319556\n"
     ]
    },
    {
     "name": "stderr",
     "output_type": "stream",
     "text": [
      "Default metric period is 5 because AUC is/are not implemented for GPU\n"
     ]
    },
    {
     "name": "stdout",
     "output_type": "stream",
     "text": [
      "0:\ttest: 0.9993106\tbest: 0.9993106 (0)\ttotal: 95.1ms\tremaining: 15m 51s\n",
      "100:\ttest: 0.9999235\tbest: 0.9999235 (100)\ttotal: 9.64s\tremaining: 15m 45s\n",
      "200:\ttest: 0.9999290\tbest: 0.9999291 (199)\ttotal: 19.5s\tremaining: 15m 51s\n",
      "300:\ttest: 0.9999306\tbest: 0.9999309 (296)\ttotal: 29.4s\tremaining: 15m 47s\n",
      "bestTest = 0.9999315143\n",
      "bestIteration = 343\n",
      "Shrink model to first 344 iterations.\n"
     ]
    },
    {
     "name": "stderr",
     "output_type": "stream",
     "text": [
      "Default metric period is 5 because AUC is/are not implemented for GPU\n"
     ]
    },
    {
     "name": "stdout",
     "output_type": "stream",
     "text": [
      "0:\ttest: 0.9992586\tbest: 0.9992586 (0)\ttotal: 95.3ms\tremaining: 15m 53s\n",
      "100:\ttest: 0.9999309\tbest: 0.9999309 (100)\ttotal: 9.66s\tremaining: 15m 47s\n",
      "200:\ttest: 0.9999378\tbest: 0.9999378 (199)\ttotal: 19.1s\tremaining: 15m 32s\n",
      "300:\ttest: 0.9999406\tbest: 0.9999407 (298)\ttotal: 28.5s\tremaining: 15m 19s\n",
      "400:\ttest: 0.9999418\tbest: 0.9999419 (394)\ttotal: 38.3s\tremaining: 15m 16s\n",
      "500:\ttest: 0.9999427\tbest: 0.9999430 (464)\ttotal: 47.8s\tremaining: 15m 5s\n",
      "bestTest = 0.999943018\n",
      "bestIteration = 464\n",
      "Shrink model to first 465 iterations.\n"
     ]
    },
    {
     "name": "stderr",
     "output_type": "stream",
     "text": [
      "Default metric period is 5 because AUC is/are not implemented for GPU\n"
     ]
    },
    {
     "name": "stdout",
     "output_type": "stream",
     "text": [
      "0:\ttest: 0.9993049\tbest: 0.9993049 (0)\ttotal: 107ms\tremaining: 17m 52s\n",
      "100:\ttest: 0.9999275\tbest: 0.9999275 (100)\ttotal: 9.6s\tremaining: 15m 41s\n",
      "200:\ttest: 0.9999312\tbest: 0.9999312 (200)\ttotal: 19.3s\tremaining: 15m 39s\n",
      "300:\ttest: 0.9999336\tbest: 0.9999336 (300)\ttotal: 29.1s\tremaining: 15m 36s\n",
      "400:\ttest: 0.9999354\tbest: 0.9999357 (366)\ttotal: 38.6s\tremaining: 15m 24s\n",
      "bestTest = 0.9999356866\n",
      "bestIteration = 366\n",
      "Shrink model to first 367 iterations.\n"
     ]
    },
    {
     "name": "stderr",
     "output_type": "stream",
     "text": [
      "Default metric period is 5 because AUC is/are not implemented for GPU\n"
     ]
    },
    {
     "name": "stdout",
     "output_type": "stream",
     "text": [
      "0:\ttest: 0.9993995\tbest: 0.9993995 (0)\ttotal: 102ms\tremaining: 17m\n",
      "100:\ttest: 0.9999321\tbest: 0.9999335 (85)\ttotal: 9.63s\tremaining: 15m 43s\n",
      "200:\ttest: 0.9999382\tbest: 0.9999382 (200)\ttotal: 19.1s\tremaining: 15m 32s\n",
      "bestTest = 0.9999386072\n",
      "bestIteration = 203\n",
      "Shrink model to first 204 iterations.\n"
     ]
    },
    {
     "name": "stderr",
     "output_type": "stream",
     "text": [
      "Default metric period is 5 because AUC is/are not implemented for GPU\n"
     ]
    },
    {
     "name": "stdout",
     "output_type": "stream",
     "text": [
      "0:\ttest: 0.9994254\tbest: 0.9994254 (0)\ttotal: 102ms\tremaining: 16m 56s\n",
      "100:\ttest: 0.9999390\tbest: 0.9999390 (99)\ttotal: 10.3s\tremaining: 16m 44s\n",
      "bestTest = 0.9999392629\n",
      "bestIteration = 144\n",
      "Shrink model to first 145 iterations.\n"
     ]
    },
    {
     "name": "stderr",
     "output_type": "stream",
     "text": [
      "\u001b[32m[I 2023-01-13 15:54:43,973]\u001b[0m Trial 39 finished with value: 0.9999375712878134 and parameters: {'depth': 13, 'border_count': 241, 'min_data_in_leaf': 6822, 'l2_leaf_reg': 0.6809167647610367}. Best is trial 28 with value: 0.99993934376161.\u001b[0m\n"
     ]
    },
    {
     "name": "stdout",
     "output_type": "stream",
     "text": [
      "train auc score = 0.9999987804289766\n",
      "test auc score = 0.9999375712878134\n"
     ]
    },
    {
     "name": "stderr",
     "output_type": "stream",
     "text": [
      "Default metric period is 5 because AUC is/are not implemented for GPU\n"
     ]
    },
    {
     "name": "stdout",
     "output_type": "stream",
     "text": [
      "0:\ttest: 0.9988127\tbest: 0.9988127 (0)\ttotal: 53.5ms\tremaining: 8m 54s\n",
      "100:\ttest: 0.9998974\tbest: 0.9998998 (90)\ttotal: 5.87s\tremaining: 9m 35s\n",
      "bestTest = 0.9998998642\n",
      "bestIteration = 104\n",
      "Shrink model to first 105 iterations.\n"
     ]
    },
    {
     "name": "stderr",
     "output_type": "stream",
     "text": [
      "Default metric period is 5 because AUC is/are not implemented for GPU\n"
     ]
    },
    {
     "name": "stdout",
     "output_type": "stream",
     "text": [
      "0:\ttest: 0.9986295\tbest: 0.9986295 (0)\ttotal: 53.9ms\tremaining: 8m 59s\n",
      "100:\ttest: 0.9999105\tbest: 0.9999133 (67)\ttotal: 5.74s\tremaining: 9m 22s\n",
      "bestTest = 0.9999132752\n",
      "bestIteration = 67\n",
      "Shrink model to first 68 iterations.\n"
     ]
    },
    {
     "name": "stderr",
     "output_type": "stream",
     "text": [
      "Default metric period is 5 because AUC is/are not implemented for GPU\n"
     ]
    },
    {
     "name": "stdout",
     "output_type": "stream",
     "text": [
      "0:\ttest: 0.9986972\tbest: 0.9986972 (0)\ttotal: 53.8ms\tremaining: 8m 58s\n",
      "100:\ttest: 0.9998900\tbest: 0.9998986 (72)\ttotal: 5.65s\tremaining: 9m 13s\n",
      "bestTest = 0.9998985827\n",
      "bestIteration = 72\n",
      "Shrink model to first 73 iterations.\n"
     ]
    },
    {
     "name": "stderr",
     "output_type": "stream",
     "text": [
      "Default metric period is 5 because AUC is/are not implemented for GPU\n"
     ]
    },
    {
     "name": "stdout",
     "output_type": "stream",
     "text": [
      "0:\ttest: 0.9989805\tbest: 0.9989805 (0)\ttotal: 53.7ms\tremaining: 8m 57s\n",
      "100:\ttest: 0.9999011\tbest: 0.9999011 (100)\ttotal: 5.4s\tremaining: 8m 49s\n",
      "bestTest = 0.9999093413\n",
      "bestIteration = 156\n",
      "Shrink model to first 157 iterations.\n"
     ]
    },
    {
     "name": "stderr",
     "output_type": "stream",
     "text": [
      "Default metric period is 5 because AUC is/are not implemented for GPU\n"
     ]
    },
    {
     "name": "stdout",
     "output_type": "stream",
     "text": [
      "0:\ttest: 0.9989848\tbest: 0.9989848 (0)\ttotal: 66.7ms\tremaining: 11m 7s\n",
      "100:\ttest: 0.9999017\tbest: 0.9999067 (65)\ttotal: 5.74s\tremaining: 9m 22s\n",
      "bestTest = 0.9999066591\n",
      "bestIteration = 65\n",
      "Shrink model to first 66 iterations.\n"
     ]
    },
    {
     "name": "stderr",
     "output_type": "stream",
     "text": [
      "\u001b[32m[I 2023-01-13 15:55:30,944]\u001b[0m Trial 40 finished with value: 0.9999055035460964 and parameters: {'depth': 12, 'border_count': 226, 'min_data_in_leaf': 2043, 'l2_leaf_reg': 0.001653628352858567}. Best is trial 28 with value: 0.99993934376161.\u001b[0m\n"
     ]
    },
    {
     "name": "stdout",
     "output_type": "stream",
     "text": [
      "train auc score = 0.9999840910281328\n",
      "test auc score = 0.9999055035460964\n"
     ]
    },
    {
     "name": "stderr",
     "output_type": "stream",
     "text": [
      "Default metric period is 5 because AUC is/are not implemented for GPU\n"
     ]
    },
    {
     "name": "stdout",
     "output_type": "stream",
     "text": [
      "0:\ttest: 0.9993776\tbest: 0.9993776 (0)\ttotal: 169ms\tremaining: 28m 8s\n",
      "100:\ttest: 0.9999281\tbest: 0.9999282 (99)\ttotal: 17s\tremaining: 27m 45s\n",
      "bestTest = 0.9999337196\n",
      "bestIteration = 156\n",
      "Shrink model to first 157 iterations.\n"
     ]
    },
    {
     "name": "stderr",
     "output_type": "stream",
     "text": [
      "Default metric period is 5 because AUC is/are not implemented for GPU\n"
     ]
    },
    {
     "name": "stdout",
     "output_type": "stream",
     "text": [
      "0:\ttest: 0.9992923\tbest: 0.9992923 (0)\ttotal: 176ms\tremaining: 29m 23s\n",
      "100:\ttest: 0.9999324\tbest: 0.9999324 (100)\ttotal: 17.2s\tremaining: 28m 9s\n",
      "200:\ttest: 0.9999380\tbest: 0.9999380 (200)\ttotal: 34.2s\tremaining: 27m 45s\n",
      "300:\ttest: 0.9999409\tbest: 0.9999409 (300)\ttotal: 51.1s\tremaining: 27m 26s\n",
      "bestTest = 0.9999411702\n",
      "bestIteration = 319\n",
      "Shrink model to first 320 iterations.\n"
     ]
    },
    {
     "name": "stderr",
     "output_type": "stream",
     "text": [
      "Default metric period is 5 because AUC is/are not implemented for GPU\n"
     ]
    },
    {
     "name": "stdout",
     "output_type": "stream",
     "text": [
      "0:\ttest: 0.9993395\tbest: 0.9993395 (0)\ttotal: 181ms\tremaining: 30m 14s\n",
      "100:\ttest: 0.9999243\tbest: 0.9999243 (100)\ttotal: 17.2s\tremaining: 28m 1s\n",
      "200:\ttest: 0.9999331\tbest: 0.9999332 (197)\ttotal: 34s\tremaining: 27m 39s\n",
      "bestTest = 0.9999339879\n",
      "bestIteration = 234\n",
      "Shrink model to first 235 iterations.\n"
     ]
    },
    {
     "name": "stderr",
     "output_type": "stream",
     "text": [
      "Default metric period is 5 because AUC is/are not implemented for GPU\n"
     ]
    },
    {
     "name": "stdout",
     "output_type": "stream",
     "text": [
      "0:\ttest: 0.9994741\tbest: 0.9994741 (0)\ttotal: 168ms\tremaining: 27m 56s\n",
      "100:\ttest: 0.9999314\tbest: 0.9999318 (97)\ttotal: 17s\tremaining: 27m 43s\n",
      "200:\ttest: 0.9999360\tbest: 0.9999361 (195)\ttotal: 33.8s\tremaining: 27m 27s\n",
      "bestTest = 0.9999368787\n",
      "bestIteration = 248\n",
      "Shrink model to first 249 iterations.\n"
     ]
    },
    {
     "name": "stderr",
     "output_type": "stream",
     "text": [
      "Default metric period is 5 because AUC is/are not implemented for GPU\n"
     ]
    },
    {
     "name": "stdout",
     "output_type": "stream",
     "text": [
      "0:\ttest: 0.9994931\tbest: 0.9994931 (0)\ttotal: 169ms\tremaining: 28m 12s\n",
      "100:\ttest: 0.9999346\tbest: 0.9999353 (98)\ttotal: 17s\tremaining: 27m 43s\n",
      "bestTest = 0.999935627\n",
      "bestIteration = 114\n",
      "Shrink model to first 115 iterations.\n"
     ]
    },
    {
     "name": "stderr",
     "output_type": "stream",
     "text": [
      "\u001b[32m[I 2023-01-13 15:59:16,977]\u001b[0m Trial 41 finished with value: 0.9999362437057331 and parameters: {'depth': 14, 'border_count': 152, 'min_data_in_leaf': 9374, 'l2_leaf_reg': 0.9712440831761004}. Best is trial 28 with value: 0.99993934376161.\u001b[0m\n"
     ]
    },
    {
     "name": "stdout",
     "output_type": "stream",
     "text": [
      "train auc score = 0.9999982138385131\n",
      "test auc score = 0.9999362437057331\n"
     ]
    },
    {
     "name": "stderr",
     "output_type": "stream",
     "text": [
      "Default metric period is 5 because AUC is/are not implemented for GPU\n"
     ]
    },
    {
     "name": "stdout",
     "output_type": "stream",
     "text": [
      "0:\ttest: 0.9993919\tbest: 0.9993919 (0)\ttotal: 168ms\tremaining: 28m 2s\n",
      "100:\ttest: 0.9999214\tbest: 0.9999214 (99)\ttotal: 17s\tremaining: 27m 47s\n",
      "200:\ttest: 0.9999254\tbest: 0.9999260 (170)\ttotal: 33.8s\tremaining: 27m 29s\n",
      "bestTest = 0.9999260306\n",
      "bestIteration = 170\n",
      "Shrink model to first 171 iterations.\n"
     ]
    },
    {
     "name": "stderr",
     "output_type": "stream",
     "text": [
      "Default metric period is 5 because AUC is/are not implemented for GPU\n"
     ]
    },
    {
     "name": "stdout",
     "output_type": "stream",
     "text": [
      "0:\ttest: 0.9992934\tbest: 0.9992934 (0)\ttotal: 169ms\tremaining: 28m 6s\n",
      "100:\ttest: 0.9999332\tbest: 0.9999332 (100)\ttotal: 17.2s\tremaining: 28m 5s\n",
      "bestTest = 0.9999371171\n",
      "bestIteration = 153\n",
      "Shrink model to first 154 iterations.\n"
     ]
    },
    {
     "name": "stderr",
     "output_type": "stream",
     "text": [
      "Default metric period is 5 because AUC is/are not implemented for GPU\n"
     ]
    },
    {
     "name": "stdout",
     "output_type": "stream",
     "text": [
      "0:\ttest: 0.9993354\tbest: 0.9993354 (0)\ttotal: 170ms\tremaining: 28m 16s\n",
      "100:\ttest: 0.9999300\tbest: 0.9999303 (99)\ttotal: 17.2s\tremaining: 28m 1s\n",
      "200:\ttest: 0.9999341\tbest: 0.9999343 (190)\ttotal: 34s\tremaining: 27m 39s\n",
      "300:\ttest: 0.9999359\tbest: 0.9999359 (299)\ttotal: 50.8s\tremaining: 27m 17s\n",
      "bestTest = 0.9999361038\n",
      "bestIteration = 303\n",
      "Shrink model to first 304 iterations.\n"
     ]
    },
    {
     "name": "stderr",
     "output_type": "stream",
     "text": [
      "Default metric period is 5 because AUC is/are not implemented for GPU\n"
     ]
    },
    {
     "name": "stdout",
     "output_type": "stream",
     "text": [
      "0:\ttest: 0.9994815\tbest: 0.9994815 (0)\ttotal: 168ms\tremaining: 28m 3s\n",
      "100:\ttest: 0.9999307\tbest: 0.9999313 (94)\ttotal: 17s\tremaining: 27m 49s\n",
      "200:\ttest: 0.9999358\tbest: 0.9999360 (183)\ttotal: 33.8s\tremaining: 27m 29s\n",
      "bestTest = 0.9999360442\n",
      "bestIteration = 183\n",
      "Shrink model to first 184 iterations.\n"
     ]
    },
    {
     "name": "stderr",
     "output_type": "stream",
     "text": [
      "Default metric period is 5 because AUC is/are not implemented for GPU\n"
     ]
    },
    {
     "name": "stdout",
     "output_type": "stream",
     "text": [
      "0:\ttest: 0.9994897\tbest: 0.9994897 (0)\ttotal: 168ms\tremaining: 28m 3s\n",
      "100:\ttest: 0.9999326\tbest: 0.9999338 (82)\ttotal: 17.1s\tremaining: 28m\n",
      "bestTest = 0.9999337792\n",
      "bestIteration = 82\n",
      "Shrink model to first 83 iterations.\n"
     ]
    },
    {
     "name": "stderr",
     "output_type": "stream",
     "text": [
      "\u001b[32m[I 2023-01-13 16:02:32,160]\u001b[0m Trial 42 finished with value: 0.9999337932093969 and parameters: {'depth': 14, 'border_count': 175, 'min_data_in_leaf': 8655, 'l2_leaf_reg': 0.38848533343703884}. Best is trial 28 with value: 0.99993934376161.\u001b[0m\n"
     ]
    },
    {
     "name": "stdout",
     "output_type": "stream",
     "text": [
      "train auc score = 0.999997828560321\n",
      "test auc score = 0.9999337932093969\n"
     ]
    },
    {
     "name": "stderr",
     "output_type": "stream",
     "text": [
      "Default metric period is 5 because AUC is/are not implemented for GPU\n"
     ]
    },
    {
     "name": "stdout",
     "output_type": "stream",
     "text": [
      "0:\ttest: 0.9994040\tbest: 0.9994040 (0)\ttotal: 340ms\tremaining: 56m 43s\n",
      "100:\ttest: 0.9999278\tbest: 0.9999278 (100)\ttotal: 34.2s\tremaining: 55m 51s\n",
      "200:\ttest: 0.9999325\tbest: 0.9999325 (200)\ttotal: 1m 8s\tremaining: 55m 21s\n",
      "300:\ttest: 0.9999346\tbest: 0.9999346 (299)\ttotal: 1m 42s\tremaining: 54m 48s\n",
      "400:\ttest: 0.9999346\tbest: 0.9999350 (360)\ttotal: 2m 15s\tremaining: 54m 12s\n",
      "bestTest = 0.9999349713\n",
      "bestIteration = 360\n",
      "Shrink model to first 361 iterations.\n"
     ]
    },
    {
     "name": "stderr",
     "output_type": "stream",
     "text": [
      "Default metric period is 5 because AUC is/are not implemented for GPU\n"
     ]
    },
    {
     "name": "stdout",
     "output_type": "stream",
     "text": [
      "0:\ttest: 0.9993404\tbest: 0.9993404 (0)\ttotal: 343ms\tremaining: 57m 4s\n",
      "100:\ttest: 0.9999380\tbest: 0.9999384 (93)\ttotal: 34.3s\tremaining: 55m 58s\n",
      "200:\ttest: 0.9999430\tbest: 0.9999430 (200)\ttotal: 1m 8s\tremaining: 55m 25s\n",
      "bestTest = 0.9999432564\n",
      "bestIteration = 207\n",
      "Shrink model to first 208 iterations.\n"
     ]
    },
    {
     "name": "stderr",
     "output_type": "stream",
     "text": [
      "Default metric period is 5 because AUC is/are not implemented for GPU\n"
     ]
    },
    {
     "name": "stdout",
     "output_type": "stream",
     "text": [
      "0:\ttest: 0.9994378\tbest: 0.9994378 (0)\ttotal: 355ms\tremaining: 59m 10s\n",
      "100:\ttest: 0.9999315\tbest: 0.9999315 (100)\ttotal: 34.8s\tremaining: 56m 49s\n",
      "200:\ttest: 0.9999349\tbest: 0.9999349 (161)\ttotal: 1m 8s\tremaining: 55m 57s\n",
      "bestTest = 0.9999348521\n",
      "bestIteration = 161\n",
      "Shrink model to first 162 iterations.\n"
     ]
    },
    {
     "name": "stderr",
     "output_type": "stream",
     "text": [
      "Default metric period is 5 because AUC is/are not implemented for GPU\n"
     ]
    },
    {
     "name": "stdout",
     "output_type": "stream",
     "text": [
      "0:\ttest: 0.9995314\tbest: 0.9995314 (0)\ttotal: 346ms\tremaining: 57m 39s\n",
      "100:\ttest: 0.9999329\tbest: 0.9999329 (100)\ttotal: 34.5s\tremaining: 56m 19s\n",
      "200:\ttest: 0.9999358\tbest: 0.9999362 (160)\ttotal: 1m 8s\tremaining: 55m 35s\n",
      "bestTest = 0.9999361634\n",
      "bestIteration = 160\n",
      "Shrink model to first 161 iterations.\n"
     ]
    },
    {
     "name": "stderr",
     "output_type": "stream",
     "text": [
      "Default metric period is 5 because AUC is/are not implemented for GPU\n"
     ]
    },
    {
     "name": "stdout",
     "output_type": "stream",
     "text": [
      "0:\ttest: 0.9995498\tbest: 0.9995498 (0)\ttotal: 349ms\tremaining: 58m 7s\n",
      "100:\ttest: 0.9999374\tbest: 0.9999380 (99)\ttotal: 34.4s\tremaining: 56m 13s\n",
      "bestTest = 0.9999380112\n",
      "bestIteration = 99\n",
      "Shrink model to first 100 iterations.\n"
     ]
    },
    {
     "name": "stderr",
     "output_type": "stream",
     "text": [
      "\u001b[32m[I 2023-01-13 16:09:29,050]\u001b[0m Trial 43 finished with value: 0.9999374266411187 and parameters: {'depth': 15, 'border_count': 192, 'min_data_in_leaf': 8060, 'l2_leaf_reg': 0.6588573823814728}. Best is trial 28 with value: 0.99993934376161.\u001b[0m\n"
     ]
    },
    {
     "name": "stdout",
     "output_type": "stream",
     "text": [
      "train auc score = 0.9999988245065182\n",
      "test auc score = 0.9999374266411187\n"
     ]
    },
    {
     "name": "stderr",
     "output_type": "stream",
     "text": [
      "Default metric period is 5 because AUC is/are not implemented for GPU\n"
     ]
    },
    {
     "name": "stdout",
     "output_type": "stream",
     "text": [
      "0:\ttest: 0.9993896\tbest: 0.9993896 (0)\ttotal: 184ms\tremaining: 30m 44s\n",
      "100:\ttest: 0.9999279\tbest: 0.9999280 (99)\ttotal: 18.1s\tremaining: 29m 36s\n",
      "200:\ttest: 0.9999319\tbest: 0.9999319 (200)\ttotal: 35.8s\tremaining: 29m 3s\n",
      "bestTest = 0.9999318719\n",
      "bestIteration = 200\n",
      "Shrink model to first 201 iterations.\n"
     ]
    },
    {
     "name": "stderr",
     "output_type": "stream",
     "text": [
      "Default metric period is 5 because AUC is/are not implemented for GPU\n"
     ]
    },
    {
     "name": "stdout",
     "output_type": "stream",
     "text": [
      "0:\ttest: 0.9992636\tbest: 0.9992636 (0)\ttotal: 181ms\tremaining: 30m 9s\n",
      "100:\ttest: 0.9999331\tbest: 0.9999331 (100)\ttotal: 18s\tremaining: 29m 21s\n",
      "bestTest = 0.9999350309\n",
      "bestIteration = 154\n",
      "Shrink model to first 155 iterations.\n"
     ]
    },
    {
     "name": "stderr",
     "output_type": "stream",
     "text": [
      "Default metric period is 5 because AUC is/are not implemented for GPU\n"
     ]
    },
    {
     "name": "stdout",
     "output_type": "stream",
     "text": [
      "0:\ttest: 0.9993367\tbest: 0.9993367 (0)\ttotal: 177ms\tremaining: 29m 26s\n",
      "100:\ttest: 0.9999261\tbest: 0.9999269 (74)\ttotal: 17.9s\tremaining: 29m 15s\n",
      "bestTest = 0.9999318123\n",
      "bestIteration = 146\n",
      "Shrink model to first 147 iterations.\n"
     ]
    },
    {
     "name": "stderr",
     "output_type": "stream",
     "text": [
      "Default metric period is 5 because AUC is/are not implemented for GPU\n"
     ]
    },
    {
     "name": "stdout",
     "output_type": "stream",
     "text": [
      "0:\ttest: 0.9994991\tbest: 0.9994991 (0)\ttotal: 177ms\tremaining: 29m 30s\n",
      "100:\ttest: 0.9999319\tbest: 0.9999334 (81)\ttotal: 18s\tremaining: 29m 19s\n",
      "bestTest = 0.9999346733\n",
      "bestIteration = 124\n",
      "Shrink model to first 125 iterations.\n"
     ]
    },
    {
     "name": "stderr",
     "output_type": "stream",
     "text": [
      "Default metric period is 5 because AUC is/are not implemented for GPU\n"
     ]
    },
    {
     "name": "stdout",
     "output_type": "stream",
     "text": [
      "0:\ttest: 0.9994972\tbest: 0.9994972 (0)\ttotal: 188ms\tremaining: 31m 24s\n",
      "100:\ttest: 0.9999337\tbest: 0.9999337 (99)\ttotal: 17.9s\tremaining: 29m 14s\n",
      "bestTest = 0.9999344647\n",
      "bestIteration = 119\n",
      "Shrink model to first 120 iterations.\n"
     ]
    },
    {
     "name": "stderr",
     "output_type": "stream",
     "text": [
      "\u001b[32m[I 2023-01-13 16:12:27,501]\u001b[0m Trial 44 finished with value: 0.9999335536335299 and parameters: {'depth': 14, 'border_count': 210, 'min_data_in_leaf': 9513, 'l2_leaf_reg': 0.38102294254562113}. Best is trial 28 with value: 0.99993934376161.\u001b[0m\n"
     ]
    },
    {
     "name": "stdout",
     "output_type": "stream",
     "text": [
      "train auc score = 0.9999982610829437\n",
      "test auc score = 0.9999335536335299\n"
     ]
    },
    {
     "name": "stderr",
     "output_type": "stream",
     "text": [
      "Default metric period is 5 because AUC is/are not implemented for GPU\n"
     ]
    },
    {
     "name": "stdout",
     "output_type": "stream",
     "text": [
      "0:\ttest: 0.9993100\tbest: 0.9993100 (0)\ttotal: 96.8ms\tremaining: 16m 7s\n",
      "100:\ttest: 0.9999247\tbest: 0.9999247 (100)\ttotal: 9.54s\tremaining: 15m 35s\n",
      "200:\ttest: 0.9999300\tbest: 0.9999301 (173)\ttotal: 19.6s\tremaining: 15m 55s\n",
      "300:\ttest: 0.9999317\tbest: 0.9999321 (269)\ttotal: 29.1s\tremaining: 15m 38s\n",
      "bestTest = 0.9999321103\n",
      "bestIteration = 269\n",
      "Shrink model to first 270 iterations.\n"
     ]
    },
    {
     "name": "stderr",
     "output_type": "stream",
     "text": [
      "Default metric period is 5 because AUC is/are not implemented for GPU\n"
     ]
    },
    {
     "name": "stdout",
     "output_type": "stream",
     "text": [
      "0:\ttest: 0.9992591\tbest: 0.9992591 (0)\ttotal: 95.2ms\tremaining: 15m 52s\n",
      "100:\ttest: 0.9999323\tbest: 0.9999323 (100)\ttotal: 9.58s\tremaining: 15m 38s\n",
      "200:\ttest: 0.9999400\tbest: 0.9999400 (200)\ttotal: 19.3s\tremaining: 15m 41s\n",
      "bestTest = 0.9999414682\n",
      "bestIteration = 225\n",
      "Shrink model to first 226 iterations.\n"
     ]
    },
    {
     "name": "stderr",
     "output_type": "stream",
     "text": [
      "Default metric period is 5 because AUC is/are not implemented for GPU\n"
     ]
    },
    {
     "name": "stdout",
     "output_type": "stream",
     "text": [
      "0:\ttest: 0.9993044\tbest: 0.9993044 (0)\ttotal: 95.1ms\tremaining: 15m 50s\n",
      "100:\ttest: 0.9999285\tbest: 0.9999286 (99)\ttotal: 9.54s\tremaining: 15m 35s\n",
      "200:\ttest: 0.9999346\tbest: 0.9999349 (189)\ttotal: 19s\tremaining: 15m 24s\n",
      "300:\ttest: 0.9999365\tbest: 0.9999365 (300)\ttotal: 28.6s\tremaining: 15m 22s\n",
      "400:\ttest: 0.9999371\tbest: 0.9999374 (386)\ttotal: 38s\tremaining: 15m 8s\n",
      "bestTest = 0.9999374151\n",
      "bestIteration = 386\n",
      "Shrink model to first 387 iterations.\n"
     ]
    },
    {
     "name": "stderr",
     "output_type": "stream",
     "text": [
      "Default metric period is 5 because AUC is/are not implemented for GPU\n"
     ]
    },
    {
     "name": "stdout",
     "output_type": "stream",
     "text": [
      "0:\ttest: 0.9993973\tbest: 0.9993973 (0)\ttotal: 95.5ms\tremaining: 15m 54s\n",
      "100:\ttest: 0.9999337\tbest: 0.9999341 (98)\ttotal: 9.64s\tremaining: 15m 44s\n",
      "200:\ttest: 0.9999378\tbest: 0.9999378 (195)\ttotal: 19.1s\tremaining: 15m 30s\n",
      "300:\ttest: 0.9999391\tbest: 0.9999396 (272)\ttotal: 28.5s\tremaining: 15m 19s\n",
      "bestTest = 0.9999395609\n",
      "bestIteration = 272\n",
      "Shrink model to first 273 iterations.\n"
     ]
    },
    {
     "name": "stderr",
     "output_type": "stream",
     "text": [
      "Default metric period is 5 because AUC is/are not implemented for GPU\n"
     ]
    },
    {
     "name": "stdout",
     "output_type": "stream",
     "text": [
      "0:\ttest: 0.9994287\tbest: 0.9994287 (0)\ttotal: 111ms\tremaining: 18m 25s\n",
      "100:\ttest: 0.9999335\tbest: 0.9999335 (98)\ttotal: 10.8s\tremaining: 17m 34s\n",
      "bestTest = 0.9999341369\n",
      "bestIteration = 103\n",
      "Shrink model to first 104 iterations.\n"
     ]
    },
    {
     "name": "stderr",
     "output_type": "stream",
     "text": [
      "\u001b[32m[I 2023-01-13 16:14:59,197]\u001b[0m Trial 45 finished with value: 0.9999368768873103 and parameters: {'depth': 13, 'border_count': 220, 'min_data_in_leaf': 8750, 'l2_leaf_reg': 0.7253118099254793}. Best is trial 28 with value: 0.99993934376161.\u001b[0m\n"
     ]
    },
    {
     "name": "stdout",
     "output_type": "stream",
     "text": [
      "train auc score = 0.9999978454092305\n",
      "test auc score = 0.9999368768873103\n"
     ]
    },
    {
     "name": "stderr",
     "output_type": "stream",
     "text": [
      "Default metric period is 5 because AUC is/are not implemented for GPU\n"
     ]
    },
    {
     "name": "stdout",
     "output_type": "stream",
     "text": [
      "0:\ttest: 0.9988493\tbest: 0.9988493 (0)\ttotal: 64.9ms\tremaining: 10m 48s\n",
      "100:\ttest: 0.9999257\tbest: 0.9999259 (99)\ttotal: 5.85s\tremaining: 9m 33s\n",
      "200:\ttest: 0.9999349\tbest: 0.9999350 (199)\ttotal: 11s\tremaining: 8m 56s\n",
      "300:\ttest: 0.9999369\tbest: 0.9999378 (280)\ttotal: 16.2s\tremaining: 8m 41s\n",
      "bestTest = 0.9999378324\n",
      "bestIteration = 280\n",
      "Shrink model to first 281 iterations.\n"
     ]
    },
    {
     "name": "stderr",
     "output_type": "stream",
     "text": [
      "Default metric period is 5 because AUC is/are not implemented for GPU\n"
     ]
    },
    {
     "name": "stdout",
     "output_type": "stream",
     "text": [
      "0:\ttest: 0.9987092\tbest: 0.9987092 (0)\ttotal: 52.1ms\tremaining: 8m 41s\n",
      "100:\ttest: 0.9999306\tbest: 0.9999306 (100)\ttotal: 5.51s\tremaining: 8m 59s\n",
      "200:\ttest: 0.9999369\tbest: 0.9999374 (198)\ttotal: 10.9s\tremaining: 8m 50s\n",
      "300:\ttest: 0.9999389\tbest: 0.9999396 (277)\ttotal: 16.1s\tremaining: 8m 39s\n",
      "bestTest = 0.9999395609\n",
      "bestIteration = 277\n",
      "Shrink model to first 278 iterations.\n"
     ]
    },
    {
     "name": "stderr",
     "output_type": "stream",
     "text": [
      "Default metric period is 5 because AUC is/are not implemented for GPU\n"
     ]
    },
    {
     "name": "stdout",
     "output_type": "stream",
     "text": [
      "0:\ttest: 0.9988267\tbest: 0.9988267 (0)\ttotal: 51.5ms\tremaining: 8m 34s\n",
      "100:\ttest: 0.9999210\tbest: 0.9999210 (100)\ttotal: 5.78s\tremaining: 9m 26s\n",
      "200:\ttest: 0.9999298\tbest: 0.9999300 (193)\ttotal: 11.1s\tremaining: 9m 1s\n",
      "300:\ttest: 0.9999335\tbest: 0.9999335 (298)\ttotal: 17.4s\tremaining: 9m 21s\n",
      "bestTest = 0.9999350905\n",
      "bestIteration = 355\n",
      "Shrink model to first 356 iterations.\n"
     ]
    },
    {
     "name": "stderr",
     "output_type": "stream",
     "text": [
      "Default metric period is 5 because AUC is/are not implemented for GPU\n"
     ]
    },
    {
     "name": "stdout",
     "output_type": "stream",
     "text": [
      "0:\ttest: 0.9989866\tbest: 0.9989866 (0)\ttotal: 52.6ms\tremaining: 8m 46s\n",
      "100:\ttest: 0.9999272\tbest: 0.9999273 (99)\ttotal: 5.26s\tremaining: 8m 35s\n",
      "200:\ttest: 0.9999348\tbest: 0.9999350 (189)\ttotal: 10.5s\tremaining: 8m 33s\n",
      "300:\ttest: 0.9999369\tbest: 0.9999380 (287)\ttotal: 15.9s\tremaining: 8m 31s\n",
      "bestTest = 0.9999379516\n",
      "bestIteration = 287\n",
      "Shrink model to first 288 iterations.\n"
     ]
    },
    {
     "name": "stderr",
     "output_type": "stream",
     "text": [
      "Default metric period is 5 because AUC is/are not implemented for GPU\n"
     ]
    },
    {
     "name": "stdout",
     "output_type": "stream",
     "text": [
      "0:\ttest: 0.9990259\tbest: 0.9990259 (0)\ttotal: 51.8ms\tremaining: 8m 38s\n",
      "100:\ttest: 0.9999352\tbest: 0.9999352 (100)\ttotal: 5.76s\tremaining: 9m 24s\n",
      "200:\ttest: 0.9999369\tbest: 0.9999381 (161)\ttotal: 11.3s\tremaining: 9m 12s\n",
      "bestTest = 0.9999381304\n",
      "bestIteration = 161\n",
      "Shrink model to first 162 iterations.\n"
     ]
    },
    {
     "name": "stderr",
     "output_type": "stream",
     "text": [
      "\u001b[32m[I 2023-01-13 16:16:34,685]\u001b[0m Trial 46 finished with value: 0.9999376748578305 and parameters: {'depth': 12, 'border_count': 181, 'min_data_in_leaf': 6445, 'l2_leaf_reg': 0.9929473145008023}. Best is trial 28 with value: 0.99993934376161.\u001b[0m\n"
     ]
    },
    {
     "name": "stdout",
     "output_type": "stream",
     "text": [
      "train auc score = 0.9999976703783886\n",
      "test auc score = 0.9999376748578305\n"
     ]
    },
    {
     "name": "stderr",
     "output_type": "stream",
     "text": [
      "Default metric period is 5 because AUC is/are not implemented for GPU\n"
     ]
    },
    {
     "name": "stdout",
     "output_type": "stream",
     "text": [
      "0:\ttest: 0.9994079\tbest: 0.9994079 (0)\ttotal: 342ms\tremaining: 57m 1s\n",
      "100:\ttest: 0.9999225\tbest: 0.9999226 (94)\ttotal: 34.4s\tremaining: 56m 13s\n",
      "200:\ttest: 0.9999263\tbest: 0.9999264 (199)\ttotal: 1m 8s\tremaining: 55m 38s\n",
      "300:\ttest: 0.9999290\tbest: 0.9999292 (283)\ttotal: 1m 42s\tremaining: 54m 59s\n",
      "bestTest = 0.9999293685\n",
      "bestIteration = 313\n",
      "Shrink model to first 314 iterations.\n"
     ]
    },
    {
     "name": "stderr",
     "output_type": "stream",
     "text": [
      "Default metric period is 5 because AUC is/are not implemented for GPU\n"
     ]
    },
    {
     "name": "stdout",
     "output_type": "stream",
     "text": [
      "0:\ttest: 0.9993443\tbest: 0.9993443 (0)\ttotal: 341ms\tremaining: 56m 47s\n",
      "100:\ttest: 0.9999365\tbest: 0.9999365 (100)\ttotal: 34.5s\tremaining: 56m 16s\n",
      "200:\ttest: 0.9999379\tbest: 0.9999387 (160)\ttotal: 1m 8s\tremaining: 55m 36s\n",
      "bestTest = 0.9999387264\n",
      "bestIteration = 160\n",
      "Shrink model to first 161 iterations.\n"
     ]
    },
    {
     "name": "stderr",
     "output_type": "stream",
     "text": [
      "Default metric period is 5 because AUC is/are not implemented for GPU\n"
     ]
    },
    {
     "name": "stdout",
     "output_type": "stream",
     "text": [
      "0:\ttest: 0.9994278\tbest: 0.9994278 (0)\ttotal: 342ms\tremaining: 57m 1s\n",
      "100:\ttest: 0.9999287\tbest: 0.9999287 (100)\ttotal: 34.3s\tremaining: 56m 5s\n",
      "bestTest = 0.9999321103\n",
      "bestIteration = 142\n",
      "Shrink model to first 143 iterations.\n"
     ]
    },
    {
     "name": "stderr",
     "output_type": "stream",
     "text": [
      "Default metric period is 5 because AUC is/are not implemented for GPU\n"
     ]
    },
    {
     "name": "stdout",
     "output_type": "stream",
     "text": [
      "0:\ttest: 0.9995277\tbest: 0.9995277 (0)\ttotal: 348ms\tremaining: 57m 58s\n",
      "100:\ttest: 0.9999296\tbest: 0.9999306 (84)\ttotal: 34.4s\tremaining: 56m 9s\n",
      "bestTest = 0.9999349117\n",
      "bestIteration = 152\n",
      "Shrink model to first 153 iterations.\n"
     ]
    },
    {
     "name": "stderr",
     "output_type": "stream",
     "text": [
      "Default metric period is 5 because AUC is/are not implemented for GPU\n"
     ]
    },
    {
     "name": "stdout",
     "output_type": "stream",
     "text": [
      "0:\ttest: 0.9995456\tbest: 0.9995456 (0)\ttotal: 340ms\tremaining: 56m 36s\n",
      "100:\ttest: 0.9999334\tbest: 0.9999344 (81)\ttotal: 34.4s\tremaining: 56m 8s\n",
      "bestTest = 0.9999343753\n",
      "bestIteration = 81\n",
      "Shrink model to first 82 iterations.\n"
     ]
    },
    {
     "name": "stderr",
     "output_type": "stream",
     "text": [
      "\u001b[32m[I 2023-01-13 16:22:43,986]\u001b[0m Trial 47 finished with value: 0.999933895247797 and parameters: {'depth': 15, 'border_count': 198, 'min_data_in_leaf': 9631, 'l2_leaf_reg': 0.3029390518284237}. Best is trial 28 with value: 0.99993934376161.\u001b[0m\n"
     ]
    },
    {
     "name": "stdout",
     "output_type": "stream",
     "text": [
      "train auc score = 0.9999986933301681\n",
      "test auc score = 0.999933895247797\n"
     ]
    },
    {
     "name": "stderr",
     "output_type": "stream",
     "text": [
      "Default metric period is 5 because AUC is/are not implemented for GPU\n"
     ]
    },
    {
     "name": "stdout",
     "output_type": "stream",
     "text": [
      "0:\ttest: 0.9979302\tbest: 0.9979302 (0)\ttotal: 14.5ms\tremaining: 2m 25s\n",
      "100:\ttest: 0.9998922\tbest: 0.9998922 (100)\ttotal: 1.21s\tremaining: 1m 58s\n",
      "200:\ttest: 0.9999118\tbest: 0.9999118 (200)\ttotal: 2.35s\tremaining: 1m 54s\n",
      "300:\ttest: 0.9999233\tbest: 0.9999235 (291)\ttotal: 3.53s\tremaining: 1m 53s\n",
      "400:\ttest: 0.9999261\tbest: 0.9999263 (396)\ttotal: 4.64s\tremaining: 1m 51s\n",
      "bestTest = 0.9999274611\n",
      "bestIteration = 440\n",
      "Shrink model to first 441 iterations.\n"
     ]
    },
    {
     "name": "stderr",
     "output_type": "stream",
     "text": [
      "Default metric period is 5 because AUC is/are not implemented for GPU\n"
     ]
    },
    {
     "name": "stdout",
     "output_type": "stream",
     "text": [
      "0:\ttest: 0.9976563\tbest: 0.9976563 (0)\ttotal: 11.7ms\tremaining: 1m 56s\n",
      "100:\ttest: 0.9999149\tbest: 0.9999149 (100)\ttotal: 1.16s\tremaining: 1m 53s\n",
      "200:\ttest: 0.9999303\tbest: 0.9999303 (196)\ttotal: 2.35s\tremaining: 1m 54s\n",
      "300:\ttest: 0.9999357\tbest: 0.9999358 (293)\ttotal: 3.53s\tremaining: 1m 53s\n",
      "400:\ttest: 0.9999400\tbest: 0.9999400 (400)\ttotal: 4.66s\tremaining: 1m 51s\n",
      "bestTest = 0.9999409318\n",
      "bestIteration = 442\n",
      "Shrink model to first 443 iterations.\n"
     ]
    },
    {
     "name": "stderr",
     "output_type": "stream",
     "text": [
      "Default metric period is 5 because AUC is/are not implemented for GPU\n"
     ]
    },
    {
     "name": "stdout",
     "output_type": "stream",
     "text": [
      "0:\ttest: 0.9981348\tbest: 0.9981348 (0)\ttotal: 14.5ms\tremaining: 2m 25s\n",
      "100:\ttest: 0.9999072\tbest: 0.9999073 (96)\ttotal: 1.17s\tremaining: 1m 55s\n",
      "200:\ttest: 0.9999213\tbest: 0.9999213 (200)\ttotal: 2.33s\tremaining: 1m 53s\n",
      "300:\ttest: 0.9999253\tbest: 0.9999253 (300)\ttotal: 3.49s\tremaining: 1m 52s\n",
      "400:\ttest: 0.9999275\tbest: 0.9999275 (385)\ttotal: 4.65s\tremaining: 1m 51s\n",
      "500:\ttest: 0.9999288\tbest: 0.9999289 (481)\ttotal: 5.8s\tremaining: 1m 49s\n",
      "600:\ttest: 0.9999301\tbest: 0.9999302 (595)\ttotal: 6.94s\tremaining: 1m 48s\n",
      "bestTest = 0.999930203\n",
      "bestIteration = 595\n",
      "Shrink model to first 596 iterations.\n"
     ]
    },
    {
     "name": "stderr",
     "output_type": "stream",
     "text": [
      "Default metric period is 5 because AUC is/are not implemented for GPU\n"
     ]
    },
    {
     "name": "stdout",
     "output_type": "stream",
     "text": [
      "0:\ttest: 0.9983131\tbest: 0.9983131 (0)\ttotal: 11.4ms\tremaining: 1m 54s\n",
      "100:\ttest: 0.9999135\tbest: 0.9999135 (99)\ttotal: 1.17s\tremaining: 1m 54s\n",
      "200:\ttest: 0.9999288\tbest: 0.9999288 (200)\ttotal: 2.32s\tremaining: 1m 53s\n",
      "300:\ttest: 0.9999342\tbest: 0.9999342 (278)\ttotal: 3.49s\tremaining: 1m 52s\n",
      "bestTest = 0.9999350309\n",
      "bestIteration = 312\n",
      "Shrink model to first 313 iterations.\n"
     ]
    },
    {
     "name": "stderr",
     "output_type": "stream",
     "text": [
      "Default metric period is 5 because AUC is/are not implemented for GPU\n"
     ]
    },
    {
     "name": "stdout",
     "output_type": "stream",
     "text": [
      "0:\ttest: 0.9928099\tbest: 0.9928099 (0)\ttotal: 11.5ms\tremaining: 1m 55s\n",
      "100:\ttest: 0.9999198\tbest: 0.9999198 (100)\ttotal: 1.2s\tremaining: 1m 57s\n",
      "200:\ttest: 0.9999324\tbest: 0.9999324 (199)\ttotal: 2.34s\tremaining: 1m 53s\n",
      "300:\ttest: 0.9999370\tbest: 0.9999370 (297)\ttotal: 3.51s\tremaining: 1m 53s\n",
      "bestTest = 0.9999369979\n",
      "bestIteration = 297\n",
      "Shrink model to first 298 iterations.\n"
     ]
    },
    {
     "name": "stderr",
     "output_type": "stream",
     "text": [
      "\u001b[32m[I 2023-01-13 16:23:19,555]\u001b[0m Trial 48 finished with value: 0.9999341377144029 and parameters: {'depth': 8, 'border_count': 83, 'min_data_in_leaf': 8335, 'l2_leaf_reg': 0.45266699938693905}. Best is trial 28 with value: 0.99993934376161.\u001b[0m\n"
     ]
    },
    {
     "name": "stdout",
     "output_type": "stream",
     "text": [
      "train auc score = 0.9999894291969376\n",
      "test auc score = 0.9999341377144029\n"
     ]
    },
    {
     "name": "stderr",
     "output_type": "stream",
     "text": [
      "Default metric period is 5 because AUC is/are not implemented for GPU\n"
     ]
    },
    {
     "name": "stdout",
     "output_type": "stream",
     "text": [
      "0:\ttest: 0.9964053\tbest: 0.9964053 (0)\ttotal: 10.2ms\tremaining: 1m 41s\n",
      "100:\ttest: 0.9998863\tbest: 0.9998863 (100)\ttotal: 978ms\tremaining: 1m 35s\n",
      "200:\ttest: 0.9999066\tbest: 0.9999074 (194)\ttotal: 1.94s\tremaining: 1m 34s\n",
      "300:\ttest: 0.9999107\tbest: 0.9999111 (298)\ttotal: 2.91s\tremaining: 1m 33s\n",
      "400:\ttest: 0.9999141\tbest: 0.9999146 (363)\ttotal: 3.9s\tremaining: 1m 33s\n",
      "bestTest = 0.9999146461\n",
      "bestIteration = 363\n",
      "Shrink model to first 364 iterations.\n"
     ]
    },
    {
     "name": "stderr",
     "output_type": "stream",
     "text": [
      "Default metric period is 5 because AUC is/are not implemented for GPU\n"
     ]
    },
    {
     "name": "stdout",
     "output_type": "stream",
     "text": [
      "0:\ttest: 0.9968443\tbest: 0.9968443 (0)\ttotal: 10.2ms\tremaining: 1m 42s\n",
      "100:\ttest: 0.9999061\tbest: 0.9999061 (100)\ttotal: 992ms\tremaining: 1m 37s\n",
      "200:\ttest: 0.9999190\tbest: 0.9999192 (197)\ttotal: 2.08s\tremaining: 1m 41s\n",
      "300:\ttest: 0.9999269\tbest: 0.9999269 (300)\ttotal: 3.03s\tremaining: 1m 37s\n",
      "400:\ttest: 0.9999303\tbest: 0.9999304 (390)\ttotal: 4.08s\tremaining: 1m 37s\n",
      "bestTest = 0.9999313951\n",
      "bestIteration = 414\n",
      "Shrink model to first 415 iterations.\n"
     ]
    },
    {
     "name": "stderr",
     "output_type": "stream",
     "text": [
      "Default metric period is 5 because AUC is/are not implemented for GPU\n"
     ]
    },
    {
     "name": "stdout",
     "output_type": "stream",
     "text": [
      "0:\ttest: 0.9965470\tbest: 0.9965470 (0)\ttotal: 11.5ms\tremaining: 1m 54s\n",
      "100:\ttest: 0.9998995\tbest: 0.9998995 (100)\ttotal: 1.06s\tremaining: 1m 43s\n",
      "200:\ttest: 0.9999095\tbest: 0.9999098 (197)\ttotal: 2.04s\tremaining: 1m 39s\n",
      "300:\ttest: 0.9999178\tbest: 0.9999181 (292)\ttotal: 3.01s\tremaining: 1m 36s\n",
      "400:\ttest: 0.9999195\tbest: 0.9999205 (364)\ttotal: 4.01s\tremaining: 1m 36s\n",
      "bestTest = 0.999920547\n",
      "bestIteration = 364\n",
      "Shrink model to first 365 iterations.\n"
     ]
    },
    {
     "name": "stderr",
     "output_type": "stream",
     "text": [
      "Default metric period is 5 because AUC is/are not implemented for GPU\n"
     ]
    },
    {
     "name": "stdout",
     "output_type": "stream",
     "text": [
      "0:\ttest: 0.9971013\tbest: 0.9971013 (0)\ttotal: 10.1ms\tremaining: 1m 41s\n",
      "100:\ttest: 0.9998934\tbest: 0.9998934 (99)\ttotal: 1.12s\tremaining: 1m 50s\n",
      "200:\ttest: 0.9999170\tbest: 0.9999170 (200)\ttotal: 2.1s\tremaining: 1m 42s\n",
      "bestTest = 0.9999203682\n",
      "bestIteration = 225\n",
      "Shrink model to first 226 iterations.\n"
     ]
    },
    {
     "name": "stderr",
     "output_type": "stream",
     "text": [
      "Default metric period is 5 because AUC is/are not implemented for GPU\n"
     ]
    },
    {
     "name": "stdout",
     "output_type": "stream",
     "text": [
      "0:\ttest: 0.9970276\tbest: 0.9970276 (0)\ttotal: 9.94ms\tremaining: 1m 39s\n",
      "100:\ttest: 0.9999129\tbest: 0.9999129 (100)\ttotal: 1.07s\tremaining: 1m 44s\n",
      "200:\ttest: 0.9999267\tbest: 0.9999267 (200)\ttotal: 2.07s\tremaining: 1m 41s\n",
      "300:\ttest: 0.9999306\tbest: 0.9999306 (300)\ttotal: 3.07s\tremaining: 1m 38s\n",
      "bestTest = 0.9999324083\n",
      "bestIteration = 336\n",
      "Shrink model to first 337 iterations.\n"
     ]
    },
    {
     "name": "stderr",
     "output_type": "stream",
     "text": [
      "\u001b[32m[I 2023-01-13 16:23:47,553]\u001b[0m Trial 49 finished with value: 0.9999238468883902 and parameters: {'depth': 7, 'border_count': 246, 'min_data_in_leaf': 7314, 'l2_leaf_reg': 0.09073718022763094}. Best is trial 28 with value: 0.99993934376161.\u001b[0m\n"
     ]
    },
    {
     "name": "stdout",
     "output_type": "stream",
     "text": [
      "train auc score = 0.9999789496879643\n",
      "test auc score = 0.9999238468883902\n"
     ]
    },
    {
     "name": "stderr",
     "output_type": "stream",
     "text": [
      "Default metric period is 5 because AUC is/are not implemented for GPU\n"
     ]
    },
    {
     "name": "stdout",
     "output_type": "stream",
     "text": [
      "0:\ttest: 0.9986395\tbest: 0.9986395 (0)\ttotal: 20.9ms\tremaining: 3m 28s\n",
      "100:\ttest: 0.9999008\tbest: 0.9999024 (89)\ttotal: 2.04s\tremaining: 3m 19s\n",
      "bestTest = 0.9999037981\n",
      "bestIteration = 134\n",
      "Shrink model to first 135 iterations.\n"
     ]
    },
    {
     "name": "stderr",
     "output_type": "stream",
     "text": [
      "Default metric period is 5 because AUC is/are not implemented for GPU\n"
     ]
    },
    {
     "name": "stdout",
     "output_type": "stream",
     "text": [
      "0:\ttest: 0.9985613\tbest: 0.9985613 (0)\ttotal: 24.3ms\tremaining: 4m 2s\n",
      "100:\ttest: 0.9999138\tbest: 0.9999146 (98)\ttotal: 2.08s\tremaining: 3m 24s\n",
      "bestTest = 0.9999172688\n",
      "bestIteration = 143\n",
      "Shrink model to first 144 iterations.\n"
     ]
    },
    {
     "name": "stderr",
     "output_type": "stream",
     "text": [
      "Default metric period is 5 because AUC is/are not implemented for GPU\n"
     ]
    },
    {
     "name": "stdout",
     "output_type": "stream",
     "text": [
      "0:\ttest: 0.9987429\tbest: 0.9987429 (0)\ttotal: 20.9ms\tremaining: 3m 28s\n",
      "100:\ttest: 0.9999068\tbest: 0.9999069 (99)\ttotal: 2.19s\tremaining: 3m 34s\n",
      "bestTest = 0.9999089241\n",
      "bestIteration = 108\n",
      "Shrink model to first 109 iterations.\n"
     ]
    },
    {
     "name": "stderr",
     "output_type": "stream",
     "text": [
      "Default metric period is 5 because AUC is/are not implemented for GPU\n"
     ]
    },
    {
     "name": "stdout",
     "output_type": "stream",
     "text": [
      "0:\ttest: 0.9987841\tbest: 0.9987841 (0)\ttotal: 22.3ms\tremaining: 3m 43s\n",
      "100:\ttest: 0.9999058\tbest: 0.9999086 (83)\ttotal: 2.15s\tremaining: 3m 30s\n",
      "bestTest = 0.9999118447\n",
      "bestIteration = 133\n",
      "Shrink model to first 134 iterations.\n"
     ]
    },
    {
     "name": "stderr",
     "output_type": "stream",
     "text": [
      "Default metric period is 5 because AUC is/are not implemented for GPU\n"
     ]
    },
    {
     "name": "stdout",
     "output_type": "stream",
     "text": [
      "0:\ttest: 0.9988227\tbest: 0.9988227 (0)\ttotal: 34.9ms\tremaining: 5m 48s\n",
      "100:\ttest: 0.9999057\tbest: 0.9999057 (100)\ttotal: 2.33s\tremaining: 3m 48s\n",
      "bestTest = 0.9999090433\n",
      "bestIteration = 149\n",
      "Shrink model to first 150 iterations.\n"
     ]
    },
    {
     "name": "stderr",
     "output_type": "stream",
     "text": [
      "\u001b[32m[I 2023-01-13 16:24:14,974]\u001b[0m Trial 50 finished with value: 0.9999101690403286 and parameters: {'depth': 10, 'border_count': 135, 'min_data_in_leaf': 1092, 'l2_leaf_reg': 0.003671581851478888}. Best is trial 28 with value: 0.99993934376161.\u001b[0m\n"
     ]
    },
    {
     "name": "stdout",
     "output_type": "stream",
     "text": [
      "train auc score = 0.9999848578738433\n",
      "test auc score = 0.9999101690403286\n"
     ]
    },
    {
     "name": "stderr",
     "output_type": "stream",
     "text": [
      "Default metric period is 5 because AUC is/are not implemented for GPU\n"
     ]
    },
    {
     "name": "stdout",
     "output_type": "stream",
     "text": [
      "0:\ttest: 0.9986919\tbest: 0.9986919 (0)\ttotal: 31.6ms\tremaining: 5m 16s\n",
      "100:\ttest: 0.9999192\tbest: 0.9999194 (99)\ttotal: 3.32s\tremaining: 5m 25s\n",
      "200:\ttest: 0.9999308\tbest: 0.9999309 (199)\ttotal: 6.38s\tremaining: 5m 11s\n",
      "300:\ttest: 0.9999360\tbest: 0.9999362 (291)\ttotal: 9.5s\tremaining: 5m 6s\n",
      "bestTest = 0.9999366403\n",
      "bestIteration = 352\n",
      "Shrink model to first 353 iterations.\n"
     ]
    },
    {
     "name": "stderr",
     "output_type": "stream",
     "text": [
      "Default metric period is 5 because AUC is/are not implemented for GPU\n"
     ]
    },
    {
     "name": "stdout",
     "output_type": "stream",
     "text": [
      "0:\ttest: 0.9986162\tbest: 0.9986162 (0)\ttotal: 35ms\tremaining: 5m 50s\n",
      "100:\ttest: 0.9999290\tbest: 0.9999292 (99)\ttotal: 3.29s\tremaining: 5m 22s\n",
      "200:\ttest: 0.9999387\tbest: 0.9999388 (195)\ttotal: 6.34s\tremaining: 5m 9s\n",
      "300:\ttest: 0.9999421\tbest: 0.9999423 (299)\ttotal: 9.43s\tremaining: 5m 3s\n",
      "400:\ttest: 0.9999430\tbest: 0.9999432 (396)\ttotal: 12.7s\tremaining: 5m 4s\n",
      "bestTest = 0.9999434948\n",
      "bestIteration = 438\n",
      "Shrink model to first 439 iterations.\n"
     ]
    },
    {
     "name": "stderr",
     "output_type": "stream",
     "text": [
      "Default metric period is 5 because AUC is/are not implemented for GPU\n"
     ]
    },
    {
     "name": "stdout",
     "output_type": "stream",
     "text": [
      "0:\ttest: 0.9986875\tbest: 0.9986875 (0)\ttotal: 38.8ms\tremaining: 6m 28s\n",
      "100:\ttest: 0.9999208\tbest: 0.9999208 (100)\ttotal: 3.24s\tremaining: 5m 17s\n",
      "200:\ttest: 0.9999316\tbest: 0.9999316 (200)\ttotal: 6.61s\tremaining: 5m 22s\n",
      "300:\ttest: 0.9999360\tbest: 0.9999360 (300)\ttotal: 10.3s\tremaining: 5m 33s\n",
      "bestTest = 0.999936223\n",
      "bestIteration = 332\n",
      "Shrink model to first 333 iterations.\n"
     ]
    },
    {
     "name": "stderr",
     "output_type": "stream",
     "text": [
      "Default metric period is 5 because AUC is/are not implemented for GPU\n"
     ]
    },
    {
     "name": "stdout",
     "output_type": "stream",
     "text": [
      "0:\ttest: 0.9988528\tbest: 0.9988528 (0)\ttotal: 31.3ms\tremaining: 5m 13s\n",
      "100:\ttest: 0.9999223\tbest: 0.9999227 (92)\ttotal: 3.52s\tremaining: 5m 45s\n",
      "200:\ttest: 0.9999329\tbest: 0.9999332 (195)\ttotal: 6.83s\tremaining: 5m 33s\n",
      "bestTest = 0.999935925\n",
      "bestIteration = 258\n",
      "Shrink model to first 259 iterations.\n"
     ]
    },
    {
     "name": "stderr",
     "output_type": "stream",
     "text": [
      "Default metric period is 5 because AUC is/are not implemented for GPU\n"
     ]
    },
    {
     "name": "stdout",
     "output_type": "stream",
     "text": [
      "0:\ttest: 0.9988828\tbest: 0.9988828 (0)\ttotal: 33.4ms\tremaining: 5m 33s\n",
      "100:\ttest: 0.9999316\tbest: 0.9999322 (99)\ttotal: 3.21s\tremaining: 5m 14s\n",
      "bestTest = 0.9999366403\n",
      "bestIteration = 152\n",
      "Shrink model to first 153 iterations.\n"
     ]
    },
    {
     "name": "stderr",
     "output_type": "stream",
     "text": [
      "\u001b[32m[I 2023-01-13 16:25:21,990]\u001b[0m Trial 51 finished with value: 0.9999377508391737 and parameters: {'depth': 11, 'border_count': 179, 'min_data_in_leaf': 6227, 'l2_leaf_reg': 0.9264399681221984}. Best is trial 28 with value: 0.99993934376161.\u001b[0m\n"
     ]
    },
    {
     "name": "stdout",
     "output_type": "stream",
     "text": [
      "train auc score = 0.9999957814382674\n",
      "test auc score = 0.9999377508391737\n"
     ]
    },
    {
     "name": "stderr",
     "output_type": "stream",
     "text": [
      "Default metric period is 5 because AUC is/are not implemented for GPU\n"
     ]
    },
    {
     "name": "stdout",
     "output_type": "stream",
     "text": [
      "0:\ttest: 0.9986965\tbest: 0.9986965 (0)\ttotal: 31.5ms\tremaining: 5m 14s\n",
      "100:\ttest: 0.9999154\tbest: 0.9999158 (97)\ttotal: 3.25s\tremaining: 5m 18s\n",
      "200:\ttest: 0.9999283\tbest: 0.9999283 (199)\ttotal: 6.52s\tremaining: 5m 17s\n",
      "300:\ttest: 0.9999324\tbest: 0.9999325 (299)\ttotal: 9.62s\tremaining: 5m 9s\n",
      "400:\ttest: 0.9999343\tbest: 0.9999347 (388)\ttotal: 12.7s\tremaining: 5m 3s\n",
      "bestTest = 0.9999347925\n",
      "bestIteration = 407\n",
      "Shrink model to first 408 iterations.\n"
     ]
    },
    {
     "name": "stderr",
     "output_type": "stream",
     "text": [
      "Default metric period is 5 because AUC is/are not implemented for GPU\n"
     ]
    },
    {
     "name": "stdout",
     "output_type": "stream",
     "text": [
      "0:\ttest: 0.9986179\tbest: 0.9986179 (0)\ttotal: 31.6ms\tremaining: 5m 15s\n",
      "100:\ttest: 0.9999309\tbest: 0.9999309 (100)\ttotal: 3.15s\tremaining: 5m 8s\n",
      "200:\ttest: 0.9999370\tbest: 0.9999372 (198)\ttotal: 6.4s\tremaining: 5m 11s\n",
      "300:\ttest: 0.9999411\tbest: 0.9999412 (299)\ttotal: 9.61s\tremaining: 5m 9s\n",
      "bestTest = 0.9999420643\n",
      "bestIteration = 313\n",
      "Shrink model to first 314 iterations.\n"
     ]
    },
    {
     "name": "stderr",
     "output_type": "stream",
     "text": [
      "Default metric period is 5 because AUC is/are not implemented for GPU\n"
     ]
    },
    {
     "name": "stdout",
     "output_type": "stream",
     "text": [
      "0:\ttest: 0.9986876\tbest: 0.9986876 (0)\ttotal: 32ms\tremaining: 5m 19s\n",
      "100:\ttest: 0.9999204\tbest: 0.9999204 (100)\ttotal: 3.34s\tremaining: 5m 26s\n",
      "200:\ttest: 0.9999285\tbest: 0.9999285 (200)\ttotal: 6.58s\tremaining: 5m 20s\n",
      "300:\ttest: 0.9999319\tbest: 0.9999323 (298)\ttotal: 9.73s\tremaining: 5m 13s\n",
      "400:\ttest: 0.9999348\tbest: 0.9999348 (397)\ttotal: 12.8s\tremaining: 5m 6s\n",
      "500:\ttest: 0.9999354\tbest: 0.9999356 (471)\ttotal: 15.9s\tremaining: 5m 1s\n",
      "bestTest = 0.999935627\n",
      "bestIteration = 471\n",
      "Shrink model to first 472 iterations.\n"
     ]
    },
    {
     "name": "stderr",
     "output_type": "stream",
     "text": [
      "Default metric period is 5 because AUC is/are not implemented for GPU\n"
     ]
    },
    {
     "name": "stdout",
     "output_type": "stream",
     "text": [
      "0:\ttest: 0.9988560\tbest: 0.9988560 (0)\ttotal: 31.7ms\tremaining: 5m 16s\n",
      "100:\ttest: 0.9999297\tbest: 0.9999298 (98)\ttotal: 3.32s\tremaining: 5m 25s\n",
      "200:\ttest: 0.9999359\tbest: 0.9999364 (183)\ttotal: 6.45s\tremaining: 5m 14s\n",
      "300:\ttest: 0.9999382\tbest: 0.9999386 (287)\ttotal: 9.5s\tremaining: 5m 6s\n",
      "bestTest = 0.9999386072\n",
      "bestIteration = 287\n",
      "Shrink model to first 288 iterations.\n"
     ]
    },
    {
     "name": "stderr",
     "output_type": "stream",
     "text": [
      "Default metric period is 5 because AUC is/are not implemented for GPU\n"
     ]
    },
    {
     "name": "stdout",
     "output_type": "stream",
     "text": [
      "0:\ttest: 0.9988829\tbest: 0.9988829 (0)\ttotal: 31.4ms\tremaining: 5m 13s\n",
      "100:\ttest: 0.9999259\tbest: 0.9999261 (99)\ttotal: 3.15s\tremaining: 5m 8s\n",
      "200:\ttest: 0.9999306\tbest: 0.9999315 (176)\ttotal: 6.47s\tremaining: 5m 15s\n",
      "bestTest = 0.9999317527\n",
      "bestIteration = 213\n",
      "Shrink model to first 214 iterations.\n"
     ]
    },
    {
     "name": "stderr",
     "output_type": "stream",
     "text": [
      "\u001b[32m[I 2023-01-13 16:26:32,225]\u001b[0m Trial 52 finished with value: 0.9999365452349174 and parameters: {'depth': 11, 'border_count': 161, 'min_data_in_leaf': 5425, 'l2_leaf_reg': 0.7179094508673508}. Best is trial 28 with value: 0.99993934376161.\u001b[0m\n"
     ]
    },
    {
     "name": "stdout",
     "output_type": "stream",
     "text": [
      "train auc score = 0.9999977736999641\n",
      "test auc score = 0.9999365452349174\n"
     ]
    },
    {
     "name": "stderr",
     "output_type": "stream",
     "text": [
      "Default metric period is 5 because AUC is/are not implemented for GPU\n"
     ]
    },
    {
     "name": "stdout",
     "output_type": "stream",
     "text": [
      "0:\ttest: 0.9982450\tbest: 0.9982450 (0)\ttotal: 15ms\tremaining: 2m 29s\n",
      "100:\ttest: 0.9999093\tbest: 0.9999094 (97)\ttotal: 1.57s\tremaining: 2m 34s\n",
      "200:\ttest: 0.9999249\tbest: 0.9999249 (200)\ttotal: 3.05s\tremaining: 2m 28s\n",
      "300:\ttest: 0.9999321\tbest: 0.9999321 (297)\ttotal: 4.57s\tremaining: 2m 27s\n",
      "400:\ttest: 0.9999352\tbest: 0.9999352 (400)\ttotal: 6.13s\tremaining: 2m 26s\n",
      "500:\ttest: 0.9999367\tbest: 0.9999367 (500)\ttotal: 7.69s\tremaining: 2m 25s\n",
      "bestTest = 0.9999369383\n",
      "bestIteration = 515\n",
      "Shrink model to first 516 iterations.\n"
     ]
    },
    {
     "name": "stderr",
     "output_type": "stream",
     "text": [
      "Default metric period is 5 because AUC is/are not implemented for GPU\n"
     ]
    },
    {
     "name": "stdout",
     "output_type": "stream",
     "text": [
      "0:\ttest: 0.9979971\tbest: 0.9979971 (0)\ttotal: 15.7ms\tremaining: 2m 36s\n",
      "100:\ttest: 0.9999177\tbest: 0.9999177 (99)\ttotal: 1.48s\tremaining: 2m 25s\n",
      "200:\ttest: 0.9999299\tbest: 0.9999299 (200)\ttotal: 3.06s\tremaining: 2m 28s\n",
      "300:\ttest: 0.9999360\tbest: 0.9999360 (296)\ttotal: 4.51s\tremaining: 2m 25s\n",
      "400:\ttest: 0.9999394\tbest: 0.9999394 (397)\ttotal: 6.08s\tremaining: 2m 25s\n",
      "bestTest = 0.9999399781\n",
      "bestIteration = 417\n",
      "Shrink model to first 418 iterations.\n"
     ]
    },
    {
     "name": "stderr",
     "output_type": "stream",
     "text": [
      "Default metric period is 5 because AUC is/are not implemented for GPU\n"
     ]
    },
    {
     "name": "stdout",
     "output_type": "stream",
     "text": [
      "0:\ttest: 0.9982517\tbest: 0.9982517 (0)\ttotal: 15.2ms\tremaining: 2m 31s\n",
      "100:\ttest: 0.9999112\tbest: 0.9999113 (98)\ttotal: 1.54s\tremaining: 2m 30s\n",
      "200:\ttest: 0.9999235\tbest: 0.9999235 (199)\ttotal: 3s\tremaining: 2m 26s\n",
      "300:\ttest: 0.9999306\tbest: 0.9999306 (297)\ttotal: 4.49s\tremaining: 2m 24s\n",
      "400:\ttest: 0.9999335\tbest: 0.9999336 (397)\ttotal: 5.96s\tremaining: 2m 22s\n",
      "bestTest = 0.9999339581\n",
      "bestIteration = 413\n",
      "Shrink model to first 414 iterations.\n"
     ]
    },
    {
     "name": "stderr",
     "output_type": "stream",
     "text": [
      "Default metric period is 5 because AUC is/are not implemented for GPU\n"
     ]
    },
    {
     "name": "stdout",
     "output_type": "stream",
     "text": [
      "0:\ttest: 0.9985069\tbest: 0.9985069 (0)\ttotal: 15.1ms\tremaining: 2m 31s\n",
      "100:\ttest: 0.9999176\tbest: 0.9999177 (99)\ttotal: 1.61s\tremaining: 2m 37s\n",
      "200:\ttest: 0.9999323\tbest: 0.9999323 (200)\ttotal: 3.21s\tremaining: 2m 36s\n",
      "300:\ttest: 0.9999349\tbest: 0.9999355 (285)\ttotal: 4.75s\tremaining: 2m 32s\n",
      "bestTest = 0.9999355078\n",
      "bestIteration = 285\n",
      "Shrink model to first 286 iterations.\n"
     ]
    },
    {
     "name": "stderr",
     "output_type": "stream",
     "text": [
      "Default metric period is 5 because AUC is/are not implemented for GPU\n"
     ]
    },
    {
     "name": "stdout",
     "output_type": "stream",
     "text": [
      "0:\ttest: 0.9984576\tbest: 0.9984576 (0)\ttotal: 15.1ms\tremaining: 2m 30s\n",
      "100:\ttest: 0.9999253\tbest: 0.9999253 (100)\ttotal: 1.57s\tremaining: 2m 33s\n",
      "200:\ttest: 0.9999346\tbest: 0.9999346 (199)\ttotal: 3.08s\tremaining: 2m 30s\n",
      "300:\ttest: 0.9999371\tbest: 0.9999372 (278)\ttotal: 4.61s\tremaining: 2m 28s\n",
      "400:\ttest: 0.9999370\tbest: 0.9999377 (379)\ttotal: 6.2s\tremaining: 2m 28s\n",
      "bestTest = 0.9999377131\n",
      "bestIteration = 379\n",
      "Shrink model to first 380 iterations.\n"
     ]
    },
    {
     "name": "stderr",
     "output_type": "stream",
     "text": [
      "\u001b[32m[I 2023-01-13 16:27:15,859]\u001b[0m Trial 53 finished with value: 0.9999367865222337 and parameters: {'depth': 9, 'border_count': 180, 'min_data_in_leaf': 6164, 'l2_leaf_reg': 0.9672158999395026}. Best is trial 28 with value: 0.99993934376161.\u001b[0m\n"
     ]
    },
    {
     "name": "stdout",
     "output_type": "stream",
     "text": [
      "train auc score = 0.9999931416343927\n",
      "test auc score = 0.9999367865222337\n"
     ]
    },
    {
     "name": "stderr",
     "output_type": "stream",
     "text": [
      "Default metric period is 5 because AUC is/are not implemented for GPU\n"
     ]
    },
    {
     "name": "stdout",
     "output_type": "stream",
     "text": [
      "0:\ttest: 0.9993844\tbest: 0.9993844 (0)\ttotal: 167ms\tremaining: 27m 49s\n",
      "100:\ttest: 0.9999238\tbest: 0.9999238 (100)\ttotal: 16.8s\tremaining: 27m 30s\n",
      "200:\ttest: 0.9999279\tbest: 0.9999281 (181)\ttotal: 33.7s\tremaining: 27m 24s\n",
      "300:\ttest: 0.9999288\tbest: 0.9999291 (297)\ttotal: 50.7s\tremaining: 27m 13s\n",
      "bestTest = 0.9999290705\n",
      "bestIteration = 297\n",
      "Shrink model to first 298 iterations.\n"
     ]
    },
    {
     "name": "stderr",
     "output_type": "stream",
     "text": [
      "Default metric period is 5 because AUC is/are not implemented for GPU\n"
     ]
    },
    {
     "name": "stdout",
     "output_type": "stream",
     "text": [
      "0:\ttest: 0.9993026\tbest: 0.9993026 (0)\ttotal: 167ms\tremaining: 27m 52s\n",
      "100:\ttest: 0.9999349\tbest: 0.9999352 (97)\ttotal: 16.9s\tremaining: 27m 38s\n",
      "bestTest = 0.999938488\n",
      "bestIteration = 157\n",
      "Shrink model to first 158 iterations.\n"
     ]
    },
    {
     "name": "stderr",
     "output_type": "stream",
     "text": [
      "Default metric period is 5 because AUC is/are not implemented for GPU\n"
     ]
    },
    {
     "name": "stdout",
     "output_type": "stream",
     "text": [
      "0:\ttest: 0.9993574\tbest: 0.9993574 (0)\ttotal: 172ms\tremaining: 28m 38s\n",
      "100:\ttest: 0.9999270\tbest: 0.9999274 (99)\ttotal: 17s\tremaining: 27m 45s\n",
      "200:\ttest: 0.9999309\tbest: 0.9999315 (163)\ttotal: 33.8s\tremaining: 27m 26s\n",
      "bestTest = 0.9999314547\n",
      "bestIteration = 163\n",
      "Shrink model to first 164 iterations.\n"
     ]
    },
    {
     "name": "stderr",
     "output_type": "stream",
     "text": [
      "Default metric period is 5 because AUC is/are not implemented for GPU\n"
     ]
    },
    {
     "name": "stdout",
     "output_type": "stream",
     "text": [
      "0:\ttest: 0.9994733\tbest: 0.9994733 (0)\ttotal: 168ms\tremaining: 27m 58s\n",
      "100:\ttest: 0.9999269\tbest: 0.9999272 (97)\ttotal: 17s\tremaining: 27m 44s\n",
      "bestTest = 0.9999297857\n",
      "bestIteration = 124\n",
      "Shrink model to first 125 iterations.\n"
     ]
    },
    {
     "name": "stderr",
     "output_type": "stream",
     "text": [
      "Default metric period is 5 because AUC is/are not implemented for GPU\n"
     ]
    },
    {
     "name": "stdout",
     "output_type": "stream",
     "text": [
      "0:\ttest: 0.9994901\tbest: 0.9994901 (0)\ttotal: 168ms\tremaining: 27m 58s\n",
      "100:\ttest: 0.9999340\tbest: 0.9999348 (99)\ttotal: 16.9s\tremaining: 27m 38s\n",
      "bestTest = 0.9999347925\n",
      "bestIteration = 99\n",
      "Shrink model to first 100 iterations.\n"
     ]
    },
    {
     "name": "stderr",
     "output_type": "stream",
     "text": [
      "\u001b[32m[I 2023-01-13 16:30:21,782]\u001b[0m Trial 54 finished with value: 0.9999327115603936 and parameters: {'depth': 14, 'border_count': 143, 'min_data_in_leaf': 7827, 'l2_leaf_reg': 0.5396139763754535}. Best is trial 28 with value: 0.99993934376161.\u001b[0m\n"
     ]
    },
    {
     "name": "stdout",
     "output_type": "stream",
     "text": [
      "train auc score = 0.9999974850651272\n",
      "test auc score = 0.9999327115603936\n"
     ]
    },
    {
     "name": "stderr",
     "output_type": "stream",
     "text": [
      "Default metric period is 5 because AUC is/are not implemented for GPU\n"
     ]
    },
    {
     "name": "stdout",
     "output_type": "stream",
     "text": [
      "0:\ttest: 0.9994043\tbest: 0.9994043 (0)\ttotal: 340ms\tremaining: 56m 35s\n",
      "100:\ttest: 0.9999297\tbest: 0.9999297 (100)\ttotal: 34.4s\tremaining: 56m 11s\n",
      "bestTest = 0.9999327064\n",
      "bestIteration = 135\n",
      "Shrink model to first 136 iterations.\n"
     ]
    },
    {
     "name": "stderr",
     "output_type": "stream",
     "text": [
      "Default metric period is 5 because AUC is/are not implemented for GPU\n"
     ]
    },
    {
     "name": "stdout",
     "output_type": "stream",
     "text": [
      "0:\ttest: 0.9993407\tbest: 0.9993407 (0)\ttotal: 339ms\tremaining: 56m 30s\n",
      "100:\ttest: 0.9999378\tbest: 0.9999382 (93)\ttotal: 34.5s\tremaining: 56m 19s\n",
      "200:\ttest: 0.9999415\tbest: 0.9999418 (185)\ttotal: 1m 8s\tremaining: 55m 33s\n",
      "bestTest = 0.9999417663\n",
      "bestIteration = 185\n",
      "Shrink model to first 186 iterations.\n"
     ]
    },
    {
     "name": "stderr",
     "output_type": "stream",
     "text": [
      "Default metric period is 5 because AUC is/are not implemented for GPU\n"
     ]
    },
    {
     "name": "stdout",
     "output_type": "stream",
     "text": [
      "0:\ttest: 0.9994380\tbest: 0.9994380 (0)\ttotal: 340ms\tremaining: 56m 41s\n",
      "100:\ttest: 0.9999284\tbest: 0.9999284 (100)\ttotal: 34.3s\tremaining: 56m 1s\n",
      "200:\ttest: 0.9999341\tbest: 0.9999343 (192)\ttotal: 1m 8s\tremaining: 55m 21s\n",
      "300:\ttest: 0.9999366\tbest: 0.9999366 (298)\ttotal: 1m 42s\tremaining: 54m 47s\n",
      "400:\ttest: 0.9999369\tbest: 0.9999374 (382)\ttotal: 2m 15s\tremaining: 54m 12s\n",
      "bestTest = 0.9999373555\n",
      "bestIteration = 382\n",
      "Shrink model to first 383 iterations.\n"
     ]
    },
    {
     "name": "stderr",
     "output_type": "stream",
     "text": [
      "Default metric period is 5 because AUC is/are not implemented for GPU\n"
     ]
    },
    {
     "name": "stdout",
     "output_type": "stream",
     "text": [
      "0:\ttest: 0.9995318\tbest: 0.9995318 (0)\ttotal: 347ms\tremaining: 57m 45s\n",
      "100:\ttest: 0.9999329\tbest: 0.9999335 (96)\ttotal: 34.3s\tremaining: 56m 5s\n",
      "200:\ttest: 0.9999360\tbest: 0.9999360 (200)\ttotal: 1m 8s\tremaining: 55m 26s\n",
      "bestTest = 0.9999362826\n",
      "bestIteration = 208\n",
      "Shrink model to first 209 iterations.\n"
     ]
    },
    {
     "name": "stderr",
     "output_type": "stream",
     "text": [
      "Default metric period is 5 because AUC is/are not implemented for GPU\n"
     ]
    },
    {
     "name": "stdout",
     "output_type": "stream",
     "text": [
      "0:\ttest: 0.9995497\tbest: 0.9995497 (0)\ttotal: 341ms\tremaining: 56m 46s\n",
      "100:\ttest: 0.9999370\tbest: 0.9999370 (99)\ttotal: 34.3s\tremaining: 56m\n",
      "bestTest = 0.9999369979\n",
      "bestIteration = 99\n",
      "Shrink model to first 100 iterations.\n"
     ]
    },
    {
     "name": "stderr",
     "output_type": "stream",
     "text": [
      "\u001b[32m[I 2023-01-13 16:37:25,596]\u001b[0m Trial 55 finished with value: 0.9999369988725535 and parameters: {'depth': 15, 'border_count': 189, 'min_data_in_leaf': 4461, 'l2_leaf_reg': 0.638846066172918}. Best is trial 28 with value: 0.99993934376161.\u001b[0m\n"
     ]
    },
    {
     "name": "stdout",
     "output_type": "stream",
     "text": [
      "train auc score = 0.9999987756791591\n",
      "test auc score = 0.9999369988725535\n"
     ]
    },
    {
     "name": "stderr",
     "output_type": "stream",
     "text": [
      "Default metric period is 5 because AUC is/are not implemented for GPU\n"
     ]
    },
    {
     "name": "stdout",
     "output_type": "stream",
     "text": [
      "0:\ttest: 0.9993131\tbest: 0.9993131 (0)\ttotal: 97.5ms\tremaining: 16m 14s\n",
      "100:\ttest: 0.9999256\tbest: 0.9999256 (100)\ttotal: 9.72s\tremaining: 15m 52s\n",
      "200:\ttest: 0.9999290\tbest: 0.9999294 (169)\ttotal: 19.1s\tremaining: 15m 32s\n",
      "bestTest = 0.9999294281\n",
      "bestIteration = 169\n",
      "Shrink model to first 170 iterations.\n"
     ]
    },
    {
     "name": "stderr",
     "output_type": "stream",
     "text": [
      "Default metric period is 5 because AUC is/are not implemented for GPU\n"
     ]
    },
    {
     "name": "stdout",
     "output_type": "stream",
     "text": [
      "0:\ttest: 0.9992575\tbest: 0.9992575 (0)\ttotal: 100ms\tremaining: 16m 44s\n",
      "100:\ttest: 0.9999301\tbest: 0.9999303 (99)\ttotal: 9.59s\tremaining: 15m 39s\n",
      "bestTest = 0.9999333024\n",
      "bestIteration = 136\n",
      "Shrink model to first 137 iterations.\n"
     ]
    },
    {
     "name": "stderr",
     "output_type": "stream",
     "text": [
      "Default metric period is 5 because AUC is/are not implemented for GPU\n"
     ]
    },
    {
     "name": "stdout",
     "output_type": "stream",
     "text": [
      "0:\ttest: 0.9992973\tbest: 0.9992973 (0)\ttotal: 101ms\tremaining: 16m 45s\n",
      "100:\ttest: 0.9999226\tbest: 0.9999226 (100)\ttotal: 9.72s\tremaining: 15m 52s\n",
      "200:\ttest: 0.9999286\tbest: 0.9999287 (199)\ttotal: 19.7s\tremaining: 16m\n",
      "300:\ttest: 0.9999326\tbest: 0.9999326 (298)\ttotal: 29.1s\tremaining: 15m 36s\n",
      "400:\ttest: 0.9999341\tbest: 0.9999341 (397)\ttotal: 38.7s\tremaining: 15m 25s\n",
      "bestTest = 0.9999341369\n",
      "bestIteration = 397\n",
      "Shrink model to first 398 iterations.\n"
     ]
    },
    {
     "name": "stderr",
     "output_type": "stream",
     "text": [
      "Default metric period is 5 because AUC is/are not implemented for GPU\n"
     ]
    },
    {
     "name": "stdout",
     "output_type": "stream",
     "text": [
      "0:\ttest: 0.9994033\tbest: 0.9994033 (0)\ttotal: 94.6ms\tremaining: 15m 46s\n",
      "100:\ttest: 0.9999280\tbest: 0.9999288 (96)\ttotal: 9.82s\tremaining: 16m 3s\n",
      "bestTest = 0.9999340773\n",
      "bestIteration = 146\n",
      "Shrink model to first 147 iterations.\n"
     ]
    },
    {
     "name": "stderr",
     "output_type": "stream",
     "text": [
      "Default metric period is 5 because AUC is/are not implemented for GPU\n"
     ]
    },
    {
     "name": "stdout",
     "output_type": "stream",
     "text": [
      "0:\ttest: 0.9994197\tbest: 0.9994197 (0)\ttotal: 94.8ms\tremaining: 15m 47s\n",
      "100:\ttest: 0.9999311\tbest: 0.9999314 (94)\ttotal: 9.96s\tremaining: 16m 15s\n",
      "bestTest = 0.9999313951\n",
      "bestIteration = 94\n",
      "Shrink model to first 95 iterations.\n"
     ]
    },
    {
     "name": "stderr",
     "output_type": "stream",
     "text": [
      "\u001b[32m[I 2023-01-13 16:39:25,914]\u001b[0m Trial 56 finished with value: 0.9999324812911103 and parameters: {'depth': 13, 'border_count': 202, 'min_data_in_leaf': 8939, 'l2_leaf_reg': 0.40544661287140676}. Best is trial 28 with value: 0.99993934376161.\u001b[0m\n"
     ]
    },
    {
     "name": "stdout",
     "output_type": "stream",
     "text": [
      "train auc score = 0.9999963700757573\n",
      "test auc score = 0.9999324812911103\n"
     ]
    },
    {
     "name": "stderr",
     "output_type": "stream",
     "text": [
      "Default metric period is 5 because AUC is/are not implemented for GPU\n"
     ]
    },
    {
     "name": "stdout",
     "output_type": "stream",
     "text": [
      "0:\ttest: 0.9993815\tbest: 0.9993815 (0)\ttotal: 174ms\tremaining: 29m\n",
      "100:\ttest: 0.9999264\tbest: 0.9999266 (98)\ttotal: 17.2s\tremaining: 28m 1s\n",
      "200:\ttest: 0.9999298\tbest: 0.9999298 (200)\ttotal: 34s\tremaining: 27m 39s\n",
      "300:\ttest: 0.9999309\tbest: 0.9999312 (282)\ttotal: 51s\tremaining: 27m 21s\n",
      "bestTest = 0.9999311566\n",
      "bestIteration = 282\n",
      "Shrink model to first 283 iterations.\n"
     ]
    },
    {
     "name": "stderr",
     "output_type": "stream",
     "text": [
      "Default metric period is 5 because AUC is/are not implemented for GPU\n"
     ]
    },
    {
     "name": "stdout",
     "output_type": "stream",
     "text": [
      "0:\ttest: 0.9992975\tbest: 0.9992975 (0)\ttotal: 173ms\tremaining: 28m 48s\n",
      "100:\ttest: 0.9999331\tbest: 0.9999337 (96)\ttotal: 17.1s\tremaining: 27m 52s\n",
      "200:\ttest: 0.9999391\tbest: 0.9999391 (199)\ttotal: 33.9s\tremaining: 27m 32s\n",
      "bestTest = 0.9999392629\n",
      "bestIteration = 209\n",
      "Shrink model to first 210 iterations.\n"
     ]
    },
    {
     "name": "stderr",
     "output_type": "stream",
     "text": [
      "Default metric period is 5 because AUC is/are not implemented for GPU\n"
     ]
    },
    {
     "name": "stdout",
     "output_type": "stream",
     "text": [
      "0:\ttest: 0.9993418\tbest: 0.9993418 (0)\ttotal: 168ms\tremaining: 28m 1s\n",
      "100:\ttest: 0.9999266\tbest: 0.9999266 (100)\ttotal: 17.1s\tremaining: 28m\n",
      "200:\ttest: 0.9999327\tbest: 0.9999327 (187)\ttotal: 33.9s\tremaining: 27m 34s\n",
      "300:\ttest: 0.9999348\tbest: 0.9999350 (291)\ttotal: 50.8s\tremaining: 27m 17s\n",
      "bestTest = 0.9999358058\n",
      "bestIteration = 356\n",
      "Shrink model to first 357 iterations.\n"
     ]
    },
    {
     "name": "stderr",
     "output_type": "stream",
     "text": [
      "Default metric period is 5 because AUC is/are not implemented for GPU\n"
     ]
    },
    {
     "name": "stdout",
     "output_type": "stream",
     "text": [
      "0:\ttest: 0.9994777\tbest: 0.9994777 (0)\ttotal: 168ms\tremaining: 28m 1s\n",
      "100:\ttest: 0.9999284\tbest: 0.9999284 (100)\ttotal: 17s\tremaining: 27m 45s\n"
     ]
    },
    {
     "name": "stderr",
     "output_type": "stream",
     "text": [
      "\u001b[33m[W 2023-01-13 16:42:50,848]\u001b[0m Trial 57 failed because of the following error: KeyboardInterrupt('')\u001b[0m\n",
      "Traceback (most recent call last):\n",
      "  File \"/opt/conda/envs/rapids/lib/python3.8/site-packages/optuna/study/_optimize.py\", line 196, in _run_trial\n",
      "    value_or_values = func(trial)\n",
      "  File \"/tmp/ipykernel_3051/1914701348.py\", line 3, in <lambda>\n",
      "    func = lambda trial: objective(trial, df_pairs)\n",
      "  File \"/tmp/ipykernel_3051/3344502066.py\", line 26, in objective\n",
      "    model.fit(X_train[features],\n",
      "  File \"/opt/conda/envs/rapids/lib/python3.8/site-packages/catboost/core.py\", line 5128, in fit\n",
      "    self._fit(X, y, cat_features, text_features, embedding_features, None, sample_weight, None, None, None, None, baseline, use_best_model,\n",
      "  File \"/opt/conda/envs/rapids/lib/python3.8/site-packages/catboost/core.py\", line 2355, in _fit\n",
      "    self._train(\n",
      "  File \"/opt/conda/envs/rapids/lib/python3.8/site-packages/catboost/core.py\", line 1759, in _train\n",
      "    self._object._train(train_pool, test_pool, params, allow_clear_pool, init_model._object if init_model else None)\n",
      "  File \"_catboost.pyx\", line 4623, in _catboost._CatBoost._train\n",
      "  File \"_catboost.pyx\", line 4672, in _catboost._CatBoost._train\n",
      "KeyboardInterrupt\n"
     ]
    },
    {
     "ename": "KeyboardInterrupt",
     "evalue": "",
     "output_type": "error",
     "traceback": [
      "\u001b[0;31m---------------------------------------------------------------------------\u001b[0m",
      "\u001b[0;31mKeyboardInterrupt\u001b[0m                         Traceback (most recent call last)",
      "\u001b[0;32m/tmp/ipykernel_3051/1914701348.py\u001b[0m in \u001b[0;36m<module>\u001b[0;34m\u001b[0m\n\u001b[1;32m      2\u001b[0m \u001b[0mstudy\u001b[0m \u001b[0;34m=\u001b[0m \u001b[0moptuna\u001b[0m\u001b[0;34m.\u001b[0m\u001b[0mcreate_study\u001b[0m\u001b[0;34m(\u001b[0m\u001b[0mdirection\u001b[0m\u001b[0;34m=\u001b[0m\u001b[0;34m\"maximize\"\u001b[0m\u001b[0;34m,\u001b[0m \u001b[0mstudy_name\u001b[0m\u001b[0;34m=\u001b[0m\u001b[0;34mf\"parameter_tuning_{config.country}_{date_log}\"\u001b[0m\u001b[0;34m)\u001b[0m\u001b[0;34m\u001b[0m\u001b[0;34m\u001b[0m\u001b[0m\n\u001b[1;32m      3\u001b[0m \u001b[0mfunc\u001b[0m \u001b[0;34m=\u001b[0m \u001b[0;32mlambda\u001b[0m \u001b[0mtrial\u001b[0m\u001b[0;34m:\u001b[0m \u001b[0mobjective\u001b[0m\u001b[0;34m(\u001b[0m\u001b[0mtrial\u001b[0m\u001b[0;34m,\u001b[0m \u001b[0mdf_pairs\u001b[0m\u001b[0;34m)\u001b[0m\u001b[0;34m\u001b[0m\u001b[0;34m\u001b[0m\u001b[0m\n\u001b[0;32m----> 4\u001b[0;31m \u001b[0mstudy\u001b[0m\u001b[0;34m.\u001b[0m\u001b[0moptimize\u001b[0m\u001b[0;34m(\u001b[0m\u001b[0mfunc\u001b[0m\u001b[0;34m,\u001b[0m \u001b[0mn_trials\u001b[0m\u001b[0;34m=\u001b[0m\u001b[0;36m100\u001b[0m\u001b[0;34m)\u001b[0m\u001b[0;34m\u001b[0m\u001b[0;34m\u001b[0m\u001b[0m\n\u001b[0m\u001b[1;32m      5\u001b[0m \u001b[0mprint\u001b[0m\u001b[0;34m(\u001b[0m\u001b[0;34m'Number of finished trials:'\u001b[0m\u001b[0;34m,\u001b[0m \u001b[0mlen\u001b[0m\u001b[0;34m(\u001b[0m\u001b[0mstudy\u001b[0m\u001b[0;34m.\u001b[0m\u001b[0mtrials\u001b[0m\u001b[0;34m)\u001b[0m\u001b[0;34m)\u001b[0m\u001b[0;34m\u001b[0m\u001b[0;34m\u001b[0m\u001b[0m\n\u001b[1;32m      6\u001b[0m \u001b[0mprint\u001b[0m\u001b[0;34m(\u001b[0m\u001b[0;34m'Best trial:'\u001b[0m\u001b[0;34m,\u001b[0m \u001b[0mstudy\u001b[0m\u001b[0;34m.\u001b[0m\u001b[0mbest_trial\u001b[0m\u001b[0;34m.\u001b[0m\u001b[0mparams\u001b[0m\u001b[0;34m)\u001b[0m\u001b[0;34m\u001b[0m\u001b[0;34m\u001b[0m\u001b[0m\n",
      "\u001b[0;32m/opt/conda/envs/rapids/lib/python3.8/site-packages/optuna/study/study.py\u001b[0m in \u001b[0;36moptimize\u001b[0;34m(self, func, n_trials, timeout, n_jobs, catch, callbacks, gc_after_trial, show_progress_bar)\u001b[0m\n\u001b[1;32m    417\u001b[0m         \"\"\"\n\u001b[1;32m    418\u001b[0m \u001b[0;34m\u001b[0m\u001b[0m\n\u001b[0;32m--> 419\u001b[0;31m         _optimize(\n\u001b[0m\u001b[1;32m    420\u001b[0m             \u001b[0mstudy\u001b[0m\u001b[0;34m=\u001b[0m\u001b[0mself\u001b[0m\u001b[0;34m,\u001b[0m\u001b[0;34m\u001b[0m\u001b[0;34m\u001b[0m\u001b[0m\n\u001b[1;32m    421\u001b[0m             \u001b[0mfunc\u001b[0m\u001b[0;34m=\u001b[0m\u001b[0mfunc\u001b[0m\u001b[0;34m,\u001b[0m\u001b[0;34m\u001b[0m\u001b[0;34m\u001b[0m\u001b[0m\n",
      "\u001b[0;32m/opt/conda/envs/rapids/lib/python3.8/site-packages/optuna/study/_optimize.py\u001b[0m in \u001b[0;36m_optimize\u001b[0;34m(study, func, n_trials, timeout, n_jobs, catch, callbacks, gc_after_trial, show_progress_bar)\u001b[0m\n\u001b[1;32m     64\u001b[0m     \u001b[0;32mtry\u001b[0m\u001b[0;34m:\u001b[0m\u001b[0;34m\u001b[0m\u001b[0;34m\u001b[0m\u001b[0m\n\u001b[1;32m     65\u001b[0m         \u001b[0;32mif\u001b[0m \u001b[0mn_jobs\u001b[0m \u001b[0;34m==\u001b[0m \u001b[0;36m1\u001b[0m\u001b[0;34m:\u001b[0m\u001b[0;34m\u001b[0m\u001b[0;34m\u001b[0m\u001b[0m\n\u001b[0;32m---> 66\u001b[0;31m             _optimize_sequential(\n\u001b[0m\u001b[1;32m     67\u001b[0m                 \u001b[0mstudy\u001b[0m\u001b[0;34m,\u001b[0m\u001b[0;34m\u001b[0m\u001b[0;34m\u001b[0m\u001b[0m\n\u001b[1;32m     68\u001b[0m                 \u001b[0mfunc\u001b[0m\u001b[0;34m,\u001b[0m\u001b[0;34m\u001b[0m\u001b[0;34m\u001b[0m\u001b[0m\n",
      "\u001b[0;32m/opt/conda/envs/rapids/lib/python3.8/site-packages/optuna/study/_optimize.py\u001b[0m in \u001b[0;36m_optimize_sequential\u001b[0;34m(study, func, n_trials, timeout, catch, callbacks, gc_after_trial, reseed_sampler_rng, time_start, progress_bar)\u001b[0m\n\u001b[1;32m    158\u001b[0m \u001b[0;34m\u001b[0m\u001b[0m\n\u001b[1;32m    159\u001b[0m         \u001b[0;32mtry\u001b[0m\u001b[0;34m:\u001b[0m\u001b[0;34m\u001b[0m\u001b[0;34m\u001b[0m\u001b[0m\n\u001b[0;32m--> 160\u001b[0;31m             \u001b[0mfrozen_trial\u001b[0m \u001b[0;34m=\u001b[0m \u001b[0m_run_trial\u001b[0m\u001b[0;34m(\u001b[0m\u001b[0mstudy\u001b[0m\u001b[0;34m,\u001b[0m \u001b[0mfunc\u001b[0m\u001b[0;34m,\u001b[0m \u001b[0mcatch\u001b[0m\u001b[0;34m)\u001b[0m\u001b[0;34m\u001b[0m\u001b[0;34m\u001b[0m\u001b[0m\n\u001b[0m\u001b[1;32m    161\u001b[0m         \u001b[0;32mfinally\u001b[0m\u001b[0;34m:\u001b[0m\u001b[0;34m\u001b[0m\u001b[0;34m\u001b[0m\u001b[0m\n\u001b[1;32m    162\u001b[0m             \u001b[0;31m# The following line mitigates memory problems that can be occurred in some\u001b[0m\u001b[0;34m\u001b[0m\u001b[0;34m\u001b[0m\u001b[0;34m\u001b[0m\u001b[0m\n",
      "\u001b[0;32m/opt/conda/envs/rapids/lib/python3.8/site-packages/optuna/study/_optimize.py\u001b[0m in \u001b[0;36m_run_trial\u001b[0;34m(study, func, catch)\u001b[0m\n\u001b[1;32m    232\u001b[0m         \u001b[0;32mand\u001b[0m \u001b[0;32mnot\u001b[0m \u001b[0misinstance\u001b[0m\u001b[0;34m(\u001b[0m\u001b[0mfunc_err\u001b[0m\u001b[0;34m,\u001b[0m \u001b[0mcatch\u001b[0m\u001b[0;34m)\u001b[0m\u001b[0;34m\u001b[0m\u001b[0;34m\u001b[0m\u001b[0m\n\u001b[1;32m    233\u001b[0m     ):\n\u001b[0;32m--> 234\u001b[0;31m         \u001b[0;32mraise\u001b[0m \u001b[0mfunc_err\u001b[0m\u001b[0;34m\u001b[0m\u001b[0;34m\u001b[0m\u001b[0m\n\u001b[0m\u001b[1;32m    235\u001b[0m     \u001b[0;32mreturn\u001b[0m \u001b[0mfrozen_trial\u001b[0m\u001b[0;34m\u001b[0m\u001b[0;34m\u001b[0m\u001b[0m\n\u001b[1;32m    236\u001b[0m \u001b[0;34m\u001b[0m\u001b[0m\n",
      "\u001b[0;32m/opt/conda/envs/rapids/lib/python3.8/site-packages/optuna/study/_optimize.py\u001b[0m in \u001b[0;36m_run_trial\u001b[0;34m(study, func, catch)\u001b[0m\n\u001b[1;32m    194\u001b[0m     \u001b[0;32mwith\u001b[0m \u001b[0mget_heartbeat_thread\u001b[0m\u001b[0;34m(\u001b[0m\u001b[0mtrial\u001b[0m\u001b[0;34m.\u001b[0m\u001b[0m_trial_id\u001b[0m\u001b[0;34m,\u001b[0m \u001b[0mstudy\u001b[0m\u001b[0;34m.\u001b[0m\u001b[0m_storage\u001b[0m\u001b[0;34m)\u001b[0m\u001b[0;34m:\u001b[0m\u001b[0;34m\u001b[0m\u001b[0;34m\u001b[0m\u001b[0m\n\u001b[1;32m    195\u001b[0m         \u001b[0;32mtry\u001b[0m\u001b[0;34m:\u001b[0m\u001b[0;34m\u001b[0m\u001b[0;34m\u001b[0m\u001b[0m\n\u001b[0;32m--> 196\u001b[0;31m             \u001b[0mvalue_or_values\u001b[0m \u001b[0;34m=\u001b[0m \u001b[0mfunc\u001b[0m\u001b[0;34m(\u001b[0m\u001b[0mtrial\u001b[0m\u001b[0;34m)\u001b[0m\u001b[0;34m\u001b[0m\u001b[0;34m\u001b[0m\u001b[0m\n\u001b[0m\u001b[1;32m    197\u001b[0m         \u001b[0;32mexcept\u001b[0m \u001b[0mexceptions\u001b[0m\u001b[0;34m.\u001b[0m\u001b[0mTrialPruned\u001b[0m \u001b[0;32mas\u001b[0m \u001b[0me\u001b[0m\u001b[0;34m:\u001b[0m\u001b[0;34m\u001b[0m\u001b[0;34m\u001b[0m\u001b[0m\n\u001b[1;32m    198\u001b[0m             \u001b[0;31m# TODO(mamu): Handle multi-objective cases.\u001b[0m\u001b[0;34m\u001b[0m\u001b[0;34m\u001b[0m\u001b[0;34m\u001b[0m\u001b[0m\n",
      "\u001b[0;32m/tmp/ipykernel_3051/1914701348.py\u001b[0m in \u001b[0;36m<lambda>\u001b[0;34m(trial)\u001b[0m\n\u001b[1;32m      1\u001b[0m \u001b[0mdate_log\u001b[0m \u001b[0;34m=\u001b[0m \u001b[0mdatetime\u001b[0m\u001b[0;34m.\u001b[0m\u001b[0mnow\u001b[0m\u001b[0;34m(\u001b[0m\u001b[0;34m)\u001b[0m\u001b[0;34m.\u001b[0m\u001b[0mstrftime\u001b[0m\u001b[0;34m(\u001b[0m\u001b[0;34m\"%Y_%m_%d_%H_%M\"\u001b[0m\u001b[0;34m)\u001b[0m\u001b[0;34m\u001b[0m\u001b[0;34m\u001b[0m\u001b[0m\n\u001b[1;32m      2\u001b[0m \u001b[0mstudy\u001b[0m \u001b[0;34m=\u001b[0m \u001b[0moptuna\u001b[0m\u001b[0;34m.\u001b[0m\u001b[0mcreate_study\u001b[0m\u001b[0;34m(\u001b[0m\u001b[0mdirection\u001b[0m\u001b[0;34m=\u001b[0m\u001b[0;34m\"maximize\"\u001b[0m\u001b[0;34m,\u001b[0m \u001b[0mstudy_name\u001b[0m\u001b[0;34m=\u001b[0m\u001b[0;34mf\"parameter_tuning_{config.country}_{date_log}\"\u001b[0m\u001b[0;34m)\u001b[0m\u001b[0;34m\u001b[0m\u001b[0;34m\u001b[0m\u001b[0m\n\u001b[0;32m----> 3\u001b[0;31m \u001b[0mfunc\u001b[0m \u001b[0;34m=\u001b[0m \u001b[0;32mlambda\u001b[0m \u001b[0mtrial\u001b[0m\u001b[0;34m:\u001b[0m \u001b[0mobjective\u001b[0m\u001b[0;34m(\u001b[0m\u001b[0mtrial\u001b[0m\u001b[0;34m,\u001b[0m \u001b[0mdf_pairs\u001b[0m\u001b[0;34m)\u001b[0m\u001b[0;34m\u001b[0m\u001b[0;34m\u001b[0m\u001b[0m\n\u001b[0m\u001b[1;32m      4\u001b[0m \u001b[0mstudy\u001b[0m\u001b[0;34m.\u001b[0m\u001b[0moptimize\u001b[0m\u001b[0;34m(\u001b[0m\u001b[0mfunc\u001b[0m\u001b[0;34m,\u001b[0m \u001b[0mn_trials\u001b[0m\u001b[0;34m=\u001b[0m\u001b[0;36m100\u001b[0m\u001b[0;34m)\u001b[0m\u001b[0;34m\u001b[0m\u001b[0;34m\u001b[0m\u001b[0m\n\u001b[1;32m      5\u001b[0m \u001b[0mprint\u001b[0m\u001b[0;34m(\u001b[0m\u001b[0;34m'Number of finished trials:'\u001b[0m\u001b[0;34m,\u001b[0m \u001b[0mlen\u001b[0m\u001b[0;34m(\u001b[0m\u001b[0mstudy\u001b[0m\u001b[0;34m.\u001b[0m\u001b[0mtrials\u001b[0m\u001b[0;34m)\u001b[0m\u001b[0;34m)\u001b[0m\u001b[0;34m\u001b[0m\u001b[0;34m\u001b[0m\u001b[0m\n",
      "\u001b[0;32m/tmp/ipykernel_3051/3344502066.py\u001b[0m in \u001b[0;36mobjective\u001b[0;34m(trial, df_pairs)\u001b[0m\n\u001b[1;32m     24\u001b[0m         )\n\u001b[1;32m     25\u001b[0m \u001b[0;34m\u001b[0m\u001b[0m\n\u001b[0;32m---> 26\u001b[0;31m         model.fit(X_train[features],\n\u001b[0m\u001b[1;32m     27\u001b[0m                   \u001b[0mX_train\u001b[0m\u001b[0;34m[\u001b[0m\u001b[0;34m\"duplicate_flag\"\u001b[0m\u001b[0;34m]\u001b[0m\u001b[0;34m,\u001b[0m\u001b[0mverbose\u001b[0m\u001b[0;34m=\u001b[0m\u001b[0;36m100\u001b[0m\u001b[0;34m,\u001b[0m\u001b[0;34m\u001b[0m\u001b[0;34m\u001b[0m\u001b[0m\n\u001b[1;32m     28\u001b[0m                   \u001b[0meval_set\u001b[0m\u001b[0;34m=\u001b[0m\u001b[0;34m[\u001b[0m\u001b[0;34m(\u001b[0m\u001b[0mX_test\u001b[0m\u001b[0;34m[\u001b[0m\u001b[0mfeatures\u001b[0m\u001b[0;34m]\u001b[0m\u001b[0;34m,\u001b[0m \u001b[0mX_test\u001b[0m\u001b[0;34m[\u001b[0m\u001b[0;34m\"duplicate_flag\"\u001b[0m\u001b[0;34m]\u001b[0m\u001b[0;34m)\u001b[0m\u001b[0;34m]\u001b[0m\u001b[0;34m,\u001b[0m\u001b[0;34m\u001b[0m\u001b[0;34m\u001b[0m\u001b[0m\n",
      "\u001b[0;32m/opt/conda/envs/rapids/lib/python3.8/site-packages/catboost/core.py\u001b[0m in \u001b[0;36mfit\u001b[0;34m(self, X, y, cat_features, text_features, embedding_features, sample_weight, baseline, use_best_model, eval_set, verbose, logging_level, plot, plot_file, column_description, verbose_eval, metric_period, silent, early_stopping_rounds, save_snapshot, snapshot_file, snapshot_interval, init_model, callbacks, log_cout, log_cerr)\u001b[0m\n\u001b[1;32m   5126\u001b[0m             \u001b[0mCatBoostClassifier\u001b[0m\u001b[0;34m.\u001b[0m\u001b[0m_check_is_compatible_loss\u001b[0m\u001b[0;34m(\u001b[0m\u001b[0mparams\u001b[0m\u001b[0;34m[\u001b[0m\u001b[0;34m'loss_function'\u001b[0m\u001b[0;34m]\u001b[0m\u001b[0;34m)\u001b[0m\u001b[0;34m\u001b[0m\u001b[0;34m\u001b[0m\u001b[0m\n\u001b[1;32m   5127\u001b[0m \u001b[0;34m\u001b[0m\u001b[0m\n\u001b[0;32m-> 5128\u001b[0;31m         self._fit(X, y, cat_features, text_features, embedding_features, None, sample_weight, None, None, None, None, baseline, use_best_model,\n\u001b[0m\u001b[1;32m   5129\u001b[0m                   \u001b[0meval_set\u001b[0m\u001b[0;34m,\u001b[0m \u001b[0mverbose\u001b[0m\u001b[0;34m,\u001b[0m \u001b[0mlogging_level\u001b[0m\u001b[0;34m,\u001b[0m \u001b[0mplot\u001b[0m\u001b[0;34m,\u001b[0m \u001b[0mplot_file\u001b[0m\u001b[0;34m,\u001b[0m \u001b[0mcolumn_description\u001b[0m\u001b[0;34m,\u001b[0m \u001b[0mverbose_eval\u001b[0m\u001b[0;34m,\u001b[0m \u001b[0mmetric_period\u001b[0m\u001b[0;34m,\u001b[0m\u001b[0;34m\u001b[0m\u001b[0;34m\u001b[0m\u001b[0m\n\u001b[1;32m   5130\u001b[0m                   silent, early_stopping_rounds, save_snapshot, snapshot_file, snapshot_interval, init_model, callbacks, log_cout, log_cerr)\n",
      "\u001b[0;32m/opt/conda/envs/rapids/lib/python3.8/site-packages/catboost/core.py\u001b[0m in \u001b[0;36m_fit\u001b[0;34m(self, X, y, cat_features, text_features, embedding_features, pairs, sample_weight, group_id, group_weight, subgroup_id, pairs_weight, baseline, use_best_model, eval_set, verbose, logging_level, plot, plot_file, column_description, verbose_eval, metric_period, silent, early_stopping_rounds, save_snapshot, snapshot_file, snapshot_interval, init_model, callbacks, log_cout, log_cerr)\u001b[0m\n\u001b[1;32m   2353\u001b[0m         \u001b[0;32mwith\u001b[0m \u001b[0mlog_fixup\u001b[0m\u001b[0;34m(\u001b[0m\u001b[0mlog_cout\u001b[0m\u001b[0;34m,\u001b[0m \u001b[0mlog_cerr\u001b[0m\u001b[0;34m)\u001b[0m\u001b[0;34m,\u001b[0m\u001b[0;31m \u001b[0m\u001b[0;31m\\\u001b[0m\u001b[0;34m\u001b[0m\u001b[0;34m\u001b[0m\u001b[0m\n\u001b[1;32m   2354\u001b[0m             \u001b[0mplot_wrapper\u001b[0m\u001b[0;34m(\u001b[0m\u001b[0mplot\u001b[0m\u001b[0;34m,\u001b[0m \u001b[0mplot_file\u001b[0m\u001b[0;34m,\u001b[0m \u001b[0;34m'Training plots'\u001b[0m\u001b[0;34m,\u001b[0m \u001b[0;34m[\u001b[0m\u001b[0m_get_train_dir\u001b[0m\u001b[0;34m(\u001b[0m\u001b[0mself\u001b[0m\u001b[0;34m.\u001b[0m\u001b[0mget_params\u001b[0m\u001b[0;34m(\u001b[0m\u001b[0;34m)\u001b[0m\u001b[0;34m)\u001b[0m\u001b[0;34m]\u001b[0m\u001b[0;34m)\u001b[0m\u001b[0;34m:\u001b[0m\u001b[0;34m\u001b[0m\u001b[0;34m\u001b[0m\u001b[0m\n\u001b[0;32m-> 2355\u001b[0;31m             self._train(\n\u001b[0m\u001b[1;32m   2356\u001b[0m                 \u001b[0mtrain_pool\u001b[0m\u001b[0;34m,\u001b[0m\u001b[0;34m\u001b[0m\u001b[0;34m\u001b[0m\u001b[0m\n\u001b[1;32m   2357\u001b[0m                 \u001b[0mtrain_params\u001b[0m\u001b[0;34m[\u001b[0m\u001b[0;34m\"eval_sets\"\u001b[0m\u001b[0;34m]\u001b[0m\u001b[0;34m,\u001b[0m\u001b[0;34m\u001b[0m\u001b[0;34m\u001b[0m\u001b[0m\n",
      "\u001b[0;32m/opt/conda/envs/rapids/lib/python3.8/site-packages/catboost/core.py\u001b[0m in \u001b[0;36m_train\u001b[0;34m(self, train_pool, test_pool, params, allow_clear_pool, init_model)\u001b[0m\n\u001b[1;32m   1757\u001b[0m \u001b[0;34m\u001b[0m\u001b[0m\n\u001b[1;32m   1758\u001b[0m     \u001b[0;32mdef\u001b[0m \u001b[0m_train\u001b[0m\u001b[0;34m(\u001b[0m\u001b[0mself\u001b[0m\u001b[0;34m,\u001b[0m \u001b[0mtrain_pool\u001b[0m\u001b[0;34m,\u001b[0m \u001b[0mtest_pool\u001b[0m\u001b[0;34m,\u001b[0m \u001b[0mparams\u001b[0m\u001b[0;34m,\u001b[0m \u001b[0mallow_clear_pool\u001b[0m\u001b[0;34m,\u001b[0m \u001b[0minit_model\u001b[0m\u001b[0;34m)\u001b[0m\u001b[0;34m:\u001b[0m\u001b[0;34m\u001b[0m\u001b[0;34m\u001b[0m\u001b[0m\n\u001b[0;32m-> 1759\u001b[0;31m         \u001b[0mself\u001b[0m\u001b[0;34m.\u001b[0m\u001b[0m_object\u001b[0m\u001b[0;34m.\u001b[0m\u001b[0m_train\u001b[0m\u001b[0;34m(\u001b[0m\u001b[0mtrain_pool\u001b[0m\u001b[0;34m,\u001b[0m \u001b[0mtest_pool\u001b[0m\u001b[0;34m,\u001b[0m \u001b[0mparams\u001b[0m\u001b[0;34m,\u001b[0m \u001b[0mallow_clear_pool\u001b[0m\u001b[0;34m,\u001b[0m \u001b[0minit_model\u001b[0m\u001b[0;34m.\u001b[0m\u001b[0m_object\u001b[0m \u001b[0;32mif\u001b[0m \u001b[0minit_model\u001b[0m \u001b[0;32melse\u001b[0m \u001b[0;32mNone\u001b[0m\u001b[0;34m)\u001b[0m\u001b[0;34m\u001b[0m\u001b[0;34m\u001b[0m\u001b[0m\n\u001b[0m\u001b[1;32m   1760\u001b[0m         \u001b[0mself\u001b[0m\u001b[0;34m.\u001b[0m\u001b[0m_set_trained_model_attributes\u001b[0m\u001b[0;34m(\u001b[0m\u001b[0;34m)\u001b[0m\u001b[0;34m\u001b[0m\u001b[0;34m\u001b[0m\u001b[0m\n\u001b[1;32m   1761\u001b[0m \u001b[0;34m\u001b[0m\u001b[0m\n",
      "\u001b[0;32m_catboost.pyx\u001b[0m in \u001b[0;36m_catboost._CatBoost._train\u001b[0;34m()\u001b[0m\n",
      "\u001b[0;32m_catboost.pyx\u001b[0m in \u001b[0;36m_catboost._CatBoost._train\u001b[0;34m()\u001b[0m\n",
      "\u001b[0;31mKeyboardInterrupt\u001b[0m: "
     ]
    }
   ],
   "source": [
    "date_log = datetime.now().strftime(\"%Y_%m_%d_%H_%M\")\n",
    "study = optuna.create_study(direction=\"maximize\", study_name=f\"parameter_tuning_{config.country}_{date_log}\")\n",
    "func = lambda trial: objective(trial, df_pairs)\n",
    "study.optimize(func, n_trials=100)\n",
    "print('Number of finished trials:', len(study.trials))\n",
    "print('Best trial:', study.best_trial.params)\n"
   ]
  },
  {
   "cell_type": "code",
   "execution_count": 9,
   "metadata": {},
   "outputs": [],
   "source": [
    "study.trials_dataframe().to_csv(\"/workspace/catboost_trials_v4.csv\",index=None)"
   ]
  },
  {
   "cell_type": "code",
   "execution_count": null,
   "metadata": {},
   "outputs": [],
   "source": []
  }
 ],
 "metadata": {
  "kernelspec": {
   "display_name": "rapids",
   "language": "python",
   "name": "python3"
  },
  "language_info": {
   "codemirror_mode": {
    "name": "ipython",
    "version": 3
   },
   "file_extension": ".py",
   "mimetype": "text/x-python",
   "name": "python",
   "nbconvert_exporter": "python",
   "pygments_lexer": "ipython3",
   "version": "3.8.13 | packaged by conda-forge | (default, Mar 25 2022, 06:04:10) \n[GCC 10.3.0]"
  },
  "orig_nbformat": 4,
  "vscode": {
   "interpreter": {
    "hash": "f708a36acfaef0acf74ccd43dfb58100269bf08fb79032a1e0a6f35bd9856f51"
   }
  }
 },
 "nbformat": 4,
 "nbformat_minor": 2
}
