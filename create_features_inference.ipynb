{
 "cells": [
  {
   "cell_type": "markdown",
   "metadata": {},
   "source": [
    "# Import packages and data"
   ]
  },
  {
   "cell_type": "code",
   "execution_count": 1,
   "metadata": {},
   "outputs": [],
   "source": [
    "\n",
    "import pandas as pd\n",
    "import numpy as np\n",
    "from utils.create_features import jaro, WRatio, ratio, davies, token_set_ratio, add_lat_lon_distance_features, strike_a_match, leven\n",
    "from utils.features_utils import name_distance, extract_directions, is_direction_match, name_number_match,\\\n",
    "    is_related_cat, category_match, clean_email, sub_category_match, brand_match, house_match, email_url_match, phone_lcs,phone_category\n",
    "from Config import config\n",
    "import glob\n",
    "import torch"
   ]
  },
  {
   "cell_type": "code",
   "execution_count": 2,
   "metadata": {},
   "outputs": [],
   "source": [
    "df = pd.read_csv(config.input_dir + f\"Fuse_{config.country}_cleaned.csv\",engine='c',dtype={\"postalCode\": \"str\", \"houseNumber\": \"str\"})"
   ]
  },
  {
   "cell_type": "code",
   "execution_count": 3,
   "metadata": {},
   "outputs": [],
   "source": [
    "file_list = glob.glob(\n",
    "    config.output_stage1 + f\"batch_candidates/{config.country}_parquet/*.parquet\"\n",
    ")"
   ]
  },
  {
   "cell_type": "code",
   "execution_count": 4,
   "metadata": {},
   "outputs": [],
   "source": [
    "df_pairs = pd.DataFrame()\n",
    "for file in file_list:\n",
    "    df1 = pd.read_parquet(file,engine='pyarrow')\n",
    "    df_pairs = pd.concat([df_pairs,df1])"
   ]
  },
  {
   "cell_type": "code",
   "execution_count": 5,
   "metadata": {},
   "outputs": [],
   "source": [
    "df_pairs = pd.merge(df_pairs, df,  how='left', left_on=[\n",
    "                'placeId1'], right_on=['placeId'])\n",
    "df_pairs.drop('placeId',inplace=True,axis=1)\n",
    "df_pairs = pd.merge(df_pairs, df,  how='left', left_on=[\n",
    "                    'placeId2'], right_on=['placeId'],suffixes=[\"1\",\"2\"])\n",
    "\n",
    "df_pairs.drop('placeId',inplace=True,axis=1)"
   ]
  },
  {
   "cell_type": "code",
   "execution_count": 6,
   "metadata": {},
   "outputs": [],
   "source": [
    "cols = ['country', 'placeId1', 'placeId2', 'sourceNames1', 'sourceNames2',\n",
    "       'category1', 'category2', 'brands1', 'brands2', 'email1', 'email2',\n",
    "       'latitude1', 'longitude1', 'latitude2', 'longitude2', 'houseNumber1',\n",
    "       'houseNumber2', 'streets1', 'streets2', 'cities1', 'cities2',\n",
    "       'subCategory1', 'subCategory2', 'phoneNumbers1', 'phoneNumbers2',\n",
    "       'internet1', 'internet2', 'postalCode1', 'postalCode2']"
   ]
  },
  {
   "cell_type": "code",
   "execution_count": 7,
   "metadata": {},
   "outputs": [],
   "source": [
    "df_pairs[\"phoneNumbers1\"] = df_pairs[\"phoneNumbers1\"].apply(eval)\n",
    "df_pairs[\"phoneNumbers2\"] = df_pairs[\"phoneNumbers2\"].apply(eval)"
   ]
  },
  {
   "cell_type": "code",
   "execution_count": 8,
   "metadata": {},
   "outputs": [],
   "source": [
    "df_pairs.rename(columns={'officialName1':'sourceNames1'},inplace=True)\n",
    "df_pairs.rename(columns={'officialName2':'sourceNames2'},inplace=True)"
   ]
  },
  {
   "cell_type": "markdown",
   "metadata": {},
   "source": [
    "# Create Features"
   ]
  },
  {
   "cell_type": "code",
   "execution_count": 9,
   "metadata": {},
   "outputs": [
    {
     "data": {
      "application/vnd.jupyter.widget-view+json": {
       "model_id": "b0fa2d7146b743f5a0edbbe3dea96494",
       "version_major": 2,
       "version_minor": 0
      },
      "text/plain": [
       "  0%|          | 0/1 [00:00<?, ?it/s]"
      ]
     },
     "metadata": {},
     "output_type": "display_data"
    },
    {
     "data": {
      "application/vnd.jupyter.widget-view+json": {
       "model_id": "5776730faf9a4d1da0aa898ec7ab8273",
       "version_major": 2,
       "version_minor": 0
      },
      "text/plain": [
       "Batches:   0%|          | 0/6 [00:00<?, ?it/s]"
      ]
     },
     "metadata": {},
     "output_type": "display_data"
    }
   ],
   "source": [
    "# with torch.cuda.amp.autocast(enabled=True):\n",
    "similarity = name_distance(list(df_pairs[\"sourceNames1\"]),list(df_pairs[\"sourceNames2\"]))\n",
    "df_pairs[\"similarity\"] = similarity"
   ]
  },
  {
   "cell_type": "code",
   "execution_count": 10,
   "metadata": {},
   "outputs": [],
   "source": [
    "df_pairs = add_lat_lon_distance_features(df_pairs)"
   ]
  },
  {
   "cell_type": "code",
   "execution_count": 11,
   "metadata": {},
   "outputs": [],
   "source": [
    "df_pairs[\"direction1\"] = df_pairs[\"sourceNames1\"].apply(extract_directions)\n",
    "df_pairs[\"direction2\"] = df_pairs[\"sourceNames2\"].apply(extract_directions)\n",
    "df_pairs['Is_direction_match'] = df_pairs.apply(lambda x: is_direction_match(x.direction1, x.direction2), axis=1)\n"
   ]
  },
  {
   "cell_type": "code",
   "execution_count": 12,
   "metadata": {},
   "outputs": [],
   "source": [
    "df_pairs[\"name1_number\"] = df_pairs[\"sourceNames1\"].str.extract('(\\d+)')\n",
    "df_pairs[\"name2_number\"] = df_pairs[\"sourceNames2\"].str.extract('(\\d+)')\n",
    "df_pairs['Is_name_number_match'] = df_pairs.apply(lambda x: name_number_match(x.name1_number, x.name2_number), axis=1)"
   ]
  },
  {
   "cell_type": "code",
   "execution_count": 13,
   "metadata": {},
   "outputs": [],
   "source": [
    "df_pairs['Is_related_cat'] = df_pairs.apply(lambda x: is_related_cat(x.category1, x.category2), axis=1)\n",
    "df_pairs['Is_category_match'] = df_pairs.apply(lambda x: category_match(x.category1, x.category2), axis=1)\n",
    "df_pairs['Is_subcategory_match'] = df_pairs.apply(lambda x: sub_category_match(x.subCategory1, x.subCategory2), axis=1)"
   ]
  },
  {
   "cell_type": "code",
   "execution_count": 14,
   "metadata": {},
   "outputs": [],
   "source": [
    "df_pairs['Is_brand_match'] = df_pairs.apply(lambda x: brand_match(x.brands1, x.brands2), axis=1)\n",
    "df_pairs['Is_house_match'] = df_pairs.apply(lambda x: house_match(x.houseNumber1, x.houseNumber2), axis=1)\n",
    "df_pairs['is_phone_match'] = df_pairs.apply(lambda x: phone_category(x.phoneNumbers1, x.phoneNumbers2), axis=1)"
   ]
  },
  {
   "cell_type": "code",
   "execution_count": 15,
   "metadata": {},
   "outputs": [],
   "source": [
    "df_pairs['Is_email_match'] = df_pairs.apply(lambda x: email_url_match(x.email1, x.email2), axis=1)\n",
    "df_pairs['Is_url_match'] = df_pairs.apply(lambda x: email_url_match(x.internet1, x.internet2), axis=1)\n"
   ]
  },
  {
   "cell_type": "code",
   "execution_count": 16,
   "metadata": {},
   "outputs": [],
   "source": [
    "df_pairs['name_davies'] = df_pairs.apply(lambda x: davies(x.sourceNames1, x.sourceNames2), axis=1)\n",
    "df_pairs['name_leven'] = df_pairs.apply(lambda x: leven(x.sourceNames1, x.sourceNames2), axis=1)\n",
    "df_pairs['name_dice'] = df_pairs.apply(lambda x: strike_a_match(x.sourceNames1, x.sourceNames2), axis=1)\n",
    "df_pairs['name_jaro'] = df_pairs.apply(lambda x: jaro(x.sourceNames1, x.sourceNames2), axis=1)\n",
    "df_pairs['name_set_ratio'] = df_pairs.apply(lambda x: token_set_ratio(x.sourceNames1, x.sourceNames2), axis=1)"
   ]
  },
  {
   "cell_type": "code",
   "execution_count": 17,
   "metadata": {},
   "outputs": [],
   "source": [
    "df_pairs['street_davies'] = df_pairs.apply(lambda x: davies(x.streets1, x.streets2), axis=1)\n",
    "df_pairs['street_leven'] = df_pairs.apply(lambda x: leven(x.streets1, x.streets2), axis=1)\n",
    "df_pairs['street_jaro'] = df_pairs.apply(lambda x: jaro(x.streets1, x.streets2), axis=1)"
   ]
  },
  {
   "cell_type": "code",
   "execution_count": 18,
   "metadata": {},
   "outputs": [],
   "source": [
    "df_pairs['email_davies'] = df_pairs.apply(lambda x: davies(x.email1, x.email2), axis=1)\n",
    "df_pairs['email_leven'] = df_pairs.apply(lambda x: leven(x.email1, x.email2), axis=1)\n",
    "df_pairs['email_jaro'] = df_pairs.apply(lambda x: jaro(x.email1, x.email2), axis=1)"
   ]
  },
  {
   "cell_type": "code",
   "execution_count": 19,
   "metadata": {},
   "outputs": [],
   "source": [
    "df_pairs['url_davies'] = df_pairs.apply(lambda x: davies(x.internet1, x.internet2), axis=1)\n",
    "df_pairs['url_leven'] = df_pairs.apply(lambda x: leven(x.internet1, x.internet2), axis=1)\n",
    "df_pairs['url_jaro'] = df_pairs.apply(lambda x: jaro(x.internet1, x.internet2), axis=1)"
   ]
  },
  {
   "cell_type": "code",
   "execution_count": 20,
   "metadata": {},
   "outputs": [],
   "source": [
    "df_pairs['brands_davies'] = df_pairs.apply(lambda x: davies(x.brands1, x.brands2), axis=1)\n",
    "df_pairs['brand_leven'] = df_pairs.apply(lambda x: leven(x.brands1, x.brands2), axis=1)\n",
    "df_pairs['brand_jaro'] = df_pairs.apply(lambda x: jaro(x.brands1, x.brands2), axis=1)"
   ]
  },
  {
   "cell_type": "code",
   "execution_count": 21,
   "metadata": {},
   "outputs": [],
   "source": [
    "df_pairs['phone_lcs'] = df_pairs.apply(lambda x: phone_lcs(x.phoneNumbers1, x.phoneNumbers2), axis=1)\n",
    "df_pairs['subcat_WRatio'] = df_pairs.apply(lambda x: WRatio(x.subCategory1, x.subCategory2), axis=1)\n",
    "df_pairs['subcat_ratio'] = df_pairs.apply(lambda x: ratio(x.subCategory1, x.subCategory2), axis=1)\n",
    "df_pairs['subcat_token_set_ratio'] = df_pairs.apply(lambda x: token_set_ratio(x.subCategory1, x.subCategory2), axis=1)"
   ]
  },
  {
   "cell_type": "code",
   "execution_count": 22,
   "metadata": {},
   "outputs": [],
   "source": [
    "cat_columns = [\n",
    "    'Is_direction_match', 'Is_house_match', 'Is_category_match',\n",
    "    'Is_subcategory_match', 'Is_brand_match', 'Is_related_cat',\n",
    "    'Is_name_number_match', 'is_phone_match', 'Is_email_match', 'Is_url_match'\n",
    "]\n"
   ]
  },
  {
   "cell_type": "code",
   "execution_count": 23,
   "metadata": {},
   "outputs": [],
   "source": [
    "df_pairs = pd.get_dummies(df_pairs, columns = cat_columns)"
   ]
  },
  {
   "cell_type": "code",
   "execution_count": 24,
   "metadata": {},
   "outputs": [],
   "source": [
    "cols = [\n",
    "    'country', 'placeId1', 'placeId2', 'sourceNames1', 'sourceNames2',\n",
    "    'category1', 'category2', 'brands1', 'brands2', 'email1', 'email2',\n",
    "    'latitude1', 'longitude1', 'latitude2', 'longitude2', 'houseNumber1',\n",
    "    'houseNumber2', 'streets1', 'streets2', 'cities1', 'cities2',\n",
    "    'subCategory1', 'subCategory2', 'phoneNumbers1', 'phoneNumbers2',\n",
    "    'internet1', 'internet2', 'postalCode1', 'postalCode2', 'similarity',\n",
    "    'haversine', 'name_davies', 'name_leven', 'name_dice', 'name_jaro',\n",
    "    'name_set_ratio', 'street_davies', 'street_leven', 'street_jaro',\n",
    "    'email_davies', 'email_leven', 'email_jaro', 'url_davies', 'url_leven',\n",
    "    'url_jaro', 'brands_davies', 'brand_leven', 'brand_jaro', 'phone_lcs',\n",
    "    'subcat_WRatio', 'subcat_ratio', 'subcat_token_set_ratio',\n",
    "    'Is_direction_match_0', 'Is_direction_match_1', 'Is_direction_match_2',\n",
    "    'Is_house_match_0', 'Is_house_match_1', 'Is_house_match_2',\n",
    "    'Is_category_match_0', 'Is_category_match_1', 'Is_subcategory_match_0',\n",
    "    'Is_subcategory_match_1', 'Is_subcategory_match_2', 'Is_brand_match_0',\n",
    "    'Is_brand_match_1', 'Is_brand_match_2', 'Is_brand_match_3',\n",
    "    'Is_related_cat_0', 'Is_related_cat_1', 'Is_name_number_match_0',\n",
    "    'Is_name_number_match_1', 'Is_name_number_match_2',\n",
    "    'Is_name_number_match_3', 'is_phone_match_1', 'is_phone_match_2',\n",
    "    'is_phone_match_3', 'is_phone_match_4', 'Is_email_match_0',\n",
    "    'Is_email_match_1', 'Is_email_match_2', 'Is_url_match_0', 'Is_url_match_1',\n",
    "    'Is_url_match_2'\n",
    "]\n"
   ]
  },
  {
   "cell_type": "code",
   "execution_count": 25,
   "metadata": {},
   "outputs": [],
   "source": [
    "for c in cols:\n",
    "    if c not in df_pairs.columns:\n",
    "        df_pairs[c]=0"
   ]
  },
  {
   "cell_type": "code",
   "execution_count": 26,
   "metadata": {},
   "outputs": [],
   "source": [
    "df_pairs[\"country\"] = config.country"
   ]
  },
  {
   "cell_type": "code",
   "execution_count": 27,
   "metadata": {},
   "outputs": [],
   "source": [
    "df_pairs[cols].to_parquet(\n",
    "    config.root_dir\n",
    "    + f\"outputs/df_pairs_features_{config.country}_{config.COSINE_NEIGHBORS}.parquet\",\n",
    "    compression=\"zstd\",\n",
    "    index=None,\n",
    ")"
   ]
  },
  {
   "cell_type": "code",
   "execution_count": null,
   "metadata": {},
   "outputs": [],
   "source": []
  }
 ],
 "metadata": {
  "kernelspec": {
   "display_name": "rapids",
   "language": "python",
   "name": "python3"
  },
  "language_info": {
   "codemirror_mode": {
    "name": "ipython",
    "version": 3
   },
   "file_extension": ".py",
   "mimetype": "text/x-python",
   "name": "python",
   "nbconvert_exporter": "python",
   "pygments_lexer": "ipython3",
   "version": "3.8.15"
  },
  "orig_nbformat": 4,
  "vscode": {
   "interpreter": {
    "hash": "f708a36acfaef0acf74ccd43dfb58100269bf08fb79032a1e0a6f35bd9856f51"
   }
  }
 },
 "nbformat": 4,
 "nbformat_minor": 2
}
