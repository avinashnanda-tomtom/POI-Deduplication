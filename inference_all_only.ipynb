{
 "cells": [
  {
   "cell_type": "code",
   "execution_count": 1,
   "metadata": {},
   "outputs": [],
   "source": [
    "import pandas as pd\n",
    "import numpy as np\n",
    "from utils.forest_infer import pred_multi\n",
    "from utils.metrics import print_metrics\n",
    "import glob\n",
    "from tqdm import tqdm\n",
    "from utils.forest_infer import pred_multi\n",
    "from xgboost import XGBClassifier\n",
    "import gc\n",
    "from catboost import CatBoostClassifier"
   ]
  },
  {
   "cell_type": "code",
   "execution_count": 2,
   "metadata": {},
   "outputs": [],
   "source": [
    "# df_pairs = pd.read_parquet(\"/workspace/inference_data/df_pairs_features_NZL_30.parquet\")"
   ]
  },
  {
   "cell_type": "code",
   "execution_count": 3,
   "metadata": {},
   "outputs": [],
   "source": [
    "df_pairs  = pd.read_csv(\"/workspace/Manual_Verification_Dedup_POIs_Final_cleaned_features.csv\")"
   ]
  },
  {
   "cell_type": "code",
   "execution_count": 4,
   "metadata": {},
   "outputs": [],
   "source": [
    "features = ['similarity', 'haversine', 'name_davies',\n",
    "       'name_leven', 'name_dice', 'name_jaro', 'name_set_ratio',\n",
    "       'street_davies', 'street_leven', 'street_jaro', 'email_davies',\n",
    "       'email_leven', 'email_jaro', 'url_davies', 'url_leven', 'url_jaro',\n",
    "       'brands_davies', 'brand_leven', 'brand_jaro', 'phone_lcs',\n",
    "       'subcat_WRatio', 'subcat_ratio', 'subcat_token_set_ratio',\n",
    "       'Is_direction_match_0', 'Is_direction_match_1', 'Is_direction_match_2',\n",
    "       'Is_house_match_0', 'Is_house_match_1', 'Is_house_match_2',\n",
    "       'Is_category_match_0', 'Is_category_match_1', 'Is_subcategory_match_0',\n",
    "       'Is_subcategory_match_1', 'Is_subcategory_match_2', 'Is_brand_match_0',\n",
    "       'Is_brand_match_1', 'Is_brand_match_2', 'Is_brand_match_3',\n",
    "       'Is_related_cat_0', 'Is_related_cat_1', 'Is_name_number_match_0',\n",
    "       'Is_name_number_match_1', 'Is_name_number_match_2',\n",
    "       'Is_name_number_match_3', 'is_phone_match_1', 'is_phone_match_2',\n",
    "       'is_phone_match_3', 'is_phone_match_4', 'Is_email_match_0',\n",
    "       'Is_email_match_1', 'Is_email_match_2', 'Is_url_match_0',\n",
    "       'Is_url_match_1', 'Is_url_match_2']"
   ]
  },
  {
   "cell_type": "markdown",
   "metadata": {},
   "source": [
    "# Lightgbm inference"
   ]
  },
  {
   "cell_type": "code",
   "execution_count": 5,
   "metadata": {},
   "outputs": [],
   "source": [
    "models = glob.glob(f\"/workspace/models/model_duplicate_gsplit_lgb*\")"
   ]
  },
  {
   "cell_type": "code",
   "execution_count": 6,
   "metadata": {},
   "outputs": [
    {
     "name": "stderr",
     "output_type": "stream",
     "text": [
      "  0%|          | 0/5 [00:00<?, ?it/s]"
     ]
    },
    {
     "name": "stdout",
     "output_type": "stream",
     "text": [
      "[W] [07:13:38.878058] Treelite currently does not support float64 model parameters. Accuracy may degrade slightly relative to native LightGBM invocation.\n"
     ]
    },
    {
     "data": {
      "application/vnd.jupyter.widget-view+json": {
       "model_id": "e8c344a8dbd64f2abd347164d830a30e",
       "version_major": 2,
       "version_minor": 0
      },
      "text/plain": [
       "  0%|          | 0/4 [00:00<?, ?it/s]"
      ]
     },
     "metadata": {},
     "output_type": "display_data"
    },
    {
     "name": "stderr",
     "output_type": "stream",
     "text": [
      " 20%|██        | 1/5 [00:10<00:42, 10.58s/it]"
     ]
    },
    {
     "name": "stdout",
     "output_type": "stream",
     "text": [
      "[W] [07:13:39.850094] Treelite currently does not support float64 model parameters. Accuracy may degrade slightly relative to native LightGBM invocation.\n"
     ]
    },
    {
     "data": {
      "application/vnd.jupyter.widget-view+json": {
       "model_id": "9fcc9a2b162c4b1f9cf2b02b0dbff3d9",
       "version_major": 2,
       "version_minor": 0
      },
      "text/plain": [
       "  0%|          | 0/4 [00:00<?, ?it/s]"
      ]
     },
     "metadata": {},
     "output_type": "display_data"
    },
    {
     "name": "stderr",
     "output_type": "stream",
     "text": [
      " 40%|████      | 2/5 [00:11<00:14,  4.89s/it]"
     ]
    },
    {
     "name": "stdout",
     "output_type": "stream",
     "text": [
      "[W] [07:13:40.748400] Treelite currently does not support float64 model parameters. Accuracy may degrade slightly relative to native LightGBM invocation.\n"
     ]
    },
    {
     "data": {
      "application/vnd.jupyter.widget-view+json": {
       "model_id": "4b6c83fb85fc4ccbb898d3afd8d42343",
       "version_major": 2,
       "version_minor": 0
      },
      "text/plain": [
       "  0%|          | 0/4 [00:00<?, ?it/s]"
      ]
     },
     "metadata": {},
     "output_type": "display_data"
    },
    {
     "name": "stderr",
     "output_type": "stream",
     "text": [
      " 60%|██████    | 3/5 [00:12<00:05,  2.98s/it]"
     ]
    },
    {
     "name": "stdout",
     "output_type": "stream",
     "text": [
      "[W] [07:13:41.453399] Treelite currently does not support float64 model parameters. Accuracy may degrade slightly relative to native LightGBM invocation.\n"
     ]
    },
    {
     "data": {
      "application/vnd.jupyter.widget-view+json": {
       "model_id": "e2c0054949c44279aa812bf3d14cdc4e",
       "version_major": 2,
       "version_minor": 0
      },
      "text/plain": [
       "  0%|          | 0/4 [00:00<?, ?it/s]"
      ]
     },
     "metadata": {},
     "output_type": "display_data"
    },
    {
     "name": "stderr",
     "output_type": "stream",
     "text": [
      " 80%|████████  | 4/5 [00:12<00:02,  2.12s/it]"
     ]
    },
    {
     "name": "stdout",
     "output_type": "stream",
     "text": [
      "[W] [07:13:42.248248] Treelite currently does not support float64 model parameters. Accuracy may degrade slightly relative to native LightGBM invocation.\n"
     ]
    },
    {
     "data": {
      "application/vnd.jupyter.widget-view+json": {
       "model_id": "5ca30c0410474255af73df96f0ec475b",
       "version_major": 2,
       "version_minor": 0
      },
      "text/plain": [
       "  0%|          | 0/4 [00:00<?, ?it/s]"
      ]
     },
     "metadata": {},
     "output_type": "display_data"
    },
    {
     "name": "stderr",
     "output_type": "stream",
     "text": [
      "100%|██████████| 5/5 [00:13<00:00,  2.75s/it]\n"
     ]
    }
   ],
   "source": [
    "all_pred = []\n",
    "for model_file in tqdm(models):\n",
    "    prediction = pred_multi(model_file,df_pairs[features])\n",
    "    all_pred.append(prediction)\n",
    "    \n",
    "all_pred = np.array(all_pred)\n",
    "pred = np.mean(all_pred, axis=0)\n",
    "df_pairs[\"prediction_lgb_probab\"] = pred\n",
    "df_pairs[\"prediction_lgb\"] = pred>0.5\n",
    "df_pairs[\"prediction_lgb\"] = df_pairs[\"prediction_lgb\"]*1"
   ]
  },
  {
   "cell_type": "markdown",
   "metadata": {},
   "source": [
    "# Xgboost inference"
   ]
  },
  {
   "cell_type": "code",
   "execution_count": 7,
   "metadata": {},
   "outputs": [],
   "source": [
    "models = glob.glob(f\"/workspace/models/xgboost_dedup_v2_*\")"
   ]
  },
  {
   "cell_type": "code",
   "execution_count": 8,
   "metadata": {},
   "outputs": [],
   "source": [
    "def pred_multi_xgb(model_file,df):\n",
    "    xgb_model = XGBClassifier()\n",
    "    xgb_model.load_model(model_file)\n",
    "    prediction = xgb_model.predict_proba(df)[:, 1]\n",
    "    del xgb_model\n",
    "    gc.collect()\n",
    "    return prediction"
   ]
  },
  {
   "cell_type": "code",
   "execution_count": 9,
   "metadata": {},
   "outputs": [
    {
     "name": "stderr",
     "output_type": "stream",
     "text": [
      "100%|██████████| 5/5 [00:04<00:00,  1.24it/s]\n"
     ]
    }
   ],
   "source": [
    "all_pred = []\n",
    "for model_file in tqdm(models):\n",
    "    prediction = pred_multi_xgb(model_file,df_pairs[features])\n",
    "    all_pred.append(prediction)\n",
    "    \n",
    "all_pred = np.array(all_pred)\n",
    "pred = np.mean(all_pred, axis=0)\n",
    "df_pairs[\"prediction_xgb_probab\"] = pred\n",
    "df_pairs[\"prediction_xgb\"] = pred>0.5\n",
    "df_pairs[\"prediction_xgb\"] = df_pairs[\"prediction_xgb\"]*1"
   ]
  },
  {
   "cell_type": "markdown",
   "metadata": {},
   "source": [
    "# catboost inference"
   ]
  },
  {
   "cell_type": "code",
   "execution_count": 10,
   "metadata": {},
   "outputs": [],
   "source": [
    "models = glob.glob(f\"/workspace/models/catboost_dedup_*\")"
   ]
  },
  {
   "cell_type": "code",
   "execution_count": 11,
   "metadata": {},
   "outputs": [],
   "source": [
    "def pred_multi_catboost(model_file,df):\n",
    "    xgb_model = CatBoostClassifier()\n",
    "    xgb_model.load_model(model_file)\n",
    "    prediction = xgb_model.predict_proba(df)[:, 1]\n",
    "    del xgb_model\n",
    "    gc.collect()\n",
    "    return prediction"
   ]
  },
  {
   "cell_type": "code",
   "execution_count": 12,
   "metadata": {},
   "outputs": [
    {
     "name": "stderr",
     "output_type": "stream",
     "text": [
      "100%|██████████| 5/5 [00:02<00:00,  2.23it/s]\n"
     ]
    }
   ],
   "source": [
    "all_pred = []\n",
    "for model_file in tqdm(models):\n",
    "    prediction = pred_multi_catboost(model_file,df_pairs[features])\n",
    "    all_pred.append(prediction)\n",
    "    \n",
    "all_pred = np.array(all_pred)\n",
    "pred = np.mean(all_pred, axis=0)\n",
    "df_pairs[\"prediction_catboost_probab\"] = pred\n",
    "df_pairs[\"prediction_catboost\"] = pred>0.5\n",
    "df_pairs[\"prediction_catboost\"] = df_pairs[\"prediction_catboost\"]*1"
   ]
  },
  {
   "cell_type": "code",
   "execution_count": 13,
   "metadata": {},
   "outputs": [
    {
     "data": {
      "text/plain": [
       "Index(['country', 'placeId1', 'placeId2', 'sourceNames1', 'sourceNames2',\n",
       "       'category1', 'category2', 'brands1', 'brands2', 'email1', 'email2',\n",
       "       'latitude1', 'longitude1', 'latitude2', 'longitude2', 'houseNumber1',\n",
       "       'houseNumber2', 'streets1', 'streets2', 'cities1', 'cities2',\n",
       "       'subCategory1', 'subCategory2', 'phoneNumbers1', 'phoneNumbers2',\n",
       "       'internet1', 'internet2', 'postalCode1', 'postalCode2', 'similarity',\n",
       "       'haversine', 'name_davies', 'name_leven', 'name_dice', 'name_jaro',\n",
       "       'name_set_ratio', 'street_davies', 'street_leven', 'street_jaro',\n",
       "       'email_davies', 'email_leven', 'email_jaro', 'url_davies', 'url_leven',\n",
       "       'url_jaro', 'brands_davies', 'brand_leven', 'brand_jaro', 'phone_lcs',\n",
       "       'subcat_WRatio', 'subcat_ratio', 'subcat_token_set_ratio',\n",
       "       'Is_direction_match_0', 'Is_direction_match_1', 'Is_direction_match_2',\n",
       "       'Is_house_match_0', 'Is_house_match_1', 'Is_house_match_2',\n",
       "       'Is_category_match_0', 'Is_category_match_1', 'Is_subcategory_match_0',\n",
       "       'Is_subcategory_match_1', 'Is_subcategory_match_2', 'Is_brand_match_0',\n",
       "       'Is_brand_match_1', 'Is_brand_match_2', 'Is_brand_match_3',\n",
       "       'Is_related_cat_0', 'Is_related_cat_1', 'Is_name_number_match_0',\n",
       "       'Is_name_number_match_1', 'Is_name_number_match_2',\n",
       "       'Is_name_number_match_3', 'is_phone_match_1', 'is_phone_match_2',\n",
       "       'is_phone_match_3', 'is_phone_match_4', 'Is_email_match_0',\n",
       "       'Is_email_match_1', 'Is_email_match_2', 'Is_url_match_0',\n",
       "       'Is_url_match_1', 'Is_url_match_2', 'Duplicate(Y/N)',\n",
       "       'prediction_lgb_probab', 'prediction_lgb', 'prediction_xgb_probab',\n",
       "       'prediction_xgb', 'prediction_catboost_probab', 'prediction_catboost'],\n",
       "      dtype='object')"
      ]
     },
     "execution_count": 13,
     "metadata": {},
     "output_type": "execute_result"
    }
   ],
   "source": [
    "df_pairs.columns"
   ]
  },
  {
   "cell_type": "code",
   "execution_count": 14,
   "metadata": {},
   "outputs": [],
   "source": [
    "df_pairs[(df_pairs[\"prediction_xgb\"]==1)  & (df_pairs[\"prediction_lgb\"]==1)  & (df_pairs[\"prediction_catboost\"]==1)].to_csv(\"/workspace/nzl_duplicate.csv\",index=None)"
   ]
  },
  {
   "cell_type": "code",
   "execution_count": 15,
   "metadata": {},
   "outputs": [
    {
     "data": {
      "text/plain": [
       "(1544, 90)"
      ]
     },
     "execution_count": 15,
     "metadata": {},
     "output_type": "execute_result"
    }
   ],
   "source": [
    "df_pairs.shape"
   ]
  },
  {
   "cell_type": "code",
   "execution_count": 16,
   "metadata": {},
   "outputs": [
    {
     "data": {
      "text/plain": [
       "(1499, 90)"
      ]
     },
     "execution_count": 16,
     "metadata": {},
     "output_type": "execute_result"
    }
   ],
   "source": [
    "df_pairs[(df_pairs[\"prediction_xgb\"]==1)  & (df_pairs[\"prediction_lgb\"]==1)  & (df_pairs[\"prediction_catboost\"]==1)].shape"
   ]
  },
  {
   "cell_type": "code",
   "execution_count": 17,
   "metadata": {},
   "outputs": [],
   "source": [
    "import pandas as pd"
   ]
  },
  {
   "cell_type": "code",
   "execution_count": 18,
   "metadata": {},
   "outputs": [],
   "source": [
    "df_pairs = pd.read_csv(\"/workspace/nzl_duplicate.csv\")"
   ]
  },
  {
   "cell_type": "code",
   "execution_count": 19,
   "metadata": {},
   "outputs": [],
   "source": [
    "df_pairs[\"prediction_catboost\"] = df_pairs[\"prediction_catboost_probab\"]>=0.9\n",
    "df_pairs[\"prediction_catboost\"] = df_pairs[\"prediction_catboost\"]*1\n",
    "df_pairs[\"prediction_xgb\"] = df_pairs[\"prediction_xgb\"]>=0.9\n",
    "df_pairs[\"prediction_xgb\"] = df_pairs[\"prediction_xgb\"]*1\n",
    "df_pairs[\"prediction_lgb\"] = df_pairs[\"prediction_lgb_probab\"]>=0.9\n",
    "df_pairs[\"prediction_lgb\"] = df_pairs[\"prediction_lgb\"]*1"
   ]
  },
  {
   "cell_type": "code",
   "execution_count": 20,
   "metadata": {},
   "outputs": [],
   "source": [
    "df_pairs[(df_pairs[\"prediction_xgb\"]==1)  & (df_pairs[\"prediction_lgb\"]==1)  & (df_pairs[\"prediction_catboost\"]==1)].to_csv(\"/workspace/nzl_duplicate_0.9.csv\",index=None)"
   ]
  },
  {
   "cell_type": "code",
   "execution_count": 21,
   "metadata": {},
   "outputs": [
    {
     "data": {
      "text/plain": [
       "(1499, 90)"
      ]
     },
     "execution_count": 21,
     "metadata": {},
     "output_type": "execute_result"
    }
   ],
   "source": [
    "df_pairs.shape"
   ]
  }
 ],
 "metadata": {
  "kernelspec": {
   "display_name": "rapids",
   "language": "python",
   "name": "python3"
  },
  "language_info": {
   "codemirror_mode": {
    "name": "ipython",
    "version": 3
   },
   "file_extension": ".py",
   "mimetype": "text/x-python",
   "name": "python",
   "nbconvert_exporter": "python",
   "pygments_lexer": "ipython3",
   "version": "3.8.15"
  },
  "orig_nbformat": 4,
  "vscode": {
   "interpreter": {
    "hash": "f708a36acfaef0acf74ccd43dfb58100269bf08fb79032a1e0a6f35bd9856f51"
   }
  }
 },
 "nbformat": 4,
 "nbformat_minor": 2
}
