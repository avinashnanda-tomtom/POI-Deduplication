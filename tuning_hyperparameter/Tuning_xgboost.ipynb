{
 "cells": [
  {
   "cell_type": "code",
   "execution_count": 1,
   "metadata": {},
   "outputs": [],
   "source": [
    "import pandas as pd\n",
    "import numpy as np\n",
    "from xgboost import XGBClassifier, callback\n",
    "from optuna.integration import XGBoostPruningCallback\n",
    "import mlflow\n"
   ]
  },
  {
   "cell_type": "code",
   "execution_count": 2,
   "metadata": {},
   "outputs": [],
   "source": [
    "\n",
    "\n",
    "import pandas as pd\n",
    "from sklearn.metrics import roc_auc_score\n",
    "from Config import config\n",
    "import warnings\n",
    "warnings.filterwarnings(\"ignore\")\n",
    "import optuna  # pip install optuna\n",
    "from sklearn.model_selection import StratifiedKFold\n",
    "from sklearn.model_selection import GroupKFold\n",
    "import numpy as np\n",
    "from sklearn.model_selection import train_test_split\n",
    "from datetime import datetime\n",
    "import gc\n",
    "import pickle\n",
    "import tempfile\n",
    "from optuna.integration.mlflow import MLflowCallback\n"
   ]
  },
  {
   "cell_type": "code",
   "execution_count": 3,
   "metadata": {},
   "outputs": [],
   "source": [
    "from lightgbm.basic import LightGBMError\n",
    "from lightgbm import LGBMClassifier, early_stopping, log_evaluation, Booster\n",
    "from sklearn.metrics import roc_auc_score\n",
    "import os"
   ]
  },
  {
   "cell_type": "markdown",
   "metadata": {},
   "source": [
    "# Loading data and group split"
   ]
  },
  {
   "cell_type": "code",
   "execution_count": 4,
   "metadata": {},
   "outputs": [],
   "source": [
    "# df_pairs = pd.read_csv(\"/workspace/Training_data/training/Full_training_data.csv\")\n",
    "# df_pairs = df_pairs.sample(frac=1).reset_index(drop=True)\n",
    "# kf = GroupKFold(n_splits=5)\n",
    "# for i, (trn_idx, val_idx) in enumerate(kf.split(df_pairs, df_pairs[\"placeId1\"], df_pairs[\"placeId1\"])):\n",
    "#     df_pairs.loc[val_idx, \"fold\"] = i\n",
    "# df_pairs[\"fold\"].value_counts()\n",
    "# df_pairs.to_csv(\"/workspace/Training_data/training/Full_training_data_fold.csv\",index=None)"
   ]
  },
  {
   "cell_type": "markdown",
   "metadata": {},
   "source": [
    "# Loading data"
   ]
  },
  {
   "cell_type": "code",
   "execution_count": 5,
   "metadata": {},
   "outputs": [],
   "source": [
    "df_pairs = pd.read_csv(\"/workspace/Traininf_model_v4/Training_data/Full_training_data_fold_v4_without_categories.csv\")"
   ]
  },
  {
   "cell_type": "code",
   "execution_count": 6,
   "metadata": {},
   "outputs": [],
   "source": [
    "features = ['similarity', 'haversine', 'name_davies',\n",
    "       'name_leven', 'name_dice', 'name_jaro', 'name_set_ratio',\n",
    "       'street_davies', 'street_leven', 'street_jaro', 'email_davies',\n",
    "       'email_leven', 'email_jaro', 'url_davies', 'url_leven', 'url_jaro',\n",
    "       'brands_davies', 'brand_leven', 'brand_jaro', 'phone_lcs',\n",
    "       'subcat_WRatio', 'subcat_ratio', 'subcat_token_set_ratio',\n",
    "       'Is_direction_match_0', 'Is_direction_match_1', 'Is_direction_match_2',\n",
    "       'Is_house_match_0', 'Is_house_match_1', 'Is_house_match_2',\n",
    "       'Is_category_match_0', 'Is_category_match_1', 'Is_subcategory_match_0',\n",
    "       'Is_subcategory_match_1', 'Is_subcategory_match_2', 'Is_brand_match_0',\n",
    "       'Is_brand_match_1', 'Is_brand_match_2', 'Is_brand_match_3',\n",
    "       'Is_related_cat_0', 'Is_related_cat_1', 'Is_name_number_match_0',\n",
    "       'Is_name_number_match_1', 'Is_name_number_match_2',\n",
    "       'Is_name_number_match_3', 'is_phone_match_1', 'is_phone_match_2',\n",
    "       'is_phone_match_3', 'is_phone_match_4', 'Is_email_match_0',\n",
    "       'Is_email_match_1', 'Is_email_match_2', 'Is_url_match_0',\n",
    "       'Is_url_match_1', 'Is_url_match_2']"
   ]
  },
  {
   "cell_type": "code",
   "execution_count": 7,
   "metadata": {},
   "outputs": [],
   "source": [
    "# from optuna.integration import LightGBMPruningCallback\n",
    "\n",
    "# def objective(trial, X_train,X_test,Y_train,Y_test):\n",
    "#     param_grid = {\n",
    "#         \"learning_rate\": trial.suggest_float(\"learning_rate\", 0.01, 0.5,step=0.1),\n",
    "#         \"num_leaves\": trial.suggest_int(\"num_leaves\", 20, 3000, step=20),\n",
    "#         \"min_child_samples\": trial.suggest_int(\"min_child_samples\", 200, 10000, step=50),\n",
    "#         \"min_child_weight\": trial.suggest_float(\"min_child_weight\", 0.01, 1.0,step=0.01),\n",
    "#         \"subsample\": trial.suggest_float(\"subsample\", 0.6, 1.0,step=0.1),\n",
    "#         \"colsample_bytree\": trial.suggest_float(\"colsample_bytree\", 0.4, 1.0,step=0.1),\n",
    "#         \"reg_alpha\": trial.suggest_int(\"reg_alpha\", 1, 100, step=1),\n",
    "#         \"reg_lambda\": trial.suggest_int(\"reg_lambda\", 1, 100, step=1),\n",
    "#         \"min_split_gain\": trial.suggest_float(\"min_split_gain\", 0, 15),\n",
    "#         \"path_smooth\": trial.suggest_float(\"path_smooth\", 0.0, 1.0,step=0.1)\n",
    "#     }\n",
    "    \n",
    "#     callbacks = [log_evaluation(100),]\n",
    "#     callbacks += [early_stopping(100)]\n",
    "#     callbacks += [LightGBMPruningCallback(trial, \"auc\")]\n",
    "\n",
    "        \n",
    "#     model = LGBMClassifier(objective=\"binary\",n_estimators=10000, **param_grid,n_jobs=-1)\n",
    "#     model.fit(\n",
    "#             X_train,\n",
    "#             Y_train,\n",
    "#             eval_set=[(X_test, Y_test)],\n",
    "#             eval_metric=\"auc\",\n",
    "#             callbacks=callbacks\n",
    "#         )\n",
    "#     preds = model.predict_proba(X_test)[:, 1]\n",
    "\n",
    "\n",
    "#     return roc_auc_score(Y_test, preds)"
   ]
  },
  {
   "cell_type": "code",
   "execution_count": 8,
   "metadata": {},
   "outputs": [],
   "source": [
    "def objective(trial, df_pairs):\n",
    "    params = {\n",
    "        \"max_depth\": trial.suggest_int(\"max_depth\", 4, 20),\n",
    "        \"colsample_bytree\": trial.suggest_loguniform(\"colsample_bytree\", 0.5,1),\n",
    "        \"subsample\": trial.suggest_loguniform(\"subsample\", 0.4, 1),\n",
    "        \"alpha\": trial.suggest_loguniform(\"alpha\", 0.01, 10.0),\n",
    "        \"lambda\": trial.suggest_loguniform(\"lambda\", 1e-8, 10.0),\n",
    "        \"gamma\": trial.suggest_loguniform(\"gamma\", 1e-8, 10.0),\n",
    "        \"min_child_weight\": trial.suggest_loguniform(\"min_child_weight\", 1,300),\n",
    "    }\n",
    "\n",
    "    cback = [XGBoostPruningCallback(trial, \"validation_0-auc\")]\n",
    "\n",
    "    cv_scores = np.empty(5)\n",
    "    cv_scores_train = np.empty(5)\n",
    "    for fold in [0, 1, 2, 3, 4]:\n",
    "        X_train = df_pairs[df_pairs[\"fold\"] != fold]\n",
    "        X_test = df_pairs[df_pairs[\"fold\"] == fold]\n",
    "\n",
    "        model = XGBClassifier(\n",
    "            **params,\n",
    "            n_estimators=10000,\n",
    "            learning_rate=0.1,\n",
    "            objective=\"binary:logistic\",\n",
    "            eval_metric=\"auc\",\n",
    "            tree_method=\"gpu_hist\",\n",
    "            use_label_encoder=False,\n",
    "            random_state=42,\n",
    "            enable_categorical=True,\n",
    "        )\n",
    "        model.fit(X_train[features],\n",
    "                  X_train[\"duplicate_flag\"],verbose=100,\n",
    "                  eval_set=[(X_test[features], X_test[\"duplicate_flag\"])],\n",
    "                  early_stopping_rounds=40,\n",
    "                  callbacks=cback)\n",
    "\n",
    "        preds = model.predict_proba(X_test[features])[:, 1]\n",
    "        preds_train = model.predict_proba(X_train[features])[:, 1]\n",
    "        cv_scores[fold] = roc_auc_score(X_test[\"duplicate_flag\"], preds)\n",
    "        cv_scores_train[fold] = roc_auc_score(X_train[\"duplicate_flag\"],\n",
    "                                              preds_train)\n",
    "    print(f\"train auc score = {np.mean(cv_scores_train)}\")\n",
    "    print(f\"test auc score = {np.mean(cv_scores)}\")\n",
    "    mlflow.log_metric('train_auc', np.mean(cv_scores_train))\n",
    "    mlflow.log_metric('test_auc', np.mean(cv_scores))\n",
    "    return np.mean(cv_scores)"
   ]
  },
  {
   "cell_type": "code",
   "execution_count": 9,
   "metadata": {},
   "outputs": [
    {
     "name": "stderr",
     "output_type": "stream",
     "text": [
      "\u001b[32m[I 2023-01-13 17:01:51,298]\u001b[0m A new study created in memory with name: parameter_tuning_GBR_2023_01_13_17_01\u001b[0m\n"
     ]
    },
    {
     "name": "stdout",
     "output_type": "stream",
     "text": [
      "[0]\tvalidation_0-auc:0.99765\n",
      "[100]\tvalidation_0-auc:0.99973\n",
      "[200]\tvalidation_0-auc:0.99976\n",
      "[300]\tvalidation_0-auc:0.99977\n",
      "[400]\tvalidation_0-auc:0.99977\n",
      "[459]\tvalidation_0-auc:0.99977\n",
      "[0]\tvalidation_0-auc:0.99805\n",
      "[100]\tvalidation_0-auc:0.99978\n",
      "[200]\tvalidation_0-auc:0.99979\n",
      "[210]\tvalidation_0-auc:0.99979\n",
      "[0]\tvalidation_0-auc:0.99776\n",
      "[100]\tvalidation_0-auc:0.99975\n",
      "[200]\tvalidation_0-auc:0.99977\n",
      "[300]\tvalidation_0-auc:0.99978\n",
      "[400]\tvalidation_0-auc:0.99978\n",
      "[494]\tvalidation_0-auc:0.99978\n",
      "[0]\tvalidation_0-auc:0.99802\n",
      "[100]\tvalidation_0-auc:0.99977\n",
      "[200]\tvalidation_0-auc:0.99978\n",
      "[300]\tvalidation_0-auc:0.99979\n",
      "[386]\tvalidation_0-auc:0.99979\n",
      "[0]\tvalidation_0-auc:0.99732\n",
      "[100]\tvalidation_0-auc:0.99979\n",
      "[200]\tvalidation_0-auc:0.99981\n",
      "[300]\tvalidation_0-auc:0.99982\n",
      "[400]\tvalidation_0-auc:0.99982\n",
      "[500]\tvalidation_0-auc:0.99983\n",
      "[600]\tvalidation_0-auc:0.99983\n",
      "[700]\tvalidation_0-auc:0.99983\n",
      "[767]\tvalidation_0-auc:0.99983\n",
      "train auc score = 0.9998067156100608\n",
      "test auc score = 0.9997936878061047\n"
     ]
    },
    {
     "name": "stderr",
     "output_type": "stream",
     "text": [
      "\u001b[32m[I 2023-01-13 17:02:19,197]\u001b[0m Trial 0 finished with value: 0.9997936878061047 and parameters: {'max_depth': 14, 'colsample_bytree': 0.9647621402991188, 'subsample': 0.4048611981241062, 'alpha': 0.08726440654091117, 'lambda': 0.3624769048977888, 'gamma': 3.173282597021764e-06, 'min_child_weight': 215.98101423902799}. Best is trial 0 with value: 0.9997936878061047.\u001b[0m\n",
      "2023/01/13 17:02:19 INFO mlflow.tracking.fluent: Experiment with name 'parameter_tuning_GBR_2023_01_13_17_01' does not exist. Creating a new experiment.\n"
     ]
    },
    {
     "name": "stdout",
     "output_type": "stream",
     "text": [
      "[0]\tvalidation_0-auc:0.99669\n",
      "[100]\tvalidation_0-auc:0.99988\n",
      "[200]\tvalidation_0-auc:0.99990\n",
      "[300]\tvalidation_0-auc:0.99991\n",
      "[400]\tvalidation_0-auc:0.99992\n",
      "[475]\tvalidation_0-auc:0.99992\n",
      "[0]\tvalidation_0-auc:0.99734\n",
      "[100]\tvalidation_0-auc:0.99989\n",
      "[200]\tvalidation_0-auc:0.99991\n",
      "[300]\tvalidation_0-auc:0.99992\n",
      "[400]\tvalidation_0-auc:0.99992\n",
      "[500]\tvalidation_0-auc:0.99992\n",
      "[600]\tvalidation_0-auc:0.99992\n",
      "[700]\tvalidation_0-auc:0.99992\n",
      "[726]\tvalidation_0-auc:0.99992\n",
      "[0]\tvalidation_0-auc:0.99718\n",
      "[100]\tvalidation_0-auc:0.99988\n",
      "[200]\tvalidation_0-auc:0.99991\n",
      "[300]\tvalidation_0-auc:0.99991\n",
      "[400]\tvalidation_0-auc:0.99992\n",
      "[500]\tvalidation_0-auc:0.99992\n",
      "[564]\tvalidation_0-auc:0.99992\n",
      "[0]\tvalidation_0-auc:0.99717\n",
      "[100]\tvalidation_0-auc:0.99987\n",
      "[200]\tvalidation_0-auc:0.99990\n",
      "[300]\tvalidation_0-auc:0.99991\n",
      "[371]\tvalidation_0-auc:0.99991\n",
      "[0]\tvalidation_0-auc:0.99708\n",
      "[100]\tvalidation_0-auc:0.99989\n",
      "[200]\tvalidation_0-auc:0.99991\n",
      "[300]\tvalidation_0-auc:0.99992\n",
      "[400]\tvalidation_0-auc:0.99992\n",
      "[464]\tvalidation_0-auc:0.99992\n"
     ]
    },
    {
     "name": "stderr",
     "output_type": "stream",
     "text": [
      "\u001b[32m[I 2023-01-13 17:02:53,431]\u001b[0m Trial 1 finished with value: 0.9999181521620943 and parameters: {'max_depth': 6, 'colsample_bytree': 0.9821907280983331, 'subsample': 0.5698308494427331, 'alpha': 0.5460836353081042, 'lambda': 1.279518487020461e-07, 'gamma': 0.0012234773825409257, 'min_child_weight': 33.677038851234585}. Best is trial 1 with value: 0.9999181521620943.\u001b[0m\n"
     ]
    },
    {
     "name": "stdout",
     "output_type": "stream",
     "text": [
      "train auc score = 0.9999553263681283\n",
      "test auc score = 0.9999181521620943\n",
      "[0]\tvalidation_0-auc:0.99290\n",
      "[100]\tvalidation_0-auc:0.99991\n",
      "[200]\tvalidation_0-auc:0.99993\n",
      "[300]\tvalidation_0-auc:0.99994\n",
      "[314]\tvalidation_0-auc:0.99994\n",
      "[0]\tvalidation_0-auc:0.99378\n",
      "[100]\tvalidation_0-auc:0.99992\n",
      "[200]\tvalidation_0-auc:0.99994\n",
      "[300]\tvalidation_0-auc:0.99995\n",
      "[301]\tvalidation_0-auc:0.99995\n",
      "[0]\tvalidation_0-auc:0.99298\n",
      "[100]\tvalidation_0-auc:0.99991\n",
      "[200]\tvalidation_0-auc:0.99993\n",
      "[300]\tvalidation_0-auc:0.99994\n",
      "[400]\tvalidation_0-auc:0.99994\n",
      "[461]\tvalidation_0-auc:0.99994\n",
      "[0]\tvalidation_0-auc:0.99282\n",
      "[100]\tvalidation_0-auc:0.99991\n",
      "[200]\tvalidation_0-auc:0.99993\n",
      "[300]\tvalidation_0-auc:0.99993\n",
      "[310]\tvalidation_0-auc:0.99993\n",
      "[0]\tvalidation_0-auc:0.99268\n",
      "[100]\tvalidation_0-auc:0.99993\n",
      "[200]\tvalidation_0-auc:0.99994\n",
      "[281]\tvalidation_0-auc:0.99995\n"
     ]
    },
    {
     "name": "stderr",
     "output_type": "stream",
     "text": [
      "\u001b[32m[I 2023-01-13 17:03:20,212]\u001b[0m Trial 2 finished with value: 0.9999412917750125 and parameters: {'max_depth': 6, 'colsample_bytree': 0.5427968629811853, 'subsample': 0.46539656992514783, 'alpha': 0.013301454152750851, 'lambda': 6.726178651310487e-06, 'gamma': 0.00012451283468186048, 'min_child_weight': 1.8708369579687019}. Best is trial 2 with value: 0.9999412917750125.\u001b[0m\n"
     ]
    },
    {
     "name": "stdout",
     "output_type": "stream",
     "text": [
      "train auc score = 0.9999838581257869\n",
      "test auc score = 0.9999412917750125\n",
      "[0]\tvalidation_0-auc:0.99234\n",
      "[100]\tvalidation_0-auc:0.99992\n",
      "[200]\tvalidation_0-auc:0.99994\n",
      "[300]\tvalidation_0-auc:0.99994\n",
      "[400]\tvalidation_0-auc:0.99994\n",
      "[495]\tvalidation_0-auc:0.99994\n",
      "[0]\tvalidation_0-auc:0.99296\n",
      "[100]\tvalidation_0-auc:0.99993\n",
      "[200]\tvalidation_0-auc:0.99994\n",
      "[300]\tvalidation_0-auc:0.99994\n",
      "[400]\tvalidation_0-auc:0.99995\n",
      "[500]\tvalidation_0-auc:0.99995\n",
      "[560]\tvalidation_0-auc:0.99995\n",
      "[0]\tvalidation_0-auc:0.99197\n",
      "[100]\tvalidation_0-auc:0.99992\n",
      "[200]\tvalidation_0-auc:0.99993\n",
      "[300]\tvalidation_0-auc:0.99993\n",
      "[302]\tvalidation_0-auc:0.99993\n",
      "[0]\tvalidation_0-auc:0.99227\n",
      "[100]\tvalidation_0-auc:0.99992\n",
      "[200]\tvalidation_0-auc:0.99993\n",
      "[300]\tvalidation_0-auc:0.99993\n",
      "[400]\tvalidation_0-auc:0.99994\n",
      "[493]\tvalidation_0-auc:0.99994\n",
      "[0]\tvalidation_0-auc:0.99254\n",
      "[100]\tvalidation_0-auc:0.99994\n",
      "[200]\tvalidation_0-auc:0.99995\n",
      "[300]\tvalidation_0-auc:0.99995\n",
      "[354]\tvalidation_0-auc:0.99995\n"
     ]
    },
    {
     "name": "stderr",
     "output_type": "stream",
     "text": [
      "\u001b[32m[I 2023-01-13 17:04:12,597]\u001b[0m Trial 3 finished with value: 0.99994173854006 and parameters: {'max_depth': 19, 'colsample_bytree': 0.5910466148354442, 'subsample': 0.7052109157927341, 'alpha': 8.18478262616044, 'lambda': 1.2212075597709385e-07, 'gamma': 0.0005663836833136305, 'min_child_weight': 2.0817852270108634}. Best is trial 3 with value: 0.99994173854006.\u001b[0m\n"
     ]
    },
    {
     "name": "stdout",
     "output_type": "stream",
     "text": [
      "train auc score = 0.9999826837275074\n",
      "test auc score = 0.99994173854006\n",
      "[0]\tvalidation_0-auc:0.99818\n",
      "[100]\tvalidation_0-auc:0.99993\n",
      "[200]\tvalidation_0-auc:0.99994\n",
      "[300]\tvalidation_0-auc:0.99994\n",
      "[370]\tvalidation_0-auc:0.99994\n",
      "[0]\tvalidation_0-auc:0.99883\n",
      "[100]\tvalidation_0-auc:0.99994\n",
      "[200]\tvalidation_0-auc:0.99995\n",
      "[272]\tvalidation_0-auc:0.99995\n",
      "[0]\tvalidation_0-auc:0.99845\n",
      "[100]\tvalidation_0-auc:0.99994\n",
      "[200]\tvalidation_0-auc:0.99995\n",
      "[300]\tvalidation_0-auc:0.99995\n",
      "[306]\tvalidation_0-auc:0.99995\n",
      "[0]\tvalidation_0-auc:0.99860\n",
      "[100]\tvalidation_0-auc:0.99993\n",
      "[200]\tvalidation_0-auc:0.99994\n",
      "[300]\tvalidation_0-auc:0.99994\n",
      "[400]\tvalidation_0-auc:0.99995\n",
      "[421]\tvalidation_0-auc:0.99995\n",
      "[0]\tvalidation_0-auc:0.99852\n",
      "[100]\tvalidation_0-auc:0.99994\n",
      "[200]\tvalidation_0-auc:0.99995\n",
      "[262]\tvalidation_0-auc:0.99995\n"
     ]
    },
    {
     "name": "stderr",
     "output_type": "stream",
     "text": [
      "\u001b[32m[I 2023-01-13 17:04:57,700]\u001b[0m Trial 4 finished with value: 0.9999460067410115 and parameters: {'max_depth': 18, 'colsample_bytree': 0.5288935238333826, 'subsample': 0.8341593239584789, 'alpha': 0.03266131502587153, 'lambda': 0.0009139013628756416, 'gamma': 0.2194424311105434, 'min_child_weight': 9.684535714238846}. Best is trial 4 with value: 0.9999460067410115.\u001b[0m\n"
     ]
    },
    {
     "name": "stdout",
     "output_type": "stream",
     "text": [
      "train auc score = 0.9999937636562226\n",
      "test auc score = 0.9999460067410115\n",
      "[0]\tvalidation_0-auc:0.98940\n"
     ]
    },
    {
     "name": "stderr",
     "output_type": "stream",
     "text": [
      "\u001b[32m[I 2023-01-13 17:04:59,104]\u001b[0m Trial 5 pruned. Trial was pruned at iteration 0.\u001b[0m\n"
     ]
    },
    {
     "name": "stdout",
     "output_type": "stream",
     "text": [
      "[0]\tvalidation_0-auc:0.99775\n",
      "[100]\tvalidation_0-auc:0.99994\n",
      "[200]\tvalidation_0-auc:0.99994\n",
      "[300]\tvalidation_0-auc:0.99994\n",
      "[325]\tvalidation_0-auc:0.99994\n",
      "[0]\tvalidation_0-auc:0.99776\n",
      "[100]\tvalidation_0-auc:0.99994\n",
      "[200]\tvalidation_0-auc:0.99995\n",
      "[297]\tvalidation_0-auc:0.99995\n",
      "[0]\tvalidation_0-auc:0.99788\n",
      "[100]\tvalidation_0-auc:0.99994\n",
      "[200]\tvalidation_0-auc:0.99995\n",
      "[231]\tvalidation_0-auc:0.99995\n",
      "[0]\tvalidation_0-auc:0.99770\n",
      "[100]\tvalidation_0-auc:0.99994\n",
      "[200]\tvalidation_0-auc:0.99995\n",
      "[300]\tvalidation_0-auc:0.99995\n",
      "[376]\tvalidation_0-auc:0.99995\n",
      "[0]\tvalidation_0-auc:0.99712\n",
      "[100]\tvalidation_0-auc:0.99995\n",
      "[200]\tvalidation_0-auc:0.99995\n",
      "[208]\tvalidation_0-auc:0.99995\n",
      "train auc score = 0.9999972643609046\n",
      "test auc score = 0.9999473090314621\n"
     ]
    },
    {
     "name": "stderr",
     "output_type": "stream",
     "text": [
      "\u001b[32m[I 2023-01-13 17:05:43,866]\u001b[0m Trial 6 finished with value: 0.9999473090314621 and parameters: {'max_depth': 15, 'colsample_bytree': 0.6626481227501869, 'subsample': 0.7317680982671864, 'alpha': 1.7689622394144549, 'lambda': 0.7228276873287288, 'gamma': 0.0014896306800783836, 'min_child_weight': 2.739621176614222}. Best is trial 6 with value: 0.9999473090314621.\u001b[0m\n",
      "\u001b[32m[I 2023-01-13 17:05:45,235]\u001b[0m Trial 7 pruned. Trial was pruned at iteration 0.\u001b[0m\n"
     ]
    },
    {
     "name": "stdout",
     "output_type": "stream",
     "text": [
      "[0]\tvalidation_0-auc:0.99444\n"
     ]
    },
    {
     "name": "stderr",
     "output_type": "stream",
     "text": [
      "\u001b[32m[I 2023-01-13 17:05:46,786]\u001b[0m Trial 8 pruned. Trial was pruned at iteration 0.\u001b[0m\n"
     ]
    },
    {
     "name": "stdout",
     "output_type": "stream",
     "text": [
      "[0]\tvalidation_0-auc:0.99691\n"
     ]
    },
    {
     "name": "stderr",
     "output_type": "stream",
     "text": [
      "\u001b[32m[I 2023-01-13 17:05:48,391]\u001b[0m Trial 9 pruned. Trial was pruned at iteration 0.\u001b[0m\n",
      "\u001b[32m[I 2023-01-13 17:05:49,858]\u001b[0m Trial 10 pruned. Trial was pruned at iteration 0.\u001b[0m\n"
     ]
    },
    {
     "name": "stdout",
     "output_type": "stream",
     "text": [
      "[0]\tvalidation_0-auc:0.99809\n",
      "[100]\tvalidation_0-auc:0.99993\n",
      "[200]\tvalidation_0-auc:0.99994\n"
     ]
    },
    {
     "name": "stderr",
     "output_type": "stream",
     "text": [
      "\u001b[32m[I 2023-01-13 17:05:53,956]\u001b[0m Trial 11 pruned. Trial was pruned at iteration 241.\u001b[0m\n"
     ]
    },
    {
     "name": "stdout",
     "output_type": "stream",
     "text": [
      "[0]\tvalidation_0-auc:0.99747\n",
      "[100]\tvalidation_0-auc:0.99993\n",
      "[200]\tvalidation_0-auc:0.99994\n",
      "[293]\tvalidation_0-auc:0.99994\n",
      "[0]\tvalidation_0-auc:0.99811\n",
      "[100]\tvalidation_0-auc:0.99994\n",
      "[200]\tvalidation_0-auc:0.99995\n",
      "[300]\tvalidation_0-auc:0.99995\n",
      "[320]\tvalidation_0-auc:0.99995\n",
      "[0]\tvalidation_0-auc:0.99482\n",
      "[100]\tvalidation_0-auc:0.99993\n",
      "[200]\tvalidation_0-auc:0.99994\n",
      "[277]\tvalidation_0-auc:0.99994\n",
      "[0]\tvalidation_0-auc:0.99806\n",
      "[100]\tvalidation_0-auc:0.99993\n",
      "[200]\tvalidation_0-auc:0.99994\n",
      "[300]\tvalidation_0-auc:0.99994\n",
      "[341]\tvalidation_0-auc:0.99994\n",
      "[0]\tvalidation_0-auc:0.99775\n",
      "[100]\tvalidation_0-auc:0.99994\n",
      "[200]\tvalidation_0-auc:0.99994\n",
      "[300]\tvalidation_0-auc:0.99995\n",
      "[352]\tvalidation_0-auc:0.99995\n"
     ]
    },
    {
     "name": "stderr",
     "output_type": "stream",
     "text": [
      "\u001b[32m[I 2023-01-13 17:06:34,635]\u001b[0m Trial 12 finished with value: 0.9999440327078787 and parameters: {'max_depth': 16, 'colsample_bytree': 0.5012013227686142, 'subsample': 0.8024237092830613, 'alpha': 2.416365196298028, 'lambda': 0.02153122472136506, 'gamma': 0.05181718402486975, 'min_child_weight': 8.155679001622072}. Best is trial 6 with value: 0.9999473090314621.\u001b[0m\n"
     ]
    },
    {
     "name": "stdout",
     "output_type": "stream",
     "text": [
      "train auc score = 0.9999912807825195\n",
      "test auc score = 0.9999440327078787\n"
     ]
    },
    {
     "name": "stderr",
     "output_type": "stream",
     "text": [
      "\u001b[32m[I 2023-01-13 17:06:36,053]\u001b[0m Trial 13 pruned. Trial was pruned at iteration 0.\u001b[0m\n"
     ]
    },
    {
     "name": "stdout",
     "output_type": "stream",
     "text": [
      "[0]\tvalidation_0-auc:0.99778\n",
      "[100]\tvalidation_0-auc:0.99993\n",
      "[200]\tvalidation_0-auc:0.99994\n",
      "[300]\tvalidation_0-auc:0.99994\n",
      "[305]\tvalidation_0-auc:0.99994\n",
      "[0]\tvalidation_0-auc:0.99792\n",
      "[100]\tvalidation_0-auc:0.99994\n",
      "[200]\tvalidation_0-auc:0.99995\n",
      "[209]\tvalidation_0-auc:0.99995\n",
      "[0]\tvalidation_0-auc:0.99803\n",
      "[100]\tvalidation_0-auc:0.99993\n",
      "[200]\tvalidation_0-auc:0.99995\n",
      "[261]\tvalidation_0-auc:0.99995\n",
      "[0]\tvalidation_0-auc:0.99783\n",
      "[100]\tvalidation_0-auc:0.99994\n",
      "[200]\tvalidation_0-auc:0.99995\n",
      "[300]\tvalidation_0-auc:0.99995\n",
      "[322]\tvalidation_0-auc:0.99995\n",
      "[0]\tvalidation_0-auc:0.99705\n",
      "[100]\tvalidation_0-auc:0.99995\n",
      "[180]\tvalidation_0-auc:0.99995\n"
     ]
    },
    {
     "name": "stderr",
     "output_type": "stream",
     "text": [
      "\u001b[32m[I 2023-01-13 17:07:12,628]\u001b[0m Trial 14 finished with value: 0.9999471295331862 and parameters: {'max_depth': 12, 'colsample_bytree': 0.6573554978201793, 'subsample': 0.681907862185061, 'alpha': 1.223923081502377, 'lambda': 1.5517833386617356e-05, 'gamma': 0.006525331525118953, 'min_child_weight': 3.5354444193647145}. Best is trial 6 with value: 0.9999473090314621.\u001b[0m\n"
     ]
    },
    {
     "name": "stdout",
     "output_type": "stream",
     "text": [
      "train auc score = 0.9999953869388607\n",
      "test auc score = 0.9999471295331862\n",
      "[0]\tvalidation_0-auc:0.99781\n",
      "[100]\tvalidation_0-auc:0.99993\n",
      "[200]\tvalidation_0-auc:0.99994\n",
      "[267]\tvalidation_0-auc:0.99994\n",
      "[0]\tvalidation_0-auc:0.99805\n",
      "[100]\tvalidation_0-auc:0.99994\n",
      "[196]\tvalidation_0-auc:0.99995\n",
      "[0]\tvalidation_0-auc:0.99786\n",
      "[100]\tvalidation_0-auc:0.99994\n",
      "[200]\tvalidation_0-auc:0.99994\n",
      "[261]\tvalidation_0-auc:0.99994\n",
      "[0]\tvalidation_0-auc:0.99780\n",
      "[100]\tvalidation_0-auc:0.99994\n",
      "[200]\tvalidation_0-auc:0.99994\n",
      "[271]\tvalidation_0-auc:0.99994\n",
      "[0]\tvalidation_0-auc:0.99730\n",
      "[100]\tvalidation_0-auc:0.99995\n",
      "[200]\tvalidation_0-auc:0.99995\n",
      "[232]\tvalidation_0-auc:0.99995\n"
     ]
    },
    {
     "name": "stderr",
     "output_type": "stream",
     "text": [
      "\u001b[32m[I 2023-01-13 17:07:49,011]\u001b[0m Trial 15 finished with value: 0.9999454533380356 and parameters: {'max_depth': 13, 'colsample_bytree': 0.650672444536011, 'subsample': 0.5455275808345575, 'alpha': 1.0181027395487083, 'lambda': 7.951006420766675e-06, 'gamma': 0.003141952244296844, 'min_child_weight': 3.3114355228936807}. Best is trial 6 with value: 0.9999473090314621.\u001b[0m\n"
     ]
    },
    {
     "name": "stdout",
     "output_type": "stream",
     "text": [
      "train auc score = 0.9999956144598556\n",
      "test auc score = 0.9999454533380356\n",
      "[0]\tvalidation_0-auc:0.99234\n"
     ]
    },
    {
     "name": "stderr",
     "output_type": "stream",
     "text": [
      "\u001b[32m[I 2023-01-13 17:07:50,441]\u001b[0m Trial 16 pruned. Trial was pruned at iteration 0.\u001b[0m\n",
      "\u001b[32m[I 2023-01-13 17:07:52,006]\u001b[0m Trial 17 pruned. Trial was pruned at iteration 0.\u001b[0m\n"
     ]
    },
    {
     "name": "stdout",
     "output_type": "stream",
     "text": [
      "[0]\tvalidation_0-auc:0.99787\n"
     ]
    },
    {
     "name": "stderr",
     "output_type": "stream",
     "text": [
      "\u001b[32m[I 2023-01-13 17:07:54,022]\u001b[0m Trial 18 pruned. Trial was pruned at iteration 38.\u001b[0m\n"
     ]
    },
    {
     "name": "stdout",
     "output_type": "stream",
     "text": [
      "[0]\tvalidation_0-auc:0.99802\n",
      "[100]\tvalidation_0-auc:0.99993\n",
      "[200]\tvalidation_0-auc:0.99994\n",
      "[282]\tvalidation_0-auc:0.99994\n",
      "[0]\tvalidation_0-auc:0.99828\n",
      "[100]\tvalidation_0-auc:0.99994\n",
      "[200]\tvalidation_0-auc:0.99995\n",
      "[261]\tvalidation_0-auc:0.99995\n",
      "[0]\tvalidation_0-auc:0.99829\n",
      "[100]\tvalidation_0-auc:0.99993\n",
      "[200]\tvalidation_0-auc:0.99994\n",
      "[271]\tvalidation_0-auc:0.99995\n",
      "[0]\tvalidation_0-auc:0.99842\n",
      "[100]\tvalidation_0-auc:0.99994\n",
      "[200]\tvalidation_0-auc:0.99995\n",
      "[300]\tvalidation_0-auc:0.99995\n",
      "[389]\tvalidation_0-auc:0.99995\n",
      "[0]\tvalidation_0-auc:0.99824\n",
      "[100]\tvalidation_0-auc:0.99994\n",
      "[185]\tvalidation_0-auc:0.99995\n"
     ]
    },
    {
     "name": "stderr",
     "output_type": "stream",
     "text": [
      "\u001b[32m[I 2023-01-13 17:08:31,170]\u001b[0m Trial 19 finished with value: 0.999946825252443 and parameters: {'max_depth': 11, 'colsample_bytree': 0.7592352174915721, 'subsample': 0.6231653337736847, 'alpha': 0.18493117421139493, 'lambda': 6.718405237916993e-05, 'gamma': 2.207541307316518e-05, 'min_child_weight': 3.866443375889801}. Best is trial 6 with value: 0.9999473090314621.\u001b[0m\n"
     ]
    },
    {
     "name": "stdout",
     "output_type": "stream",
     "text": [
      "train auc score = 0.9999961060059454\n",
      "test auc score = 0.999946825252443\n",
      "[0]\tvalidation_0-auc:0.99721\n"
     ]
    },
    {
     "name": "stderr",
     "output_type": "stream",
     "text": [
      "\u001b[32m[I 2023-01-13 17:08:32,602]\u001b[0m Trial 20 pruned. Trial was pruned at iteration 0.\u001b[0m\n"
     ]
    },
    {
     "name": "stdout",
     "output_type": "stream",
     "text": [
      "[0]\tvalidation_0-auc:0.99805\n",
      "[100]\tvalidation_0-auc:0.99993\n"
     ]
    },
    {
     "name": "stderr",
     "output_type": "stream",
     "text": [
      "\u001b[32m[I 2023-01-13 17:08:35,965]\u001b[0m Trial 21 pruned. Trial was pruned at iteration 114.\u001b[0m\n"
     ]
    },
    {
     "name": "stdout",
     "output_type": "stream",
     "text": [
      "[0]\tvalidation_0-auc:0.99771\n"
     ]
    },
    {
     "name": "stderr",
     "output_type": "stream",
     "text": [
      "\u001b[32m[I 2023-01-13 17:08:37,467]\u001b[0m Trial 22 pruned. Trial was pruned at iteration 2.\u001b[0m\n"
     ]
    },
    {
     "name": "stdout",
     "output_type": "stream",
     "text": [
      "[0]\tvalidation_0-auc:0.99859\n"
     ]
    },
    {
     "name": "stderr",
     "output_type": "stream",
     "text": [
      "\u001b[32m[I 2023-01-13 17:08:39,155]\u001b[0m Trial 23 pruned. Trial was pruned at iteration 1.\u001b[0m\n"
     ]
    },
    {
     "name": "stdout",
     "output_type": "stream",
     "text": [
      "[0]\tvalidation_0-auc:0.99786\n"
     ]
    },
    {
     "name": "stderr",
     "output_type": "stream",
     "text": [
      "\u001b[32m[I 2023-01-13 17:08:40,958]\u001b[0m Trial 24 pruned. Trial was pruned at iteration 19.\u001b[0m\n"
     ]
    },
    {
     "name": "stdout",
     "output_type": "stream",
     "text": [
      "[0]\tvalidation_0-auc:0.99774\n"
     ]
    },
    {
     "name": "stderr",
     "output_type": "stream",
     "text": [
      "\u001b[32m[I 2023-01-13 17:08:42,693]\u001b[0m Trial 25 pruned. Trial was pruned at iteration 19.\u001b[0m\n"
     ]
    },
    {
     "name": "stdout",
     "output_type": "stream",
     "text": [
      "[0]\tvalidation_0-auc:0.99816\n"
     ]
    },
    {
     "name": "stderr",
     "output_type": "stream",
     "text": [
      "\u001b[32m[I 2023-01-13 17:08:44,523]\u001b[0m Trial 26 pruned. Trial was pruned at iteration 2.\u001b[0m\n"
     ]
    },
    {
     "name": "stdout",
     "output_type": "stream",
     "text": [
      "[0]\tvalidation_0-auc:0.99236\n"
     ]
    },
    {
     "name": "stderr",
     "output_type": "stream",
     "text": [
      "\u001b[32m[I 2023-01-13 17:08:46,001]\u001b[0m Trial 27 pruned. Trial was pruned at iteration 0.\u001b[0m\n"
     ]
    },
    {
     "name": "stdout",
     "output_type": "stream",
     "text": [
      "[0]\tvalidation_0-auc:0.99808\n",
      "[100]\tvalidation_0-auc:0.99993\n",
      "[200]\tvalidation_0-auc:0.99994\n",
      "[268]\tvalidation_0-auc:0.99994\n",
      "[0]\tvalidation_0-auc:0.99862\n",
      "[100]\tvalidation_0-auc:0.99994\n",
      "[200]\tvalidation_0-auc:0.99994\n",
      "[300]\tvalidation_0-auc:0.99995\n",
      "[347]\tvalidation_0-auc:0.99995\n",
      "[0]\tvalidation_0-auc:0.99863\n",
      "[100]\tvalidation_0-auc:0.99993\n",
      "[200]\tvalidation_0-auc:0.99994\n",
      "[294]\tvalidation_0-auc:0.99994\n",
      "[0]\tvalidation_0-auc:0.99824\n",
      "[100]\tvalidation_0-auc:0.99993\n",
      "[200]\tvalidation_0-auc:0.99994\n",
      "[300]\tvalidation_0-auc:0.99994\n",
      "[400]\tvalidation_0-auc:0.99994\n",
      "[471]\tvalidation_0-auc:0.99994\n",
      "[0]\tvalidation_0-auc:0.99794\n",
      "[100]\tvalidation_0-auc:0.99994\n",
      "[200]\tvalidation_0-auc:0.99995\n",
      "[277]\tvalidation_0-auc:0.99995\n"
     ]
    },
    {
     "name": "stderr",
     "output_type": "stream",
     "text": [
      "\u001b[32m[I 2023-01-13 17:09:40,352]\u001b[0m Trial 28 finished with value: 0.9999438541175119 and parameters: {'max_depth': 20, 'colsample_bytree': 0.6369944816976199, 'subsample': 0.9497200665402359, 'alpha': 0.3333143068458044, 'lambda': 1.9414352155244024e-06, 'gamma': 4.035273418814383e-08, 'min_child_weight': 13.718187457942632}. Best is trial 6 with value: 0.9999473090314621.\u001b[0m\n"
     ]
    },
    {
     "name": "stdout",
     "output_type": "stream",
     "text": [
      "train auc score = 0.9999916788350873\n",
      "test auc score = 0.9999438541175119\n"
     ]
    },
    {
     "name": "stderr",
     "output_type": "stream",
     "text": [
      "\u001b[32m[I 2023-01-13 17:09:41,807]\u001b[0m Trial 29 pruned. Trial was pruned at iteration 0.\u001b[0m\n"
     ]
    },
    {
     "name": "stdout",
     "output_type": "stream",
     "text": [
      "[0]\tvalidation_0-auc:0.99828\n",
      "[100]\tvalidation_0-auc:0.99994\n",
      "[195]\tvalidation_0-auc:0.99994\n",
      "[0]\tvalidation_0-auc:0.99852\n",
      "[100]\tvalidation_0-auc:0.99994\n",
      "[200]\tvalidation_0-auc:0.99995\n",
      "[240]\tvalidation_0-auc:0.99995\n",
      "[0]\tvalidation_0-auc:0.99826\n",
      "[100]\tvalidation_0-auc:0.99994\n",
      "[200]\tvalidation_0-auc:0.99995\n",
      "[231]\tvalidation_0-auc:0.99995\n",
      "[0]\tvalidation_0-auc:0.99853\n",
      "[100]\tvalidation_0-auc:0.99994\n",
      "[176]\tvalidation_0-auc:0.99995\n",
      "[0]\tvalidation_0-auc:0.99812\n",
      "[100]\tvalidation_0-auc:0.99994\n",
      "[171]\tvalidation_0-auc:0.99995\n"
     ]
    },
    {
     "name": "stderr",
     "output_type": "stream",
     "text": [
      "\u001b[32m[I 2023-01-13 17:10:16,267]\u001b[0m Trial 30 finished with value: 0.9999465638786539 and parameters: {'max_depth': 12, 'colsample_bytree': 0.7386250561568931, 'subsample': 0.6703775782869427, 'alpha': 0.07094310557691727, 'lambda': 0.07001223750091608, 'gamma': 0.005674601164955749, 'min_child_weight': 2.628829647914408}. Best is trial 6 with value: 0.9999473090314621.\u001b[0m\n"
     ]
    },
    {
     "name": "stdout",
     "output_type": "stream",
     "text": [
      "train auc score = 0.9999969793691623\n",
      "test auc score = 0.9999465638786539\n",
      "[0]\tvalidation_0-auc:0.99820\n",
      "[100]\tvalidation_0-auc:0.99994\n",
      "[169]\tvalidation_0-auc:0.99994\n",
      "[0]\tvalidation_0-auc:0.99856\n",
      "[100]\tvalidation_0-auc:0.99994\n",
      "[200]\tvalidation_0-auc:0.99995\n",
      "[298]\tvalidation_0-auc:0.99995\n",
      "[0]\tvalidation_0-auc:0.99836\n",
      "[100]\tvalidation_0-auc:0.99994\n",
      "[200]\tvalidation_0-auc:0.99995\n",
      "[277]\tvalidation_0-auc:0.99995\n",
      "[0]\tvalidation_0-auc:0.99830\n",
      "[100]\tvalidation_0-auc:0.99994\n",
      "[200]\tvalidation_0-auc:0.99995\n",
      "[221]\tvalidation_0-auc:0.99995\n",
      "[0]\tvalidation_0-auc:0.99814\n",
      "[100]\tvalidation_0-auc:0.99994\n",
      "[200]\tvalidation_0-auc:0.99994\n",
      "[221]\tvalidation_0-auc:0.99994\n"
     ]
    },
    {
     "name": "stderr",
     "output_type": "stream",
     "text": [
      "\u001b[32m[I 2023-01-13 17:10:56,405]\u001b[0m Trial 31 finished with value: 0.9999475719046893 and parameters: {'max_depth': 12, 'colsample_bytree': 0.688846439264572, 'subsample': 0.6698700909755712, 'alpha': 0.09296353701884368, 'lambda': 0.10127562896354071, 'gamma': 0.007011492688215339, 'min_child_weight': 1.5554727955017271}. Best is trial 31 with value: 0.9999475719046893.\u001b[0m\n"
     ]
    },
    {
     "name": "stdout",
     "output_type": "stream",
     "text": [
      "train auc score = 0.9999992381464047\n",
      "test auc score = 0.9999475719046893\n",
      "[0]\tvalidation_0-auc:0.99770\n"
     ]
    },
    {
     "name": "stderr",
     "output_type": "stream",
     "text": [
      "\u001b[32m[I 2023-01-13 17:10:57,826]\u001b[0m Trial 32 pruned. Trial was pruned at iteration 0.\u001b[0m\n"
     ]
    },
    {
     "name": "stdout",
     "output_type": "stream",
     "text": [
      "[0]\tvalidation_0-auc:0.99693\n"
     ]
    },
    {
     "name": "stderr",
     "output_type": "stream",
     "text": [
      "\u001b[32m[I 2023-01-13 17:10:59,365]\u001b[0m Trial 33 pruned. Trial was pruned at iteration 0.\u001b[0m\n"
     ]
    },
    {
     "name": "stdout",
     "output_type": "stream",
     "text": [
      "[0]\tvalidation_0-auc:0.99298\n"
     ]
    },
    {
     "name": "stderr",
     "output_type": "stream",
     "text": [
      "\u001b[32m[I 2023-01-13 17:11:00,807]\u001b[0m Trial 34 pruned. Trial was pruned at iteration 0.\u001b[0m\n"
     ]
    },
    {
     "name": "stdout",
     "output_type": "stream",
     "text": [
      "[0]\tvalidation_0-auc:0.99790\n"
     ]
    },
    {
     "name": "stderr",
     "output_type": "stream",
     "text": [
      "\u001b[32m[I 2023-01-13 17:11:02,350]\u001b[0m Trial 35 pruned. Trial was pruned at iteration 1.\u001b[0m\n"
     ]
    },
    {
     "name": "stdout",
     "output_type": "stream",
     "text": [
      "[0]\tvalidation_0-auc:0.99788\n"
     ]
    },
    {
     "name": "stderr",
     "output_type": "stream",
     "text": [
      "\u001b[32m[I 2023-01-13 17:11:04,492]\u001b[0m Trial 36 pruned. Trial was pruned at iteration 29.\u001b[0m\n",
      "\u001b[32m[I 2023-01-13 17:11:05,939]\u001b[0m Trial 37 pruned. Trial was pruned at iteration 0.\u001b[0m\n",
      "\u001b[32m[I 2023-01-13 17:11:07,696]\u001b[0m Trial 38 pruned. Trial was pruned at iteration 0.\u001b[0m\n"
     ]
    },
    {
     "name": "stdout",
     "output_type": "stream",
     "text": [
      "[0]\tvalidation_0-auc:0.99812\n",
      "[100]\tvalidation_0-auc:0.99994\n",
      "[200]\tvalidation_0-auc:0.99994\n",
      "[239]\tvalidation_0-auc:0.99994\n",
      "[0]\tvalidation_0-auc:0.99831\n",
      "[100]\tvalidation_0-auc:0.99995\n",
      "[200]\tvalidation_0-auc:0.99995\n",
      "[206]\tvalidation_0-auc:0.99995\n",
      "[0]\tvalidation_0-auc:0.99849\n",
      "[100]\tvalidation_0-auc:0.99994\n",
      "[200]\tvalidation_0-auc:0.99995\n",
      "[235]\tvalidation_0-auc:0.99995\n",
      "[0]\tvalidation_0-auc:0.99816\n",
      "[100]\tvalidation_0-auc:0.99994\n",
      "[200]\tvalidation_0-auc:0.99995\n",
      "[300]\tvalidation_0-auc:0.99995\n",
      "[342]\tvalidation_0-auc:0.99995\n",
      "[0]\tvalidation_0-auc:0.99801\n",
      "[100]\tvalidation_0-auc:0.99994\n",
      "[173]\tvalidation_0-auc:0.99995\n"
     ]
    },
    {
     "name": "stderr",
     "output_type": "stream",
     "text": [
      "\u001b[32m[I 2023-01-13 17:11:52,251]\u001b[0m Trial 39 finished with value: 0.9999474293705062 and parameters: {'max_depth': 14, 'colsample_bytree': 0.5705119049243887, 'subsample': 0.8994614775370642, 'alpha': 0.5019759014102544, 'lambda': 3.3471985407504603e-06, 'gamma': 0.08293843300423241, 'min_child_weight': 1.548970325883436}. Best is trial 31 with value: 0.9999475719046893.\u001b[0m\n"
     ]
    },
    {
     "name": "stdout",
     "output_type": "stream",
     "text": [
      "train auc score = 0.9999996935115589\n",
      "test auc score = 0.9999474293705062\n",
      "[0]\tvalidation_0-auc:0.99791\n",
      "[100]\tvalidation_0-auc:0.99994\n"
     ]
    },
    {
     "name": "stderr",
     "output_type": "stream",
     "text": [
      "\u001b[32m[I 2023-01-13 17:11:56,680]\u001b[0m Trial 40 pruned. Trial was pruned at iteration 189.\u001b[0m\n"
     ]
    },
    {
     "name": "stdout",
     "output_type": "stream",
     "text": [
      "[0]\tvalidation_0-auc:0.99790\n",
      "[100]\tvalidation_0-auc:0.99994\n",
      "[179]\tvalidation_0-auc:0.99994\n",
      "[0]\tvalidation_0-auc:0.99839\n",
      "[100]\tvalidation_0-auc:0.99995\n",
      "[197]\tvalidation_0-auc:0.99995\n",
      "[0]\tvalidation_0-auc:0.99822\n",
      "[100]\tvalidation_0-auc:0.99994\n",
      "[199]\tvalidation_0-auc:0.99995\n",
      "[0]\tvalidation_0-auc:0.99802\n",
      "[100]\tvalidation_0-auc:0.99994\n",
      "[200]\tvalidation_0-auc:0.99995\n",
      "[210]\tvalidation_0-auc:0.99995\n",
      "[0]\tvalidation_0-auc:0.99748\n",
      "[100]\tvalidation_0-auc:0.99994\n",
      "[179]\tvalidation_0-auc:0.99995\n"
     ]
    },
    {
     "name": "stderr",
     "output_type": "stream",
     "text": [
      "\u001b[32m[I 2023-01-13 17:12:33,247]\u001b[0m Trial 41 finished with value: 0.9999475268708231 and parameters: {'max_depth': 14, 'colsample_bytree': 0.6900149859338578, 'subsample': 0.7816894283981414, 'alpha': 0.7535170077555602, 'lambda': 3.040834909795729e-06, 'gamma': 0.07251399985203678, 'min_child_weight': 2.0734696622812208}. Best is trial 31 with value: 0.9999475719046893.\u001b[0m\n"
     ]
    },
    {
     "name": "stdout",
     "output_type": "stream",
     "text": [
      "train auc score = 0.9999985962184151\n",
      "test auc score = 0.9999475268708231\n"
     ]
    },
    {
     "name": "stderr",
     "output_type": "stream",
     "text": [
      "\u001b[32m[I 2023-01-13 17:12:34,868]\u001b[0m Trial 42 pruned. Trial was pruned at iteration 0.\u001b[0m\n"
     ]
    },
    {
     "name": "stdout",
     "output_type": "stream",
     "text": [
      "[0]\tvalidation_0-auc:0.99800\n"
     ]
    },
    {
     "name": "stderr",
     "output_type": "stream",
     "text": [
      "\u001b[32m[I 2023-01-13 17:12:36,384]\u001b[0m Trial 43 pruned. Trial was pruned at iteration 1.\u001b[0m\n",
      "\u001b[32m[I 2023-01-13 17:12:38,024]\u001b[0m Trial 44 pruned. Trial was pruned at iteration 0.\u001b[0m\n"
     ]
    },
    {
     "name": "stdout",
     "output_type": "stream",
     "text": [
      "[0]\tvalidation_0-auc:0.99770\n"
     ]
    },
    {
     "name": "stderr",
     "output_type": "stream",
     "text": [
      "\u001b[32m[I 2023-01-13 17:12:39,499]\u001b[0m Trial 45 pruned. Trial was pruned at iteration 0.\u001b[0m\n",
      "\u001b[32m[I 2023-01-13 17:12:41,195]\u001b[0m Trial 46 pruned. Trial was pruned at iteration 0.\u001b[0m\n",
      "\u001b[32m[I 2023-01-13 17:12:42,615]\u001b[0m Trial 47 pruned. Trial was pruned at iteration 0.\u001b[0m\n"
     ]
    },
    {
     "name": "stdout",
     "output_type": "stream",
     "text": [
      "[0]\tvalidation_0-auc:0.99778\n"
     ]
    },
    {
     "name": "stderr",
     "output_type": "stream",
     "text": [
      "\u001b[32m[I 2023-01-13 17:12:44,113]\u001b[0m Trial 48 pruned. Trial was pruned at iteration 0.\u001b[0m\n"
     ]
    },
    {
     "name": "stdout",
     "output_type": "stream",
     "text": [
      "[0]\tvalidation_0-auc:0.98850\n"
     ]
    },
    {
     "name": "stderr",
     "output_type": "stream",
     "text": [
      "\u001b[32m[I 2023-01-13 17:12:45,763]\u001b[0m Trial 49 pruned. Trial was pruned at iteration 0.\u001b[0m\n"
     ]
    },
    {
     "name": "stdout",
     "output_type": "stream",
     "text": [
      "[0]\tvalidation_0-auc:0.99760\n"
     ]
    },
    {
     "name": "stderr",
     "output_type": "stream",
     "text": [
      "\u001b[32m[I 2023-01-13 17:12:47,197]\u001b[0m Trial 50 pruned. Trial was pruned at iteration 0.\u001b[0m\n"
     ]
    },
    {
     "name": "stdout",
     "output_type": "stream",
     "text": [
      "[0]\tvalidation_0-auc:0.99835\n",
      "[100]\tvalidation_0-auc:0.99994\n",
      "[200]\tvalidation_0-auc:0.99994\n",
      "[243]\tvalidation_0-auc:0.99994\n",
      "[0]\tvalidation_0-auc:0.99855\n",
      "[100]\tvalidation_0-auc:0.99994\n",
      "[197]\tvalidation_0-auc:0.99995\n",
      "[0]\tvalidation_0-auc:0.99819\n",
      "[100]\tvalidation_0-auc:0.99994\n",
      "[200]\tvalidation_0-auc:0.99994\n",
      "[210]\tvalidation_0-auc:0.99994\n",
      "[0]\tvalidation_0-auc:0.99830\n",
      "[100]\tvalidation_0-auc:0.99994\n",
      "[168]\tvalidation_0-auc:0.99994\n",
      "[0]\tvalidation_0-auc:0.99830\n",
      "[100]\tvalidation_0-auc:0.99995\n",
      "[182]\tvalidation_0-auc:0.99995\n"
     ]
    },
    {
     "name": "stderr",
     "output_type": "stream",
     "text": [
      "\u001b[32m[I 2023-01-13 17:13:22,021]\u001b[0m Trial 51 finished with value: 0.9999462939767438 and parameters: {'max_depth': 14, 'colsample_bytree': 0.6817732829678883, 'subsample': 0.7081016009858753, 'alpha': 0.21915299577875208, 'lambda': 7.150647209448802e-05, 'gamma': 0.00240773149733911, 'min_child_weight': 4.05182336470083}. Best is trial 31 with value: 0.9999475719046893.\u001b[0m\n"
     ]
    },
    {
     "name": "stdout",
     "output_type": "stream",
     "text": [
      "train auc score = 0.9999958040556501\n",
      "test auc score = 0.9999462939767438\n",
      "[0]\tvalidation_0-auc:0.99784\n"
     ]
    },
    {
     "name": "stderr",
     "output_type": "stream",
     "text": [
      "\u001b[32m[I 2023-01-13 17:13:23,471]\u001b[0m Trial 52 pruned. Trial was pruned at iteration 0.\u001b[0m\n"
     ]
    },
    {
     "name": "stdout",
     "output_type": "stream",
     "text": [
      "[0]\tvalidation_0-auc:0.99811\n"
     ]
    },
    {
     "name": "stderr",
     "output_type": "stream",
     "text": [
      "\u001b[32m[I 2023-01-13 17:13:25,130]\u001b[0m Trial 53 pruned. Trial was pruned at iteration 3.\u001b[0m\n"
     ]
    },
    {
     "name": "stdout",
     "output_type": "stream",
     "text": [
      "[0]\tvalidation_0-auc:0.99765\n"
     ]
    },
    {
     "name": "stderr",
     "output_type": "stream",
     "text": [
      "\u001b[32m[I 2023-01-13 17:13:26,826]\u001b[0m Trial 54 pruned. Trial was pruned at iteration 0.\u001b[0m\n"
     ]
    },
    {
     "name": "stdout",
     "output_type": "stream",
     "text": [
      "[0]\tvalidation_0-auc:0.99793\n"
     ]
    },
    {
     "name": "stderr",
     "output_type": "stream",
     "text": [
      "\u001b[32m[I 2023-01-13 17:13:28,344]\u001b[0m Trial 55 pruned. Trial was pruned at iteration 3.\u001b[0m\n"
     ]
    },
    {
     "name": "stdout",
     "output_type": "stream",
     "text": [
      "[0]\tvalidation_0-auc:0.99837\n"
     ]
    },
    {
     "name": "stderr",
     "output_type": "stream",
     "text": [
      "\u001b[32m[I 2023-01-13 17:13:31,912]\u001b[0m Trial 56 pruned. Trial was pruned at iteration 96.\u001b[0m\n"
     ]
    },
    {
     "name": "stdout",
     "output_type": "stream",
     "text": [
      "[0]\tvalidation_0-auc:0.99829\n",
      "[100]\tvalidation_0-auc:0.99994\n",
      "[200]\tvalidation_0-auc:0.99994\n",
      "[273]\tvalidation_0-auc:0.99994\n",
      "[0]\tvalidation_0-auc:0.99849\n",
      "[100]\tvalidation_0-auc:0.99995\n",
      "[200]\tvalidation_0-auc:0.99995\n",
      "[211]\tvalidation_0-auc:0.99995\n",
      "[0]\tvalidation_0-auc:0.99840\n",
      "[100]\tvalidation_0-auc:0.99994\n",
      "[200]\tvalidation_0-auc:0.99995\n",
      "[300]\tvalidation_0-auc:0.99995\n",
      "[304]\tvalidation_0-auc:0.99995\n",
      "[0]\tvalidation_0-auc:0.99856\n",
      "[100]\tvalidation_0-auc:0.99995\n",
      "[200]\tvalidation_0-auc:0.99995\n",
      "[216]\tvalidation_0-auc:0.99995\n",
      "[0]\tvalidation_0-auc:0.99830\n",
      "[100]\tvalidation_0-auc:0.99994\n",
      "[185]\tvalidation_0-auc:0.99995\n"
     ]
    },
    {
     "name": "stderr",
     "output_type": "stream",
     "text": [
      "\u001b[32m[I 2023-01-13 17:14:09,688]\u001b[0m Trial 57 finished with value: 0.9999481591739539 and parameters: {'max_depth': 12, 'colsample_bytree': 0.699247515957811, 'subsample': 0.8091192971706679, 'alpha': 0.1661085444282516, 'lambda': 4.959882301444989e-05, 'gamma': 5.914284356155615e-05, 'min_child_weight': 2.995577184079952}. Best is trial 57 with value: 0.9999481591739539.\u001b[0m\n"
     ]
    },
    {
     "name": "stdout",
     "output_type": "stream",
     "text": [
      "train auc score = 0.9999981593931073\n",
      "test auc score = 0.9999481591739539\n",
      "[0]\tvalidation_0-auc:0.99779\n"
     ]
    },
    {
     "name": "stderr",
     "output_type": "stream",
     "text": [
      "\u001b[32m[I 2023-01-13 17:14:11,130]\u001b[0m Trial 58 pruned. Trial was pruned at iteration 0.\u001b[0m\n"
     ]
    },
    {
     "name": "stdout",
     "output_type": "stream",
     "text": [
      "[0]\tvalidation_0-auc:0.99729\n"
     ]
    },
    {
     "name": "stderr",
     "output_type": "stream",
     "text": [
      "\u001b[32m[I 2023-01-13 17:14:12,595]\u001b[0m Trial 59 pruned. Trial was pruned at iteration 0.\u001b[0m\n"
     ]
    },
    {
     "name": "stdout",
     "output_type": "stream",
     "text": [
      "[0]\tvalidation_0-auc:0.99771\n"
     ]
    },
    {
     "name": "stderr",
     "output_type": "stream",
     "text": [
      "\u001b[32m[I 2023-01-13 17:14:14,241]\u001b[0m Trial 60 pruned. Trial was pruned at iteration 0.\u001b[0m\n"
     ]
    },
    {
     "name": "stdout",
     "output_type": "stream",
     "text": [
      "[0]\tvalidation_0-auc:0.99797\n",
      "[100]\tvalidation_0-auc:0.99994\n",
      "[200]\tvalidation_0-auc:0.99994\n",
      "[231]\tvalidation_0-auc:0.99994\n",
      "[0]\tvalidation_0-auc:0.99863\n",
      "[100]\tvalidation_0-auc:0.99994\n",
      "[200]\tvalidation_0-auc:0.99995\n",
      "[221]\tvalidation_0-auc:0.99995\n",
      "[0]\tvalidation_0-auc:0.99825\n",
      "[100]\tvalidation_0-auc:0.99994\n",
      "[200]\tvalidation_0-auc:0.99994\n",
      "[279]\tvalidation_0-auc:0.99994\n",
      "[0]\tvalidation_0-auc:0.99849\n",
      "[100]\tvalidation_0-auc:0.99994\n",
      "[200]\tvalidation_0-auc:0.99995\n",
      "[235]\tvalidation_0-auc:0.99995\n",
      "[0]\tvalidation_0-auc:0.99788\n",
      "[100]\tvalidation_0-auc:0.99995\n",
      "[200]\tvalidation_0-auc:0.99995\n",
      "[207]\tvalidation_0-auc:0.99995\n"
     ]
    },
    {
     "name": "stderr",
     "output_type": "stream",
     "text": [
      "\u001b[32m[I 2023-01-13 17:14:51,533]\u001b[0m Trial 61 finished with value: 0.9999464768954811 and parameters: {'max_depth': 12, 'colsample_bytree': 0.7496102635038058, 'subsample': 0.7581551336234484, 'alpha': 0.15261091318874642, 'lambda': 6.553005495433781e-05, 'gamma': 0.00018080070891917472, 'min_child_weight': 3.017062909501441}. Best is trial 57 with value: 0.9999481591739539.\u001b[0m\n"
     ]
    },
    {
     "name": "stdout",
     "output_type": "stream",
     "text": [
      "train auc score = 0.9999982669347137\n",
      "test auc score = 0.9999464768954811\n"
     ]
    },
    {
     "name": "stderr",
     "output_type": "stream",
     "text": [
      "\u001b[32m[I 2023-01-13 17:14:53,005]\u001b[0m Trial 62 pruned. Trial was pruned at iteration 0.\u001b[0m\n",
      "\u001b[32m[I 2023-01-13 17:14:54,632]\u001b[0m Trial 63 pruned. Trial was pruned at iteration 0.\u001b[0m\n"
     ]
    },
    {
     "name": "stdout",
     "output_type": "stream",
     "text": [
      "[0]\tvalidation_0-auc:0.99800\n"
     ]
    },
    {
     "name": "stderr",
     "output_type": "stream",
     "text": [
      "\u001b[32m[I 2023-01-13 17:14:56,206]\u001b[0m Trial 64 pruned. Trial was pruned at iteration 1.\u001b[0m\n"
     ]
    },
    {
     "name": "stdout",
     "output_type": "stream",
     "text": [
      "[0]\tvalidation_0-auc:0.99785\n"
     ]
    },
    {
     "name": "stderr",
     "output_type": "stream",
     "text": [
      "\u001b[32m[I 2023-01-13 17:14:57,928]\u001b[0m Trial 65 pruned. Trial was pruned at iteration 0.\u001b[0m\n"
     ]
    },
    {
     "name": "stdout",
     "output_type": "stream",
     "text": [
      "[0]\tvalidation_0-auc:0.99468\n"
     ]
    },
    {
     "name": "stderr",
     "output_type": "stream",
     "text": [
      "\u001b[32m[I 2023-01-13 17:14:59,369]\u001b[0m Trial 66 pruned. Trial was pruned at iteration 0.\u001b[0m\n"
     ]
    },
    {
     "name": "stdout",
     "output_type": "stream",
     "text": [
      "[0]\tvalidation_0-auc:0.99428\n"
     ]
    },
    {
     "name": "stderr",
     "output_type": "stream",
     "text": [
      "\u001b[32m[I 2023-01-13 17:15:00,820]\u001b[0m Trial 67 pruned. Trial was pruned at iteration 0.\u001b[0m\n"
     ]
    },
    {
     "name": "stdout",
     "output_type": "stream",
     "text": [
      "[0]\tvalidation_0-auc:0.99794\n"
     ]
    },
    {
     "name": "stderr",
     "output_type": "stream",
     "text": [
      "\u001b[32m[I 2023-01-13 17:15:02,505]\u001b[0m Trial 68 pruned. Trial was pruned at iteration 1.\u001b[0m\n",
      "\u001b[32m[I 2023-01-13 17:15:04,041]\u001b[0m Trial 69 pruned. Trial was pruned at iteration 0.\u001b[0m\n"
     ]
    },
    {
     "name": "stdout",
     "output_type": "stream",
     "text": [
      "[0]\tvalidation_0-auc:0.99770\n"
     ]
    },
    {
     "name": "stderr",
     "output_type": "stream",
     "text": [
      "\u001b[32m[I 2023-01-13 17:15:05,774]\u001b[0m Trial 70 pruned. Trial was pruned at iteration 0.\u001b[0m\n"
     ]
    },
    {
     "name": "stdout",
     "output_type": "stream",
     "text": [
      "[0]\tvalidation_0-auc:0.99807\n",
      "[100]\tvalidation_0-auc:0.99994\n"
     ]
    },
    {
     "name": "stderr",
     "output_type": "stream",
     "text": [
      "\u001b[32m[I 2023-01-13 17:15:09,790]\u001b[0m Trial 71 pruned. Trial was pruned at iteration 155.\u001b[0m\n",
      "\u001b[32m[I 2023-01-13 17:15:11,269]\u001b[0m Trial 72 pruned. Trial was pruned at iteration 0.\u001b[0m\n"
     ]
    },
    {
     "name": "stdout",
     "output_type": "stream",
     "text": [
      "[0]\tvalidation_0-auc:0.99835\n",
      "[100]\tvalidation_0-auc:0.99994\n",
      "[200]\tvalidation_0-auc:0.99994\n",
      "[260]\tvalidation_0-auc:0.99994\n",
      "[0]\tvalidation_0-auc:0.99826\n",
      "[100]\tvalidation_0-auc:0.99995\n",
      "[200]\tvalidation_0-auc:0.99995\n",
      "[293]\tvalidation_0-auc:0.99995\n",
      "[0]\tvalidation_0-auc:0.99830\n",
      "[100]\tvalidation_0-auc:0.99994\n",
      "[200]\tvalidation_0-auc:0.99995\n",
      "[300]\tvalidation_0-auc:0.99995\n",
      "[308]\tvalidation_0-auc:0.99995\n",
      "[0]\tvalidation_0-auc:0.99830\n",
      "[100]\tvalidation_0-auc:0.99995\n",
      "[191]\tvalidation_0-auc:0.99995\n",
      "[0]\tvalidation_0-auc:0.99783\n",
      "[100]\tvalidation_0-auc:0.99994\n",
      "[175]\tvalidation_0-auc:0.99994\n"
     ]
    },
    {
     "name": "stderr",
     "output_type": "stream",
     "text": [
      "\u001b[32m[I 2023-01-13 17:15:52,255]\u001b[0m Trial 73 finished with value: 0.9999475755330127 and parameters: {'max_depth': 13, 'colsample_bytree': 0.7247916003976785, 'subsample': 0.6792992288048665, 'alpha': 0.2517485885629223, 'lambda': 0.030953221513188696, 'gamma': 0.012137436036845474, 'min_child_weight': 2.2521795798740936}. Best is trial 57 with value: 0.9999481591739539.\u001b[0m\n"
     ]
    },
    {
     "name": "stdout",
     "output_type": "stream",
     "text": [
      "train auc score = 0.9999988778034004\n",
      "test auc score = 0.9999475755330127\n",
      "[0]\tvalidation_0-auc:0.99791\n"
     ]
    },
    {
     "name": "stderr",
     "output_type": "stream",
     "text": [
      "\u001b[32m[I 2023-01-13 17:15:53,700]\u001b[0m Trial 74 pruned. Trial was pruned at iteration 0.\u001b[0m\n"
     ]
    },
    {
     "name": "stdout",
     "output_type": "stream",
     "text": [
      "[0]\tvalidation_0-auc:0.99829\n",
      "[100]\tvalidation_0-auc:0.99994\n",
      "[200]\tvalidation_0-auc:0.99994\n",
      "[300]\tvalidation_0-auc:0.99995\n",
      "[331]\tvalidation_0-auc:0.99994\n",
      "[0]\tvalidation_0-auc:0.99856\n",
      "[100]\tvalidation_0-auc:0.99995\n",
      "[200]\tvalidation_0-auc:0.99995\n",
      "[245]\tvalidation_0-auc:0.99995\n",
      "[0]\tvalidation_0-auc:0.99834\n",
      "[100]\tvalidation_0-auc:0.99994\n",
      "[200]\tvalidation_0-auc:0.99995\n",
      "[290]\tvalidation_0-auc:0.99995\n",
      "[0]\tvalidation_0-auc:0.99854\n",
      "[100]\tvalidation_0-auc:0.99994\n",
      "[200]\tvalidation_0-auc:0.99995\n",
      "[261]\tvalidation_0-auc:0.99995\n",
      "[0]\tvalidation_0-auc:0.99801\n",
      "[100]\tvalidation_0-auc:0.99995\n",
      "[179]\tvalidation_0-auc:0.99995\n"
     ]
    },
    {
     "name": "stderr",
     "output_type": "stream",
     "text": [
      "\u001b[32m[I 2023-01-13 17:16:39,139]\u001b[0m Trial 75 finished with value: 0.9999486740505393 and parameters: {'max_depth': 14, 'colsample_bytree': 0.7722807124074444, 'subsample': 0.73617085100786, 'alpha': 0.10568245707699163, 'lambda': 7.990323542287298e-06, 'gamma': 0.10649546177271968, 'min_child_weight': 2.2916130076042807}. Best is trial 75 with value: 0.9999486740505393.\u001b[0m\n"
     ]
    },
    {
     "name": "stdout",
     "output_type": "stream",
     "text": [
      "train auc score = 0.999999521207583\n",
      "test auc score = 0.9999486740505393\n",
      "[0]\tvalidation_0-auc:0.99810\n"
     ]
    },
    {
     "name": "stderr",
     "output_type": "stream",
     "text": [
      "\u001b[32m[I 2023-01-13 17:16:40,791]\u001b[0m Trial 76 pruned. Trial was pruned at iteration 2.\u001b[0m\n",
      "\u001b[32m[I 2023-01-13 17:16:42,239]\u001b[0m Trial 77 pruned. Trial was pruned at iteration 0.\u001b[0m\n",
      "\u001b[32m[I 2023-01-13 17:16:43,752]\u001b[0m Trial 78 pruned. Trial was pruned at iteration 0.\u001b[0m\n"
     ]
    },
    {
     "name": "stdout",
     "output_type": "stream",
     "text": [
      "[0]\tvalidation_0-auc:0.99810\n"
     ]
    },
    {
     "name": "stderr",
     "output_type": "stream",
     "text": [
      "\u001b[32m[I 2023-01-13 17:16:45,604]\u001b[0m Trial 79 pruned. Trial was pruned at iteration 2.\u001b[0m\n"
     ]
    },
    {
     "name": "stdout",
     "output_type": "stream",
     "text": [
      "[0]\tvalidation_0-auc:0.99814\n",
      "[100]\tvalidation_0-auc:0.99994\n",
      "[200]\tvalidation_0-auc:0.99995\n",
      "[239]\tvalidation_0-auc:0.99994\n",
      "[0]\tvalidation_0-auc:0.99825\n",
      "[100]\tvalidation_0-auc:0.99995\n",
      "[192]\tvalidation_0-auc:0.99995\n",
      "[0]\tvalidation_0-auc:0.99850\n",
      "[100]\tvalidation_0-auc:0.99994\n",
      "[200]\tvalidation_0-auc:0.99995\n",
      "[262]\tvalidation_0-auc:0.99995\n",
      "[0]\tvalidation_0-auc:0.99820\n",
      "[100]\tvalidation_0-auc:0.99994\n",
      "[200]\tvalidation_0-auc:0.99995\n",
      "[263]\tvalidation_0-auc:0.99995\n",
      "[0]\tvalidation_0-auc:0.99783\n",
      "[100]\tvalidation_0-auc:0.99995\n",
      "[159]\tvalidation_0-auc:0.99995\n"
     ]
    },
    {
     "name": "stderr",
     "output_type": "stream",
     "text": [
      "\u001b[32m[I 2023-01-13 17:17:28,228]\u001b[0m Trial 80 finished with value: 0.9999477283829427 and parameters: {'max_depth': 15, 'colsample_bytree': 0.6563828558881434, 'subsample': 0.7030372203666782, 'alpha': 0.3468293630169212, 'lambda': 7.07631499031746e-06, 'gamma': 0.020853608220556173, 'min_child_weight': 1.9608654638206313}. Best is trial 75 with value: 0.9999486740505393.\u001b[0m\n"
     ]
    },
    {
     "name": "stdout",
     "output_type": "stream",
     "text": [
      "train auc score = 0.9999993502985767\n",
      "test auc score = 0.9999477283829427\n",
      "[0]\tvalidation_0-auc:0.99811\n",
      "[100]\tvalidation_0-auc:0.99994\n",
      "[200]\tvalidation_0-auc:0.99995\n",
      "[246]\tvalidation_0-auc:0.99995\n",
      "[0]\tvalidation_0-auc:0.99826\n",
      "[100]\tvalidation_0-auc:0.99995\n",
      "[191]\tvalidation_0-auc:0.99995\n",
      "[0]\tvalidation_0-auc:0.99851\n",
      "[100]\tvalidation_0-auc:0.99994\n",
      "[200]\tvalidation_0-auc:0.99995\n",
      "[286]\tvalidation_0-auc:0.99994\n",
      "[0]\tvalidation_0-auc:0.99821\n",
      "[100]\tvalidation_0-auc:0.99994\n",
      "[200]\tvalidation_0-auc:0.99995\n",
      "[221]\tvalidation_0-auc:0.99995\n",
      "[0]\tvalidation_0-auc:0.99790\n",
      "[100]\tvalidation_0-auc:0.99995\n",
      "[144]\tvalidation_0-auc:0.99995\n",
      "train auc score = 0.9999990882967433\n",
      "test auc score = 0.9999473881938069\n"
     ]
    },
    {
     "name": "stderr",
     "output_type": "stream",
     "text": [
      "\u001b[32m[I 2023-01-13 17:18:10,894]\u001b[0m Trial 81 finished with value: 0.9999473881938069 and parameters: {'max_depth': 15, 'colsample_bytree': 0.6563121080011113, 'subsample': 0.6913782869760084, 'alpha': 0.34436818620554516, 'lambda': 8.984815179351375e-06, 'gamma': 0.02316850926999224, 'min_child_weight': 1.9581013949201205}. Best is trial 75 with value: 0.9999486740505393.\u001b[0m\n"
     ]
    },
    {
     "name": "stdout",
     "output_type": "stream",
     "text": [
      "[0]\tvalidation_0-auc:0.99816\n"
     ]
    },
    {
     "name": "stderr",
     "output_type": "stream",
     "text": [
      "\u001b[32m[I 2023-01-13 17:18:12,496]\u001b[0m Trial 82 pruned. Trial was pruned at iteration 3.\u001b[0m\n"
     ]
    },
    {
     "name": "stdout",
     "output_type": "stream",
     "text": [
      "[0]\tvalidation_0-auc:0.99824\n"
     ]
    },
    {
     "name": "stderr",
     "output_type": "stream",
     "text": [
      "\u001b[32m[I 2023-01-13 17:18:14,852]\u001b[0m Trial 83 pruned. Trial was pruned at iteration 16.\u001b[0m\n"
     ]
    },
    {
     "name": "stdout",
     "output_type": "stream",
     "text": [
      "[0]\tvalidation_0-auc:0.99837\n"
     ]
    },
    {
     "name": "stderr",
     "output_type": "stream",
     "text": [
      "\u001b[32m[I 2023-01-13 17:18:17,509]\u001b[0m Trial 84 pruned. Trial was pruned at iteration 18.\u001b[0m\n"
     ]
    },
    {
     "name": "stdout",
     "output_type": "stream",
     "text": [
      "[0]\tvalidation_0-auc:0.99835\n"
     ]
    },
    {
     "name": "stderr",
     "output_type": "stream",
     "text": [
      "\u001b[32m[I 2023-01-13 17:18:20,089]\u001b[0m Trial 85 pruned. Trial was pruned at iteration 31.\u001b[0m\n"
     ]
    },
    {
     "name": "stdout",
     "output_type": "stream",
     "text": [
      "[0]\tvalidation_0-auc:0.99811\n",
      "[100]\tvalidation_0-auc:0.99994\n",
      "[197]\tvalidation_0-auc:0.99994\n",
      "[0]\tvalidation_0-auc:0.99871\n",
      "[100]\tvalidation_0-auc:0.99995\n",
      "[200]\tvalidation_0-auc:0.99995\n",
      "[231]\tvalidation_0-auc:0.99995\n",
      "[0]\tvalidation_0-auc:0.99848\n",
      "[100]\tvalidation_0-auc:0.99995\n",
      "[196]\tvalidation_0-auc:0.99995\n",
      "[0]\tvalidation_0-auc:0.99838\n",
      "[100]\tvalidation_0-auc:0.99994\n",
      "[200]\tvalidation_0-auc:0.99995\n",
      "[223]\tvalidation_0-auc:0.99995\n",
      "[0]\tvalidation_0-auc:0.99779\n",
      "[100]\tvalidation_0-auc:0.99994\n",
      "[159]\tvalidation_0-auc:0.99994\n"
     ]
    },
    {
     "name": "stderr",
     "output_type": "stream",
     "text": [
      "\u001b[32m[I 2023-01-13 17:19:00,632]\u001b[0m Trial 86 finished with value: 0.9999477013029814 and parameters: {'max_depth': 14, 'colsample_bytree': 0.5699424337410662, 'subsample': 0.76972934744489, 'alpha': 0.3279338469897073, 'lambda': 2.6419077674861216e-07, 'gamma': 0.0363081557051279, 'min_child_weight': 1.9423281752938772}. Best is trial 75 with value: 0.9999486740505393.\u001b[0m\n"
     ]
    },
    {
     "name": "stdout",
     "output_type": "stream",
     "text": [
      "train auc score = 0.9999991637414481\n",
      "test auc score = 0.9999477013029814\n",
      "[0]\tvalidation_0-auc:0.99809\n",
      "[100]\tvalidation_0-auc:0.99994\n",
      "[200]\tvalidation_0-auc:0.99994\n"
     ]
    },
    {
     "name": "stderr",
     "output_type": "stream",
     "text": [
      "\u001b[32m[I 2023-01-13 17:19:07,644]\u001b[0m Trial 87 pruned. Trial was pruned at iteration 294.\u001b[0m\n"
     ]
    },
    {
     "name": "stdout",
     "output_type": "stream",
     "text": [
      "[0]\tvalidation_0-auc:0.99823\n",
      "[100]\tvalidation_0-auc:0.99994\n",
      "[200]\tvalidation_0-auc:0.99995\n",
      "[227]\tvalidation_0-auc:0.99994\n",
      "[0]\tvalidation_0-auc:0.99853\n",
      "[100]\tvalidation_0-auc:0.99995\n",
      "[200]\tvalidation_0-auc:0.99995\n",
      "[202]\tvalidation_0-auc:0.99995\n",
      "[0]\tvalidation_0-auc:0.99829\n",
      "[100]\tvalidation_0-auc:0.99994\n",
      "[200]\tvalidation_0-auc:0.99995\n",
      "[234]\tvalidation_0-auc:0.99995\n",
      "[0]\tvalidation_0-auc:0.99837\n",
      "[100]\tvalidation_0-auc:0.99995\n",
      "[200]\tvalidation_0-auc:0.99995\n",
      "[201]\tvalidation_0-auc:0.99995\n",
      "[0]\tvalidation_0-auc:0.99801\n",
      "[100]\tvalidation_0-auc:0.99995\n",
      "[200]\tvalidation_0-auc:0.99995\n",
      "[220]\tvalidation_0-auc:0.99995\n"
     ]
    },
    {
     "name": "stderr",
     "output_type": "stream",
     "text": [
      "\u001b[32m[I 2023-01-13 17:19:51,997]\u001b[0m Trial 88 finished with value: 0.9999500828942468 and parameters: {'max_depth': 14, 'colsample_bytree': 0.5611953083255484, 'subsample': 0.7923205943812444, 'alpha': 0.2764282606237388, 'lambda': 9.803052431094998e-07, 'gamma': 0.11501928469694955, 'min_child_weight': 1.2433593639498184}. Best is trial 88 with value: 0.9999500828942468.\u001b[0m\n"
     ]
    },
