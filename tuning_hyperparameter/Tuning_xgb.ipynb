{
 "cells": [
  {
   "cell_type": "code",
   "execution_count": 1,
   "metadata": {},
   "outputs": [],
   "source": [
    "import pandas as pd\n",
    "import numpy as np\n",
    "from xgboost import XGBClassifier, callback\n",
    "from optuna.integration import XGBoostPruningCallback\n",
    "import mlflow\n",
    "from utils.metrics import Metrics_df,print_metrics, precision, recall, f1\n"
   ]
  },
  {
   "cell_type": "code",
   "execution_count": 2,
   "metadata": {},
   "outputs": [],
   "source": [
    "\n",
    "\n",
    "import pandas as pd\n",
    "from sklearn.metrics import roc_auc_score\n",
    "from Config import config\n",
    "import warnings\n",
    "warnings.filterwarnings(\"ignore\")\n",
    "import optuna  # pip install optuna\n",
    "from sklearn.model_selection import StratifiedKFold\n",
    "from sklearn.model_selection import GroupKFold\n",
    "import numpy as np\n",
    "from sklearn.model_selection import train_test_split\n",
    "from datetime import datetime\n",
    "import gc\n",
    "import pickle\n",
    "import tempfile"
   ]
  },
  {
   "cell_type": "code",
   "execution_count": 3,
   "metadata": {},
   "outputs": [],
   "source": [
    "from lightgbm.basic import LightGBMError\n",
    "from lightgbm import LGBMClassifier, early_stopping, log_evaluation, Booster\n",
    "from sklearn.metrics import roc_auc_score\n",
    "import os"
   ]
  },
  {
   "cell_type": "markdown",
   "metadata": {},
   "source": [
    "# Loading data and group split"
   ]
  },
  {
   "cell_type": "code",
   "execution_count": 4,
   "metadata": {},
   "outputs": [],
   "source": [
    "# df_pairs = pd.read_csv(\"/workspace/Training_data/training/Full_training_data.csv\")\n",
    "# df_pairs = df_pairs.sample(frac=1).reset_index(drop=True)\n",
    "# kf = GroupKFold(n_splits=5)\n",
    "# for i, (trn_idx, val_idx) in enumerate(kf.split(df_pairs, df_pairs[\"placeId1\"], df_pairs[\"placeId1\"])):\n",
    "#     df_pairs.loc[val_idx, \"fold\"] = i\n",
    "# df_pairs[\"fold\"].value_counts()\n",
    "# df_pairs.to_csv(\"/workspace/Training_data/training/Full_training_data_fold.csv\",index=None)"
   ]
  },
  {
   "cell_type": "markdown",
   "metadata": {},
   "source": [
    "# Loading data"
   ]
  },
  {
   "cell_type": "code",
   "execution_count": 5,
   "metadata": {},
   "outputs": [],
   "source": [
    "df_pairs = pd.read_csv(\"/workspace/Training_data/training/Full_training_data_fold.csv\")"
   ]
  },
  {
   "cell_type": "code",
   "execution_count": 6,
   "metadata": {},
   "outputs": [],
   "source": [
    "features = ['similarity', 'haversine', 'name_davies',\n",
    "       'name_leven', 'name_dice', 'name_jaro', 'name_set_ratio',\n",
    "       'street_davies', 'street_leven', 'street_jaro', 'email_davies',\n",
    "       'email_leven', 'email_jaro', 'url_davies', 'url_leven', 'url_jaro',\n",
    "       'brands_davies', 'brand_leven', 'brand_jaro', 'phone_lcs',\n",
    "       'subcat_WRatio', 'subcat_ratio', 'subcat_token_set_ratio',\n",
    "       'Is_direction_match_0', 'Is_direction_match_1', 'Is_direction_match_2',\n",
    "       'Is_house_match_0', 'Is_house_match_1', 'Is_house_match_2',\n",
    "       'Is_category_match_0', 'Is_category_match_1', 'Is_subcategory_match_0',\n",
    "       'Is_subcategory_match_1', 'Is_subcategory_match_2', 'Is_brand_match_0',\n",
    "       'Is_brand_match_1', 'Is_brand_match_2', 'Is_brand_match_3',\n",
    "       'Is_related_cat_0', 'Is_related_cat_1', 'Is_name_number_match_0',\n",
    "       'Is_name_number_match_1', 'Is_name_number_match_2',\n",
    "       'Is_name_number_match_3', 'is_phone_match_1', 'is_phone_match_2',\n",
    "       'is_phone_match_3', 'is_phone_match_4', 'Is_email_match_0',\n",
    "       'Is_email_match_1', 'Is_email_match_2', 'Is_url_match_0',\n",
    "       'Is_url_match_1', 'Is_url_match_2']"
   ]
  },
  {
   "cell_type": "code",
   "execution_count": 7,
   "metadata": {},
   "outputs": [],
   "source": [
    "X_train = df_pairs[df_pairs[\"fold\"]!=4]"
   ]
  },
  {
   "cell_type": "code",
   "execution_count": 8,
   "metadata": {},
   "outputs": [],
   "source": [
    "X_test = df_pairs[df_pairs[\"fold\"]==4]"
   ]
  },
  {
   "cell_type": "code",
   "execution_count": 9,
   "metadata": {},
   "outputs": [],
   "source": [
    "def objective(trial, X_train,X_test,Y_train,Y_test):\n",
    "    params = {\n",
    "        \"max_depth\": trial.suggest_int(\"max_depth\", 4, 20),\n",
    "        \"colsample_bytree\": trial.suggest_loguniform(\"colsample_bytree\", 0.5, 1),\n",
    "        \"subsample\": trial.suggest_loguniform(\"subsample\", 0.4, 1),\n",
    "        \"alpha\": trial.suggest_loguniform(\"alpha\", 0.01, 10.0),\n",
    "        \"lambda\": trial.suggest_loguniform(\"lambda\", 1e-8, 10.0),\n",
    "        \"gamma\": trial.suggest_loguniform(\"lambda\", 1e-8, 10.0),\n",
    "        \"min_child_weight\": trial.suggest_loguniform(\"min_child_weight\", 1, 300),\n",
    "    }\n",
    "    \n",
    "    \n",
    "    # cv = StratifiedKFold(n_splits=5, shuffle=True, random_state=1121218)\n",
    "    cback = [XGBoostPruningCallback(trial, \"validation_0-auc\")]\n",
    "    \n",
    "    model = XGBClassifier(\n",
    "        **params,\n",
    "        n_estimators=10000,\n",
    "        learning_rate=0.1,\n",
    "        objective=\"binary:logistic\",\n",
    "        eval_metric=\"auc\",\n",
    "        tree_method=\"gpu_hist\",\n",
    "        use_label_encoder=False,\n",
    "        random_state=42,\n",
    "        enable_categorical=True,\n",
    "    )\n",
    "\n",
    "        \n",
    "        \n",
    "    model.fit(X_train,Y_train,eval_set=[(X_test, Y_test)],verbose=100,early_stopping_rounds=20,callbacks=cback)\n",
    "        \n",
    "    with tempfile.TemporaryFile() as dump_file:        \n",
    "        pickle.dump(model , dump_file)\n",
    "        dump_file.seek(0)\n",
    "        model = pickle.load(dump_file)\n",
    "    preds = model.predict_proba(X_test)[:, 1]\n",
    "    del trial\n",
    "    return roc_auc_score(Y_test, preds)"
   ]
  },
  {
   "cell_type": "code",
   "execution_count": 10,
   "metadata": {},
   "outputs": [
    {
     "name": "stderr",
     "output_type": "stream",
     "text": [
      "\u001b[32m[I 2022-12-09 19:09:35,546]\u001b[0m A new study created in memory with name: parameter_tuning_NZL_2022_12_09_19_09\u001b[0m\n"
     ]
    },
    {
     "name": "stdout",
     "output_type": "stream",
     "text": [
      "[0]\tvalidation_0-auc:0.99730\n",
      "[100]\tvalidation_0-auc:0.99978\n",
      "[200]\tvalidation_0-auc:0.99980\n",
      "[300]\tvalidation_0-auc:0.99981\n",
      "[400]\tvalidation_0-auc:0.99982\n",
      "[500]\tvalidation_0-auc:0.99982\n",
      "[539]\tvalidation_0-auc:0.99982\n"
     ]
    },
    {
     "name": "stderr",
     "output_type": "stream",
     "text": [
      "\u001b[32m[I 2022-12-09 19:10:23,185]\u001b[0m Trial 0 finished with value: 0.9998229974908446 and parameters: {'max_depth': 14, 'colsample_bytree': 0.9186136272179423, 'subsample': 0.6850176145347159, 'alpha': 0.3584883757182529, 'lambda': 0.0001760402607513321, 'min_child_weight': 126.44241820052189}. Best is trial 0 with value: 0.9998229974908446.\u001b[0m\n"
     ]
    },
    {
     "name": "stdout",
     "output_type": "stream",
     "text": [
      "[0]\tvalidation_0-auc:0.99676\n",
      "[100]\tvalidation_0-auc:0.99981\n",
      "[200]\tvalidation_0-auc:0.99984\n",
      "[300]\tvalidation_0-auc:0.99985\n",
      "[400]\tvalidation_0-auc:0.99985\n",
      "[500]\tvalidation_0-auc:0.99985\n",
      "[600]\tvalidation_0-auc:0.99986\n",
      "[636]\tvalidation_0-auc:0.99986\n"
     ]
    },
    {
     "name": "stderr",
     "output_type": "stream",
     "text": [
      "\u001b[32m[I 2022-12-09 19:11:15,648]\u001b[0m Trial 1 finished with value: 0.9998566930332051 and parameters: {'max_depth': 9, 'colsample_bytree': 0.5269845457413087, 'subsample': 0.9346247586259055, 'alpha': 0.012062027528091367, 'lambda': 0.0085505761406352, 'min_child_weight': 94.37961567971094}. Best is trial 1 with value: 0.9998566930332051.\u001b[0m\n"
     ]
    },
    {
     "name": "stdout",
     "output_type": "stream",
     "text": [
      "[0]\tvalidation_0-auc:0.99386\n",
      "[100]\tvalidation_0-auc:0.99981\n",
      "[200]\tvalidation_0-auc:0.99987\n",
      "[300]\tvalidation_0-auc:0.99989\n",
      "[400]\tvalidation_0-auc:0.99990\n",
      "[500]\tvalidation_0-auc:0.99990\n",
      "[600]\tvalidation_0-auc:0.99991\n",
      "[673]\tvalidation_0-auc:0.99991\n"
     ]
    },
    {
     "name": "stderr",
     "output_type": "stream",
     "text": [
      "\u001b[32m[I 2022-12-09 19:12:05,592]\u001b[0m Trial 2 finished with value: 0.99990982095696 and parameters: {'max_depth': 5, 'colsample_bytree': 0.9134134531068125, 'subsample': 0.5624551104679633, 'alpha': 0.22006231087761569, 'lambda': 0.0008226157847129335, 'min_child_weight': 5.536911859149326}. Best is trial 2 with value: 0.99990982095696.\u001b[0m\n"
     ]
    },
    {
     "name": "stdout",
     "output_type": "stream",
     "text": [
      "[0]\tvalidation_0-auc:0.99561\n",
      "[100]\tvalidation_0-auc:0.99984\n",
      "[200]\tvalidation_0-auc:0.99987\n",
      "[300]\tvalidation_0-auc:0.99988\n",
      "[350]\tvalidation_0-auc:0.99988\n"
     ]
    },
    {
     "name": "stderr",
     "output_type": "stream",
     "text": [
      "\u001b[32m[I 2022-12-09 19:12:43,471]\u001b[0m Trial 3 finished with value: 0.9998791323678982 and parameters: {'max_depth': 16, 'colsample_bytree': 0.5692875405843302, 'subsample': 0.5013963728445617, 'alpha': 0.5186345810918846, 'lambda': 3.0375724558498316e-07, 'min_child_weight': 29.248103980035214}. Best is trial 2 with value: 0.99990982095696.\u001b[0m\n"
     ]
    },
    {
     "name": "stdout",
     "output_type": "stream",
     "text": [
      "[0]\tvalidation_0-auc:0.98667\n",
      "[100]\tvalidation_0-auc:0.99973\n",
      "[200]\tvalidation_0-auc:0.99984\n",
      "[300]\tvalidation_0-auc:0.99987\n",
      "[400]\tvalidation_0-auc:0.99988\n",
      "[500]\tvalidation_0-auc:0.99989\n",
      "[600]\tvalidation_0-auc:0.99990\n",
      "[700]\tvalidation_0-auc:0.99990\n",
      "[800]\tvalidation_0-auc:0.99990\n",
      "[900]\tvalidation_0-auc:0.99991\n",
      "[995]\tvalidation_0-auc:0.99991\n"
     ]
    },
    {
     "name": "stderr",
     "output_type": "stream",
     "text": [
      "\u001b[32m[I 2022-12-09 19:13:47,209]\u001b[0m Trial 4 finished with value: 0.9999092758332846 and parameters: {'max_depth': 4, 'colsample_bytree': 0.7144272770930772, 'subsample': 0.6847956927214623, 'alpha': 0.4781098273559269, 'lambda': 0.1900606844502818, 'min_child_weight': 3.1947497533983586}. Best is trial 2 with value: 0.99990982095696.\u001b[0m\n"
     ]
    },
    {
     "name": "stdout",
     "output_type": "stream",
     "text": [
      "[0]\tvalidation_0-auc:0.99500\n"
     ]
    },
    {
     "name": "stderr",
     "output_type": "stream",
     "text": [
      "\u001b[32m[I 2022-12-09 19:13:50,151]\u001b[0m Trial 5 pruned. Trial was pruned at iteration 0.\u001b[0m\n"
     ]
    },
    {
     "name": "stdout",
     "output_type": "stream",
     "text": [
      "[0]\tvalidation_0-auc:0.99009\n"
     ]
    },
    {
     "name": "stderr",
     "output_type": "stream",
     "text": [
      "\u001b[32m[I 2022-12-09 19:13:53,307]\u001b[0m Trial 6 pruned. Trial was pruned at iteration 0.\u001b[0m\n"
     ]
    },
    {
     "name": "stdout",
     "output_type": "stream",
     "text": [
      "[0]\tvalidation_0-auc:0.99309\n"
     ]
    },
    {
     "name": "stderr",
     "output_type": "stream",
     "text": [
      "\u001b[32m[I 2022-12-09 19:13:56,348]\u001b[0m Trial 7 pruned. Trial was pruned at iteration 0.\u001b[0m\n"
     ]
    },
    {
     "name": "stdout",
     "output_type": "stream",
     "text": [
      "[0]\tvalidation_0-auc:0.99376\n"
     ]
    },
    {
     "name": "stderr",
     "output_type": "stream",
     "text": [
      "\u001b[32m[I 2022-12-09 19:13:59,121]\u001b[0m Trial 8 pruned. Trial was pruned at iteration 0.\u001b[0m\n"
     ]
    },
    {
     "name": "stdout",
     "output_type": "stream",
     "text": [
      "[0]\tvalidation_0-auc:0.99733\n"
     ]
    },
    {
     "name": "stderr",
     "output_type": "stream",
     "text": [
      "\u001b[32m[I 2022-12-09 19:14:02,047]\u001b[0m Trial 9 pruned. Trial was pruned at iteration 1.\u001b[0m\n"
     ]
    },
    {
     "name": "stdout",
     "output_type": "stream",
     "text": [
      "[0]\tvalidation_0-auc:0.98538\n"
     ]
    },
    {
     "name": "stderr",
     "output_type": "stream",
     "text": [
      "\u001b[32m[I 2022-12-09 19:14:04,447]\u001b[0m Trial 10 pruned. Trial was pruned at iteration 0.\u001b[0m\n",
      "\u001b[32m[I 2022-12-09 19:14:07,027]\u001b[0m Trial 11 pruned. Trial was pruned at iteration 0.\u001b[0m\n"
     ]
    },
    {
     "name": "stdout",
     "output_type": "stream",
     "text": [
      "[0]\tvalidation_0-auc:0.99643\n"
     ]
    },
    {
     "name": "stderr",
     "output_type": "stream",
     "text": [
      "\u001b[32m[I 2022-12-09 19:14:10,102]\u001b[0m Trial 12 pruned. Trial was pruned at iteration 1.\u001b[0m\n"
     ]
    },
    {
     "name": "stdout",
     "output_type": "stream",
     "text": [
      "[0]\tvalidation_0-auc:0.99202\n"
     ]
    },
    {
     "name": "stderr",
     "output_type": "stream",
     "text": [
      "\u001b[32m[I 2022-12-09 19:14:13,019]\u001b[0m Trial 13 pruned. Trial was pruned at iteration 0.\u001b[0m\n",
      "\u001b[32m[I 2022-12-09 19:14:16,293]\u001b[0m Trial 14 pruned. Trial was pruned at iteration 0.\u001b[0m\n"
     ]
    },
    {
     "name": "stdout",
     "output_type": "stream",
     "text": [
      "[0]\tvalidation_0-auc:0.99670\n",
      "[100]\tvalidation_0-auc:0.99990\n",
      "[183]\tvalidation_0-auc:0.99991\n"
     ]
    },
    {
     "name": "stderr",
     "output_type": "stream",
     "text": [
      "\u001b[32m[I 2022-12-09 19:14:48,701]\u001b[0m Trial 15 finished with value: 0.9999141017961478 and parameters: {'max_depth': 10, 'colsample_bytree': 0.7208497316688175, 'subsample': 0.43986234255301915, 'alpha': 0.033631661431039225, 'lambda': 0.0003953963106833996, 'min_child_weight': 1.3631983762556588}. Best is trial 15 with value: 0.9999141017961478.\u001b[0m\n"
     ]
    },
    {
     "name": "stdout",
     "output_type": "stream",
     "text": [
      "[0]\tvalidation_0-auc:0.99777\n",
      "[100]\tvalidation_0-auc:0.99991\n",
      "[157]\tvalidation_0-auc:0.99992\n"
     ]
    },
    {
     "name": "stderr",
     "output_type": "stream",
     "text": [
      "\u001b[32m[I 2022-12-09 19:15:24,892]\u001b[0m Trial 16 finished with value: 0.9999171322579051 and parameters: {'max_depth': 12, 'colsample_bytree': 0.6161675658839894, 'subsample': 0.4088790389160657, 'alpha': 0.022424635940900765, 'lambda': 3.243373645440172e-06, 'min_child_weight': 1.1007273499097492}. Best is trial 16 with value: 0.9999171322579051.\u001b[0m\n"
     ]
    },
    {
     "name": "stdout",
     "output_type": "stream",
     "text": [
      "[0]\tvalidation_0-auc:0.99844\n",
      "[100]\tvalidation_0-auc:0.99990\n",
      "[194]\tvalidation_0-auc:0.99991\n"
     ]
    },
    {
     "name": "stderr",
     "output_type": "stream",
     "text": [
      "\u001b[32m[I 2022-12-09 19:16:03,830]\u001b[0m Trial 17 finished with value: 0.99991325225497 and parameters: {'max_depth': 11, 'colsample_bytree': 0.6057191879727409, 'subsample': 0.408666043670173, 'alpha': 0.017803174082064065, 'lambda': 2.007896483158292e-06, 'min_child_weight': 1.0454622287230981}. Best is trial 16 with value: 0.9999171322579051.\u001b[0m\n"
     ]
    },
    {
     "name": "stdout",
     "output_type": "stream",
     "text": [
      "[0]\tvalidation_0-auc:0.99809\n",
      "[100]\tvalidation_0-auc:0.99990\n",
      "[200]\tvalidation_0-auc:0.99991\n",
      "[269]\tvalidation_0-auc:0.99991\n"
     ]
    },
    {
     "name": "stderr",
     "output_type": "stream",
     "text": [
      "\u001b[32m[I 2022-12-09 19:16:49,943]\u001b[0m Trial 18 finished with value: 0.9999147447865581 and parameters: {'max_depth': 11, 'colsample_bytree': 0.6326002881021041, 'subsample': 0.44474980966958166, 'alpha': 0.03267971552041733, 'lambda': 1.9194426669799467e-07, 'min_child_weight': 2.099479414040363}. Best is trial 16 with value: 0.9999171322579051.\u001b[0m\n"
     ]
    },
    {
     "name": "stdout",
     "output_type": "stream",
     "text": [
      "[0]\tvalidation_0-auc:0.99851\n"
     ]
    },
    {
     "name": "stderr",
     "output_type": "stream",
     "text": [
      "\u001b[32m[I 2022-12-09 19:16:54,216]\u001b[0m Trial 19 pruned. Trial was pruned at iteration 2.\u001b[0m\n"
     ]
    },
    {
     "name": "stdout",
     "output_type": "stream",
     "text": [
      "[0]\tvalidation_0-auc:0.99846\n"
     ]
    },
    {
     "name": "stderr",
     "output_type": "stream",
     "text": [
      "\u001b[32m[I 2022-12-09 19:17:00,291]\u001b[0m Trial 20 pruned. Trial was pruned at iteration 18.\u001b[0m\n"
     ]
    },
    {
     "name": "stdout",
     "output_type": "stream",
     "text": [
      "[0]\tvalidation_0-auc:0.99740\n",
      "[100]\tvalidation_0-auc:0.99990\n",
      "[200]\tvalidation_0-auc:0.99991\n",
      "[209]\tvalidation_0-auc:0.99991\n"
     ]
    },
    {
     "name": "stderr",
     "output_type": "stream",
     "text": [
      "\u001b[32m[I 2022-12-09 19:17:39,656]\u001b[0m Trial 21 finished with value: 0.9999112062525002 and parameters: {'max_depth': 11, 'colsample_bytree': 0.7399413940240407, 'subsample': 0.4464986647054278, 'alpha': 0.029505254748058964, 'lambda': 5.7535646700390595e-06, 'min_child_weight': 1.6013567783171556}. Best is trial 16 with value: 0.9999171322579051.\u001b[0m\n"
     ]
    },
    {
     "name": "stdout",
     "output_type": "stream",
     "text": [
      "[0]\tvalidation_0-auc:0.99835\n",
      "[100]\tvalidation_0-auc:0.99990\n",
      "[165]\tvalidation_0-auc:0.99991\n"
     ]
    },
    {
     "name": "stderr",
     "output_type": "stream",
     "text": [
      "\u001b[32m[I 2022-12-09 19:18:14,968]\u001b[0m Trial 22 finished with value: 0.999914141573141 and parameters: {'max_depth': 11, 'colsample_bytree': 0.6217089613250836, 'subsample': 0.4242005696165182, 'alpha': 0.010563679964924277, 'lambda': 1.4901966339341323e-07, 'min_child_weight': 1.04689908202118}. Best is trial 16 with value: 0.9999171322579051.\u001b[0m\n"
     ]
    },
    {
     "name": "stdout",
     "output_type": "stream",
     "text": [
      "[0]\tvalidation_0-auc:0.99763\n",
      "[100]\tvalidation_0-auc:0.99991\n",
      "[165]\tvalidation_0-auc:0.99992\n"
     ]
    },
    {
     "name": "stderr",
     "output_type": "stream",
     "text": [
      "\u001b[32m[I 2022-12-09 19:18:51,342]\u001b[0m Trial 23 finished with value: 0.9999153889694263 and parameters: {'max_depth': 12, 'colsample_bytree': 0.6132757954518478, 'subsample': 0.5317588788681346, 'alpha': 0.011649070651440479, 'lambda': 1.8247595780434574e-07, 'min_child_weight': 2.087806917744855}. Best is trial 16 with value: 0.9999171322579051.\u001b[0m\n"
     ]
    },
    {
     "name": "stdout",
     "output_type": "stream",
     "text": [
      "[0]\tvalidation_0-auc:0.99817\n",
      "[100]\tvalidation_0-auc:0.99991\n",
      "[200]\tvalidation_0-auc:0.99992\n",
      "[207]\tvalidation_0-auc:0.99992\n"
     ]
    },
    {
     "name": "stderr",
     "output_type": "stream",
     "text": [
      "\u001b[32m[I 2022-12-09 19:19:34,702]\u001b[0m Trial 24 finished with value: 0.9999170682910489 and parameters: {'max_depth': 13, 'colsample_bytree': 0.5760211949770218, 'subsample': 0.5223430619992357, 'alpha': 0.02270629982496866, 'lambda': 5.1498600039935845e-08, 'min_child_weight': 3.0158317545237234}. Best is trial 16 with value: 0.9999171322579051.\u001b[0m\n"
     ]
    },
    {
     "name": "stdout",
     "output_type": "stream",
     "text": [
      "[0]\tvalidation_0-auc:0.99871\n",
      "[100]\tvalidation_0-auc:0.99991\n",
      "[200]\tvalidation_0-auc:0.99992\n",
      "[224]\tvalidation_0-auc:0.99991\n"
     ]
    },
    {
     "name": "stderr",
     "output_type": "stream",
     "text": [
      "\u001b[32m[I 2022-12-09 19:20:17,479]\u001b[0m Trial 25 finished with value: 0.9999155983309879 and parameters: {'max_depth': 13, 'colsample_bytree': 0.5073359586452293, 'subsample': 0.529410349503827, 'alpha': 0.018620478511706784, 'lambda': 1.1194932982472348e-08, 'min_child_weight': 3.8882206406745836}. Best is trial 16 with value: 0.9999171322579051.\u001b[0m\n"
     ]
    },
    {
     "name": "stdout",
     "output_type": "stream",
     "text": [
      "[0]\tvalidation_0-auc:0.99874\n",
      "[100]\tvalidation_0-auc:0.99990\n",
      "[200]\tvalidation_0-auc:0.99992\n",
      "[261]\tvalidation_0-auc:0.99992\n"
     ]
    },
    {
     "name": "stderr",
     "output_type": "stream",
     "text": [
      "\u001b[32m[I 2022-12-09 19:21:05,314]\u001b[0m Trial 26 finished with value: 0.9999167898520964 and parameters: {'max_depth': 13, 'colsample_bytree': 0.5006911302547915, 'subsample': 0.5410980962935483, 'alpha': 0.01998074135432142, 'lambda': 1.0685732431650807e-08, 'min_child_weight': 4.014097726885774}. Best is trial 16 with value: 0.9999171322579051.\u001b[0m\n",
      "\u001b[32m[I 2022-12-09 19:21:08,499]\u001b[0m Trial 27 pruned. Trial was pruned at iteration 0.\u001b[0m\n"
     ]
    },
    {
     "name": "stdout",
     "output_type": "stream",
     "text": [
      "[0]\tvalidation_0-auc:0.99861\n"
     ]
    },
    {
     "name": "stderr",
     "output_type": "stream",
     "text": [
      "\u001b[32m[I 2022-12-09 19:21:19,545]\u001b[0m Trial 28 pruned. Trial was pruned at iteration 28.\u001b[0m\n"
     ]
    },
    {
     "name": "stdout",
     "output_type": "stream",
     "text": [
      "[0]\tvalidation_0-auc:0.99898\n"
     ]
    },
    {
     "name": "stderr",
     "output_type": "stream",
     "text": [
      "\u001b[32m[I 2022-12-09 19:21:37,424]\u001b[0m Trial 29 pruned. Trial was pruned at iteration 57.\u001b[0m\n"
     ]
    },
    {
     "name": "stdout",
     "output_type": "stream",
     "text": [
      "[0]\tvalidation_0-auc:0.99873\n"
     ]
    },
    {
     "name": "stderr",
     "output_type": "stream",
     "text": [
      "\u001b[32m[I 2022-12-09 19:21:46,682]\u001b[0m Trial 30 pruned. Trial was pruned at iteration 25.\u001b[0m\n"
     ]
    },
    {
     "name": "stdout",
     "output_type": "stream",
     "text": [
      "[0]\tvalidation_0-auc:0.99837\n"
     ]
    },
    {
     "name": "stderr",
     "output_type": "stream",
     "text": [
      "\u001b[32m[I 2022-12-09 19:21:49,736]\u001b[0m Trial 31 pruned. Trial was pruned at iteration 1.\u001b[0m\n"
     ]
    },
    {
     "name": "stdout",
     "output_type": "stream",
     "text": [
      "[0]\tvalidation_0-auc:0.99815\n"
     ]
    },
    {
     "name": "stderr",
     "output_type": "stream",
     "text": [
      "\u001b[32m[I 2022-12-09 19:21:53,547]\u001b[0m Trial 32 pruned. Trial was pruned at iteration 3.\u001b[0m\n"
     ]
    },
    {
     "name": "stdout",
     "output_type": "stream",
     "text": [
      "[0]\tvalidation_0-auc:0.99919\n",
      "[100]\tvalidation_0-auc:0.99991\n",
      "[200]\tvalidation_0-auc:0.99992\n",
      "[247]\tvalidation_0-auc:0.99992\n"
     ]
    },
    {
     "name": "stderr",
     "output_type": "stream",
     "text": [
      "\u001b[32m[I 2022-12-09 19:22:50,676]\u001b[0m Trial 33 finished with value: 0.9999220485920526 and parameters: {'max_depth': 15, 'colsample_bytree': 0.5891797914157996, 'subsample': 0.9915131532117468, 'alpha': 0.01601488896353689, 'lambda': 6.471320277059568e-08, 'min_child_weight': 4.639909639888095}. Best is trial 33 with value: 0.9999220485920526.\u001b[0m\n"
     ]
    },
    {
     "name": "stdout",
     "output_type": "stream",
     "text": [
      "[0]\tvalidation_0-auc:0.99916\n",
      "[100]\tvalidation_0-auc:0.99991\n",
      "[200]\tvalidation_0-auc:0.99992\n",
      "[271]\tvalidation_0-auc:0.99992\n"
     ]
    },
    {
     "name": "stderr",
     "output_type": "stream",
     "text": [
      "\u001b[32m[I 2022-12-09 19:23:46,500]\u001b[0m Trial 34 finished with value: 0.9999187483792515 and parameters: {'max_depth': 15, 'colsample_bytree': 0.5906790341717117, 'subsample': 0.9678478133518589, 'alpha': 0.011129400083703498, 'lambda': 6.459634185015178e-07, 'min_child_weight': 6.169584493535323}. Best is trial 33 with value: 0.9999220485920526.\u001b[0m\n"
     ]
    },
    {
     "name": "stdout",
     "output_type": "stream",
     "text": [
      "[0]\tvalidation_0-auc:0.99903\n"
     ]
    },
    {
     "name": "stderr",
     "output_type": "stream",
     "text": [
      "\u001b[32m[I 2022-12-09 19:23:56,435]\u001b[0m Trial 35 pruned. Trial was pruned at iteration 22.\u001b[0m\n"
     ]
    },
    {
     "name": "stdout",
     "output_type": "stream",
     "text": [
      "[0]\tvalidation_0-auc:0.99910\n",
      "[100]\tvalidation_0-auc:0.99991\n",
      "[200]\tvalidation_0-auc:0.99992\n",
      "[207]\tvalidation_0-auc:0.99992\n"
     ]
    },
    {
     "name": "stderr",
     "output_type": "stream",
     "text": [
      "\u001b[32m[I 2022-12-09 19:25:00,910]\u001b[0m Trial 36 finished with value: 0.9999203179095587 and parameters: {'max_depth': 16, 'colsample_bytree': 0.6616550098968121, 'subsample': 0.889204032871335, 'alpha': 0.04499153489873214, 'lambda': 3.719314435287241e-06, 'min_child_weight': 1.7152158649213802}. Best is trial 33 with value: 0.9999220485920526.\u001b[0m\n"
     ]
    },
    {
     "name": "stdout",
     "output_type": "stream",
     "text": [
      "[0]\tvalidation_0-auc:0.99902\n",
      "[100]\tvalidation_0-auc:0.99991\n",
      "[200]\tvalidation_0-auc:0.99992\n",
      "[209]\tvalidation_0-auc:0.99992\n"
     ]
    },
    {
     "name": "stderr",
     "output_type": "stream",
     "text": [
      "\u001b[32m[I 2022-12-09 19:26:11,879]\u001b[0m Trial 37 finished with value: 0.9999219777259747 and parameters: {'max_depth': 19, 'colsample_bytree': 0.6787886480834696, 'subsample': 0.9013278308763079, 'alpha': 0.11909681624395013, 'lambda': 7.11022282953649e-05, 'min_child_weight': 1.723543442595701}. Best is trial 33 with value: 0.9999220485920526.\u001b[0m\n"
     ]
    },
    {
     "name": "stdout",
     "output_type": "stream",
     "text": [
      "[0]\tvalidation_0-auc:0.99905\n",
      "[100]\tvalidation_0-auc:0.99991\n",
      "[200]\tvalidation_0-auc:0.99992\n",
      "[250]\tvalidation_0-auc:0.99992\n"
     ]
    },
    {
     "name": "stderr",
     "output_type": "stream",
     "text": [
      "\u001b[32m[I 2022-12-09 19:27:05,597]\u001b[0m Trial 38 finished with value: 0.9999180449141836 and parameters: {'max_depth': 18, 'colsample_bytree': 0.677666987233004, 'subsample': 0.8954556467995292, 'alpha': 0.37228399653632, 'lambda': 3.292094730886552e-05, 'min_child_weight': 5.654723480639898}. Best is trial 33 with value: 0.9999220485920526.\u001b[0m\n"
     ]
    },
    {
     "name": "stdout",
     "output_type": "stream",
     "text": [
      "[0]\tvalidation_0-auc:0.99916\n",
      "[100]\tvalidation_0-auc:0.99992\n",
      "[183]\tvalidation_0-auc:0.99992\n"
     ]
    },
    {
     "name": "stderr",
     "output_type": "stream",
     "text": [
      "\u001b[32m[I 2022-12-09 19:28:16,019]\u001b[0m Trial 39 finished with value: 0.9999205487353651 and parameters: {'max_depth': 20, 'colsample_bytree': 0.6641562725882335, 'subsample': 0.9987960214242532, 'alpha': 0.12105573495525211, 'lambda': 7.949119726546566e-05, 'min_child_weight': 1.715211632735842}. Best is trial 33 with value: 0.9999220485920526.\u001b[0m\n"
     ]
    },
    {
     "name": "stdout",
     "output_type": "stream",
     "text": [
      "[0]\tvalidation_0-auc:0.99926\n",
      "[100]\tvalidation_0-auc:0.99992\n",
      "[156]\tvalidation_0-auc:0.99992\n"
     ]
    },
    {
     "name": "stderr",
     "output_type": "stream",
     "text": [
      "\u001b[32m[I 2022-12-09 19:29:18,123]\u001b[0m Trial 40 finished with value: 0.9999195666609936 and parameters: {'max_depth': 20, 'colsample_bytree': 0.6768535525530017, 'subsample': 0.8966307432304494, 'alpha': 0.18570645738041813, 'lambda': 9.031493524212372e-05, 'min_child_weight': 1.5733621926785821}. Best is trial 33 with value: 0.9999220485920526.\u001b[0m\n"
     ]
    },
    {
     "name": "stdout",
     "output_type": "stream",
     "text": [
      "[0]\tvalidation_0-auc:0.99884\n",
      "[100]\tvalidation_0-auc:0.99992\n",
      "[139]\tvalidation_0-auc:0.99992\n"
     ]
    },
    {
     "name": "stderr",
     "output_type": "stream",
     "text": [
      "\u001b[32m[I 2022-12-09 19:30:09,755]\u001b[0m Trial 41 finished with value: 0.9999187249559686 and parameters: {'max_depth': 19, 'colsample_bytree': 0.6639919054882953, 'subsample': 0.8987384201374014, 'alpha': 0.23140663023376593, 'lambda': 9.47518597280454e-05, 'min_child_weight': 1.866036369915277}. Best is trial 33 with value: 0.9999220485920526.\u001b[0m\n"
     ]
    },
    {
     "name": "stdout",
     "output_type": "stream",
     "text": [
      "[0]\tvalidation_0-auc:0.99876\n",
      "[100]\tvalidation_0-auc:0.99991\n",
      "[196]\tvalidation_0-auc:0.99992\n"
     ]
    },
    {
     "name": "stderr",
     "output_type": "stream",
     "text": [
      "\u001b[32m[I 2022-12-09 19:31:21,649]\u001b[0m Trial 42 finished with value: 0.9999186207010656 and parameters: {'max_depth': 20, 'colsample_bytree': 0.6941307084593156, 'subsample': 0.8395876259026716, 'alpha': 0.13077023605742644, 'lambda': 0.0023222394269973774, 'min_child_weight': 1.5733299004714685}. Best is trial 33 with value: 0.9999220485920526.\u001b[0m\n"
     ]
    },
    {
     "name": "stdout",
     "output_type": "stream",
     "text": [
      "[0]\tvalidation_0-auc:0.99926\n",
      "[100]\tvalidation_0-auc:0.99991\n",
      "[200]\tvalidation_0-auc:0.99992\n",
      "[220]\tvalidation_0-auc:0.99992\n"
     ]
    },
    {
     "name": "stderr",
     "output_type": "stream",
     "text": [
      "\u001b[32m[I 2022-12-09 19:32:26,460]\u001b[0m Trial 43 finished with value: 0.9999186680586849 and parameters: {'max_depth': 19, 'colsample_bytree': 0.7564102593084113, 'subsample': 0.9249412762988694, 'alpha': 0.10921625108719825, 'lambda': 4.434280159766121e-05, 'min_child_weight': 2.7167196226636037}. Best is trial 33 with value: 0.9999220485920526.\u001b[0m\n"
     ]
    },
    {
     "name": "stdout",
     "output_type": "stream",
     "text": [
      "[0]\tvalidation_0-auc:0.99881\n",
      "[100]\tvalidation_0-auc:0.99991\n",
      "[187]\tvalidation_0-auc:0.99992\n"
     ]
    },
    {
     "name": "stderr",
     "output_type": "stream",
     "text": [
      "\u001b[32m[I 2022-12-09 19:33:23,439]\u001b[0m Trial 44 finished with value: 0.9999189947070124 and parameters: {'max_depth': 17, 'colsample_bytree': 0.6506434893062417, 'subsample': 0.8206736574419473, 'alpha': 0.24559384312991625, 'lambda': 7.958816761174589e-06, 'min_child_weight': 1.691275928357683}. Best is trial 33 with value: 0.9999220485920526.\u001b[0m\n"
     ]
    },
    {
     "name": "stdout",
     "output_type": "stream",
     "text": [
      "[0]\tvalidation_0-auc:0.99908\n",
      "[100]\tvalidation_0-auc:0.99991\n",
      "[200]\tvalidation_0-auc:0.99992\n",
      "[243]\tvalidation_0-auc:0.99992\n"
     ]
    },
    {
     "name": "stderr",
     "output_type": "stream",
     "text": [
      "\u001b[32m[I 2022-12-09 19:34:42,071]\u001b[0m Trial 45 finished with value: 0.9999201252424098 and parameters: {'max_depth': 19, 'colsample_bytree': 0.6890894485570006, 'subsample': 0.866072846711905, 'alpha': 0.6207557458672079, 'lambda': 0.0005284755065215357, 'min_child_weight': 1.269433801514758}. Best is trial 33 with value: 0.9999220485920526.\u001b[0m\n"
     ]
    },
    {
     "name": "stdout",
     "output_type": "stream",
     "text": [
      "[0]\tvalidation_0-auc:0.99873\n"
     ]
    },
    {
     "name": "stderr",
     "output_type": "stream",
     "text": [
      "\u001b[32m[I 2022-12-09 19:34:45,682]\u001b[0m Trial 46 pruned. Trial was pruned at iteration 2.\u001b[0m\n"
     ]
    },
    {
     "name": "stdout",
     "output_type": "stream",
     "text": [
      "[0]\tvalidation_0-auc:0.99901\n"
     ]
    },
    {
     "name": "stderr",
     "output_type": "stream",
     "text": [
      "\u001b[32m[I 2022-12-09 19:34:56,450]\u001b[0m Trial 47 pruned. Trial was pruned at iteration 16.\u001b[0m\n"
     ]
    },
    {
     "name": "stdout",
     "output_type": "stream",
     "text": [
      "[0]\tvalidation_0-auc:0.99920\n",
      "[100]\tvalidation_0-auc:0.99991\n",
      "[168]\tvalidation_0-auc:0.99992\n"
     ]
    },
    {
     "name": "stderr",
     "output_type": "stream",
     "text": [
      "\u001b[32m[I 2022-12-09 19:35:58,271]\u001b[0m Trial 48 finished with value: 0.9999188344917571 and parameters: {'max_depth': 19, 'colsample_bytree': 0.6409458191324515, 'subsample': 0.9486584299767553, 'alpha': 0.04905574988631387, 'lambda': 0.001107445401896605, 'min_child_weight': 2.1698296076809367}. Best is trial 33 with value: 0.9999220485920526.\u001b[0m\n"
     ]
    },
    {
     "name": "stdout",
     "output_type": "stream",
     "text": [
      "[0]\tvalidation_0-auc:0.99839\n"
     ]
    },
    {
     "name": "stderr",
     "output_type": "stream",
     "text": [
      "\u001b[32m[I 2022-12-09 19:36:01,195]\u001b[0m Trial 49 pruned. Trial was pruned at iteration 0.\u001b[0m\n"
     ]
    },
    {
     "name": "stdout",
     "output_type": "stream",
     "text": [
      "Number of finished trials: 50\n",
      "Best trial: {'max_depth': 15, 'colsample_bytree': 0.5891797914157996, 'subsample': 0.9915131532117468, 'alpha': 0.01601488896353689, 'lambda': 6.471320277059568e-08, 'min_child_weight': 4.639909639888095}\n"
     ]
    }
   ],
   "source": [
    "date_log = datetime.now().strftime(\"%Y_%m_%d_%H_%M\")\n",
    "study = optuna.create_study(direction=\"maximize\", study_name=f\"parameter_tuning_{config.country}_{date_log}\")\n",
    "func = lambda trial: objective(trial, X_train[features],X_test[features],X_train[\"duplicate_flag\"],X_test[\"duplicate_flag\"])\n",
    "study.optimize(func, n_trials=50)\n",
    "print('Number of finished trials:', len(study.trials))\n",
    "print('Best trial:', study.best_trial.params)\n"
   ]
  },
  {
   "cell_type": "code",
   "execution_count": 14,
   "metadata": {},
   "outputs": [],
   "source": [
    "study.trials_dataframe().to_csv(\"/workspace/Xgboost_trials.csv\",index=None)"
   ]
  },
  {
   "cell_type": "code",
   "execution_count": null,
   "metadata": {},
   "outputs": [],
   "source": []
  }
 ],
 "metadata": {
  "kernelspec": {
   "display_name": "rapids",
   "language": "python",
   "name": "python3"
  },
  "language_info": {
   "codemirror_mode": {
    "name": "ipython",
    "version": 3
   },
   "file_extension": ".py",
   "mimetype": "text/x-python",
   "name": "python",
   "nbconvert_exporter": "python",
   "pygments_lexer": "ipython3",
   "version": "3.8.13 | packaged by conda-forge | (default, Mar 25 2022, 06:04:10) \n[GCC 10.3.0]"
  },
  "orig_nbformat": 4,
  "vscode": {
   "interpreter": {
    "hash": "f708a36acfaef0acf74ccd43dfb58100269bf08fb79032a1e0a6f35bd9856f51"
   }
  }
 },
 "nbformat": 4,
 "nbformat_minor": 2
}
