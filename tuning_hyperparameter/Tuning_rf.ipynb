{
 "cells": [
  {
   "cell_type": "code",
   "execution_count": 1,
   "metadata": {},
   "outputs": [],
   "source": [
    "import pandas as pd\n",
    "from sklearn.model_selection import train_test_split\n",
    "import pandas as pd\n",
    "from lightgbm import LGBMClassifier, early_stopping, log_evaluation\n",
    "from utils.metrics import Metrics_df,print_metrics, precision, recall, f1\n",
    "from Config import config\n",
    "import mlflow\n",
    "import mlflow.lightgbm\n",
    "from sklearn.model_selection import train_test_split\n",
    "import glob\n",
    "from tqdm.auto import tqdm\n",
    "from utils.trace import reduce_mem_usage\n",
    "import numpy as np\n",
    "from cuml.ensemble import RandomForestClassifier as cuRFC\n"
   ]
  },
  {
   "cell_type": "code",
   "execution_count": 2,
   "metadata": {},
   "outputs": [],
   "source": [
    "\n",
    "\n",
    "import pandas as pd\n",
    "from sklearn.metrics import roc_auc_score\n",
    "from Config import config\n",
    "import warnings\n",
    "warnings.filterwarnings(\"ignore\")\n",
    "import optuna  # pip install optuna\n",
    "from sklearn.model_selection import StratifiedKFold\n",
    "from sklearn.model_selection import GroupKFold\n",
    "import numpy as np\n",
    "from sklearn.model_selection import train_test_split\n",
    "from datetime import datetime\n",
    "import gc\n",
    "import pickle\n",
    "import tempfile"
   ]
  },
  {
   "cell_type": "markdown",
   "metadata": {},
   "source": [
    "# Loading data and group split"
   ]
  },
  {
   "cell_type": "code",
   "execution_count": 3,
   "metadata": {},
   "outputs": [],
   "source": [
    "# df_pairs = pd.read_csv(\"/workspace/Training_data/training/Full_training_data.csv\")\n",
    "# df_pairs = df_pairs.sample(frac=1).reset_index(drop=True)\n",
    "# kf = GroupKFold(n_splits=5)\n",
    "# for i, (trn_idx, val_idx) in enumerate(kf.split(df_pairs, df_pairs[\"placeId1\"], df_pairs[\"placeId1\"])):\n",
    "#     df_pairs.loc[val_idx, \"fold\"] = i\n",
    "# df_pairs[\"fold\"].value_counts()\n",
    "# df_pairs.to_csv(\"/workspace/Training_data/training/Full_training_data_fold.csv\",index=None)"
   ]
  },
  {
   "cell_type": "markdown",
   "metadata": {},
   "source": [
    "# Loading data"
   ]
  },
  {
   "cell_type": "code",
   "execution_count": 4,
   "metadata": {},
   "outputs": [],
   "source": [
    "df_pairs = pd.read_csv(\"/workspace/Traininf_model_v4/Training_data/Full_training_data_fold.csv\")"
   ]
  },
  {
   "cell_type": "code",
   "execution_count": 5,
   "metadata": {},
   "outputs": [],
   "source": [
    "features = ['similarity', 'haversine', 'name_davies',\n",
    "       'name_leven', 'name_dice', 'name_jaro', 'name_set_ratio',\n",
    "       'street_davies', 'street_leven', 'street_jaro', 'email_davies',\n",
    "       'email_leven', 'email_jaro', 'url_davies', 'url_leven', 'url_jaro',\n",
    "       'brands_davies', 'brand_leven', 'brand_jaro', 'phone_lcs',\n",
    "       'subcat_WRatio', 'subcat_ratio', 'subcat_token_set_ratio',\n",
    "       'Is_direction_match_0', 'Is_direction_match_1', 'Is_direction_match_2',\n",
    "       'Is_house_match_0', 'Is_house_match_1', 'Is_house_match_2',\n",
    "       'Is_category_match_0', 'Is_category_match_1', 'Is_subcategory_match_0',\n",
    "       'Is_subcategory_match_1', 'Is_subcategory_match_2', 'Is_brand_match_0',\n",
    "       'Is_brand_match_1', 'Is_brand_match_2', 'Is_brand_match_3',\n",
    "       'Is_related_cat_0', 'Is_related_cat_1', 'Is_name_number_match_0',\n",
    "       'Is_name_number_match_1', 'Is_name_number_match_2',\n",
    "       'Is_name_number_match_3', 'is_phone_match_1', 'is_phone_match_2',\n",
    "       'is_phone_match_3', 'is_phone_match_4', 'Is_email_match_0',\n",
    "       'Is_email_match_1', 'Is_email_match_2', 'Is_url_match_0',\n",
    "       'Is_url_match_1', 'Is_url_match_2']"
   ]
  },
  {
   "cell_type": "code",
   "execution_count": 6,
   "metadata": {},
   "outputs": [],
   "source": [
    "\n",
    "def objective(trial, df_pairs):\n",
    "    param_grid = {\n",
    "        \"split_criterion\": trial.suggest_int(\"split_criterion\", 0,1),\n",
    "        \"max_depth\": trial.suggest_int(\"max_depth\", 4, 24),\n",
    "        \"min_samples_leaf\": trial.suggest_int(\"min_samples_leaf\", 1,60,step=1),\n",
    "        \"min_samples_split\": trial.suggest_int(\"min_samples_split\", 2,30,step=1),\n",
    "        \"n_bins\": trial.suggest_int(\"n_bins\", 8,256,step=8),\n",
    "        'n_estimators': trial.suggest_int(\"n_estimators\", 100,1200,step=100),\n",
    "    }\n",
    "    cv_scores = np.empty(5)\n",
    "    cv_scores_train = np.empty(5)\n",
    "    for fold in [0, 1, 2, 3, 4]:\n",
    "        X_train = df_pairs[df_pairs[\"fold\"] != fold]\n",
    "        X_test = df_pairs[df_pairs[\"fold\"] == fold]\n",
    "    \n",
    "\n",
    "        model = cuRFC(verbose=100,**param_grid,max_batch_size=8164,n_streams=10)   \n",
    "    \n",
    "        model.fit(X_train[features],X_train[\"duplicate_flag\"])\n",
    "        preds = model.predict_proba(X_test[features])[:, 1]\n",
    "        preds_train = model.predict_proba(X_train[features])[:, 1]\n",
    "        cv_scores[fold] = roc_auc_score(X_test[\"duplicate_flag\"], preds)\n",
    "        cv_scores_train[fold] = roc_auc_score(X_train[\"duplicate_flag\"],preds_train)\n",
    "    print(f\"train auc score = {np.mean(cv_scores_train)}\")\n",
    "    print(f\"test auc score = {np.mean(cv_scores)}\")\n",
    "    return np.mean(cv_scores)"
   ]
  },
  {
   "cell_type": "code",
   "execution_count": 7,
   "metadata": {},
   "outputs": [
    {
     "name": "stderr",
     "output_type": "stream",
     "text": [
      "\u001b[32m[I 2022-12-11 15:25:26,001]\u001b[0m A new study created in memory with name: parameter_tuning_GBR_2022_12_11_15_25\u001b[0m\n"
     ]
    },
    {
     "name": "stdout",
     "output_type": "stream",
     "text": [
      "[D] [15:26:02.042631] /workspace/.conda-bld/work/python/_skbuild/linux-x86_64-3.8/cmake-build/cuml/common/logger.cxx:3188 Expected column ('F') major order, but got the opposite. Converting data, this will result in additional memory utilization.\n",
      "[D] [15:26:34.501950] /workspace/.conda-bld/work/python/_skbuild/linux-x86_64-3.8/cmake-build/cuml/common/logger.cxx:3188 Expected column ('F') major order, but got the opposite. Converting data, this will result in additional memory utilization.\n",
      "[D] [15:27:06.789211] /workspace/.conda-bld/work/python/_skbuild/linux-x86_64-3.8/cmake-build/cuml/common/logger.cxx:3188 Expected column ('F') major order, but got the opposite. Converting data, this will result in additional memory utilization.\n",
      "[D] [15:27:39.040933] /workspace/.conda-bld/work/python/_skbuild/linux-x86_64-3.8/cmake-build/cuml/common/logger.cxx:3188 Expected column ('F') major order, but got the opposite. Converting data, this will result in additional memory utilization.\n"
     ]
    },
    {
     "name": "stderr",
     "output_type": "stream",
     "text": [
      "\u001b[32m[I 2022-12-11 15:28:10,336]\u001b[0m Trial 0 finished with value: 0.9996428843749028 and parameters: {'split_criterion': 0, 'max_depth': 24, 'min_samples_leaf': 59, 'min_samples_split': 14, 'n_bins': 160, 'n_estimators': 1000}. Best is trial 0 with value: 0.9996428843749028.\u001b[0m\n"
     ]
    },
    {
     "name": "stdout",
     "output_type": "stream",
     "text": [
      "train auc score = 0.9997532015848589\n",
      "test auc score = 0.9996428843749028\n",
      "[D] [15:28:11.288168] /workspace/.conda-bld/work/python/_skbuild/linux-x86_64-3.8/cmake-build/cuml/common/logger.cxx:3188 Expected column ('F') major order, but got the opposite. Converting data, this will result in additional memory utilization.\n",
      "[D] [15:28:18.709937] /workspace/.conda-bld/work/python/_skbuild/linux-x86_64-3.8/cmake-build/cuml/common/logger.cxx:3188 Expected column ('F') major order, but got the opposite. Converting data, this will result in additional memory utilization.\n",
      "[D] [15:28:26.063084] /workspace/.conda-bld/work/python/_skbuild/linux-x86_64-3.8/cmake-build/cuml/common/logger.cxx:3188 Expected column ('F') major order, but got the opposite. Converting data, this will result in additional memory utilization.\n",
      "[D] [15:28:33.614923] /workspace/.conda-bld/work/python/_skbuild/linux-x86_64-3.8/cmake-build/cuml/common/logger.cxx:3188 Expected column ('F') major order, but got the opposite. Converting data, this will result in additional memory utilization.\n",
      "[D] [15:28:40.984064] /workspace/.conda-bld/work/python/_skbuild/linux-x86_64-3.8/cmake-build/cuml/common/logger.cxx:3188 Expected column ('F') major order, but got the opposite. Converting data, this will result in additional memory utilization.\n"
     ]
    },
    {
     "name": "stderr",
     "output_type": "stream",
     "text": [
      "\u001b[32m[I 2022-12-11 15:28:47,336]\u001b[0m Trial 1 finished with value: 0.9991736872523909 and parameters: {'split_criterion': 0, 'max_depth': 9, 'min_samples_leaf': 38, 'min_samples_split': 17, 'n_bins': 144, 'n_estimators': 200}. Best is trial 0 with value: 0.9996428843749028.\u001b[0m\n"
     ]
    },
    {
     "name": "stdout",
     "output_type": "stream",
     "text": [
      "train auc score = 0.999216916665981\n",
      "test auc score = 0.9991736872523909\n",
      "[D] [15:28:48.294322] /workspace/.conda-bld/work/python/_skbuild/linux-x86_64-3.8/cmake-build/cuml/common/logger.cxx:3188 Expected column ('F') major order, but got the opposite. Converting data, this will result in additional memory utilization.\n",
      "[D] [15:29:14.224995] /workspace/.conda-bld/work/python/_skbuild/linux-x86_64-3.8/cmake-build/cuml/common/logger.cxx:3188 Expected column ('F') major order, but got the opposite. Converting data, this will result in additional memory utilization.\n",
      "[D] [15:29:40.454235] /workspace/.conda-bld/work/python/_skbuild/linux-x86_64-3.8/cmake-build/cuml/common/logger.cxx:3188 Expected column ('F') major order, but got the opposite. Converting data, this will result in additional memory utilization.\n",
      "[D] [15:30:06.757055] /workspace/.conda-bld/work/python/_skbuild/linux-x86_64-3.8/cmake-build/cuml/common/logger.cxx:3188 Expected column ('F') major order, but got the opposite. Converting data, this will result in additional memory utilization.\n",
      "[D] [15:30:32.823385] /workspace/.conda-bld/work/python/_skbuild/linux-x86_64-3.8/cmake-build/cuml/common/logger.cxx:3188 Expected column ('F') major order, but got the opposite. Converting data, this will result in additional memory utilization.\n"
     ]
    },
    {
     "name": "stderr",
     "output_type": "stream",
     "text": [
      "\u001b[32m[I 2022-12-11 15:30:57,622]\u001b[0m Trial 2 finished with value: 0.9994188422841249 and parameters: {'split_criterion': 1, 'max_depth': 9, 'min_samples_leaf': 18, 'min_samples_split': 10, 'n_bins': 176, 'n_estimators': 1100}. Best is trial 0 with value: 0.9996428843749028.\u001b[0m\n"
     ]
    },
    {
     "name": "stdout",
     "output_type": "stream",
     "text": [
      "train auc score = 0.9994693726645757\n",
      "test auc score = 0.9994188422841249\n",
      "[D] [15:30:58.564982] /workspace/.conda-bld/work/python/_skbuild/linux-x86_64-3.8/cmake-build/cuml/common/logger.cxx:3188 Expected column ('F') major order, but got the opposite. Converting data, this will result in additional memory utilization.\n",
      "[D] [15:31:17.243652] /workspace/.conda-bld/work/python/_skbuild/linux-x86_64-3.8/cmake-build/cuml/common/logger.cxx:3188 Expected column ('F') major order, but got the opposite. Converting data, this will result in additional memory utilization.\n",
      "[D] [15:31:35.914017] /workspace/.conda-bld/work/python/_skbuild/linux-x86_64-3.8/cmake-build/cuml/common/logger.cxx:3188 Expected column ('F') major order, but got the opposite. Converting data, this will result in additional memory utilization.\n",
      "[D] [15:31:54.693320] /workspace/.conda-bld/work/python/_skbuild/linux-x86_64-3.8/cmake-build/cuml/common/logger.cxx:3188 Expected column ('F') major order, but got the opposite. Converting data, this will result in additional memory utilization.\n",
      "[D] [15:32:12.844598] /workspace/.conda-bld/work/python/_skbuild/linux-x86_64-3.8/cmake-build/cuml/common/logger.cxx:3188 Expected column ('F') major order, but got the opposite. Converting data, this will result in additional memory utilization.\n"
     ]
    },
    {
     "name": "stderr",
     "output_type": "stream",
     "text": [
      "\u001b[32m[I 2022-12-11 15:32:30,218]\u001b[0m Trial 3 finished with value: 0.9963339934874027 and parameters: {'split_criterion': 0, 'max_depth': 4, 'min_samples_leaf': 26, 'min_samples_split': 12, 'n_bins': 136, 'n_estimators': 1000}. Best is trial 0 with value: 0.9996428843749028.\u001b[0m\n"
     ]
    },
    {
     "name": "stdout",
     "output_type": "stream",
     "text": [
      "train auc score = 0.9963537718306765\n",
      "test auc score = 0.9963339934874027\n",
      "[D] [15:32:31.182829] /workspace/.conda-bld/work/python/_skbuild/linux-x86_64-3.8/cmake-build/cuml/common/logger.cxx:3188 Expected column ('F') major order, but got the opposite. Converting data, this will result in additional memory utilization.\n",
      "[D] [15:33:04.118216] /workspace/.conda-bld/work/python/_skbuild/linux-x86_64-3.8/cmake-build/cuml/common/logger.cxx:3188 Expected column ('F') major order, but got the opposite. Converting data, this will result in additional memory utilization.\n",
      "[D] [15:33:36.994076] /workspace/.conda-bld/work/python/_skbuild/linux-x86_64-3.8/cmake-build/cuml/common/logger.cxx:3188 Expected column ('F') major order, but got the opposite. Converting data, this will result in additional memory utilization.\n",
      "[D] [15:34:09.448149] /workspace/.conda-bld/work/python/_skbuild/linux-x86_64-3.8/cmake-build/cuml/common/logger.cxx:3188 Expected column ('F') major order, but got the opposite. Converting data, this will result in additional memory utilization.\n",
      "[D] [15:34:41.986386] /workspace/.conda-bld/work/python/_skbuild/linux-x86_64-3.8/cmake-build/cuml/common/logger.cxx:3188 Expected column ('F') major order, but got the opposite. Converting data, this will result in additional memory utilization.\n"
     ]
    },
    {
     "name": "stderr",
     "output_type": "stream",
     "text": [
      "\u001b[32m[I 2022-12-11 15:35:13,946]\u001b[0m Trial 4 finished with value: 0.9997749788697906 and parameters: {'split_criterion': 1, 'max_depth': 24, 'min_samples_leaf': 11, 'min_samples_split': 25, 'n_bins': 136, 'n_estimators': 1200}. Best is trial 4 with value: 0.9997749788697906.\u001b[0m\n"
     ]
    },
    {
     "name": "stdout",
     "output_type": "stream",
     "text": [
      "train auc score = 0.9999172777773779\n",
      "test auc score = 0.9997749788697906\n",
      "[D] [15:35:14.907979] /workspace/.conda-bld/work/python/_skbuild/linux-x86_64-3.8/cmake-build/cuml/common/logger.cxx:3188 Expected column ('F') major order, but got the opposite. Converting data, this will result in additional memory utilization.\n",
      "[D] [15:35:36.099749] /workspace/.conda-bld/work/python/_skbuild/linux-x86_64-3.8/cmake-build/cuml/common/logger.cxx:3188 Expected column ('F') major order, but got the opposite. Converting data, this will result in additional memory utilization.\n",
      "[D] [15:35:57.049127] /workspace/.conda-bld/work/python/_skbuild/linux-x86_64-3.8/cmake-build/cuml/common/logger.cxx:3188 Expected column ('F') major order, but got the opposite. Converting data, this will result in additional memory utilization.\n",
      "[D] [15:36:18.070173] /workspace/.conda-bld/work/python/_skbuild/linux-x86_64-3.8/cmake-build/cuml/common/logger.cxx:3188 Expected column ('F') major order, but got the opposite. Converting data, this will result in additional memory utilization.\n",
      "[D] [15:36:39.116302] /workspace/.conda-bld/work/python/_skbuild/linux-x86_64-3.8/cmake-build/cuml/common/logger.cxx:3188 Expected column ('F') major order, but got the opposite. Converting data, this will result in additional memory utilization.\n"
     ]
    },
    {
     "name": "stderr",
     "output_type": "stream",
     "text": [
      "\u001b[32m[I 2022-12-11 15:36:59,000]\u001b[0m Trial 5 finished with value: 0.9994939165827335 and parameters: {'split_criterion': 0, 'max_depth': 12, 'min_samples_leaf': 54, 'min_samples_split': 27, 'n_bins': 144, 'n_estimators': 700}. Best is trial 4 with value: 0.9997749788697906.\u001b[0m\n"
     ]
    },
    {
     "name": "stdout",
     "output_type": "stream",
     "text": [
      "train auc score = 0.9995530996847176\n",
      "test auc score = 0.9994939165827335\n",
      "[D] [15:37:00.004695] /workspace/.conda-bld/work/python/_skbuild/linux-x86_64-3.8/cmake-build/cuml/common/logger.cxx:3188 Expected column ('F') major order, but got the opposite. Converting data, this will result in additional memory utilization.\n",
      "[D] [15:37:26.443151] /workspace/.conda-bld/work/python/_skbuild/linux-x86_64-3.8/cmake-build/cuml/common/logger.cxx:3188 Expected column ('F') major order, but got the opposite. Converting data, this will result in additional memory utilization.\n",
      "[D] [15:37:52.896230] /workspace/.conda-bld/work/python/_skbuild/linux-x86_64-3.8/cmake-build/cuml/common/logger.cxx:3188 Expected column ('F') major order, but got the opposite. Converting data, this will result in additional memory utilization.\n",
      "[D] [15:38:19.242168] /workspace/.conda-bld/work/python/_skbuild/linux-x86_64-3.8/cmake-build/cuml/common/logger.cxx:3188 Expected column ('F') major order, but got the opposite. Converting data, this will result in additional memory utilization.\n",
      "[D] [15:38:45.637007] /workspace/.conda-bld/work/python/_skbuild/linux-x86_64-3.8/cmake-build/cuml/common/logger.cxx:3188 Expected column ('F') major order, but got the opposite. Converting data, this will result in additional memory utilization.\n"
     ]
    },
    {
     "name": "stderr",
     "output_type": "stream",
     "text": [
      "\u001b[32m[I 2022-12-11 15:39:10,824]\u001b[0m Trial 6 finished with value: 0.9996719664853962 and parameters: {'split_criterion': 0, 'max_depth': 20, 'min_samples_leaf': 39, 'min_samples_split': 29, 'n_bins': 200, 'n_estimators': 800}. Best is trial 4 with value: 0.9997749788697906.\u001b[0m\n"
     ]
    },
    {
     "name": "stdout",
     "output_type": "stream",
     "text": [
      "train auc score = 0.9997846173976874\n",
      "test auc score = 0.9996719664853962\n",
      "[D] [15:39:11.787648] /workspace/.conda-bld/work/python/_skbuild/linux-x86_64-3.8/cmake-build/cuml/common/logger.cxx:3188 Expected column ('F') major order, but got the opposite. Converting data, this will result in additional memory utilization.\n",
      "[D] [15:39:20.478483] /workspace/.conda-bld/work/python/_skbuild/linux-x86_64-3.8/cmake-build/cuml/common/logger.cxx:3188 Expected column ('F') major order, but got the opposite. Converting data, this will result in additional memory utilization.\n",
      "[D] [15:39:29.401757] /workspace/.conda-bld/work/python/_skbuild/linux-x86_64-3.8/cmake-build/cuml/common/logger.cxx:3188 Expected column ('F') major order, but got the opposite. Converting data, this will result in additional memory utilization.\n",
      "[D] [15:39:38.172810] /workspace/.conda-bld/work/python/_skbuild/linux-x86_64-3.8/cmake-build/cuml/common/logger.cxx:3188 Expected column ('F') major order, but got the opposite. Converting data, this will result in additional memory utilization.\n",
      "[D] [15:39:46.917723] /workspace/.conda-bld/work/python/_skbuild/linux-x86_64-3.8/cmake-build/cuml/common/logger.cxx:3188 Expected column ('F') major order, but got the opposite. Converting data, this will result in additional memory utilization.\n"
     ]
    },
    {
     "name": "stderr",
     "output_type": "stream",
     "text": [
      "\u001b[32m[I 2022-12-11 15:39:54,768]\u001b[0m Trial 7 finished with value: 0.9996825471939796 and parameters: {'split_criterion': 1, 'max_depth': 16, 'min_samples_leaf': 24, 'min_samples_split': 5, 'n_bins': 24, 'n_estimators': 200}. Best is trial 4 with value: 0.9997749788697906.\u001b[0m\n"
     ]
    },
    {
     "name": "stdout",
     "output_type": "stream",
     "text": [
      "train auc score = 0.9997753408282222\n",
      "test auc score = 0.9996825471939796\n",
      "[D] [15:39:55.773213] /workspace/.conda-bld/work/python/_skbuild/linux-x86_64-3.8/cmake-build/cuml/common/logger.cxx:3188 Expected column ('F') major order, but got the opposite. Converting data, this will result in additional memory utilization.\n",
      "[D] [15:40:00.804894] /workspace/.conda-bld/work/python/_skbuild/linux-x86_64-3.8/cmake-build/cuml/common/logger.cxx:3188 Expected column ('F') major order, but got the opposite. Converting data, this will result in additional memory utilization.\n",
      "[D] [15:40:05.838615] /workspace/.conda-bld/work/python/_skbuild/linux-x86_64-3.8/cmake-build/cuml/common/logger.cxx:3188 Expected column ('F') major order, but got the opposite. Converting data, this will result in additional memory utilization.\n",
      "[D] [15:40:10.908225] /workspace/.conda-bld/work/python/_skbuild/linux-x86_64-3.8/cmake-build/cuml/common/logger.cxx:3188 Expected column ('F') major order, but got the opposite. Converting data, this will result in additional memory utilization.\n",
      "[D] [15:40:15.901338] /workspace/.conda-bld/work/python/_skbuild/linux-x86_64-3.8/cmake-build/cuml/common/logger.cxx:3188 Expected column ('F') major order, but got the opposite. Converting data, this will result in additional memory utilization.\n"
     ]
    },
    {
     "name": "stderr",
     "output_type": "stream",
     "text": [
      "\u001b[32m[I 2022-12-11 15:40:19,918]\u001b[0m Trial 8 finished with value: 0.9995709647752881 and parameters: {'split_criterion': 1, 'max_depth': 23, 'min_samples_leaf': 54, 'min_samples_split': 23, 'n_bins': 8, 'n_estimators': 100}. Best is trial 4 with value: 0.9997749788697906.\u001b[0m\n"
     ]
    },
    {
     "name": "stdout",
     "output_type": "stream",
     "text": [
      "train auc score = 0.9996540926156001\n",
      "test auc score = 0.9995709647752881\n",
      "[D] [15:40:20.900535] /workspace/.conda-bld/work/python/_skbuild/linux-x86_64-3.8/cmake-build/cuml/common/logger.cxx:3188 Expected column ('F') major order, but got the opposite. Converting data, this will result in additional memory utilization.\n",
      "[D] [15:40:31.021371] /workspace/.conda-bld/work/python/_skbuild/linux-x86_64-3.8/cmake-build/cuml/common/logger.cxx:3188 Expected column ('F') major order, but got the opposite. Converting data, this will result in additional memory utilization.\n",
      "[D] [15:40:41.043054] /workspace/.conda-bld/work/python/_skbuild/linux-x86_64-3.8/cmake-build/cuml/common/logger.cxx:3188 Expected column ('F') major order, but got the opposite. Converting data, this will result in additional memory utilization.\n",
      "[D] [15:40:51.223798] /workspace/.conda-bld/work/python/_skbuild/linux-x86_64-3.8/cmake-build/cuml/common/logger.cxx:3188 Expected column ('F') major order, but got the opposite. Converting data, this will result in additional memory utilization.\n",
      "[D] [15:41:01.273270] /workspace/.conda-bld/work/python/_skbuild/linux-x86_64-3.8/cmake-build/cuml/common/logger.cxx:3188 Expected column ('F') major order, but got the opposite. Converting data, this will result in additional memory utilization.\n"
     ]
    },
    {
     "name": "stderr",
     "output_type": "stream",
     "text": [
      "\u001b[32m[I 2022-12-11 15:41:10,418]\u001b[0m Trial 9 finished with value: 0.9994041996792198 and parameters: {'split_criterion': 0, 'max_depth': 11, 'min_samples_leaf': 56, 'min_samples_split': 16, 'n_bins': 64, 'n_estimators': 300}. Best is trial 4 with value: 0.9997749788697906.\u001b[0m\n"
     ]
    },
    {
     "name": "stdout",
     "output_type": "stream",
     "text": [
      "train auc score = 0.9994547115108215\n",
      "test auc score = 0.9994041996792198\n",
      "[D] [15:41:11.382727] /workspace/.conda-bld/work/python/_skbuild/linux-x86_64-3.8/cmake-build/cuml/common/logger.cxx:3188 Expected column ('F') major order, but got the opposite. Converting data, this will result in additional memory utilization.\n",
      "[D] [15:41:26.643077] /workspace/.conda-bld/work/python/_skbuild/linux-x86_64-3.8/cmake-build/cuml/common/logger.cxx:3188 Expected column ('F') major order, but got the opposite. Converting data, this will result in additional memory utilization.\n",
      "[D] [15:41:41.836732] /workspace/.conda-bld/work/python/_skbuild/linux-x86_64-3.8/cmake-build/cuml/common/logger.cxx:3188 Expected column ('F') major order, but got the opposite. Converting data, this will result in additional memory utilization.\n",
      "[D] [15:41:57.060007] /workspace/.conda-bld/work/python/_skbuild/linux-x86_64-3.8/cmake-build/cuml/common/logger.cxx:3188 Expected column ('F') major order, but got the opposite. Converting data, this will result in additional memory utilization.\n",
      "[D] [15:42:12.205048] /workspace/.conda-bld/work/python/_skbuild/linux-x86_64-3.8/cmake-build/cuml/common/logger.cxx:3188 Expected column ('F') major order, but got the opposite. Converting data, this will result in additional memory utilization.\n"
     ]
    },
    {
     "name": "stderr",
     "output_type": "stream",
     "text": [
      "\u001b[32m[I 2022-12-11 15:42:26,511]\u001b[0m Trial 10 finished with value: 0.9997762928923187 and parameters: {'split_criterion': 1, 'max_depth': 17, 'min_samples_leaf': 4, 'min_samples_split': 22, 'n_bins': 248, 'n_estimators': 500}. Best is trial 10 with value: 0.9997762928923187.\u001b[0m\n"
     ]
    },
    {
     "name": "stdout",
     "output_type": "stream",
     "text": [
      "train auc score = 0.9999052032961788\n",
      "test auc score = 0.9997762928923187\n",
      "[D] [15:42:27.544132] /workspace/.conda-bld/work/python/_skbuild/linux-x86_64-3.8/cmake-build/cuml/common/logger.cxx:3188 Expected column ('F') major order, but got the opposite. Converting data, this will result in additional memory utilization.\n",
      "[D] [15:42:42.786537] /workspace/.conda-bld/work/python/_skbuild/linux-x86_64-3.8/cmake-build/cuml/common/logger.cxx:3188 Expected column ('F') major order, but got the opposite. Converting data, this will result in additional memory utilization.\n",
      "[D] [15:42:58.145469] /workspace/.conda-bld/work/python/_skbuild/linux-x86_64-3.8/cmake-build/cuml/common/logger.cxx:3188 Expected column ('F') major order, but got the opposite. Converting data, this will result in additional memory utilization.\n",
      "[D] [15:43:13.375869] /workspace/.conda-bld/work/python/_skbuild/linux-x86_64-3.8/cmake-build/cuml/common/logger.cxx:3188 Expected column ('F') major order, but got the opposite. Converting data, this will result in additional memory utilization.\n",
      "[D] [15:43:28.790760] /workspace/.conda-bld/work/python/_skbuild/linux-x86_64-3.8/cmake-build/cuml/common/logger.cxx:3188 Expected column ('F') major order, but got the opposite. Converting data, this will result in additional memory utilization.\n"
     ]
    },
    {
     "name": "stderr",
     "output_type": "stream",
     "text": [
      "\u001b[32m[I 2022-12-11 15:43:43,013]\u001b[0m Trial 11 finished with value: 0.9997750690666696 and parameters: {'split_criterion': 1, 'max_depth': 17, 'min_samples_leaf': 1, 'min_samples_split': 23, 'n_bins': 256, 'n_estimators': 500}. Best is trial 10 with value: 0.9997762928923187.\u001b[0m\n"
     ]
    },
    {
     "name": "stdout",
     "output_type": "stream",
     "text": [
      "train auc score = 0.999916367498605\n",
      "test auc score = 0.9997750690666696\n",
      "[D] [15:43:43.977022] /workspace/.conda-bld/work/python/_skbuild/linux-x86_64-3.8/cmake-build/cuml/common/logger.cxx:3188 Expected column ('F') major order, but got the opposite. Converting data, this will result in additional memory utilization.\n",
      "[D] [15:43:59.231981] /workspace/.conda-bld/work/python/_skbuild/linux-x86_64-3.8/cmake-build/cuml/common/logger.cxx:3188 Expected column ('F') major order, but got the opposite. Converting data, this will result in additional memory utilization.\n",
      "[D] [15:44:14.455831] /workspace/.conda-bld/work/python/_skbuild/linux-x86_64-3.8/cmake-build/cuml/common/logger.cxx:3188 Expected column ('F') major order, but got the opposite. Converting data, this will result in additional memory utilization.\n",
      "[D] [15:44:29.756129] /workspace/.conda-bld/work/python/_skbuild/linux-x86_64-3.8/cmake-build/cuml/common/logger.cxx:3188 Expected column ('F') major order, but got the opposite. Converting data, this will result in additional memory utilization.\n",
      "[D] [15:44:45.034623] /workspace/.conda-bld/work/python/_skbuild/linux-x86_64-3.8/cmake-build/cuml/common/logger.cxx:3188 Expected column ('F') major order, but got the opposite. Converting data, this will result in additional memory utilization.\n"
     ]
    },
    {
     "name": "stderr",
     "output_type": "stream",
     "text": [
      "\u001b[32m[I 2022-12-11 15:44:59,575]\u001b[0m Trial 12 finished with value: 0.9997787304471635 and parameters: {'split_criterion': 1, 'max_depth': 17, 'min_samples_leaf': 2, 'min_samples_split': 20, 'n_bins': 256, 'n_estimators': 500}. Best is trial 12 with value: 0.9997787304471635.\u001b[0m\n"
     ]
    },
    {
     "name": "stdout",
     "output_type": "stream",
     "text": [
      "train auc score = 0.9999150453118666\n",
      "test auc score = 0.9997787304471635\n",
      "[D] [15:45:00.586807] /workspace/.conda-bld/work/python/_skbuild/linux-x86_64-3.8/cmake-build/cuml/common/logger.cxx:3188 Expected column ('F') major order, but got the opposite. Converting data, this will result in additional memory utilization.\n",
      "[D] [15:45:15.991816] /workspace/.conda-bld/work/python/_skbuild/linux-x86_64-3.8/cmake-build/cuml/common/logger.cxx:3188 Expected column ('F') major order, but got the opposite. Converting data, this will result in additional memory utilization.\n",
      "[D] [15:45:31.456807] /workspace/.conda-bld/work/python/_skbuild/linux-x86_64-3.8/cmake-build/cuml/common/logger.cxx:3188 Expected column ('F') major order, but got the opposite. Converting data, this will result in additional memory utilization.\n",
      "[D] [15:45:46.970151] /workspace/.conda-bld/work/python/_skbuild/linux-x86_64-3.8/cmake-build/cuml/common/logger.cxx:3188 Expected column ('F') major order, but got the opposite. Converting data, this will result in additional memory utilization.\n",
      "[D] [15:46:02.287571] /workspace/.conda-bld/work/python/_skbuild/linux-x86_64-3.8/cmake-build/cuml/common/logger.cxx:3188 Expected column ('F') major order, but got the opposite. Converting data, this will result in additional memory utilization.\n"
     ]
    },
    {
     "name": "stderr",
     "output_type": "stream",
     "text": [
      "\u001b[32m[I 2022-12-11 15:46:16,815]\u001b[0m Trial 13 finished with value: 0.9997873113194027 and parameters: {'split_criterion': 1, 'max_depth': 18, 'min_samples_leaf': 2, 'min_samples_split': 20, 'n_bins': 256, 'n_estimators': 500}. Best is trial 13 with value: 0.9997873113194027.\u001b[0m\n"
     ]
    },
    {
     "name": "stdout",
     "output_type": "stream",
     "text": [
      "train auc score = 0.9999291850071195\n",
      "test auc score = 0.9997873113194027\n",
      "[D] [15:46:17.800461] /workspace/.conda-bld/work/python/_skbuild/linux-x86_64-3.8/cmake-build/cuml/common/logger.cxx:3188 Expected column ('F') major order, but got the opposite. Converting data, this will result in additional memory utilization.\n",
      "[D] [15:46:33.256792] /workspace/.conda-bld/work/python/_skbuild/linux-x86_64-3.8/cmake-build/cuml/common/logger.cxx:3188 Expected column ('F') major order, but got the opposite. Converting data, this will result in additional memory utilization.\n",
      "[D] [15:46:48.646094] /workspace/.conda-bld/work/python/_skbuild/linux-x86_64-3.8/cmake-build/cuml/common/logger.cxx:3188 Expected column ('F') major order, but got the opposite. Converting data, this will result in additional memory utilization.\n",
      "[D] [15:47:04.096005] /workspace/.conda-bld/work/python/_skbuild/linux-x86_64-3.8/cmake-build/cuml/common/logger.cxx:3188 Expected column ('F') major order, but got the opposite. Converting data, this will result in additional memory utilization.\n",
      "[D] [15:47:19.497201] /workspace/.conda-bld/work/python/_skbuild/linux-x86_64-3.8/cmake-build/cuml/common/logger.cxx:3188 Expected column ('F') major order, but got the opposite. Converting data, this will result in additional memory utilization.\n"
     ]
    },
    {
     "name": "stderr",
     "output_type": "stream",
     "text": [
      "\u001b[32m[I 2022-12-11 15:47:33,902]\u001b[0m Trial 14 finished with value: 0.99977401827602 and parameters: {'split_criterion': 1, 'max_depth': 20, 'min_samples_leaf': 11, 'min_samples_split': 19, 'n_bins': 224, 'n_estimators': 500}. Best is trial 13 with value: 0.9997873113194027.\u001b[0m\n"
     ]
    },
    {
     "name": "stdout",
     "output_type": "stream",
     "text": [
      "train auc score = 0.9999077036366799\n",
      "test auc score = 0.99977401827602\n",
      "[D] [15:47:34.910171] /workspace/.conda-bld/work/python/_skbuild/linux-x86_64-3.8/cmake-build/cuml/common/logger.cxx:3188 Expected column ('F') major order, but got the opposite. Converting data, this will result in additional memory utilization.\n",
      "[D] [15:47:47.308181] /workspace/.conda-bld/work/python/_skbuild/linux-x86_64-3.8/cmake-build/cuml/common/logger.cxx:3188 Expected column ('F') major order, but got the opposite. Converting data, this will result in additional memory utilization.\n",
      "[D] [15:47:59.813850] /workspace/.conda-bld/work/python/_skbuild/linux-x86_64-3.8/cmake-build/cuml/common/logger.cxx:3188 Expected column ('F') major order, but got the opposite. Converting data, this will result in additional memory utilization.\n",
      "[D] [15:48:12.314908] /workspace/.conda-bld/work/python/_skbuild/linux-x86_64-3.8/cmake-build/cuml/common/logger.cxx:3188 Expected column ('F') major order, but got the opposite. Converting data, this will result in additional memory utilization.\n",
      "[D] [15:48:24.822982] /workspace/.conda-bld/work/python/_skbuild/linux-x86_64-3.8/cmake-build/cuml/common/logger.cxx:3188 Expected column ('F') major order, but got the opposite. Converting data, this will result in additional memory utilization.\n"
     ]
    },
    {
     "name": "stderr",
     "output_type": "stream",
     "text": [
      "\u001b[32m[I 2022-12-11 15:48:36,247]\u001b[0m Trial 15 finished with value: 0.9997569386885043 and parameters: {'split_criterion': 1, 'max_depth': 20, 'min_samples_leaf': 10, 'min_samples_split': 21, 'n_bins': 88, 'n_estimators': 400}. Best is trial 13 with value: 0.9997873113194027.\u001b[0m\n"
     ]
    },
    {
     "name": "stdout",
     "output_type": "stream",
     "text": [
      "train auc score = 0.9999001058927242\n",
      "test auc score = 0.9997569386885043\n",
      "[D] [15:48:37.211495] /workspace/.conda-bld/work/python/_skbuild/linux-x86_64-3.8/cmake-build/cuml/common/logger.cxx:3188 Expected column ('F') major order, but got the opposite. Converting data, this will result in additional memory utilization.\n",
      "[D] [15:48:57.741974] /workspace/.conda-bld/work/python/_skbuild/linux-x86_64-3.8/cmake-build/cuml/common/logger.cxx:3188 Expected column ('F') major order, but got the opposite. Converting data, this will result in additional memory utilization.\n",
      "[D] [15:49:18.150444] /workspace/.conda-bld/work/python/_skbuild/linux-x86_64-3.8/cmake-build/cuml/common/logger.cxx:3188 Expected column ('F') major order, but got the opposite. Converting data, this will result in additional memory utilization.\n",
      "[D] [15:49:38.735599] /workspace/.conda-bld/work/python/_skbuild/linux-x86_64-3.8/cmake-build/cuml/common/logger.cxx:3188 Expected column ('F') major order, but got the opposite. Converting data, this will result in additional memory utilization.\n",
      "[D] [15:49:59.131663] /workspace/.conda-bld/work/python/_skbuild/linux-x86_64-3.8/cmake-build/cuml/common/logger.cxx:3188 Expected column ('F') major order, but got the opposite. Converting data, this will result in additional memory utilization.\n"
     ]
    },
    {
     "name": "stderr",
     "output_type": "stream",
     "text": [
      "\u001b[32m[I 2022-12-11 15:50:18,657]\u001b[0m Trial 16 finished with value: 0.9997095028085274 and parameters: {'split_criterion': 1, 'max_depth': 14, 'min_samples_leaf': 18, 'min_samples_split': 8, 'n_bins': 208, 'n_estimators': 700}. Best is trial 13 with value: 0.9997873113194027.\u001b[0m\n"
     ]
    },
    {
     "name": "stdout",
     "output_type": "stream",
     "text": [
      "train auc score = 0.9997955707420794\n",
      "test auc score = 0.9997095028085274\n",
      "[D] [15:50:19.658963] /workspace/.conda-bld/work/python/_skbuild/linux-x86_64-3.8/cmake-build/cuml/common/logger.cxx:3188 Expected column ('F') major order, but got the opposite. Converting data, this will result in additional memory utilization.\n",
      "[D] [15:50:42.198620] /workspace/.conda-bld/work/python/_skbuild/linux-x86_64-3.8/cmake-build/cuml/common/logger.cxx:3188 Expected column ('F') major order, but got the opposite. Converting data, this will result in additional memory utilization.\n",
      "[D] [15:51:04.406119] /workspace/.conda-bld/work/python/_skbuild/linux-x86_64-3.8/cmake-build/cuml/common/logger.cxx:3188 Expected column ('F') major order, but got the opposite. Converting data, this will result in additional memory utilization.\n",
      "[D] [15:51:26.691156] /workspace/.conda-bld/work/python/_skbuild/linux-x86_64-3.8/cmake-build/cuml/common/logger.cxx:3188 Expected column ('F') major order, but got the opposite. Converting data, this will result in additional memory utilization.\n",
      "[D] [15:51:48.916629] /workspace/.conda-bld/work/python/_skbuild/linux-x86_64-3.8/cmake-build/cuml/common/logger.cxx:3188 Expected column ('F') major order, but got the opposite. Converting data, this will result in additional memory utilization.\n"
     ]
    },
    {
     "name": "stderr",
     "output_type": "stream",
     "text": [
      "\u001b[32m[I 2022-12-11 15:52:10,423]\u001b[0m Trial 17 finished with value: 0.9997512419789054 and parameters: {'split_criterion': 1, 'max_depth': 15, 'min_samples_leaf': 5, 'min_samples_split': 18, 'n_bins': 232, 'n_estimators': 800}. Best is trial 13 with value: 0.9997873113194027.\u001b[0m\n"
     ]
    },
    {
     "name": "stdout",
     "output_type": "stream",
     "text": [
      "train auc score = 0.9998651690158272\n",
      "test auc score = 0.9997512419789054\n",
      "[D] [15:52:11.399456] /workspace/.conda-bld/work/python/_skbuild/linux-x86_64-3.8/cmake-build/cuml/common/logger.cxx:3188 Expected column ('F') major order, but got the opposite. Converting data, this will result in additional memory utilization.\n",
      "[D] [15:52:28.883734] /workspace/.conda-bld/work/python/_skbuild/linux-x86_64-3.8/cmake-build/cuml/common/logger.cxx:3188 Expected column ('F') major order, but got the opposite. Converting data, this will result in additional memory utilization.\n",
      "[D] [15:52:46.484119] /workspace/.conda-bld/work/python/_skbuild/linux-x86_64-3.8/cmake-build/cuml/common/logger.cxx:3188 Expected column ('F') major order, but got the opposite. Converting data, this will result in additional memory utilization.\n",
      "[D] [15:53:03.952453] /workspace/.conda-bld/work/python/_skbuild/linux-x86_64-3.8/cmake-build/cuml/common/logger.cxx:3188 Expected column ('F') major order, but got the opposite. Converting data, this will result in additional memory utilization.\n",
      "[D] [15:53:21.474420] /workspace/.conda-bld/work/python/_skbuild/linux-x86_64-3.8/cmake-build/cuml/common/logger.cxx:3188 Expected column ('F') major order, but got the opposite. Converting data, this will result in additional memory utilization.\n"
     ]
    },
    {
     "name": "stderr",
     "output_type": "stream",
     "text": [
      "\u001b[32m[I 2022-12-11 15:53:37,965]\u001b[0m Trial 18 finished with value: 0.9997172731613165 and parameters: {'split_criterion': 1, 'max_depth': 19, 'min_samples_leaf': 35, 'min_samples_split': 2, 'n_bins': 192, 'n_estimators': 600}. Best is trial 13 with value: 0.9997873113194027.\u001b[0m\n"
     ]
    },
    {
     "name": "stdout",
     "output_type": "stream",
     "text": [
      "train auc score = 0.9998243145190019\n",
      "test auc score = 0.9997172731613165\n",
      "[D] [15:53:38.964075] /workspace/.conda-bld/work/python/_skbuild/linux-x86_64-3.8/cmake-build/cuml/common/logger.cxx:3188 Expected column ('F') major order, but got the opposite. Converting data, this will result in additional memory utilization.\n",
      "[D] [15:53:51.287187] /workspace/.conda-bld/work/python/_skbuild/linux-x86_64-3.8/cmake-build/cuml/common/logger.cxx:3188 Expected column ('F') major order, but got the opposite. Converting data, this will result in additional memory utilization.\n",
      "[D] [15:54:03.728713] /workspace/.conda-bld/work/python/_skbuild/linux-x86_64-3.8/cmake-build/cuml/common/logger.cxx:3188 Expected column ('F') major order, but got the opposite. Converting data, this will result in additional memory utilization.\n",
      "[D] [15:54:16.319759] /workspace/.conda-bld/work/python/_skbuild/linux-x86_64-3.8/cmake-build/cuml/common/logger.cxx:3188 Expected column ('F') major order, but got the opposite. Converting data, this will result in additional memory utilization.\n",
      "[D] [15:54:28.791361] /workspace/.conda-bld/work/python/_skbuild/linux-x86_64-3.8/cmake-build/cuml/common/logger.cxx:3188 Expected column ('F') major order, but got the opposite. Converting data, this will result in additional memory utilization.\n"
     ]
    },
    {
     "name": "stderr",
     "output_type": "stream",
     "text": [
      "\u001b[32m[I 2022-12-11 15:54:40,142]\u001b[0m Trial 19 finished with value: 0.9996973718736168 and parameters: {'split_criterion': 1, 'max_depth': 22, 'min_samples_leaf': 45, 'min_samples_split': 15, 'n_bins': 96, 'n_estimators': 400}. Best is trial 13 with value: 0.9997873113194027.\u001b[0m\n"
     ]
    },
    {
     "name": "stdout",
     "output_type": "stream",
     "text": [
      "train auc score = 0.999802920719713\n",
      "test auc score = 0.9996973718736168\n",
      "[D] [15:54:41.113642] /workspace/.conda-bld/work/python/_skbuild/linux-x86_64-3.8/cmake-build/cuml/common/logger.cxx:3188 Expected column ('F') major order, but got the opposite. Converting data, this will result in additional memory utilization.\n",
      "[D] [15:55:03.641854] /workspace/.conda-bld/work/python/_skbuild/linux-x86_64-3.8/cmake-build/cuml/common/logger.cxx:3188 Expected column ('F') major order, but got the opposite. Converting data, this will result in additional memory utilization.\n",
      "[D] [15:55:26.059154] /workspace/.conda-bld/work/python/_skbuild/linux-x86_64-3.8/cmake-build/cuml/common/logger.cxx:3188 Expected column ('F') major order, but got the opposite. Converting data, this will result in additional memory utilization.\n",
      "[D] [15:55:48.693074] /workspace/.conda-bld/work/python/_skbuild/linux-x86_64-3.8/cmake-build/cuml/common/logger.cxx:3188 Expected column ('F') major order, but got the opposite. Converting data, this will result in additional memory utilization.\n",
      "[D] [15:56:11.052713] /workspace/.conda-bld/work/python/_skbuild/linux-x86_64-3.8/cmake-build/cuml/common/logger.cxx:3188 Expected column ('F') major order, but got the opposite. Converting data, this will result in additional memory utilization.\n"
     ]
    },
    {
     "name": "stderr",
     "output_type": "stream",
     "text": [
      "\u001b[32m[I 2022-12-11 15:56:32,371]\u001b[0m Trial 20 finished with value: 0.9996854154162182 and parameters: {'split_criterion': 1, 'max_depth': 13, 'min_samples_leaf': 18, 'min_samples_split': 20, 'n_bins': 256, 'n_estimators': 800}. Best is trial 13 with value: 0.9997873113194027.\u001b[0m\n"
     ]
    },
    {
     "name": "stdout",
     "output_type": "stream",
     "text": [
      "train auc score = 0.9997649735786955\n",
      "test auc score = 0.9996854154162182\n",
      "[D] [15:56:33.280745] /workspace/.conda-bld/work/python/_skbuild/linux-x86_64-3.8/cmake-build/cuml/common/logger.cxx:3188 Expected column ('F') major order, but got the opposite. Converting data, this will result in additional memory utilization.\n",
      "[D] [15:56:48.415707] /workspace/.conda-bld/work/python/_skbuild/linux-x86_64-3.8/cmake-build/cuml/common/logger.cxx:3188 Expected column ('F') major order, but got the opposite. Converting data, this will result in additional memory utilization.\n",
      "[D] [15:57:03.323952] /workspace/.conda-bld/work/python/_skbuild/linux-x86_64-3.8/cmake-build/cuml/common/logger.cxx:3188 Expected column ('F') major order, but got the opposite. Converting data, this will result in additional memory utilization.\n",
      "[D] [15:57:18.420008] /workspace/.conda-bld/work/python/_skbuild/linux-x86_64-3.8/cmake-build/cuml/common/logger.cxx:3188 Expected column ('F') major order, but got the opposite. Converting data, this will result in additional memory utilization.\n",
      "[D] [15:57:33.360320] /workspace/.conda-bld/work/python/_skbuild/linux-x86_64-3.8/cmake-build/cuml/common/logger.cxx:3188 Expected column ('F') major order, but got the opposite. Converting data, this will result in additional memory utilization.\n"
     ]
    },
    {
     "name": "stderr",
     "output_type": "stream",
     "text": [
      "\u001b[32m[I 2022-12-11 15:57:47,340]\u001b[0m Trial 21 finished with value: 0.9997764379559632 and parameters: {'split_criterion': 1, 'max_depth': 17, 'min_samples_leaf': 1, 'min_samples_split': 23, 'n_bins': 240, 'n_estimators': 500}. Best is trial 13 with value: 0.9997873113194027.\u001b[0m\n"
     ]
    },
    {
     "name": "stdout",
     "output_type": "stream",
     "text": [
      "train auc score = 0.9999165458565749\n",
      "test auc score = 0.9997764379559632\n",
      "[D] [15:57:48.248613] /workspace/.conda-bld/work/python/_skbuild/linux-x86_64-3.8/cmake-build/cuml/common/logger.cxx:3188 Expected column ('F') major order, but got the opposite. Converting data, this will result in additional memory utilization.\n",
      "[D] [15:58:05.627870] /workspace/.conda-bld/work/python/_skbuild/linux-x86_64-3.8/cmake-build/cuml/common/logger.cxx:3188 Expected column ('F') major order, but got the opposite. Converting data, this will result in additional memory utilization.\n",
      "[D] [15:58:23.210709] /workspace/.conda-bld/work/python/_skbuild/linux-x86_64-3.8/cmake-build/cuml/common/logger.cxx:3188 Expected column ('F') major order, but got the opposite. Converting data, this will result in additional memory utilization.\n",
      "[D] [15:58:40.762976] /workspace/.conda-bld/work/python/_skbuild/linux-x86_64-3.8/cmake-build/cuml/common/logger.cxx:3188 Expected column ('F') major order, but got the opposite. Converting data, this will result in additional memory utilization.\n",
      "[D] [15:58:58.228468] /workspace/.conda-bld/work/python/_skbuild/linux-x86_64-3.8/cmake-build/cuml/common/logger.cxx:3188 Expected column ('F') major order, but got the opposite. Converting data, this will result in additional memory utilization.\n"
     ]
    },
    {
     "name": "stderr",
     "output_type": "stream",
     "text": [
      "\u001b[32m[I 2022-12-11 15:59:14,777]\u001b[0m Trial 22 finished with value: 0.9997835456487341 and parameters: {'split_criterion': 1, 'max_depth': 18, 'min_samples_leaf': 1, 'min_samples_split': 25, 'n_bins': 216, 'n_estimators': 600}. Best is trial 13 with value: 0.9997873113194027.\u001b[0m\n"
     ]
    },
    {
     "name": "stdout",
     "output_type": "stream",
     "text": [
      "train auc score = 0.9999292180018953\n",
      "test auc score = 0.9997835456487341\n",
      "[D] [15:59:15.693650] /workspace/.conda-bld/work/python/_skbuild/linux-x86_64-3.8/cmake-build/cuml/common/logger.cxx:3188 Expected column ('F') major order, but got the opposite. Converting data, this will result in additional memory utilization.\n",
      "[D] [15:59:33.291076] /workspace/.conda-bld/work/python/_skbuild/linux-x86_64-3.8/cmake-build/cuml/common/logger.cxx:3188 Expected column ('F') major order, but got the opposite. Converting data, this will result in additional memory utilization.\n",
      "[D] [15:59:50.754411] /workspace/.conda-bld/work/python/_skbuild/linux-x86_64-3.8/cmake-build/cuml/common/logger.cxx:3188 Expected column ('F') major order, but got the opposite. Converting data, this will result in additional memory utilization.\n",
      "[D] [16:00:08.167382] /workspace/.conda-bld/work/python/_skbuild/linux-x86_64-3.8/cmake-build/cuml/common/logger.cxx:3188 Expected column ('F') major order, but got the opposite. Converting data, this will result in additional memory utilization.\n",
      "[D] [16:00:25.551703] /workspace/.conda-bld/work/python/_skbuild/linux-x86_64-3.8/cmake-build/cuml/common/logger.cxx:3188 Expected column ('F') major order, but got the opposite. Converting data, this will result in additional memory utilization.\n"
     ]
    },
    {
     "name": "stderr",
     "output_type": "stream",
     "text": [
      "\u001b[32m[I 2022-12-11 16:00:42,184]\u001b[0m Trial 23 finished with value: 0.9997704050325782 and parameters: {'split_criterion': 1, 'max_depth': 18, 'min_samples_leaf': 8, 'min_samples_split': 26, 'n_bins': 224, 'n_estimators': 600}. Best is trial 13 with value: 0.9997873113194027.\u001b[0m\n"
     ]
    },
    {
     "name": "stdout",
     "output_type": "stream",
     "text": [
      "train auc score = 0.9998994068306125\n",
      "test auc score = 0.9997704050325782\n",
      "[D] [16:00:43.099524] /workspace/.conda-bld/work/python/_skbuild/linux-x86_64-3.8/cmake-build/cuml/common/logger.cxx:3188 Expected column ('F') major order, but got the opposite. Converting data, this will result in additional memory utilization.\n",
      "[D] [16:00:55.640710] /workspace/.conda-bld/work/python/_skbuild/linux-x86_64-3.8/cmake-build/cuml/common/logger.cxx:3188 Expected column ('F') major order, but got the opposite. Converting data, this will result in additional memory utilization.\n",
      "[D] [16:01:08.148833] /workspace/.conda-bld/work/python/_skbuild/linux-x86_64-3.8/cmake-build/cuml/common/logger.cxx:3188 Expected column ('F') major order, but got the opposite. Converting data, this will result in additional memory utilization.\n",
      "[D] [16:01:20.610609] /workspace/.conda-bld/work/python/_skbuild/linux-x86_64-3.8/cmake-build/cuml/common/logger.cxx:3188 Expected column ('F') major order, but got the opposite. Converting data, this will result in additional memory utilization.\n",
      "[D] [16:01:33.092684] /workspace/.conda-bld/work/python/_skbuild/linux-x86_64-3.8/cmake-build/cuml/common/logger.cxx:3188 Expected column ('F') major order, but got the opposite. Converting data, this will result in additional memory utilization.\n"
     ]
    },
    {
     "name": "stderr",
     "output_type": "stream",
     "text": [
      "\u001b[32m[I 2022-12-11 16:01:44,601]\u001b[0m Trial 24 finished with value: 0.9997674073821233 and parameters: {'split_criterion': 1, 'max_depth': 21, 'min_samples_leaf': 14, 'min_samples_split': 30, 'n_bins': 208, 'n_estimators': 400}. Best is trial 13 with value: 0.9997873113194027.\u001b[0m\n"
     ]
    },
    {
     "name": "stdout",
     "output_type": "stream",
     "text": [
      "train auc score = 0.999898778679291\n",
      "test auc score = 0.9997674073821233\n",
      "[D] [16:01:45.521189] /workspace/.conda-bld/work/python/_skbuild/linux-x86_64-3.8/cmake-build/cuml/common/logger.cxx:3188 Expected column ('F') major order, but got the opposite. Converting data, this will result in additional memory utilization.\n",
      "[D] [16:01:55.410322] /workspace/.conda-bld/work/python/_skbuild/linux-x86_64-3.8/cmake-build/cuml/common/logger.cxx:3188 Expected column ('F') major order, but got the opposite. Converting data, this will result in additional memory utilization.\n",
      "[D] [16:02:05.455208] /workspace/.conda-bld/work/python/_skbuild/linux-x86_64-3.8/cmake-build/cuml/common/logger.cxx:3188 Expected column ('F') major order, but got the opposite. Converting data, this will result in additional memory utilization.\n",
      "[D] [16:02:15.370992] /workspace/.conda-bld/work/python/_skbuild/linux-x86_64-3.8/cmake-build/cuml/common/logger.cxx:3188 Expected column ('F') major order, but got the opposite. Converting data, this will result in additional memory utilization.\n",
      "[D] [16:02:25.271422] /workspace/.conda-bld/work/python/_skbuild/linux-x86_64-3.8/cmake-build/cuml/common/logger.cxx:3188 Expected column ('F') major order, but got the opposite. Converting data, this will result in additional memory utilization.\n"
     ]
    },
    {
     "name": "stderr",
     "output_type": "stream",
     "text": [
      "\u001b[32m[I 2022-12-11 16:02:34,252]\u001b[0m Trial 25 finished with value: 0.999771162388518 and parameters: {'split_criterion': 1, 'max_depth': 18, 'min_samples_leaf': 6, 'min_samples_split': 25, 'n_bins': 184, 'n_estimators': 300}. Best is trial 13 with value: 0.9997873113194027.\u001b[0m\n"
     ]
    },
    {
     "name": "stdout",
     "output_type": "stream",
     "text": [
      "train auc score = 0.9999043618129008\n",
      "test auc score = 0.999771162388518\n",
      "[D] [16:02:35.170248] /workspace/.conda-bld/work/python/_skbuild/linux-x86_64-3.8/cmake-build/cuml/common/logger.cxx:3188 Expected column ('F') major order, but got the opposite. Converting data, this will result in additional memory utilization.\n",
      "[D] [16:02:52.343025] /workspace/.conda-bld/work/python/_skbuild/linux-x86_64-3.8/cmake-build/cuml/common/logger.cxx:3188 Expected column ('F') major order, but got the opposite. Converting data, this will result in additional memory utilization.\n",
      "[D] [16:03:09.356853] /workspace/.conda-bld/work/python/_skbuild/linux-x86_64-3.8/cmake-build/cuml/common/logger.cxx:3188 Expected column ('F') major order, but got the opposite. Converting data, this will result in additional memory utilization.\n",
      "[D] [16:03:26.441996] /workspace/.conda-bld/work/python/_skbuild/linux-x86_64-3.8/cmake-build/cuml/common/logger.cxx:3188 Expected column ('F') major order, but got the opposite. Converting data, this will result in additional memory utilization.\n",
      "[D] [16:03:43.479516] /workspace/.conda-bld/work/python/_skbuild/linux-x86_64-3.8/cmake-build/cuml/common/logger.cxx:3188 Expected column ('F') major order, but got the opposite. Converting data, this will result in additional memory utilization.\n"
     ]
    },
    {
     "name": "stderr",
     "output_type": "stream",
     "text": [
      "\u001b[32m[I 2022-12-11 16:03:59,794]\u001b[0m Trial 26 finished with value: 0.9997573828286146 and parameters: {'split_criterion': 1, 'max_depth': 15, 'min_samples_leaf': 1, 'min_samples_split': 20, 'n_bins': 224, 'n_estimators': 600}. Best is trial 13 with value: 0.9997873113194027.\u001b[0m\n"
     ]
    },
    {
     "name": "stdout",
     "output_type": "stream",
     "text": [
      "train auc score = 0.9998768307245918\n",
      "test auc score = 0.9997573828286146\n",
      "[D] [16:04:00.729535] /workspace/.conda-bld/work/python/_skbuild/linux-x86_64-3.8/cmake-build/cuml/common/logger.cxx:3188 Expected column ('F') major order, but got the opposite. Converting data, this will result in additional memory utilization.\n",
      "[D] [16:04:20.737642] /workspace/.conda-bld/work/python/_skbuild/linux-x86_64-3.8/cmake-build/cuml/common/logger.cxx:3188 Expected column ('F') major order, but got the opposite. Converting data, this will result in additional memory utilization.\n",
      "[D] [16:04:40.912072] /workspace/.conda-bld/work/python/_skbuild/linux-x86_64-3.8/cmake-build/cuml/common/logger.cxx:3188 Expected column ('F') major order, but got the opposite. Converting data, this will result in additional memory utilization.\n",
      "[D] [16:05:00.846254] /workspace/.conda-bld/work/python/_skbuild/linux-x86_64-3.8/cmake-build/cuml/common/logger.cxx:3188 Expected column ('F') major order, but got the opposite. Converting data, this will result in additional memory utilization.\n",
      "[D] [16:05:20.857532] /workspace/.conda-bld/work/python/_skbuild/linux-x86_64-3.8/cmake-build/cuml/common/logger.cxx:3188 Expected column ('F') major order, but got the opposite. Converting data, this will result in additional memory utilization.\n"
     ]
    },
    {
     "name": "stderr",
     "output_type": "stream",
     "text": [
      "\u001b[32m[I 2022-12-11 16:05:40,307]\u001b[0m Trial 27 finished with value: 0.9997619395026671 and parameters: {'split_criterion': 1, 'max_depth': 19, 'min_samples_leaf': 15, 'min_samples_split': 27, 'n_bins': 256, 'n_estimators': 700}. Best is trial 13 with value: 0.9997873113194027.\u001b[0m\n"
     ]
    },
    {
     "name": "stdout",
     "output_type": "stream",
     "text": [
      "train auc score = 0.9998843406063893\n",
      "test auc score = 0.9997619395026671\n",
      "[D] [16:05:41.251885] /workspace/.conda-bld/work/python/_skbuild/linux-x86_64-3.8/cmake-build/cuml/common/logger.cxx:3188 Expected column ('F') major order, but got the opposite. Converting data, this will result in additional memory utilization.\n",
      "[D] [16:06:06.116277] /workspace/.conda-bld/work/python/_skbuild/linux-x86_64-3.8/cmake-build/cuml/common/logger.cxx:3188 Expected column ('F') major order, but got the opposite. Converting data, this will result in additional memory utilization.\n",
      "[D] [16:06:31.208260] /workspace/.conda-bld/work/python/_skbuild/linux-x86_64-3.8/cmake-build/cuml/common/logger.cxx:3188 Expected column ('F') major order, but got the opposite. Converting data, this will result in additional memory utilization.\n",
      "[D] [16:06:56.283506] /workspace/.conda-bld/work/python/_skbuild/linux-x86_64-3.8/cmake-build/cuml/common/logger.cxx:3188 Expected column ('F') major order, but got the opposite. Converting data, this will result in additional memory utilization.\n",
      "[D] [16:07:21.260040] /workspace/.conda-bld/work/python/_skbuild/linux-x86_64-3.8/cmake-build/cuml/common/logger.cxx:3188 Expected column ('F') major order, but got the opposite. Converting data, this will result in additional memory utilization.\n"
     ]
    },
    {
     "name": "stderr",
     "output_type": "stream",
     "text": [
      "\u001b[32m[I 2022-12-11 16:07:45,575]\u001b[0m Trial 28 finished with value: 0.9997492683073957 and parameters: {'split_criterion': 1, 'max_depth': 22, 'min_samples_leaf': 23, 'min_samples_split': 14, 'n_bins': 216, 'n_estimators': 900}. Best is trial 13 with value: 0.9997873113194027.\u001b[0m\n"
     ]
    },
    {
     "name": "stdout",
     "output_type": "stream",
     "text": [
      "train auc score = 0.9998716483497242\n",
      "test auc score = 0.9997492683073957\n",
      "[D] [16:07:46.493038] /workspace/.conda-bld/work/python/_skbuild/linux-x86_64-3.8/cmake-build/cuml/common/logger.cxx:3188 Expected column ('F') major order, but got the opposite. Converting data, this will result in additional memory utilization.\n",
      "[D] [16:07:58.250817] /workspace/.conda-bld/work/python/_skbuild/linux-x86_64-3.8/cmake-build/cuml/common/logger.cxx:3188 Expected column ('F') major order, but got the opposite. Converting data, this will result in additional memory utilization.\n",
      "[D] [16:08:09.935150] /workspace/.conda-bld/work/python/_skbuild/linux-x86_64-3.8/cmake-build/cuml/common/logger.cxx:3188 Expected column ('F') major order, but got the opposite. Converting data, this will result in additional memory utilization.\n",
      "[D] [16:08:21.660779] /workspace/.conda-bld/work/python/_skbuild/linux-x86_64-3.8/cmake-build/cuml/common/logger.cxx:3188 Expected column ('F') major order, but got the opposite. Converting data, this will result in additional memory utilization.\n",
      "[D] [16:08:33.500563] /workspace/.conda-bld/work/python/_skbuild/linux-x86_64-3.8/cmake-build/cuml/common/logger.cxx:3188 Expected column ('F') major order, but got the opposite. Converting data, this will result in additional memory utilization.\n"
     ]
    },
    {
     "name": "stderr",
     "output_type": "stream",
     "text": [
      "\u001b[32m[I 2022-12-11 16:08:44,346]\u001b[0m Trial 29 finished with value: 0.9996302137641253 and parameters: {'split_criterion': 0, 'max_depth': 15, 'min_samples_leaf': 29, 'min_samples_split': 12, 'n_bins': 160, 'n_estimators': 300}. Best is trial 13 with value: 0.9997873113194027.\u001b[0m\n"
     ]
    },
    {
     "name": "stdout",
     "output_type": "stream",
     "text": [
      "train auc score = 0.9997171702347878\n",
      "test auc score = 0.9996302137641253\n",
      "[D] [16:08:45.246626] /workspace/.conda-bld/work/python/_skbuild/linux-x86_64-3.8/cmake-build/cuml/common/logger.cxx:3188 Expected column ('F') major order, but got the opposite. Converting data, this will result in additional memory utilization.\n",
      "[D] [16:09:02.497964] /workspace/.conda-bld/work/python/_skbuild/linux-x86_64-3.8/cmake-build/cuml/common/logger.cxx:3188 Expected column ('F') major order, but got the opposite. Converting data, this will result in additional memory utilization.\n",
      "[D] [16:09:19.695556] /workspace/.conda-bld/work/python/_skbuild/linux-x86_64-3.8/cmake-build/cuml/common/logger.cxx:3188 Expected column ('F') major order, but got the opposite. Converting data, this will result in additional memory utilization.\n",
      "[D] [16:09:36.851100] /workspace/.conda-bld/work/python/_skbuild/linux-x86_64-3.8/cmake-build/cuml/common/logger.cxx:3188 Expected column ('F') major order, but got the opposite. Converting data, this will result in additional memory utilization.\n",
      "[D] [16:09:54.110511] /workspace/.conda-bld/work/python/_skbuild/linux-x86_64-3.8/cmake-build/cuml/common/logger.cxx:3188 Expected column ('F') major order, but got the opposite. Converting data, this will result in additional memory utilization.\n"
     ]
    },
    {
     "name": "stderr",
     "output_type": "stream",
     "text": [
      "\u001b[32m[I 2022-12-11 16:10:10,235]\u001b[0m Trial 30 finished with value: 0.9997002167934074 and parameters: {'split_criterion': 1, 'max_depth': 13, 'min_samples_leaf': 6, 'min_samples_split': 18, 'n_bins': 240, 'n_estimators': 600}. Best is trial 13 with value: 0.9997873113194027.\u001b[0m\n"
     ]
    },
    {
     "name": "stdout",
     "output_type": "stream",
     "text": [
      "train auc score = 0.9997957017255323\n",
      "test auc score = 0.9997002167934074\n",
      "[D] [16:10:11.169697] /workspace/.conda-bld/work/python/_skbuild/linux-x86_64-3.8/cmake-build/cuml/common/logger.cxx:3188 Expected column ('F') major order, but got the opposite. Converting data, this will result in additional memory utilization.\n",
      "[D] [16:10:26.253759] /workspace/.conda-bld/work/python/_skbuild/linux-x86_64-3.8/cmake-build/cuml/common/logger.cxx:3188 Expected column ('F') major order, but got the opposite. Converting data, this will result in additional memory utilization.\n",
      "[D] [16:10:41.238940] /workspace/.conda-bld/work/python/_skbuild/linux-x86_64-3.8/cmake-build/cuml/common/logger.cxx:3188 Expected column ('F') major order, but got the opposite. Converting data, this will result in additional memory utilization.\n",
      "[D] [16:10:56.292226] /workspace/.conda-bld/work/python/_skbuild/linux-x86_64-3.8/cmake-build/cuml/common/logger.cxx:3188 Expected column ('F') major order, but got the opposite. Converting data, this will result in additional memory utilization.\n",
      "[D] [16:11:11.233545] /workspace/.conda-bld/work/python/_skbuild/linux-x86_64-3.8/cmake-build/cuml/common/logger.cxx:3188 Expected column ('F') major order, but got the opposite. Converting data, this will result in additional memory utilization.\n"
     ]
    },
    {
     "name": "stderr",
     "output_type": "stream",
     "text": [
      "\u001b[32m[I 2022-12-11 16:11:25,272]\u001b[0m Trial 31 finished with value: 0.999771785974762 and parameters: {'split_criterion': 1, 'max_depth': 17, 'min_samples_leaf': 4, 'min_samples_split': 24, 'n_bins': 240, 'n_estimators': 500}. Best is trial 13 with value: 0.9997873113194027.\u001b[0m\n"
     ]
    },
    {
     "name": "stdout",
     "output_type": "stream",
     "text": [
      "train auc score = 0.999902924901997\n",
      "test auc score = 0.999771785974762\n",
      "[D] [16:11:26.194991] /workspace/.conda-bld/work/python/_skbuild/linux-x86_64-3.8/cmake-build/cuml/common/logger.cxx:3188 Expected column ('F') major order, but got the opposite. Converting data, this will result in additional memory utilization.\n",
      "[D] [16:11:38.602638] /workspace/.conda-bld/work/python/_skbuild/linux-x86_64-3.8/cmake-build/cuml/common/logger.cxx:3188 Expected column ('F') major order, but got the opposite. Converting data, this will result in additional memory utilization.\n",
      "[D] [16:11:51.211505] /workspace/.conda-bld/work/python/_skbuild/linux-x86_64-3.8/cmake-build/cuml/common/logger.cxx:3188 Expected column ('F') major order, but got the opposite. Converting data, this will result in additional memory utilization.\n",
      "[D] [16:12:03.707183] /workspace/.conda-bld/work/python/_skbuild/linux-x86_64-3.8/cmake-build/cuml/common/logger.cxx:3188 Expected column ('F') major order, but got the opposite. Converting data, this will result in additional memory utilization.\n",
      "[D] [16:12:16.231133] /workspace/.conda-bld/work/python/_skbuild/linux-x86_64-3.8/cmake-build/cuml/common/logger.cxx:3188 Expected column ('F') major order, but got the opposite. Converting data, this will result in additional memory utilization.\n"
     ]
    },
    {
     "name": "stderr",
     "output_type": "stream",
     "text": [
      "\u001b[32m[I 2022-12-11 16:12:27,944]\u001b[0m Trial 32 finished with value: 0.9997780654299427 and parameters: {'split_criterion': 1, 'max_depth': 18, 'min_samples_leaf': 2, 'min_samples_split': 22, 'n_bins': 240, 'n_estimators': 400}. Best is trial 13 with value: 0.9997873113194027.\u001b[0m\n"
     ]
    },
    {
     "name": "stdout",
     "output_type": "stream",
     "text": [
      "train auc score = 0.9999270087814445\n",
      "test auc score = 0.9997780654299427\n",
      "[D] [16:12:28.866655] /workspace/.conda-bld/work/python/_skbuild/linux-x86_64-3.8/cmake-build/cuml/common/logger.cxx:3188 Expected column ('F') major order, but got the opposite. Converting data, this will result in additional memory utilization.\n",
      "[D] [16:12:41.379140] /workspace/.conda-bld/work/python/_skbuild/linux-x86_64-3.8/cmake-build/cuml/common/logger.cxx:3188 Expected column ('F') major order, but got the opposite. Converting data, this will result in additional memory utilization.\n",
      "[D] [16:12:54.009512] /workspace/.conda-bld/work/python/_skbuild/linux-x86_64-3.8/cmake-build/cuml/common/logger.cxx:3188 Expected column ('F') major order, but got the opposite. Converting data, this will result in additional memory utilization.\n",
      "[D] [16:13:06.548606] /workspace/.conda-bld/work/python/_skbuild/linux-x86_64-3.8/cmake-build/cuml/common/logger.cxx:3188 Expected column ('F') major order, but got the opposite. Converting data, this will result in additional memory utilization.\n",
      "[D] [16:13:19.166943] /workspace/.conda-bld/work/python/_skbuild/linux-x86_64-3.8/cmake-build/cuml/common/logger.cxx:3188 Expected column ('F') major order, but got the opposite. Converting data, this will result in additional memory utilization.\n"
     ]
    },
    {
     "name": "stderr",
     "output_type": "stream",
     "text": [
      "\u001b[32m[I 2022-12-11 16:13:30,902]\u001b[0m Trial 33 finished with value: 0.9997639871082811 and parameters: {'split_criterion': 1, 'max_depth': 19, 'min_samples_leaf': 13, 'min_samples_split': 21, 'n_bins': 256, 'n_estimators': 400}. Best is trial 13 with value: 0.9997873113194027.\u001b[0m\n"
     ]
    },
    {
     "name": "stdout",
     "output_type": "stream",
     "text": [
      "train auc score = 0.9998923453471384\n",
      "test auc score = 0.9997639871082811\n",
      "[D] [16:13:31.821105] /workspace/.conda-bld/work/python/_skbuild/linux-x86_64-3.8/cmake-build/cuml/common/logger.cxx:3188 Expected column ('F') major order, but got the opposite. Converting data, this will result in additional memory utilization.\n",
      "[D] [16:13:40.425223] /workspace/.conda-bld/work/python/_skbuild/linux-x86_64-3.8/cmake-build/cuml/common/logger.cxx:3188 Expected column ('F') major order, but got the opposite. Converting data, this will result in additional memory utilization.\n",
      "[D] [16:13:48.936381] /workspace/.conda-bld/work/python/_skbuild/linux-x86_64-3.8/cmake-build/cuml/common/logger.cxx:3188 Expected column ('F') major order, but got the opposite. Converting data, this will result in additional memory utilization.\n",
      "[D] [16:13:57.568797] /workspace/.conda-bld/work/python/_skbuild/linux-x86_64-3.8/cmake-build/cuml/common/logger.cxx:3188 Expected column ('F') major order, but got the opposite. Converting data, this will result in additional memory utilization.\n",
      "[D] [16:14:06.265586] /workspace/.conda-bld/work/python/_skbuild/linux-x86_64-3.8/cmake-build/cuml/common/logger.cxx:3188 Expected column ('F') major order, but got the opposite. Converting data, this will result in additional memory utilization.\n"
     ]
    },
    {
     "name": "stderr",
     "output_type": "stream",
     "text": [
      "\u001b[32m[I 2022-12-11 16:14:14,060]\u001b[0m Trial 34 finished with value: 0.9997439193142992 and parameters: {'split_criterion': 1, 'max_depth': 16, 'min_samples_leaf': 8, 'min_samples_split': 17, 'n_bins': 168, 'n_estimators': 200}. Best is trial 13 with value: 0.9997873113194027.\u001b[0m\n"
     ]
    },
    {
     "name": "stdout",
     "output_type": "stream",
     "text": [
      "train auc score = 0.9998667157404458\n",
      "test auc score = 0.9997439193142992\n",
      "[D] [16:14:14.984573] /workspace/.conda-bld/work/python/_skbuild/linux-x86_64-3.8/cmake-build/cuml/common/logger.cxx:3188 Expected column ('F') major order, but got the opposite. Converting data, this will result in additional memory utilization.\n",
      "[D] [16:14:21.847689] /workspace/.conda-bld/work/python/_skbuild/linux-x86_64-3.8/cmake-build/cuml/common/logger.cxx:3188 Expected column ('F') major order, but got the opposite. Converting data, this will result in additional memory utilization.\n",
      "[D] [16:14:28.929960] /workspace/.conda-bld/work/python/_skbuild/linux-x86_64-3.8/cmake-build/cuml/common/logger.cxx:3188 Expected column ('F') major order, but got the opposite. Converting data, this will result in additional memory utilization.\n",
      "[D] [16:14:35.936492] /workspace/.conda-bld/work/python/_skbuild/linux-x86_64-3.8/cmake-build/cuml/common/logger.cxx:3188 Expected column ('F') major order, but got the opposite. Converting data, this will result in additional memory utilization.\n",
      "[D] [16:14:42.996744] /workspace/.conda-bld/work/python/_skbuild/linux-x86_64-3.8/cmake-build/cuml/common/logger.cxx:3188 Expected column ('F') major order, but got the opposite. Converting data, this will result in additional memory utilization.\n"
     ]
    },
    {
     "name": "stderr",
     "output_type": "stream",
     "text": [
      "\u001b[32m[I 2022-12-11 16:14:49,236]\u001b[0m Trial 35 finished with value: 0.9970241739082846 and parameters: {'split_criterion': 1, 'max_depth': 4, 'min_samples_leaf': 1, 'min_samples_split': 21, 'n_bins': 112, 'n_estimators': 300}. Best is trial 13 with value: 0.9997873113194027.\u001b[0m\n"
     ]
    },
    {
     "name": "stdout",
     "output_type": "stream",
     "text": [
      "train auc score = 0.9970366543861306\n",
      "test auc score = 0.9970241739082846\n",
      "[D] [16:14:50.137015] /workspace/.conda-bld/work/python/_skbuild/linux-x86_64-3.8/cmake-build/cuml/common/logger.cxx:3188 Expected column ('F') major order, but got the opposite. Converting data, this will result in additional memory utilization.\n",
      "[D] [16:15:04.488512] /workspace/.conda-bld/work/python/_skbuild/linux-x86_64-3.8/cmake-build/cuml/common/logger.cxx:3188 Expected column ('F') major order, but got the opposite. Converting data, this will result in additional memory utilization.\n",
      "[D] [16:15:18.796104] /workspace/.conda-bld/work/python/_skbuild/linux-x86_64-3.8/cmake-build/cuml/common/logger.cxx:3188 Expected column ('F') major order, but got the opposite. Converting data, this will result in additional memory utilization.\n",
      "[D] [16:15:33.332575] /workspace/.conda-bld/work/python/_skbuild/linux-x86_64-3.8/cmake-build/cuml/common/logger.cxx:3188 Expected column ('F') major order, but got the opposite. Converting data, this will result in additional memory utilization.\n",
      "[D] [16:15:47.586652] /workspace/.conda-bld/work/python/_skbuild/linux-x86_64-3.8/cmake-build/cuml/common/logger.cxx:3188 Expected column ('F') major order, but got the opposite. Converting data, this will result in additional memory utilization.\n"
     ]
    },
    {
     "name": "stderr",
     "output_type": "stream",
     "text": [
      "\u001b[32m[I 2022-12-11 16:16:00,948]\u001b[0m Trial 36 finished with value: 0.9997353516490067 and parameters: {'split_criterion': 0, 'max_depth': 21, 'min_samples_leaf': 8, 'min_samples_split': 28, 'n_bins': 192, 'n_estimators': 400}. Best is trial 13 with value: 0.9997873113194027.\u001b[0m\n"
     ]
    },
    {
     "name": "stdout",
     "output_type": "stream",
     "text": [
      "train auc score = 0.999897119042342\n",
      "test auc score = 0.9997353516490067\n",
      "[D] [16:16:01.866811] /workspace/.conda-bld/work/python/_skbuild/linux-x86_64-3.8/cmake-build/cuml/common/logger.cxx:3188 Expected column ('F') major order, but got the opposite. Converting data, this will result in additional memory utilization.\n",
      "[D] [16:16:06.255773] /workspace/.conda-bld/work/python/_skbuild/linux-x86_64-3.8/cmake-build/cuml/common/logger.cxx:3188 Expected column ('F') major order, but got the opposite. Converting data, this will result in additional memory utilization.\n",
      "[D] [16:16:10.673393] /workspace/.conda-bld/work/python/_skbuild/linux-x86_64-3.8/cmake-build/cuml/common/logger.cxx:3188 Expected column ('F') major order, but got the opposite. Converting data, this will result in additional memory utilization.\n",
      "[D] [16:16:15.133881] /workspace/.conda-bld/work/python/_skbuild/linux-x86_64-3.8/cmake-build/cuml/common/logger.cxx:3188 Expected column ('F') major order, but got the opposite. Converting data, this will result in additional memory utilization.\n",
      "[D] [16:16:19.599628] /workspace/.conda-bld/work/python/_skbuild/linux-x86_64-3.8/cmake-build/cuml/common/logger.cxx:3188 Expected column ('F') major order, but got the opposite. Converting data, this will result in additional memory utilization.\n"
     ]
    },
    {
     "name": "stderr",
     "output_type": "stream",
     "text": [
      "\u001b[32m[I 2022-12-11 16:16:23,108]\u001b[0m Trial 37 finished with value: 0.9985360798194497 and parameters: {'split_criterion': 1, 'max_depth': 6, 'min_samples_leaf': 19, 'min_samples_split': 25, 'n_bins': 232, 'n_estimators': 100}. Best is trial 13 with value: 0.9997873113194027.\u001b[0m\n"
     ]
    },
    {
     "name": "stdout",
     "output_type": "stream",
     "text": [
      "train auc score = 0.9985586973308818\n",
      "test auc score = 0.9985360798194497\n",
      "[D] [16:16:24.058049] /workspace/.conda-bld/work/python/_skbuild/linux-x86_64-3.8/cmake-build/cuml/common/logger.cxx:3188 Expected column ('F') major order, but got the opposite. Converting data, this will result in additional memory utilization.\n",
      "[D] [16:16:49.523798] /workspace/.conda-bld/work/python/_skbuild/linux-x86_64-3.8/cmake-build/cuml/common/logger.cxx:3188 Expected column ('F') major order, but got the opposite. Converting data, this will result in additional memory utilization.\n",
      "[D] [16:17:14.938864] /workspace/.conda-bld/work/python/_skbuild/linux-x86_64-3.8/cmake-build/cuml/common/logger.cxx:3188 Expected column ('F') major order, but got the opposite. Converting data, this will result in additional memory utilization.\n",
      "[D] [16:17:40.451091] /workspace/.conda-bld/work/python/_skbuild/linux-x86_64-3.8/cmake-build/cuml/common/logger.cxx:3188 Expected column ('F') major order, but got the opposite. Converting data, this will result in additional memory utilization.\n",
      "[D] [16:18:05.730781] /workspace/.conda-bld/work/python/_skbuild/linux-x86_64-3.8/cmake-build/cuml/common/logger.cxx:3188 Expected column ('F') major order, but got the opposite. Converting data, this will result in additional memory utilization.\n"
     ]
    },
    {
     "name": "stderr",
     "output_type": "stream",
     "text": [
      "\u001b[32m[I 2022-12-11 16:18:30,316]\u001b[0m Trial 38 finished with value: 0.9994758263744741 and parameters: {'split_criterion': 0, 'max_depth': 11, 'min_samples_leaf': 4, 'min_samples_split': 19, 'n_bins': 208, 'n_estimators': 900}. Best is trial 13 with value: 0.9997873113194027.\u001b[0m\n"
     ]
    },
    {
     "name": "stdout",
     "output_type": "stream",
     "text": [
      "train auc score = 0.9995559326484511\n",
      "test auc score = 0.9994758263744741\n",
      "[D] [16:18:31.267473] /workspace/.conda-bld/work/python/_skbuild/linux-x86_64-3.8/cmake-build/cuml/common/logger.cxx:3188 Expected column ('F') major order, but got the opposite. Converting data, this will result in additional memory utilization.\n",
      "[D] [16:18:48.533481] /workspace/.conda-bld/work/python/_skbuild/linux-x86_64-3.8/cmake-build/cuml/common/logger.cxx:3188 Expected column ('F') major order, but got the opposite. Converting data, this will result in additional memory utilization.\n",
      "[D] [16:19:05.636744] /workspace/.conda-bld/work/python/_skbuild/linux-x86_64-3.8/cmake-build/cuml/common/logger.cxx:3188 Expected column ('F') major order, but got the opposite. Converting data, this will result in additional memory utilization.\n",
      "[D] [16:19:23.001136] /workspace/.conda-bld/work/python/_skbuild/linux-x86_64-3.8/cmake-build/cuml/common/logger.cxx:3188 Expected column ('F') major order, but got the opposite. Converting data, this will result in additional memory utilization.\n",
      "[D] [16:19:40.072656] /workspace/.conda-bld/work/python/_skbuild/linux-x86_64-3.8/cmake-build/cuml/common/logger.cxx:3188 Expected column ('F') major order, but got the opposite. Converting data, this will result in additional memory utilization.\n"
     ]
    },
    {
     "name": "stderr",
     "output_type": "stream",
     "text": [
      "\u001b[32m[I 2022-12-11 16:19:56,316]\u001b[0m Trial 39 finished with value: 0.9997587273363061 and parameters: {'split_criterion': 1, 'max_depth': 18, 'min_samples_leaf': 12, 'min_samples_split': 16, 'n_bins': 176, 'n_estimators': 600}. Best is trial 13 with value: 0.9997873113194027.\u001b[0m\n"
     ]
    },
    {
     "name": "stdout",
     "output_type": "stream",
     "text": [
      "train auc score = 0.9998830474504219\n",
      "test auc score = 0.9997587273363061\n",
      "[D] [16:19:57.234957] /workspace/.conda-bld/work/python/_skbuild/linux-x86_64-3.8/cmake-build/cuml/common/logger.cxx:3188 Expected column ('F') major order, but got the opposite. Converting data, this will result in additional memory utilization.\n",
      "[D] [16:20:30.407427] /workspace/.conda-bld/work/python/_skbuild/linux-x86_64-3.8/cmake-build/cuml/common/logger.cxx:3188 Expected column ('F') major order, but got the opposite. Converting data, this will result in additional memory utilization.\n",
      "[D] [16:21:03.566128] /workspace/.conda-bld/work/python/_skbuild/linux-x86_64-3.8/cmake-build/cuml/common/logger.cxx:3188 Expected column ('F') major order, but got the opposite. Converting data, this will result in additional memory utilization.\n",
      "[D] [16:21:36.956401] /workspace/.conda-bld/work/python/_skbuild/linux-x86_64-3.8/cmake-build/cuml/common/logger.cxx:3188 Expected column ('F') major order, but got the opposite. Converting data, this will result in additional memory utilization.\n",
      "[D] [16:22:10.097724] /workspace/.conda-bld/work/python/_skbuild/linux-x86_64-3.8/cmake-build/cuml/common/logger.cxx:3188 Expected column ('F') major order, but got the opposite. Converting data, this will result in additional memory utilization.\n"
     ]
    },
    {
     "name": "stderr",
     "output_type": "stream",
     "text": [
      "\u001b[32m[I 2022-12-11 16:22:42,491]\u001b[0m Trial 40 finished with value: 0.9997852417281923 and parameters: {'split_criterion': 1, 'max_depth': 24, 'min_samples_leaf': 9, 'min_samples_split': 12, 'n_bins': 240, 'n_estimators': 1200}. Best is trial 13 with value: 0.9997873113194027.\u001b[0m\n"
     ]
    },
    {
     "name": "stdout",
     "output_type": "stream",
     "text": [
      "train auc score = 0.9999332330104529\n",
      "test auc score = 0.9997852417281923\n",
      "[D] [16:22:43.438663] /workspace/.conda-bld/work/python/_skbuild/linux-x86_64-3.8/cmake-build/cuml/common/logger.cxx:3188 Expected column ('F') major order, but got the opposite. Converting data, this will result in additional memory utilization.\n",
      "[D] [16:23:16.557443] /workspace/.conda-bld/work/python/_skbuild/linux-x86_64-3.8/cmake-build/cuml/common/logger.cxx:3188 Expected column ('F') major order, but got the opposite. Converting data, this will result in additional memory utilization.\n",
      "[D] [16:23:49.673873] /workspace/.conda-bld/work/python/_skbuild/linux-x86_64-3.8/cmake-build/cuml/common/logger.cxx:3188 Expected column ('F') major order, but got the opposite. Converting data, this will result in additional memory utilization.\n",
      "[D] [16:24:22.802269] /workspace/.conda-bld/work/python/_skbuild/linux-x86_64-3.8/cmake-build/cuml/common/logger.cxx:3188 Expected column ('F') major order, but got the opposite. Converting data, this will result in additional memory utilization.\n",
      "[D] [16:24:55.515307] /workspace/.conda-bld/work/python/_skbuild/linux-x86_64-3.8/cmake-build/cuml/common/logger.cxx:3188 Expected column ('F') major order, but got the opposite. Converting data, this will result in additional memory utilization.\n"
     ]
    },
    {
     "name": "stderr",
     "output_type": "stream",
     "text": [
      "\u001b[32m[I 2022-12-11 16:25:27,843]\u001b[0m Trial 41 finished with value: 0.9997879982943274 and parameters: {'split_criterion': 1, 'max_depth': 22, 'min_samples_leaf': 8, 'min_samples_split': 12, 'n_bins': 240, 'n_estimators': 1200}. Best is trial 41 with value: 0.9997879982943274.\u001b[0m\n"
     ]
    },
    {
     "name": "stdout",
     "output_type": "stream",
     "text": [
      "train auc score = 0.9999335723143099\n",
      "test auc score = 0.9997879982943274\n",
      "[D] [16:25:28.758295] /workspace/.conda-bld/work/python/_skbuild/linux-x86_64-3.8/cmake-build/cuml/common/logger.cxx:3188 Expected column ('F') major order, but got the opposite. Converting data, this will result in additional memory utilization.\n",
      "[D] [16:26:01.892347] /workspace/.conda-bld/work/python/_skbuild/linux-x86_64-3.8/cmake-build/cuml/common/logger.cxx:3188 Expected column ('F') major order, but got the opposite. Converting data, this will result in additional memory utilization.\n",
      "[D] [16:26:34.899590] /workspace/.conda-bld/work/python/_skbuild/linux-x86_64-3.8/cmake-build/cuml/common/logger.cxx:3188 Expected column ('F') major order, but got the opposite. Converting data, this will result in additional memory utilization.\n",
      "[D] [16:27:08.098729] /workspace/.conda-bld/work/python/_skbuild/linux-x86_64-3.8/cmake-build/cuml/common/logger.cxx:3188 Expected column ('F') major order, but got the opposite. Converting data, this will result in additional memory utilization.\n",
      "[D] [16:27:41.105340] /workspace/.conda-bld/work/python/_skbuild/linux-x86_64-3.8/cmake-build/cuml/common/logger.cxx:3188 Expected column ('F') major order, but got the opposite. Converting data, this will result in additional memory utilization.\n"
     ]
    },
    {
     "name": "stderr",
     "output_type": "stream",
     "text": [
      "\u001b[32m[I 2022-12-11 16:28:13,455]\u001b[0m Trial 42 finished with value: 0.9997823918296598 and parameters: {'split_criterion': 1, 'max_depth': 24, 'min_samples_leaf': 9, 'min_samples_split': 11, 'n_bins': 224, 'n_estimators': 1200}. Best is trial 41 with value: 0.9997879982943274.\u001b[0m\n"
     ]
    },
    {
     "name": "stdout",
     "output_type": "stream",
     "text": [
      "train auc score = 0.9999329406196849\n",
      "test auc score = 0.9997823918296598\n",
      "[D] [16:28:14.367974] /workspace/.conda-bld/work/python/_skbuild/linux-x86_64-3.8/cmake-build/cuml/common/logger.cxx:3188 Expected column ('F') major order, but got the opposite. Converting data, this will result in additional memory utilization.\n",
      "[D] [16:28:46.505245] /workspace/.conda-bld/work/python/_skbuild/linux-x86_64-3.8/cmake-build/cuml/common/logger.cxx:3188 Expected column ('F') major order, but got the opposite. Converting data, this will result in additional memory utilization.\n",
      "[D] [16:29:18.573130] /workspace/.conda-bld/work/python/_skbuild/linux-x86_64-3.8/cmake-build/cuml/common/logger.cxx:3188 Expected column ('F') major order, but got the opposite. Converting data, this will result in additional memory utilization.\n",
      "[D] [16:29:50.702358] /workspace/.conda-bld/work/python/_skbuild/linux-x86_64-3.8/cmake-build/cuml/common/logger.cxx:3188 Expected column ('F') major order, but got the opposite. Converting data, this will result in additional memory utilization.\n",
      "[D] [16:30:22.644846] /workspace/.conda-bld/work/python/_skbuild/linux-x86_64-3.8/cmake-build/cuml/common/logger.cxx:3188 Expected column ('F') major order, but got the opposite. Converting data, this will result in additional memory utilization.\n"
     ]
    },
    {
     "name": "stderr",
     "output_type": "stream",
     "text": [
      "\u001b[32m[I 2022-12-11 16:30:53,836]\u001b[0m Trial 43 finished with value: 0.9997613287061901 and parameters: {'split_criterion': 1, 'max_depth': 24, 'min_samples_leaf': 15, 'min_samples_split': 9, 'n_bins': 152, 'n_estimators': 1200}. Best is trial 41 with value: 0.9997879982943274.\u001b[0m\n"
     ]
    },
    {
     "name": "stdout",
     "output_type": "stream",
     "text": [
      "train auc score = 0.9998998547002953\n",
      "test auc score = 0.9997613287061901\n",
      "[D] [16:30:54.701953] /workspace/.conda-bld/work/python/_skbuild/linux-x86_64-3.8/cmake-build/cuml/common/logger.cxx:3188 Expected column ('F') major order, but got the opposite. Converting data, this will result in additional memory utilization.\n",
      "[D] [16:31:25.078637] /workspace/.conda-bld/work/python/_skbuild/linux-x86_64-3.8/cmake-build/cuml/common/logger.cxx:3188 Expected column ('F') major order, but got the opposite. Converting data, this will result in additional memory utilization.\n",
      "[D] [16:31:55.661336] /workspace/.conda-bld/work/python/_skbuild/linux-x86_64-3.8/cmake-build/cuml/common/logger.cxx:3188 Expected column ('F') major order, but got the opposite. Converting data, this will result in additional memory utilization.\n",
      "[D] [16:32:25.973842] /workspace/.conda-bld/work/python/_skbuild/linux-x86_64-3.8/cmake-build/cuml/common/logger.cxx:3188 Expected column ('F') major order, but got the opposite. Converting data, this will result in additional memory utilization.\n",
      "[D] [16:32:56.030937] /workspace/.conda-bld/work/python/_skbuild/linux-x86_64-3.8/cmake-build/cuml/common/logger.cxx:3188 Expected column ('F') major order, but got the opposite. Converting data, this will result in additional memory utilization.\n"
     ]
    },
    {
     "name": "stderr",
     "output_type": "stream",
     "text": [
      "\u001b[32m[I 2022-12-11 16:33:25,436]\u001b[0m Trial 44 finished with value: 0.999788719269169 and parameters: {'split_criterion': 1, 'max_depth': 24, 'min_samples_leaf': 8, 'min_samples_split': 12, 'n_bins': 216, 'n_estimators': 1100}. Best is trial 44 with value: 0.999788719269169.\u001b[0m\n"
     ]
    },
    {
     "name": "stdout",
     "output_type": "stream",
     "text": [
      "train auc score = 0.9999383040253385\n",
      "test auc score = 0.999788719269169\n",
      "[D] [16:33:26.342371] /workspace/.conda-bld/work/python/_skbuild/linux-x86_64-3.8/cmake-build/cuml/common/logger.cxx:3188 Expected column ('F') major order, but got the opposite. Converting data, this will result in additional memory utilization.\n",
      "[D] [16:33:53.669425] /workspace/.conda-bld/work/python/_skbuild/linux-x86_64-3.8/cmake-build/cuml/common/logger.cxx:3188 Expected column ('F') major order, but got the opposite. Converting data, this will result in additional memory utilization.\n",
      "[D] [16:34:20.968550] /workspace/.conda-bld/work/python/_skbuild/linux-x86_64-3.8/cmake-build/cuml/common/logger.cxx:3188 Expected column ('F') major order, but got the opposite. Converting data, this will result in additional memory utilization.\n",
      "[D] [16:34:48.439602] /workspace/.conda-bld/work/python/_skbuild/linux-x86_64-3.8/cmake-build/cuml/common/logger.cxx:3188 Expected column ('F') major order, but got the opposite. Converting data, this will result in additional memory utilization.\n",
      "[D] [16:35:15.591011] /workspace/.conda-bld/work/python/_skbuild/linux-x86_64-3.8/cmake-build/cuml/common/logger.cxx:3188 Expected column ('F') major order, but got the opposite. Converting data, this will result in additional memory utilization.\n"
     ]
    },
    {
     "name": "stderr",
     "output_type": "stream",
     "text": [
      "\u001b[32m[I 2022-12-11 16:35:42,149]\u001b[0m Trial 45 finished with value: 0.9997533171861003 and parameters: {'split_criterion': 1, 'max_depth': 23, 'min_samples_leaf': 21, 'min_samples_split': 7, 'n_bins': 200, 'n_estimators': 1000}. Best is trial 44 with value: 0.999788719269169.\u001b[0m\n"
     ]
    },
    {
     "name": "stdout",
     "output_type": "stream",
     "text": [
      "train auc score = 0.9998802127314897\n",
      "test auc score = 0.9997533171861003\n",
      "[D] [16:35:43.058745] /workspace/.conda-bld/work/python/_skbuild/linux-x86_64-3.8/cmake-build/cuml/common/logger.cxx:3188 Expected column ('F') major order, but got the opposite. Converting data, this will result in additional memory utilization.\n",
      "[D] [16:36:11.704563] /workspace/.conda-bld/work/python/_skbuild/linux-x86_64-3.8/cmake-build/cuml/common/logger.cxx:3188 Expected column ('F') major order, but got the opposite. Converting data, this will result in additional memory utilization.\n",
      "[D] [16:36:40.361264] /workspace/.conda-bld/work/python/_skbuild/linux-x86_64-3.8/cmake-build/cuml/common/logger.cxx:3188 Expected column ('F') major order, but got the opposite. Converting data, this will result in additional memory utilization.\n",
      "[D] [16:37:08.970855] /workspace/.conda-bld/work/python/_skbuild/linux-x86_64-3.8/cmake-build/cuml/common/logger.cxx:3188 Expected column ('F') major order, but got the opposite. Converting data, this will result in additional memory utilization.\n",
      "[D] [16:37:37.675237] /workspace/.conda-bld/work/python/_skbuild/linux-x86_64-3.8/cmake-build/cuml/common/logger.cxx:3188 Expected column ('F') major order, but got the opposite. Converting data, this will result in additional memory utilization.\n"
     ]
    },
    {
     "name": "stderr",
     "output_type": "stream",
     "text": [
      "\u001b[32m[I 2022-12-11 16:38:05,288]\u001b[0m Trial 46 finished with value: 0.9997732896657151 and parameters: {'split_criterion': 1, 'max_depth': 23, 'min_samples_leaf': 6, 'min_samples_split': 13, 'n_bins': 48, 'n_estimators': 1100}. Best is trial 44 with value: 0.999788719269169.\u001b[0m\n"
     ]
    },
    {
     "name": "stdout",
     "output_type": "stream",
     "text": [
      "train auc score = 0.9999288730025494\n",
      "test auc score = 0.9997732896657151\n",
      "[D] [16:38:06.186729] /workspace/.conda-bld/work/python/_skbuild/linux-x86_64-3.8/cmake-build/cuml/common/logger.cxx:3188 Expected column ('F') major order, but got the opposite. Converting data, this will result in additional memory utilization.\n",
      "[D] [16:38:35.204038] /workspace/.conda-bld/work/python/_skbuild/linux-x86_64-3.8/cmake-build/cuml/common/logger.cxx:3188 Expected column ('F') major order, but got the opposite. Converting data, this will result in additional memory utilization.\n",
      "[D] [16:39:04.199321] /workspace/.conda-bld/work/python/_skbuild/linux-x86_64-3.8/cmake-build/cuml/common/logger.cxx:3188 Expected column ('F') major order, but got the opposite. Converting data, this will result in additional memory utilization.\n",
      "[D] [16:39:33.258203] /workspace/.conda-bld/work/python/_skbuild/linux-x86_64-3.8/cmake-build/cuml/common/logger.cxx:3188 Expected column ('F') major order, but got the opposite. Converting data, this will result in additional memory utilization.\n",
      "[D] [16:40:02.051943] /workspace/.conda-bld/work/python/_skbuild/linux-x86_64-3.8/cmake-build/cuml/common/logger.cxx:3188 Expected column ('F') major order, but got the opposite. Converting data, this will result in additional memory utilization.\n"
     ]
    },
    {
     "name": "stderr",
     "output_type": "stream",
     "text": [
      "\u001b[32m[I 2022-12-11 16:40:30,436]\u001b[0m Trial 47 finished with value: 0.9997004215842068 and parameters: {'split_criterion': 1, 'max_depth': 22, 'min_samples_leaf': 48, 'min_samples_split': 10, 'n_bins': 128, 'n_estimators': 1100}. Best is trial 44 with value: 0.999788719269169.\u001b[0m\n"
     ]
    },
    {
     "name": "stdout",
     "output_type": "stream",
     "text": [
      "train auc score = 0.9998024468561135\n",
      "test auc score = 0.9997004215842068\n",
      "[D] [16:40:31.370816] /workspace/.conda-bld/work/python/_skbuild/linux-x86_64-3.8/cmake-build/cuml/common/logger.cxx:3188 Expected column ('F') major order, but got the opposite. Converting data, this will result in additional memory utilization.\n",
      "[D] [16:41:04.131083] /workspace/.conda-bld/work/python/_skbuild/linux-x86_64-3.8/cmake-build/cuml/common/logger.cxx:3188 Expected column ('F') major order, but got the opposite. Converting data, this will result in additional memory utilization.\n",
      "[D] [16:41:36.910520] /workspace/.conda-bld/work/python/_skbuild/linux-x86_64-3.8/cmake-build/cuml/common/logger.cxx:3188 Expected column ('F') major order, but got the opposite. Converting data, this will result in additional memory utilization.\n",
      "[D] [16:42:09.662391] /workspace/.conda-bld/work/python/_skbuild/linux-x86_64-3.8/cmake-build/cuml/common/logger.cxx:3188 Expected column ('F') major order, but got the opposite. Converting data, this will result in additional memory utilization.\n",
      "[D] [16:42:42.032086] /workspace/.conda-bld/work/python/_skbuild/linux-x86_64-3.8/cmake-build/cuml/common/logger.cxx:3188 Expected column ('F') major order, but got the opposite. Converting data, this will result in additional memory utilization.\n"
     ]
    },
    {
     "name": "stderr",
     "output_type": "stream",
     "text": [
      "\u001b[32m[I 2022-12-11 16:43:13,993]\u001b[0m Trial 48 finished with value: 0.9997736989290109 and parameters: {'split_criterion': 1, 'max_depth': 21, 'min_samples_leaf': 11, 'min_samples_split': 6, 'n_bins': 216, 'n_estimators': 1200}. Best is trial 44 with value: 0.999788719269169.\u001b[0m\n"
     ]
    },
    {
     "name": "stdout",
     "output_type": "stream",
     "text": [
      "train auc score = 0.9999133359474813\n",
      "test auc score = 0.9997736989290109\n",
      "[D] [16:43:14.899973] /workspace/.conda-bld/work/python/_skbuild/linux-x86_64-3.8/cmake-build/cuml/common/logger.cxx:3188 Expected column ('F') major order, but got the opposite. Converting data, this will result in additional memory utilization.\n",
      "[D] [16:43:50.954365] /workspace/.conda-bld/work/python/_skbuild/linux-x86_64-3.8/cmake-build/cuml/common/logger.cxx:3188 Expected column ('F') major order, but got the opposite. Converting data, this will result in additional memory utilization.\n",
      "[D] [16:44:26.899130] /workspace/.conda-bld/work/python/_skbuild/linux-x86_64-3.8/cmake-build/cuml/common/logger.cxx:3188 Expected column ('F') major order, but got the opposite. Converting data, this will result in additional memory utilization.\n",
      "[D] [16:45:02.893733] /workspace/.conda-bld/work/python/_skbuild/linux-x86_64-3.8/cmake-build/cuml/common/logger.cxx:3188 Expected column ('F') major order, but got the opposite. Converting data, this will result in additional memory utilization.\n",
      "[D] [16:45:38.685313] /workspace/.conda-bld/work/python/_skbuild/linux-x86_64-3.8/cmake-build/cuml/common/logger.cxx:3188 Expected column ('F') major order, but got the opposite. Converting data, this will result in additional memory utilization.\n"
     ]
    },
    {
     "name": "stderr",
     "output_type": "stream",
     "text": [
      "\u001b[32m[I 2022-12-11 16:46:13,520]\u001b[0m Trial 49 finished with value: 0.9997311381729759 and parameters: {'split_criterion': 0, 'max_depth': 23, 'min_samples_leaf': 16, 'min_samples_split': 13, 'n_bins': 248, 'n_estimators': 1100}. Best is trial 44 with value: 0.999788719269169.\u001b[0m\n"
     ]
    },
    {
     "name": "stdout",
     "output_type": "stream",
     "text": [
      "train auc score = 0.999879227185912\n",
      "test auc score = 0.9997311381729759\n",
      "[D] [16:46:14.432869] /workspace/.conda-bld/work/python/_skbuild/linux-x86_64-3.8/cmake-build/cuml/common/logger.cxx:3188 Expected column ('F') major order, but got the opposite. Converting data, this will result in additional memory utilization.\n",
      "[D] [16:46:44.834802] /workspace/.conda-bld/work/python/_skbuild/linux-x86_64-3.8/cmake-build/cuml/common/logger.cxx:3188 Expected column ('F') major order, but got the opposite. Converting data, this will result in additional memory utilization.\n",
      "[D] [16:47:15.292392] /workspace/.conda-bld/work/python/_skbuild/linux-x86_64-3.8/cmake-build/cuml/common/logger.cxx:3188 Expected column ('F') major order, but got the opposite. Converting data, this will result in additional memory utilization.\n",
      "[D] [16:47:46.141683] /workspace/.conda-bld/work/python/_skbuild/linux-x86_64-3.8/cmake-build/cuml/common/logger.cxx:3188 Expected column ('F') major order, but got the opposite. Converting data, this will result in additional memory utilization.\n",
      "[D] [16:48:16.797874] /workspace/.conda-bld/work/python/_skbuild/linux-x86_64-3.8/cmake-build/cuml/common/logger.cxx:3188 Expected column ('F') major order, but got the opposite. Converting data, this will result in additional memory utilization.\n"
     ]
    },
    {
     "name": "stderr",
     "output_type": "stream",
     "text": [
      "\u001b[32m[I 2022-12-11 16:48:46,552]\u001b[0m Trial 50 finished with value: 0.999793696516955 and parameters: {'split_criterion': 1, 'max_depth': 24, 'min_samples_leaf': 4, 'min_samples_split': 11, 'n_bins': 192, 'n_estimators': 1100}. Best is trial 50 with value: 0.999793696516955.\u001b[0m\n"
     ]
    },
    {
     "name": "stdout",
     "output_type": "stream",
     "text": [
      "train auc score = 0.999960826098904\n",
      "test auc score = 0.999793696516955\n",
      "[D] [16:48:47.485527] /workspace/.conda-bld/work/python/_skbuild/linux-x86_64-3.8/cmake-build/cuml/common/logger.cxx:3188 Expected column ('F') major order, but got the opposite. Converting data, this will result in additional memory utilization.\n",
      "[D] [16:49:18.570531] /workspace/.conda-bld/work/python/_skbuild/linux-x86_64-3.8/cmake-build/cuml/common/logger.cxx:3188 Expected column ('F') major order, but got the opposite. Converting data, this will result in additional memory utilization.\n",
      "[D] [16:49:49.690571] /workspace/.conda-bld/work/python/_skbuild/linux-x86_64-3.8/cmake-build/cuml/common/logger.cxx:3188 Expected column ('F') major order, but got the opposite. Converting data, this will result in additional memory utilization.\n",
      "[D] [16:50:20.963874] /workspace/.conda-bld/work/python/_skbuild/linux-x86_64-3.8/cmake-build/cuml/common/logger.cxx:3188 Expected column ('F') major order, but got the opposite. Converting data, this will result in additional memory utilization.\n",
      "[D] [16:50:52.081578] /workspace/.conda-bld/work/python/_skbuild/linux-x86_64-3.8/cmake-build/cuml/common/logger.cxx:3188 Expected column ('F') major order, but got the opposite. Converting data, this will result in additional memory utilization.\n"
     ]
    },
    {
     "name": "stderr",
     "output_type": "stream",
     "text": [
      "\u001b[32m[I 2022-12-11 16:51:22,150]\u001b[0m Trial 51 finished with value: 0.9998041330980687 and parameters: {'split_criterion': 1, 'max_depth': 24, 'min_samples_leaf': 4, 'min_samples_split': 11, 'n_bins': 232, 'n_estimators': 1100}. Best is trial 51 with value: 0.9998041330980687.\u001b[0m\n"
     ]
    },
    {
     "name": "stdout",
     "output_type": "stream",
     "text": [
      "train auc score = 0.9999626732152803\n",
      "test auc score = 0.9998041330980687\n",
      "[D] [16:51:23.088161] /workspace/.conda-bld/work/python/_skbuild/linux-x86_64-3.8/cmake-build/cuml/common/logger.cxx:3188 Expected column ('F') major order, but got the opposite. Converting data, this will result in additional memory utilization.\n",
      "[D] [16:51:54.262911] /workspace/.conda-bld/work/python/_skbuild/linux-x86_64-3.8/cmake-build/cuml/common/logger.cxx:3188 Expected column ('F') major order, but got the opposite. Converting data, this will result in additional memory utilization.\n",
      "[D] [16:52:25.437189] /workspace/.conda-bld/work/python/_skbuild/linux-x86_64-3.8/cmake-build/cuml/common/logger.cxx:3188 Expected column ('F') major order, but got the opposite. Converting data, this will result in additional memory utilization.\n",
      "[D] [16:52:56.514187] /workspace/.conda-bld/work/python/_skbuild/linux-x86_64-3.8/cmake-build/cuml/common/logger.cxx:3188 Expected column ('F') major order, but got the opposite. Converting data, this will result in additional memory utilization.\n",
      "[D] [16:53:27.518119] /workspace/.conda-bld/work/python/_skbuild/linux-x86_64-3.8/cmake-build/cuml/common/logger.cxx:3188 Expected column ('F') major order, but got the opposite. Converting data, this will result in additional memory utilization.\n"
     ]
    },
    {
     "name": "stderr",
     "output_type": "stream",
     "text": [
      "\u001b[32m[I 2022-12-11 16:53:57,721]\u001b[0m Trial 52 finished with value: 0.9997922021447447 and parameters: {'split_criterion': 1, 'max_depth': 24, 'min_samples_leaf': 7, 'min_samples_split': 11, 'n_bins': 248, 'n_estimators': 1100}. Best is trial 51 with value: 0.9998041330980687.\u001b[0m\n"
     ]
    },
    {
     "name": "stdout",
     "output_type": "stream",
     "text": [
      "train auc score = 0.9999451511243637\n",
      "test auc score = 0.9997922021447447\n",
      "[D] [16:53:58.624817] /workspace/.conda-bld/work/python/_skbuild/linux-x86_64-3.8/cmake-build/cuml/common/logger.cxx:3188 Expected column ('F') major order, but got the opposite. Converting data, this will result in additional memory utilization.\n",
      "[D] [16:54:29.513677] /workspace/.conda-bld/work/python/_skbuild/linux-x86_64-3.8/cmake-build/cuml/common/logger.cxx:3188 Expected column ('F') major order, but got the opposite. Converting data, this will result in additional memory utilization.\n",
      "[D] [16:55:00.328923] /workspace/.conda-bld/work/python/_skbuild/linux-x86_64-3.8/cmake-build/cuml/common/logger.cxx:3188 Expected column ('F') major order, but got the opposite. Converting data, this will result in additional memory utilization.\n",
      "[D] [16:55:31.136824] /workspace/.conda-bld/work/python/_skbuild/linux-x86_64-3.8/cmake-build/cuml/common/logger.cxx:3188 Expected column ('F') major order, but got the opposite. Converting data, this will result in additional memory utilization.\n",
      "[D] [16:56:02.116474] /workspace/.conda-bld/work/python/_skbuild/linux-x86_64-3.8/cmake-build/cuml/common/logger.cxx:3188 Expected column ('F') major order, but got the opposite. Converting data, this will result in additional memory utilization.\n"
     ]
    },
    {
     "name": "stderr",
     "output_type": "stream",
     "text": [
      "\u001b[32m[I 2022-12-11 16:56:32,098]\u001b[0m Trial 53 finished with value: 0.9998033859711379 and parameters: {'split_criterion': 1, 'max_depth': 24, 'min_samples_leaf': 4, 'min_samples_split': 10, 'n_bins': 232, 'n_estimators': 1100}. Best is trial 51 with value: 0.9998041330980687.\u001b[0m\n"
     ]
    },
    {
     "name": "stdout",
     "output_type": "stream",
     "text": [
      "train auc score = 0.9999634893670908\n",
      "test auc score = 0.9998033859711379\n",
      "[D] [16:56:32.993305] /workspace/.conda-bld/work/python/_skbuild/linux-x86_64-3.8/cmake-build/cuml/common/logger.cxx:3188 Expected column ('F') major order, but got the opposite. Converting data, this will result in additional memory utilization.\n",
      "[D] [16:57:03.463598] /workspace/.conda-bld/work/python/_skbuild/linux-x86_64-3.8/cmake-build/cuml/common/logger.cxx:3188 Expected column ('F') major order, but got the opposite. Converting data, this will result in additional memory utilization.\n",
      "[D] [16:57:33.821041] /workspace/.conda-bld/work/python/_skbuild/linux-x86_64-3.8/cmake-build/cuml/common/logger.cxx:3188 Expected column ('F') major order, but got the opposite. Converting data, this will result in additional memory utilization.\n",
      "[D] [16:58:04.417431] /workspace/.conda-bld/work/python/_skbuild/linux-x86_64-3.8/cmake-build/cuml/common/logger.cxx:3188 Expected column ('F') major order, but got the opposite. Converting data, this will result in additional memory utilization.\n",
      "[D] [16:58:34.459916] /workspace/.conda-bld/work/python/_skbuild/linux-x86_64-3.8/cmake-build/cuml/common/logger.cxx:3188 Expected column ('F') major order, but got the opposite. Converting data, this will result in additional memory utilization.\n"
     ]
    },
    {
     "name": "stderr",
     "output_type": "stream",
     "text": [
      "\u001b[32m[I 2022-12-11 16:59:04,423]\u001b[0m Trial 54 finished with value: 0.9997931104713752 and parameters: {'split_criterion': 1, 'max_depth': 24, 'min_samples_leaf': 6, 'min_samples_split': 10, 'n_bins': 200, 'n_estimators': 1100}. Best is trial 51 with value: 0.9998041330980687.\u001b[0m\n"
     ]
    },
    {
     "name": "stdout",
     "output_type": "stream",
     "text": [
      "train auc score = 0.9999497855178155\n",
      "test auc score = 0.9997931104713752\n",
      "[D] [16:59:05.326444] /workspace/.conda-bld/work/python/_skbuild/linux-x86_64-3.8/cmake-build/cuml/common/logger.cxx:3188 Expected column ('F') major order, but got the opposite. Converting data, this will result in additional memory utilization.\n",
      "[D] [16:59:33.353837] /workspace/.conda-bld/work/python/_skbuild/linux-x86_64-3.8/cmake-build/cuml/common/logger.cxx:3188 Expected column ('F') major order, but got the opposite. Converting data, this will result in additional memory utilization.\n",
      "[D] [17:00:01.225248] /workspace/.conda-bld/work/python/_skbuild/linux-x86_64-3.8/cmake-build/cuml/common/logger.cxx:3188 Expected column ('F') major order, but got the opposite. Converting data, this will result in additional memory utilization.\n",
      "[D] [17:00:29.236099] /workspace/.conda-bld/work/python/_skbuild/linux-x86_64-3.8/cmake-build/cuml/common/logger.cxx:3188 Expected column ('F') major order, but got the opposite. Converting data, this will result in additional memory utilization.\n",
      "[D] [17:00:56.741021] /workspace/.conda-bld/work/python/_skbuild/linux-x86_64-3.8/cmake-build/cuml/common/logger.cxx:3188 Expected column ('F') major order, but got the opposite. Converting data, this will result in additional memory utilization.\n"
     ]
    },
    {
     "name": "stderr",
     "output_type": "stream",
     "text": [
      "\u001b[32m[I 2022-12-11 17:01:23,692]\u001b[0m Trial 55 finished with value: 0.9997940981352675 and parameters: {'split_criterion': 1, 'max_depth': 24, 'min_samples_leaf': 4, 'min_samples_split': 10, 'n_bins': 192, 'n_estimators': 1000}. Best is trial 51 with value: 0.9998041330980687.\u001b[0m\n"
     ]
    },
    {
     "name": "stdout",
     "output_type": "stream",
     "text": [
      "train auc score = 0.9999615868869286\n",
      "test auc score = 0.9997940981352675\n",
      "[D] [17:01:24.589118] /workspace/.conda-bld/work/python/_skbuild/linux-x86_64-3.8/cmake-build/cuml/common/logger.cxx:3188 Expected column ('F') major order, but got the opposite. Converting data, this will result in additional memory utilization.\n",
      "[D] [17:01:52.343146] /workspace/.conda-bld/work/python/_skbuild/linux-x86_64-3.8/cmake-build/cuml/common/logger.cxx:3188 Expected column ('F') major order, but got the opposite. Converting data, this will result in additional memory utilization.\n",
      "[D] [17:02:20.156734] /workspace/.conda-bld/work/python/_skbuild/linux-x86_64-3.8/cmake-build/cuml/common/logger.cxx:3188 Expected column ('F') major order, but got the opposite. Converting data, this will result in additional memory utilization.\n",
      "[D] [17:02:48.008768] /workspace/.conda-bld/work/python/_skbuild/linux-x86_64-3.8/cmake-build/cuml/common/logger.cxx:3188 Expected column ('F') major order, but got the opposite. Converting data, this will result in additional memory utilization.\n",
      "[D] [17:03:15.657965] /workspace/.conda-bld/work/python/_skbuild/linux-x86_64-3.8/cmake-build/cuml/common/logger.cxx:3188 Expected column ('F') major order, but got the opposite. Converting data, this will result in additional memory utilization.\n"
     ]
    },
    {
     "name": "stderr",
     "output_type": "stream",
     "text": [
      "\u001b[32m[I 2022-12-11 17:03:42,274]\u001b[0m Trial 56 finished with value: 0.999796223825642 and parameters: {'split_criterion': 1, 'max_depth': 23, 'min_samples_leaf': 5, 'min_samples_split': 9, 'n_bins': 184, 'n_estimators': 1000}. Best is trial 51 with value: 0.9998041330980687.\u001b[0m\n"
     ]
    },
    {
     "name": "stdout",
     "output_type": "stream",
     "text": [
      "train auc score = 0.9999526598666446\n",
      "test auc score = 0.999796223825642\n",
      "[D] [17:03:43.184761] /workspace/.conda-bld/work/python/_skbuild/linux-x86_64-3.8/cmake-build/cuml/common/logger.cxx:3188 Expected column ('F') major order, but got the opposite. Converting data, this will result in additional memory utilization.\n",
      "[D] [17:04:11.266738] /workspace/.conda-bld/work/python/_skbuild/linux-x86_64-3.8/cmake-build/cuml/common/logger.cxx:3188 Expected column ('F') major order, but got the opposite. Converting data, this will result in additional memory utilization.\n",
      "[D] [17:04:39.117721] /workspace/.conda-bld/work/python/_skbuild/linux-x86_64-3.8/cmake-build/cuml/common/logger.cxx:3188 Expected column ('F') major order, but got the opposite. Converting data, this will result in additional memory utilization.\n",
      "[D] [17:05:07.204033] /workspace/.conda-bld/work/python/_skbuild/linux-x86_64-3.8/cmake-build/cuml/common/logger.cxx:3188 Expected column ('F') major order, but got the opposite. Converting data, this will result in additional memory utilization.\n",
      "[D] [17:05:35.139928] /workspace/.conda-bld/work/python/_skbuild/linux-x86_64-3.8/cmake-build/cuml/common/logger.cxx:3188 Expected column ('F') major order, but got the opposite. Converting data, this will result in additional memory utilization.\n"
     ]
    },
    {
     "name": "stderr",
     "output_type": "stream",
     "text": [
      "\u001b[32m[I 2022-12-11 17:06:02,037]\u001b[0m Trial 57 finished with value: 0.9998002404581647 and parameters: {'split_criterion': 1, 'max_depth': 23, 'min_samples_leaf': 4, 'min_samples_split': 4, 'n_bins': 184, 'n_estimators': 1000}. Best is trial 51 with value: 0.9998041330980687.\u001b[0m\n"
     ]
    },
    {
     "name": "stdout",
     "output_type": "stream",
     "text": [
      "train auc score = 0.9999598594889848\n",
      "test auc score = 0.9998002404581647\n",
      "[D] [17:06:02.921645] /workspace/.conda-bld/work/python/_skbuild/linux-x86_64-3.8/cmake-build/cuml/common/logger.cxx:3188 Expected column ('F') major order, but got the opposite. Converting data, this will result in additional memory utilization.\n",
      "[D] [17:06:30.597797] /workspace/.conda-bld/work/python/_skbuild/linux-x86_64-3.8/cmake-build/cuml/common/logger.cxx:3188 Expected column ('F') major order, but got the opposite. Converting data, this will result in additional memory utilization.\n",
      "[D] [17:06:58.327786] /workspace/.conda-bld/work/python/_skbuild/linux-x86_64-3.8/cmake-build/cuml/common/logger.cxx:3188 Expected column ('F') major order, but got the opposite. Converting data, this will result in additional memory utilization.\n",
      "[D] [17:07:26.250112] /workspace/.conda-bld/work/python/_skbuild/linux-x86_64-3.8/cmake-build/cuml/common/logger.cxx:3188 Expected column ('F') major order, but got the opposite. Converting data, this will result in additional memory utilization.\n",
      "[D] [17:07:53.615391] /workspace/.conda-bld/work/python/_skbuild/linux-x86_64-3.8/cmake-build/cuml/common/logger.cxx:3188 Expected column ('F') major order, but got the opposite. Converting data, this will result in additional memory utilization.\n"
     ]
    },
    {
     "name": "stderr",
     "output_type": "stream",
     "text": [
      "\u001b[32m[I 2022-12-11 17:08:20,378]\u001b[0m Trial 58 finished with value: 0.9997967914951577 and parameters: {'split_criterion': 1, 'max_depth': 23, 'min_samples_leaf': 4, 'min_samples_split': 4, 'n_bins': 176, 'n_estimators': 1000}. Best is trial 51 with value: 0.9998041330980687.\u001b[0m\n"
     ]
    },
    {
     "name": "stdout",
     "output_type": "stream",
     "text": [
      "train auc score = 0.9999594793833531\n",
      "test auc score = 0.9997967914951577\n",
      "[D] [17:08:21.255983] /workspace/.conda-bld/work/python/_skbuild/linux-x86_64-3.8/cmake-build/cuml/common/logger.cxx:3188 Expected column ('F') major order, but got the opposite. Converting data, this will result in additional memory utilization.\n",
      "[D] [17:08:49.105195] /workspace/.conda-bld/work/python/_skbuild/linux-x86_64-3.8/cmake-build/cuml/common/logger.cxx:3188 Expected column ('F') major order, but got the opposite. Converting data, this will result in additional memory utilization.\n",
      "[D] [17:09:16.671484] /workspace/.conda-bld/work/python/_skbuild/linux-x86_64-3.8/cmake-build/cuml/common/logger.cxx:3188 Expected column ('F') major order, but got the opposite. Converting data, this will result in additional memory utilization.\n",
      "[D] [17:09:44.364914] /workspace/.conda-bld/work/python/_skbuild/linux-x86_64-3.8/cmake-build/cuml/common/logger.cxx:3188 Expected column ('F') major order, but got the opposite. Converting data, this will result in additional memory utilization.\n",
      "[D] [17:10:11.826104] /workspace/.conda-bld/work/python/_skbuild/linux-x86_64-3.8/cmake-build/cuml/common/logger.cxx:3188 Expected column ('F') major order, but got the opposite. Converting data, this will result in additional memory utilization.\n"
     ]
    },
    {
     "name": "stderr",
     "output_type": "stream",
     "text": [
      "\u001b[32m[I 2022-12-11 17:10:38,387]\u001b[0m Trial 59 finished with value: 0.9997967914951577 and parameters: {'split_criterion': 1, 'max_depth': 23, 'min_samples_leaf': 4, 'min_samples_split': 3, 'n_bins': 176, 'n_estimators': 1000}. Best is trial 51 with value: 0.9998041330980687.\u001b[0m\n"
     ]
    },
    {
     "name": "stdout",
     "output_type": "stream",
     "text": [
      "train auc score = 0.9999594793833531\n",
      "test auc score = 0.9997967914951577\n",
      "[D] [17:10:39.273352] /workspace/.conda-bld/work/python/_skbuild/linux-x86_64-3.8/cmake-build/cuml/common/logger.cxx:3188 Expected column ('F') major order, but got the opposite. Converting data, this will result in additional memory utilization.\n",
      "[D] [17:11:03.752892] /workspace/.conda-bld/work/python/_skbuild/linux-x86_64-3.8/cmake-build/cuml/common/logger.cxx:3188 Expected column ('F') major order, but got the opposite. Converting data, this will result in additional memory utilization.\n",
      "[D] [17:11:28.272729] /workspace/.conda-bld/work/python/_skbuild/linux-x86_64-3.8/cmake-build/cuml/common/logger.cxx:3188 Expected column ('F') major order, but got the opposite. Converting data, this will result in additional memory utilization.\n",
      "[D] [17:11:52.863522] /workspace/.conda-bld/work/python/_skbuild/linux-x86_64-3.8/cmake-build/cuml/common/logger.cxx:3188 Expected column ('F') major order, but got the opposite. Converting data, this will result in additional memory utilization.\n",
      "[D] [17:12:17.387812] /workspace/.conda-bld/work/python/_skbuild/linux-x86_64-3.8/cmake-build/cuml/common/logger.cxx:3188 Expected column ('F') major order, but got the opposite. Converting data, this will result in additional memory utilization.\n"
     ]
    },
    {
     "name": "stderr",
     "output_type": "stream",
     "text": [
      "\u001b[32m[I 2022-12-11 17:12:41,064]\u001b[0m Trial 60 finished with value: 0.999772322957762 and parameters: {'split_criterion': 1, 'max_depth': 21, 'min_samples_leaf': 11, 'min_samples_split': 2, 'n_bins': 176, 'n_estimators': 900}. Best is trial 51 with value: 0.9998041330980687.\u001b[0m\n"
     ]
    },
    {
     "name": "stdout",
     "output_type": "stream",
     "text": [
      "train auc score = 0.9999096902244562\n",
      "test auc score = 0.999772322957762\n",
      "[D] [17:12:41.945025] /workspace/.conda-bld/work/python/_skbuild/linux-x86_64-3.8/cmake-build/cuml/common/logger.cxx:3188 Expected column ('F') major order, but got the opposite. Converting data, this will result in additional memory utilization.\n",
      "[D] [17:13:09.541511] /workspace/.conda-bld/work/python/_skbuild/linux-x86_64-3.8/cmake-build/cuml/common/logger.cxx:3188 Expected column ('F') major order, but got the opposite. Converting data, this will result in additional memory utilization.\n",
      "[D] [17:13:36.847254] /workspace/.conda-bld/work/python/_skbuild/linux-x86_64-3.8/cmake-build/cuml/common/logger.cxx:3188 Expected column ('F') major order, but got the opposite. Converting data, this will result in additional memory utilization.\n",
      "[D] [17:14:04.594376] /workspace/.conda-bld/work/python/_skbuild/linux-x86_64-3.8/cmake-build/cuml/common/logger.cxx:3188 Expected column ('F') major order, but got the opposite. Converting data, this will result in additional memory utilization.\n",
      "[D] [17:14:32.117400] /workspace/.conda-bld/work/python/_skbuild/linux-x86_64-3.8/cmake-build/cuml/common/logger.cxx:3188 Expected column ('F') major order, but got the opposite. Converting data, this will result in additional memory utilization.\n"
     ]
    },
    {
     "name": "stderr",
     "output_type": "stream",
     "text": [
      "\u001b[32m[I 2022-12-11 17:14:58,840]\u001b[0m Trial 61 finished with value: 0.9998038014875007 and parameters: {'split_criterion': 1, 'max_depth': 23, 'min_samples_leaf': 3, 'min_samples_split': 4, 'n_bins': 144, 'n_estimators': 1000}. Best is trial 51 with value: 0.9998041330980687.\u001b[0m\n"
     ]
    },
    {
     "name": "stdout",
     "output_type": "stream",
     "text": [
      "train auc score = 0.9999664674811479\n",
      "test auc score = 0.9998038014875007\n",
      "[D] [17:14:59.738752] /workspace/.conda-bld/work/python/_skbuild/linux-x86_64-3.8/cmake-build/cuml/common/logger.cxx:3188 Expected column ('F') major order, but got the opposite. Converting data, this will result in additional memory utilization.\n",
      "[D] [17:15:27.430464] /workspace/.conda-bld/work/python/_skbuild/linux-x86_64-3.8/cmake-build/cuml/common/logger.cxx:3188 Expected column ('F') major order, but got the opposite. Converting data, this will result in additional memory utilization.\n",
      "[D] [17:15:55.109399] /workspace/.conda-bld/work/python/_skbuild/linux-x86_64-3.8/cmake-build/cuml/common/logger.cxx:3188 Expected column ('F') major order, but got the opposite. Converting data, this will result in additional memory utilization.\n",
      "[D] [17:16:22.799035] /workspace/.conda-bld/work/python/_skbuild/linux-x86_64-3.8/cmake-build/cuml/common/logger.cxx:3188 Expected column ('F') major order, but got the opposite. Converting data, this will result in additional memory utilization.\n",
      "[D] [17:16:50.115839] /workspace/.conda-bld/work/python/_skbuild/linux-x86_64-3.8/cmake-build/cuml/common/logger.cxx:3188 Expected column ('F') major order, but got the opposite. Converting data, this will result in additional memory utilization.\n"
     ]
    },
    {
     "name": "stderr",
     "output_type": "stream",
     "text": [
      "\u001b[32m[I 2022-12-11 17:17:16,835]\u001b[0m Trial 62 finished with value: 0.9997988447758598 and parameters: {'split_criterion': 1, 'max_depth': 23, 'min_samples_leaf': 4, 'min_samples_split': 4, 'n_bins': 136, 'n_estimators': 1000}. Best is trial 51 with value: 0.9998041330980687.\u001b[0m\n"
     ]
    },
    {
     "name": "stdout",
     "output_type": "stream",
     "text": [
      "train auc score = 0.9999587721048184\n",
      "test auc score = 0.9997988447758598\n",
      "[D] [17:17:17.708822] /workspace/.conda-bld/work/python/_skbuild/linux-x86_64-3.8/cmake-build/cuml/common/logger.cxx:3188 Expected column ('F') major order, but got the opposite. Converting data, this will result in additional memory utilization.\n",
      "[D] [17:17:42.544962] /workspace/.conda-bld/work/python/_skbuild/linux-x86_64-3.8/cmake-build/cuml/common/logger.cxx:3188 Expected column ('F') major order, but got the opposite. Converting data, this will result in additional memory utilization.\n",
      "[D] [17:18:07.244182] /workspace/.conda-bld/work/python/_skbuild/linux-x86_64-3.8/cmake-build/cuml/common/logger.cxx:3188 Expected column ('F') major order, but got the opposite. Converting data, this will result in additional memory utilization.\n",
      "[D] [17:18:31.982897] /workspace/.conda-bld/work/python/_skbuild/linux-x86_64-3.8/cmake-build/cuml/common/logger.cxx:3188 Expected column ('F') major order, but got the opposite. Converting data, this will result in additional memory utilization.\n",
      "[D] [17:18:56.550094] /workspace/.conda-bld/work/python/_skbuild/linux-x86_64-3.8/cmake-build/cuml/common/logger.cxx:3188 Expected column ('F') major order, but got the opposite. Converting data, this will result in additional memory utilization.\n"
     ]
    },
    {
     "name": "stderr",
     "output_type": "stream",
     "text": [
      "\u001b[32m[I 2022-12-11 17:19:20,346]\u001b[0m Trial 63 finished with value: 0.9997998301786375 and parameters: {'split_criterion': 1, 'max_depth': 22, 'min_samples_leaf': 3, 'min_samples_split': 4, 'n_bins': 128, 'n_estimators': 900}. Best is trial 51 with value: 0.9998041330980687.\u001b[0m\n"
     ]
    },
    {
     "name": "stdout",
     "output_type": "stream",
     "text": [
      "train auc score = 0.9999621022951647\n",
      "test auc score = 0.9997998301786375\n",
      "[D] [17:19:21.216374] /workspace/.conda-bld/work/python/_skbuild/linux-x86_64-3.8/cmake-build/cuml/common/logger.cxx:3188 Expected column ('F') major order, but got the opposite. Converting data, this will result in additional memory utilization.\n",
      "[D] [17:19:46.007710] /workspace/.conda-bld/work/python/_skbuild/linux-x86_64-3.8/cmake-build/cuml/common/logger.cxx:3188 Expected column ('F') major order, but got the opposite. Converting data, this will result in additional memory utilization.\n",
      "[D] [17:20:10.984909] /workspace/.conda-bld/work/python/_skbuild/linux-x86_64-3.8/cmake-build/cuml/common/logger.cxx:3188 Expected column ('F') major order, but got the opposite. Converting data, this will result in additional memory utilization.\n",
      "[D] [17:20:36.032978] /workspace/.conda-bld/work/python/_skbuild/linux-x86_64-3.8/cmake-build/cuml/common/logger.cxx:3188 Expected column ('F') major order, but got the opposite. Converting data, this will result in additional memory utilization.\n",
      "[D] [17:21:00.819197] /workspace/.conda-bld/work/python/_skbuild/linux-x86_64-3.8/cmake-build/cuml/common/logger.cxx:3188 Expected column ('F') major order, but got the opposite. Converting data, this will result in additional memory utilization.\n"
     ]
    },
    {
     "name": "stderr",
     "output_type": "stream",
     "text": [
      "\u001b[32m[I 2022-12-11 17:21:24,797]\u001b[0m Trial 64 finished with value: 0.9997990061984583 and parameters: {'split_criterion': 1, 'max_depth': 22, 'min_samples_leaf': 3, 'min_samples_split': 4, 'n_bins': 136, 'n_estimators': 900}. Best is trial 51 with value: 0.9998041330980687.\u001b[0m\n"
     ]
    },
    {
     "name": "stdout",
     "output_type": "stream",
     "text": [
      "train auc score = 0.9999629245816551\n",
      "test auc score = 0.9997990061984583\n",
      "[D] [17:21:25.672700] /workspace/.conda-bld/work/python/_skbuild/linux-x86_64-3.8/cmake-build/cuml/common/logger.cxx:3188 Expected column ('F') major order, but got the opposite. Converting data, this will result in additional memory utilization.\n",
      "[D] [17:21:49.719388] /workspace/.conda-bld/work/python/_skbuild/linux-x86_64-3.8/cmake-build/cuml/common/logger.cxx:3188 Expected column ('F') major order, but got the opposite. Converting data, this will result in additional memory utilization.\n",
      "[D] [17:22:13.594006] /workspace/.conda-bld/work/python/_skbuild/linux-x86_64-3.8/cmake-build/cuml/common/logger.cxx:3188 Expected column ('F') major order, but got the opposite. Converting data, this will result in additional memory utilization.\n",
      "[D] [17:22:37.506692] /workspace/.conda-bld/work/python/_skbuild/linux-x86_64-3.8/cmake-build/cuml/common/logger.cxx:3188 Expected column ('F') major order, but got the opposite. Converting data, this will result in additional memory utilization.\n",
      "[D] [17:23:01.304180] /workspace/.conda-bld/work/python/_skbuild/linux-x86_64-3.8/cmake-build/cuml/common/logger.cxx:3188 Expected column ('F') major order, but got the opposite. Converting data, this will result in additional memory utilization.\n"
     ]
    },
    {
     "name": "stderr",
     "output_type": "stream",
     "text": [
      "\u001b[32m[I 2022-12-11 17:23:24,162]\u001b[0m Trial 65 finished with value: 0.9997146076797645 and parameters: {'split_criterion': 1, 'max_depth': 20, 'min_samples_leaf': 36, 'min_samples_split': 4, 'n_bins': 128, 'n_estimators': 900}. Best is trial 51 with value: 0.9998041330980687.\u001b[0m\n"
     ]
    },
    {
     "name": "stdout",
     "output_type": "stream",
     "text": [
      "train auc score = 0.9998214522719262\n",
      "test auc score = 0.9997146076797645\n",
      "[D] [17:23:25.053534] /workspace/.conda-bld/work/python/_skbuild/linux-x86_64-3.8/cmake-build/cuml/common/logger.cxx:3188 Expected column ('F') major order, but got the opposite. Converting data, this will result in additional memory utilization.\n",
      "[D] [17:23:47.741426] /workspace/.conda-bld/work/python/_skbuild/linux-x86_64-3.8/cmake-build/cuml/common/logger.cxx:3188 Expected column ('F') major order, but got the opposite. Converting data, this will result in additional memory utilization.\n",
      "[D] [17:24:10.019822] /workspace/.conda-bld/work/python/_skbuild/linux-x86_64-3.8/cmake-build/cuml/common/logger.cxx:3188 Expected column ('F') major order, but got the opposite. Converting data, this will result in additional memory utilization.\n",
      "[D] [17:24:32.657798] /workspace/.conda-bld/work/python/_skbuild/linux-x86_64-3.8/cmake-build/cuml/common/logger.cxx:3188 Expected column ('F') major order, but got the opposite. Converting data, this will result in additional memory utilization.\n",
      "[D] [17:24:54.873492] /workspace/.conda-bld/work/python/_skbuild/linux-x86_64-3.8/cmake-build/cuml/common/logger.cxx:3188 Expected column ('F') major order, but got the opposite. Converting data, this will result in additional memory utilization.\n"
     ]
    },
    {
     "name": "stderr",
     "output_type": "stream",
     "text": [
      "\u001b[32m[I 2022-12-11 17:25:16,568]\u001b[0m Trial 66 finished with value: 0.9998026967779208 and parameters: {'split_criterion': 1, 'max_depth': 22, 'min_samples_leaf': 2, 'min_samples_split': 6, 'n_bins': 144, 'n_estimators': 800}. Best is trial 51 with value: 0.9998041330980687.\u001b[0m\n"
     ]
    },
    {
     "name": "stdout",
     "output_type": "stream",
     "text": [
      "train auc score = 0.9999700171571888\n",
      "test auc score = 0.9998026967779208\n",
      "[D] [17:25:17.432730] /workspace/.conda-bld/work/python/_skbuild/linux-x86_64-3.8/cmake-build/cuml/common/logger.cxx:3188 Expected column ('F') major order, but got the opposite. Converting data, this will result in additional memory utilization.\n",
      "[D] [17:25:40.095821] /workspace/.conda-bld/work/python/_skbuild/linux-x86_64-3.8/cmake-build/cuml/common/logger.cxx:3188 Expected column ('F') major order, but got the opposite. Converting data, this will result in additional memory utilization.\n",
      "[D] [17:26:02.696780] /workspace/.conda-bld/work/python/_skbuild/linux-x86_64-3.8/cmake-build/cuml/common/logger.cxx:3188 Expected column ('F') major order, but got the opposite. Converting data, this will result in additional memory utilization.\n",
      "[D] [17:26:25.160718] /workspace/.conda-bld/work/python/_skbuild/linux-x86_64-3.8/cmake-build/cuml/common/logger.cxx:3188 Expected column ('F') major order, but got the opposite. Converting data, this will result in additional memory utilization.\n",
      "[D] [17:26:47.700658] /workspace/.conda-bld/work/python/_skbuild/linux-x86_64-3.8/cmake-build/cuml/common/logger.cxx:3188 Expected column ('F') major order, but got the opposite. Converting data, this will result in additional memory utilization.\n"
     ]
    },
    {
     "name": "stderr",
     "output_type": "stream",
     "text": [
      "\u001b[32m[I 2022-12-11 17:27:09,391]\u001b[0m Trial 67 finished with value: 0.999805620930306 and parameters: {'split_criterion': 1, 'max_depth': 22, 'min_samples_leaf': 2, 'min_samples_split': 6, 'n_bins': 120, 'n_estimators': 800}. Best is trial 67 with value: 0.999805620930306.\u001b[0m\n"
     ]
    },
    {
     "name": "stdout",
     "output_type": "stream",
     "text": [
      "train auc score = 0.9999690705501341\n",
      "test auc score = 0.999805620930306\n",
      "[D] [17:27:10.307527] /workspace/.conda-bld/work/python/_skbuild/linux-x86_64-3.8/cmake-build/cuml/common/logger.cxx:3188 Expected column ('F') major order, but got the opposite. Converting data, this will result in additional memory utilization.\n",
      "[D] [17:27:32.899961] /workspace/.conda-bld/work/python/_skbuild/linux-x86_64-3.8/cmake-build/cuml/common/logger.cxx:3188 Expected column ('F') major order, but got the opposite. Converting data, this will result in additional memory utilization.\n",
      "[D] [17:27:55.211385] /workspace/.conda-bld/work/python/_skbuild/linux-x86_64-3.8/cmake-build/cuml/common/logger.cxx:3188 Expected column ('F') major order, but got the opposite. Converting data, this will result in additional memory utilization.\n",
      "[D] [17:28:17.506815] /workspace/.conda-bld/work/python/_skbuild/linux-x86_64-3.8/cmake-build/cuml/common/logger.cxx:3188 Expected column ('F') major order, but got the opposite. Converting data, this will result in additional memory utilization.\n",
      "[D] [17:28:39.709863] /workspace/.conda-bld/work/python/_skbuild/linux-x86_64-3.8/cmake-build/cuml/common/logger.cxx:3188 Expected column ('F') major order, but got the opposite. Converting data, this will result in additional memory utilization.\n"
     ]
    },
    {
     "name": "stderr",
     "output_type": "stream",
     "text": [
      "\u001b[32m[I 2022-12-11 17:29:01,199]\u001b[0m Trial 68 finished with value: 0.9998031273580642 and parameters: {'split_criterion': 1, 'max_depth': 21, 'min_samples_leaf': 1, 'min_samples_split': 6, 'n_bins': 112, 'n_estimators': 800}. Best is trial 67 with value: 0.999805620930306.\u001b[0m\n"
     ]
    },
    {
     "name": "stdout",
     "output_type": "stream",
     "text": [
      "train auc score = 0.9999702630867612\n",
      "test auc score = 0.9998031273580642\n",
      "[D] [17:29:02.086023] /workspace/.conda-bld/work/python/_skbuild/linux-x86_64-3.8/cmake-build/cuml/common/logger.cxx:3188 Expected column ('F') major order, but got the opposite. Converting data, this will result in additional memory utilization.\n",
      "[D] [17:29:24.431736] /workspace/.conda-bld/work/python/_skbuild/linux-x86_64-3.8/cmake-build/cuml/common/logger.cxx:3188 Expected column ('F') major order, but got the opposite. Converting data, this will result in additional memory utilization.\n",
      "[D] [17:29:46.725877] /workspace/.conda-bld/work/python/_skbuild/linux-x86_64-3.8/cmake-build/cuml/common/logger.cxx:3188 Expected column ('F') major order, but got the opposite. Converting data, this will result in additional memory utilization.\n",
      "[D] [17:30:09.105668] /workspace/.conda-bld/work/python/_skbuild/linux-x86_64-3.8/cmake-build/cuml/common/logger.cxx:3188 Expected column ('F') major order, but got the opposite. Converting data, this will result in additional memory utilization.\n",
      "[D] [17:30:31.221603] /workspace/.conda-bld/work/python/_skbuild/linux-x86_64-3.8/cmake-build/cuml/common/logger.cxx:3188 Expected column ('F') major order, but got the opposite. Converting data, this will result in additional memory utilization.\n"
     ]
    },
    {
     "name": "stderr",
     "output_type": "stream",
     "text": [
      "\u001b[32m[I 2022-12-11 17:30:52,785]\u001b[0m Trial 69 finished with value: 0.9998031273580642 and parameters: {'split_criterion': 1, 'max_depth': 21, 'min_samples_leaf': 1, 'min_samples_split': 6, 'n_bins': 112, 'n_estimators': 800}. Best is trial 67 with value: 0.999805620930306.\u001b[0m\n"
     ]
    },
    {
     "name": "stdout",
     "output_type": "stream",
     "text": [
      "train auc score = 0.9999702630867612\n",
      "test auc score = 0.9998031273580642\n",
      "[D] [17:30:53.661801] /workspace/.conda-bld/work/python/_skbuild/linux-x86_64-3.8/cmake-build/cuml/common/logger.cxx:3188 Expected column ('F') major order, but got the opposite. Converting data, this will result in additional memory utilization.\n",
      "[D] [17:31:15.968080] /workspace/.conda-bld/work/python/_skbuild/linux-x86_64-3.8/cmake-build/cuml/common/logger.cxx:3188 Expected column ('F') major order, but got the opposite. Converting data, this will result in additional memory utilization.\n",
      "[D] [17:31:38.517693] /workspace/.conda-bld/work/python/_skbuild/linux-x86_64-3.8/cmake-build/cuml/common/logger.cxx:3188 Expected column ('F') major order, but got the opposite. Converting data, this will result in additional memory utilization.\n",
      "[D] [17:32:01.015816] /workspace/.conda-bld/work/python/_skbuild/linux-x86_64-3.8/cmake-build/cuml/common/logger.cxx:3188 Expected column ('F') major order, but got the opposite. Converting data, this will result in additional memory utilization.\n",
      "[D] [17:32:23.396957] /workspace/.conda-bld/work/python/_skbuild/linux-x86_64-3.8/cmake-build/cuml/common/logger.cxx:3188 Expected column ('F') major order, but got the opposite. Converting data, this will result in additional memory utilization.\n"
     ]
    },
    {
     "name": "stderr",
     "output_type": "stream",
     "text": [
      "\u001b[32m[I 2022-12-11 17:32:44,856]\u001b[0m Trial 70 finished with value: 0.9998031273580642 and parameters: {'split_criterion': 1, 'max_depth': 21, 'min_samples_leaf': 1, 'min_samples_split': 6, 'n_bins': 112, 'n_estimators': 800}. Best is trial 67 with value: 0.999805620930306.\u001b[0m\n"
     ]
    },
    {
     "name": "stdout",
     "output_type": "stream",
     "text": [
      "train auc score = 0.9999702630867612\n",
      "test auc score = 0.9998031273580642\n",
      "[D] [17:32:45.735444] /workspace/.conda-bld/work/python/_skbuild/linux-x86_64-3.8/cmake-build/cuml/common/logger.cxx:3188 Expected column ('F') major order, but got the opposite. Converting data, this will result in additional memory utilization.\n",
      "[D] [17:33:08.161183] /workspace/.conda-bld/work/python/_skbuild/linux-x86_64-3.8/cmake-build/cuml/common/logger.cxx:3188 Expected column ('F') major order, but got the opposite. Converting data, this will result in additional memory utilization.\n",
      "[D] [17:33:30.463259] /workspace/.conda-bld/work/python/_skbuild/linux-x86_64-3.8/cmake-build/cuml/common/logger.cxx:3188 Expected column ('F') major order, but got the opposite. Converting data, this will result in additional memory utilization.\n",
      "[D] [17:33:52.879521] /workspace/.conda-bld/work/python/_skbuild/linux-x86_64-3.8/cmake-build/cuml/common/logger.cxx:3188 Expected column ('F') major order, but got the opposite. Converting data, this will result in additional memory utilization.\n",
      "[D] [17:34:15.215180] /workspace/.conda-bld/work/python/_skbuild/linux-x86_64-3.8/cmake-build/cuml/common/logger.cxx:3188 Expected column ('F') major order, but got the opposite. Converting data, this will result in additional memory utilization.\n"
     ]
    },
    {
     "name": "stderr",
     "output_type": "stream",
     "text": [
      "\u001b[32m[I 2022-12-11 17:34:36,559]\u001b[0m Trial 71 finished with value: 0.9998022983267617 and parameters: {'split_criterion': 1, 'max_depth': 21, 'min_samples_leaf': 2, 'min_samples_split': 6, 'n_bins': 112, 'n_estimators': 800}. Best is trial 67 with value: 0.999805620930306.\u001b[0m\n"
     ]
    },
    {
     "name": "stdout",
     "output_type": "stream",
     "text": [
      "train auc score = 0.9999643183441306\n",
      "test auc score = 0.9998022983267617\n",
      "[D] [17:34:37.460344] /workspace/.conda-bld/work/python/_skbuild/linux-x86_64-3.8/cmake-build/cuml/common/logger.cxx:3188 Expected column ('F') major order, but got the opposite. Converting data, this will result in additional memory utilization.\n",
      "[D] [17:34:57.197627] /workspace/.conda-bld/work/python/_skbuild/linux-x86_64-3.8/cmake-build/cuml/common/logger.cxx:3188 Expected column ('F') major order, but got the opposite. Converting data, this will result in additional memory utilization.\n",
      "[D] [17:35:16.580095] /workspace/.conda-bld/work/python/_skbuild/linux-x86_64-3.8/cmake-build/cuml/common/logger.cxx:3188 Expected column ('F') major order, but got the opposite. Converting data, this will result in additional memory utilization.\n",
      "[D] [17:35:36.084616] /workspace/.conda-bld/work/python/_skbuild/linux-x86_64-3.8/cmake-build/cuml/common/logger.cxx:3188 Expected column ('F') major order, but got the opposite. Converting data, this will result in additional memory utilization.\n",
      "[D] [17:35:55.320063] /workspace/.conda-bld/work/python/_skbuild/linux-x86_64-3.8/cmake-build/cuml/common/logger.cxx:3188 Expected column ('F') major order, but got the opposite. Converting data, this will result in additional memory utilization.\n"
     ]
    },
    {
     "name": "stderr",
     "output_type": "stream",
     "text": [
      "\u001b[32m[I 2022-12-11 17:36:13,831]\u001b[0m Trial 72 finished with value: 0.9997909026957353 and parameters: {'split_criterion': 1, 'max_depth': 20, 'min_samples_leaf': 1, 'min_samples_split': 7, 'n_bins': 88, 'n_estimators': 700}. Best is trial 67 with value: 0.999805620930306.\u001b[0m\n"
     ]
    },
    {
     "name": "stdout",
     "output_type": "stream",
     "text": [
      "train auc score = 0.9999590433624841\n",
      "test auc score = 0.9997909026957353\n",
      "[D] [17:36:14.718556] /workspace/.conda-bld/work/python/_skbuild/linux-x86_64-3.8/cmake-build/cuml/common/logger.cxx:3188 Expected column ('F') major order, but got the opposite. Converting data, this will result in additional memory utilization.\n",
      "[D] [17:36:36.815915] /workspace/.conda-bld/work/python/_skbuild/linux-x86_64-3.8/cmake-build/cuml/common/logger.cxx:3188 Expected column ('F') major order, but got the opposite. Converting data, this will result in additional memory utilization.\n",
      "[D] [17:36:58.787768] /workspace/.conda-bld/work/python/_skbuild/linux-x86_64-3.8/cmake-build/cuml/common/logger.cxx:3188 Expected column ('F') major order, but got the opposite. Converting data, this will result in additional memory utilization.\n",
      "[D] [17:37:20.772250] /workspace/.conda-bld/work/python/_skbuild/linux-x86_64-3.8/cmake-build/cuml/common/logger.cxx:3188 Expected column ('F') major order, but got the opposite. Converting data, this will result in additional memory utilization.\n",
      "[D] [17:37:42.796904] /workspace/.conda-bld/work/python/_skbuild/linux-x86_64-3.8/cmake-build/cuml/common/logger.cxx:3188 Expected column ('F') major order, but got the opposite. Converting data, this will result in additional memory utilization.\n"
     ]
    },
    {
     "name": "stderr",
     "output_type": "stream",
     "text": [
      "\u001b[32m[I 2022-12-11 17:38:03,821]\u001b[0m Trial 73 finished with value: 0.9997954550829166 and parameters: {'split_criterion': 1, 'max_depth': 20, 'min_samples_leaf': 1, 'min_samples_split': 6, 'n_bins': 104, 'n_estimators': 800}. Best is trial 67 with value: 0.999805620930306.\u001b[0m\n"
     ]
    },
    {
     "name": "stdout",
     "output_type": "stream",
     "text": [
      "train auc score = 0.9999631886337813\n",
      "test auc score = 0.9997954550829166\n",
      "[D] [17:38:04.689679] /workspace/.conda-bld/work/python/_skbuild/linux-x86_64-3.8/cmake-build/cuml/common/logger.cxx:3188 Expected column ('F') major order, but got the opposite. Converting data, this will result in additional memory utilization.\n",
      "[D] [17:38:24.022102] /workspace/.conda-bld/work/python/_skbuild/linux-x86_64-3.8/cmake-build/cuml/common/logger.cxx:3188 Expected column ('F') major order, but got the opposite. Converting data, this will result in additional memory utilization.\n",
      "[D] [17:38:43.152369] /workspace/.conda-bld/work/python/_skbuild/linux-x86_64-3.8/cmake-build/cuml/common/logger.cxx:3188 Expected column ('F') major order, but got the opposite. Converting data, this will result in additional memory utilization.\n",
      "[D] [17:39:02.415656] /workspace/.conda-bld/work/python/_skbuild/linux-x86_64-3.8/cmake-build/cuml/common/logger.cxx:3188 Expected column ('F') major order, but got the opposite. Converting data, this will result in additional memory utilization.\n",
      "[D] [17:39:21.570923] /workspace/.conda-bld/work/python/_skbuild/linux-x86_64-3.8/cmake-build/cuml/common/logger.cxx:3188 Expected column ('F') major order, but got the opposite. Converting data, this will result in additional memory utilization.\n"
     ]
    },
    {
     "name": "stderr",
     "output_type": "stream",
     "text": [
      "\u001b[32m[I 2022-12-11 17:39:40,178]\u001b[0m Trial 74 finished with value: 0.9997777872271495 and parameters: {'split_criterion': 1, 'max_depth': 22, 'min_samples_leaf': 6, 'min_samples_split': 8, 'n_bins': 80, 'n_estimators': 700}. Best is trial 67 with value: 0.999805620930306.\u001b[0m\n"
     ]
    },
    {
     "name": "stdout",
     "output_type": "stream",
     "text": [
      "train auc score = 0.9999330850057213\n",
      "test auc score = 0.9997777872271495\n",
      "[D] [17:39:41.069238] /workspace/.conda-bld/work/python/_skbuild/linux-x86_64-3.8/cmake-build/cuml/common/logger.cxx:3188 Expected column ('F') major order, but got the opposite. Converting data, this will result in additional memory utilization.\n",
      "[D] [17:40:03.137119] /workspace/.conda-bld/work/python/_skbuild/linux-x86_64-3.8/cmake-build/cuml/common/logger.cxx:3188 Expected column ('F') major order, but got the opposite. Converting data, this will result in additional memory utilization.\n",
      "[D] [17:40:25.293238] /workspace/.conda-bld/work/python/_skbuild/linux-x86_64-3.8/cmake-build/cuml/common/logger.cxx:3188 Expected column ('F') major order, but got the opposite. Converting data, this will result in additional memory utilization.\n",
      "[D] [17:40:47.483459] /workspace/.conda-bld/work/python/_skbuild/linux-x86_64-3.8/cmake-build/cuml/common/logger.cxx:3188 Expected column ('F') major order, but got the opposite. Converting data, this will result in additional memory utilization.\n",
      "[D] [17:41:09.336436] /workspace/.conda-bld/work/python/_skbuild/linux-x86_64-3.8/cmake-build/cuml/common/logger.cxx:3188 Expected column ('F') major order, but got the opposite. Converting data, this will result in additional memory utilization.\n"
     ]
    },
    {
     "name": "stderr",
     "output_type": "stream",
     "text": [
      "\u001b[32m[I 2022-12-11 17:41:30,505]\u001b[0m Trial 75 finished with value: 0.9997742982664674 and parameters: {'split_criterion': 1, 'max_depth': 21, 'min_samples_leaf': 10, 'min_samples_split': 5, 'n_bins': 112, 'n_estimators': 800}. Best is trial 67 with value: 0.999805620930306.\u001b[0m\n"
     ]
    },
    {
     "name": "stdout",
     "output_type": "stream",
     "text": [
      "train auc score = 0.9999121086672813\n",
      "test auc score = 0.9997742982664674\n",
      "[D] [17:41:31.408968] /workspace/.conda-bld/work/python/_skbuild/linux-x86_64-3.8/cmake-build/cuml/common/logger.cxx:3188 Expected column ('F') major order, but got the opposite. Converting data, this will result in additional memory utilization.\n",
      "[D] [17:41:53.711585] /workspace/.conda-bld/work/python/_skbuild/linux-x86_64-3.8/cmake-build/cuml/common/logger.cxx:3188 Expected column ('F') major order, but got the opposite. Converting data, this will result in additional memory utilization.\n",
      "[D] [17:42:16.091989] /workspace/.conda-bld/work/python/_skbuild/linux-x86_64-3.8/cmake-build/cuml/common/logger.cxx:3188 Expected column ('F') major order, but got the opposite. Converting data, this will result in additional memory utilization.\n",
      "[D] [17:42:38.379936] /workspace/.conda-bld/work/python/_skbuild/linux-x86_64-3.8/cmake-build/cuml/common/logger.cxx:3188 Expected column ('F') major order, but got the opposite. Converting data, this will result in additional memory utilization.\n",
      "[D] [17:43:00.599308] /workspace/.conda-bld/work/python/_skbuild/linux-x86_64-3.8/cmake-build/cuml/common/logger.cxx:3188 Expected column ('F') major order, but got the opposite. Converting data, this will result in additional memory utilization.\n"
     ]
    },
    {
     "name": "stderr",
     "output_type": "stream",
     "text": [
      "\u001b[32m[I 2022-12-11 17:43:21,901]\u001b[0m Trial 76 finished with value: 0.9997920017255012 and parameters: {'split_criterion': 1, 'max_depth': 19, 'min_samples_leaf': 2, 'min_samples_split': 7, 'n_bins': 144, 'n_estimators': 800}. Best is trial 67 with value: 0.999805620930306.\u001b[0m\n"
     ]
    },
    {
     "name": "stdout",
     "output_type": "stream",
     "text": [
      "train auc score = 0.9999503096853803\n",
      "test auc score = 0.9997920017255012\n",
      "[D] [17:43:22.790063] /workspace/.conda-bld/work/python/_skbuild/linux-x86_64-3.8/cmake-build/cuml/common/logger.cxx:3188 Expected column ('F') major order, but got the opposite. Converting data, this will result in additional memory utilization.\n",
      "[D] [17:43:42.460617] /workspace/.conda-bld/work/python/_skbuild/linux-x86_64-3.8/cmake-build/cuml/common/logger.cxx:3188 Expected column ('F') major order, but got the opposite. Converting data, this will result in additional memory utilization.\n",
      "[D] [17:44:02.243980] /workspace/.conda-bld/work/python/_skbuild/linux-x86_64-3.8/cmake-build/cuml/common/logger.cxx:3188 Expected column ('F') major order, but got the opposite. Converting data, this will result in additional memory utilization.\n",
      "[D] [17:44:21.948713] /workspace/.conda-bld/work/python/_skbuild/linux-x86_64-3.8/cmake-build/cuml/common/logger.cxx:3188 Expected column ('F') major order, but got the opposite. Converting data, this will result in additional memory utilization.\n",
      "[D] [17:44:41.367847] /workspace/.conda-bld/work/python/_skbuild/linux-x86_64-3.8/cmake-build/cuml/common/logger.cxx:3188 Expected column ('F') major order, but got the opposite. Converting data, this will result in additional memory utilization.\n"
     ]
    },
    {
     "name": "stderr",
     "output_type": "stream",
     "text": [
      "\u001b[32m[I 2022-12-11 17:45:00,111]\u001b[0m Trial 77 finished with value: 0.9997866856953459 and parameters: {'split_criterion': 1, 'max_depth': 21, 'min_samples_leaf': 6, 'min_samples_split': 8, 'n_bins': 120, 'n_estimators': 700}. Best is trial 67 with value: 0.999805620930306.\u001b[0m\n"
     ]
    },
    {
     "name": "stdout",
     "output_type": "stream",
     "text": [
      "train auc score = 0.9999349999851812\n",
      "test auc score = 0.9997866856953459\n",
      "[D] [17:45:01.012906] /workspace/.conda-bld/work/python/_skbuild/linux-x86_64-3.8/cmake-build/cuml/common/logger.cxx:3188 Expected column ('F') major order, but got the opposite. Converting data, this will result in additional memory utilization.\n",
      "[D] [17:45:18.727640] /workspace/.conda-bld/work/python/_skbuild/linux-x86_64-3.8/cmake-build/cuml/common/logger.cxx:3188 Expected column ('F') major order, but got the opposite. Converting data, this will result in additional memory utilization.\n",
      "[D] [17:45:36.489451] /workspace/.conda-bld/work/python/_skbuild/linux-x86_64-3.8/cmake-build/cuml/common/logger.cxx:3188 Expected column ('F') major order, but got the opposite. Converting data, this will result in additional memory utilization.\n",
      "[D] [17:45:54.322908] /workspace/.conda-bld/work/python/_skbuild/linux-x86_64-3.8/cmake-build/cuml/common/logger.cxx:3188 Expected column ('F') major order, but got the opposite. Converting data, this will result in additional memory utilization.\n",
      "[D] [17:46:11.852943] /workspace/.conda-bld/work/python/_skbuild/linux-x86_64-3.8/cmake-build/cuml/common/logger.cxx:3188 Expected column ('F') major order, but got the opposite. Converting data, this will result in additional memory utilization.\n"
     ]
    },
    {
     "name": "stderr",
     "output_type": "stream",
     "text": [
      "\u001b[32m[I 2022-12-11 17:46:28,647]\u001b[0m Trial 78 finished with value: 0.999222164151394 and parameters: {'split_criterion': 1, 'max_depth': 8, 'min_samples_leaf': 31, 'min_samples_split': 5, 'n_bins': 96, 'n_estimators': 800}. Best is trial 67 with value: 0.999805620930306.\u001b[0m\n"
     ]
    },
    {
     "name": "stdout",
     "output_type": "stream",
     "text": [
      "train auc score = 0.9992613074448604\n",
      "test auc score = 0.999222164151394\n",
      "[D] [17:46:29.559759] /workspace/.conda-bld/work/python/_skbuild/linux-x86_64-3.8/cmake-build/cuml/common/logger.cxx:3188 Expected column ('F') major order, but got the opposite. Converting data, this will result in additional memory utilization.\n",
      "[D] [17:46:51.561237] /workspace/.conda-bld/work/python/_skbuild/linux-x86_64-3.8/cmake-build/cuml/common/logger.cxx:3188 Expected column ('F') major order, but got the opposite. Converting data, this will result in additional memory utilization.\n",
      "[D] [17:47:13.612930] /workspace/.conda-bld/work/python/_skbuild/linux-x86_64-3.8/cmake-build/cuml/common/logger.cxx:3188 Expected column ('F') major order, but got the opposite. Converting data, this will result in additional memory utilization.\n",
      "[D] [17:47:35.551259] /workspace/.conda-bld/work/python/_skbuild/linux-x86_64-3.8/cmake-build/cuml/common/logger.cxx:3188 Expected column ('F') major order, but got the opposite. Converting data, this will result in additional memory utilization.\n",
      "[D] [17:47:57.439698] /workspace/.conda-bld/work/python/_skbuild/linux-x86_64-3.8/cmake-build/cuml/common/logger.cxx:3188 Expected column ('F') major order, but got the opposite. Converting data, this will result in additional memory utilization.\n"
     ]
    },
    {
     "name": "stderr",
     "output_type": "stream",
     "text": [
      "\u001b[32m[I 2022-12-11 17:48:18,698]\u001b[0m Trial 79 finished with value: 0.9997923231289508 and parameters: {'split_criterion': 1, 'max_depth': 22, 'min_samples_leaf': 2, 'min_samples_split': 3, 'n_bins': 72, 'n_estimators': 800}. Best is trial 67 with value: 0.999805620930306.\u001b[0m\n"
     ]
    },
    {
     "name": "stdout",
     "output_type": "stream",
     "text": [
      "train auc score = 0.9999654883944522\n",
      "test auc score = 0.9997923231289508\n",
      "[D] [17:48:19.571726] /workspace/.conda-bld/work/python/_skbuild/linux-x86_64-3.8/cmake-build/cuml/common/logger.cxx:3188 Expected column ('F') major order, but got the opposite. Converting data, this will result in additional memory utilization.\n",
      "[D] [17:48:39.342480] /workspace/.conda-bld/work/python/_skbuild/linux-x86_64-3.8/cmake-build/cuml/common/logger.cxx:3188 Expected column ('F') major order, but got the opposite. Converting data, this will result in additional memory utilization.\n",
      "[D] [17:48:59.057921] /workspace/.conda-bld/work/python/_skbuild/linux-x86_64-3.8/cmake-build/cuml/common/logger.cxx:3188 Expected column ('F') major order, but got the opposite. Converting data, this will result in additional memory utilization.\n",
      "[D] [17:49:18.676878] /workspace/.conda-bld/work/python/_skbuild/linux-x86_64-3.8/cmake-build/cuml/common/logger.cxx:3188 Expected column ('F') major order, but got the opposite. Converting data, this will result in additional memory utilization.\n",
      "[D] [17:49:38.488500] /workspace/.conda-bld/work/python/_skbuild/linux-x86_64-3.8/cmake-build/cuml/common/logger.cxx:3188 Expected column ('F') major order, but got the opposite. Converting data, this will result in additional memory utilization.\n"
     ]
    },
    {
     "name": "stderr",
     "output_type": "stream",
     "text": [
      "\u001b[32m[I 2022-12-11 17:49:57,104]\u001b[0m Trial 80 finished with value: 0.9997110828691543 and parameters: {'split_criterion': 1, 'max_depth': 22, 'min_samples_leaf': 41, 'min_samples_split': 8, 'n_bins': 152, 'n_estimators': 700}. Best is trial 67 with value: 0.999805620930306.\u001b[0m\n"
     ]
    },
    {
     "name": "stdout",
     "output_type": "stream",
     "text": [
      "train auc score = 0.999819135619774\n",
      "test auc score = 0.9997110828691543\n",
      "[D] [17:49:58.029124] /workspace/.conda-bld/work/python/_skbuild/linux-x86_64-3.8/cmake-build/cuml/common/logger.cxx:3188 Expected column ('F') major order, but got the opposite. Converting data, this will result in additional memory utilization.\n",
      "[D] [17:50:20.493837] /workspace/.conda-bld/work/python/_skbuild/linux-x86_64-3.8/cmake-build/cuml/common/logger.cxx:3188 Expected column ('F') major order, but got the opposite. Converting data, this will result in additional memory utilization.\n",
      "[D] [17:50:42.932223] /workspace/.conda-bld/work/python/_skbuild/linux-x86_64-3.8/cmake-build/cuml/common/logger.cxx:3188 Expected column ('F') major order, but got the opposite. Converting data, this will result in additional memory utilization.\n",
      "[D] [17:51:05.436998] /workspace/.conda-bld/work/python/_skbuild/linux-x86_64-3.8/cmake-build/cuml/common/logger.cxx:3188 Expected column ('F') major order, but got the opposite. Converting data, this will result in additional memory utilization.\n",
      "[D] [17:51:27.684749] /workspace/.conda-bld/work/python/_skbuild/linux-x86_64-3.8/cmake-build/cuml/common/logger.cxx:3188 Expected column ('F') major order, but got the opposite. Converting data, this will result in additional memory utilization.\n"
     ]
    },
    {
     "name": "stderr",
     "output_type": "stream",
     "text": [
      "\u001b[32m[I 2022-12-11 17:51:48,994]\u001b[0m Trial 81 finished with value: 0.9998008275678767 and parameters: {'split_criterion': 1, 'max_depth': 20, 'min_samples_leaf': 1, 'min_samples_split': 6, 'n_bins': 112, 'n_estimators': 800}. Best is trial 67 with value: 0.999805620930306.\u001b[0m\n"
     ]
    },
    {
     "name": "stdout",
     "output_type": "stream",
     "text": [
      "train auc score = 0.9999639493069383\n",
      "test auc score = 0.9998008275678767\n",
      "[D] [17:51:49.888795] /workspace/.conda-bld/work/python/_skbuild/linux-x86_64-3.8/cmake-build/cuml/common/logger.cxx:3188 Expected column ('F') major order, but got the opposite. Converting data, this will result in additional memory utilization.\n",
      "[D] [17:52:14.484839] /workspace/.conda-bld/work/python/_skbuild/linux-x86_64-3.8/cmake-build/cuml/common/logger.cxx:3188 Expected column ('F') major order, but got the opposite. Converting data, this will result in additional memory utilization.\n",
      "[D] [17:52:39.281630] /workspace/.conda-bld/work/python/_skbuild/linux-x86_64-3.8/cmake-build/cuml/common/logger.cxx:3188 Expected column ('F') major order, but got the opposite. Converting data, this will result in additional memory utilization.\n",
      "[D] [17:53:04.067481] /workspace/.conda-bld/work/python/_skbuild/linux-x86_64-3.8/cmake-build/cuml/common/logger.cxx:3188 Expected column ('F') major order, but got the opposite. Converting data, this will result in additional memory utilization.\n",
      "[D] [17:53:28.731844] /workspace/.conda-bld/work/python/_skbuild/linux-x86_64-3.8/cmake-build/cuml/common/logger.cxx:3188 Expected column ('F') major order, but got the opposite. Converting data, this will result in additional memory utilization.\n"
     ]
    },
    {
     "name": "stderr",
     "output_type": "stream",
     "text": [
      "\u001b[32m[I 2022-12-11 17:53:52,666]\u001b[0m Trial 82 finished with value: 0.9997994480993055 and parameters: {'split_criterion': 1, 'max_depth': 21, 'min_samples_leaf': 3, 'min_samples_split': 5, 'n_bins': 120, 'n_estimators': 900}. Best is trial 67 with value: 0.999805620930306.\u001b[0m\n"
     ]
    },
    {
     "name": "stdout",
     "output_type": "stream",
     "text": [
      "train auc score = 0.9999575173594442\n",
      "test auc score = 0.9997994480993055\n",
      "[D] [17:53:53.569542] /workspace/.conda-bld/work/python/_skbuild/linux-x86_64-3.8/cmake-build/cuml/common/logger.cxx:3188 Expected column ('F') major order, but got the opposite. Converting data, this will result in additional memory utilization.\n",
      "[D] [17:54:15.270955] /workspace/.conda-bld/work/python/_skbuild/linux-x86_64-3.8/cmake-build/cuml/common/logger.cxx:3188 Expected column ('F') major order, but got the opposite. Converting data, this will result in additional memory utilization.\n",
      "[D] [17:54:37.074152] /workspace/.conda-bld/work/python/_skbuild/linux-x86_64-3.8/cmake-build/cuml/common/logger.cxx:3188 Expected column ('F') major order, but got the opposite. Converting data, this will result in additional memory utilization.\n",
      "[D] [17:54:58.938627] /workspace/.conda-bld/work/python/_skbuild/linux-x86_64-3.8/cmake-build/cuml/common/logger.cxx:3188 Expected column ('F') major order, but got the opposite. Converting data, this will result in additional memory utilization.\n",
      "[D] [17:55:20.847837] /workspace/.conda-bld/work/python/_skbuild/linux-x86_64-3.8/cmake-build/cuml/common/logger.cxx:3188 Expected column ('F') major order, but got the opposite. Converting data, this will result in additional memory utilization.\n"
     ]
    },
    {
     "name": "stderr",
     "output_type": "stream",
     "text": [
      "\u001b[32m[I 2022-12-11 17:55:41,861]\u001b[0m Trial 83 finished with value: 0.9997764097525336 and parameters: {'split_criterion': 1, 'max_depth': 21, 'min_samples_leaf': 7, 'min_samples_split': 6, 'n_bins': 96, 'n_estimators': 800}. Best is trial 67 with value: 0.999805620930306.\u001b[0m\n"
     ]
    },
    {
     "name": "stdout",
     "output_type": "stream",
     "text": [
      "train auc score = 0.999925654616795\n",
      "test auc score = 0.9997764097525336\n",
      "[D] [17:55:42.747302] /workspace/.conda-bld/work/python/_skbuild/linux-x86_64-3.8/cmake-build/cuml/common/logger.cxx:3188 Expected column ('F') major order, but got the opposite. Converting data, this will result in additional memory utilization.\n",
      "[D] [17:56:07.171414] /workspace/.conda-bld/work/python/_skbuild/linux-x86_64-3.8/cmake-build/cuml/common/logger.cxx:3188 Expected column ('F') major order, but got the opposite. Converting data, this will result in additional memory utilization.\n",
      "[D] [17:56:31.798347] /workspace/.conda-bld/work/python/_skbuild/linux-x86_64-3.8/cmake-build/cuml/common/logger.cxx:3188 Expected column ('F') major order, but got the opposite. Converting data, this will result in additional memory utilization.\n",
      "[D] [17:56:56.317812] /workspace/.conda-bld/work/python/_skbuild/linux-x86_64-3.8/cmake-build/cuml/common/logger.cxx:3188 Expected column ('F') major order, but got the opposite. Converting data, this will result in additional memory utilization.\n",
      "[D] [17:57:20.747268] /workspace/.conda-bld/work/python/_skbuild/linux-x86_64-3.8/cmake-build/cuml/common/logger.cxx:3188 Expected column ('F') major order, but got the opposite. Converting data, this will result in additional memory utilization.\n"
     ]
    },
    {
     "name": "stderr",
     "output_type": "stream",
     "text": [
      "\u001b[32m[I 2022-12-11 17:57:44,593]\u001b[0m Trial 84 finished with value: 0.9997905010007223 and parameters: {'split_criterion': 1, 'max_depth': 19, 'min_samples_leaf': 3, 'min_samples_split': 7, 'n_bins': 120, 'n_estimators': 900}. Best is trial 67 with value: 0.999805620930306.\u001b[0m\n"
     ]
    },
    {
     "name": "stdout",
     "output_type": "stream",
     "text": [
      "train auc score = 0.9999424095251884\n",
      "test auc score = 0.9997905010007223\n",
      "[D] [17:57:45.488967] /workspace/.conda-bld/work/python/_skbuild/linux-x86_64-3.8/cmake-build/cuml/common/logger.cxx:3188 Expected column ('F') major order, but got the opposite. Converting data, this will result in additional memory utilization.\n",
      "[D] [17:58:05.364740] /workspace/.conda-bld/work/python/_skbuild/linux-x86_64-3.8/cmake-build/cuml/common/logger.cxx:3188 Expected column ('F') major order, but got the opposite. Converting data, this will result in additional memory utilization.\n",
      "[D] [17:58:25.443064] /workspace/.conda-bld/work/python/_skbuild/linux-x86_64-3.8/cmake-build/cuml/common/logger.cxx:3188 Expected column ('F') major order, but got the opposite. Converting data, this will result in additional memory utilization.\n",
      "[D] [17:58:45.382162] /workspace/.conda-bld/work/python/_skbuild/linux-x86_64-3.8/cmake-build/cuml/common/logger.cxx:3188 Expected column ('F') major order, but got the opposite. Converting data, this will result in additional memory utilization.\n",
      "[D] [17:59:05.180500] /workspace/.conda-bld/work/python/_skbuild/linux-x86_64-3.8/cmake-build/cuml/common/logger.cxx:3188 Expected column ('F') major order, but got the opposite. Converting data, this will result in additional memory utilization.\n"
     ]
    },
    {
     "name": "stderr",
     "output_type": "stream",
     "text": [
      "\u001b[32m[I 2022-12-11 17:59:24,171]\u001b[0m Trial 85 finished with value: 0.9997969426632084 and parameters: {'split_criterion': 1, 'max_depth': 20, 'min_samples_leaf': 2, 'min_samples_split': 3, 'n_bins': 104, 'n_estimators': 700}. Best is trial 67 with value: 0.999805620930306.\u001b[0m\n"
     ]
    },
    {
     "name": "stdout",
     "output_type": "stream",
     "text": [
      "train auc score = 0.9999583463769867\n",
      "test auc score = 0.9997969426632084\n",
      "[D] [17:59:25.099707] /workspace/.conda-bld/work/python/_skbuild/linux-x86_64-3.8/cmake-build/cuml/common/logger.cxx:3188 Expected column ('F') major order, but got the opposite. Converting data, this will result in additional memory utilization.\n",
      "[D] [17:59:47.453012] /workspace/.conda-bld/work/python/_skbuild/linux-x86_64-3.8/cmake-build/cuml/common/logger.cxx:3188 Expected column ('F') major order, but got the opposite. Converting data, this will result in additional memory utilization.\n",
      "[D] [18:00:09.862788] /workspace/.conda-bld/work/python/_skbuild/linux-x86_64-3.8/cmake-build/cuml/common/logger.cxx:3188 Expected column ('F') major order, but got the opposite. Converting data, this will result in additional memory utilization.\n",
      "[D] [18:00:32.255689] /workspace/.conda-bld/work/python/_skbuild/linux-x86_64-3.8/cmake-build/cuml/common/logger.cxx:3188 Expected column ('F') major order, but got the opposite. Converting data, this will result in additional memory utilization.\n",
      "[D] [18:00:54.494803] /workspace/.conda-bld/work/python/_skbuild/linux-x86_64-3.8/cmake-build/cuml/common/logger.cxx:3188 Expected column ('F') major order, but got the opposite. Converting data, this will result in additional memory utilization.\n"
     ]
    },
    {
     "name": "stderr",
     "output_type": "stream",
     "text": [
      "\u001b[32m[I 2022-12-11 18:01:15,707]\u001b[0m Trial 86 finished with value: 0.9997786079242698 and parameters: {'split_criterion': 1, 'max_depth': 22, 'min_samples_leaf': 9, 'min_samples_split': 5, 'n_bins': 152, 'n_estimators': 800}. Best is trial 67 with value: 0.999805620930306.\u001b[0m\n"
     ]
    },
    {
     "name": "stdout",
     "output_type": "stream",
     "text": [
      "train auc score = 0.9999232342511286\n",
      "test auc score = 0.9997786079242698\n",
      "[D] [18:01:16.595386] /workspace/.conda-bld/work/python/_skbuild/linux-x86_64-3.8/cmake-build/cuml/common/logger.cxx:3188 Expected column ('F') major order, but got the opposite. Converting data, this will result in additional memory utilization.\n",
      "[D] [18:01:40.413504] /workspace/.conda-bld/work/python/_skbuild/linux-x86_64-3.8/cmake-build/cuml/common/logger.cxx:3188 Expected column ('F') major order, but got the opposite. Converting data, this will result in additional memory utilization.\n",
      "[D] [18:02:03.979765] /workspace/.conda-bld/work/python/_skbuild/linux-x86_64-3.8/cmake-build/cuml/common/logger.cxx:3188 Expected column ('F') major order, but got the opposite. Converting data, this will result in additional memory utilization.\n",
      "[D] [18:02:27.989339] /workspace/.conda-bld/work/python/_skbuild/linux-x86_64-3.8/cmake-build/cuml/common/logger.cxx:3188 Expected column ('F') major order, but got the opposite. Converting data, this will result in additional memory utilization.\n",
      "[D] [18:02:51.807500] /workspace/.conda-bld/work/python/_skbuild/linux-x86_64-3.8/cmake-build/cuml/common/logger.cxx:3188 Expected column ('F') major order, but got the opposite. Converting data, this will result in additional memory utilization.\n"
     ]
    },
    {
     "name": "stderr",
     "output_type": "stream",
     "text": [
      "\u001b[32m[I 2022-12-11 18:03:14,606]\u001b[0m Trial 87 finished with value: 0.9996794460445286 and parameters: {'split_criterion': 1, 'max_depth': 21, 'min_samples_leaf': 60, 'min_samples_split': 9, 'n_bins': 104, 'n_estimators': 900}. Best is trial 67 with value: 0.999805620930306.\u001b[0m\n"
     ]
    },
    {
     "name": "stdout",
     "output_type": "stream",
     "text": [
      "train auc score = 0.9997747328085567\n",
      "test auc score = 0.9996794460445286\n",
      "[D] [18:03:15.496477] /workspace/.conda-bld/work/python/_skbuild/linux-x86_64-3.8/cmake-build/cuml/common/logger.cxx:3188 Expected column ('F') major order, but got the opposite. Converting data, this will result in additional memory utilization.\n",
      "[D] [18:03:34.631612] /workspace/.conda-bld/work/python/_skbuild/linux-x86_64-3.8/cmake-build/cuml/common/logger.cxx:3188 Expected column ('F') major order, but got the opposite. Converting data, this will result in additional memory utilization.\n",
      "[D] [18:03:53.568315] /workspace/.conda-bld/work/python/_skbuild/linux-x86_64-3.8/cmake-build/cuml/common/logger.cxx:3188 Expected column ('F') major order, but got the opposite. Converting data, this will result in additional memory utilization.\n",
      "[D] [18:04:12.864532] /workspace/.conda-bld/work/python/_skbuild/linux-x86_64-3.8/cmake-build/cuml/common/logger.cxx:3188 Expected column ('F') major order, but got the opposite. Converting data, this will result in additional memory utilization.\n",
      "[D] [18:04:31.764557] /workspace/.conda-bld/work/python/_skbuild/linux-x86_64-3.8/cmake-build/cuml/common/logger.cxx:3188 Expected column ('F') major order, but got the opposite. Converting data, this will result in additional memory utilization.\n"
     ]
    },
    {
     "name": "stderr",
     "output_type": "stream",
     "text": [
      "\u001b[32m[I 2022-12-11 18:04:50,192]\u001b[0m Trial 88 finished with value: 0.999777572466425 and parameters: {'split_criterion': 1, 'max_depth': 23, 'min_samples_leaf': 5, 'min_samples_split': 7, 'n_bins': 48, 'n_estimators': 700}. Best is trial 67 with value: 0.999805620930306.\u001b[0m\n"
     ]
    },
    {
     "name": "stdout",
     "output_type": "stream",
     "text": [
      "train auc score = 0.9999366309690499\n",
      "test auc score = 0.999777572466425\n",
      "[D] [18:04:51.064472] /workspace/.conda-bld/work/python/_skbuild/linux-x86_64-3.8/cmake-build/cuml/common/logger.cxx:3188 Expected column ('F') major order, but got the opposite. Converting data, this will result in additional memory utilization.\n",
      "[D] [18:05:13.195877] /workspace/.conda-bld/work/python/_skbuild/linux-x86_64-3.8/cmake-build/cuml/common/logger.cxx:3188 Expected column ('F') major order, but got the opposite. Converting data, this will result in additional memory utilization.\n",
      "[D] [18:05:35.459685] /workspace/.conda-bld/work/python/_skbuild/linux-x86_64-3.8/cmake-build/cuml/common/logger.cxx:3188 Expected column ('F') major order, but got the opposite. Converting data, this will result in additional memory utilization.\n",
      "[D] [18:05:57.713701] /workspace/.conda-bld/work/python/_skbuild/linux-x86_64-3.8/cmake-build/cuml/common/logger.cxx:3188 Expected column ('F') major order, but got the opposite. Converting data, this will result in additional memory utilization.\n",
      "[D] [18:06:19.831039] /workspace/.conda-bld/work/python/_skbuild/linux-x86_64-3.8/cmake-build/cuml/common/logger.cxx:3188 Expected column ('F') major order, but got the opposite. Converting data, this will result in additional memory utilization.\n"
     ]
    },
    {
     "name": "stderr",
     "output_type": "stream",
     "text": [
      "\u001b[32m[I 2022-12-11 18:06:41,244]\u001b[0m Trial 89 finished with value: 0.9997852552849682 and parameters: {'split_criterion': 1, 'max_depth': 23, 'min_samples_leaf': 7, 'min_samples_split': 2, 'n_bins': 112, 'n_estimators': 800}. Best is trial 67 with value: 0.999805620930306.\u001b[0m\n"
     ]
    },
    {
     "name": "stdout",
     "output_type": "stream",
     "text": [
      "train auc score = 0.9999364068923274\n",
      "test auc score = 0.9997852552849682\n",
      "[D] [18:06:42.149480] /workspace/.conda-bld/work/python/_skbuild/linux-x86_64-3.8/cmake-build/cuml/common/logger.cxx:3188 Expected column ('F') major order, but got the opposite. Converting data, this will result in additional memory utilization.\n",
      "[D] [18:07:11.374797] /workspace/.conda-bld/work/python/_skbuild/linux-x86_64-3.8/cmake-build/cuml/common/logger.cxx:3188 Expected column ('F') major order, but got the opposite. Converting data, this will result in additional memory utilization.\n",
      "[D] [18:07:40.837594] /workspace/.conda-bld/work/python/_skbuild/linux-x86_64-3.8/cmake-build/cuml/common/logger.cxx:3188 Expected column ('F') major order, but got the opposite. Converting data, this will result in additional memory utilization.\n",
      "[D] [18:08:09.959247] /workspace/.conda-bld/work/python/_skbuild/linux-x86_64-3.8/cmake-build/cuml/common/logger.cxx:3188 Expected column ('F') major order, but got the opposite. Converting data, this will result in additional memory utilization.\n",
      "[D] [18:08:38.866152] /workspace/.conda-bld/work/python/_skbuild/linux-x86_64-3.8/cmake-build/cuml/common/logger.cxx:3188 Expected column ('F') major order, but got the opposite. Converting data, this will result in additional memory utilization.\n"
     ]
    },
    {
     "name": "stderr",
     "output_type": "stream",
     "text": [
      "\u001b[32m[I 2022-12-11 18:09:06,928]\u001b[0m Trial 90 finished with value: 0.99977081165703 and parameters: {'split_criterion': 0, 'max_depth': 22, 'min_samples_leaf': 2, 'min_samples_split': 6, 'n_bins': 144, 'n_estimators': 900}. Best is trial 67 with value: 0.999805620930306.\u001b[0m\n"
     ]
    },
    {
     "name": "stdout",
     "output_type": "stream",
     "text": [
      "train auc score = 0.9999628664742426\n",
      "test auc score = 0.99977081165703\n",
      "[D] [18:09:07.846040] /workspace/.conda-bld/work/python/_skbuild/linux-x86_64-3.8/cmake-build/cuml/common/logger.cxx:3188 Expected column ('F') major order, but got the opposite. Converting data, this will result in additional memory utilization.\n",
      "[D] [18:09:30.258825] /workspace/.conda-bld/work/python/_skbuild/linux-x86_64-3.8/cmake-build/cuml/common/logger.cxx:3188 Expected column ('F') major order, but got the opposite. Converting data, this will result in additional memory utilization.\n",
      "[D] [18:09:52.626938] /workspace/.conda-bld/work/python/_skbuild/linux-x86_64-3.8/cmake-build/cuml/common/logger.cxx:3188 Expected column ('F') major order, but got the opposite. Converting data, this will result in additional memory utilization.\n",
      "[D] [18:10:14.962628] /workspace/.conda-bld/work/python/_skbuild/linux-x86_64-3.8/cmake-build/cuml/common/logger.cxx:3188 Expected column ('F') major order, but got the opposite. Converting data, this will result in additional memory utilization.\n",
      "[D] [18:10:37.091619] /workspace/.conda-bld/work/python/_skbuild/linux-x86_64-3.8/cmake-build/cuml/common/logger.cxx:3188 Expected column ('F') major order, but got the opposite. Converting data, this will result in additional memory utilization.\n"
     ]
    },
    {
     "name": "stderr",
     "output_type": "stream",
     "text": [
      "\u001b[32m[I 2022-12-11 18:10:58,311]\u001b[0m Trial 91 finished with value: 0.9998023783086258 and parameters: {'split_criterion': 1, 'max_depth': 20, 'min_samples_leaf': 1, 'min_samples_split': 6, 'n_bins': 120, 'n_estimators': 800}. Best is trial 67 with value: 0.999805620930306.\u001b[0m\n"
     ]
    },
    {
     "name": "stdout",
     "output_type": "stream",
     "text": [
      "train auc score = 0.9999646007370426\n",
      "test auc score = 0.9998023783086258\n",
      "[D] [18:10:59.222433] /workspace/.conda-bld/work/python/_skbuild/linux-x86_64-3.8/cmake-build/cuml/common/logger.cxx:3188 Expected column ('F') major order, but got the opposite. Converting data, this will result in additional memory utilization.\n",
      "[D] [18:11:21.208740] /workspace/.conda-bld/work/python/_skbuild/linux-x86_64-3.8/cmake-build/cuml/common/logger.cxx:3188 Expected column ('F') major order, but got the opposite. Converting data, this will result in additional memory utilization.\n",
      "[D] [18:11:43.236446] /workspace/.conda-bld/work/python/_skbuild/linux-x86_64-3.8/cmake-build/cuml/common/logger.cxx:3188 Expected column ('F') major order, but got the opposite. Converting data, this will result in additional memory utilization.\n",
      "[D] [18:12:05.290093] /workspace/.conda-bld/work/python/_skbuild/linux-x86_64-3.8/cmake-build/cuml/common/logger.cxx:3188 Expected column ('F') major order, but got the opposite. Converting data, this will result in additional memory utilization.\n",
      "[D] [18:12:27.212983] /workspace/.conda-bld/work/python/_skbuild/linux-x86_64-3.8/cmake-build/cuml/common/logger.cxx:3188 Expected column ('F') major order, but got the opposite. Converting data, this will result in additional memory utilization.\n"
     ]
    },
    {
     "name": "stderr",
     "output_type": "stream",
     "text": [
      "\u001b[32m[I 2022-12-11 18:12:48,221]\u001b[0m Trial 92 finished with value: 0.999790837651329 and parameters: {'split_criterion': 1, 'max_depth': 20, 'min_samples_leaf': 1, 'min_samples_split': 8, 'n_bins': 88, 'n_estimators': 800}. Best is trial 67 with value: 0.999805620930306.\u001b[0m\n"
     ]
    },
    {
     "name": "stdout",
     "output_type": "stream",
     "text": [
      "train auc score = 0.999957673012182\n",
      "test auc score = 0.999790837651329\n",
      "[D] [18:12:49.116636] /workspace/.conda-bld/work/python/_skbuild/linux-x86_64-3.8/cmake-build/cuml/common/logger.cxx:3188 Expected column ('F') major order, but got the opposite. Converting data, this will result in additional memory utilization.\n",
      "[D] [18:13:08.691392] /workspace/.conda-bld/work/python/_skbuild/linux-x86_64-3.8/cmake-build/cuml/common/logger.cxx:3188 Expected column ('F') major order, but got the opposite. Converting data, this will result in additional memory utilization.\n",
      "[D] [18:13:28.267641] /workspace/.conda-bld/work/python/_skbuild/linux-x86_64-3.8/cmake-build/cuml/common/logger.cxx:3188 Expected column ('F') major order, but got the opposite. Converting data, this will result in additional memory utilization.\n",
      "[D] [18:13:47.852087] /workspace/.conda-bld/work/python/_skbuild/linux-x86_64-3.8/cmake-build/cuml/common/logger.cxx:3188 Expected column ('F') major order, but got the opposite. Converting data, this will result in additional memory utilization.\n",
      "[D] [18:14:07.354829] /workspace/.conda-bld/work/python/_skbuild/linux-x86_64-3.8/cmake-build/cuml/common/logger.cxx:3188 Expected column ('F') major order, but got the opposite. Converting data, this will result in additional memory utilization.\n"
     ]
    },
    {
     "name": "stderr",
     "output_type": "stream",
     "text": [
      "\u001b[32m[I 2022-12-11 18:14:26,124]\u001b[0m Trial 93 finished with value: 0.9997829050078334 and parameters: {'split_criterion': 1, 'max_depth': 19, 'min_samples_leaf': 5, 'min_samples_split': 6, 'n_bins': 120, 'n_estimators': 700}. Best is trial 67 with value: 0.999805620930306.\u001b[0m\n"
     ]
    },
    {
     "name": "stdout",
     "output_type": "stream",
     "text": [
      "train auc score = 0.9999275851479235\n",
      "test auc score = 0.9997829050078334\n",
      "[D] [18:14:27.014968] /workspace/.conda-bld/work/python/_skbuild/linux-x86_64-3.8/cmake-build/cuml/common/logger.cxx:3188 Expected column ('F') major order, but got the opposite. Converting data, this will result in additional memory utilization.\n",
      "[D] [18:14:49.585715] /workspace/.conda-bld/work/python/_skbuild/linux-x86_64-3.8/cmake-build/cuml/common/logger.cxx:3188 Expected column ('F') major order, but got the opposite. Converting data, this will result in additional memory utilization.\n",
      "[D] [18:15:11.718812] /workspace/.conda-bld/work/python/_skbuild/linux-x86_64-3.8/cmake-build/cuml/common/logger.cxx:3188 Expected column ('F') major order, but got the opposite. Converting data, this will result in additional memory utilization.\n",
      "[D] [18:15:34.290497] /workspace/.conda-bld/work/python/_skbuild/linux-x86_64-3.8/cmake-build/cuml/common/logger.cxx:3188 Expected column ('F') major order, but got the opposite. Converting data, this will result in additional memory utilization.\n",
      "[D] [18:15:56.502188] /workspace/.conda-bld/work/python/_skbuild/linux-x86_64-3.8/cmake-build/cuml/common/logger.cxx:3188 Expected column ('F') major order, but got the opposite. Converting data, this will result in additional memory utilization.\n"
     ]
    },
    {
     "name": "stderr",
     "output_type": "stream",
     "text": [
      "\u001b[32m[I 2022-12-11 18:16:17,797]\u001b[0m Trial 94 finished with value: 0.9997969919850436 and parameters: {'split_criterion': 1, 'max_depth': 21, 'min_samples_leaf': 3, 'min_samples_split': 5, 'n_bins': 128, 'n_estimators': 800}. Best is trial 67 with value: 0.999805620930306.\u001b[0m\n"
     ]
    },
    {
     "name": "stdout",
     "output_type": "stream",
     "text": [
      "train auc score = 0.9999575148285258\n",
      "test auc score = 0.9997969919850436\n",
      "[D] [18:16:18.715308] /workspace/.conda-bld/work/python/_skbuild/linux-x86_64-3.8/cmake-build/cuml/common/logger.cxx:3188 Expected column ('F') major order, but got the opposite. Converting data, this will result in additional memory utilization.\n",
      "[D] [18:16:36.160861] /workspace/.conda-bld/work/python/_skbuild/linux-x86_64-3.8/cmake-build/cuml/common/logger.cxx:3188 Expected column ('F') major order, but got the opposite. Converting data, this will result in additional memory utilization.\n",
      "[D] [18:16:53.826644] /workspace/.conda-bld/work/python/_skbuild/linux-x86_64-3.8/cmake-build/cuml/common/logger.cxx:3188 Expected column ('F') major order, but got the opposite. Converting data, this will result in additional memory utilization.\n",
      "[D] [18:17:11.300769] /workspace/.conda-bld/work/python/_skbuild/linux-x86_64-3.8/cmake-build/cuml/common/logger.cxx:3188 Expected column ('F') major order, but got the opposite. Converting data, this will result in additional memory utilization.\n",
      "[D] [18:17:28.575451] /workspace/.conda-bld/work/python/_skbuild/linux-x86_64-3.8/cmake-build/cuml/common/logger.cxx:3188 Expected column ('F') major order, but got the opposite. Converting data, this will result in additional memory utilization.\n"
     ]
    },
    {
     "name": "stderr",
     "output_type": "stream",
     "text": [
      "\u001b[32m[I 2022-12-11 18:17:44,907]\u001b[0m Trial 95 finished with value: 0.9997823826367895 and parameters: {'split_criterion': 1, 'max_depth': 23, 'min_samples_leaf': 7, 'min_samples_split': 9, 'n_bins': 144, 'n_estimators': 600}. Best is trial 67 with value: 0.999805620930306.\u001b[0m\n"
     ]
    },
    {
     "name": "stdout",
     "output_type": "stream",
     "text": [
      "train auc score = 0.9999378898763531\n",
      "test auc score = 0.9997823826367895\n",
      "[D] [18:17:45.821171] /workspace/.conda-bld/work/python/_skbuild/linux-x86_64-3.8/cmake-build/cuml/common/logger.cxx:3188 Expected column ('F') major order, but got the opposite. Converting data, this will result in additional memory utilization.\n",
      "[D] [18:18:07.894199] /workspace/.conda-bld/work/python/_skbuild/linux-x86_64-3.8/cmake-build/cuml/common/logger.cxx:3188 Expected column ('F') major order, but got the opposite. Converting data, this will result in additional memory utilization.\n",
      "[D] [18:18:29.868589] /workspace/.conda-bld/work/python/_skbuild/linux-x86_64-3.8/cmake-build/cuml/common/logger.cxx:3188 Expected column ('F') major order, but got the opposite. Converting data, this will result in additional memory utilization.\n",
      "[D] [18:18:51.863641] /workspace/.conda-bld/work/python/_skbuild/linux-x86_64-3.8/cmake-build/cuml/common/logger.cxx:3188 Expected column ('F') major order, but got the opposite. Converting data, this will result in additional memory utilization.\n",
      "[D] [18:19:13.808948] /workspace/.conda-bld/work/python/_skbuild/linux-x86_64-3.8/cmake-build/cuml/common/logger.cxx:3188 Expected column ('F') major order, but got the opposite. Converting data, this will result in additional memory utilization.\n"
     ]
    },
    {
     "name": "stderr",
     "output_type": "stream",
     "text": [
      "\u001b[32m[I 2022-12-11 18:19:34,741]\u001b[0m Trial 96 finished with value: 0.9997846146634084 and parameters: {'split_criterion': 1, 'max_depth': 22, 'min_samples_leaf': 5, 'min_samples_split': 3, 'n_bins': 104, 'n_estimators': 800}. Best is trial 67 with value: 0.999805620930306.\u001b[0m\n"
     ]
    },
    {
     "name": "stdout",
     "output_type": "stream",
     "text": [
      "train auc score = 0.9999445927939504\n",
      "test auc score = 0.9997846146634084\n",
      "[D] [18:19:35.627755] /workspace/.conda-bld/work/python/_skbuild/linux-x86_64-3.8/cmake-build/cuml/common/logger.cxx:3188 Expected column ('F') major order, but got the opposite. Converting data, this will result in additional memory utilization.\n",
      "[D] [18:20:00.823639] /workspace/.conda-bld/work/python/_skbuild/linux-x86_64-3.8/cmake-build/cuml/common/logger.cxx:3188 Expected column ('F') major order, but got the opposite. Converting data, this will result in additional memory utilization.\n",
      "[D] [18:20:26.229314] /workspace/.conda-bld/work/python/_skbuild/linux-x86_64-3.8/cmake-build/cuml/common/logger.cxx:3188 Expected column ('F') major order, but got the opposite. Converting data, this will result in additional memory utilization.\n",
      "[D] [18:20:51.575559] /workspace/.conda-bld/work/python/_skbuild/linux-x86_64-3.8/cmake-build/cuml/common/logger.cxx:3188 Expected column ('F') major order, but got the opposite. Converting data, this will result in additional memory utilization.\n",
      "[D] [18:21:16.745439] /workspace/.conda-bld/work/python/_skbuild/linux-x86_64-3.8/cmake-build/cuml/common/logger.cxx:3188 Expected column ('F') major order, but got the opposite. Converting data, this will result in additional memory utilization.\n"
     ]
    },
    {
     "name": "stderr",
     "output_type": "stream",
     "text": [
      "\u001b[32m[I 2022-12-11 18:21:41,277]\u001b[0m Trial 97 finished with value: 0.999809404747675 and parameters: {'split_criterion': 1, 'max_depth': 24, 'min_samples_leaf': 1, 'min_samples_split': 7, 'n_bins': 160, 'n_estimators': 900}. Best is trial 97 with value: 0.999809404747675.\u001b[0m\n"
     ]
    },
    {
     "name": "stdout",
     "output_type": "stream",
     "text": [
      "train auc score = 0.9999806463920713\n",
      "test auc score = 0.999809404747675\n",
      "[D] [18:21:42.185950] /workspace/.conda-bld/work/python/_skbuild/linux-x86_64-3.8/cmake-build/cuml/common/logger.cxx:3188 Expected column ('F') major order, but got the opposite. Converting data, this will result in additional memory utilization.\n",
      "[D] [18:22:06.864919] /workspace/.conda-bld/work/python/_skbuild/linux-x86_64-3.8/cmake-build/cuml/common/logger.cxx:3188 Expected column ('F') major order, but got the opposite. Converting data, this will result in additional memory utilization.\n",
      "[D] [18:22:31.474640] /workspace/.conda-bld/work/python/_skbuild/linux-x86_64-3.8/cmake-build/cuml/common/logger.cxx:3188 Expected column ('F') major order, but got the opposite. Converting data, this will result in additional memory utilization.\n",
      "[D] [18:22:55.994824] /workspace/.conda-bld/work/python/_skbuild/linux-x86_64-3.8/cmake-build/cuml/common/logger.cxx:3188 Expected column ('F') major order, but got the opposite. Converting data, this will result in additional memory utilization.\n",
      "[D] [18:23:20.543905] /workspace/.conda-bld/work/python/_skbuild/linux-x86_64-3.8/cmake-build/cuml/common/logger.cxx:3188 Expected column ('F') major order, but got the opposite. Converting data, this will result in additional memory utilization.\n"
     ]
    },
    {
     "name": "stderr",
     "output_type": "stream",
     "text": [
      "\u001b[32m[I 2022-12-11 18:23:43,993]\u001b[0m Trial 98 finished with value: 0.9996972205230049 and parameters: {'split_criterion': 1, 'max_depth': 24, 'min_samples_leaf': 50, 'min_samples_split': 7, 'n_bins': 168, 'n_estimators': 900}. Best is trial 97 with value: 0.999809404747675.\u001b[0m\n"
     ]
    },
    {
     "name": "stdout",
     "output_type": "stream",
     "text": [
      "train auc score = 0.9998022746804616\n",
      "test auc score = 0.9996972205230049\n",
      "[D] [18:23:44.899024] /workspace/.conda-bld/work/python/_skbuild/linux-x86_64-3.8/cmake-build/cuml/common/logger.cxx:3188 Expected column ('F') major order, but got the opposite. Converting data, this will result in additional memory utilization.\n",
      "[D] [18:24:12.822027] /workspace/.conda-bld/work/python/_skbuild/linux-x86_64-3.8/cmake-build/cuml/common/logger.cxx:3188 Expected column ('F') major order, but got the opposite. Converting data, this will result in additional memory utilization.\n",
      "[D] [18:24:40.799285] /workspace/.conda-bld/work/python/_skbuild/linux-x86_64-3.8/cmake-build/cuml/common/logger.cxx:3188 Expected column ('F') major order, but got the opposite. Converting data, this will result in additional memory utilization.\n",
      "[D] [18:25:08.821715] /workspace/.conda-bld/work/python/_skbuild/linux-x86_64-3.8/cmake-build/cuml/common/logger.cxx:3188 Expected column ('F') major order, but got the opposite. Converting data, this will result in additional memory utilization.\n",
      "[D] [18:25:36.613670] /workspace/.conda-bld/work/python/_skbuild/linux-x86_64-3.8/cmake-build/cuml/common/logger.cxx:3188 Expected column ('F') major order, but got the opposite. Converting data, this will result in additional memory utilization.\n"
     ]
    },
    {
     "name": "stderr",
     "output_type": "stream",
     "text": [
      "\u001b[32m[I 2022-12-11 18:26:03,460]\u001b[0m Trial 99 finished with value: 0.9998090635063652 and parameters: {'split_criterion': 1, 'max_depth': 24, 'min_samples_leaf': 1, 'min_samples_split': 10, 'n_bins': 160, 'n_estimators': 1000}. Best is trial 97 with value: 0.999809404747675.\u001b[0m\n"
     ]
    },
    {
     "name": "stdout",
     "output_type": "stream",
     "text": [
      "train auc score = 0.9999775077285349\n",
      "test auc score = 0.9998090635063652\n",
      "Number of finished trials: 100\n",
      "Best trial: {'split_criterion': 1, 'max_depth': 24, 'min_samples_leaf': 1, 'min_samples_split': 7, 'n_bins': 160, 'n_estimators': 900}\n"
     ]
    }
   ],
   "source": [
    "date_log = datetime.now().strftime(\"%Y_%m_%d_%H_%M\")\n",
    "study = optuna.create_study(direction=\"maximize\", study_name=f\"parameter_tuning_{config.country}_{date_log}\")\n",
    "func = lambda trial: objective(trial, df_pairs)\n",
    "study.optimize(func, n_trials=100)\n",
    "print('Number of finished trials:', len(study.trials))\n",
    "print('Best trial:', study.best_trial.params)\n"
   ]
  },
  {
   "cell_type": "code",
   "execution_count": 8,
   "metadata": {},
   "outputs": [],
   "source": [
    "study.trials_dataframe().to_csv(\"/workspace/randomforest_trials1.csv\",index=None)"
   ]
  }
 ],
 "metadata": {
  "kernelspec": {
   "display_name": "rapids",
   "language": "python",
   "name": "python3"
  },
  "language_info": {
   "codemirror_mode": {
    "name": "ipython",
    "version": 3
   },
   "file_extension": ".py",
   "mimetype": "text/x-python",
   "name": "python",
   "nbconvert_exporter": "python",
   "pygments_lexer": "ipython3",
   "version": "3.8.13"
  },
  "orig_nbformat": 4,
  "vscode": {
   "interpreter": {
    "hash": "f708a36acfaef0acf74ccd43dfb58100269bf08fb79032a1e0a6f35bd9856f51"
   }
  }
 },
 "nbformat": 4,
 "nbformat_minor": 2
}
