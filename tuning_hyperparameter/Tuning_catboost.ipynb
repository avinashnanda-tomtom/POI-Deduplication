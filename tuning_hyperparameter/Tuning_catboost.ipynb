{
 "cells": [
  {
   "cell_type": "code",
   "execution_count": 2,
   "metadata": {},
   "outputs": [],
   "source": [
    "import pandas as pd\n",
    "import numpy as np\n",
    "from xgboost import XGBClassifier, callback\n",
    "import mlflow\n",
    "from utils.metrics import Metrics_df,print_metrics, precision, recall, f1\n"
   ]
  },
  {
   "cell_type": "code",
   "execution_count": 3,
   "metadata": {},
   "outputs": [],
   "source": [
    "\n",
    "\n",
    "import pandas as pd\n",
    "from sklearn.metrics import roc_auc_score\n",
    "from Config import config\n",
    "import warnings\n",
    "warnings.filterwarnings(\"ignore\")\n",
    "import optuna  # pip install optuna\n",
    "from sklearn.model_selection import StratifiedKFold\n",
    "from sklearn.model_selection import GroupKFold\n",
    "import numpy as np\n",
    "from sklearn.model_selection import train_test_split\n",
    "from datetime import datetime\n",
    "import gc\n",
    "import pickle\n",
    "import tempfile"
   ]
  },
  {
   "cell_type": "code",
   "execution_count": 4,
   "metadata": {},
   "outputs": [],
   "source": [
    "from lightgbm.basic import LightGBMError\n",
    "from lightgbm import LGBMClassifier, early_stopping, log_evaluation, Booster\n",
    "from sklearn.metrics import roc_auc_score\n",
    "import os\n",
    "from catboost import CatBoostClassifier\n"
   ]
  },
  {
   "cell_type": "markdown",
   "metadata": {},
   "source": [
    "# Loading data and group split"
   ]
  },
  {
   "cell_type": "code",
   "execution_count": null,
   "metadata": {},
   "outputs": [],
   "source": [
    "# df_pairs = pd.read_csv(\"/workspace/Training_data/training/Full_training_data.csv\")\n",
    "# df_pairs = df_pairs.sample(frac=1).reset_index(drop=True)\n",
    "# kf = GroupKFold(n_splits=5)\n",
    "# for i, (trn_idx, val_idx) in enumerate(kf.split(df_pairs, df_pairs[\"placeId1\"], df_pairs[\"placeId1\"])):\n",
    "#     df_pairs.loc[val_idx, \"fold\"] = i\n",
    "# df_pairs[\"fold\"].value_counts()\n",
    "# df_pairs.to_csv(\"/workspace/Training_data/training/Full_training_data_fold.csv\",index=None)"
   ]
  },
  {
   "cell_type": "markdown",
   "metadata": {},
   "source": [
    "# Loading data"
   ]
  },
  {
   "cell_type": "code",
   "execution_count": 5,
   "metadata": {},
   "outputs": [],
   "source": [
    "df_pairs = pd.read_csv(\"/workspace/Training_data/training/Full_training_data_fold_v4_without_categories.csv\")"
   ]
  },
  {
   "cell_type": "code",
   "execution_count": 6,
   "metadata": {},
   "outputs": [],
   "source": [
    "features = ['similarity', 'haversine', 'name_davies',\n",
    "       'name_leven', 'name_dice', 'name_jaro', 'name_set_ratio',\n",
    "       'street_davies', 'street_leven', 'street_jaro', 'email_davies',\n",
    "       'email_leven', 'email_jaro', 'url_davies', 'url_leven', 'url_jaro',\n",
    "       'brands_davies', 'brand_leven', 'brand_jaro', 'phone_lcs',\n",
    "       'subcat_WRatio', 'subcat_ratio', 'subcat_token_set_ratio',\n",
    "       'Is_direction_match_0', 'Is_direction_match_1', 'Is_direction_match_2',\n",
    "       'Is_house_match_0', 'Is_house_match_1', 'Is_house_match_2',\n",
    "       'Is_category_match_0', 'Is_category_match_1', 'Is_subcategory_match_0',\n",
    "       'Is_subcategory_match_1', 'Is_subcategory_match_2', 'Is_brand_match_0',\n",
    "       'Is_brand_match_1', 'Is_brand_match_2', 'Is_brand_match_3',\n",
    "       'Is_related_cat_0', 'Is_related_cat_1', 'Is_name_number_match_0',\n",
    "       'Is_name_number_match_1', 'Is_name_number_match_2',\n",
    "       'Is_name_number_match_3', 'is_phone_match_1', 'is_phone_match_2',\n",
    "       'is_phone_match_3', 'is_phone_match_4', 'Is_email_match_0',\n",
    "       'Is_email_match_1', 'Is_email_match_2', 'Is_url_match_0',\n",
    "       'Is_url_match_1', 'Is_url_match_2']"
   ]
  },
  {
   "cell_type": "code",
   "execution_count": 7,
   "metadata": {},
   "outputs": [],
   "source": [
    "def objective(trial, df_pairs):\n",
    "    catboost_params = dict(\n",
    "        depth=trial.suggest_int(\"depth\", 5, 15),\n",
    "        border_count=trial.suggest_int(\"border_count\", 16, 256),\n",
    "        min_data_in_leaf=trial.suggest_int(\"min_data_in_leaf\", 100, 10000),\n",
    "        l2_leaf_reg=trial.suggest_float(\"l2_leaf_reg\", 1e-3, 1, log=True)\n",
    "    )\n",
    "    \n",
    "    cv_scores = np.empty(5)\n",
    "    cv_scores_train = np.empty(5)\n",
    "    for fold in [0, 1, 2, 3, 4]:\n",
    "        X_train = df_pairs[df_pairs[\"fold\"] != fold]\n",
    "        X_test = df_pairs[df_pairs[\"fold\"] == fold]\n",
    "\n",
    "        model = CatBoostClassifier(\n",
    "            **catboost_params,\n",
    "            learning_rate=0.1,\n",
    "            n_estimators=10000,\n",
    "            objective=\"Logloss\",\n",
    "            eval_metric=\"AUC\",\n",
    "            gpu_ram_part=0.90,\n",
    "            task_type=\"GPU\",\n",
    "            use_best_model = True\n",
    "        )\n",
    "        \n",
    "        model.fit(X_train[features],\n",
    "                  X_train[\"duplicate_flag\"],verbose=100,\n",
    "                  eval_set=[(X_test[features], X_test[\"duplicate_flag\"])],\n",
    "                  early_stopping_rounds=40)\n",
    "\n",
    "        preds = model.predict_proba(X_test[features])[:, 1]\n",
    "        preds_train = model.predict_proba(X_train[features])[:, 1]\n",
    "        cv_scores[fold] = roc_auc_score(X_test[\"duplicate_flag\"], preds)\n",
    "        cv_scores_train[fold] = roc_auc_score(X_train[\"duplicate_flag\"],\n",
    "                                              preds_train)\n",
    "    print(f\"train auc score = {np.mean(cv_scores_train)}\")\n",
    "    print(f\"test auc score = {np.mean(cv_scores)}\")\n",
    "    mlflow.log_metric('train_auc', np.mean(cv_scores_train))\n",
    "    mlflow.log_metric('test_auc', np.mean(cv_scores))\n",
    "    return np.mean(cv_scores)"
   ]
  },
  {
   "cell_type": "code",
   "execution_count": 8,
   "metadata": {},
   "outputs": [
    {
     "name": "stderr",
     "output_type": "stream",
     "text": [
      "\u001b[32m[I 2023-01-13 12:20:12,841]\u001b[0m A new study created in memory with name: parameter_tuning_NZL_2023_01_13_12_20\u001b[0m\n",
      "Default metric period is 5 because AUC is/are not implemented for GPU\n"
     ]
    },
    {
     "name": "stdout",
     "output_type": "stream",
     "text": [
      "0:\ttest: 0.9964053\tbest: 0.9964053 (0)\ttotal: 135ms\tremaining: 22m 25s\n",
      "100:\ttest: 0.9998855\tbest: 0.9998855 (100)\ttotal: 12.4s\tremaining: 20m 13s\n",
      "200:\ttest: 0.9999117\tbest: 0.9999117 (200)\ttotal: 24.2s\tremaining: 19m 41s\n",
      "bestTest = 0.9999126196\n",
      "bestIteration = 218\n",
      "Shrink model to first 219 iterations.\n"
     ]
    },
    {
     "name": "stderr",
     "output_type": "stream",
     "text": [
      "Default metric period is 5 because AUC is/are not implemented for GPU\n"
     ]
    },
    {
     "name": "stdout",
     "output_type": "stream",
     "text": [
      "0:\ttest: 0.9968840\tbest: 0.9968840 (0)\ttotal: 120ms\tremaining: 19m 57s\n",
      "100:\ttest: 0.9999019\tbest: 0.9999019 (100)\ttotal: 12.2s\tremaining: 19m 52s\n",
      "200:\ttest: 0.9999133\tbest: 0.9999137 (195)\ttotal: 23.9s\tremaining: 19m 23s\n",
      "300:\ttest: 0.9999220\tbest: 0.9999223 (293)\ttotal: 36.1s\tremaining: 19m 23s\n",
      "400:\ttest: 0.9999254\tbest: 0.9999254 (400)\ttotal: 48.6s\tremaining: 19m 22s\n",
      "500:\ttest: 0.9999298\tbest: 0.9999300 (491)\ttotal: 1m\tremaining: 19m 14s\n",
      "bestTest = 0.9999315739\n",
      "bestIteration = 526\n",
      "Shrink model to first 527 iterations.\n"
     ]
    },
    {
     "name": "stderr",
     "output_type": "stream",
     "text": [
      "Default metric period is 5 because AUC is/are not implemented for GPU\n"
     ]
    },
    {
     "name": "stdout",
     "output_type": "stream",
     "text": [
      "0:\ttest: 0.9965744\tbest: 0.9965744 (0)\ttotal: 47.6ms\tremaining: 7m 55s\n",
      "100:\ttest: 0.9998993\tbest: 0.9998993 (100)\ttotal: 4.9s\tremaining: 8m\n",
      "200:\ttest: 0.9999105\tbest: 0.9999111 (197)\ttotal: 9.35s\tremaining: 7m 35s\n",
      "300:\ttest: 0.9999153\tbest: 0.9999171 (282)\ttotal: 13.8s\tremaining: 7m 24s\n",
      "bestTest = 0.9999170899\n",
      "bestIteration = 282\n",
      "Shrink model to first 283 iterations.\n"
     ]
    },
    {
     "name": "stderr",
     "output_type": "stream",
     "text": [
      "Default metric period is 5 because AUC is/are not implemented for GPU\n"
     ]
    },
    {
     "name": "stdout",
     "output_type": "stream",
     "text": [
      "0:\ttest: 0.9970331\tbest: 0.9970331 (0)\ttotal: 63ms\tremaining: 10m 30s\n",
      "100:\ttest: 0.9998999\tbest: 0.9999002 (99)\ttotal: 5.03s\tremaining: 8m 12s\n",
      "200:\ttest: 0.9999157\tbest: 0.9999157 (199)\ttotal: 9.7s\tremaining: 7m 53s\n",
      "300:\ttest: 0.9999192\tbest: 0.9999202 (284)\ttotal: 14.2s\tremaining: 7m 37s\n",
      "bestTest = 0.9999211431\n",
      "bestIteration = 339\n",
      "Shrink model to first 340 iterations.\n"
     ]
    },
    {
     "name": "stderr",
     "output_type": "stream",
     "text": [
      "Default metric period is 5 because AUC is/are not implemented for GPU\n"
     ]
    },
    {
     "name": "stdout",
     "output_type": "stream",
     "text": [
      "0:\ttest: 0.9969223\tbest: 0.9969223 (0)\ttotal: 56.7ms\tremaining: 9m 27s\n",
      "100:\ttest: 0.9999083\tbest: 0.9999087 (95)\ttotal: 4.64s\tremaining: 7m 34s\n",
      "200:\ttest: 0.9999222\tbest: 0.9999228 (192)\ttotal: 9.4s\tremaining: 7m 38s\n",
      "bestTest = 0.9999262691\n",
      "bestIteration = 253\n",
      "Shrink model to first 254 iterations.\n",
      "train auc score = 0.9999773484694872\n",
      "test auc score = 0.9999217180004427\n"
     ]
    },
    {
     "name": "stderr",
     "output_type": "stream",
     "text": [
      "\u001b[32m[I 2023-01-13 12:22:55,815]\u001b[0m Trial 0 finished with value: 0.9999217180004427 and parameters: {'depth': 7, 'border_count': 179, 'min_data_in_leaf': 8784, 'l2_leaf_reg': 0.04333502936000709}. Best is trial 0 with value: 0.9999217180004427.\u001b[0m\n",
      "Default metric period is 5 because AUC is/are not implemented for GPU\n"
     ]
    },
    {
     "name": "stdout",
     "output_type": "stream",
     "text": [
      "0:\ttest: 0.9994482\tbest: 0.9994482 (0)\ttotal: 910ms\tremaining: 2h 31m 35s\n",
      "100:\ttest: 0.9999196\tbest: 0.9999219 (69)\ttotal: 1m 9s\tremaining: 1h 52m 54s\n",
      "bestTest = 0.9999218583\n",
      "bestIteration = 69\n",
      "Shrink model to first 70 iterations.\n"
     ]
    },
    {
     "name": "stderr",
     "output_type": "stream",
     "text": [
      "Default metric period is 5 because AUC is/are not implemented for GPU\n"
     ]
    },
    {
     "name": "stdout",
     "output_type": "stream",
     "text": [
      "0:\ttest: 0.9993273\tbest: 0.9993273 (0)\ttotal: 831ms\tremaining: 2h 18m 29s\n",
      "100:\ttest: 0.9999348\tbest: 0.9999350 (92)\ttotal: 1m 9s\tremaining: 1h 52m 59s\n",
      "bestTest = 0.9999356866\n",
      "bestIteration = 109\n",
      "Shrink model to first 110 iterations.\n"
     ]
    },
    {
     "name": "stderr",
     "output_type": "stream",
     "text": [
      "Default metric period is 5 because AUC is/are not implemented for GPU\n"
     ]
    },
    {
     "name": "stdout",
     "output_type": "stream",
     "text": [
      "0:\ttest: 0.9993933\tbest: 0.9993933 (0)\ttotal: 685ms\tremaining: 1h 54m 5s\n",
      "100:\ttest: 0.9999284\tbest: 0.9999289 (96)\ttotal: 1m 9s\tremaining: 1h 52m 58s\n",
      "200:\ttest: 0.9999318\tbest: 0.9999329 (173)\ttotal: 2m 16s\tremaining: 1h 50m 55s\n",
      "bestTest = 0.9999328852\n",
      "bestIteration = 173\n",
      "Shrink model to first 174 iterations.\n"
     ]
    },
    {
     "name": "stderr",
     "output_type": "stream",
     "text": [
      "Default metric period is 5 because AUC is/are not implemented for GPU\n"
     ]
    },
    {
     "name": "stdout",
     "output_type": "stream",
     "text": [
      "0:\ttest: 0.9995066\tbest: 0.9995066 (0)\ttotal: 691ms\tremaining: 1h 55m 8s\n",
      "100:\ttest: 0.9999257\tbest: 0.9999267 (92)\ttotal: 1m 9s\tremaining: 1h 53m 9s\n",
      "bestTest = 0.9999266863\n",
      "bestIteration = 92\n",
      "Shrink model to first 93 iterations.\n"
     ]
    },
    {
     "name": "stderr",
     "output_type": "stream",
     "text": [
      "Default metric period is 5 because AUC is/are not implemented for GPU\n"
     ]
    },
    {
     "name": "stdout",
     "output_type": "stream",
     "text": [
      "0:\ttest: 0.9995147\tbest: 0.9995147 (0)\ttotal: 859ms\tremaining: 2h 23m 8s\n",
      "bestTest = 0.9999279976\n",
      "bestIteration = 46\n",
      "Shrink model to first 47 iterations.\n",
      "train auc score = 0.9999958327108962\n",
      "test auc score = 0.9999290108116113\n"
     ]
    },
    {
     "name": "stderr",
     "output_type": "stream",
     "text": [
      "\u001b[32m[I 2023-01-13 12:31:06,004]\u001b[0m Trial 1 finished with value: 0.9999290108116113 and parameters: {'depth': 15, 'border_count': 240, 'min_data_in_leaf': 4568, 'l2_leaf_reg': 0.06590203534815375}. Best is trial 1 with value: 0.9999290108116113.\u001b[0m\n",
      "Default metric period is 5 because AUC is/are not implemented for GPU\n"
     ]
    },
    {
     "name": "stdout",
     "output_type": "stream",
     "text": [
      "0:\ttest: 0.9993756\tbest: 0.9993756 (0)\ttotal: 359ms\tremaining: 59m 49s\n",
      "100:\ttest: 0.9999151\tbest: 0.9999168 (72)\ttotal: 35.7s\tremaining: 58m 18s\n",
      "200:\ttest: 0.9999204\tbest: 0.9999215 (169)\ttotal: 1m 10s\tremaining: 57m 27s\n",
      "bestTest = 0.9999215007\n",
      "bestIteration = 169\n",
      "Shrink model to first 170 iterations.\n"
     ]
    },
    {
     "name": "stderr",
     "output_type": "stream",
     "text": [
      "Default metric period is 5 because AUC is/are not implemented for GPU\n"
     ]
    },
    {
     "name": "stdout",
     "output_type": "stream",
     "text": [
      "0:\ttest: 0.9992711\tbest: 0.9992711 (0)\ttotal: 356ms\tremaining: 59m 16s\n",
      "100:\ttest: 0.9999288\tbest: 0.9999294 (96)\ttotal: 35.6s\tremaining: 58m 8s\n",
      "bestTest = 0.9999306202\n",
      "bestIteration = 152\n",
      "Shrink model to first 153 iterations.\n"
     ]
    },
    {
     "name": "stderr",
     "output_type": "stream",
     "text": [
      "Default metric period is 5 because AUC is/are not implemented for GPU\n"
     ]
    },
    {
     "name": "stdout",
     "output_type": "stream",
     "text": [
      "0:\ttest: 0.9993085\tbest: 0.9993085 (0)\ttotal: 358ms\tremaining: 59m 38s\n",
      "100:\ttest: 0.9999205\tbest: 0.9999205 (100)\ttotal: 35.5s\tremaining: 58m 4s\n",
      "bestTest = 0.9999210238\n",
      "bestIteration = 106\n",
      "Shrink model to first 107 iterations.\n"
     ]
    },
    {
     "name": "stderr",
     "output_type": "stream",
     "text": [
      "Default metric period is 5 because AUC is/are not implemented for GPU\n"
     ]
    },
    {
     "name": "stdout",
     "output_type": "stream",
     "text": [
      "0:\ttest: 0.9994732\tbest: 0.9994732 (0)\ttotal: 481ms\tremaining: 1h 20m 12s\n",
      "100:\ttest: 0.9999157\tbest: 0.9999176 (92)\ttotal: 35.9s\tremaining: 58m 42s\n",
      "200:\ttest: 0.9999207\tbest: 0.9999207 (199)\ttotal: 1m 11s\tremaining: 58m 20s\n",
      "bestTest = 0.9999228716\n",
      "bestIteration = 232\n",
      "Shrink model to first 233 iterations.\n"
     ]
    },
    {
     "name": "stderr",
     "output_type": "stream",
     "text": [
      "Default metric period is 5 because AUC is/are not implemented for GPU\n"
     ]
    },
    {
     "name": "stdout",
     "output_type": "stream",
     "text": [
      "0:\ttest: 0.9994681\tbest: 0.9994681 (0)\ttotal: 492ms\tremaining: 1h 22m 2s\n",
      "100:\ttest: 0.9999292\tbest: 0.9999303 (65)\ttotal: 36.7s\tremaining: 59m 56s\n",
      "bestTest = 0.9999302626\n",
      "bestIteration = 65\n",
      "Shrink model to first 66 iterations.\n",
      "train auc score = 0.9999977501807071\n",
      "test auc score = 0.9999252379188039\n"
     ]
    },
    {
     "name": "stderr",
     "output_type": "stream",
     "text": [
      "\u001b[32m[I 2023-01-13 12:36:52,114]\u001b[0m Trial 2 finished with value: 0.9999252379188039 and parameters: {'depth': 14, 'border_count': 159, 'min_data_in_leaf': 3222, 'l2_leaf_reg': 0.0759274621246024}. Best is trial 1 with value: 0.9999290108116113.\u001b[0m\n",
      "Default metric period is 5 because AUC is/are not implemented for GPU\n"
     ]
    },
    {
     "name": "stdout",
     "output_type": "stream",
     "text": [
      "0:\ttest: 0.9988366\tbest: 0.9988366 (0)\ttotal: 256ms\tremaining: 42m 41s\n",
      "100:\ttest: 0.9999065\tbest: 0.9999099 (75)\ttotal: 14.8s\tremaining: 24m 7s\n",
      "bestTest = 0.9999099374\n",
      "bestIteration = 75\n",
      "Shrink model to first 76 iterations.\n"
     ]
    },
    {
     "name": "stderr",
     "output_type": "stream",
     "text": [
      "Default metric period is 5 because AUC is/are not implemented for GPU\n"
     ]
    },
    {
     "name": "stdout",
     "output_type": "stream",
     "text": [
      "0:\ttest: 0.9987035\tbest: 0.9987035 (0)\ttotal: 143ms\tremaining: 23m 47s\n",
      "100:\ttest: 0.9999204\tbest: 0.9999205 (99)\ttotal: 14.7s\tremaining: 23m 57s\n",
      "200:\ttest: 0.9999248\tbest: 0.9999254 (160)\ttotal: 29s\tremaining: 23m 34s\n",
      "bestTest = 0.9999254346\n",
      "bestIteration = 160\n",
      "Shrink model to first 161 iterations.\n"
     ]
    },
    {
     "name": "stderr",
     "output_type": "stream",
     "text": [
      "Default metric period is 5 because AUC is/are not implemented for GPU\n"
     ]
    },
    {
     "name": "stdout",
     "output_type": "stream",
     "text": [
      "0:\ttest: 0.9987416\tbest: 0.9987416 (0)\ttotal: 270ms\tremaining: 44m 55s\n",
      "100:\ttest: 0.9999145\tbest: 0.9999145 (100)\ttotal: 14.7s\tremaining: 23m 59s\n",
      "bestTest = 0.9999172986\n",
      "bestIteration = 124\n",
      "Shrink model to first 125 iterations.\n"
     ]
    },
    {
     "name": "stderr",
     "output_type": "stream",
     "text": [
      "Default metric period is 5 because AUC is/are not implemented for GPU\n"
     ]
    },
    {
     "name": "stdout",
     "output_type": "stream",
     "text": [
      "0:\ttest: 0.9989760\tbest: 0.9989760 (0)\ttotal: 246ms\tremaining: 41m 1s\n",
      "100:\ttest: 0.9999149\tbest: 0.9999180 (92)\ttotal: 14.7s\tremaining: 24m 1s\n",
      "200:\ttest: 0.9999219\tbest: 0.9999223 (196)\ttotal: 29.1s\tremaining: 23m 37s\n",
      "bestTest = 0.9999223351\n",
      "bestIteration = 196\n",
      "Shrink model to first 197 iterations.\n"
     ]
    },
    {
     "name": "stderr",
     "output_type": "stream",
     "text": [
      "Default metric period is 5 because AUC is/are not implemented for GPU\n"
     ]
    },
    {
     "name": "stdout",
     "output_type": "stream",
     "text": [
      "0:\ttest: 0.9989963\tbest: 0.9989963 (0)\ttotal: 265ms\tremaining: 44m 11s\n",
      "100:\ttest: 0.9999161\tbest: 0.9999161 (100)\ttotal: 14.7s\tremaining: 24m 4s\n",
      "bestTest = 0.9999189377\n",
      "bestIteration = 152\n",
      "Shrink model to first 153 iterations.\n",
      "train auc score = 0.9999955930123864\n",
      "test auc score = 0.9999187652640446\n"
     ]
    },
    {
     "name": "stderr",
     "output_type": "stream",
     "text": [
      "\u001b[32m[I 2023-01-13 12:39:22,017]\u001b[0m Trial 3 finished with value: 0.9999187652640446 and parameters: {'depth': 12, 'border_count': 174, 'min_data_in_leaf': 1550, 'l2_leaf_reg': 0.0343397848730255}. Best is trial 1 with value: 0.9999290108116113.\u001b[0m\n",
      "Default metric period is 5 because AUC is/are not implemented for GPU\n"
     ]
    },
    {
     "name": "stdout",
     "output_type": "stream",
     "text": [
      "0:\ttest: 0.9993037\tbest: 0.9993037 (0)\ttotal: 234ms\tremaining: 38m 58s\n",
      "100:\ttest: 0.9999180\tbest: 0.9999186 (99)\ttotal: 23.4s\tremaining: 38m 12s\n",
      "200:\ttest: 0.9999210\tbest: 0.9999213 (184)\ttotal: 46.4s\tremaining: 37m 43s\n",
      "bestTest = 0.9999213219\n",
      "bestIteration = 184\n",
      "Shrink model to first 185 iterations.\n"
     ]
    },
    {
     "name": "stderr",
     "output_type": "stream",
     "text": [
      "Default metric period is 5 because AUC is/are not implemented for GPU\n"
     ]
    },
    {
     "name": "stdout",
     "output_type": "stream",
     "text": [
      "0:\ttest: 0.9992394\tbest: 0.9992394 (0)\ttotal: 241ms\tremaining: 40m 7s\n",
      "100:\ttest: 0.9999298\tbest: 0.9999298 (100)\ttotal: 23.5s\tremaining: 38m 24s\n",
      "bestTest = 0.9999343157\n",
      "bestIteration = 157\n",
      "Shrink model to first 158 iterations.\n"
     ]
    },
    {
     "name": "stderr",
     "output_type": "stream",
     "text": [
      "Default metric period is 5 because AUC is/are not implemented for GPU\n"
     ]
    },
    {
     "name": "stdout",
     "output_type": "stream",
     "text": [
      "0:\ttest: 0.9992775\tbest: 0.9992775 (0)\ttotal: 436ms\tremaining: 1h 12m 42s\n",
      "100:\ttest: 0.9999170\tbest: 0.9999180 (90)\ttotal: 23.7s\tremaining: 38m 46s\n",
      "bestTest = 0.9999203682\n",
      "bestIteration = 126\n",
      "Shrink model to first 127 iterations.\n"
     ]
    },
    {
     "name": "stderr",
     "output_type": "stream",
     "text": [
      "Default metric period is 5 because AUC is/are not implemented for GPU\n"
     ]
    },
    {
     "name": "stdout",
     "output_type": "stream",
     "text": [
      "0:\ttest: 0.9993946\tbest: 0.9993946 (0)\ttotal: 239ms\tremaining: 39m 54s\n",
      "100:\ttest: 0.9999267\tbest: 0.9999267 (100)\ttotal: 23.3s\tremaining: 38m\n",
      "bestTest = 0.9999271631\n",
      "bestIteration = 124\n",
      "Shrink model to first 125 iterations.\n"
     ]
    },
    {
     "name": "stderr",
     "output_type": "stream",
     "text": [
      "Default metric period is 5 because AUC is/are not implemented for GPU\n"
     ]
    },
    {
     "name": "stdout",
     "output_type": "stream",
     "text": [
      "0:\ttest: 0.9994121\tbest: 0.9994121 (0)\ttotal: 236ms\tremaining: 39m 22s\n",
      "100:\ttest: 0.9999234\tbest: 0.9999253 (76)\ttotal: 23.4s\tremaining: 38m 17s\n",
      "bestTest = 0.9999253154\n",
      "bestIteration = 108\n",
      "Shrink model to first 109 iterations.\n",
      "train auc score = 0.999997882799704\n",
      "test auc score = 0.9999256871179766\n"
     ]
    },
    {
     "name": "stderr",
     "output_type": "stream",
     "text": [
      "\u001b[32m[I 2023-01-13 12:43:09,677]\u001b[0m Trial 4 finished with value: 0.9999256871179766 and parameters: {'depth': 13, 'border_count': 237, 'min_data_in_leaf': 281, 'l2_leaf_reg': 0.049472200869152994}. Best is trial 1 with value: 0.9999290108116113.\u001b[0m\n",
      "Default metric period is 5 because AUC is/are not implemented for GPU\n"
     ]
    },
    {
     "name": "stdout",
     "output_type": "stream",
     "text": [
      "0:\ttest: 0.9963756\tbest: 0.9963756 (0)\ttotal: 57.2ms\tremaining: 9m 32s\n",
      "100:\ttest: 0.9998872\tbest: 0.9998872 (100)\ttotal: 5.38s\tremaining: 8m 47s\n",
      "200:\ttest: 0.9999157\tbest: 0.9999157 (200)\ttotal: 10.3s\tremaining: 8m 24s\n",
      "300:\ttest: 0.9999223\tbest: 0.9999223 (299)\ttotal: 15.5s\tremaining: 8m 19s\n",
      "400:\ttest: 0.9999278\tbest: 0.9999278 (400)\ttotal: 20.6s\tremaining: 8m 12s\n",
      "500:\ttest: 0.9999304\tbest: 0.9999306 (499)\ttotal: 25.6s\tremaining: 8m 6s\n",
      "600:\ttest: 0.9999310\tbest: 0.9999318 (576)\ttotal: 30.8s\tremaining: 8m 1s\n",
      "bestTest = 0.9999318123\n",
      "bestIteration = 576\n",
      "Shrink model to first 577 iterations.\n"
     ]
    },
    {
     "name": "stderr",
     "output_type": "stream",
     "text": [
      "Default metric period is 5 because AUC is/are not implemented for GPU\n"
     ]
    },
    {
     "name": "stdout",
     "output_type": "stream",
     "text": [
      "0:\ttest: 0.9968852\tbest: 0.9968852 (0)\ttotal: 135ms\tremaining: 22m 30s\n",
      "100:\ttest: 0.9999062\tbest: 0.9999062 (100)\ttotal: 5.61s\tremaining: 9m 9s\n",
      "200:\ttest: 0.9999223\tbest: 0.9999224 (196)\ttotal: 10.8s\tremaining: 8m 48s\n",
      "300:\ttest: 0.9999298\tbest: 0.9999299 (295)\ttotal: 16s\tremaining: 8m 36s\n",
      "400:\ttest: 0.9999341\tbest: 0.9999341 (400)\ttotal: 21.1s\tremaining: 8m 25s\n",
      "500:\ttest: 0.9999360\tbest: 0.9999363 (487)\ttotal: 26.1s\tremaining: 8m 14s\n",
      "bestTest = 0.9999371171\n",
      "bestIteration = 543\n",
      "Shrink model to first 544 iterations.\n"
     ]
    },
    {
     "name": "stderr",
     "output_type": "stream",
     "text": [
      "Default metric period is 5 because AUC is/are not implemented for GPU\n"
     ]
    },
    {
     "name": "stdout",
     "output_type": "stream",
     "text": [
      "0:\ttest: 0.9965742\tbest: 0.9965742 (0)\ttotal: 133ms\tremaining: 22m 13s\n",
      "100:\ttest: 0.9998998\tbest: 0.9998998 (100)\ttotal: 5.47s\tremaining: 8m 56s\n",
      "200:\ttest: 0.9999144\tbest: 0.9999144 (200)\ttotal: 10.5s\tremaining: 8m 31s\n",
      "300:\ttest: 0.9999211\tbest: 0.9999211 (300)\ttotal: 15.7s\tremaining: 8m 25s\n",
      "400:\ttest: 0.9999245\tbest: 0.9999247 (395)\ttotal: 20.7s\tremaining: 8m 16s\n",
      "500:\ttest: 0.9999257\tbest: 0.9999261 (495)\ttotal: 25.8s\tremaining: 8m 8s\n",
      "bestTest = 0.9999260902\n",
      "bestIteration = 495\n",
      "Shrink model to first 496 iterations.\n"
     ]
    },
    {
     "name": "stderr",
     "output_type": "stream",
     "text": [
      "Default metric period is 5 because AUC is/are not implemented for GPU\n"
     ]
    },
    {
     "name": "stdout",
     "output_type": "stream",
     "text": [
      "0:\ttest: 0.9970384\tbest: 0.9970384 (0)\ttotal: 53.9ms\tremaining: 8m 58s\n",
      "100:\ttest: 0.9999022\tbest: 0.9999025 (98)\ttotal: 5.2s\tremaining: 8m 29s\n",
      "200:\ttest: 0.9999188\tbest: 0.9999189 (197)\ttotal: 10.2s\tremaining: 8m 16s\n",
      "300:\ttest: 0.9999260\tbest: 0.9999260 (300)\ttotal: 15.2s\tremaining: 8m 9s\n",
      "400:\ttest: 0.9999284\tbest: 0.9999284 (398)\ttotal: 20.2s\tremaining: 8m 4s\n",
      "bestTest = 0.9999291897\n",
      "bestIteration = 446\n",
      "Shrink model to first 447 iterations.\n"
     ]
    },
    {
     "name": "stderr",
     "output_type": "stream",
     "text": [
      "Default metric period is 5 because AUC is/are not implemented for GPU\n"
     ]
    },
    {
     "name": "stdout",
     "output_type": "stream",
     "text": [
      "0:\ttest: 0.9969420\tbest: 0.9969420 (0)\ttotal: 82.6ms\tremaining: 13m 45s\n",
      "100:\ttest: 0.9999154\tbest: 0.9999154 (100)\ttotal: 5.42s\tremaining: 8m 50s\n",
      "200:\ttest: 0.9999281\tbest: 0.9999281 (192)\ttotal: 10.5s\tremaining: 8m 32s\n",
      "300:\ttest: 0.9999327\tbest: 0.9999334 (272)\ttotal: 15.5s\tremaining: 8m 19s\n",
      "bestTest = 0.9999334216\n",
      "bestIteration = 272\n",
      "Shrink model to first 273 iterations.\n",
      "train auc score = 0.9999827577672619\n",
      "test auc score = 0.9999314887571792\n"
     ]
    },
    {
     "name": "stderr",
     "output_type": "stream",
     "text": [
      "\u001b[32m[I 2023-01-13 12:45:39,027]\u001b[0m Trial 5 finished with value: 0.9999314887571792 and parameters: {'depth': 7, 'border_count': 173, 'min_data_in_leaf': 6017, 'l2_leaf_reg': 0.5177911181634105}. Best is trial 5 with value: 0.9999314887571792.\u001b[0m\n",
      "Default metric period is 5 because AUC is/are not implemented for GPU\n"
     ]
    },
    {
     "name": "stdout",
     "output_type": "stream",
     "text": [
      "0:\ttest: 0.9994473\tbest: 0.9994473 (0)\ttotal: 761ms\tremaining: 2h 6m 53s\n",
      "100:\ttest: 0.9999048\tbest: 0.9999074 (60)\ttotal: 1m 2s\tremaining: 1h 42m 45s\n",
      "bestTest = 0.9999073744\n",
      "bestIteration = 60\n",
      "Shrink model to first 61 iterations.\n"
     ]
    },
    {
     "name": "stderr",
     "output_type": "stream",
     "text": [
      "Default metric period is 5 because AUC is/are not implemented for GPU\n"
     ]
    },
    {
     "name": "stdout",
     "output_type": "stream",
     "text": [
      "0:\ttest: 0.9993280\tbest: 0.9993280 (0)\ttotal: 633ms\tremaining: 1h 45m 26s\n",
      "100:\ttest: 0.9999233\tbest: 0.9999252 (86)\ttotal: 1m 2s\tremaining: 1h 41m 44s\n",
      "bestTest = 0.9999251962\n",
      "bestIteration = 86\n",
      "Shrink model to first 87 iterations.\n"
     ]
    },
    {
     "name": "stderr",
     "output_type": "stream",
     "text": [
      "Default metric period is 5 because AUC is/are not implemented for GPU\n"
     ]
    },
    {
     "name": "stdout",
     "output_type": "stream",
     "text": [
      "0:\ttest: 0.9993429\tbest: 0.9993429 (0)\ttotal: 632ms\tremaining: 1h 45m 21s\n",
      "100:\ttest: 0.9999150\tbest: 0.9999173 (93)\ttotal: 1m 2s\tremaining: 1h 41m 50s\n",
      "200:\ttest: 0.9999228\tbest: 0.9999228 (194)\ttotal: 2m 3s\tremaining: 1h 40m 18s\n",
      "bestTest = 0.999922812\n",
      "bestIteration = 194\n",
      "Shrink model to first 195 iterations.\n"
     ]
    },
    {
     "name": "stderr",
     "output_type": "stream",
     "text": [
      "Default metric period is 5 because AUC is/are not implemented for GPU\n"
     ]
    },
    {
     "name": "stdout",
     "output_type": "stream",
     "text": [
      "0:\ttest: 0.9994657\tbest: 0.9994657 (0)\ttotal: 628ms\tremaining: 1h 44m 39s\n",
      "100:\ttest: 0.9999142\tbest: 0.9999174 (86)\ttotal: 1m 1s\tremaining: 1h 40m 58s\n",
      "bestTest = 0.999917388\n",
      "bestIteration = 86\n",
      "Shrink model to first 87 iterations.\n"
     ]
    },
    {
     "name": "stderr",
     "output_type": "stream",
     "text": [
      "Default metric period is 5 because AUC is/are not implemented for GPU\n"
     ]
    },
    {
     "name": "stdout",
     "output_type": "stream",
     "text": [
      "0:\ttest: 0.9994655\tbest: 0.9994655 (0)\ttotal: 617ms\tremaining: 1h 42m 50s\n",
      "100:\ttest: 0.9999145\tbest: 0.9999174 (82)\ttotal: 1m 2s\tremaining: 1h 41m 55s\n",
      "bestTest = 0.9999174476\n",
      "bestIteration = 82\n",
      "Shrink model to first 83 iterations.\n",
      "train auc score = 0.9999984745808153\n",
      "test auc score = 0.999918072171238\n"
     ]
    },
    {
     "name": "stderr",
     "output_type": "stream",
     "text": [
      "\u001b[32m[I 2023-01-13 12:53:19,089]\u001b[0m Trial 6 finished with value: 0.999918072171238 and parameters: {'depth': 15, 'border_count': 97, 'min_data_in_leaf': 5194, 'l2_leaf_reg': 0.007568587398045611}. Best is trial 5 with value: 0.9999314887571792.\u001b[0m\n",
      "Default metric period is 5 because AUC is/are not implemented for GPU\n"
     ]
    },
    {
     "name": "stdout",
     "output_type": "stream",
     "text": [
      "0:\ttest: 0.9862818\tbest: 0.9862818 (0)\ttotal: 39.8ms\tremaining: 6m 37s\n",
      "100:\ttest: 0.9998343\tbest: 0.9998353 (99)\ttotal: 4.14s\tremaining: 6m 46s\n",
      "200:\ttest: 0.9998782\tbest: 0.9998782 (200)\ttotal: 8.16s\tremaining: 6m 38s\n",
      "300:\ttest: 0.9998897\tbest: 0.9998904 (281)\ttotal: 12.3s\tremaining: 6m 37s\n",
      "400:\ttest: 0.9998959\tbest: 0.9998971 (387)\ttotal: 16.4s\tremaining: 6m 32s\n",
      "500:\ttest: 0.9999009\tbest: 0.9999010 (474)\ttotal: 20.4s\tremaining: 6m 27s\n",
      "600:\ttest: 0.9999034\tbest: 0.9999048 (560)\ttotal: 24.5s\tremaining: 6m 22s\n",
      "bestTest = 0.9999047518\n",
      "bestIteration = 560\n",
      "Shrink model to first 561 iterations.\n"
     ]
    },
    {
     "name": "stderr",
     "output_type": "stream",
     "text": [
      "Default metric period is 5 because AUC is/are not implemented for GPU\n"
     ]
    },
    {
     "name": "stdout",
     "output_type": "stream",
     "text": [
      "0:\ttest: 0.9878185\tbest: 0.9878185 (0)\ttotal: 59.4ms\tremaining: 9m 53s\n",
      "100:\ttest: 0.9998672\tbest: 0.9998672 (100)\ttotal: 4.51s\tremaining: 7m 22s\n",
      "200:\ttest: 0.9999032\tbest: 0.9999032 (199)\ttotal: 8.5s\tremaining: 6m 54s\n",
      "300:\ttest: 0.9999105\tbest: 0.9999105 (300)\ttotal: 12.7s\tremaining: 6m 49s\n",
      "400:\ttest: 0.9999146\tbest: 0.9999146 (400)\ttotal: 16.7s\tremaining: 6m 39s\n",
      "500:\ttest: 0.9999179\tbest: 0.9999181 (499)\ttotal: 20.9s\tremaining: 6m 37s\n",
      "bestTest = 0.9999181032\n",
      "bestIteration = 499\n",
      "Shrink model to first 500 iterations.\n"
     ]
    },
    {
     "name": "stderr",
     "output_type": "stream",
     "text": [
      "Default metric period is 5 because AUC is/are not implemented for GPU\n"
     ]
    },
    {
     "name": "stdout",
     "output_type": "stream",
     "text": [
      "0:\ttest: 0.9866754\tbest: 0.9866754 (0)\ttotal: 110ms\tremaining: 18m 16s\n",
      "100:\ttest: 0.9998624\tbest: 0.9998624 (100)\ttotal: 4.25s\tremaining: 6m 56s\n",
      "200:\ttest: 0.9998946\tbest: 0.9998946 (200)\ttotal: 8.17s\tremaining: 6m 38s\n",
      "300:\ttest: 0.9999038\tbest: 0.9999038 (300)\ttotal: 12.2s\tremaining: 6m 32s\n",
      "400:\ttest: 0.9999082\tbest: 0.9999083 (399)\ttotal: 16.2s\tremaining: 6m 28s\n",
      "500:\ttest: 0.9999135\tbest: 0.9999135 (500)\ttotal: 20.4s\tremaining: 6m 25s\n",
      "600:\ttest: 0.9999167\tbest: 0.9999167 (600)\ttotal: 24.3s\tremaining: 6m 19s\n",
      "bestTest = 0.9999169111\n",
      "bestIteration = 602\n",
      "Shrink model to first 603 iterations.\n"
     ]
    },
    {
     "name": "stderr",
     "output_type": "stream",
     "text": [
      "Default metric period is 5 because AUC is/are not implemented for GPU\n"
     ]
    },
    {
     "name": "stdout",
     "output_type": "stream",
     "text": [
      "0:\ttest: 0.9873571\tbest: 0.9873571 (0)\ttotal: 53.4ms\tremaining: 8m 53s\n",
      "100:\ttest: 0.9998577\tbest: 0.9998577 (100)\ttotal: 4.39s\tremaining: 7m 10s\n",
      "200:\ttest: 0.9998959\tbest: 0.9998959 (200)\ttotal: 8.69s\tremaining: 7m 3s\n",
      "300:\ttest: 0.9999083\tbest: 0.9999083 (299)\ttotal: 13s\tremaining: 6m 58s\n",
      "bestTest = 0.9999092221\n",
      "bestIteration = 330\n",
      "Shrink model to first 331 iterations.\n"
     ]
    },
    {
     "name": "stderr",
     "output_type": "stream",
     "text": [
      "Default metric period is 5 because AUC is/are not implemented for GPU\n"
     ]
    },
    {
     "name": "stdout",
     "output_type": "stream",
     "text": [
      "0:\ttest: 0.9869902\tbest: 0.9869902 (0)\ttotal: 53.1ms\tremaining: 8m 50s\n",
      "100:\ttest: 0.9998760\tbest: 0.9998760 (100)\ttotal: 4.66s\tremaining: 7m 36s\n",
      "200:\ttest: 0.9999052\tbest: 0.9999062 (189)\ttotal: 8.7s\tremaining: 7m 4s\n",
      "300:\ttest: 0.9999120\tbest: 0.9999123 (299)\ttotal: 12.8s\tremaining: 6m 52s\n",
      "400:\ttest: 0.9999175\tbest: 0.9999175 (400)\ttotal: 16.9s\tremaining: 6m 45s\n",
      "500:\ttest: 0.9999228\tbest: 0.9999228 (483)\ttotal: 20.9s\tremaining: 6m 37s\n",
      "bestTest = 0.9999238253\n",
      "bestIteration = 516\n",
      "Shrink model to first 517 iterations.\n",
      "train auc score = 0.9999650281754802\n",
      "test auc score = 0.9999145569812852\n"
     ]
    },
    {
     "name": "stderr",
     "output_type": "stream",
     "text": [
      "\u001b[32m[I 2023-01-13 12:55:29,480]\u001b[0m Trial 7 finished with value: 0.9999145569812852 and parameters: {'depth': 5, 'border_count': 214, 'min_data_in_leaf': 5065, 'l2_leaf_reg': 0.007842782775258893}. Best is trial 5 with value: 0.9999314887571792.\u001b[0m\n",
      "Default metric period is 5 because AUC is/are not implemented for GPU\n"
     ]
    },
    {
     "name": "stdout",
     "output_type": "stream",
     "text": [
      "0:\ttest: 0.9963241\tbest: 0.9963241 (0)\ttotal: 131ms\tremaining: 21m 51s\n",
      "100:\ttest: 0.9998812\tbest: 0.9998812 (100)\ttotal: 5.38s\tremaining: 8m 47s\n",
      "200:\ttest: 0.9999108\tbest: 0.9999108 (200)\ttotal: 10.2s\tremaining: 8m 14s\n",
      "300:\ttest: 0.9999215\tbest: 0.9999215 (300)\ttotal: 15s\tremaining: 8m 2s\n",
      "400:\ttest: 0.9999257\tbest: 0.9999257 (399)\ttotal: 20s\tremaining: 7m 59s\n",
      "bestTest = 0.99992764\n",
      "bestIteration = 446\n",
      "Shrink model to first 447 iterations.\n"
     ]
    },
    {
     "name": "stderr",
     "output_type": "stream",
     "text": [
      "Default metric period is 5 because AUC is/are not implemented for GPU\n"
     ]
    },
    {
     "name": "stdout",
     "output_type": "stream",
     "text": [
      "0:\ttest: 0.9968852\tbest: 0.9968852 (0)\ttotal: 85.9ms\tremaining: 14m 19s\n",
      "100:\ttest: 0.9999009\tbest: 0.9999009 (100)\ttotal: 5.27s\tremaining: 8m 36s\n",
      "200:\ttest: 0.9999240\tbest: 0.9999240 (200)\ttotal: 10.1s\tremaining: 8m 12s\n",
      "300:\ttest: 0.9999311\tbest: 0.9999311 (294)\ttotal: 14.9s\tremaining: 8m 1s\n",
      "bestTest = 0.9999336004\n",
      "bestIteration = 337\n",
      "Shrink model to first 338 iterations.\n"
     ]
    },
    {
     "name": "stderr",
     "output_type": "stream",
     "text": [
      "Default metric period is 5 because AUC is/are not implemented for GPU\n"
     ]
    },
    {
     "name": "stdout",
     "output_type": "stream",
     "text": [
      "0:\ttest: 0.9968437\tbest: 0.9968437 (0)\ttotal: 134ms\tremaining: 22m 21s\n",
      "100:\ttest: 0.9998948\tbest: 0.9998948 (100)\ttotal: 5.37s\tremaining: 8m 46s\n",
      "200:\ttest: 0.9999100\tbest: 0.9999100 (200)\ttotal: 10.2s\tremaining: 8m 15s\n",
      "300:\ttest: 0.9999170\tbest: 0.9999170 (297)\ttotal: 15.1s\tremaining: 8m 5s\n",
      "400:\ttest: 0.9999207\tbest: 0.9999207 (400)\ttotal: 20.4s\tremaining: 8m 8s\n",
      "500:\ttest: 0.9999236\tbest: 0.9999236 (497)\ttotal: 25.6s\tremaining: 8m 5s\n",
      "600:\ttest: 0.9999262\tbest: 0.9999266 (576)\ttotal: 30.8s\tremaining: 8m 1s\n",
      "bestTest = 0.9999266267\n",
      "bestIteration = 576\n",
      "Shrink model to first 577 iterations.\n"
     ]
    },
    {
     "name": "stderr",
     "output_type": "stream",
     "text": [
      "Default metric period is 5 because AUC is/are not implemented for GPU\n"
     ]
    },
    {
     "name": "stdout",
     "output_type": "stream",
     "text": [
      "0:\ttest: 0.9970513\tbest: 0.9970513 (0)\ttotal: 130ms\tremaining: 21m 42s\n",
      "100:\ttest: 0.9999067\tbest: 0.9999067 (100)\ttotal: 5.58s\tremaining: 9m 6s\n",
      "200:\ttest: 0.9999269\tbest: 0.9999269 (199)\ttotal: 10.8s\tremaining: 8m 47s\n",
      "300:\ttest: 0.9999326\tbest: 0.9999326 (296)\ttotal: 16s\tremaining: 8m 35s\n",
      "400:\ttest: 0.9999356\tbest: 0.9999356 (399)\ttotal: 21.2s\tremaining: 8m 28s\n",
      "500:\ttest: 0.9999371\tbest: 0.9999371 (498)\ttotal: 26.5s\tremaining: 8m 22s\n",
      "bestTest = 0.99993819\n",
      "bestIteration = 557\n",
      "Shrink model to first 558 iterations.\n"
     ]
    },
    {
     "name": "stderr",
     "output_type": "stream",
     "text": [
      "Default metric period is 5 because AUC is/are not implemented for GPU\n"
     ]
    },
    {
     "name": "stdout",
     "output_type": "stream",
     "text": [
      "0:\ttest: 0.9968772\tbest: 0.9968772 (0)\ttotal: 134ms\tremaining: 22m 16s\n",
      "100:\ttest: 0.9999086\tbest: 0.9999086 (100)\ttotal: 5.45s\tremaining: 8m 53s\n",
      "200:\ttest: 0.9999244\tbest: 0.9999245 (195)\ttotal: 10.4s\tremaining: 8m 27s\n",
      "300:\ttest: 0.9999288\tbest: 0.9999291 (295)\ttotal: 15.3s\tremaining: 8m 13s\n",
      "bestTest = 0.9999309182\n",
      "bestIteration = 338\n",
      "Shrink model to first 339 iterations.\n",
      "train auc score = 0.9999821022139654\n",
      "test auc score = 0.9999313621564893\n"
     ]
    },
    {
     "name": "stderr",
     "output_type": "stream",
     "text": [
      "\u001b[32m[I 2023-01-13 12:57:53,370]\u001b[0m Trial 8 finished with value: 0.9999313621564893 and parameters: {'depth': 7, 'border_count': 126, 'min_data_in_leaf': 8457, 'l2_leaf_reg': 0.6661341591638666}. Best is trial 5 with value: 0.9999314887571792.\u001b[0m\n",
      "Default metric period is 5 because AUC is/are not implemented for GPU\n"
     ]
    },
    {
     "name": "stdout",
     "output_type": "stream",
     "text": [
      "0:\ttest: 0.9979900\tbest: 0.9979900 (0)\ttotal: 160ms\tremaining: 26m 38s\n",
      "100:\ttest: 0.9998985\tbest: 0.9998985 (100)\ttotal: 6.21s\tremaining: 10m 8s\n",
      "200:\ttest: 0.9999195\tbest: 0.9999197 (199)\ttotal: 12s\tremaining: 9m 45s\n",
      "300:\ttest: 0.9999270\tbest: 0.9999270 (300)\ttotal: 17.7s\tremaining: 9m 29s\n",
      "bestTest = 0.9999291301\n",
      "bestIteration = 329\n",
      "Shrink model to first 330 iterations.\n"
     ]
    },
    {
     "name": "stderr",
     "output_type": "stream",
     "text": [
      "Default metric period is 5 because AUC is/are not implemented for GPU\n"
     ]
    },
    {
     "name": "stdout",
     "output_type": "stream",
     "text": [
      "0:\ttest: 0.9977271\tbest: 0.9977271 (0)\ttotal: 137ms\tremaining: 22m 52s\n",
      "100:\ttest: 0.9999161\tbest: 0.9999161 (100)\ttotal: 6.08s\tremaining: 9m 56s\n",
      "200:\ttest: 0.9999295\tbest: 0.9999295 (200)\ttotal: 11.8s\tremaining: 9m 36s\n",
      "300:\ttest: 0.9999352\tbest: 0.9999353 (285)\ttotal: 17.4s\tremaining: 9m 21s\n",
      "400:\ttest: 0.9999379\tbest: 0.9999380 (376)\ttotal: 23.2s\tremaining: 9m 16s\n",
      "500:\ttest: 0.9999374\tbest: 0.9999388 (466)\ttotal: 28.9s\tremaining: 9m 8s\n",
      "bestTest = 0.9999388456\n",
      "bestIteration = 466\n",
      "Shrink model to first 467 iterations.\n"
     ]
    },
    {
     "name": "stderr",
     "output_type": "stream",
     "text": [
      "Default metric period is 5 because AUC is/are not implemented for GPU\n"
     ]
    },
    {
     "name": "stdout",
     "output_type": "stream",
     "text": [
      "0:\ttest: 0.9980648\tbest: 0.9980648 (0)\ttotal: 75ms\tremaining: 12m 29s\n",
      "100:\ttest: 0.9999093\tbest: 0.9999093 (100)\ttotal: 6.18s\tremaining: 10m 5s\n",
      "200:\ttest: 0.9999188\tbest: 0.9999188 (198)\ttotal: 11.8s\tremaining: 9m 37s\n",
      "300:\ttest: 0.9999242\tbest: 0.9999242 (300)\ttotal: 17.9s\tremaining: 9m 36s\n",
      "400:\ttest: 0.9999283\tbest: 0.9999284 (396)\ttotal: 24s\tremaining: 9m 33s\n",
      "bestTest = 0.9999287128\n",
      "bestIteration = 412\n",
      "Shrink model to first 413 iterations.\n"
     ]
    },
    {
     "name": "stderr",
     "output_type": "stream",
     "text": [
      "Default metric period is 5 because AUC is/are not implemented for GPU\n"
     ]
    },
    {
     "name": "stdout",
     "output_type": "stream",
     "text": [
      "0:\ttest: 0.9983501\tbest: 0.9983501 (0)\ttotal: 82.6ms\tremaining: 13m 46s\n",
      "100:\ttest: 0.9999065\tbest: 0.9999070 (95)\ttotal: 6.17s\tremaining: 10m 4s\n",
      "200:\ttest: 0.9999214\tbest: 0.9999217 (181)\ttotal: 11.8s\tremaining: 9m 35s\n",
      "300:\ttest: 0.9999240\tbest: 0.9999240 (300)\ttotal: 17.5s\tremaining: 9m 22s\n",
      "400:\ttest: 0.9999258\tbest: 0.9999260 (385)\ttotal: 23.3s\tremaining: 9m 18s\n",
      "500:\ttest: 0.9999270\tbest: 0.9999271 (481)\ttotal: 29s\tremaining: 9m 9s\n",
      "600:\ttest: 0.9999277\tbest: 0.9999282 (577)\ttotal: 34.8s\tremaining: 9m 4s\n",
      "bestTest = 0.9999281764\n",
      "bestIteration = 577\n",
      "Shrink model to first 578 iterations.\n"
     ]
    },
    {
     "name": "stderr",
     "output_type": "stream",
     "text": [
      "Default metric period is 5 because AUC is/are not implemented for GPU\n"
     ]
    },
    {
     "name": "stdout",
     "output_type": "stream",
     "text": [
      "0:\ttest: 0.9982848\tbest: 0.9982848 (0)\ttotal: 156ms\tremaining: 25m 56s\n",
      "100:\ttest: 0.9999171\tbest: 0.9999171 (100)\ttotal: 6.1s\tremaining: 9m 58s\n",
      "200:\ttest: 0.9999286\tbest: 0.9999295 (184)\ttotal: 11.8s\tremaining: 9m 35s\n",
      "300:\ttest: 0.9999307\tbest: 0.9999319 (268)\ttotal: 17.5s\tremaining: 9m 24s\n",
      "bestTest = 0.9999319315\n",
      "bestIteration = 268\n",
      "Shrink model to first 269 iterations.\n",
      "train auc score = 0.999990261402198\n",
      "test auc score = 0.9999313143317631\n"
     ]
    },
    {
     "name": "stderr",
     "output_type": "stream",
     "text": [
      "\u001b[32m[I 2023-01-13 13:00:23,382]\u001b[0m Trial 9 finished with value: 0.9999313143317631 and parameters: {'depth': 8, 'border_count': 231, 'min_data_in_leaf': 4607, 'l2_leaf_reg': 0.15089002593588471}. Best is trial 5 with value: 0.9999314887571792.\u001b[0m\n",
      "Default metric period is 5 because AUC is/are not implemented for GPU\n"
     ]
    },
    {
     "name": "stdout",
     "output_type": "stream",
     "text": [
      "0:\ttest: 0.9983364\tbest: 0.9983364 (0)\ttotal: 195ms\tremaining: 32m 30s\n",
      "100:\ttest: 0.9998867\tbest: 0.9998889 (94)\ttotal: 8.07s\tremaining: 13m 11s\n",
      "200:\ttest: 0.9998887\tbest: 0.9998922 (160)\ttotal: 15.7s\tremaining: 12m 45s\n",
      "bestTest = 0.9998922348\n",
      "bestIteration = 160\n",
      "Shrink model to first 161 iterations.\n"
     ]
    },
    {
     "name": "stderr",
     "output_type": "stream",
     "text": [
      "Default metric period is 5 because AUC is/are not implemented for GPU\n"
     ]
    },
    {
     "name": "stdout",
     "output_type": "stream",
     "text": [
      "0:\ttest: 0.9983191\tbest: 0.9983191 (0)\ttotal: 126ms\tremaining: 21m\n",
      "100:\ttest: 0.9999146\tbest: 0.9999148 (98)\ttotal: 8.09s\tremaining: 13m 12s\n",
      "bestTest = 0.9999177456\n",
      "bestIteration = 119\n",
      "Shrink model to first 120 iterations.\n"
     ]
    },
    {
     "name": "stderr",
     "output_type": "stream",
     "text": [
      "Default metric period is 5 because AUC is/are not implemented for GPU\n"
     ]
    },
    {
     "name": "stdout",
     "output_type": "stream",
     "text": [
      "0:\ttest: 0.9982086\tbest: 0.9982086 (0)\ttotal: 215ms\tremaining: 35m 51s\n",
      "100:\ttest: 0.9998913\tbest: 0.9998913 (100)\ttotal: 8.13s\tremaining: 13m 16s\n",
      "bestTest = 0.9998942912\n",
      "bestIteration = 118\n",
      "Shrink model to first 119 iterations.\n"
     ]
    },
    {
     "name": "stderr",
     "output_type": "stream",
     "text": [
      "Default metric period is 5 because AUC is/are not implemented for GPU\n"
     ]
    },
    {
     "name": "stdout",
     "output_type": "stream",
     "text": [
      "0:\ttest: 0.9985910\tbest: 0.9985910 (0)\ttotal: 121ms\tremaining: 20m 13s\n",
      "100:\ttest: 0.9998893\tbest: 0.9998908 (84)\ttotal: 8.21s\tremaining: 13m 24s\n",
      "bestTest = 0.9998908043\n",
      "bestIteration = 84\n",
      "Shrink model to first 85 iterations.\n"
     ]
    },
    {
     "name": "stderr",
     "output_type": "stream",
     "text": [
      "Default metric period is 5 because AUC is/are not implemented for GPU\n"
     ]
    },
    {
     "name": "stdout",
     "output_type": "stream",
     "text": [
      "0:\ttest: 0.9984380\tbest: 0.9984380 (0)\ttotal: 104ms\tremaining: 17m 23s\n",
      "100:\ttest: 0.9999072\tbest: 0.9999072 (100)\ttotal: 7.89s\tremaining: 12m 53s\n",
      "bestTest = 0.9999079406\n",
      "bestIteration = 108\n",
      "Shrink model to first 109 iterations.\n",
      "train auc score = 0.9999822857741192\n",
      "test auc score = 0.9999005678601434\n"
     ]
    },
    {
     "name": "stderr",
     "output_type": "stream",
     "text": [
      "\u001b[32m[I 2023-01-13 13:01:42,468]\u001b[0m Trial 10 finished with value: 0.9999005678601434 and parameters: {'depth': 10, 'border_count': 23, 'min_data_in_leaf': 7016, 'l2_leaf_reg': 0.0014637464067665752}. Best is trial 5 with value: 0.9999314887571792.\u001b[0m\n",
      "Default metric period is 5 because AUC is/are not implemented for GPU\n"
     ]
    },
    {
     "name": "stdout",
     "output_type": "stream",
     "text": [
      "0:\ttest: 0.9862558\tbest: 0.9862558 (0)\ttotal: 108ms\tremaining: 17m 58s\n",
      "100:\ttest: 0.9998264\tbest: 0.9998264 (100)\ttotal: 4.24s\tremaining: 6m 55s\n",
      "200:\ttest: 0.9998851\tbest: 0.9998851 (200)\ttotal: 8.16s\tremaining: 6m 37s\n",
      "300:\ttest: 0.9999020\tbest: 0.9999020 (300)\ttotal: 12.2s\tremaining: 6m 32s\n",
      "400:\ttest: 0.9999092\tbest: 0.9999092 (399)\ttotal: 16.2s\tremaining: 6m 28s\n",
      "500:\ttest: 0.9999154\tbest: 0.9999154 (497)\ttotal: 20.1s\tremaining: 6m 21s\n",
      "600:\ttest: 0.9999192\tbest: 0.9999193 (587)\ttotal: 24s\tremaining: 6m 15s\n",
      "bestTest = 0.999920249\n",
      "bestIteration = 622\n",
      "Shrink model to first 623 iterations.\n"
     ]
    },
    {
     "name": "stderr",
     "output_type": "stream",
     "text": [
      "Default metric period is 5 because AUC is/are not implemented for GPU\n"
     ]
    },
    {
     "name": "stdout",
     "output_type": "stream",
     "text": [
      "0:\ttest: 0.9876804\tbest: 0.9876804 (0)\ttotal: 52.5ms\tremaining: 8m 44s\n",
      "100:\ttest: 0.9998602\tbest: 0.9998602 (99)\ttotal: 4.21s\tremaining: 6m 52s\n",
      "200:\ttest: 0.9998996\tbest: 0.9998997 (199)\ttotal: 8.15s\tremaining: 6m 37s\n",
      "300:\ttest: 0.9999141\tbest: 0.9999141 (300)\ttotal: 12s\tremaining: 6m 27s\n",
      "400:\ttest: 0.9999212\tbest: 0.9999212 (400)\ttotal: 16s\tremaining: 6m 23s\n",
      "500:\ttest: 0.9999272\tbest: 0.9999272 (500)\ttotal: 19.8s\tremaining: 6m 15s\n",
      "600:\ttest: 0.9999303\tbest: 0.9999303 (598)\ttotal: 24s\tremaining: 6m 15s\n",
      "700:\ttest: 0.9999320\tbest: 0.9999320 (697)\ttotal: 28.2s\tremaining: 6m 13s\n",
      "800:\ttest: 0.9999342\tbest: 0.9999342 (799)\ttotal: 32.2s\tremaining: 6m 9s\n",
      "900:\ttest: 0.9999357\tbest: 0.9999358 (880)\ttotal: 36.1s\tremaining: 6m 4s\n",
      "1000:\ttest: 0.9999369\tbest: 0.9999371 (991)\ttotal: 40.2s\tremaining: 6m 1s\n",
      "1100:\ttest: 0.9999380\tbest: 0.9999380 (1092)\ttotal: 44.2s\tremaining: 5m 57s\n",
      "bestTest = 0.9999386072\n",
      "bestIteration = 1134\n",
      "Shrink model to first 1135 iterations.\n"
     ]
    },
    {
     "name": "stderr",
     "output_type": "stream",
     "text": [
      "Default metric period is 5 because AUC is/are not implemented for GPU\n"
     ]
    },
    {
     "name": "stdout",
     "output_type": "stream",
     "text": [
      "0:\ttest: 0.9879954\tbest: 0.9879954 (0)\ttotal: 54ms\tremaining: 8m 59s\n",
      "100:\ttest: 0.9998647\tbest: 0.9998647 (100)\ttotal: 4.52s\tremaining: 7m 23s\n",
      "200:\ttest: 0.9998947\tbest: 0.9998947 (199)\ttotal: 8.55s\tremaining: 6m 56s\n",
      "300:\ttest: 0.9999046\tbest: 0.9999046 (300)\ttotal: 12.7s\tremaining: 6m 47s\n",
      "400:\ttest: 0.9999112\tbest: 0.9999112 (400)\ttotal: 17s\tremaining: 6m 47s\n",
      "500:\ttest: 0.9999151\tbest: 0.9999152 (499)\ttotal: 21.5s\tremaining: 6m 47s\n",
      "600:\ttest: 0.9999184\tbest: 0.9999184 (600)\ttotal: 26s\tremaining: 6m 46s\n",
      "bestTest = 0.9999191761\n",
      "bestIteration = 622\n",
      "Shrink model to first 623 iterations.\n"
     ]
    },
    {
     "name": "stderr",
     "output_type": "stream",
     "text": [
      "Default metric period is 5 because AUC is/are not implemented for GPU\n"
     ]
    },
    {
     "name": "stdout",
     "output_type": "stream",
     "text": [
      "0:\ttest: 0.9874251\tbest: 0.9874251 (0)\ttotal: 102ms\tremaining: 17m 3s\n",
      "100:\ttest: 0.9998611\tbest: 0.9998611 (100)\ttotal: 4.21s\tremaining: 6m 52s\n",
      "200:\ttest: 0.9998987\tbest: 0.9998987 (200)\ttotal: 8.18s\tremaining: 6m 38s\n",
      "300:\ttest: 0.9999080\tbest: 0.9999080 (300)\ttotal: 12.1s\tremaining: 6m 28s\n",
      "400:\ttest: 0.9999161\tbest: 0.9999161 (399)\ttotal: 15.8s\tremaining: 6m 19s\n",
      "500:\ttest: 0.9999220\tbest: 0.9999222 (496)\ttotal: 19.9s\tremaining: 6m 17s\n",
      "600:\ttest: 0.9999245\tbest: 0.9999245 (600)\ttotal: 24.3s\tremaining: 6m 19s\n",
      "700:\ttest: 0.9999263\tbest: 0.9999263 (688)\ttotal: 28.3s\tremaining: 6m 15s\n",
      "800:\ttest: 0.9999289\tbest: 0.9999289 (800)\ttotal: 32.2s\tremaining: 6m 10s\n",
      "bestTest = 0.9999295473\n",
      "bestIteration = 828\n",
      "Shrink model to first 829 iterations.\n"
     ]
    },
    {
     "name": "stderr",
     "output_type": "stream",
     "text": [
      "Default metric period is 5 because AUC is/are not implemented for GPU\n"
     ]
    },
    {
     "name": "stdout",
     "output_type": "stream",
     "text": [
      "0:\ttest: 0.9869421\tbest: 0.9869421 (0)\ttotal: 108ms\tremaining: 17m 59s\n",
      "100:\ttest: 0.9998797\tbest: 0.9998797 (100)\ttotal: 4.35s\tremaining: 7m 6s\n",
      "200:\ttest: 0.9999154\tbest: 0.9999154 (200)\ttotal: 8.2s\tremaining: 6m 39s\n",
      "300:\ttest: 0.9999262\tbest: 0.9999262 (298)\ttotal: 12.1s\tremaining: 6m 31s\n",
      "400:\ttest: 0.9999313\tbest: 0.9999313 (397)\ttotal: 16.1s\tremaining: 6m 25s\n",
      "500:\ttest: 0.9999354\tbest: 0.9999354 (500)\ttotal: 20s\tremaining: 6m 18s\n",
      "600:\ttest: 0.9999374\tbest: 0.9999374 (598)\ttotal: 23.9s\tremaining: 6m 13s\n",
      "700:\ttest: 0.9999390\tbest: 0.9999392 (696)\ttotal: 27.8s\tremaining: 6m 9s\n",
      "800:\ttest: 0.9999393\tbest: 0.9999399 (775)\ttotal: 31.8s\tremaining: 6m 5s\n",
      "bestTest = 0.9999398589\n",
      "bestIteration = 775\n",
      "Shrink model to first 776 iterations.\n",
      "train auc score = 0.9999712962680902\n",
      "test auc score = 0.9999294387187317\n"
     ]
    },
    {
     "name": "stderr",
     "output_type": "stream",
     "text": [
      "\u001b[32m[I 2023-01-13 13:04:52,086]\u001b[0m Trial 11 finished with value: 0.9999294387187317 and parameters: {'depth': 5, 'border_count': 105, 'min_data_in_leaf': 9740, 'l2_leaf_reg': 0.7476828782480905}. Best is trial 5 with value: 0.9999314887571792.\u001b[0m\n",
      "Default metric period is 5 because AUC is/are not implemented for GPU\n"
     ]
    },
    {
     "name": "stdout",
     "output_type": "stream",
     "text": [
      "0:\ttest: 0.9979281\tbest: 0.9979281 (0)\ttotal: 73.3ms\tremaining: 12m 12s\n",
      "100:\ttest: 0.9999006\tbest: 0.9999006 (100)\ttotal: 6s\tremaining: 9m 48s\n",
      "200:\ttest: 0.9999207\tbest: 0.9999207 (200)\ttotal: 11.6s\tremaining: 9m 25s\n",
      "300:\ttest: 0.9999265\tbest: 0.9999265 (299)\ttotal: 17s\tremaining: 9m 9s\n",
      "400:\ttest: 0.9999287\tbest: 0.9999290 (393)\ttotal: 22.6s\tremaining: 9m\n",
      "bestTest = 0.9999292493\n",
      "bestIteration = 417\n",
      "Shrink model to first 418 iterations.\n"
     ]
    },
    {
     "name": "stderr",
     "output_type": "stream",
     "text": [
      "Default metric period is 5 because AUC is/are not implemented for GPU\n"
     ]
    },
    {
     "name": "stdout",
     "output_type": "stream",
     "text": [
      "0:\ttest: 0.9976774\tbest: 0.9976774 (0)\ttotal: 78.9ms\tremaining: 13m 8s\n",
      "100:\ttest: 0.9999176\tbest: 0.9999176 (100)\ttotal: 5.96s\tremaining: 9m 44s\n",
      "200:\ttest: 0.9999363\tbest: 0.9999363 (200)\ttotal: 11.5s\tremaining: 9m 20s\n",
      "300:\ttest: 0.9999419\tbest: 0.9999422 (286)\ttotal: 17.1s\tremaining: 9m 9s\n",
      "bestTest = 0.9999421835\n",
      "bestIteration = 286\n",
      "Shrink model to first 287 iterations.\n"
     ]
    },
    {
     "name": "stderr",
     "output_type": "stream",
     "text": [
      "Default metric period is 5 because AUC is/are not implemented for GPU\n"
     ]
    },
    {
     "name": "stdout",
     "output_type": "stream",
     "text": [
      "0:\ttest: 0.9981916\tbest: 0.9981916 (0)\ttotal: 73.3ms\tremaining: 12m 12s\n",
      "100:\ttest: 0.9999052\tbest: 0.9999052 (100)\ttotal: 5.73s\tremaining: 9m 21s\n",
      "200:\ttest: 0.9999191\tbest: 0.9999194 (197)\ttotal: 11.3s\tremaining: 9m 11s\n",
      "300:\ttest: 0.9999254\tbest: 0.9999254 (300)\ttotal: 16.9s\tremaining: 9m 3s\n",
      "400:\ttest: 0.9999298\tbest: 0.9999298 (400)\ttotal: 22.3s\tremaining: 8m 54s\n",
      "500:\ttest: 0.9999319\tbest: 0.9999319 (500)\ttotal: 27.8s\tremaining: 8m 46s\n",
      "600:\ttest: 0.9999334\tbest: 0.9999338 (581)\ttotal: 33.3s\tremaining: 8m 40s\n",
      "bestTest = 0.9999337792\n",
      "bestIteration = 581\n",
      "Shrink model to first 582 iterations.\n"
     ]
    },
    {
     "name": "stderr",
     "output_type": "stream",
     "text": [
      "Default metric period is 5 because AUC is/are not implemented for GPU\n"
     ]
    },
    {
     "name": "stdout",
     "output_type": "stream",
     "text": [
      "0:\ttest: 0.9983298\tbest: 0.9983298 (0)\ttotal: 81ms\tremaining: 13m 30s\n",
      "100:\ttest: 0.9999142\tbest: 0.9999142 (100)\ttotal: 5.83s\tremaining: 9m 31s\n",
      "200:\ttest: 0.9999278\tbest: 0.9999281 (197)\ttotal: 11.2s\tremaining: 9m 5s\n",
      "300:\ttest: 0.9999322\tbest: 0.9999322 (278)\ttotal: 16.6s\tremaining: 8m 54s\n",
      "400:\ttest: 0.9999348\tbest: 0.9999348 (400)\ttotal: 22s\tremaining: 8m 45s\n",
      "500:\ttest: 0.9999372\tbest: 0.9999372 (497)\ttotal: 27.5s\tremaining: 8m 40s\n",
      "600:\ttest: 0.9999382\tbest: 0.9999382 (600)\ttotal: 33s\tremaining: 8m 36s\n",
      "700:\ttest: 0.9999384\tbest: 0.9999388 (668)\ttotal: 38.6s\tremaining: 8m 31s\n",
      "bestTest = 0.9999388456\n",
      "bestIteration = 668\n",
      "Shrink model to first 669 iterations.\n"
     ]
    },
    {
     "name": "stderr",
     "output_type": "stream",
     "text": [
      "Default metric period is 5 because AUC is/are not implemented for GPU\n"
     ]
    },
    {
     "name": "stdout",
     "output_type": "stream",
     "text": [
      "0:\ttest: 0.9982501\tbest: 0.9982501 (0)\ttotal: 101ms\tremaining: 16m 51s\n",
      "100:\ttest: 0.9999225\tbest: 0.9999225 (100)\ttotal: 5.9s\tremaining: 9m 38s\n",
      "200:\ttest: 0.9999306\tbest: 0.9999309 (195)\ttotal: 11.3s\tremaining: 9m 13s\n",
      "300:\ttest: 0.9999339\tbest: 0.9999341 (293)\ttotal: 16.8s\tremaining: 9m 2s\n",
      "400:\ttest: 0.9999354\tbest: 0.9999355 (399)\ttotal: 22.3s\tremaining: 8m 54s\n",
      "bestTest = 0.9999357462\n",
      "bestIteration = 405\n",
      "Shrink model to first 406 iterations.\n",
      "train auc score = 0.9999895880607296\n",
      "test auc score = 0.9999359335196024\n"
     ]
    },
    {
     "name": "stderr",
     "output_type": "stream",
     "text": [
      "\u001b[32m[I 2023-01-13 13:07:32,866]\u001b[0m Trial 12 finished with value: 0.9999359335196024 and parameters: {'depth': 8, 'border_count': 115, 'min_data_in_leaf': 7518, 'l2_leaf_reg': 0.9474828776480839}. Best is trial 12 with value: 0.9999359335196024.\u001b[0m\n",
      "Default metric period is 5 because AUC is/are not implemented for GPU\n"
     ]
    },
    {
     "name": "stdout",
     "output_type": "stream",
     "text": [
      "0:\ttest: 0.9967652\tbest: 0.9967652 (0)\ttotal: 176ms\tremaining: 29m 24s\n",
      "100:\ttest: 0.9999025\tbest: 0.9999025 (98)\ttotal: 6.74s\tremaining: 11m\n",
      "200:\ttest: 0.9999183\tbest: 0.9999183 (200)\ttotal: 13s\tremaining: 10m 35s\n",
      "bestTest = 0.9999186397\n",
      "bestIteration = 204\n",
      "Shrink model to first 205 iterations.\n"
     ]
    },
    {
     "name": "stderr",
     "output_type": "stream",
     "text": [
      "Default metric period is 5 because AUC is/are not implemented for GPU\n"
     ]
    },
    {
     "name": "stdout",
     "output_type": "stream",
     "text": [
      "0:\ttest: 0.9969787\tbest: 0.9969787 (0)\ttotal: 92.4ms\tremaining: 15m 24s\n",
      "100:\ttest: 0.9999172\tbest: 0.9999172 (99)\ttotal: 6.55s\tremaining: 10m 41s\n",
      "200:\ttest: 0.9999287\tbest: 0.9999287 (200)\ttotal: 12.9s\tremaining: 10m 30s\n",
      "300:\ttest: 0.9999329\tbest: 0.9999331 (293)\ttotal: 19.2s\tremaining: 10m 19s\n",
      "400:\ttest: 0.9999354\tbest: 0.9999356 (391)\ttotal: 25.6s\tremaining: 10m 13s\n",
      "bestTest = 0.9999360442\n",
      "bestIteration = 440\n",
      "Shrink model to first 441 iterations.\n"
     ]
    },
    {
     "name": "stderr",
     "output_type": "stream",
     "text": [
      "Default metric period is 5 because AUC is/are not implemented for GPU\n"
     ]
    },
    {
     "name": "stdout",
     "output_type": "stream",
     "text": [
      "0:\ttest: 0.9969182\tbest: 0.9969182 (0)\ttotal: 136ms\tremaining: 22m 42s\n",
      "100:\ttest: 0.9999126\tbest: 0.9999129 (99)\ttotal: 6.71s\tremaining: 10m 58s\n",
      "200:\ttest: 0.9999202\tbest: 0.9999202 (200)\ttotal: 13s\tremaining: 10m 35s\n",
      "bestTest = 0.9999207258\n",
      "bestIteration = 218\n",
      "Shrink model to first 219 iterations.\n"
     ]
    },
    {
     "name": "stderr",
     "output_type": "stream",
     "text": [
      "Default metric period is 5 because AUC is/are not implemented for GPU\n"
     ]
    },
    {
     "name": "stdout",
     "output_type": "stream",
     "text": [
      "0:\ttest: 0.9971951\tbest: 0.9971951 (0)\ttotal: 104ms\tremaining: 17m 17s\n",
      "100:\ttest: 0.9999188\tbest: 0.9999188 (99)\ttotal: 6.63s\tremaining: 10m 49s\n",
      "200:\ttest: 0.9999319\tbest: 0.9999319 (199)\ttotal: 12.9s\tremaining: 10m 27s\n",
      "300:\ttest: 0.9999334\tbest: 0.9999340 (261)\ttotal: 19.2s\tremaining: 10m 19s\n",
      "bestTest = 0.9999339581\n",
      "bestIteration = 261\n",
      "Shrink model to first 262 iterations.\n"
     ]
    },
    {
     "name": "stderr",
     "output_type": "stream",
     "text": [
      "Default metric period is 5 because AUC is/are not implemented for GPU\n"
     ]
    },
    {
     "name": "stdout",
     "output_type": "stream",
     "text": [
      "0:\ttest: 0.9972109\tbest: 0.9972109 (0)\ttotal: 161ms\tremaining: 26m 51s\n",
      "100:\ttest: 0.9999244\tbest: 0.9999244 (100)\ttotal: 6.74s\tremaining: 11m\n",
      "200:\ttest: 0.9999324\tbest: 0.9999333 (183)\ttotal: 13.3s\tremaining: 10m 48s\n",
      "300:\ttest: 0.9999343\tbest: 0.9999344 (285)\ttotal: 19.8s\tremaining: 10m 38s\n",
      "bestTest = 0.9999348521\n",
      "bestIteration = 317\n",
      "Shrink model to first 318 iterations.\n",
      "train auc score = 0.9999903732838646\n",
      "test auc score = 0.9999288335969823\n"
     ]
    },
    {
     "name": "stderr",
     "output_type": "stream",
     "text": [
      "\u001b[32m[I 2023-01-13 13:09:36,498]\u001b[0m Trial 13 finished with value: 0.9999288335969823 and parameters: {'depth': 9, 'border_count': 63, 'min_data_in_leaf': 6768, 'l2_leaf_reg': 0.2528577626085262}. Best is trial 12 with value: 0.9999359335196024.\u001b[0m\n",
      "Default metric period is 5 because AUC is/are not implemented for GPU\n"
     ]
    },
    {
     "name": "stdout",
     "output_type": "stream",
     "text": [
      "0:\ttest: 0.9986922\tbest: 0.9986922 (0)\ttotal: 111ms\tremaining: 18m 34s\n",
      "100:\ttest: 0.9999164\tbest: 0.9999164 (100)\ttotal: 10.5s\tremaining: 17m 7s\n",
      "200:\ttest: 0.9999245\tbest: 0.9999245 (199)\ttotal: 20.6s\tremaining: 16m 42s\n",
      "300:\ttest: 0.9999278\tbest: 0.9999278 (300)\ttotal: 30.9s\tremaining: 16m 34s\n",
      "bestTest = 0.9999278188\n",
      "bestIteration = 308\n",
      "Shrink model to first 309 iterations.\n"
     ]
    },
    {
     "name": "stderr",
     "output_type": "stream",
     "text": [
      "Default metric period is 5 because AUC is/are not implemented for GPU\n"
     ]
    },
    {
     "name": "stdout",
     "output_type": "stream",
     "text": [
      "0:\ttest: 0.9986269\tbest: 0.9986269 (0)\ttotal: 105ms\tremaining: 17m 32s\n",
      "100:\ttest: 0.9999316\tbest: 0.9999316 (99)\ttotal: 10.4s\tremaining: 17m\n",
      "200:\ttest: 0.9999400\tbest: 0.9999401 (191)\ttotal: 20.6s\tremaining: 16m 43s\n",
      "bestTest = 0.9999400973\n",
      "bestIteration = 191\n",
      "Shrink model to first 192 iterations.\n"
     ]
    },
    {
     "name": "stderr",
     "output_type": "stream",
     "text": [
      "Default metric period is 5 because AUC is/are not implemented for GPU\n"
     ]
    },
    {
     "name": "stdout",
     "output_type": "stream",
     "text": [
      "0:\ttest: 0.9987568\tbest: 0.9987568 (0)\ttotal: 106ms\tremaining: 17m 42s\n",
      "100:\ttest: 0.9999218\tbest: 0.9999225 (93)\ttotal: 10.5s\tremaining: 17m 7s\n",
      "200:\ttest: 0.9999287\tbest: 0.9999287 (200)\ttotal: 20.7s\tremaining: 16m 50s\n",
      "300:\ttest: 0.9999306\tbest: 0.9999311 (276)\ttotal: 31s\tremaining: 16m 39s\n",
      "bestTest = 0.999931097\n",
      "bestIteration = 276\n",
      "Shrink model to first 277 iterations.\n"
     ]
    },
    {
     "name": "stderr",
     "output_type": "stream",
     "text": [
      "Default metric period is 5 because AUC is/are not implemented for GPU\n"
     ]
    },
    {
     "name": "stdout",
     "output_type": "stream",
     "text": [
      "0:\ttest: 0.9988662\tbest: 0.9988662 (0)\ttotal: 213ms\tremaining: 35m 31s\n",
      "100:\ttest: 0.9999195\tbest: 0.9999195 (100)\ttotal: 10.5s\tremaining: 17m 9s\n",
      "200:\ttest: 0.9999294\tbest: 0.9999300 (196)\ttotal: 20.8s\tremaining: 16m 56s\n",
      "300:\ttest: 0.9999335\tbest: 0.9999335 (298)\ttotal: 31s\tremaining: 16m 39s\n",
      "bestTest = 0.9999347329\n",
      "bestIteration = 333\n",
      "Shrink model to first 334 iterations.\n"
     ]
    },
    {
     "name": "stderr",
     "output_type": "stream",
     "text": [
      "Default metric period is 5 because AUC is/are not implemented for GPU\n"
     ]
    },
    {
     "name": "stdout",
     "output_type": "stream",
     "text": [
      "0:\ttest: 0.9988723\tbest: 0.9988723 (0)\ttotal: 194ms\tremaining: 32m 19s\n",
      "100:\ttest: 0.9999269\tbest: 0.9999277 (99)\ttotal: 10.6s\tremaining: 17m 19s\n",
      "200:\ttest: 0.9999281\tbest: 0.9999285 (176)\ttotal: 20.9s\tremaining: 17m\n",
      "bestTest = 0.9999297261\n",
      "bestIteration = 217\n",
      "Shrink model to first 218 iterations.\n",
      "train auc score = 0.9999972780184262\n",
      "test auc score = 0.9999326515429919\n"
     ]
    },
    {
     "name": "stderr",
     "output_type": "stream",
     "text": [
      "\u001b[32m[I 2023-01-13 13:12:33,336]\u001b[0m Trial 14 finished with value: 0.9999326515429919 and parameters: {'depth': 11, 'border_count': 142, 'min_data_in_leaf': 6666, 'l2_leaf_reg': 0.34194499895082187}. Best is trial 12 with value: 0.9999359335196024.\u001b[0m\n",
      "Default metric period is 5 because AUC is/are not implemented for GPU\n"
     ]
    },
    {
     "name": "stdout",
     "output_type": "stream",
     "text": [
      "0:\ttest: 0.9986574\tbest: 0.9986574 (0)\ttotal: 102ms\tremaining: 17m 3s\n",
      "100:\ttest: 0.9999092\tbest: 0.9999099 (99)\ttotal: 10.1s\tremaining: 16m 26s\n",
      "200:\ttest: 0.9999192\tbest: 0.9999194 (197)\ttotal: 20s\tremaining: 16m 13s\n",
      "300:\ttest: 0.9999228\tbest: 0.9999230 (298)\ttotal: 29.8s\tremaining: 16m 1s\n",
      "bestTest = 0.9999238253\n",
      "bestIteration = 318\n",
      "Shrink model to first 319 iterations.\n"
     ]
    },
    {
     "name": "stderr",
     "output_type": "stream",
     "text": [
      "Default metric period is 5 because AUC is/are not implemented for GPU\n"
     ]
    },
    {
     "name": "stdout",
     "output_type": "stream",
     "text": [
      "0:\ttest: 0.9984462\tbest: 0.9984462 (0)\ttotal: 95.2ms\tremaining: 15m 51s\n",
      "100:\ttest: 0.9999278\tbest: 0.9999278 (100)\ttotal: 10.1s\tremaining: 16m 30s\n",
      "200:\ttest: 0.9999350\tbest: 0.9999352 (198)\ttotal: 19.9s\tremaining: 16m 12s\n",
      "300:\ttest: 0.9999351\tbest: 0.9999365 (260)\ttotal: 29.8s\tremaining: 16m\n",
      "bestTest = 0.9999365211\n",
      "bestIteration = 260\n",
      "Shrink model to first 261 iterations.\n"
     ]
    },
    {
     "name": "stderr",
     "output_type": "stream",
     "text": [
      "Default metric period is 5 because AUC is/are not implemented for GPU\n"
     ]
    },
    {
     "name": "stdout",
     "output_type": "stream",
     "text": [
      "0:\ttest: 0.9983834\tbest: 0.9983834 (0)\ttotal: 211ms\tremaining: 35m 9s\n",
      "100:\ttest: 0.9999163\tbest: 0.9999163 (100)\ttotal: 10.2s\tremaining: 16m 35s\n",
      "200:\ttest: 0.9999245\tbest: 0.9999245 (198)\ttotal: 20.1s\tremaining: 16m 19s\n",
      "300:\ttest: 0.9999272\tbest: 0.9999273 (278)\ttotal: 30s\tremaining: 16m 5s\n",
      "400:\ttest: 0.9999279\tbest: 0.9999288 (376)\ttotal: 39.8s\tremaining: 15m 51s\n",
      "bestTest = 0.9999288321\n",
      "bestIteration = 376\n",
      "Shrink model to first 377 iterations.\n"
     ]
    },
    {
     "name": "stderr",
     "output_type": "stream",
     "text": [
      "Default metric period is 5 because AUC is/are not implemented for GPU\n"
     ]
    },
    {
     "name": "stdout",
     "output_type": "stream",
     "text": [
      "0:\ttest: 0.9988531\tbest: 0.9988531 (0)\ttotal: 99.1ms\tremaining: 16m 30s\n",
      "100:\ttest: 0.9999272\tbest: 0.9999275 (99)\ttotal: 10.1s\tremaining: 16m 29s\n",
      "200:\ttest: 0.9999306\tbest: 0.9999318 (167)\ttotal: 20s\tremaining: 16m 16s\n",
      "bestTest = 0.9999317527\n",
      "bestIteration = 167\n",
      "Shrink model to first 168 iterations.\n"
     ]
    },
    {
     "name": "stderr",
     "output_type": "stream",
     "text": [
      "Default metric period is 5 because AUC is/are not implemented for GPU\n"
     ]
    },
    {
     "name": "stdout",
     "output_type": "stream",
     "text": [
      "0:\ttest: 0.9986690\tbest: 0.9986690 (0)\ttotal: 235ms\tremaining: 39m 7s\n",
      "100:\ttest: 0.9999309\tbest: 0.9999317 (99)\ttotal: 10.2s\tremaining: 16m 38s\n",
      "bestTest = 0.9999316633\n",
      "bestIteration = 99\n",
      "Shrink model to first 100 iterations.\n",
      "train auc score = 0.9999942942478268\n",
      "test auc score = 0.9999305268773518\n"
     ]
    },
    {
     "name": "stderr",
     "output_type": "stream",
     "text": [
      "\u001b[32m[I 2023-01-13 13:15:13,438]\u001b[0m Trial 15 finished with value: 0.9999305268773518 and parameters: {'depth': 11, 'border_count': 80, 'min_data_in_leaf': 8073, 'l2_leaf_reg': 0.22814365346274776}. Best is trial 12 with value: 0.9999359335196024.\u001b[0m\n",
      "Default metric period is 5 because AUC is/are not implemented for GPU\n"
     ]
    },
    {
     "name": "stdout",
     "output_type": "stream",
     "text": [
      "0:\ttest: 0.9986413\tbest: 0.9986413 (0)\ttotal: 208ms\tremaining: 34m 35s\n",
      "100:\ttest: 0.9999129\tbest: 0.9999129 (100)\ttotal: 8.34s\tremaining: 13m 37s\n",
      "200:\ttest: 0.9999285\tbest: 0.9999285 (199)\ttotal: 16.4s\tremaining: 13m 17s\n",
      "300:\ttest: 0.9999335\tbest: 0.9999335 (300)\ttotal: 24.4s\tremaining: 13m 6s\n",
      "bestTest = 0.9999349117\n",
      "bestIteration = 349\n",
      "Shrink model to first 350 iterations.\n"
     ]
    },
    {
     "name": "stderr",
     "output_type": "stream",
     "text": [
      "Default metric period is 5 because AUC is/are not implemented for GPU\n"
     ]
    },
    {
     "name": "stdout",
     "output_type": "stream",
     "text": [
      "0:\ttest: 0.9985590\tbest: 0.9985590 (0)\ttotal: 91.8ms\tremaining: 15m 18s\n",
      "100:\ttest: 0.9999253\tbest: 0.9999253 (100)\ttotal: 8.33s\tremaining: 13m 36s\n",
      "200:\ttest: 0.9999347\tbest: 0.9999350 (197)\ttotal: 16.3s\tremaining: 13m 15s\n",
      "300:\ttest: 0.9999388\tbest: 0.9999390 (287)\ttotal: 24.4s\tremaining: 13m 7s\n",
      "bestTest = 0.9999393225\n",
      "bestIteration = 307\n",
      "Shrink model to first 308 iterations.\n"
     ]
    },
    {
     "name": "stderr",
     "output_type": "stream",
     "text": [
      "Default metric period is 5 because AUC is/are not implemented for GPU\n"
     ]
    },
    {
     "name": "stdout",
     "output_type": "stream",
     "text": [
      "0:\ttest: 0.9987736\tbest: 0.9987736 (0)\ttotal: 88.1ms\tremaining: 14m 40s\n",
      "100:\ttest: 0.9999188\tbest: 0.9999188 (100)\ttotal: 8.24s\tremaining: 13m 28s\n",
      "200:\ttest: 0.9999288\tbest: 0.9999288 (200)\ttotal: 16.3s\tremaining: 13m 15s\n",
      "300:\ttest: 0.9999343\tbest: 0.9999343 (299)\ttotal: 24.4s\tremaining: 13m 5s\n",
      "400:\ttest: 0.9999371\tbest: 0.9999371 (400)\ttotal: 32.4s\tremaining: 12m 56s\n",
      "bestTest = 0.9999371767\n",
      "bestIteration = 408\n",
      "Shrink model to first 409 iterations.\n"
     ]
    },
    {
     "name": "stderr",
     "output_type": "stream",
     "text": [
      "Default metric period is 5 because AUC is/are not implemented for GPU\n"
     ]
    },
    {
     "name": "stdout",
     "output_type": "stream",
     "text": [
      "0:\ttest: 0.9988322\tbest: 0.9988322 (0)\ttotal: 217ms\tremaining: 36m 5s\n",
      "100:\ttest: 0.9999237\tbest: 0.9999237 (100)\ttotal: 8.53s\tremaining: 13m 55s\n",
      "200:\ttest: 0.9999337\tbest: 0.9999341 (190)\ttotal: 19.4s\tremaining: 15m 47s\n",
      "300:\ttest: 0.9999378\tbest: 0.9999378 (300)\ttotal: 27.3s\tremaining: 14m 39s\n",
      "400:\ttest: 0.9999404\tbest: 0.9999407 (397)\ttotal: 35.4s\tremaining: 14m 6s\n",
      "bestTest = 0.9999406934\n",
      "bestIteration = 397\n",
      "Shrink model to first 398 iterations.\n"
     ]
    },
    {
     "name": "stderr",
     "output_type": "stream",
     "text": [
      "Default metric period is 5 because AUC is/are not implemented for GPU\n"
     ]
    },
    {
     "name": "stdout",
     "output_type": "stream",
     "text": [
      "0:\ttest: 0.9988567\tbest: 0.9988567 (0)\ttotal: 85.3ms\tremaining: 14m 12s\n"
     ]
    }
   ],
   "source": [
    "date_log = datetime.now().strftime(\"%Y_%m_%d_%H_%M\")\n",
    "study = optuna.create_study(direction=\"maximize\", study_name=f\"parameter_tuning_{config.country}_{date_log}\")\n",
    "func = lambda trial: objective(trial, df_pairs)\n",
    "study.optimize(func, n_trials=100)\n",
    "print('Number of finished trials:', len(study.trials))\n",
    "print('Best trial:', study.best_trial.params)\n"
   ]
  },
  {
   "cell_type": "code",
   "execution_count": 12,
   "metadata": {},
   "outputs": [],
   "source": [
    "study.trials_dataframe().to_csv(\"/workspace/catboost_trials.csv\",index=None)"
   ]
  },
  {
   "cell_type": "code",
   "execution_count": null,
   "metadata": {},
   "outputs": [],
   "source": []
  }
 ],
 "metadata": {
  "kernelspec": {
   "display_name": "rapids",
   "language": "python",
   "name": "python3"
  },
  "language_info": {
   "codemirror_mode": {
    "name": "ipython",
    "version": 3
   },
   "file_extension": ".py",
   "mimetype": "text/x-python",
   "name": "python",
   "nbconvert_exporter": "python",
   "pygments_lexer": "ipython3",
   "version": "3.8.13"
  },
  "orig_nbformat": 4,
  "vscode": {
   "interpreter": {
    "hash": "f708a36acfaef0acf74ccd43dfb58100269bf08fb79032a1e0a6f35bd9856f51"
   }
  }
 },
 "nbformat": 4,
 "nbformat_minor": 2
}
