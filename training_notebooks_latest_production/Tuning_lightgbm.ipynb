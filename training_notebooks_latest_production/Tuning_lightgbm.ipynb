{
 "cells": [
  {
   "cell_type": "code",
   "execution_count": 1,
   "metadata": {},
   "outputs": [],
   "source": [
    "import pandas as pd\n",
    "import numpy as np\n",
    "from xgboost import XGBClassifier, callback\n",
    "from optuna.integration import XGBoostPruningCallback\n",
    "import mlflow\n",
    "from utils.metrics import Metrics_df,print_metrics, precision, recall, f1\n"
   ]
  },
  {
   "cell_type": "code",
   "execution_count": 2,
   "metadata": {},
   "outputs": [],
   "source": [
    "\n",
    "\n",
    "import pandas as pd\n",
    "from sklearn.metrics import roc_auc_score\n",
    "from Config import config\n",
    "import warnings\n",
    "warnings.filterwarnings(\"ignore\")\n",
    "import optuna  # pip install optuna\n",
    "from sklearn.model_selection import StratifiedKFold\n",
    "from sklearn.model_selection import GroupKFold\n",
    "import numpy as np\n",
    "from sklearn.model_selection import train_test_split\n",
    "from datetime import datetime\n",
    "import gc\n",
    "import pickle\n",
    "import tempfile\n",
    "from optuna.integration.mlflow import MLflowCallback\n"
   ]
  },
  {
   "cell_type": "code",
   "execution_count": 3,
   "metadata": {},
   "outputs": [],
   "source": [
    "from lightgbm.basic import LightGBMError\n",
    "from lightgbm import LGBMClassifier, early_stopping, log_evaluation, Booster\n",
    "from sklearn.metrics import roc_auc_score\n",
    "import os"
   ]
  },
  {
   "cell_type": "markdown",
   "metadata": {},
   "source": [
    "# Loading data and group split"
   ]
  },
  {
   "cell_type": "code",
   "execution_count": 4,
   "metadata": {},
   "outputs": [],
   "source": [
    "# df_pairs = pd.read_csv(\"/workspace/Training_data/training/Full_training_data.csv\")\n",
    "# df_pairs = df_pairs.sample(frac=1).reset_index(drop=True)\n",
    "# kf = GroupKFold(n_splits=5)\n",
    "# for i, (trn_idx, val_idx) in enumerate(kf.split(df_pairs, df_pairs[\"placeId1\"], df_pairs[\"placeId1\"])):\n",
    "#     df_pairs.loc[val_idx, \"fold\"] = i\n",
    "# df_pairs[\"fold\"].value_counts()\n",
    "# df_pairs.to_csv(\"/workspace/Training_data/training/Full_training_data_fold.csv\",index=None)"
   ]
  },
  {
   "cell_type": "markdown",
   "metadata": {},
   "source": [
    "# Loading data"
   ]
  },
  {
   "cell_type": "code",
   "execution_count": 5,
   "metadata": {},
   "outputs": [],
   "source": [
    "df_pairs = pd.read_csv(\"/workspace/Training_data/training/Full_training_data_fold_v4_without_categories.csv\")"
   ]
  },
  {
   "cell_type": "code",
   "execution_count": 6,
   "metadata": {},
   "outputs": [],
   "source": [
    "features = ['similarity', 'haversine', 'name_davies',\n",
    "       'name_leven', 'name_dice', 'name_jaro', 'name_set_ratio',\n",
    "       'street_davies', 'street_leven', 'street_jaro', 'email_davies',\n",
    "       'email_leven', 'email_jaro', 'url_davies', 'url_leven', 'url_jaro',\n",
    "       'brands_davies', 'brand_leven', 'brand_jaro', 'phone_lcs',\n",
    "       'subcat_WRatio', 'subcat_ratio', 'subcat_token_set_ratio',\n",
    "       'Is_direction_match_0', 'Is_direction_match_1', 'Is_direction_match_2',\n",
    "       'Is_house_match_0', 'Is_house_match_1', 'Is_house_match_2',\n",
    "       'Is_category_match_0', 'Is_category_match_1', 'Is_subcategory_match_0',\n",
    "       'Is_subcategory_match_1', 'Is_subcategory_match_2', 'Is_brand_match_0',\n",
    "       'Is_brand_match_1', 'Is_brand_match_2', 'Is_brand_match_3',\n",
    "       'Is_related_cat_0', 'Is_related_cat_1', 'Is_name_number_match_0',\n",
    "       'Is_name_number_match_1', 'Is_name_number_match_2',\n",
    "       'Is_name_number_match_3', 'is_phone_match_1', 'is_phone_match_2',\n",
    "       'is_phone_match_3', 'is_phone_match_4', 'Is_email_match_0',\n",
    "       'Is_email_match_1', 'Is_email_match_2', 'Is_url_match_0',\n",
    "       'Is_url_match_1', 'Is_url_match_2']"
   ]
  },
  {
   "cell_type": "code",
   "execution_count": 7,
   "metadata": {},
   "outputs": [],
   "source": [
    "# from optuna.integration import LightGBMPruningCallback\n",
    "\n",
    "# def objective(trial, X_train,X_test,Y_train,Y_test):\n",
    "#     param_grid = {\n",
    "#         \"learning_rate\": trial.suggest_float(\"learning_rate\", 0.01, 0.5,step=0.1),\n",
    "#         \"num_leaves\": trial.suggest_int(\"num_leaves\", 20, 3000, step=20),\n",
    "#         \"min_child_samples\": trial.suggest_int(\"min_child_samples\", 200, 10000, step=50),\n",
    "#         \"min_child_weight\": trial.suggest_float(\"min_child_weight\", 0.01, 1.0,step=0.01),\n",
    "#         \"subsample\": trial.suggest_float(\"subsample\", 0.6, 1.0,step=0.1),\n",
    "#         \"colsample_bytree\": trial.suggest_float(\"colsample_bytree\", 0.4, 1.0,step=0.1),\n",
    "#         \"reg_alpha\": trial.suggest_int(\"reg_alpha\", 1, 100, step=1),\n",
    "#         \"reg_lambda\": trial.suggest_int(\"reg_lambda\", 1, 100, step=1),\n",
    "#         \"min_split_gain\": trial.suggest_float(\"min_split_gain\", 0, 15),\n",
    "#         \"path_smooth\": trial.suggest_float(\"path_smooth\", 0.0, 1.0,step=0.1)\n",
    "#     }\n",
    "    \n",
    "#     callbacks = [log_evaluation(100),]\n",
    "#     callbacks += [early_stopping(100)]\n",
    "#     callbacks += [LightGBMPruningCallback(trial, \"auc\")]\n",
    "\n",
    "        \n",
    "#     model = LGBMClassifier(objective=\"binary\",n_estimators=10000, **param_grid,n_jobs=-1)\n",
    "#     model.fit(\n",
    "#             X_train,\n",
    "#             Y_train,\n",
    "#             eval_set=[(X_test, Y_test)],\n",
    "#             eval_metric=\"auc\",\n",
    "#             callbacks=callbacks\n",
    "#         )\n",
    "#     preds = model.predict_proba(X_test)[:, 1]\n",
    "\n",
    "\n",
    "#     return roc_auc_score(Y_test, preds)"
   ]
  },
  {
   "cell_type": "code",
   "execution_count": 8,
   "metadata": {},
   "outputs": [],
   "source": [
    "from optuna.integration import LightGBMPruningCallback\n",
    "\n",
    "def objective(trial, df_pairs):\n",
    "    param_grid = {\n",
    "        \"learning_rate\": trial.suggest_float(\"learning_rate\", 0.01, 0.3),\n",
    "        \"num_leaves\": trial.suggest_int(\"num_leaves\", 20, 3000, step=20),\n",
    "        \"max_depth\": trial.suggest_int(\"max_depth\", 3, 12),\n",
    "        \"min_child_samples\": trial.suggest_int(\"min_child_samples\", 200, 10000, step=100),\n",
    "        \"max_bin\": trial.suggest_int(\"max_bin\", 100, 300),\n",
    "        \"reg_alpha\": trial.suggest_int(\"reg_alpha\", 0, 100, step=5),\n",
    "        \"reg_lambda\": trial.suggest_int(\"reg_lambda\", 0, 100, step=5),\n",
    "        \"min_split_gain\": trial.suggest_float(\"min_split_gain\", 0, 15),\n",
    "        \"subsample\": trial.suggest_float(\"subsample\", 0.2, 0.95, step=0.1),\n",
    "        \"subsample_freq\": trial.suggest_categorical(\"subsample_freq\", [1]),\n",
    "        \"colsample_bytree\": trial.suggest_float(\"colsample_bytree\", 0.2, 0.95, step=0.1),\n",
    "        \"path_smooth\": trial.suggest_float(\"path_smooth\", 0.0, 1.0,step=0.1)\n",
    "    }\n",
    "    \n",
    "    callbacks = [log_evaluation(100),]\n",
    "    callbacks += [early_stopping(100)]\n",
    "    callbacks += [LightGBMPruningCallback(trial, \"auc\")]\n",
    "\n",
    "    cv_scores = np.empty(5)\n",
    "    cv_scores_train = np.empty(5)\n",
    "    for fold in [0,1,2,3,4]:\n",
    "        X_train = df_pairs[df_pairs[\"fold\"]!=fold]\n",
    "        X_test = df_pairs[df_pairs[\"fold\"]==fold]\n",
    "        \n",
    "        model = LGBMClassifier(objective=\"binary\",n_estimators=10000, **param_grid,n_jobs=-1)\n",
    "        model.fit(\n",
    "            X_train[features],\n",
    "            X_train[\"duplicate_flag\"],\n",
    "            eval_set=[(X_test[features], X_test[\"duplicate_flag\"])],\n",
    "            eval_metric=\"auc\",\n",
    "            callbacks=callbacks\n",
    "        )\n",
    "        \n",
    "        preds = model.predict_proba(X_test[features])[:, 1]\n",
    "        preds_train = model.predict_proba(X_train[features])[:, 1]\n",
    "        cv_scores[fold] = roc_auc_score(X_test[\"duplicate_flag\"], preds)\n",
    "        cv_scores_train[fold] = roc_auc_score(X_train[\"duplicate_flag\"], preds_train)\n",
    "    print(f\"train auc score = {np.mean(cv_scores_train)}\")\n",
    "    print(f\"test auc score = {np.mean(cv_scores)}\")\n",
    "    mlflow.log_metric('train_auc',np.mean(cv_scores_train))\n",
    "    mlflow.log_metric('test_auc',np.mean(cv_scores))\n",
    "    return np.mean(cv_scores)"
   ]
  },
  {
   "cell_type": "code",
   "execution_count": 9,
   "metadata": {},
   "outputs": [
    {
     "name": "stderr",
     "output_type": "stream",
     "text": [
      "\u001b[32m[I 2023-01-13 10:10:05,511]\u001b[0m A new study created in memory with name: parameter_tuning_NZL_2023_01_13_10_10\u001b[0m\n"
     ]
    },
    {
     "name": "stdout",
     "output_type": "stream",
     "text": [
      "Training until validation scores don't improve for 100 rounds\n",
      "[100]\tvalid_0's auc: 0.999704\tvalid_0's binary_logloss: 0.0124396\n",
      "[200]\tvalid_0's auc: 0.999712\tvalid_0's binary_logloss: 0.012283\n",
      "[300]\tvalid_0's auc: 0.999715\tvalid_0's binary_logloss: 0.0121891\n",
      "[400]\tvalid_0's auc: 0.999717\tvalid_0's binary_logloss: 0.0121448\n",
      "[500]\tvalid_0's auc: 0.99972\tvalid_0's binary_logloss: 0.012066\n",
      "Early stopping, best iteration is:\n",
      "[485]\tvalid_0's auc: 0.99972\tvalid_0's binary_logloss: 0.012066\n",
      "[100]\tvalid_0's auc: 0.999739\tvalid_0's binary_logloss: 0.0115226\n",
      "[200]\tvalid_0's auc: 0.999746\tvalid_0's binary_logloss: 0.0113889\n",
      "[300]\tvalid_0's auc: 0.999748\tvalid_0's binary_logloss: 0.0113383\n",
      "[400]\tvalid_0's auc: 0.999751\tvalid_0's binary_logloss: 0.0112854\n",
      "[500]\tvalid_0's auc: 0.999752\tvalid_0's binary_logloss: 0.0112717\n",
      "[600]\tvalid_0's auc: 0.999751\tvalid_0's binary_logloss: 0.0112537\n",
      "[700]\tvalid_0's auc: 0.999751\tvalid_0's binary_logloss: 0.0112382\n",
      "Early stopping, best iteration is:\n",
      "[614]\tvalid_0's auc: 0.999752\tvalid_0's binary_logloss: 0.0112475\n",
      "[100]\tvalid_0's auc: 0.999742\tvalid_0's binary_logloss: 0.012362\n",
      "[200]\tvalid_0's auc: 0.999748\tvalid_0's binary_logloss: 0.0121532\n",
      "[300]\tvalid_0's auc: 0.999751\tvalid_0's binary_logloss: 0.0120483\n",
      "[400]\tvalid_0's auc: 0.999752\tvalid_0's binary_logloss: 0.0120121\n",
      "[500]\tvalid_0's auc: 0.999754\tvalid_0's binary_logloss: 0.0119732\n",
      "[600]\tvalid_0's auc: 0.999754\tvalid_0's binary_logloss: 0.0119614\n",
      "[700]\tvalid_0's auc: 0.999756\tvalid_0's binary_logloss: 0.0119257\n",
      "[800]\tvalid_0's auc: 0.999757\tvalid_0's binary_logloss: 0.0119088\n",
      "Early stopping, best iteration is:\n",
      "[705]\tvalid_0's auc: 0.999751\tvalid_0's binary_logloss: 0.0112361\n",
      "[100]\tvalid_0's auc: 0.999772\tvalid_0's binary_logloss: 0.0118348\n",
      "[200]\tvalid_0's auc: 0.999778\tvalid_0's binary_logloss: 0.0116318\n",
      "[300]\tvalid_0's auc: 0.99978\tvalid_0's binary_logloss: 0.0115806\n",
      "[400]\tvalid_0's auc: 0.99978\tvalid_0's binary_logloss: 0.0115456\n",
      "[500]\tvalid_0's auc: 0.999783\tvalid_0's binary_logloss: 0.0114991\n",
      "Early stopping, best iteration is:\n",
      "[468]\tvalid_0's auc: 0.999783\tvalid_0's binary_logloss: 0.0114991\n",
      "[100]\tvalid_0's auc: 0.9998\tvalid_0's binary_logloss: 0.0119921\n",
      "[200]\tvalid_0's auc: 0.999802\tvalid_0's binary_logloss: 0.0118461\n",
      "[300]\tvalid_0's auc: 0.999804\tvalid_0's binary_logloss: 0.0118166\n",
      "[400]\tvalid_0's auc: 0.999804\tvalid_0's binary_logloss: 0.0117737\n",
      "[500]\tvalid_0's auc: 0.999805\tvalid_0's binary_logloss: 0.0117182\n",
      "[600]\tvalid_0's auc: 0.999806\tvalid_0's binary_logloss: 0.0117005\n",
      "[700]\tvalid_0's auc: 0.999807\tvalid_0's binary_logloss: 0.0116695\n",
      "[800]\tvalid_0's auc: 0.999806\tvalid_0's binary_logloss: 0.0116451\n",
      "Early stopping, best iteration is:\n",
      "[705]\tvalid_0's auc: 0.999751\tvalid_0's binary_logloss: 0.0112361\n",
      "train auc score = 0.9997735123934743\n",
      "test auc score = 0.9997633156017727\n"
     ]
    },
    {
     "name": "stderr",
     "output_type": "stream",
     "text": [
      "\u001b[32m[I 2023-01-13 10:15:04,237]\u001b[0m Trial 0 finished with value: 0.9997633156017727 and parameters: {'learning_rate': 0.1521191700157443, 'num_leaves': 1220, 'max_depth': 11, 'min_child_samples': 900, 'max_bin': 164, 'reg_alpha': 40, 'reg_lambda': 75, 'min_split_gain': 3.82491953699631, 'subsample': 0.30000000000000004, 'subsample_freq': 1, 'colsample_bytree': 0.6000000000000001, 'path_smooth': 0.8}. Best is trial 0 with value: 0.9997633156017727.\u001b[0m\n",
      "2023/01/13 10:15:04 INFO mlflow.tracking.fluent: Experiment with name 'parameter_tuning_NZL_2023_01_13_10_10' does not exist. Creating a new experiment.\n"
     ]
    },
    {
     "name": "stdout",
     "output_type": "stream",
     "text": [
      "Training until validation scores don't improve for 100 rounds\n",
      "[100]\tvalid_0's auc: 0.99975\tvalid_0's binary_logloss: 0.0126265\n",
      "[200]\tvalid_0's auc: 0.99976\tvalid_0's binary_logloss: 0.0121608\n",
      "[300]\tvalid_0's auc: 0.99976\tvalid_0's binary_logloss: 0.0120825\n",
      "[400]\tvalid_0's auc: 0.999763\tvalid_0's binary_logloss: 0.0120355\n",
      "[500]\tvalid_0's auc: 0.999763\tvalid_0's binary_logloss: 0.0120075\n",
      "Early stopping, best iteration is:\n",
      "[431]\tvalid_0's auc: 0.999764\tvalid_0's binary_logloss: 0.012016\n",
      "[100]\tvalid_0's auc: 0.999792\tvalid_0's binary_logloss: 0.0118814\n",
      "[200]\tvalid_0's auc: 0.999803\tvalid_0's binary_logloss: 0.0114033\n",
      "[300]\tvalid_0's auc: 0.999804\tvalid_0's binary_logloss: 0.0113433\n",
      "Early stopping, best iteration is:\n",
      "[293]\tvalid_0's auc: 0.999804\tvalid_0's binary_logloss: 0.0113433\n",
      "[100]\tvalid_0's auc: 0.999795\tvalid_0's binary_logloss: 0.0124035\n",
      "[200]\tvalid_0's auc: 0.999801\tvalid_0's binary_logloss: 0.0118964\n",
      "[300]\tvalid_0's auc: 0.999804\tvalid_0's binary_logloss: 0.0117935\n",
      "[400]\tvalid_0's auc: 0.999805\tvalid_0's binary_logloss: 0.0117318\n",
      "Early stopping, best iteration is:\n",
      "[383]\tvalid_0's auc: 0.999804\tvalid_0's binary_logloss: 0.0113299\n",
      "[100]\tvalid_0's auc: 0.999781\tvalid_0's binary_logloss: 0.012276\n",
      "[200]\tvalid_0's auc: 0.999791\tvalid_0's binary_logloss: 0.011831\n",
      "[300]\tvalid_0's auc: 0.999792\tvalid_0's binary_logloss: 0.0117769\n",
      "[400]\tvalid_0's auc: 0.999793\tvalid_0's binary_logloss: 0.0117405\n",
      "Early stopping, best iteration is:\n",
      "[383]\tvalid_0's auc: 0.999804\tvalid_0's binary_logloss: 0.0113299\n",
      "[100]\tvalid_0's auc: 0.99981\tvalid_0's binary_logloss: 0.0123184\n",
      "[200]\tvalid_0's auc: 0.99982\tvalid_0's binary_logloss: 0.0117724\n",
      "[300]\tvalid_0's auc: 0.999821\tvalid_0's binary_logloss: 0.0116956\n",
      "Early stopping, best iteration is:\n",
      "[285]\tvalid_0's auc: 0.999821\tvalid_0's binary_logloss: 0.0116964\n",
      "train auc score = 0.9998044968412241\n",
      "test auc score = 0.9997971727064285\n"
     ]
    },
    {
     "name": "stderr",
     "output_type": "stream",
     "text": [
      "\u001b[32m[I 2023-01-13 10:19:04,788]\u001b[0m Trial 1 finished with value: 0.9997971727064285 and parameters: {'learning_rate': 0.14005112634484984, 'num_leaves': 1720, 'max_depth': 7, 'min_child_samples': 9500, 'max_bin': 179, 'reg_alpha': 20, 'reg_lambda': 75, 'min_split_gain': 14.526008686053604, 'subsample': 0.5, 'subsample_freq': 1, 'colsample_bytree': 0.4, 'path_smooth': 0.7000000000000001}. Best is trial 1 with value: 0.9997971727064285.\u001b[0m\n"
     ]
    },
    {
     "name": "stdout",
     "output_type": "stream",
     "text": [
      "Training until validation scores don't improve for 100 rounds\n",
      "[100]\tvalid_0's auc: 0.999526\tvalid_0's binary_logloss: 0.0175883\n",
      "[200]\tvalid_0's auc: 0.999534\tvalid_0's binary_logloss: 0.0173051\n",
      "[300]\tvalid_0's auc: 0.999538\tvalid_0's binary_logloss: 0.0171458\n",
      "Early stopping, best iteration is:\n",
      "[260]\tvalid_0's auc: 0.99954\tvalid_0's binary_logloss: 0.0171653\n",
      "[100]\tvalid_0's auc: 0.999609\tvalid_0's binary_logloss: 0.0168736\n",
      "[200]\tvalid_0's auc: 0.999619\tvalid_0's binary_logloss: 0.0164529\n",
      "Early stopping, best iteration is:\n",
      "[168]\tvalid_0's auc: 0.99962\tvalid_0's binary_logloss: 0.016522\n",
      "[100]\tvalid_0's auc: 0.999654\tvalid_0's binary_logloss: 0.0171427\n",
      "[200]\tvalid_0's auc: 0.999656\tvalid_0's binary_logloss: 0.0167282\n",
      "Early stopping, best iteration is:\n",
      "[190]\tvalid_0's auc: 0.999656\tvalid_0's binary_logloss: 0.0167282\n",
      "[100]\tvalid_0's auc: 0.999637\tvalid_0's binary_logloss: 0.0172252\n",
      "[200]\tvalid_0's auc: 0.999643\tvalid_0's binary_logloss: 0.0168809\n",
      "Early stopping, best iteration is:\n",
      "[190]\tvalid_0's auc: 0.999656\tvalid_0's binary_logloss: 0.0167282\n",
      "[100]\tvalid_0's auc: 0.999678\tvalid_0's binary_logloss: 0.017173\n",
      "[200]\tvalid_0's auc: 0.999682\tvalid_0's binary_logloss: 0.0168905\n",
      "[300]\tvalid_0's auc: 0.999682\tvalid_0's binary_logloss: 0.0168332\n",
      "Early stopping, best iteration is:\n",
      "[228]\tvalid_0's auc: 0.999682\tvalid_0's binary_logloss: 0.0168461\n"
     ]
    },
    {
     "name": "stderr",
     "output_type": "stream",
     "text": [
      "\u001b[32m[I 2023-01-13 10:20:50,309]\u001b[0m Trial 2 finished with value: 0.9996283878354222 and parameters: {'learning_rate': 0.18244715615042237, 'num_leaves': 640, 'max_depth': 12, 'min_child_samples': 1700, 'max_bin': 155, 'reg_alpha': 70, 'reg_lambda': 80, 'min_split_gain': 8.04302920752409, 'subsample': 0.2, 'subsample_freq': 1, 'colsample_bytree': 0.30000000000000004, 'path_smooth': 0.1}. Best is trial 1 with value: 0.9997971727064285.\u001b[0m\n"
     ]
    },
    {
     "name": "stdout",
     "output_type": "stream",
     "text": [
      "train auc score = 0.9996358459353729\n",
      "test auc score = 0.9996283878354222\n",
      "Training until validation scores don't improve for 100 rounds\n",
      "[100]\tvalid_0's auc: 0.999806\tvalid_0's binary_logloss: 0.0135592\n",
      "[200]\tvalid_0's auc: 0.999852\tvalid_0's binary_logloss: 0.0103141\n",
      "[300]\tvalid_0's auc: 0.999863\tvalid_0's binary_logloss: 0.00947076\n",
      "[400]\tvalid_0's auc: 0.999866\tvalid_0's binary_logloss: 0.0092775\n",
      "[500]\tvalid_0's auc: 0.999867\tvalid_0's binary_logloss: 0.0092176\n",
      "[600]\tvalid_0's auc: 0.999867\tvalid_0's binary_logloss: 0.00917425\n",
      "[700]\tvalid_0's auc: 0.999867\tvalid_0's binary_logloss: 0.00915042\n",
      "[800]\tvalid_0's auc: 0.999868\tvalid_0's binary_logloss: 0.00914041\n",
      "[900]\tvalid_0's auc: 0.999868\tvalid_0's binary_logloss: 0.00912884\n",
      "[1000]\tvalid_0's auc: 0.999868\tvalid_0's binary_logloss: 0.00912071\n",
      "[1100]\tvalid_0's auc: 0.999868\tvalid_0's binary_logloss: 0.00911326\n",
      "[1200]\tvalid_0's auc: 0.999868\tvalid_0's binary_logloss: 0.00910463\n",
      "Early stopping, best iteration is:\n",
      "[1144]\tvalid_0's auc: 0.999869\tvalid_0's binary_logloss: 0.00910655\n",
      "[100]\tvalid_0's auc: 0.999815\tvalid_0's binary_logloss: 0.0129205\n",
      "[200]\tvalid_0's auc: 0.999864\tvalid_0's binary_logloss: 0.00989932\n",
      "[300]\tvalid_0's auc: 0.99988\tvalid_0's binary_logloss: 0.00904344\n",
      "[400]\tvalid_0's auc: 0.999883\tvalid_0's binary_logloss: 0.00888992\n",
      "[500]\tvalid_0's auc: 0.999885\tvalid_0's binary_logloss: 0.0088178\n",
      "[600]\tvalid_0's auc: 0.999886\tvalid_0's binary_logloss: 0.00878487\n",
      "[700]\tvalid_0's auc: 0.999886\tvalid_0's binary_logloss: 0.00877722\n",
      "[800]\tvalid_0's auc: 0.999886\tvalid_0's binary_logloss: 0.00874834\n",
      "[900]\tvalid_0's auc: 0.999887\tvalid_0's binary_logloss: 0.00873824\n",
      "[1000]\tvalid_0's auc: 0.999887\tvalid_0's binary_logloss: 0.00871632\n",
      "[1100]\tvalid_0's auc: 0.999887\tvalid_0's binary_logloss: 0.00871347\n",
      "[1200]\tvalid_0's auc: 0.999887\tvalid_0's binary_logloss: 0.00870393\n",
      "[1300]\tvalid_0's auc: 0.999888\tvalid_0's binary_logloss: 0.00869882\n",
      "[1400]\tvalid_0's auc: 0.999888\tvalid_0's binary_logloss: 0.00869153\n",
      "Early stopping, best iteration is:\n",
      "[1315]\tvalid_0's auc: 0.999888\tvalid_0's binary_logloss: 0.00869459\n",
      "[100]\tvalid_0's auc: 0.999834\tvalid_0's binary_logloss: 0.0130811\n",
      "[200]\tvalid_0's auc: 0.999881\tvalid_0's binary_logloss: 0.00984253\n",
      "[300]\tvalid_0's auc: 0.999889\tvalid_0's binary_logloss: 0.00901407\n",
      "[400]\tvalid_0's auc: 0.999891\tvalid_0's binary_logloss: 0.00884021\n",
      "[500]\tvalid_0's auc: 0.999891\tvalid_0's binary_logloss: 0.00878303\n",
      "Early stopping, best iteration is:\n",
      "[416]\tvalid_0's auc: 0.999891\tvalid_0's binary_logloss: 0.00882738\n",
      "[100]\tvalid_0's auc: 0.999801\tvalid_0's binary_logloss: 0.0132327\n",
      "[200]\tvalid_0's auc: 0.999848\tvalid_0's binary_logloss: 0.0101089\n",
      "[300]\tvalid_0's auc: 0.999862\tvalid_0's binary_logloss: 0.00923833\n",
      "[400]\tvalid_0's auc: 0.999865\tvalid_0's binary_logloss: 0.00909169\n",
      "[500]\tvalid_0's auc: 0.999865\tvalid_0's binary_logloss: 0.00902844\n",
      "Early stopping, best iteration is:\n",
      "[416]\tvalid_0's auc: 0.999891\tvalid_0's binary_logloss: 0.00882738\n",
      "[100]\tvalid_0's auc: 0.999845\tvalid_0's binary_logloss: 0.0129285\n",
      "[200]\tvalid_0's auc: 0.999884\tvalid_0's binary_logloss: 0.00988041\n",
      "[300]\tvalid_0's auc: 0.999896\tvalid_0's binary_logloss: 0.00894156\n",
      "[400]\tvalid_0's auc: 0.999899\tvalid_0's binary_logloss: 0.00877477\n",
      "[500]\tvalid_0's auc: 0.9999\tvalid_0's binary_logloss: 0.00868491\n",
      "[600]\tvalid_0's auc: 0.9999\tvalid_0's binary_logloss: 0.00866269\n",
      "[700]\tvalid_0's auc: 0.9999\tvalid_0's binary_logloss: 0.00863513\n",
      "[800]\tvalid_0's auc: 0.9999\tvalid_0's binary_logloss: 0.00862063\n",
      "Early stopping, best iteration is:\n",
      "[762]\tvalid_0's auc: 0.9999\tvalid_0's binary_logloss: 0.00862301\n",
      "train auc score = 0.9998971925829174\n",
      "test auc score = 0.9998825428991063\n"
     ]
    },
    {
     "name": "stderr",
     "output_type": "stream",
     "text": [
      "\u001b[32m[I 2023-01-13 10:26:25,134]\u001b[0m Trial 3 finished with value: 0.9998825428991063 and parameters: {'learning_rate': 0.10488972496870035, 'num_leaves': 100, 'max_depth': 10, 'min_child_samples': 1100, 'max_bin': 285, 'reg_alpha': 15, 'reg_lambda': 10, 'min_split_gain': 2.916286562179216, 'subsample': 0.8, 'subsample_freq': 1, 'colsample_bytree': 0.2, 'path_smooth': 1.0}. Best is trial 3 with value: 0.9998825428991063.\u001b[0m\n"
     ]
    },
    {
     "name": "stdout",
     "output_type": "stream",
     "text": [
      "Training until validation scores don't improve for 100 rounds\n",
      "[100]\tvalid_0's auc: 0.999828\tvalid_0's binary_logloss: 0.00991393\n",
      "[200]\tvalid_0's auc: 0.99983\tvalid_0's binary_logloss: 0.00976363\n",
      "[300]\tvalid_0's auc: 0.99983\tvalid_0's binary_logloss: 0.00974877\n",
      "[400]\tvalid_0's auc: 0.99983\tvalid_0's binary_logloss: 0.00972823\n",
      "Early stopping, best iteration is:\n",
      "[373]\tvalid_0's auc: 0.999831\tvalid_0's binary_logloss: 0.00972938\n",
      "[100]\tvalid_0's auc: 0.999859\tvalid_0's binary_logloss: 0.00928077\n",
      "[200]\tvalid_0's auc: 0.999862\tvalid_0's binary_logloss: 0.00912489\n",
      "[300]\tvalid_0's auc: 0.999863\tvalid_0's binary_logloss: 0.00911278\n",
      "[400]\tvalid_0's auc: 0.999863\tvalid_0's binary_logloss: 0.00910391\n",
      "[500]\tvalid_0's auc: 0.999864\tvalid_0's binary_logloss: 0.00909526\n",
      "[600]\tvalid_0's auc: 0.999864\tvalid_0's binary_logloss: 0.0090818\n",
      "Early stopping, best iteration is:\n",
      "[525]\tvalid_0's auc: 0.999864\tvalid_0's binary_logloss: 0.00908814\n",
      "[100]\tvalid_0's auc: 0.999865\tvalid_0's binary_logloss: 0.00954496\n",
      "[200]\tvalid_0's auc: 0.99987\tvalid_0's binary_logloss: 0.00924849\n",
      "[300]\tvalid_0's auc: 0.99987\tvalid_0's binary_logloss: 0.00921419\n",
      "[400]\tvalid_0's auc: 0.99987\tvalid_0's binary_logloss: 0.00920235\n",
      "Early stopping, best iteration is:\n",
      "[374]\tvalid_0's auc: 0.99987\tvalid_0's binary_logloss: 0.00920235\n",
      "[100]\tvalid_0's auc: 0.999848\tvalid_0's binary_logloss: 0.00950882\n",
      "[200]\tvalid_0's auc: 0.999851\tvalid_0's binary_logloss: 0.00934432\n",
      "[300]\tvalid_0's auc: 0.999851\tvalid_0's binary_logloss: 0.00933197\n",
      "[400]\tvalid_0's auc: 0.999851\tvalid_0's binary_logloss: 0.00933034\n",
      "Early stopping, best iteration is:\n",
      "[374]\tvalid_0's auc: 0.99987\tvalid_0's binary_logloss: 0.00920235\n",
      "[100]\tvalid_0's auc: 0.999871\tvalid_0's binary_logloss: 0.00933488\n",
      "[200]\tvalid_0's auc: 0.999874\tvalid_0's binary_logloss: 0.00916942\n",
      "[300]\tvalid_0's auc: 0.999875\tvalid_0's binary_logloss: 0.00914753\n",
      "[400]\tvalid_0's auc: 0.999875\tvalid_0's binary_logloss: 0.00914242\n",
      "[500]\tvalid_0's auc: 0.999875\tvalid_0's binary_logloss: 0.00913601\n",
      "Early stopping, best iteration is:\n",
      "[491]\tvalid_0's auc: 0.999875\tvalid_0's binary_logloss: 0.00913601\n",
      "train auc score = 0.9998739370624122\n",
      "test auc score = 0.9998582203750551\n"
     ]
    },
    {
     "name": "stderr",
     "output_type": "stream",
     "text": [
      "\u001b[32m[I 2023-01-13 10:31:03,070]\u001b[0m Trial 4 finished with value: 0.9998582203750551 and parameters: {'learning_rate': 0.13971532414939097, 'num_leaves': 1340, 'max_depth': 9, 'min_child_samples': 400, 'max_bin': 169, 'reg_alpha': 20, 'reg_lambda': 30, 'min_split_gain': 7.644505735001415, 'subsample': 0.9, 'subsample_freq': 1, 'colsample_bytree': 0.4, 'path_smooth': 0.8}. Best is trial 3 with value: 0.9998825428991063.\u001b[0m\n",
      "\u001b[32m[I 2023-01-13 10:31:06,370]\u001b[0m Trial 5 pruned. Trial was pruned at iteration 0.\u001b[0m\n",
      "\u001b[32m[I 2023-01-13 10:31:10,762]\u001b[0m Trial 6 pruned. Trial was pruned at iteration 0.\u001b[0m\n"
     ]
    },
    {
     "name": "stdout",
     "output_type": "stream",
     "text": [
      "Training until validation scores don't improve for 100 rounds\n",
      "[100]\tvalid_0's auc: 0.999824\tvalid_0's binary_logloss: 0.0101489\n",
      "[200]\tvalid_0's auc: 0.999826\tvalid_0's binary_logloss: 0.0101233\n",
      "Early stopping, best iteration is:\n",
      "[135]\tvalid_0's auc: 0.999826\tvalid_0's binary_logloss: 0.0101233\n",
      "[100]\tvalid_0's auc: 0.999859\tvalid_0's binary_logloss: 0.00936259\n",
      "[200]\tvalid_0's auc: 0.99986\tvalid_0's binary_logloss: 0.00934859\n",
      "Early stopping, best iteration is:\n",
      "[154]\tvalid_0's auc: 0.99986\tvalid_0's binary_logloss: 0.00935141\n",
      "[100]\tvalid_0's auc: 0.999851\tvalid_0's binary_logloss: 0.00988998\n",
      "[200]\tvalid_0's auc: 0.999851\tvalid_0's binary_logloss: 0.00987813\n",
      "Early stopping, best iteration is:\n",
      "[154]\tvalid_0's auc: 0.99986\tvalid_0's binary_logloss: 0.00935141\n",
      "[100]\tvalid_0's auc: 0.999852\tvalid_0's binary_logloss: 0.00977445\n",
      "[200]\tvalid_0's auc: 0.999853\tvalid_0's binary_logloss: 0.00974193\n",
      "Early stopping, best iteration is:\n",
      "[154]\tvalid_0's auc: 0.99986\tvalid_0's binary_logloss: 0.00935141\n",
      "[100]\tvalid_0's auc: 0.999874\tvalid_0's binary_logloss: 0.00966661\n",
      "[200]\tvalid_0's auc: 0.999875\tvalid_0's binary_logloss: 0.00963678\n",
      "Early stopping, best iteration is:\n",
      "[162]\tvalid_0's auc: 0.999875\tvalid_0's binary_logloss: 0.00963678\n",
      "train auc score = 0.9998652136527941\n",
      "test auc score = 0.9998527575236025\n"
     ]
    },
    {
     "name": "stderr",
     "output_type": "stream",
     "text": [
      "\u001b[32m[I 2023-01-13 10:33:22,599]\u001b[0m Trial 7 finished with value: 0.9998527575236025 and parameters: {'learning_rate': 0.24773556450207124, 'num_leaves': 840, 'max_depth': 10, 'min_child_samples': 2100, 'max_bin': 256, 'reg_alpha': 40, 'reg_lambda': 20, 'min_split_gain': 3.6293194280562258, 'subsample': 0.9, 'subsample_freq': 1, 'colsample_bytree': 0.7, 'path_smooth': 0.7000000000000001}. Best is trial 3 with value: 0.9998825428991063.\u001b[0m\n",
      "\u001b[32m[I 2023-01-13 10:33:28,367]\u001b[0m Trial 8 pruned. Trial was pruned at iteration 0.\u001b[0m\n",
      "\u001b[32m[I 2023-01-13 10:33:35,285]\u001b[0m Trial 9 pruned. Trial was pruned at iteration 0.\u001b[0m\n"
     ]
    },
    {
     "name": "stdout",
     "output_type": "stream",
     "text": [
      "Training until validation scores don't improve for 100 rounds\n"
     ]
    },
    {
     "name": "stderr",
     "output_type": "stream",
     "text": [
      "\u001b[32m[I 2023-01-13 10:33:43,097]\u001b[0m Trial 10 pruned. Trial was pruned at iteration 4.\u001b[0m\n",
      "\u001b[32m[I 2023-01-13 10:33:48,823]\u001b[0m Trial 11 pruned. Trial was pruned at iteration 0.\u001b[0m\n"
     ]
    },
    {
     "name": "stdout",
     "output_type": "stream",
     "text": [
      "Training until validation scores don't improve for 100 rounds\n"
     ]
    },
    {
     "name": "stderr",
     "output_type": "stream",
     "text": [
      "\u001b[32m[I 2023-01-13 10:34:01,070]\u001b[0m Trial 12 pruned. Trial was pruned at iteration 15.\u001b[0m\n",
      "\u001b[32m[I 2023-01-13 10:34:06,059]\u001b[0m Trial 13 pruned. Trial was pruned at iteration 0.\u001b[0m\n"
     ]
    },
    {
     "name": "stdout",
     "output_type": "stream",
     "text": [
      "Training until validation scores don't improve for 100 rounds\n"
     ]
    },
    {
     "name": "stderr",
     "output_type": "stream",
     "text": [
      "\u001b[32m[I 2023-01-13 10:34:11,544]\u001b[0m Trial 14 pruned. Trial was pruned at iteration 5.\u001b[0m\n",
      "\u001b[32m[I 2023-01-13 10:34:16,812]\u001b[0m Trial 15 pruned. Trial was pruned at iteration 1.\u001b[0m\n"
     ]
    },
    {
     "name": "stdout",
     "output_type": "stream",
     "text": [
      "Training until validation scores don't improve for 100 rounds\n"
     ]
    },
    {
     "name": "stderr",
     "output_type": "stream",
     "text": [
      "\u001b[32m[I 2023-01-13 10:34:21,313]\u001b[0m Trial 16 pruned. Trial was pruned at iteration 0.\u001b[0m\n"
     ]
    },
    {
     "name": "stdout",
     "output_type": "stream",
     "text": [
      "Training until validation scores don't improve for 100 rounds\n"
     ]
    },
    {
     "name": "stderr",
     "output_type": "stream",
     "text": [
      "\u001b[32m[I 2023-01-13 10:34:26,828]\u001b[0m Trial 17 pruned. Trial was pruned at iteration 1.\u001b[0m\n",
      "\u001b[32m[I 2023-01-13 10:34:31,681]\u001b[0m Trial 18 pruned. Trial was pruned at iteration 0.\u001b[0m\n"
     ]
    },
    {
     "name": "stdout",
     "output_type": "stream",
     "text": [
      "Training until validation scores don't improve for 100 rounds\n"
     ]
    },
    {
     "name": "stderr",
     "output_type": "stream",
     "text": [
      "\u001b[32m[I 2023-01-13 10:34:38,217]\u001b[0m Trial 19 pruned. Trial was pruned at iteration 5.\u001b[0m\n",
      "\u001b[32m[I 2023-01-13 10:34:42,476]\u001b[0m Trial 20 pruned. Trial was pruned at iteration 0.\u001b[0m\n"
     ]
    },
    {
     "name": "stdout",
     "output_type": "stream",
     "text": [
      "Training until validation scores don't improve for 100 rounds\n"
     ]
    },
    {
     "name": "stderr",
     "output_type": "stream",
     "text": [
      "\u001b[32m[I 2023-01-13 10:34:50,716]\u001b[0m Trial 21 pruned. Trial was pruned at iteration 5.\u001b[0m\n"
     ]
    },
    {
     "name": "stdout",
     "output_type": "stream",
     "text": [
      "Training until validation scores don't improve for 100 rounds\n"
     ]
    },
    {
     "name": "stderr",
     "output_type": "stream",
     "text": [
      "\u001b[32m[I 2023-01-13 10:34:55,489]\u001b[0m Trial 22 pruned. Trial was pruned at iteration 5.\u001b[0m\n"
     ]
    },
    {
     "name": "stdout",
     "output_type": "stream",
     "text": [
      "Training until validation scores don't improve for 100 rounds\n",
      "[100]\tvalid_0's auc: 0.99984\tvalid_0's binary_logloss: 0.00948894\n",
      "[200]\tvalid_0's auc: 0.999841\tvalid_0's binary_logloss: 0.00946581\n",
      "[300]\tvalid_0's auc: 0.999842\tvalid_0's binary_logloss: 0.009437\n",
      "[400]\tvalid_0's auc: 0.999842\tvalid_0's binary_logloss: 0.00942999\n",
      "Early stopping, best iteration is:\n",
      "[347]\tvalid_0's auc: 0.999842\tvalid_0's binary_logloss: 0.00942999\n",
      "[100]\tvalid_0's auc: 0.999863\tvalid_0's binary_logloss: 0.00900366\n",
      "[200]\tvalid_0's auc: 0.999863\tvalid_0's binary_logloss: 0.00897262\n",
      "[300]\tvalid_0's auc: 0.999864\tvalid_0's binary_logloss: 0.00895576\n",
      "[400]\tvalid_0's auc: 0.999866\tvalid_0's binary_logloss: 0.00893666\n",
      "[500]\tvalid_0's auc: 0.999866\tvalid_0's binary_logloss: 0.00892878\n",
      "Early stopping, best iteration is:\n",
      "[449]\tvalid_0's auc: 0.999866\tvalid_0's binary_logloss: 0.00892878\n",
      "[100]\tvalid_0's auc: 0.999865\tvalid_0's binary_logloss: 0.00900719\n",
      "[200]\tvalid_0's auc: 0.999865\tvalid_0's binary_logloss: 0.00897005\n",
      "[300]\tvalid_0's auc: 0.999865\tvalid_0's binary_logloss: 0.00895779\n",
      "[400]\tvalid_0's auc: 0.999866\tvalid_0's binary_logloss: 0.00895239\n",
      "[500]\tvalid_0's auc: 0.999866\tvalid_0's binary_logloss: 0.0089425\n",
      "Early stopping, best iteration is:\n",
      "[449]\tvalid_0's auc: 0.999866\tvalid_0's binary_logloss: 0.00892878\n",
      "[100]\tvalid_0's auc: 0.999862\tvalid_0's binary_logloss: 0.00909615\n",
      "[200]\tvalid_0's auc: 0.999866\tvalid_0's binary_logloss: 0.00902026\n",
      "[300]\tvalid_0's auc: 0.999869\tvalid_0's binary_logloss: 0.00896214\n",
      "Early stopping, best iteration is:\n",
      "[256]\tvalid_0's auc: 0.999869\tvalid_0's binary_logloss: 0.00896214\n",
      "[100]\tvalid_0's auc: 0.999886\tvalid_0's binary_logloss: 0.00890789\n",
      "[200]\tvalid_0's auc: 0.999888\tvalid_0's binary_logloss: 0.00881908\n",
      "Early stopping, best iteration is:\n",
      "[187]\tvalid_0's auc: 0.999888\tvalid_0's binary_logloss: 0.00881908\n",
      "train auc score = 0.9998828372615909\n",
      "test auc score = 0.9998662351545574\n"
     ]
    },
    {
     "name": "stderr",
     "output_type": "stream",
     "text": [
      "\u001b[32m[I 2023-01-13 10:38:33,467]\u001b[0m Trial 23 finished with value: 0.9998662351545574 and parameters: {'learning_rate': 0.28710178343114356, 'num_leaves': 1540, 'max_depth': 10, 'min_child_samples': 200, 'max_bin': 253, 'reg_alpha': 30, 'reg_lambda': 15, 'min_split_gain': 4.907924816189283, 'subsample': 0.8, 'subsample_freq': 1, 'colsample_bytree': 0.7, 'path_smooth': 0.9}. Best is trial 3 with value: 0.9998825428991063.\u001b[0m\n"
     ]
    },
    {
     "name": "stdout",
     "output_type": "stream",
     "text": [
      "Training until validation scores don't improve for 100 rounds\n"
     ]
    },
    {
     "name": "stderr",
     "output_type": "stream",
     "text": [
      "\u001b[32m[I 2023-01-13 10:38:41,676]\u001b[0m Trial 24 pruned. Trial was pruned at iteration 13.\u001b[0m\n"
     ]
    },
    {
     "name": "stdout",
     "output_type": "stream",
     "text": [
      "Training until validation scores don't improve for 100 rounds\n",
      "[100]\tvalid_0's auc: 0.99982\tvalid_0's binary_logloss: 0.0102515\n"
     ]
    },
    {
     "name": "stderr",
     "output_type": "stream",
     "text": [
      "\u001b[32m[I 2023-01-13 10:38:59,081]\u001b[0m Trial 25 pruned. Trial was pruned at iteration 116.\u001b[0m\n"
     ]
    },
    {
     "name": "stdout",
     "output_type": "stream",
     "text": [
      "Training until validation scores don't improve for 100 rounds\n"
     ]
    },
    {
     "name": "stderr",
     "output_type": "stream",
     "text": [
      "\u001b[32m[I 2023-01-13 10:39:03,349]\u001b[0m Trial 26 pruned. Trial was pruned at iteration 7.\u001b[0m\n"
     ]
    },
    {
     "name": "stdout",
     "output_type": "stream",
     "text": [
      "Training until validation scores don't improve for 100 rounds\n"
     ]
    },
    {
     "name": "stderr",
     "output_type": "stream",
     "text": [
      "\u001b[32m[I 2023-01-13 10:39:10,166]\u001b[0m Trial 27 pruned. Trial was pruned at iteration 2.\u001b[0m\n"
     ]
    },
    {
     "name": "stdout",
     "output_type": "stream",
     "text": [
      "Training until validation scores don't improve for 100 rounds\n"
     ]
    },
    {
     "name": "stderr",
     "output_type": "stream",
     "text": [
      "\u001b[32m[I 2023-01-13 10:39:15,383]\u001b[0m Trial 28 pruned. Trial was pruned at iteration 1.\u001b[0m\n",
      "\u001b[32m[I 2023-01-13 10:39:20,578]\u001b[0m Trial 29 pruned. Trial was pruned at iteration 1.\u001b[0m\n"
     ]
    },
    {
     "name": "stdout",
     "output_type": "stream",
     "text": [
      "Training until validation scores don't improve for 100 rounds\n",
      "Training until validation scores don't improve for 100 rounds\n"
     ]
    },
    {
     "name": "stderr",
     "output_type": "stream",
     "text": [
      "\u001b[32m[I 2023-01-13 10:39:27,223]\u001b[0m Trial 30 pruned. Trial was pruned at iteration 2.\u001b[0m\n"
     ]
    },
    {
     "name": "stdout",
     "output_type": "stream",
     "text": [
      "Training until validation scores don't improve for 100 rounds\n",
      "[100]\tvalid_0's auc: 0.999834\tvalid_0's binary_logloss: 0.00998673\n",
      "[200]\tvalid_0's auc: 0.999836\tvalid_0's binary_logloss: 0.00993812\n",
      "Early stopping, best iteration is:\n",
      "[135]\tvalid_0's auc: 0.999836\tvalid_0's binary_logloss: 0.00994168\n",
      "[100]\tvalid_0's auc: 0.999861\tvalid_0's binary_logloss: 0.00931864\n",
      "[200]\tvalid_0's auc: 0.999863\tvalid_0's binary_logloss: 0.00929151\n",
      "Early stopping, best iteration is:\n",
      "[188]\tvalid_0's auc: 0.999863\tvalid_0's binary_logloss: 0.00929151\n",
      "[100]\tvalid_0's auc: 0.999849\tvalid_0's binary_logloss: 0.00983406\n",
      "[200]\tvalid_0's auc: 0.999849\tvalid_0's binary_logloss: 0.00982327\n",
      "Early stopping, best iteration is:\n",
      "[188]\tvalid_0's auc: 0.999863\tvalid_0's binary_logloss: 0.00929151\n",
      "[100]\tvalid_0's auc: 0.999854\tvalid_0's binary_logloss: 0.00964485\n",
      "[200]\tvalid_0's auc: 0.999854\tvalid_0's binary_logloss: 0.00963055\n",
      "Early stopping, best iteration is:\n",
      "[188]\tvalid_0's auc: 0.999863\tvalid_0's binary_logloss: 0.00929151\n",
      "[100]\tvalid_0's auc: 0.999868\tvalid_0's binary_logloss: 0.00969659\n",
      "[200]\tvalid_0's auc: 0.99987\tvalid_0's binary_logloss: 0.00964687\n",
      "[300]\tvalid_0's auc: 0.99987\tvalid_0's binary_logloss: 0.00963268\n",
      "Early stopping, best iteration is:\n",
      "[230]\tvalid_0's auc: 0.999863\tvalid_0's binary_logloss: 0.00929151\n",
      "train auc score = 0.9998694694583309\n",
      "test auc score = 0.9998546357543312\n"
     ]
    },
    {
     "name": "stderr",
     "output_type": "stream",
     "text": [
      "\u001b[32m[I 2023-01-13 10:42:10,433]\u001b[0m Trial 31 finished with value: 0.9998546357543312 and parameters: {'learning_rate': 0.276987841979153, 'num_leaves': 620, 'max_depth': 10, 'min_child_samples': 2000, 'max_bin': 260, 'reg_alpha': 40, 'reg_lambda': 15, 'min_split_gain': 3.256552275882748, 'subsample': 0.9, 'subsample_freq': 1, 'colsample_bytree': 0.7, 'path_smooth': 0.7000000000000001}. Best is trial 3 with value: 0.9998825428991063.\u001b[0m\n"
     ]
    },
    {
     "name": "stdout",
     "output_type": "stream",
     "text": [
      "Training until validation scores don't improve for 100 rounds\n"
     ]
    },
    {
     "name": "stderr",
     "output_type": "stream",
     "text": [
      "\u001b[32m[I 2023-01-13 10:42:16,659]\u001b[0m Trial 32 pruned. Trial was pruned at iteration 5.\u001b[0m\n"
     ]
    },
    {
     "name": "stdout",
     "output_type": "stream",
     "text": [
      "Training until validation scores don't improve for 100 rounds\n"
     ]
    },
    {
     "name": "stderr",
     "output_type": "stream",
     "text": [
      "\u001b[32m[I 2023-01-13 10:42:23,281]\u001b[0m Trial 33 pruned. Trial was pruned at iteration 13.\u001b[0m\n"
     ]
    },
    {
     "name": "stdout",
     "output_type": "stream",
     "text": [
      "Training until validation scores don't improve for 100 rounds\n"
     ]
    },
    {
     "name": "stderr",
     "output_type": "stream",
     "text": [
      "\u001b[32m[I 2023-01-13 10:42:28,656]\u001b[0m Trial 34 pruned. Trial was pruned at iteration 1.\u001b[0m\n",
      "\u001b[32m[I 2023-01-13 10:42:33,083]\u001b[0m Trial 35 pruned. Trial was pruned at iteration 0.\u001b[0m\n"
     ]
    },
    {
     "name": "stdout",
     "output_type": "stream",
     "text": [
      "Training until validation scores don't improve for 100 rounds\n"
     ]
    },
    {
     "name": "stderr",
     "output_type": "stream",
     "text": [
      "\u001b[32m[I 2023-01-13 10:42:38,625]\u001b[0m Trial 36 pruned. Trial was pruned at iteration 2.\u001b[0m\n",
      "\u001b[32m[I 2023-01-13 10:42:42,890]\u001b[0m Trial 37 pruned. Trial was pruned at iteration 0.\u001b[0m\n"
     ]
    },
    {
     "name": "stdout",
     "output_type": "stream",
     "text": [
      "Training until validation scores don't improve for 100 rounds\n"
     ]
    },
    {
     "name": "stderr",
     "output_type": "stream",
     "text": [
      "\u001b[32m[I 2023-01-13 10:42:49,067]\u001b[0m Trial 38 pruned. Trial was pruned at iteration 13.\u001b[0m\n",
      "\u001b[32m[I 2023-01-13 10:42:53,439]\u001b[0m Trial 39 pruned. Trial was pruned at iteration 0.\u001b[0m\n"
     ]
    },
    {
     "name": "stdout",
     "output_type": "stream",
     "text": [
      "Training until validation scores don't improve for 100 rounds\n"
     ]
    },
    {
     "name": "stderr",
     "output_type": "stream",
     "text": [
      "\u001b[32m[I 2023-01-13 10:42:58,138]\u001b[0m Trial 40 pruned. Trial was pruned at iteration 1.\u001b[0m\n"
     ]
    },
    {
     "name": "stdout",
     "output_type": "stream",
     "text": [
      "Training until validation scores don't improve for 100 rounds\n"
     ]
    },
    {
     "name": "stderr",
     "output_type": "stream",
     "text": [
      "\u001b[32m[I 2023-01-13 10:43:04,066]\u001b[0m Trial 41 pruned. Trial was pruned at iteration 5.\u001b[0m\n"
     ]
    },
    {
     "name": "stdout",
     "output_type": "stream",
     "text": [
      "Training until validation scores don't improve for 100 rounds\n"
     ]
    },
    {
     "name": "stderr",
     "output_type": "stream",
     "text": [
      "\u001b[32m[I 2023-01-13 10:43:13,217]\u001b[0m Trial 42 pruned. Trial was pruned at iteration 5.\u001b[0m\n"
     ]
    },
    {
     "name": "stdout",
     "output_type": "stream",
     "text": [
      "Training until validation scores don't improve for 100 rounds\n"
     ]
    },
    {
     "name": "stderr",
     "output_type": "stream",
     "text": [
      "\u001b[32m[I 2023-01-13 10:43:18,293]\u001b[0m Trial 43 pruned. Trial was pruned at iteration 4.\u001b[0m\n"
     ]
    },
    {
     "name": "stdout",
     "output_type": "stream",
     "text": [
      "Training until validation scores don't improve for 100 rounds\n"
     ]
    },
    {
     "name": "stderr",
     "output_type": "stream",
     "text": [
      "\u001b[32m[I 2023-01-13 10:43:23,028]\u001b[0m Trial 44 pruned. Trial was pruned at iteration 1.\u001b[0m\n",
      "\u001b[32m[I 2023-01-13 10:43:28,075]\u001b[0m Trial 45 pruned. Trial was pruned at iteration 0.\u001b[0m\n"
     ]
    },
    {
     "name": "stdout",
     "output_type": "stream",
     "text": [
      "Training until validation scores don't improve for 100 rounds\n"
     ]
    },
    {
     "name": "stderr",
     "output_type": "stream",
     "text": [
      "\u001b[32m[I 2023-01-13 10:43:33,146]\u001b[0m Trial 46 pruned. Trial was pruned at iteration 4.\u001b[0m\n"
     ]
    },
    {
     "name": "stdout",
     "output_type": "stream",
     "text": [
      "Training until validation scores don't improve for 100 rounds\n"
     ]
    },
    {
     "name": "stderr",
     "output_type": "stream",
     "text": [
      "\u001b[32m[I 2023-01-13 10:43:41,580]\u001b[0m Trial 47 pruned. Trial was pruned at iteration 12.\u001b[0m\n"
     ]
    },
    {
     "name": "stdout",
     "output_type": "stream",
     "text": [
      "Training until validation scores don't improve for 100 rounds\n"
     ]
    },
    {
     "name": "stderr",
     "output_type": "stream",
     "text": [
      "\u001b[32m[I 2023-01-13 10:43:48,320]\u001b[0m Trial 48 pruned. Trial was pruned at iteration 5.\u001b[0m\n",
      "\u001b[32m[I 2023-01-13 10:43:52,229]\u001b[0m Trial 49 pruned. Trial was pruned at iteration 0.\u001b[0m\n",
      "\u001b[32m[I 2023-01-13 10:43:56,984]\u001b[0m Trial 50 pruned. Trial was pruned at iteration 0.\u001b[0m\n",
      "\u001b[32m[I 2023-01-13 10:44:01,356]\u001b[0m Trial 51 pruned. Trial was pruned at iteration 0.\u001b[0m\n",
      "\u001b[32m[I 2023-01-13 10:44:06,880]\u001b[0m Trial 52 pruned. Trial was pruned at iteration 0.\u001b[0m\n",
      "\u001b[32m[I 2023-01-13 10:44:12,065]\u001b[0m Trial 53 pruned. Trial was pruned at iteration 0.\u001b[0m\n",
      "\u001b[32m[I 2023-01-13 10:44:17,950]\u001b[0m Trial 54 pruned. Trial was pruned at iteration 0.\u001b[0m\n",
      "\u001b[32m[I 2023-01-13 10:44:21,900]\u001b[0m Trial 55 pruned. Trial was pruned at iteration 0.\u001b[0m\n",
      "\u001b[32m[I 2023-01-13 10:44:26,499]\u001b[0m Trial 56 pruned. Trial was pruned at iteration 0.\u001b[0m\n",
      "\u001b[32m[I 2023-01-13 10:44:30,645]\u001b[0m Trial 57 pruned. Trial was pruned at iteration 0.\u001b[0m\n",
      "\u001b[32m[I 2023-01-13 10:44:35,449]\u001b[0m Trial 58 pruned. Trial was pruned at iteration 0.\u001b[0m\n",
      "\u001b[32m[I 2023-01-13 10:44:39,833]\u001b[0m Trial 59 pruned. Trial was pruned at iteration 0.\u001b[0m\n",
      "\u001b[32m[I 2023-01-13 10:44:44,616]\u001b[0m Trial 60 pruned. Trial was pruned at iteration 0.\u001b[0m\n",
      "\u001b[32m[I 2023-01-13 10:44:50,262]\u001b[0m Trial 61 pruned. Trial was pruned at iteration 0.\u001b[0m\n",
      "\u001b[32m[I 2023-01-13 10:44:55,575]\u001b[0m Trial 62 pruned. Trial was pruned at iteration 0.\u001b[0m\n",
      "\u001b[32m[I 2023-01-13 10:45:00,285]\u001b[0m Trial 63 pruned. Trial was pruned at iteration 2.\u001b[0m\n"
     ]
    },
    {
     "name": "stdout",
     "output_type": "stream",
     "text": [
      "Training until validation scores don't improve for 100 rounds\n",
      "Training until validation scores don't improve for 100 rounds\n"
     ]
    },
    {
     "name": "stderr",
     "output_type": "stream",
     "text": [
      "\u001b[32m[I 2023-01-13 10:45:06,525]\u001b[0m Trial 64 pruned. Trial was pruned at iteration 1.\u001b[0m\n",
      "\u001b[32m[I 2023-01-13 10:45:11,235]\u001b[0m Trial 65 pruned. Trial was pruned at iteration 0.\u001b[0m\n"
     ]
    },
    {
     "name": "stdout",
     "output_type": "stream",
     "text": [
      "Training until validation scores don't improve for 100 rounds\n"
     ]
    },
    {
     "name": "stderr",
     "output_type": "stream",
     "text": [
      "\u001b[32m[I 2023-01-13 10:45:22,341]\u001b[0m Trial 66 pruned. Trial was pruned at iteration 7.\u001b[0m\n",
      "\u001b[32m[I 2023-01-13 10:45:26,524]\u001b[0m Trial 67 pruned. Trial was pruned at iteration 2.\u001b[0m\n"
     ]
    },
    {
     "name": "stdout",
     "output_type": "stream",
     "text": [
      "Training until validation scores don't improve for 100 rounds\n",
      "Training until validation scores don't improve for 100 rounds\n"
     ]
    },
    {
     "name": "stderr",
     "output_type": "stream",
     "text": [
      "\u001b[32m[I 2023-01-13 10:45:33,641]\u001b[0m Trial 68 pruned. Trial was pruned at iteration 2.\u001b[0m\n",
      "\u001b[32m[I 2023-01-13 10:45:37,986]\u001b[0m Trial 69 pruned. Trial was pruned at iteration 1.\u001b[0m\n"
     ]
    },
    {
     "name": "stdout",
     "output_type": "stream",
     "text": [
      "Training until validation scores don't improve for 100 rounds\n"
     ]
    },
    {
     "name": "stderr",
     "output_type": "stream",
     "text": [
      "\u001b[32m[I 2023-01-13 10:45:42,226]\u001b[0m Trial 70 pruned. Trial was pruned at iteration 0.\u001b[0m\n",
      "\u001b[32m[I 2023-01-13 10:45:47,120]\u001b[0m Trial 71 pruned. Trial was pruned at iteration 0.\u001b[0m\n",
      "\u001b[32m[I 2023-01-13 10:45:52,760]\u001b[0m Trial 72 pruned. Trial was pruned at iteration 0.\u001b[0m\n",
      "\u001b[32m[I 2023-01-13 10:45:56,871]\u001b[0m Trial 73 pruned. Trial was pruned at iteration 0.\u001b[0m\n",
      "\u001b[32m[I 2023-01-13 10:46:01,191]\u001b[0m Trial 74 pruned. Trial was pruned at iteration 0.\u001b[0m\n",
      "\u001b[32m[I 2023-01-13 10:46:05,670]\u001b[0m Trial 75 pruned. Trial was pruned at iteration 0.\u001b[0m\n",
      "\u001b[32m[I 2023-01-13 10:46:10,421]\u001b[0m Trial 76 pruned. Trial was pruned at iteration 0.\u001b[0m\n"
     ]
    },
    {
     "name": "stdout",
     "output_type": "stream",
     "text": [
      "Training until validation scores don't improve for 100 rounds\n",
      "[100]\tvalid_0's auc: 0.999834\tvalid_0's binary_logloss: 0.00984846\n",
      "[200]\tvalid_0's auc: 0.999836\tvalid_0's binary_logloss: 0.00980655\n",
      "[300]\tvalid_0's auc: 0.999836\tvalid_0's binary_logloss: 0.00979257\n",
      "Early stopping, best iteration is:\n",
      "[205]\tvalid_0's auc: 0.999836\tvalid_0's binary_logloss: 0.00979396\n",
      "[100]\tvalid_0's auc: 0.999861\tvalid_0's binary_logloss: 0.00916968\n",
      "[200]\tvalid_0's auc: 0.999861\tvalid_0's binary_logloss: 0.00915151\n",
      "[300]\tvalid_0's auc: 0.999863\tvalid_0's binary_logloss: 0.00912337\n",
      "[400]\tvalid_0's auc: 0.999863\tvalid_0's binary_logloss: 0.0091109\n",
      "Early stopping, best iteration is:\n",
      "[309]\tvalid_0's auc: 0.999863\tvalid_0's binary_logloss: 0.00911964\n",
      "[100]\tvalid_0's auc: 0.999863\tvalid_0's binary_logloss: 0.00933615\n",
      "[200]\tvalid_0's auc: 0.999863\tvalid_0's binary_logloss: 0.00931362\n",
      "[300]\tvalid_0's auc: 0.999864\tvalid_0's binary_logloss: 0.00928558\n",
      "Early stopping, best iteration is:\n",
      "[246]\tvalid_0's auc: 0.999864\tvalid_0's binary_logloss: 0.00929027\n",
      "[100]\tvalid_0's auc: 0.999849\tvalid_0's binary_logloss: 0.00934206\n",
      "[200]\tvalid_0's auc: 0.99985\tvalid_0's binary_logloss: 0.00929301\n",
      "[300]\tvalid_0's auc: 0.99985\tvalid_0's binary_logloss: 0.00928634\n",
      "Early stopping, best iteration is:\n",
      "[246]\tvalid_0's auc: 0.999864\tvalid_0's binary_logloss: 0.00929027\n",
      "[100]\tvalid_0's auc: 0.999878\tvalid_0's binary_logloss: 0.00940451\n",
      "[200]\tvalid_0's auc: 0.999879\tvalid_0's binary_logloss: 0.00932556\n",
      "Early stopping, best iteration is:\n",
      "[174]\tvalid_0's auc: 0.999879\tvalid_0's binary_logloss: 0.00932556\n",
      "train auc score = 0.9998712691996403\n",
      "test auc score = 0.999858575951567\n"
     ]
    },
    {
     "name": "stderr",
     "output_type": "stream",
     "text": [
      "\u001b[32m[I 2023-01-13 10:49:08,346]\u001b[0m Trial 77 finished with value: 0.999858575951567 and parameters: {'learning_rate': 0.23970576566842758, 'num_leaves': 1580, 'max_depth': 12, 'min_child_samples': 700, 'max_bin': 168, 'reg_alpha': 15, 'reg_lambda': 45, 'min_split_gain': 8.331350128255643, 'subsample': 0.8, 'subsample_freq': 1, 'colsample_bytree': 0.5, 'path_smooth': 0.7000000000000001}. Best is trial 3 with value: 0.9998825428991063.\u001b[0m\n"
     ]
    },
    {
     "name": "stdout",
     "output_type": "stream",
     "text": [
      "Training until validation scores don't improve for 100 rounds\n",
      "[100]\tvalid_0's auc: 0.999848\tvalid_0's binary_logloss: 0.0094115\n",
      "[200]\tvalid_0's auc: 0.999849\tvalid_0's binary_logloss: 0.00936461\n",
      "[300]\tvalid_0's auc: 0.999851\tvalid_0's binary_logloss: 0.00934261\n",
      "[400]\tvalid_0's auc: 0.999851\tvalid_0's binary_logloss: 0.00932806\n"
     ]
    },
    {
     "name": "stderr",
     "output_type": "stream",
     "text": [
      "\u001b[32m[I 2023-01-13 10:49:59,811]\u001b[0m Trial 78 pruned. Trial was pruned at iteration 473.\u001b[0m\n"
     ]
    },
    {
     "name": "stdout",
     "output_type": "stream",
     "text": [
      "Training until validation scores don't improve for 100 rounds\n",
      "[100]\tvalid_0's auc: 0.999845\tvalid_0's binary_logloss: 0.00946831\n",
      "[200]\tvalid_0's auc: 0.999847\tvalid_0's binary_logloss: 0.00942183\n",
      "Early stopping, best iteration is:\n",
      "[168]\tvalid_0's auc: 0.999847\tvalid_0's binary_logloss: 0.00942091\n",
      "[100]\tvalid_0's auc: 0.999862\tvalid_0's binary_logloss: 0.00899514\n",
      "[200]\tvalid_0's auc: 0.999864\tvalid_0's binary_logloss: 0.00895193\n",
      "[300]\tvalid_0's auc: 0.999865\tvalid_0's binary_logloss: 0.00893847\n",
      "[400]\tvalid_0's auc: 0.999865\tvalid_0's binary_logloss: 0.00893186\n",
      "[500]\tvalid_0's auc: 0.999866\tvalid_0's binary_logloss: 0.00892215\n",
      "[600]\tvalid_0's auc: 0.999866\tvalid_0's binary_logloss: 0.00891141\n",
      "Early stopping, best iteration is:\n",
      "[512]\tvalid_0's auc: 0.999866\tvalid_0's binary_logloss: 0.00891723\n",
      "[100]\tvalid_0's auc: 0.999865\tvalid_0's binary_logloss: 0.00914454\n",
      "[200]\tvalid_0's auc: 0.999866\tvalid_0's binary_logloss: 0.00911283\n",
      "[300]\tvalid_0's auc: 0.999866\tvalid_0's binary_logloss: 0.00909212\n",
      "[400]\tvalid_0's auc: 0.999866\tvalid_0's binary_logloss: 0.00908799\n",
      "[500]\tvalid_0's auc: 0.999866\tvalid_0's binary_logloss: 0.00908982\n",
      "[600]\tvalid_0's auc: 0.999866\tvalid_0's binary_logloss: 0.00908254\n",
      "Early stopping, best iteration is:\n",
      "[512]\tvalid_0's auc: 0.999866\tvalid_0's binary_logloss: 0.00891723\n",
      "[100]\tvalid_0's auc: 0.999851\tvalid_0's binary_logloss: 0.0091639\n",
      "[200]\tvalid_0's auc: 0.999854\tvalid_0's binary_logloss: 0.00910289\n",
      "[300]\tvalid_0's auc: 0.999854\tvalid_0's binary_logloss: 0.00910289\n",
      "[400]\tvalid_0's auc: 0.999854\tvalid_0's binary_logloss: 0.00909901\n",
      "[500]\tvalid_0's auc: 0.999855\tvalid_0's binary_logloss: 0.00908609\n",
      "[600]\tvalid_0's auc: 0.999855\tvalid_0's binary_logloss: 0.00907076\n",
      "Early stopping, best iteration is:\n",
      "[512]\tvalid_0's auc: 0.999866\tvalid_0's binary_logloss: 0.00891723\n",
      "[100]\tvalid_0's auc: 0.999874\tvalid_0's binary_logloss: 0.00920823\n",
      "[200]\tvalid_0's auc: 0.999876\tvalid_0's binary_logloss: 0.0091424\n",
      "[300]\tvalid_0's auc: 0.999876\tvalid_0's binary_logloss: 0.00913692\n",
      "[400]\tvalid_0's auc: 0.999876\tvalid_0's binary_logloss: 0.009122\n",
      "Early stopping, best iteration is:\n",
      "[326]\tvalid_0's auc: 0.999877\tvalid_0's binary_logloss: 0.00913095\n",
      "train auc score = 0.9998771638312378\n",
      "test auc score = 0.9998621204150128\n"
     ]
    },
    {
     "name": "stderr",
     "output_type": "stream",
     "text": [
      "\u001b[32m[I 2023-01-13 10:53:54,056]\u001b[0m Trial 79 finished with value: 0.9998621204150128 and parameters: {'learning_rate': 0.22544826824591577, 'num_leaves': 1600, 'max_depth': 12, 'min_child_samples': 700, 'max_bin': 183, 'reg_alpha': 15, 'reg_lambda': 45, 'min_split_gain': 7.475173296967137, 'subsample': 0.8, 'subsample_freq': 1, 'colsample_bytree': 0.6000000000000001, 'path_smooth': 0.6000000000000001}. Best is trial 3 with value: 0.9998825428991063.\u001b[0m\n"
     ]
    },
    {
     "name": "stdout",
     "output_type": "stream",
     "text": [
      "Training until validation scores don't improve for 100 rounds\n"
     ]
    },
    {
     "name": "stderr",
     "output_type": "stream",
     "text": [
      "\u001b[32m[I 2023-01-13 10:54:04,216]\u001b[0m Trial 80 pruned. Trial was pruned at iteration 13.\u001b[0m\n"
     ]
    },
    {
     "name": "stdout",
     "output_type": "stream",
     "text": [
      "Training until validation scores don't improve for 100 rounds\n",
      "[100]\tvalid_0's auc: 0.999861\tvalid_0's binary_logloss: 0.00906651\n",
      "[200]\tvalid_0's auc: 0.999863\tvalid_0's binary_logloss: 0.00900573\n",
      "[300]\tvalid_0's auc: 0.999864\tvalid_0's binary_logloss: 0.00896039\n",
      "[400]\tvalid_0's auc: 0.999865\tvalid_0's binary_logloss: 0.00892428\n",
      "[500]\tvalid_0's auc: 0.999866\tvalid_0's binary_logloss: 0.00890172\n",
      "[600]\tvalid_0's auc: 0.999867\tvalid_0's binary_logloss: 0.00888651\n",
      "[700]\tvalid_0's auc: 0.999867\tvalid_0's binary_logloss: 0.00888439\n",
      "Early stopping, best iteration is:\n",
      "[673]\tvalid_0's auc: 0.999867\tvalid_0's binary_logloss: 0.00888087\n",
      "[100]\tvalid_0's auc: 0.999878\tvalid_0's binary_logloss: 0.00865711\n",
      "[200]\tvalid_0's auc: 0.999881\tvalid_0's binary_logloss: 0.00857902\n",
      "[300]\tvalid_0's auc: 0.999882\tvalid_0's binary_logloss: 0.00855932\n",
      "[400]\tvalid_0's auc: 0.999883\tvalid_0's binary_logloss: 0.00853662\n",
      "[500]\tvalid_0's auc: 0.999883\tvalid_0's binary_logloss: 0.00852891\n",
      "Early stopping, best iteration is:\n",
      "[449]\tvalid_0's auc: 0.999884\tvalid_0's binary_logloss: 0.00853382\n",
      "[100]\tvalid_0's auc: 0.999877\tvalid_0's binary_logloss: 0.00875551\n",
      "[200]\tvalid_0's auc: 0.99988\tvalid_0's binary_logloss: 0.00868383\n",
      "[300]\tvalid_0's auc: 0.99988\tvalid_0's binary_logloss: 0.00865668\n",
      "[400]\tvalid_0's auc: 0.99988\tvalid_0's binary_logloss: 0.00863437\n",
      "[500]\tvalid_0's auc: 0.99988\tvalid_0's binary_logloss: 0.00862794\n",
      "Early stopping, best iteration is:\n",
      "[449]\tvalid_0's auc: 0.999884\tvalid_0's binary_logloss: 0.00853382\n",
      "[100]\tvalid_0's auc: 0.99987\tvalid_0's binary_logloss: 0.00875703\n",
      "[200]\tvalid_0's auc: 0.999872\tvalid_0's binary_logloss: 0.00870709\n",
      "[300]\tvalid_0's auc: 0.999872\tvalid_0's binary_logloss: 0.00869212\n",
      "[400]\tvalid_0's auc: 0.999873\tvalid_0's binary_logloss: 0.00866488\n",
      "[500]\tvalid_0's auc: 0.999873\tvalid_0's binary_logloss: 0.00865617\n",
      "Early stopping, best iteration is:\n",
      "[449]\tvalid_0's auc: 0.999884\tvalid_0's binary_logloss: 0.00853382\n",
      "[100]\tvalid_0's auc: 0.999889\tvalid_0's binary_logloss: 0.0087751\n",
      "[200]\tvalid_0's auc: 0.999892\tvalid_0's binary_logloss: 0.00866019\n",
      "[300]\tvalid_0's auc: 0.999892\tvalid_0's binary_logloss: 0.00864778\n",
      "[400]\tvalid_0's auc: 0.999892\tvalid_0's binary_logloss: 0.00861744\n",
      "[500]\tvalid_0's auc: 0.999893\tvalid_0's binary_logloss: 0.00860758\n",
      "[600]\tvalid_0's auc: 0.999892\tvalid_0's binary_logloss: 0.00860062\n",
      "Early stopping, best iteration is:\n",
      "[523]\tvalid_0's auc: 0.999893\tvalid_0's binary_logloss: 0.0086072\n",
      "train auc score = 0.9998937892690964\n",
      "test auc score = 0.9998793286615196\n"
     ]
    },
    {
     "name": "stderr",
     "output_type": "stream",
     "text": [
      "\u001b[32m[I 2023-01-13 10:58:20,139]\u001b[0m Trial 81 finished with value: 0.9998793286615196 and parameters: {'learning_rate': 0.2542359062089846, 'num_leaves': 1980, 'max_depth': 12, 'min_child_samples': 700, 'max_bin': 171, 'reg_alpha': 15, 'reg_lambda': 40, 'min_split_gain': 3.3724194428182823, 'subsample': 0.7, 'subsample_freq': 1, 'colsample_bytree': 0.6000000000000001, 'path_smooth': 0.7000000000000001}. Best is trial 3 with value: 0.9998825428991063.\u001b[0m\n"
     ]
    },
    {
     "name": "stdout",
     "output_type": "stream",
     "text": [
      "Training until validation scores don't improve for 100 rounds\n",
      "[100]\tvalid_0's auc: 0.99986\tvalid_0's binary_logloss: 0.00917596\n",
      "[200]\tvalid_0's auc: 0.999862\tvalid_0's binary_logloss: 0.00908685\n",
      "[300]\tvalid_0's auc: 0.999863\tvalid_0's binary_logloss: 0.00904932\n",
      "Early stopping, best iteration is:\n",
      "[287]\tvalid_0's auc: 0.999863\tvalid_0's binary_logloss: 0.00904932\n",
      "[100]\tvalid_0's auc: 0.999879\tvalid_0's binary_logloss: 0.00868696\n",
      "[200]\tvalid_0's auc: 0.999883\tvalid_0's binary_logloss: 0.00859685\n",
      "[300]\tvalid_0's auc: 0.999884\tvalid_0's binary_logloss: 0.00856233\n",
      "[400]\tvalid_0's auc: 0.999886\tvalid_0's binary_logloss: 0.00853751\n",
      "[500]\tvalid_0's auc: 0.999886\tvalid_0's binary_logloss: 0.00852728\n",
      "Early stopping, best iteration is:\n",
      "[475]\tvalid_0's auc: 0.999886\tvalid_0's binary_logloss: 0.00852728\n",
      "[100]\tvalid_0's auc: 0.999875\tvalid_0's binary_logloss: 0.00882519\n",
      "[200]\tvalid_0's auc: 0.999877\tvalid_0's binary_logloss: 0.00874972\n",
      "[300]\tvalid_0's auc: 0.999877\tvalid_0's binary_logloss: 0.00872765\n",
      "[400]\tvalid_0's auc: 0.999878\tvalid_0's binary_logloss: 0.00868818\n",
      "[500]\tvalid_0's auc: 0.999878\tvalid_0's binary_logloss: 0.00867644\n",
      "Early stopping, best iteration is:\n",
      "[475]\tvalid_0's auc: 0.999886\tvalid_0's binary_logloss: 0.00852728\n",
      "[100]\tvalid_0's auc: 0.999868\tvalid_0's binary_logloss: 0.00876508\n",
      "[200]\tvalid_0's auc: 0.999869\tvalid_0's binary_logloss: 0.00870829\n",
      "[300]\tvalid_0's auc: 0.99987\tvalid_0's binary_logloss: 0.00868727\n",
      "[400]\tvalid_0's auc: 0.99987\tvalid_0's binary_logloss: 0.00866935\n",
      "[500]\tvalid_0's auc: 0.999871\tvalid_0's binary_logloss: 0.00865537\n",
      "Early stopping, best iteration is:\n",
      "[475]\tvalid_0's auc: 0.999886\tvalid_0's binary_logloss: 0.00852728\n",
      "[100]\tvalid_0's auc: 0.99989\tvalid_0's binary_logloss: 0.00871142\n",
      "[200]\tvalid_0's auc: 0.999892\tvalid_0's binary_logloss: 0.00862987\n",
      "[300]\tvalid_0's auc: 0.999892\tvalid_0's binary_logloss: 0.00861809\n",
      "[400]\tvalid_0's auc: 0.999892\tvalid_0's binary_logloss: 0.00859547\n",
      "Early stopping, best iteration is:\n",
      "[310]\tvalid_0's auc: 0.999892\tvalid_0's binary_logloss: 0.00861563\n",
      "train auc score = 0.9998925946130385\n",
      "test auc score = 0.9998780857088698\n"
     ]
    },
    {
     "name": "stderr",
     "output_type": "stream",
     "text": [
      "\u001b[32m[I 2023-01-13 11:01:25,257]\u001b[0m Trial 82 finished with value: 0.9998780857088698 and parameters: {'learning_rate': 0.25259480133286233, 'num_leaves': 1960, 'max_depth': 12, 'min_child_samples': 700, 'max_bin': 172, 'reg_alpha': 15, 'reg_lambda': 45, 'min_split_gain': 3.403699916928843, 'subsample': 0.7, 'subsample_freq': 1, 'colsample_bytree': 0.6000000000000001, 'path_smooth': 0.7000000000000001}. Best is trial 3 with value: 0.9998825428991063.\u001b[0m\n"
     ]
    },
    {
     "name": "stdout",
     "output_type": "stream",
     "text": [
      "Training until validation scores don't improve for 100 rounds\n",
      "[100]\tvalid_0's auc: 0.99984\tvalid_0's binary_logloss: 0.00965535\n",
      "[200]\tvalid_0's auc: 0.999842\tvalid_0's binary_logloss: 0.00959039\n"
     ]
    },
    {
     "name": "stderr",
     "output_type": "stream",
     "text": [
      "\u001b[32m[I 2023-01-13 11:01:46,732]\u001b[0m Trial 83 pruned. Trial was pruned at iteration 235.\u001b[0m\n",
      "\u001b[32m[I 2023-01-13 11:01:50,040]\u001b[0m Trial 84 pruned. Trial was pruned at iteration 1.\u001b[0m\n"
     ]
    },
    {
     "name": "stdout",
     "output_type": "stream",
     "text": [
      "Training until validation scores don't improve for 100 rounds\n"
     ]
    },
    {
     "name": "stderr",
     "output_type": "stream",
     "text": [
      "\u001b[32m[I 2023-01-13 11:01:53,538]\u001b[0m Trial 85 pruned. Trial was pruned at iteration 1.\u001b[0m\n"
     ]
    },
    {
     "name": "stdout",
     "output_type": "stream",
     "text": [
      "Training until validation scores don't improve for 100 rounds\n",
      "Training until validation scores don't improve for 100 rounds\n"
     ]
    },
    {
     "name": "stderr",
     "output_type": "stream",
     "text": [
      "\u001b[32m[I 2023-01-13 11:02:05,130]\u001b[0m Trial 86 pruned. Trial was pruned at iteration 11.\u001b[0m\n",
      "\u001b[32m[I 2023-01-13 11:02:09,272]\u001b[0m Trial 87 pruned. Trial was pruned at iteration 0.\u001b[0m\n"
     ]
    },
    {
     "name": "stdout",
     "output_type": "stream",
     "text": [
      "Training until validation scores don't improve for 100 rounds\n"
     ]
    },
    {
     "name": "stderr",
     "output_type": "stream",
     "text": [
      "\u001b[32m[I 2023-01-13 11:02:17,392]\u001b[0m Trial 88 pruned. Trial was pruned at iteration 2.\u001b[0m\n"
     ]
    },
    {
     "name": "stdout",
     "output_type": "stream",
     "text": [
      "Training until validation scores don't improve for 100 rounds\n"
     ]
    },
    {
     "name": "stderr",
     "output_type": "stream",
     "text": [
      "\u001b[32m[I 2023-01-13 11:02:25,747]\u001b[0m Trial 89 pruned. Trial was pruned at iteration 10.\u001b[0m\n",
      "\u001b[32m[I 2023-01-13 11:02:30,729]\u001b[0m Trial 90 pruned. Trial was pruned at iteration 0.\u001b[0m\n",
      "\u001b[32m[I 2023-01-13 11:02:35,687]\u001b[0m Trial 91 pruned. Trial was pruned at iteration 0.\u001b[0m\n",
      "\u001b[32m[I 2023-01-13 11:02:41,066]\u001b[0m Trial 92 pruned. Trial was pruned at iteration 0.\u001b[0m\n",
      "\u001b[32m[I 2023-01-13 11:02:45,450]\u001b[0m Trial 93 pruned. Trial was pruned at iteration 0.\u001b[0m\n",
      "\u001b[32m[I 2023-01-13 11:02:50,261]\u001b[0m Trial 94 pruned. Trial was pruned at iteration 0.\u001b[0m\n",
      "\u001b[32m[I 2023-01-13 11:02:54,865]\u001b[0m Trial 95 pruned. Trial was pruned at iteration 0.\u001b[0m\n",
      "\u001b[32m[I 2023-01-13 11:02:59,870]\u001b[0m Trial 96 pruned. Trial was pruned at iteration 0.\u001b[0m\n",
      "\u001b[32m[I 2023-01-13 11:03:04,371]\u001b[0m Trial 97 pruned. Trial was pruned at iteration 0.\u001b[0m\n",
      "\u001b[32m[I 2023-01-13 11:03:08,834]\u001b[0m Trial 98 pruned. Trial was pruned at iteration 2.\u001b[0m\n"
     ]
    },
    {
     "name": "stdout",
     "output_type": "stream",
     "text": [
      "Training until validation scores don't improve for 100 rounds\n"
     ]
    },
    {
     "name": "stderr",
     "output_type": "stream",
     "text": [
      "\u001b[32m[I 2023-01-13 11:03:14,544]\u001b[0m Trial 99 pruned. Trial was pruned at iteration 0.\u001b[0m\n"
     ]
    },
    {
     "name": "stdout",
     "output_type": "stream",
     "text": [
      "Number of finished trials: 100\n",
      "Best trial: {'learning_rate': 0.10488972496870035, 'num_leaves': 100, 'max_depth': 10, 'min_child_samples': 1100, 'max_bin': 285, 'reg_alpha': 15, 'reg_lambda': 10, 'min_split_gain': 2.916286562179216, 'subsample': 0.8, 'subsample_freq': 1, 'colsample_bytree': 0.2, 'path_smooth': 1.0}\n"
     ]
    }
   ],
   "source": [
    "date_log = datetime.now().strftime(\"%Y_%m_%d_%H_%M\")\n",
    "study = optuna.create_study(direction=\"maximize\", study_name=f\"parameter_tuning_{config.country}_{date_log}\")\n",
    "mlflow_callback = MLflowCallback(nest_trials =True,tracking_uri=mlflow.get_tracking_uri(),metric_name = 'auc')\n",
    "func = lambda trial: objective(trial, df_pairs)\n",
    "study.optimize(func, n_trials=100,callbacks=[mlflow_callback])\n",
    "print('Number of finished trials:', len(study.trials))\n",
    "print('Best trial:', study.best_trial.params)\n"
   ]
  },
  {
   "cell_type": "code",
   "execution_count": 10,
   "metadata": {},
   "outputs": [],
   "source": [
    "study.trials_dataframe().to_csv(\"/workspace/ligthgbm_trials3.csv\",index=None)"
   ]
  },
  {
   "cell_type": "code",
   "execution_count": 11,
   "metadata": {},
   "outputs": [
    {
     "name": "stdout",
     "output_type": "stream",
     "text": [
      "Training until validation scores don't improve for 100 rounds\n"
     ]
    },
    {
     "name": "stderr",
     "output_type": "stream",
     "text": [
      "\u001b[32m[I 2023-01-13 11:09:35,363]\u001b[0m Trial 100 pruned. Trial was pruned at iteration 5.\u001b[0m\n",
      "\u001b[32m[I 2023-01-13 11:09:38,110]\u001b[0m Trial 101 pruned. Trial was pruned at iteration 0.\u001b[0m\n"
     ]
    },
    {
     "name": "stdout",
     "output_type": "stream",
     "text": [
      "Training until validation scores don't improve for 100 rounds\n"
     ]
    },
    {
     "name": "stderr",
     "output_type": "stream",
     "text": [
      "\u001b[32m[I 2023-01-13 11:09:50,965]\u001b[0m Trial 102 pruned. Trial was pruned at iteration 11.\u001b[0m\n"
     ]
    },
    {
     "name": "stdout",
     "output_type": "stream",
     "text": [
      "Training until validation scores don't improve for 100 rounds\n"
     ]
    },
    {
     "name": "stderr",
     "output_type": "stream",
     "text": [
      "\u001b[32m[I 2023-01-13 11:09:56,147]\u001b[0m Trial 103 pruned. Trial was pruned at iteration 13.\u001b[0m\n",
      "\u001b[32m[I 2023-01-13 11:10:00,777]\u001b[0m Trial 104 pruned. Trial was pruned at iteration 0.\u001b[0m\n"
     ]
    },
    {
     "name": "stdout",
     "output_type": "stream",
     "text": [
      "Training until validation scores don't improve for 100 rounds\n"
     ]
    },
    {
     "name": "stderr",
     "output_type": "stream",
     "text": [
      "\u001b[32m[I 2023-01-13 11:10:05,999]\u001b[0m Trial 105 pruned. Trial was pruned at iteration 2.\u001b[0m\n",
      "\u001b[32m[I 2023-01-13 11:10:10,240]\u001b[0m Trial 106 pruned. Trial was pruned at iteration 1.\u001b[0m\n"
     ]
    },
    {
     "name": "stdout",
     "output_type": "stream",
     "text": [
      "Training until validation scores don't improve for 100 rounds\n"
     ]
    },
    {
     "name": "stderr",
     "output_type": "stream",
     "text": [
      "\u001b[32m[I 2023-01-13 11:10:14,810]\u001b[0m Trial 107 pruned. Trial was pruned at iteration 0.\u001b[0m\n",
      "\u001b[32m[I 2023-01-13 11:10:19,637]\u001b[0m Trial 108 pruned. Trial was pruned at iteration 0.\u001b[0m\n",
      "\u001b[32m[I 2023-01-13 11:10:25,284]\u001b[0m Trial 109 pruned. Trial was pruned at iteration 0.\u001b[0m\n",
      "\u001b[32m[I 2023-01-13 11:10:30,751]\u001b[0m Trial 110 pruned. Trial was pruned at iteration 0.\u001b[0m\n",
      "\u001b[32m[I 2023-01-13 11:10:36,792]\u001b[0m Trial 111 pruned. Trial was pruned at iteration 0.\u001b[0m\n",
      "\u001b[32m[I 2023-01-13 11:10:42,399]\u001b[0m Trial 112 pruned. Trial was pruned at iteration 0.\u001b[0m\n",
      "\u001b[32m[I 2023-01-13 11:10:47,657]\u001b[0m Trial 113 pruned. Trial was pruned at iteration 0.\u001b[0m\n",
      "\u001b[32m[I 2023-01-13 11:10:52,519]\u001b[0m Trial 114 pruned. Trial was pruned at iteration 0.\u001b[0m\n",
      "\u001b[32m[I 2023-01-13 11:10:57,207]\u001b[0m Trial 115 pruned. Trial was pruned at iteration 0.\u001b[0m\n",
      "\u001b[32m[I 2023-01-13 11:11:01,696]\u001b[0m Trial 116 pruned. Trial was pruned at iteration 0.\u001b[0m\n",
      "\u001b[32m[I 2023-01-13 11:11:06,473]\u001b[0m Trial 117 pruned. Trial was pruned at iteration 0.\u001b[0m\n",
      "\u001b[32m[I 2023-01-13 11:11:10,613]\u001b[0m Trial 118 pruned. Trial was pruned at iteration 0.\u001b[0m\n",
      "\u001b[32m[I 2023-01-13 11:11:15,790]\u001b[0m Trial 119 pruned. Trial was pruned at iteration 0.\u001b[0m\n",
      "\u001b[32m[I 2023-01-13 11:11:20,202]\u001b[0m Trial 120 pruned. Trial was pruned at iteration 0.\u001b[0m\n",
      "\u001b[32m[I 2023-01-13 11:11:25,129]\u001b[0m Trial 121 pruned. Trial was pruned at iteration 0.\u001b[0m\n",
      "\u001b[32m[I 2023-01-13 11:11:30,147]\u001b[0m Trial 122 pruned. Trial was pruned at iteration 0.\u001b[0m\n",
      "\u001b[32m[I 2023-01-13 11:11:35,392]\u001b[0m Trial 123 pruned. Trial was pruned at iteration 0.\u001b[0m\n",
      "\u001b[32m[I 2023-01-13 11:11:40,312]\u001b[0m Trial 124 pruned. Trial was pruned at iteration 0.\u001b[0m\n"
     ]
    },
    {
     "name": "stdout",
     "output_type": "stream",
     "text": [
      "Training until validation scores don't improve for 100 rounds\n"
     ]
    },
    {
     "name": "stderr",
     "output_type": "stream",
     "text": [
      "\u001b[32m[I 2023-01-13 11:11:47,533]\u001b[0m Trial 125 pruned. Trial was pruned at iteration 1.\u001b[0m\n",
      "\u001b[32m[I 2023-01-13 11:11:52,675]\u001b[0m Trial 126 pruned. Trial was pruned at iteration 0.\u001b[0m\n",
      "\u001b[32m[I 2023-01-13 11:11:57,915]\u001b[0m Trial 127 pruned. Trial was pruned at iteration 0.\u001b[0m\n",
      "\u001b[32m[I 2023-01-13 11:12:02,979]\u001b[0m Trial 128 pruned. Trial was pruned at iteration 0.\u001b[0m\n",
      "\u001b[32m[I 2023-01-13 11:12:08,484]\u001b[0m Trial 129 pruned. Trial was pruned at iteration 0.\u001b[0m\n",
      "\u001b[32m[I 2023-01-13 11:12:14,227]\u001b[0m Trial 130 pruned. Trial was pruned at iteration 0.\u001b[0m\n"
     ]
    },
    {
     "name": "stdout",
     "output_type": "stream",
     "text": [
      "Training until validation scores don't improve for 100 rounds\n"
     ]
    },
    {
     "name": "stderr",
     "output_type": "stream",
     "text": [
      "\u001b[32m[I 2023-01-13 11:12:30,423]\u001b[0m Trial 131 pruned. Trial was pruned at iteration 10.\u001b[0m\n",
      "\u001b[32m[I 2023-01-13 11:12:34,044]\u001b[0m Trial 132 pruned. Trial was pruned at iteration 0.\u001b[0m\n",
      "\u001b[32m[I 2023-01-13 11:12:38,926]\u001b[0m Trial 133 pruned. Trial was pruned at iteration 0.\u001b[0m\n",
      "\u001b[32m[I 2023-01-13 11:12:45,528]\u001b[0m Trial 134 pruned. Trial was pruned at iteration 0.\u001b[0m\n",
      "\u001b[32m[I 2023-01-13 11:12:51,640]\u001b[0m Trial 135 pruned. Trial was pruned at iteration 0.\u001b[0m\n"
     ]
    },
    {
     "name": "stdout",
     "output_type": "stream",
     "text": [
      "Training until validation scores don't improve for 100 rounds\n"
     ]
    },
    {
     "name": "stderr",
     "output_type": "stream",
     "text": [
      "\u001b[32m[I 2023-01-13 11:12:59,683]\u001b[0m Trial 136 pruned. Trial was pruned at iteration 1.\u001b[0m\n",
      "\u001b[32m[I 2023-01-13 11:13:07,294]\u001b[0m Trial 137 pruned. Trial was pruned at iteration 0.\u001b[0m\n",
      "\u001b[32m[I 2023-01-13 11:13:14,458]\u001b[0m Trial 138 pruned. Trial was pruned at iteration 0.\u001b[0m\n",
      "\u001b[32m[I 2023-01-13 11:13:21,075]\u001b[0m Trial 139 pruned. Trial was pruned at iteration 0.\u001b[0m\n",
      "\u001b[32m[I 2023-01-13 11:13:27,033]\u001b[0m Trial 140 pruned. Trial was pruned at iteration 0.\u001b[0m\n",
      "\u001b[32m[I 2023-01-13 11:13:34,024]\u001b[0m Trial 141 pruned. Trial was pruned at iteration 0.\u001b[0m\n",
      "\u001b[32m[I 2023-01-13 11:13:41,667]\u001b[0m Trial 142 pruned. Trial was pruned at iteration 0.\u001b[0m\n",
      "\u001b[32m[I 2023-01-13 11:13:48,260]\u001b[0m Trial 143 pruned. Trial was pruned at iteration 0.\u001b[0m\n",
      "\u001b[32m[I 2023-01-13 11:13:54,179]\u001b[0m Trial 144 pruned. Trial was pruned at iteration 0.\u001b[0m\n",
      "\u001b[32m[I 2023-01-13 11:14:01,990]\u001b[0m Trial 145 pruned. Trial was pruned at iteration 0.\u001b[0m\n",
      "\u001b[32m[I 2023-01-13 11:14:09,934]\u001b[0m Trial 146 pruned. Trial was pruned at iteration 0.\u001b[0m\n"
     ]
    },
    {
     "name": "stdout",
     "output_type": "stream",
     "text": [
      "Training until validation scores don't improve for 100 rounds\n"
     ]
    },
    {
     "name": "stderr",
     "output_type": "stream",
     "text": [
      "\u001b[32m[I 2023-01-13 11:14:23,085]\u001b[0m Trial 147 pruned. Trial was pruned at iteration 4.\u001b[0m\n",
      "\u001b[32m[I 2023-01-13 11:14:27,068]\u001b[0m Trial 148 pruned. Trial was pruned at iteration 0.\u001b[0m\n"
     ]
    },
    {
     "name": "stdout",
     "output_type": "stream",
     "text": [
      "Training until validation scores don't improve for 100 rounds\n"
     ]
    },
    {
     "name": "stderr",
     "output_type": "stream",
     "text": [
      "\u001b[32m[I 2023-01-13 11:14:34,753]\u001b[0m Trial 149 pruned. Trial was pruned at iteration 1.\u001b[0m\n",
      "\u001b[32m[I 2023-01-13 11:14:41,908]\u001b[0m Trial 150 pruned. Trial was pruned at iteration 0.\u001b[0m\n"
     ]
    },
    {
     "name": "stdout",
     "output_type": "stream",
     "text": [
      "Training until validation scores don't improve for 100 rounds\n"
     ]
    },
    {
     "name": "stderr",
     "output_type": "stream",
     "text": [
      "\u001b[32m[I 2023-01-13 11:14:52,334]\u001b[0m Trial 151 pruned. Trial was pruned at iteration 11.\u001b[0m\n"
     ]
    },
    {
     "name": "stdout",
     "output_type": "stream",
     "text": [
      "Training until validation scores don't improve for 100 rounds\n"
     ]
    },
    {
     "name": "stderr",
     "output_type": "stream",
     "text": [
      "\u001b[32m[I 2023-01-13 11:14:56,892]\u001b[0m Trial 152 pruned. Trial was pruned at iteration 2.\u001b[0m\n"
     ]
    },
    {
     "name": "stdout",
     "output_type": "stream",
     "text": [
      "Training until validation scores don't improve for 100 rounds\n"
     ]
    },
    {
     "name": "stderr",
     "output_type": "stream",
     "text": [
      "\u001b[32m[I 2023-01-13 11:15:11,844]\u001b[0m Trial 153 pruned. Trial was pruned at iteration 11.\u001b[0m\n",
      "\u001b[32m[I 2023-01-13 11:15:15,654]\u001b[0m Trial 154 pruned. Trial was pruned at iteration 0.\u001b[0m\n",
      "\u001b[32m[I 2023-01-13 11:15:20,918]\u001b[0m Trial 155 pruned. Trial was pruned at iteration 0.\u001b[0m\n",
      "\u001b[32m[I 2023-01-13 11:15:25,451]\u001b[0m Trial 156 pruned. Trial was pruned at iteration 2.\u001b[0m\n"
     ]
    },
    {
     "name": "stdout",
     "output_type": "stream",
     "text": [
      "Training until validation scores don't improve for 100 rounds\n"
     ]
    },
    {
     "name": "stderr",
     "output_type": "stream",
     "text": [
      "\u001b[32m[I 2023-01-13 11:15:31,565]\u001b[0m Trial 157 pruned. Trial was pruned at iteration 0.\u001b[0m\n",
      "\u001b[32m[I 2023-01-13 11:15:36,509]\u001b[0m Trial 158 pruned. Trial was pruned at iteration 0.\u001b[0m\n",
      "\u001b[32m[I 2023-01-13 11:15:41,874]\u001b[0m Trial 159 pruned. Trial was pruned at iteration 0.\u001b[0m\n",
      "\u001b[32m[I 2023-01-13 11:15:48,632]\u001b[0m Trial 160 pruned. Trial was pruned at iteration 0.\u001b[0m\n"
     ]
    },
    {
     "name": "stdout",
     "output_type": "stream",
     "text": [
      "Training until validation scores don't improve for 100 rounds\n"
     ]
    },
    {
     "name": "stderr",
     "output_type": "stream",
     "text": [
      "\u001b[32m[I 2023-01-13 11:16:02,274]\u001b[0m Trial 161 pruned. Trial was pruned at iteration 15.\u001b[0m\n",
      "\u001b[32m[I 2023-01-13 11:16:06,718]\u001b[0m Trial 162 pruned. Trial was pruned at iteration 1.\u001b[0m\n"
     ]
    },
    {
     "name": "stdout",
     "output_type": "stream",
     "text": [
      "Training until validation scores don't improve for 100 rounds\n",
      "Training until validation scores don't improve for 100 rounds\n"
     ]
    },
    {
     "name": "stderr",
     "output_type": "stream",
     "text": [
      "\u001b[32m[I 2023-01-13 11:16:23,358]\u001b[0m Trial 163 pruned. Trial was pruned at iteration 11.\u001b[0m\n",
      "\u001b[32m[I 2023-01-13 11:16:28,857]\u001b[0m Trial 164 pruned. Trial was pruned at iteration 0.\u001b[0m\n"
     ]
    },
    {
     "name": "stdout",
     "output_type": "stream",
     "text": [
      "Training until validation scores don't improve for 100 rounds\n"
     ]
    },
    {
     "name": "stderr",
     "output_type": "stream",
     "text": [
      "\u001b[32m[I 2023-01-13 11:16:35,503]\u001b[0m Trial 165 pruned. Trial was pruned at iteration 1.\u001b[0m\n"
     ]
    },
    {
     "name": "stdout",
     "output_type": "stream",
     "text": [
      "Training until validation scores don't improve for 100 rounds\n"
     ]
    },
    {
     "name": "stderr",
     "output_type": "stream",
     "text": [
      "\u001b[32m[I 2023-01-13 11:16:43,839]\u001b[0m Trial 166 pruned. Trial was pruned at iteration 4.\u001b[0m\n",
      "\u001b[32m[I 2023-01-13 11:16:50,755]\u001b[0m Trial 167 pruned. Trial was pruned at iteration 0.\u001b[0m\n",
      "\u001b[32m[I 2023-01-13 11:16:55,420]\u001b[0m Trial 168 pruned. Trial was pruned at iteration 1.\u001b[0m\n"
     ]
    },
    {
     "name": "stdout",
     "output_type": "stream",
     "text": [
      "Training until validation scores don't improve for 100 rounds\n"
     ]
    },
    {
     "name": "stderr",
     "output_type": "stream",
     "text": [
      "\u001b[32m[I 2023-01-13 11:17:00,837]\u001b[0m Trial 169 pruned. Trial was pruned at iteration 0.\u001b[0m\n"
     ]
    },
    {
     "name": "stdout",
     "output_type": "stream",
     "text": [
      "Training until validation scores don't improve for 100 rounds\n"
     ]
    },
    {
     "name": "stderr",
     "output_type": "stream",
     "text": [
      "\u001b[32m[I 2023-01-13 11:17:07,255]\u001b[0m Trial 170 pruned. Trial was pruned at iteration 10.\u001b[0m\n"
     ]
    },
    {
     "name": "stdout",
     "output_type": "stream",
     "text": [
      "Training until validation scores don't improve for 100 rounds\n"
     ]
    },
    {
     "name": "stderr",
     "output_type": "stream",
     "text": [
      "\u001b[32m[I 2023-01-13 11:17:20,532]\u001b[0m Trial 171 pruned. Trial was pruned at iteration 13.\u001b[0m\n"
     ]
    },
    {
     "name": "stdout",
     "output_type": "stream",
     "text": [
      "Training until validation scores don't improve for 100 rounds\n"
     ]
    },
    {
     "name": "stderr",
     "output_type": "stream",
     "text": [
      "\u001b[32m[I 2023-01-13 11:17:28,872]\u001b[0m Trial 172 pruned. Trial was pruned at iteration 13.\u001b[0m\n"
     ]
    },
    {
     "name": "stdout",
     "output_type": "stream",
     "text": [
      "Training until validation scores don't improve for 100 rounds\n"
     ]
    },
    {
     "name": "stderr",
     "output_type": "stream",
     "text": [
      "\u001b[32m[I 2023-01-13 11:17:35,142]\u001b[0m Trial 173 pruned. Trial was pruned at iteration 1.\u001b[0m\n"
     ]
    },
    {
     "name": "stdout",
     "output_type": "stream",
     "text": [
      "Training until validation scores don't improve for 100 rounds\n"
     ]
    },
    {
     "name": "stderr",
     "output_type": "stream",
     "text": [
      "\u001b[32m[I 2023-01-13 11:17:43,912]\u001b[0m Trial 174 pruned. Trial was pruned at iteration 13.\u001b[0m\n"
     ]
    },
    {
     "name": "stdout",
     "output_type": "stream",
     "text": [
      "Training until validation scores don't improve for 100 rounds\n",
      "[100]\tvalid_0's auc: 0.999853\tvalid_0's binary_logloss: 0.00924671\n",
      "[200]\tvalid_0's auc: 0.999853\tvalid_0's binary_logloss: 0.00920787\n",
      "[300]\tvalid_0's auc: 0.999855\tvalid_0's binary_logloss: 0.00917411\n"
     ]
    },
    {
     "name": "stderr",
     "output_type": "stream",
     "text": [
      "\u001b[32m[I 2023-01-13 11:18:13,624]\u001b[0m Trial 175 pruned. Trial was pruned at iteration 305.\u001b[0m\n"
     ]
    },
    {
     "name": "stdout",
     "output_type": "stream",
     "text": [
      "Training until validation scores don't improve for 100 rounds\n",
      "[100]\tvalid_0's auc: 0.999861\tvalid_0's binary_logloss: 0.00901772\n",
      "[200]\tvalid_0's auc: 0.999862\tvalid_0's binary_logloss: 0.0089806\n",
      "[300]\tvalid_0's auc: 0.999865\tvalid_0's binary_logloss: 0.008924\n",
      "Early stopping, best iteration is:\n",
      "[295]\tvalid_0's auc: 0.999865\tvalid_0's binary_logloss: 0.008924\n",
      "[100]\tvalid_0's auc: 0.999886\tvalid_0's binary_logloss: 0.00857921\n",
      "[200]\tvalid_0's auc: 0.999887\tvalid_0's binary_logloss: 0.00853992\n",
      "[300]\tvalid_0's auc: 0.999888\tvalid_0's binary_logloss: 0.00852824\n",
      "[400]\tvalid_0's auc: 0.999889\tvalid_0's binary_logloss: 0.00849729\n",
      "[500]\tvalid_0's auc: 0.999889\tvalid_0's binary_logloss: 0.00847467\n",
      "[600]\tvalid_0's auc: 0.999889\tvalid_0's binary_logloss: 0.00846649\n",
      "Early stopping, best iteration is:\n",
      "[509]\tvalid_0's auc: 0.99989\tvalid_0's binary_logloss: 0.00846539\n",
      "[100]\tvalid_0's auc: 0.99988\tvalid_0's binary_logloss: 0.0087229\n",
      "[200]\tvalid_0's auc: 0.999881\tvalid_0's binary_logloss: 0.0086888\n",
      "[300]\tvalid_0's auc: 0.999882\tvalid_0's binary_logloss: 0.00865543\n",
      "[400]\tvalid_0's auc: 0.999882\tvalid_0's binary_logloss: 0.00863239\n",
      "[500]\tvalid_0's auc: 0.999883\tvalid_0's binary_logloss: 0.00863097\n",
      "[600]\tvalid_0's auc: 0.999883\tvalid_0's binary_logloss: 0.00861263\n",
      "Early stopping, best iteration is:\n",
      "[509]\tvalid_0's auc: 0.99989\tvalid_0's binary_logloss: 0.00846539\n",
      "[100]\tvalid_0's auc: 0.999872\tvalid_0's binary_logloss: 0.00873898\n",
      "[200]\tvalid_0's auc: 0.999872\tvalid_0's binary_logloss: 0.0086991\n",
      "[300]\tvalid_0's auc: 0.999873\tvalid_0's binary_logloss: 0.00868227\n",
      "[400]\tvalid_0's auc: 0.999873\tvalid_0's binary_logloss: 0.00868227\n",
      "[500]\tvalid_0's auc: 0.999873\tvalid_0's binary_logloss: 0.0086782\n",
      "[600]\tvalid_0's auc: 0.999873\tvalid_0's binary_logloss: 0.00867052\n",
      "Early stopping, best iteration is:\n",
      "[509]\tvalid_0's auc: 0.99989\tvalid_0's binary_logloss: 0.00846539\n",
      "[100]\tvalid_0's auc: 0.999895\tvalid_0's binary_logloss: 0.00868405\n",
      "[200]\tvalid_0's auc: 0.999896\tvalid_0's binary_logloss: 0.00862698\n",
      "[300]\tvalid_0's auc: 0.999896\tvalid_0's binary_logloss: 0.00860252\n",
      "[400]\tvalid_0's auc: 0.999897\tvalid_0's binary_logloss: 0.00858883\n",
      "[500]\tvalid_0's auc: 0.999897\tvalid_0's binary_logloss: 0.00857291\n",
      "[600]\tvalid_0's auc: 0.999897\tvalid_0's binary_logloss: 0.00857038\n",
      "Early stopping, best iteration is:\n",
      "[510]\tvalid_0's auc: 0.99989\tvalid_0's binary_logloss: 0.00846539\n"
     ]
    },
    {
     "name": "stderr",
     "output_type": "stream",
     "text": [
      "\u001b[32m[I 2023-01-13 11:20:41,331]\u001b[0m Trial 176 finished with value: 0.9998814943417502 and parameters: {'learning_rate': 0.23450408710062448, 'num_leaves': 1000, 'max_depth': 11, 'min_child_samples': 1000, 'max_bin': 189, 'reg_alpha': 5, 'reg_lambda': 30, 'min_split_gain': 8.165975382862865, 'subsample': 0.8, 'subsample_freq': 1, 'colsample_bytree': 0.7, 'path_smooth': 1.0}. Best is trial 3 with value: 0.9998825428991063.\u001b[0m\n"
     ]
    },
    {
     "name": "stdout",
     "output_type": "stream",
     "text": [
      "train auc score = 0.999895458997635\n",
      "test auc score = 0.9998814943417502\n",
      "Training until validation scores don't improve for 100 rounds\n"
     ]
    },
    {
     "name": "stderr",
     "output_type": "stream",
     "text": [
      "\u001b[32m[I 2023-01-13 11:20:46,442]\u001b[0m Trial 177 pruned. Trial was pruned at iteration 4.\u001b[0m\n"
     ]
    },
    {
     "name": "stdout",
     "output_type": "stream",
     "text": [
      "Training until validation scores don't improve for 100 rounds\n"
     ]
    },
    {
     "name": "stderr",
     "output_type": "stream",
     "text": [
      "\u001b[32m[I 2023-01-13 11:20:50,801]\u001b[0m Trial 178 pruned. Trial was pruned at iteration 14.\u001b[0m\n",
      "\u001b[32m[I 2023-01-13 11:20:53,694]\u001b[0m Trial 179 pruned. Trial was pruned at iteration 0.\u001b[0m\n"
     ]
    },
    {
     "name": "stdout",
     "output_type": "stream",
     "text": [
      "Training until validation scores don't improve for 100 rounds\n"
     ]
    },
    {
     "name": "stderr",
     "output_type": "stream",
     "text": [
      "\u001b[32m[I 2023-01-13 11:20:57,785]\u001b[0m Trial 180 pruned. Trial was pruned at iteration 5.\u001b[0m\n"
     ]
    },
    {
     "name": "stdout",
     "output_type": "stream",
     "text": [
      "Training until validation scores don't improve for 100 rounds\n",
      "[100]\tvalid_0's auc: 0.999863\tvalid_0's binary_logloss: 0.00908556\n",
      "[200]\tvalid_0's auc: 0.999864\tvalid_0's binary_logloss: 0.00904699\n",
      "[300]\tvalid_0's auc: 0.999866\tvalid_0's binary_logloss: 0.00899186\n",
      "[400]\tvalid_0's auc: 0.999867\tvalid_0's binary_logloss: 0.00897682\n",
      "[500]\tvalid_0's auc: 0.999867\tvalid_0's binary_logloss: 0.00895231\n",
      "[600]\tvalid_0's auc: 0.999868\tvalid_0's binary_logloss: 0.00894092\n",
      "[700]\tvalid_0's auc: 0.999869\tvalid_0's binary_logloss: 0.00892549\n",
      "Early stopping, best iteration is:\n",
      "[684]\tvalid_0's auc: 0.999869\tvalid_0's binary_logloss: 0.00892549\n",
      "[100]\tvalid_0's auc: 0.999886\tvalid_0's binary_logloss: 0.00861455\n",
      "[200]\tvalid_0's auc: 0.999888\tvalid_0's binary_logloss: 0.00856972\n",
      "[300]\tvalid_0's auc: 0.999889\tvalid_0's binary_logloss: 0.0085371\n",
      "[400]\tvalid_0's auc: 0.99989\tvalid_0's binary_logloss: 0.00851148\n",
      "[500]\tvalid_0's auc: 0.99989\tvalid_0's binary_logloss: 0.00850109\n",
      "[600]\tvalid_0's auc: 0.999891\tvalid_0's binary_logloss: 0.00847803\n",
      "Early stopping, best iteration is:\n",
      "[564]\tvalid_0's auc: 0.999891\tvalid_0's binary_logloss: 0.00848412\n",
      "[100]\tvalid_0's auc: 0.999877\tvalid_0's binary_logloss: 0.00875346\n",
      "[200]\tvalid_0's auc: 0.999878\tvalid_0's binary_logloss: 0.00869992\n",
      "[300]\tvalid_0's auc: 0.999879\tvalid_0's binary_logloss: 0.00867831\n",
      "[400]\tvalid_0's auc: 0.999879\tvalid_0's binary_logloss: 0.00864639\n",
      "[500]\tvalid_0's auc: 0.99988\tvalid_0's binary_logloss: 0.00863935\n",
      "[600]\tvalid_0's auc: 0.99988\tvalid_0's binary_logloss: 0.00862704\n",
      "Early stopping, best iteration is:\n",
      "[564]\tvalid_0's auc: 0.999891\tvalid_0's binary_logloss: 0.00848412\n",
      "[100]\tvalid_0's auc: 0.999876\tvalid_0's binary_logloss: 0.00865503\n",
      "[200]\tvalid_0's auc: 0.999877\tvalid_0's binary_logloss: 0.00860107\n",
      "[300]\tvalid_0's auc: 0.999877\tvalid_0's binary_logloss: 0.00859184\n",
      "[400]\tvalid_0's auc: 0.999877\tvalid_0's binary_logloss: 0.00858707\n",
      "[500]\tvalid_0's auc: 0.999878\tvalid_0's binary_logloss: 0.00857709\n",
      "[600]\tvalid_0's auc: 0.999878\tvalid_0's binary_logloss: 0.00856186\n",
      "Early stopping, best iteration is:\n",
      "[564]\tvalid_0's auc: 0.999891\tvalid_0's binary_logloss: 0.00848412\n",
      "[100]\tvalid_0's auc: 0.999895\tvalid_0's binary_logloss: 0.0087039\n",
      "[200]\tvalid_0's auc: 0.999896\tvalid_0's binary_logloss: 0.00864165\n",
      "[300]\tvalid_0's auc: 0.999896\tvalid_0's binary_logloss: 0.00862991\n",
      "[400]\tvalid_0's auc: 0.999897\tvalid_0's binary_logloss: 0.00861655\n",
      "[500]\tvalid_0's auc: 0.999897\tvalid_0's binary_logloss: 0.00859058\n",
      "[600]\tvalid_0's auc: 0.999897\tvalid_0's binary_logloss: 0.0085863\n",
      "[700]\tvalid_0's auc: 0.999897\tvalid_0's binary_logloss: 0.00858029\n",
      "Early stopping, best iteration is:\n",
      "[601]\tvalid_0's auc: 0.999897\tvalid_0's binary_logloss: 0.00858572\n"
     ]
    },
    {
     "name": "stderr",
     "output_type": "stream",
     "text": [
      "\u001b[32m[I 2023-01-13 11:23:45,698]\u001b[0m Trial 181 finished with value: 0.9998829814551332 and parameters: {'learning_rate': 0.25134152457354964, 'num_leaves': 1140, 'max_depth': 12, 'min_child_samples': 900, 'max_bin': 197, 'reg_alpha': 5, 'reg_lambda': 30, 'min_split_gain': 7.868340795289826, 'subsample': 0.8, 'subsample_freq': 1, 'colsample_bytree': 0.7, 'path_smooth': 1.0}. Best is trial 181 with value: 0.9998829814551332.\u001b[0m\n"
     ]
    },
    {
     "name": "stdout",
     "output_type": "stream",
     "text": [
      "train auc score = 0.9998980527490202\n",
      "test auc score = 0.9998829814551332\n",
      "Training until validation scores don't improve for 100 rounds\n",
      "[100]\tvalid_0's auc: 0.999876\tvalid_0's binary_logloss: 0.00872753\n",
      "[200]\tvalid_0's auc: 0.999878\tvalid_0's binary_logloss: 0.0086405\n",
      "[300]\tvalid_0's auc: 0.99988\tvalid_0's binary_logloss: 0.00857755\n",
      "Early stopping, best iteration is:\n",
      "[249]\tvalid_0's auc: 0.999881\tvalid_0's binary_logloss: 0.00858458\n",
      "[100]\tvalid_0's auc: 0.999897\tvalid_0's binary_logloss: 0.00822896\n",
      "[200]\tvalid_0's auc: 0.999899\tvalid_0's binary_logloss: 0.00815048\n",
      "[300]\tvalid_0's auc: 0.999901\tvalid_0's binary_logloss: 0.00811661\n",
      "Early stopping, best iteration is:\n",
      "[296]\tvalid_0's auc: 0.999901\tvalid_0's binary_logloss: 0.00811661\n",
      "[100]\tvalid_0's auc: 0.999887\tvalid_0's binary_logloss: 0.00842003\n",
      "[200]\tvalid_0's auc: 0.999889\tvalid_0's binary_logloss: 0.00836087\n",
      "[300]\tvalid_0's auc: 0.999889\tvalid_0's binary_logloss: 0.00832606\n",
      "Early stopping, best iteration is:\n",
      "[296]\tvalid_0's auc: 0.999901\tvalid_0's binary_logloss: 0.00811661\n",
      "[100]\tvalid_0's auc: 0.999879\tvalid_0's binary_logloss: 0.00843667\n",
      "[200]\tvalid_0's auc: 0.999883\tvalid_0's binary_logloss: 0.00832778\n",
      "[300]\tvalid_0's auc: 0.999884\tvalid_0's binary_logloss: 0.00829452\n",
      "Early stopping, best iteration is:\n",
      "[296]\tvalid_0's auc: 0.999901\tvalid_0's binary_logloss: 0.00811661\n",
      "[100]\tvalid_0's auc: 0.999905\tvalid_0's binary_logloss: 0.00823576\n",
      "[200]\tvalid_0's auc: 0.999907\tvalid_0's binary_logloss: 0.00812588\n",
      "[300]\tvalid_0's auc: 0.999907\tvalid_0's binary_logloss: 0.00809859\n",
      "[400]\tvalid_0's auc: 0.999907\tvalid_0's binary_logloss: 0.00807132\n",
      "[500]\tvalid_0's auc: 0.999908\tvalid_0's binary_logloss: 0.00804451\n",
      "[600]\tvalid_0's auc: 0.999908\tvalid_0's binary_logloss: 0.00802735\n",
      "Early stopping, best iteration is:\n",
      "[588]\tvalid_0's auc: 0.999908\tvalid_0's binary_logloss: 0.00802735\n"
     ]
    },
    {
     "name": "stderr",
     "output_type": "stream",
     "text": [
      "\u001b[32m[I 2023-01-13 11:25:58,775]\u001b[0m Trial 182 finished with value: 0.9998923624752326 and parameters: {'learning_rate': 0.25279794211663337, 'num_leaves': 1160, 'max_depth': 12, 'min_child_samples': 900, 'max_bin': 201, 'reg_alpha': 0, 'reg_lambda': 30, 'min_split_gain': 7.787240964566725, 'subsample': 0.8, 'subsample_freq': 1, 'colsample_bytree': 0.7, 'path_smooth': 1.0}. Best is trial 182 with value: 0.9998923624752326.\u001b[0m\n"
     ]
    },
    {
     "name": "stdout",
     "output_type": "stream",
     "text": [
      "train auc score = 0.9999083653449305\n",
      "test auc score = 0.9998923624752326\n",
      "Training until validation scores don't improve for 100 rounds\n",
      "[100]\tvalid_0's auc: 0.999875\tvalid_0's binary_logloss: 0.0087719\n",
      "[200]\tvalid_0's auc: 0.999877\tvalid_0's binary_logloss: 0.00870831\n",
      "[300]\tvalid_0's auc: 0.999879\tvalid_0's binary_logloss: 0.00863946\n",
      "[400]\tvalid_0's auc: 0.99988\tvalid_0's binary_logloss: 0.00859775\n",
      "[500]\tvalid_0's auc: 0.999881\tvalid_0's binary_logloss: 0.00857856\n",
      "Early stopping, best iteration is:\n",
      "[491]\tvalid_0's auc: 0.999881\tvalid_0's binary_logloss: 0.00857856\n",
      "[100]\tvalid_0's auc: 0.999888\tvalid_0's binary_logloss: 0.00838406\n",
      "[200]\tvalid_0's auc: 0.999892\tvalid_0's binary_logloss: 0.00827479\n",
      "[300]\tvalid_0's auc: 0.999893\tvalid_0's binary_logloss: 0.00825672\n",
      "[400]\tvalid_0's auc: 0.999894\tvalid_0's binary_logloss: 0.00823554\n",
      "[500]\tvalid_0's auc: 0.999894\tvalid_0's binary_logloss: 0.00821585\n",
      "Early stopping, best iteration is:\n",
      "[459]\tvalid_0's auc: 0.999894\tvalid_0's binary_logloss: 0.00821472\n",
      "[100]\tvalid_0's auc: 0.999888\tvalid_0's binary_logloss: 0.00845399\n",
      "[200]\tvalid_0's auc: 0.999889\tvalid_0's binary_logloss: 0.00839058\n",
      "[300]\tvalid_0's auc: 0.999889\tvalid_0's binary_logloss: 0.00836661\n",
      "[400]\tvalid_0's auc: 0.999889\tvalid_0's binary_logloss: 0.00835541\n",
      "[500]\tvalid_0's auc: 0.999889\tvalid_0's binary_logloss: 0.008349\n",
      "Early stopping, best iteration is:\n",
      "[459]\tvalid_0's auc: 0.999894\tvalid_0's binary_logloss: 0.00821472\n",
      "[100]\tvalid_0's auc: 0.999882\tvalid_0's binary_logloss: 0.0084143\n",
      "[200]\tvalid_0's auc: 0.999885\tvalid_0's binary_logloss: 0.00833241\n",
      "[300]\tvalid_0's auc: 0.999886\tvalid_0's binary_logloss: 0.00830461\n",
      "[400]\tvalid_0's auc: 0.999887\tvalid_0's binary_logloss: 0.00826673\n",
      "[500]\tvalid_0's auc: 0.999887\tvalid_0's binary_logloss: 0.00824902\n",
      "Early stopping, best iteration is:\n",
      "[459]\tvalid_0's auc: 0.999894\tvalid_0's binary_logloss: 0.00821472\n",
      "[100]\tvalid_0's auc: 0.999907\tvalid_0's binary_logloss: 0.00823522\n",
      "[200]\tvalid_0's auc: 0.99991\tvalid_0's binary_logloss: 0.00809786\n",
      "[300]\tvalid_0's auc: 0.99991\tvalid_0's binary_logloss: 0.00806433\n",
      "[400]\tvalid_0's auc: 0.99991\tvalid_0's binary_logloss: 0.00804018\n",
      "[500]\tvalid_0's auc: 0.999911\tvalid_0's binary_logloss: 0.00799974\n",
      "[600]\tvalid_0's auc: 0.999911\tvalid_0's binary_logloss: 0.00798855\n",
      "[700]\tvalid_0's auc: 0.999911\tvalid_0's binary_logloss: 0.00798161\n",
      "Early stopping, best iteration is:\n",
      "[652]\tvalid_0's auc: 0.999911\tvalid_0's binary_logloss: 0.00798161\n"
     ]
    },
    {
     "name": "stderr",
     "output_type": "stream",
     "text": [
      "\u001b[32m[I 2023-01-13 11:28:27,169]\u001b[0m Trial 183 finished with value: 0.9998923700914537 and parameters: {'learning_rate': 0.25363192156143777, 'num_leaves': 1120, 'max_depth': 12, 'min_child_samples': 900, 'max_bin': 189, 'reg_alpha': 0, 'reg_lambda': 30, 'min_split_gain': 7.8869719235808, 'subsample': 0.8, 'subsample_freq': 1, 'colsample_bytree': 0.7, 'path_smooth': 1.0}. Best is trial 183 with value: 0.9998923700914537.\u001b[0m\n"
     ]
    },
    {
     "name": "stdout",
     "output_type": "stream",
     "text": [
      "train auc score = 0.9999082946478314\n",
      "test auc score = 0.9998923700914537\n",
      "Training until validation scores don't improve for 100 rounds\n",
      "[100]\tvalid_0's auc: 0.999872\tvalid_0's binary_logloss: 0.0088177\n",
      "[200]\tvalid_0's auc: 0.999875\tvalid_0's binary_logloss: 0.00871999\n",
      "[300]\tvalid_0's auc: 0.999877\tvalid_0's binary_logloss: 0.00866333\n",
      "[400]\tvalid_0's auc: 0.999879\tvalid_0's binary_logloss: 0.00862178\n",
      "Early stopping, best iteration is:\n",
      "[362]\tvalid_0's auc: 0.999879\tvalid_0's binary_logloss: 0.00862239\n",
      "[100]\tvalid_0's auc: 0.999895\tvalid_0's binary_logloss: 0.00826767\n",
      "[200]\tvalid_0's auc: 0.999898\tvalid_0's binary_logloss: 0.00817017\n",
      "[300]\tvalid_0's auc: 0.999899\tvalid_0's binary_logloss: 0.00813258\n",
      "[400]\tvalid_0's auc: 0.999899\tvalid_0's binary_logloss: 0.00811864\n",
      "Early stopping, best iteration is:\n",
      "[311]\tvalid_0's auc: 0.999899\tvalid_0's binary_logloss: 0.00812487\n",
      "[100]\tvalid_0's auc: 0.999886\tvalid_0's binary_logloss: 0.00843655\n",
      "[200]\tvalid_0's auc: 0.999888\tvalid_0's binary_logloss: 0.00836164\n",
      "[300]\tvalid_0's auc: 0.999888\tvalid_0's binary_logloss: 0.00832761\n",
      "[400]\tvalid_0's auc: 0.999889\tvalid_0's binary_logloss: 0.00831446\n",
      "Early stopping, best iteration is:\n",
      "[311]\tvalid_0's auc: 0.999899\tvalid_0's binary_logloss: 0.00812487\n",
      "[100]\tvalid_0's auc: 0.99988\tvalid_0's binary_logloss: 0.00840044\n",
      "[200]\tvalid_0's auc: 0.999882\tvalid_0's binary_logloss: 0.00833217\n",
      "[300]\tvalid_0's auc: 0.999883\tvalid_0's binary_logloss: 0.00828488\n",
      "[400]\tvalid_0's auc: 0.999884\tvalid_0's binary_logloss: 0.00825562\n",
      "Early stopping, best iteration is:\n",
      "[311]\tvalid_0's auc: 0.999899\tvalid_0's binary_logloss: 0.00812487\n",
      "[100]\tvalid_0's auc: 0.9999\tvalid_0's binary_logloss: 0.00840096\n",
      "[200]\tvalid_0's auc: 0.999903\tvalid_0's binary_logloss: 0.00828005\n",
      "[300]\tvalid_0's auc: 0.999903\tvalid_0's binary_logloss: 0.00823779\n",
      "[400]\tvalid_0's auc: 0.999903\tvalid_0's binary_logloss: 0.00821316\n",
      "Early stopping, best iteration is:\n",
      "[340]\tvalid_0's auc: 0.999904\tvalid_0's binary_logloss: 0.00821991\n"
     ]
    },
    {
     "name": "stderr",
     "output_type": "stream",
     "text": [
      "\u001b[32m[I 2023-01-13 11:30:21,412]\u001b[0m Trial 184 finished with value: 0.9998906568523586 and parameters: {'learning_rate': 0.2537276720774956, 'num_leaves': 1180, 'max_depth': 12, 'min_child_samples': 1000, 'max_bin': 200, 'reg_alpha': 0, 'reg_lambda': 30, 'min_split_gain': 8.02904407336645, 'subsample': 0.8, 'subsample_freq': 1, 'colsample_bytree': 0.7, 'path_smooth': 1.0}. Best is trial 183 with value: 0.9998923700914537.\u001b[0m\n"
     ]
    },
    {
     "name": "stdout",
     "output_type": "stream",
     "text": [
      "train auc score = 0.9999064014932613\n",
      "test auc score = 0.9998906568523586\n",
      "Training until validation scores don't improve for 100 rounds\n"
     ]
    },
    {
     "name": "stderr",
     "output_type": "stream",
     "text": [
      "\u001b[32m[I 2023-01-13 11:30:26,509]\u001b[0m Trial 185 pruned. Trial was pruned at iteration 3.\u001b[0m\n"
     ]
    },
    {
     "name": "stdout",
     "output_type": "stream",
     "text": [
      "Training until validation scores don't improve for 100 rounds\n",
      "[100]\tvalid_0's auc: 0.999875\tvalid_0's binary_logloss: 0.00873033\n",
      "[200]\tvalid_0's auc: 0.999877\tvalid_0's binary_logloss: 0.0086551\n",
      "[300]\tvalid_0's auc: 0.999879\tvalid_0's binary_logloss: 0.00859559\n",
      "[400]\tvalid_0's auc: 0.99988\tvalid_0's binary_logloss: 0.00856542\n",
      "Early stopping, best iteration is:\n",
      "[362]\tvalid_0's auc: 0.99988\tvalid_0's binary_logloss: 0.00857028\n",
      "[100]\tvalid_0's auc: 0.999894\tvalid_0's binary_logloss: 0.0082203\n",
      "[200]\tvalid_0's auc: 0.999896\tvalid_0's binary_logloss: 0.00814775\n",
      "[300]\tvalid_0's auc: 0.999896\tvalid_0's binary_logloss: 0.00811979\n",
      "[400]\tvalid_0's auc: 0.999897\tvalid_0's binary_logloss: 0.00810845\n",
      "[500]\tvalid_0's auc: 0.999897\tvalid_0's binary_logloss: 0.00809314\n",
      "Early stopping, best iteration is:\n",
      "[459]\tvalid_0's auc: 0.999897\tvalid_0's binary_logloss: 0.00809208\n",
      "[100]\tvalid_0's auc: 0.99989\tvalid_0's binary_logloss: 0.00833867\n",
      "[200]\tvalid_0's auc: 0.999891\tvalid_0's binary_logloss: 0.0082827\n",
      "[300]\tvalid_0's auc: 0.999891\tvalid_0's binary_logloss: 0.00827041\n",
      "[400]\tvalid_0's auc: 0.999891\tvalid_0's binary_logloss: 0.00825161\n",
      "[500]\tvalid_0's auc: 0.999891\tvalid_0's binary_logloss: 0.00823483\n",
      "Early stopping, best iteration is:\n",
      "[459]\tvalid_0's auc: 0.999897\tvalid_0's binary_logloss: 0.00809208\n",
      "[100]\tvalid_0's auc: 0.999887\tvalid_0's binary_logloss: 0.0083048\n",
      "[200]\tvalid_0's auc: 0.999888\tvalid_0's binary_logloss: 0.00823016\n",
      "[300]\tvalid_0's auc: 0.99989\tvalid_0's binary_logloss: 0.00819005\n",
      "[400]\tvalid_0's auc: 0.99989\tvalid_0's binary_logloss: 0.00814663\n",
      "[500]\tvalid_0's auc: 0.999891\tvalid_0's binary_logloss: 0.00814177\n",
      "Early stopping, best iteration is:\n",
      "[459]\tvalid_0's auc: 0.999897\tvalid_0's binary_logloss: 0.00809208\n",
      "[100]\tvalid_0's auc: 0.999907\tvalid_0's binary_logloss: 0.00828289\n",
      "[200]\tvalid_0's auc: 0.999908\tvalid_0's binary_logloss: 0.00815696\n",
      "[300]\tvalid_0's auc: 0.999909\tvalid_0's binary_logloss: 0.00812308\n",
      "[400]\tvalid_0's auc: 0.999909\tvalid_0's binary_logloss: 0.00809749\n",
      "[500]\tvalid_0's auc: 0.99991\tvalid_0's binary_logloss: 0.00806686\n",
      "[600]\tvalid_0's auc: 0.99991\tvalid_0's binary_logloss: 0.00804917\n",
      "[700]\tvalid_0's auc: 0.99991\tvalid_0's binary_logloss: 0.00804519\n",
      "[800]\tvalid_0's auc: 0.99991\tvalid_0's binary_logloss: 0.00803158\n",
      "[900]\tvalid_0's auc: 0.99991\tvalid_0's binary_logloss: 0.00802044\n",
      "Early stopping, best iteration is:\n",
      "[843]\tvalid_0's auc: 0.99991\tvalid_0's binary_logloss: 0.00802007\n"
     ]
    },
    {
     "name": "stderr",
     "output_type": "stream",
     "text": [
      "\u001b[32m[I 2023-01-13 11:33:08,582]\u001b[0m Trial 186 finished with value: 0.999894009237422 and parameters: {'learning_rate': 0.24385674171416083, 'num_leaves': 1140, 'max_depth': 12, 'min_child_samples': 900, 'max_bin': 193, 'reg_alpha': 0, 'reg_lambda': 30, 'min_split_gain': 7.6917304341463595, 'subsample': 0.8, 'subsample_freq': 1, 'colsample_bytree': 0.7, 'path_smooth': 1.0}. Best is trial 186 with value: 0.999894009237422.\u001b[0m\n"
     ]
    },
    {
     "name": "stdout",
     "output_type": "stream",
     "text": [
      "train auc score = 0.9999102303560026\n",
      "test auc score = 0.999894009237422\n",
      "Training until validation scores don't improve for 100 rounds\n"
     ]
    },
    {
     "name": "stderr",
     "output_type": "stream",
     "text": [
      "\u001b[32m[I 2023-01-13 11:33:12,767]\u001b[0m Trial 187 pruned. Trial was pruned at iteration 2.\u001b[0m\n"
     ]
    },
    {
     "name": "stdout",
     "output_type": "stream",
     "text": [
      "Training until validation scores don't improve for 100 rounds\n",
      "[100]\tvalid_0's auc: 0.999876\tvalid_0's binary_logloss: 0.0087371\n",
      "[200]\tvalid_0's auc: 0.999877\tvalid_0's binary_logloss: 0.00867283\n",
      "[300]\tvalid_0's auc: 0.99988\tvalid_0's binary_logloss: 0.00860638\n",
      "[400]\tvalid_0's auc: 0.999881\tvalid_0's binary_logloss: 0.00857009\n",
      "Early stopping, best iteration is:\n",
      "[362]\tvalid_0's auc: 0.999881\tvalid_0's binary_logloss: 0.00857348\n",
      "[100]\tvalid_0's auc: 0.999898\tvalid_0's binary_logloss: 0.00826617\n",
      "[200]\tvalid_0's auc: 0.999899\tvalid_0's binary_logloss: 0.00820014\n",
      "[300]\tvalid_0's auc: 0.9999\tvalid_0's binary_logloss: 0.00817598\n",
      "Early stopping, best iteration is:\n",
      "[296]\tvalid_0's auc: 0.9999\tvalid_0's binary_logloss: 0.00817598\n",
      "[100]\tvalid_0's auc: 0.999889\tvalid_0's binary_logloss: 0.00834444\n",
      "[200]\tvalid_0's auc: 0.99989\tvalid_0's binary_logloss: 0.00828141\n",
      "[300]\tvalid_0's auc: 0.999891\tvalid_0's binary_logloss: 0.00823619\n",
      "Early stopping, best iteration is:\n",
      "[296]\tvalid_0's auc: 0.9999\tvalid_0's binary_logloss: 0.00817598\n",
      "[100]\tvalid_0's auc: 0.99988\tvalid_0's binary_logloss: 0.00841571\n",
      "[200]\tvalid_0's auc: 0.999882\tvalid_0's binary_logloss: 0.00834915\n",
      "[300]\tvalid_0's auc: 0.999883\tvalid_0's binary_logloss: 0.00830582\n",
      "Early stopping, best iteration is:\n",
      "[296]\tvalid_0's auc: 0.9999\tvalid_0's binary_logloss: 0.00817598\n",
      "[100]\tvalid_0's auc: 0.999905\tvalid_0's binary_logloss: 0.00826975\n",
      "[200]\tvalid_0's auc: 0.999907\tvalid_0's binary_logloss: 0.00815062\n",
      "[300]\tvalid_0's auc: 0.999908\tvalid_0's binary_logloss: 0.00812009\n",
      "[400]\tvalid_0's auc: 0.999908\tvalid_0's binary_logloss: 0.00808763\n",
      "Early stopping, best iteration is:\n",
      "[340]\tvalid_0's auc: 0.999908\tvalid_0's binary_logloss: 0.00810096\n",
      "train auc score = 0.9999089164780284\n",
      "test auc score = 0.999892859964411\n"
     ]
    },
    {
     "name": "stderr",
     "output_type": "stream",
     "text": [
      "\u001b[32m[I 2023-01-13 11:35:09,522]\u001b[0m Trial 188 finished with value: 0.999892859964411 and parameters: {'learning_rate': 0.24510616654500791, 'num_leaves': 1140, 'max_depth': 12, 'min_child_samples': 900, 'max_bin': 197, 'reg_alpha': 0, 'reg_lambda': 35, 'min_split_gain': 7.336428209664954, 'subsample': 0.8, 'subsample_freq': 1, 'colsample_bytree': 0.7, 'path_smooth': 1.0}. Best is trial 186 with value: 0.999894009237422.\u001b[0m\n"
     ]
    },
    {
     "name": "stdout",
     "output_type": "stream",
     "text": [
      "Training until validation scores don't improve for 100 rounds\n"
     ]
    },
    {
     "name": "stderr",
     "output_type": "stream",
     "text": [
      "\u001b[32m[I 2023-01-13 11:35:15,097]\u001b[0m Trial 189 pruned. Trial was pruned at iteration 4.\u001b[0m\n",
      "\u001b[32m[I 2023-01-13 11:35:17,732]\u001b[0m Trial 190 pruned. Trial was pruned at iteration 0.\u001b[0m\n"
     ]
    },
    {
     "name": "stdout",
     "output_type": "stream",
     "text": [
      "Training until validation scores don't improve for 100 rounds\n"
     ]
    },
    {
     "name": "stderr",
     "output_type": "stream",
     "text": [
      "\u001b[32m[I 2023-01-13 11:35:25,006]\u001b[0m Trial 191 pruned. Trial was pruned at iteration 9.\u001b[0m\n",
      "\u001b[32m[I 2023-01-13 11:35:27,684]\u001b[0m Trial 192 pruned. Trial was pruned at iteration 2.\u001b[0m\n"
     ]
    },
    {
     "name": "stdout",
     "output_type": "stream",
     "text": [
      "Training until validation scores don't improve for 100 rounds\n",
      "Training until validation scores don't improve for 100 rounds\n"
     ]
    },
    {
     "name": "stderr",
     "output_type": "stream",
     "text": [
      "\u001b[32m[I 2023-01-13 11:35:34,318]\u001b[0m Trial 193 pruned. Trial was pruned at iteration 6.\u001b[0m\n",
      "\u001b[32m[I 2023-01-13 11:35:37,172]\u001b[0m Trial 194 pruned. Trial was pruned at iteration 2.\u001b[0m\n"
     ]
    },
    {
     "name": "stdout",
     "output_type": "stream",
     "text": [
      "Training until validation scores don't improve for 100 rounds\n"
     ]
    },
    {
     "name": "stderr",
     "output_type": "stream",
     "text": [
      "\u001b[32m[I 2023-01-13 11:35:41,131]\u001b[0m Trial 195 pruned. Trial was pruned at iteration 0.\u001b[0m\n"
     ]
    },
    {
     "name": "stdout",
     "output_type": "stream",
     "text": [
      "Training until validation scores don't improve for 100 rounds\n"
     ]
    },
    {
     "name": "stderr",
     "output_type": "stream",
     "text": [
      "\u001b[32m[I 2023-01-13 11:35:45,001]\u001b[0m Trial 196 pruned. Trial was pruned at iteration 8.\u001b[0m\n"
     ]
    },
    {
     "name": "stdout",
     "output_type": "stream",
     "text": [
      "Training until validation scores don't improve for 100 rounds\n"
     ]
    },
    {
     "name": "stderr",
     "output_type": "stream",
     "text": [
      "\u001b[32m[I 2023-01-13 11:35:48,841]\u001b[0m Trial 197 pruned. Trial was pruned at iteration 2.\u001b[0m\n",
      "\u001b[32m[I 2023-01-13 11:35:51,978]\u001b[0m Trial 198 pruned. Trial was pruned at iteration 2.\u001b[0m\n"
     ]
    },
    {
     "name": "stdout",
     "output_type": "stream",
     "text": [
      "Training until validation scores don't improve for 100 rounds\n",
      "Training until validation scores don't improve for 100 rounds\n"
     ]
    },
    {
     "name": "stderr",
     "output_type": "stream",
     "text": [
      "\u001b[32m[I 2023-01-13 11:35:56,496]\u001b[0m Trial 199 pruned. Trial was pruned at iteration 2.\u001b[0m\n",
      "\u001b[32m[I 2023-01-13 11:35:59,703]\u001b[0m Trial 200 pruned. Trial was pruned at iteration 0.\u001b[0m\n"
     ]
    },
    {
     "name": "stdout",
     "output_type": "stream",
     "text": [
      "Training until validation scores don't improve for 100 rounds\n"
     ]
    },
    {
     "name": "stderr",
     "output_type": "stream",
     "text": [
      "\u001b[32m[I 2023-01-13 11:36:04,605]\u001b[0m Trial 201 pruned. Trial was pruned at iteration 2.\u001b[0m\n"
     ]
    },
    {
     "name": "stdout",
     "output_type": "stream",
     "text": [
      "Training until validation scores don't improve for 100 rounds\n"
     ]
    },
    {
     "name": "stderr",
     "output_type": "stream",
     "text": [
      "\u001b[32m[I 2023-01-13 11:36:08,126]\u001b[0m Trial 202 pruned. Trial was pruned at iteration 14.\u001b[0m\n"
     ]
    },
    {
     "name": "stdout",
     "output_type": "stream",
     "text": [
      "Training until validation scores don't improve for 100 rounds\n"
     ]
    },
    {
     "name": "stderr",
     "output_type": "stream",
     "text": [
      "\u001b[32m[I 2023-01-13 11:36:13,855]\u001b[0m Trial 203 pruned. Trial was pruned at iteration 4.\u001b[0m\n",
      "\u001b[32m[I 2023-01-13 11:36:16,604]\u001b[0m Trial 204 pruned. Trial was pruned at iteration 1.\u001b[0m\n"
     ]
    },
    {
     "name": "stdout",
     "output_type": "stream",
     "text": [
      "Training until validation scores don't improve for 100 rounds\n",
      "Training until validation scores don't improve for 100 rounds\n"
     ]
    },
    {
     "name": "stderr",
     "output_type": "stream",
     "text": [
      "\u001b[32m[I 2023-01-13 11:36:24,292]\u001b[0m Trial 205 pruned. Trial was pruned at iteration 14.\u001b[0m\n",
      "\u001b[32m[I 2023-01-13 11:36:26,999]\u001b[0m Trial 206 pruned. Trial was pruned at iteration 2.\u001b[0m\n"
     ]
    },
    {
     "name": "stdout",
     "output_type": "stream",
     "text": [
      "Training until validation scores don't improve for 100 rounds\n"
     ]
    },
    {
     "name": "stderr",
     "output_type": "stream",
     "text": [
      "\u001b[32m[I 2023-01-13 11:36:30,039]\u001b[0m Trial 207 pruned. Trial was pruned at iteration 0.\u001b[0m\n",
      "\u001b[32m[I 2023-01-13 11:36:33,657]\u001b[0m Trial 208 pruned. Trial was pruned at iteration 0.\u001b[0m\n",
      "\u001b[32m[I 2023-01-13 11:36:37,004]\u001b[0m Trial 209 pruned. Trial was pruned at iteration 0.\u001b[0m\n",
      "\u001b[32m[I 2023-01-13 11:36:39,564]\u001b[0m Trial 210 pruned. Trial was pruned at iteration 0.\u001b[0m\n",
      "\u001b[32m[I 2023-01-13 11:36:42,844]\u001b[0m Trial 211 pruned. Trial was pruned at iteration 0.\u001b[0m\n"
     ]
    },
    {
     "name": "stdout",
     "output_type": "stream",
     "text": [
      "Training until validation scores don't improve for 100 rounds\n"
     ]
    },
    {
     "name": "stderr",
     "output_type": "stream",
     "text": [
      "\u001b[32m[I 2023-01-13 11:36:48,196]\u001b[0m Trial 212 pruned. Trial was pruned at iteration 2.\u001b[0m\n",
      "\u001b[32m[I 2023-01-13 11:36:51,004]\u001b[0m Trial 213 pruned. Trial was pruned at iteration 0.\u001b[0m\n",
      "\u001b[32m[I 2023-01-13 11:36:53,623]\u001b[0m Trial 214 pruned. Trial was pruned at iteration 0.\u001b[0m\n",
      "\u001b[32m[I 2023-01-13 11:36:56,828]\u001b[0m Trial 215 pruned. Trial was pruned at iteration 0.\u001b[0m\n",
      "\u001b[32m[I 2023-01-13 11:37:00,785]\u001b[0m Trial 216 pruned. Trial was pruned at iteration 0.\u001b[0m\n",
      "\u001b[32m[I 2023-01-13 11:37:03,910]\u001b[0m Trial 217 pruned. Trial was pruned at iteration 2.\u001b[0m\n"
     ]
    },
    {
     "name": "stdout",
     "output_type": "stream",
     "text": [
      "Training until validation scores don't improve for 100 rounds\n"
     ]
    },
    {
     "name": "stderr",
     "output_type": "stream",
     "text": [
      "\u001b[32m[I 2023-01-13 11:37:06,737]\u001b[0m Trial 218 pruned. Trial was pruned at iteration 0.\u001b[0m\n"
     ]
    },
    {
     "name": "stdout",
     "output_type": "stream",
     "text": [
      "Training until validation scores don't improve for 100 rounds\n"
     ]
    },
    {
     "name": "stderr",
     "output_type": "stream",
     "text": [
      "\u001b[32m[I 2023-01-13 11:37:11,836]\u001b[0m Trial 219 pruned. Trial was pruned at iteration 2.\u001b[0m\n",
      "\u001b[32m[I 2023-01-13 11:37:14,982]\u001b[0m Trial 220 pruned. Trial was pruned at iteration 0.\u001b[0m\n",
      "\u001b[32m[I 2023-01-13 11:37:18,462]\u001b[0m Trial 221 pruned. Trial was pruned at iteration 0.\u001b[0m\n",
      "\u001b[32m[I 2023-01-13 11:37:22,292]\u001b[0m Trial 222 pruned. Trial was pruned at iteration 0.\u001b[0m\n",
      "\u001b[32m[I 2023-01-13 11:37:26,699]\u001b[0m Trial 223 pruned. Trial was pruned at iteration 0.\u001b[0m\n",
      "\u001b[32m[I 2023-01-13 11:37:30,287]\u001b[0m Trial 224 pruned. Trial was pruned at iteration 0.\u001b[0m\n"
     ]
    },
    {
     "name": "stdout",
     "output_type": "stream",
     "text": [
      "Training until validation scores don't improve for 100 rounds\n"
     ]
    },
    {
     "name": "stderr",
     "output_type": "stream",
     "text": [
      "\u001b[32m[I 2023-01-13 11:37:34,031]\u001b[0m Trial 225 pruned. Trial was pruned at iteration 1.\u001b[0m\n"
     ]
    },
    {
     "name": "stdout",
     "output_type": "stream",
     "text": [
      "Training until validation scores don't improve for 100 rounds\n"
     ]
    },
    {
     "name": "stderr",
     "output_type": "stream",
     "text": [
      "\u001b[32m[I 2023-01-13 11:37:38,103]\u001b[0m Trial 226 pruned. Trial was pruned at iteration 2.\u001b[0m\n",
      "\u001b[32m[I 2023-01-13 11:37:41,087]\u001b[0m Trial 227 pruned. Trial was pruned at iteration 0.\u001b[0m\n",
      "\u001b[32m[I 2023-01-13 11:37:43,707]\u001b[0m Trial 228 pruned. Trial was pruned at iteration 1.\u001b[0m\n"
     ]
    },
    {
     "name": "stdout",
     "output_type": "stream",
     "text": [
      "Training until validation scores don't improve for 100 rounds\n",
      "Training until validation scores don't improve for 100 rounds\n"
     ]
    },
    {
     "name": "stderr",
     "output_type": "stream",
     "text": [
      "\u001b[32m[I 2023-01-13 11:37:47,507]\u001b[0m Trial 229 pruned. Trial was pruned at iteration 1.\u001b[0m\n",
      "\u001b[32m[I 2023-01-13 11:37:51,351]\u001b[0m Trial 230 pruned. Trial was pruned at iteration 0.\u001b[0m\n"
     ]
    },
    {
     "name": "stdout",
     "output_type": "stream",
     "text": [
      "Training until validation scores don't improve for 100 rounds\n"
     ]
    },
    {
     "name": "stderr",
     "output_type": "stream",
     "text": [
      "\u001b[32m[I 2023-01-13 11:37:55,914]\u001b[0m Trial 231 pruned. Trial was pruned at iteration 1.\u001b[0m\n",
      "\u001b[32m[I 2023-01-13 11:37:58,891]\u001b[0m Trial 232 pruned. Trial was pruned at iteration 1.\u001b[0m\n"
     ]
    },
    {
     "name": "stdout",
     "output_type": "stream",
     "text": [
      "Training until validation scores don't improve for 100 rounds\n"
     ]
    },
    {
     "name": "stderr",
     "output_type": "stream",
     "text": [
      "\u001b[32m[I 2023-01-13 11:38:02,796]\u001b[0m Trial 233 pruned. Trial was pruned at iteration 0.\u001b[0m\n",
      "\u001b[32m[I 2023-01-13 11:38:06,026]\u001b[0m Trial 234 pruned. Trial was pruned at iteration 0.\u001b[0m\n",
      "\u001b[32m[I 2023-01-13 11:38:09,097]\u001b[0m Trial 235 pruned. Trial was pruned at iteration 0.\u001b[0m\n",
      "\u001b[32m[I 2023-01-13 11:38:12,083]\u001b[0m Trial 236 pruned. Trial was pruned at iteration 1.\u001b[0m\n"
     ]
    },
    {
     "name": "stdout",
     "output_type": "stream",
     "text": [
      "Training until validation scores don't improve for 100 rounds\n"
     ]
    },
    {
     "name": "stderr",
     "output_type": "stream",
     "text": [
      "\u001b[32m[I 2023-01-13 11:38:15,804]\u001b[0m Trial 237 pruned. Trial was pruned at iteration 0.\u001b[0m\n",
      "\u001b[32m[I 2023-01-13 11:38:18,869]\u001b[0m Trial 238 pruned. Trial was pruned at iteration 0.\u001b[0m\n",
      "\u001b[32m[I 2023-01-13 11:38:22,662]\u001b[0m Trial 239 pruned. Trial was pruned at iteration 0.\u001b[0m\n",
      "\u001b[32m[I 2023-01-13 11:38:25,968]\u001b[0m Trial 240 pruned. Trial was pruned at iteration 0.\u001b[0m\n"
     ]
    },
    {
     "name": "stdout",
     "output_type": "stream",
     "text": [
      "Training until validation scores don't improve for 100 rounds\n"
     ]
    },
    {
     "name": "stderr",
     "output_type": "stream",
     "text": [
      "\u001b[32m[I 2023-01-13 11:38:29,982]\u001b[0m Trial 241 pruned. Trial was pruned at iteration 1.\u001b[0m\n",
      "\u001b[32m[I 2023-01-13 11:38:33,119]\u001b[0m Trial 242 pruned. Trial was pruned at iteration 0.\u001b[0m\n",
      "\u001b[32m[I 2023-01-13 11:38:36,777]\u001b[0m Trial 243 pruned. Trial was pruned at iteration 0.\u001b[0m\n",
      "\u001b[32m[I 2023-01-13 11:38:40,728]\u001b[0m Trial 244 pruned. Trial was pruned at iteration 0.\u001b[0m\n"
     ]
    },
    {
     "name": "stdout",
     "output_type": "stream",
     "text": [
      "Training until validation scores don't improve for 100 rounds\n"
     ]
    },
    {
     "name": "stderr",
     "output_type": "stream",
     "text": [
      "\u001b[32m[I 2023-01-13 11:38:45,283]\u001b[0m Trial 245 pruned. Trial was pruned at iteration 1.\u001b[0m\n",
      "\u001b[32m[I 2023-01-13 11:38:48,260]\u001b[0m Trial 246 pruned. Trial was pruned at iteration 0.\u001b[0m\n",
      "\u001b[32m[I 2023-01-13 11:38:52,136]\u001b[0m Trial 247 pruned. Trial was pruned at iteration 0.\u001b[0m\n",
      "\u001b[32m[I 2023-01-13 11:38:55,319]\u001b[0m Trial 248 pruned. Trial was pruned at iteration 0.\u001b[0m\n",
      "\u001b[32m[I 2023-01-13 11:38:58,784]\u001b[0m Trial 249 pruned. Trial was pruned at iteration 0.\u001b[0m\n",
      "\u001b[32m[I 2023-01-13 11:39:02,590]\u001b[0m Trial 250 pruned. Trial was pruned at iteration 0.\u001b[0m\n",
      "\u001b[32m[I 2023-01-13 11:39:06,489]\u001b[0m Trial 251 pruned. Trial was pruned at iteration 0.\u001b[0m\n",
      "\u001b[32m[I 2023-01-13 11:39:09,782]\u001b[0m Trial 252 pruned. Trial was pruned at iteration 0.\u001b[0m\n",
      "\u001b[32m[I 2023-01-13 11:39:12,704]\u001b[0m Trial 253 pruned. Trial was pruned at iteration 2.\u001b[0m\n"
     ]
    },
    {
     "name": "stdout",
     "output_type": "stream",
     "text": [
      "Training until validation scores don't improve for 100 rounds\n"
     ]
    },
    {
     "name": "stderr",
     "output_type": "stream",
     "text": [
      "\u001b[32m[I 2023-01-13 11:39:15,258]\u001b[0m Trial 254 pruned. Trial was pruned at iteration 0.\u001b[0m\n",
      "\u001b[32m[I 2023-01-13 11:39:19,617]\u001b[0m Trial 255 pruned. Trial was pruned at iteration 0.\u001b[0m\n",
      "\u001b[32m[I 2023-01-13 11:39:23,003]\u001b[0m Trial 256 pruned. Trial was pruned at iteration 0.\u001b[0m\n",
      "\u001b[32m[I 2023-01-13 11:39:26,492]\u001b[0m Trial 257 pruned. Trial was pruned at iteration 0.\u001b[0m\n",
      "\u001b[32m[I 2023-01-13 11:39:30,518]\u001b[0m Trial 258 pruned. Trial was pruned at iteration 0.\u001b[0m\n",
      "\u001b[32m[I 2023-01-13 11:39:34,270]\u001b[0m Trial 259 pruned. Trial was pruned at iteration 0.\u001b[0m\n",
      "\u001b[32m[I 2023-01-13 11:39:37,497]\u001b[0m Trial 260 pruned. Trial was pruned at iteration 0.\u001b[0m\n"
     ]
    },
    {
     "name": "stdout",
     "output_type": "stream",
     "text": [
      "Training until validation scores don't improve for 100 rounds\n"
     ]
    },
    {
     "name": "stderr",
     "output_type": "stream",
     "text": [
      "\u001b[32m[I 2023-01-13 11:39:41,669]\u001b[0m Trial 261 pruned. Trial was pruned at iteration 1.\u001b[0m\n",
      "\u001b[32m[I 2023-01-13 11:39:44,207]\u001b[0m Trial 262 pruned. Trial was pruned at iteration 0.\u001b[0m\n",
      "\u001b[32m[I 2023-01-13 11:39:48,511]\u001b[0m Trial 263 pruned. Trial was pruned at iteration 0.\u001b[0m\n",
      "\u001b[32m[I 2023-01-13 11:39:51,579]\u001b[0m Trial 264 pruned. Trial was pruned at iteration 0.\u001b[0m\n",
      "\u001b[32m[I 2023-01-13 11:39:55,334]\u001b[0m Trial 265 pruned. Trial was pruned at iteration 0.\u001b[0m\n",
      "\u001b[32m[I 2023-01-13 11:39:59,013]\u001b[0m Trial 266 pruned. Trial was pruned at iteration 0.\u001b[0m\n",
      "\u001b[32m[I 2023-01-13 11:40:02,887]\u001b[0m Trial 267 pruned. Trial was pruned at iteration 0.\u001b[0m\n"
     ]
    },
    {
     "name": "stdout",
     "output_type": "stream",
     "text": [
      "Training until validation scores don't improve for 100 rounds\n"
     ]
    },
    {
     "name": "stderr",
     "output_type": "stream",
     "text": [
      "\u001b[32m[I 2023-01-13 11:40:06,495]\u001b[0m Trial 268 pruned. Trial was pruned at iteration 5.\u001b[0m\n",
      "\u001b[32m[I 2023-01-13 11:40:10,139]\u001b[0m Trial 269 pruned. Trial was pruned at iteration 0.\u001b[0m\n"
     ]
    },
    {
     "name": "stdout",
     "output_type": "stream",
     "text": [
      "Training until validation scores don't improve for 100 rounds\n"
     ]
    },
    {
     "name": "stderr",
     "output_type": "stream",
     "text": [
      "\u001b[32m[I 2023-01-13 11:40:14,274]\u001b[0m Trial 270 pruned. Trial was pruned at iteration 1.\u001b[0m\n",
      "\u001b[32m[I 2023-01-13 11:40:17,250]\u001b[0m Trial 271 pruned. Trial was pruned at iteration 0.\u001b[0m\n",
      "\u001b[32m[I 2023-01-13 11:40:19,886]\u001b[0m Trial 272 pruned. Trial was pruned at iteration 0.\u001b[0m\n"
     ]
    },
    {
     "name": "stdout",
     "output_type": "stream",
     "text": [
      "Training until validation scores don't improve for 100 rounds\n"
     ]
    },
    {
     "name": "stderr",
     "output_type": "stream",
     "text": [
      "\u001b[32m[I 2023-01-13 11:40:24,128]\u001b[0m Trial 273 pruned. Trial was pruned at iteration 1.\u001b[0m\n",
      "\u001b[32m[I 2023-01-13 11:40:28,109]\u001b[0m Trial 274 pruned. Trial was pruned at iteration 0.\u001b[0m\n",
      "\u001b[32m[I 2023-01-13 11:40:31,675]\u001b[0m Trial 275 pruned. Trial was pruned at iteration 0.\u001b[0m\n",
      "\u001b[32m[I 2023-01-13 11:40:34,655]\u001b[0m Trial 276 pruned. Trial was pruned at iteration 0.\u001b[0m\n",
      "\u001b[32m[I 2023-01-13 11:40:38,725]\u001b[0m Trial 277 pruned. Trial was pruned at iteration 0.\u001b[0m\n",
      "\u001b[32m[I 2023-01-13 11:40:42,644]\u001b[0m Trial 278 pruned. Trial was pruned at iteration 0.\u001b[0m\n",
      "\u001b[32m[I 2023-01-13 11:40:46,255]\u001b[0m Trial 279 pruned. Trial was pruned at iteration 0.\u001b[0m\n",
      "\u001b[32m[I 2023-01-13 11:40:50,180]\u001b[0m Trial 280 pruned. Trial was pruned at iteration 0.\u001b[0m\n",
      "\u001b[32m[I 2023-01-13 11:40:54,118]\u001b[0m Trial 281 pruned. Trial was pruned at iteration 0.\u001b[0m\n",
      "\u001b[32m[I 2023-01-13 11:40:58,381]\u001b[0m Trial 282 pruned. Trial was pruned at iteration 0.\u001b[0m\n",
      "\u001b[32m[I 2023-01-13 11:41:01,970]\u001b[0m Trial 283 pruned. Trial was pruned at iteration 2.\u001b[0m\n"
     ]
    },
    {
     "name": "stdout",
     "output_type": "stream",
     "text": [
      "Training until validation scores don't improve for 100 rounds\n"
     ]
    },
    {
     "name": "stderr",
     "output_type": "stream",
     "text": [
      "\u001b[32m[I 2023-01-13 11:41:04,978]\u001b[0m Trial 284 pruned. Trial was pruned at iteration 0.\u001b[0m\n",
      "\u001b[32m[I 2023-01-13 11:41:08,704]\u001b[0m Trial 285 pruned. Trial was pruned at iteration 0.\u001b[0m\n",
      "\u001b[32m[I 2023-01-13 11:41:13,015]\u001b[0m Trial 286 pruned. Trial was pruned at iteration 0.\u001b[0m\n",
      "\u001b[32m[I 2023-01-13 11:41:17,061]\u001b[0m Trial 287 pruned. Trial was pruned at iteration 0.\u001b[0m\n",
      "\u001b[32m[I 2023-01-13 11:41:20,490]\u001b[0m Trial 288 pruned. Trial was pruned at iteration 0.\u001b[0m\n"
     ]
    },
    {
     "name": "stdout",
     "output_type": "stream",
     "text": [
      "Training until validation scores don't improve for 100 rounds\n"
     ]
    },
    {
     "name": "stderr",
     "output_type": "stream",
     "text": [
      "\u001b[32m[I 2023-01-13 11:41:27,344]\u001b[0m Trial 289 pruned. Trial was pruned at iteration 1.\u001b[0m\n",
      "\u001b[32m[I 2023-01-13 11:41:32,354]\u001b[0m Trial 290 pruned. Trial was pruned at iteration 0.\u001b[0m\n",
      "\u001b[32m[I 2023-01-13 11:41:36,998]\u001b[0m Trial 291 pruned. Trial was pruned at iteration 0.\u001b[0m\n",
      "\u001b[32m[I 2023-01-13 11:41:42,018]\u001b[0m Trial 292 pruned. Trial was pruned at iteration 0.\u001b[0m\n",
      "\u001b[32m[I 2023-01-13 11:41:47,713]\u001b[0m Trial 293 pruned. Trial was pruned at iteration 0.\u001b[0m\n"
     ]
    },
    {
     "name": "stdout",
     "output_type": "stream",
     "text": [
      "Training until validation scores don't improve for 100 rounds\n"
     ]
    },
    {
     "name": "stderr",
     "output_type": "stream",
     "text": [
      "\u001b[32m[I 2023-01-13 11:41:53,430]\u001b[0m Trial 294 pruned. Trial was pruned at iteration 4.\u001b[0m\n"
     ]
    },
    {
     "name": "stdout",
     "output_type": "stream",
     "text": [
      "Training until validation scores don't improve for 100 rounds\n"
     ]
    },
    {
     "name": "stderr",
     "output_type": "stream",
     "text": [
      "\u001b[32m[I 2023-01-13 11:41:59,778]\u001b[0m Trial 295 pruned. Trial was pruned at iteration 1.\u001b[0m\n",
      "\u001b[32m[I 2023-01-13 11:42:05,163]\u001b[0m Trial 296 pruned. Trial was pruned at iteration 0.\u001b[0m\n",
      "\u001b[32m[I 2023-01-13 11:42:10,614]\u001b[0m Trial 297 pruned. Trial was pruned at iteration 0.\u001b[0m\n",
      "\u001b[32m[I 2023-01-13 11:42:15,812]\u001b[0m Trial 298 pruned. Trial was pruned at iteration 0.\u001b[0m\n"
     ]
    },
    {
     "name": "stdout",
     "output_type": "stream",
     "text": [
      "Training until validation scores don't improve for 100 rounds\n"
     ]
    },
    {
     "name": "stderr",
     "output_type": "stream",
     "text": [
      "\u001b[32m[I 2023-01-13 11:42:24,018]\u001b[0m Trial 299 pruned. Trial was pruned at iteration 2.\u001b[0m\n"
     ]
    }
   ],
   "source": [
    "study.optimize(func, n_trials=200,callbacks=[mlflow_callback])"
   ]
  },
  {
   "cell_type": "code",
   "execution_count": 12,
   "metadata": {},
   "outputs": [],
   "source": [
    "study.trials_dataframe().to_csv(\"/workspace/ligthgbm_trials3.csv\",index=None)"
   ]
  }
 ],
 "metadata": {
  "kernelspec": {
   "display_name": "rapids",
   "language": "python",
   "name": "python3"
  },
  "language_info": {
   "codemirror_mode": {
    "name": "ipython",
    "version": 3
   },
   "file_extension": ".py",
   "mimetype": "text/x-python",
   "name": "python",
   "nbconvert_exporter": "python",
   "pygments_lexer": "ipython3",
   "version": "3.8.13 | packaged by conda-forge | (default, Mar 25 2022, 06:04:10) \n[GCC 10.3.0]"
  },
  "orig_nbformat": 4,
  "vscode": {
   "interpreter": {
    "hash": "f708a36acfaef0acf74ccd43dfb58100269bf08fb79032a1e0a6f35bd9856f51"
   }
  }
 },
 "nbformat": 4,
 "nbformat_minor": 2
}
