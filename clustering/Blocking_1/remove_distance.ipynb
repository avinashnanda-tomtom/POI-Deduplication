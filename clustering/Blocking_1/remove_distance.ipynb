{
 "cells": [
  {
   "cell_type": "code",
   "execution_count": 1,
   "metadata": {},
   "outputs": [],
   "source": [
    "import pandas as pd\n",
    "from Config import config\n",
    "from utils.create_features import add_lat_lon_distance_features\n",
    "import glob\n",
    "from sentence_transformers import SentenceTransformer\n",
    "import numpy as np\n",
    "from tqdm.auto import tqdm\n",
    "import torch"
   ]
  },
  {
   "cell_type": "code",
   "execution_count": 2,
   "metadata": {},
   "outputs": [],
   "source": [
    "df = pd.read_csv(config.input_dir + f\"Fuse_{config.country}_cleaned.csv\",engine='c',dtype={\"postalCode\": \"str\", \"houseNumber\": \"str\"})"
   ]
  },
  {
   "cell_type": "code",
   "execution_count": 3,
   "metadata": {},
   "outputs": [],
   "source": [
    "file_list = glob.glob(\n",
    "    config.output_stage1 + f\"batch_candidates/{config.country}_parquet/*.parquet\"\n",
    ")"
   ]
  },
  {
   "cell_type": "code",
   "execution_count": 4,
   "metadata": {},
   "outputs": [],
   "source": [
    "df_pairs = pd.DataFrame()\n",
    "for file in file_list:\n",
    "    df1 = pd.read_parquet(file,engine='pyarrow')\n",
    "    df_pairs = pd.concat([df_pairs,df1])"
   ]
  },
  {
   "cell_type": "code",
   "execution_count": 5,
   "metadata": {},
   "outputs": [],
   "source": [
    "df_pairs = pd.merge(df_pairs, df,  how='left', left_on=[\n",
    "                'placeId1'], right_on=['placeId'])\n",
    "df_pairs.drop('placeId',inplace=True,axis=1)\n",
    "df_pairs = pd.merge(df_pairs, df,  how='left', left_on=[\n",
    "                    'placeId2'], right_on=['placeId'],suffixes=[\"1\",\"2\"])\n",
    "\n",
    "df_pairs.drop('placeId',inplace=True,axis=1)"
   ]
  },
  {
   "cell_type": "code",
   "execution_count": 6,
   "metadata": {},
   "outputs": [],
   "source": [
    "cols = [\n",
    "    'placeId1', 'placeId2','officialName1', 'officialName2',\n",
    "    'latitude1', 'latitude2', 'longitude1', 'longitude2', 'subCategory1',\n",
    "    'subCategory2', 'category1', 'category2', 'cities1', 'cities2', 'streets1',\n",
    "    'streets2', 'brands1', 'brands2', 'email1', 'email2', 'houseNumber1',\n",
    "    'houseNumber2', 'internet1', 'internet2', 'phoneNumbers1', 'phoneNumbers2',\n",
    "    'postalCode1', 'postalCode2'\n",
    "]\n"
   ]
  },
  {
   "cell_type": "code",
   "execution_count": 7,
   "metadata": {},
   "outputs": [],
   "source": [
    "df_pairs = df_pairs[cols]"
   ]
  },
  {
   "cell_type": "code",
   "execution_count": 8,
   "metadata": {},
   "outputs": [],
   "source": [
    "df_pairs = add_lat_lon_distance_features(df_pairs)"
   ]
  },
  {
   "cell_type": "code",
   "execution_count": 9,
   "metadata": {},
   "outputs": [
    {
     "data": {
      "text/plain": [
       "(2990578, 29)"
      ]
     },
     "execution_count": 9,
     "metadata": {},
     "output_type": "execute_result"
    }
   ],
   "source": [
    "df_pairs.shape"
   ]
  },
  {
   "cell_type": "code",
   "execution_count": 10,
   "metadata": {},
   "outputs": [],
   "source": [
    "def name_distance(name1,name2,batch=300000):\n",
    "    model = SentenceTransformer('/workspace/clustering/models/minilLM_model/57600')\n",
    "    model.max_seq_length = 64\n",
    "    sims = np.empty((0), np.float32)\n",
    "    for i in tqdm(range(0, len(name1), batch)):\n",
    "        embeddings1 = model.encode(name1[i : i + batch], batch_size=512, show_progress_bar=True,normalize_embeddings=True)\n",
    "        embeddings2 = model.encode( name2[i : i + batch], batch_size=512,normalize_embeddings=True)\n",
    "        cosine = np.sum(embeddings1 * embeddings2, axis=1)\n",
    "        cosine = np.round(cosine, 3)\n",
    "        sims = np.concatenate((sims, cosine))\n",
    "    return sims\n",
    "\n"
   ]
  },
  {
   "cell_type": "code",
   "execution_count": 11,
   "metadata": {},
   "outputs": [
    {
     "data": {
      "application/vnd.jupyter.widget-view+json": {
       "model_id": "aabeb42a09f44bd3a82239e2cfce42a0",
       "version_major": 2,
       "version_minor": 0
      },
      "text/plain": [
       "  0%|          | 0/10 [00:00<?, ?it/s]"
      ]
     },
     "metadata": {},
     "output_type": "display_data"
    },
    {
     "data": {
      "application/vnd.jupyter.widget-view+json": {
       "model_id": "341250eb7611436f8e4fd073203717bb",
       "version_major": 2,
       "version_minor": 0
      },
      "text/plain": [
       "Batches:   0%|          | 0/586 [00:00<?, ?it/s]"
      ]
     },
     "metadata": {},
     "output_type": "display_data"
    },
    {
     "data": {
      "application/vnd.jupyter.widget-view+json": {
       "model_id": "30ed5312e27e43858869ed292d1e66be",
       "version_major": 2,
       "version_minor": 0
      },
      "text/plain": [
       "Batches:   0%|          | 0/586 [00:00<?, ?it/s]"
      ]
     },
     "metadata": {},
     "output_type": "display_data"
    },
    {
     "data": {
      "application/vnd.jupyter.widget-view+json": {
       "model_id": "f55867cd33c642cda4a9a8dcacffe970",
       "version_major": 2,
       "version_minor": 0
      },
      "text/plain": [
       "Batches:   0%|          | 0/586 [00:00<?, ?it/s]"
      ]
     },
     "metadata": {},
     "output_type": "display_data"
    },
    {
     "data": {
      "application/vnd.jupyter.widget-view+json": {
       "model_id": "f34a2ca46e0b4100b43e93dd69468b8d",
       "version_major": 2,
       "version_minor": 0
      },
      "text/plain": [
       "Batches:   0%|          | 0/586 [00:00<?, ?it/s]"
      ]
     },
     "metadata": {},
     "output_type": "display_data"
    },
    {
     "data": {
      "application/vnd.jupyter.widget-view+json": {
       "model_id": "d206431859b64fbebd2e9014ebf3de5f",
       "version_major": 2,
       "version_minor": 0
      },
      "text/plain": [
       "Batches:   0%|          | 0/586 [00:00<?, ?it/s]"
      ]
     },
     "metadata": {},
     "output_type": "display_data"
    },
    {
     "data": {
      "application/vnd.jupyter.widget-view+json": {
       "model_id": "86bcad5cf5834b83bba795198c62d1e1",
       "version_major": 2,
       "version_minor": 0
      },
      "text/plain": [
       "Batches:   0%|          | 0/586 [00:00<?, ?it/s]"
      ]
     },
     "metadata": {},
     "output_type": "display_data"
    },
    {
     "data": {
      "application/vnd.jupyter.widget-view+json": {
       "model_id": "a1fd25dfe04b4c6ea6700c38ba4c876a",
       "version_major": 2,
       "version_minor": 0
      },
      "text/plain": [
       "Batches:   0%|          | 0/586 [00:00<?, ?it/s]"
      ]
     },
     "metadata": {},
     "output_type": "display_data"
    },
    {
     "data": {
      "application/vnd.jupyter.widget-view+json": {
       "model_id": "df06a89288b7475baf02156f65083fb5",
       "version_major": 2,
       "version_minor": 0
      },
      "text/plain": [
       "Batches:   0%|          | 0/586 [00:00<?, ?it/s]"
      ]
     },
     "metadata": {},
     "output_type": "display_data"
    },
    {
     "data": {
      "application/vnd.jupyter.widget-view+json": {
       "model_id": "d9c8a4397eef46b1ab139606ba32e35f",
       "version_major": 2,
       "version_minor": 0
      },
      "text/plain": [
       "Batches:   0%|          | 0/586 [00:00<?, ?it/s]"
      ]
     },
     "metadata": {},
     "output_type": "display_data"
    },
    {
     "data": {
      "application/vnd.jupyter.widget-view+json": {
       "model_id": "e681729ec3554113bf693505d9fdbf60",
       "version_major": 2,
       "version_minor": 0
      },
      "text/plain": [
       "Batches:   0%|          | 0/568 [00:00<?, ?it/s]"
      ]
     },
     "metadata": {},
     "output_type": "display_data"
    }
   ],
   "source": [
    "with torch.cuda.amp.autocast(enabled=True):\n",
    "    similarity = name_distance(list(df_pairs[\"officialName1\"]),list(df_pairs[\"officialName2\"]))"
   ]
  },
  {
   "cell_type": "code",
   "execution_count": 12,
   "metadata": {},
   "outputs": [],
   "source": [
    "df_pairs[\"similarity\"] = similarity"
   ]
  },
  {
   "cell_type": "code",
   "execution_count": 14,
   "metadata": {},
   "outputs": [
    {
     "data": {
      "text/html": [
       "<div>\n",
       "<style scoped>\n",
       "    .dataframe tbody tr th:only-of-type {\n",
       "        vertical-align: middle;\n",
       "    }\n",
       "\n",
       "    .dataframe tbody tr th {\n",
       "        vertical-align: top;\n",
       "    }\n",
       "\n",
       "    .dataframe thead th {\n",
       "        text-align: right;\n",
       "    }\n",
       "</style>\n",
       "<table border=\"1\" class=\"dataframe\">\n",
       "  <thead>\n",
       "    <tr style=\"text-align: right;\">\n",
       "      <th></th>\n",
       "      <th>placeId1</th>\n",
       "      <th>placeId2</th>\n",
       "      <th>officialName1</th>\n",
       "      <th>officialName2</th>\n",
       "      <th>latitude1</th>\n",
       "      <th>latitude2</th>\n",
       "      <th>longitude1</th>\n",
       "      <th>longitude2</th>\n",
       "      <th>subCategory1</th>\n",
       "      <th>subCategory2</th>\n",
       "      <th>...</th>\n",
       "      <th>houseNumber1</th>\n",
       "      <th>houseNumber2</th>\n",
       "      <th>internet1</th>\n",
       "      <th>internet2</th>\n",
       "      <th>phoneNumbers1</th>\n",
       "      <th>phoneNumbers2</th>\n",
       "      <th>postalCode1</th>\n",
       "      <th>postalCode2</th>\n",
       "      <th>haversine</th>\n",
       "      <th>similarity</th>\n",
       "    </tr>\n",
       "  </thead>\n",
       "  <tbody>\n",
       "    <tr>\n",
       "      <th>0</th>\n",
       "      <td>1db029e2-7782-4b48-a11d-8cba87620e0a</td>\n",
       "      <td>3644200b-7e37-4a38-9a02-fcb37640660c</td>\n",
       "      <td>duns</td>\n",
       "      <td>christchurch parkside</td>\n",
       "      <td>-43.540314</td>\n",
       "      <td>-43.539330</td>\n",
       "      <td>172.624405</td>\n",
       "      <td>172.619705</td>\n",
       "      <td>tax services</td>\n",
       "      <td>child care facility</td>\n",
       "      <td>...</td>\n",
       "      <td>100</td>\n",
       "      <td>438</td>\n",
       "      <td>www.duns.co.nz</td>\n",
       "      <td>NaN</td>\n",
       "      <td>6433650768</td>\n",
       "      <td>6433657606</td>\n",
       "      <td>80110</td>\n",
       "      <td>80110</td>\n",
       "      <td>0.394326</td>\n",
       "      <td>0.680</td>\n",
       "    </tr>\n",
       "    <tr>\n",
       "      <th>1</th>\n",
       "      <td>50d9a0f0-ed89-41b5-900c-b7a24100eefb</td>\n",
       "      <td>1db029e2-7782-4b48-a11d-8cba87620e0a</td>\n",
       "      <td>value cars warehouse</td>\n",
       "      <td>duns</td>\n",
       "      <td>-43.540516</td>\n",
       "      <td>-43.540314</td>\n",
       "      <td>172.618942</td>\n",
       "      <td>172.624405</td>\n",
       "      <td>car</td>\n",
       "      <td>tax services</td>\n",
       "      <td>...</td>\n",
       "      <td>32</td>\n",
       "      <td>100</td>\n",
       "      <td>www.thevaluecarswharehouse.co.nz</td>\n",
       "      <td>www.duns.co.nz</td>\n",
       "      <td>6433667768</td>\n",
       "      <td>6433650768</td>\n",
       "      <td>80110</td>\n",
       "      <td>80110</td>\n",
       "      <td>0.440670</td>\n",
       "      <td>0.733</td>\n",
       "    </tr>\n",
       "    <tr>\n",
       "      <th>2</th>\n",
       "      <td>499d4c0a-b74e-4f5e-9827-6b714c7dd34e</td>\n",
       "      <td>8cd6170b-95c3-4e94-a23d-25e730f76d6d</td>\n",
       "      <td>methodist</td>\n",
       "      <td>forsyth barr</td>\n",
       "      <td>-43.548260</td>\n",
       "      <td>-43.541759</td>\n",
       "      <td>172.621521</td>\n",
       "      <td>172.616898</td>\n",
       "      <td>church</td>\n",
       "      <td>diversified financials</td>\n",
       "      <td>...</td>\n",
       "      <td>NaN</td>\n",
       "      <td>12</td>\n",
       "      <td>www.methodist.org.nz</td>\n",
       "      <td>www.forsythbarr.co.nz</td>\n",
       "      <td>6433650844</td>\n",
       "      <td>6433654244</td>\n",
       "      <td>80240</td>\n",
       "      <td>80240</td>\n",
       "      <td>0.813047</td>\n",
       "      <td>0.264</td>\n",
       "    </tr>\n",
       "    <tr>\n",
       "      <th>3</th>\n",
       "      <td>60db419d-df9f-40ea-9b04-4a9943c053bb</td>\n",
       "      <td>499d4c0a-b74e-4f5e-9827-6b714c7dd34e</td>\n",
       "      <td>dairy farm supplies</td>\n",
       "      <td>methodist</td>\n",
       "      <td>-43.540844</td>\n",
       "      <td>-43.548260</td>\n",
       "      <td>172.618195</td>\n",
       "      <td>172.621521</td>\n",
       "      <td>farm</td>\n",
       "      <td>church</td>\n",
       "      <td>...</td>\n",
       "      <td>58</td>\n",
       "      <td>NaN</td>\n",
       "      <td>NaN</td>\n",
       "      <td>www.methodist.org.nz</td>\n",
       "      <td>6433665049</td>\n",
       "      <td>6433650844</td>\n",
       "      <td>80110</td>\n",
       "      <td>80240</td>\n",
       "      <td>0.866951</td>\n",
       "      <td>0.849</td>\n",
       "    </tr>\n",
       "    <tr>\n",
       "      <th>4</th>\n",
       "      <td>c7b915fc-8a45-4457-aacb-63d69b99243a</td>\n",
       "      <td>499d4c0a-b74e-4f5e-9827-6b714c7dd34e</td>\n",
       "      <td>dairy farm supplies</td>\n",
       "      <td>methodist</td>\n",
       "      <td>-43.540844</td>\n",
       "      <td>-43.548260</td>\n",
       "      <td>172.618210</td>\n",
       "      <td>172.621521</td>\n",
       "      <td>agricultural supplies</td>\n",
       "      <td>church</td>\n",
       "      <td>...</td>\n",
       "      <td>NaN</td>\n",
       "      <td>NaN</td>\n",
       "      <td>NaN</td>\n",
       "      <td>www.methodist.org.nz</td>\n",
       "      <td>6433665049</td>\n",
       "      <td>6433650844</td>\n",
       "      <td>80110</td>\n",
       "      <td>80240</td>\n",
       "      <td>0.866702</td>\n",
       "      <td>0.849</td>\n",
       "    </tr>\n",
       "    <tr>\n",
       "      <th>...</th>\n",
       "      <td>...</td>\n",
       "      <td>...</td>\n",
       "      <td>...</td>\n",
       "      <td>...</td>\n",
       "      <td>...</td>\n",
       "      <td>...</td>\n",
       "      <td>...</td>\n",
       "      <td>...</td>\n",
       "      <td>...</td>\n",
       "      <td>...</td>\n",
       "      <td>...</td>\n",
       "      <td>...</td>\n",
       "      <td>...</td>\n",
       "      <td>...</td>\n",
       "      <td>...</td>\n",
       "      <td>...</td>\n",
       "      <td>...</td>\n",
       "      <td>...</td>\n",
       "      <td>...</td>\n",
       "      <td>...</td>\n",
       "      <td>...</td>\n",
       "    </tr>\n",
       "    <tr>\n",
       "      <th>2990573</th>\n",
       "      <td>75438fc0-acf5-4184-8b8d-7472a6f6dbf7</td>\n",
       "      <td>da28b87e-742b-4b0a-ba9a-8a4d355b06f2</td>\n",
       "      <td>ngaruariki stream</td>\n",
       "      <td>oruariki stream</td>\n",
       "      <td>-34.424934</td>\n",
       "      <td>-34.425720</td>\n",
       "      <td>172.915512</td>\n",
       "      <td>172.918167</td>\n",
       "      <td>unspecified</td>\n",
       "      <td>unspecified</td>\n",
       "      <td>...</td>\n",
       "      <td>NaN</td>\n",
       "      <td>NaN</td>\n",
       "      <td>NaN</td>\n",
       "      <td>NaN</td>\n",
       "      <td>NaN</td>\n",
       "      <td>NaN</td>\n",
       "      <td>NaN</td>\n",
       "      <td>NaN</td>\n",
       "      <td>0.259159</td>\n",
       "      <td>0.966</td>\n",
       "    </tr>\n",
       "    <tr>\n",
       "      <th>2990574</th>\n",
       "      <td>127888a6-d9b0-4d18-9a7d-2f47be6ff3f4</td>\n",
       "      <td>d4e9a46f-bf83-4b5d-910f-b1fb47861d5a</td>\n",
       "      <td>ngatoru stream</td>\n",
       "      <td>te huka stream</td>\n",
       "      <td>-34.424644</td>\n",
       "      <td>-34.440441</td>\n",
       "      <td>172.926285</td>\n",
       "      <td>172.927353</td>\n",
       "      <td>unspecified</td>\n",
       "      <td>unspecified</td>\n",
       "      <td>...</td>\n",
       "      <td>NaN</td>\n",
       "      <td>NaN</td>\n",
       "      <td>NaN</td>\n",
       "      <td>NaN</td>\n",
       "      <td>NaN</td>\n",
       "      <td>NaN</td>\n",
       "      <td>NaN</td>\n",
       "      <td>NaN</td>\n",
       "      <td>1.759174</td>\n",
       "      <td>0.666</td>\n",
       "    </tr>\n",
       "    <tr>\n",
       "      <th>2990575</th>\n",
       "      <td>7ccba943-6015-4912-84a6-7dfa59cd9fa2</td>\n",
       "      <td>6db7dd21-bb72-4fb1-b5b6-98ecc8348339</td>\n",
       "      <td>waiparariki stream</td>\n",
       "      <td>akura stream</td>\n",
       "      <td>-34.446896</td>\n",
       "      <td>-34.433472</td>\n",
       "      <td>172.946640</td>\n",
       "      <td>172.948074</td>\n",
       "      <td>unspecified</td>\n",
       "      <td>unspecified</td>\n",
       "      <td>...</td>\n",
       "      <td>NaN</td>\n",
       "      <td>NaN</td>\n",
       "      <td>NaN</td>\n",
       "      <td>NaN</td>\n",
       "      <td>NaN</td>\n",
       "      <td>NaN</td>\n",
       "      <td>NaN</td>\n",
       "      <td>NaN</td>\n",
       "      <td>1.498652</td>\n",
       "      <td>0.676</td>\n",
       "    </tr>\n",
       "    <tr>\n",
       "      <th>2990576</th>\n",
       "      <td>68f5fbe1-3f81-44d7-9535-7a8f7f9b35af</td>\n",
       "      <td>babf5cd5-bbf3-4d2c-8b18-297ebe1fdf0b</td>\n",
       "      <td>waitangi stream</td>\n",
       "      <td>matakana stream</td>\n",
       "      <td>-34.427818</td>\n",
       "      <td>-34.438946</td>\n",
       "      <td>172.965240</td>\n",
       "      <td>172.967224</td>\n",
       "      <td>unspecified</td>\n",
       "      <td>unspecified</td>\n",
       "      <td>...</td>\n",
       "      <td>NaN</td>\n",
       "      <td>NaN</td>\n",
       "      <td>NaN</td>\n",
       "      <td>NaN</td>\n",
       "      <td>NaN</td>\n",
       "      <td>NaN</td>\n",
       "      <td>NaN</td>\n",
       "      <td>NaN</td>\n",
       "      <td>1.250411</td>\n",
       "      <td>0.619</td>\n",
       "    </tr>\n",
       "    <tr>\n",
       "      <th>2990577</th>\n",
       "      <td>82c5f905-7009-4a33-9fb3-7ceb7962be2e</td>\n",
       "      <td>1a56ef30-139f-4360-b924-5ea8f3809d3e</td>\n",
       "      <td>pararaki stream</td>\n",
       "      <td>ngaroku stream</td>\n",
       "      <td>-34.403194</td>\n",
       "      <td>-34.413296</td>\n",
       "      <td>173.032394</td>\n",
       "      <td>173.031952</td>\n",
       "      <td>unspecified</td>\n",
       "      <td>unspecified</td>\n",
       "      <td>...</td>\n",
       "      <td>NaN</td>\n",
       "      <td>NaN</td>\n",
       "      <td>NaN</td>\n",
       "      <td>NaN</td>\n",
       "      <td>NaN</td>\n",
       "      <td>NaN</td>\n",
       "      <td>NaN</td>\n",
       "      <td>NaN</td>\n",
       "      <td>1.124050</td>\n",
       "      <td>0.786</td>\n",
       "    </tr>\n",
       "  </tbody>\n",
       "</table>\n",
       "<p>2990578 rows × 30 columns</p>\n",
       "</div>"
      ],
      "text/plain": [
       "                                     placeId1  \\\n",
       "0        1db029e2-7782-4b48-a11d-8cba87620e0a   \n",
       "1        50d9a0f0-ed89-41b5-900c-b7a24100eefb   \n",
       "2        499d4c0a-b74e-4f5e-9827-6b714c7dd34e   \n",
       "3        60db419d-df9f-40ea-9b04-4a9943c053bb   \n",
       "4        c7b915fc-8a45-4457-aacb-63d69b99243a   \n",
       "...                                       ...   \n",
       "2990573  75438fc0-acf5-4184-8b8d-7472a6f6dbf7   \n",
       "2990574  127888a6-d9b0-4d18-9a7d-2f47be6ff3f4   \n",
       "2990575  7ccba943-6015-4912-84a6-7dfa59cd9fa2   \n",
       "2990576  68f5fbe1-3f81-44d7-9535-7a8f7f9b35af   \n",
       "2990577  82c5f905-7009-4a33-9fb3-7ceb7962be2e   \n",
       "\n",
       "                                     placeId2         officialName1  \\\n",
       "0        3644200b-7e37-4a38-9a02-fcb37640660c                  duns   \n",
       "1        1db029e2-7782-4b48-a11d-8cba87620e0a  value cars warehouse   \n",
       "2        8cd6170b-95c3-4e94-a23d-25e730f76d6d             methodist   \n",
       "3        499d4c0a-b74e-4f5e-9827-6b714c7dd34e   dairy farm supplies   \n",
       "4        499d4c0a-b74e-4f5e-9827-6b714c7dd34e   dairy farm supplies   \n",
       "...                                       ...                   ...   \n",
       "2990573  da28b87e-742b-4b0a-ba9a-8a4d355b06f2     ngaruariki stream   \n",
       "2990574  d4e9a46f-bf83-4b5d-910f-b1fb47861d5a        ngatoru stream   \n",
       "2990575  6db7dd21-bb72-4fb1-b5b6-98ecc8348339    waiparariki stream   \n",
       "2990576  babf5cd5-bbf3-4d2c-8b18-297ebe1fdf0b       waitangi stream   \n",
       "2990577  1a56ef30-139f-4360-b924-5ea8f3809d3e       pararaki stream   \n",
       "\n",
       "                 officialName2  latitude1  latitude2  longitude1  longitude2  \\\n",
       "0        christchurch parkside -43.540314 -43.539330  172.624405  172.619705   \n",
       "1                         duns -43.540516 -43.540314  172.618942  172.624405   \n",
       "2                 forsyth barr -43.548260 -43.541759  172.621521  172.616898   \n",
       "3                    methodist -43.540844 -43.548260  172.618195  172.621521   \n",
       "4                    methodist -43.540844 -43.548260  172.618210  172.621521   \n",
       "...                        ...        ...        ...         ...         ...   \n",
       "2990573        oruariki stream -34.424934 -34.425720  172.915512  172.918167   \n",
       "2990574         te huka stream -34.424644 -34.440441  172.926285  172.927353   \n",
       "2990575           akura stream -34.446896 -34.433472  172.946640  172.948074   \n",
       "2990576        matakana stream -34.427818 -34.438946  172.965240  172.967224   \n",
       "2990577         ngaroku stream -34.403194 -34.413296  173.032394  173.031952   \n",
       "\n",
       "                  subCategory1            subCategory2  ... houseNumber1  \\\n",
       "0                 tax services     child care facility  ...          100   \n",
       "1                          car            tax services  ...           32   \n",
       "2                       church  diversified financials  ...          NaN   \n",
       "3                         farm                  church  ...           58   \n",
       "4        agricultural supplies                  church  ...          NaN   \n",
       "...                        ...                     ...  ...          ...   \n",
       "2990573            unspecified             unspecified  ...          NaN   \n",
       "2990574            unspecified             unspecified  ...          NaN   \n",
       "2990575            unspecified             unspecified  ...          NaN   \n",
       "2990576            unspecified             unspecified  ...          NaN   \n",
       "2990577            unspecified             unspecified  ...          NaN   \n",
       "\n",
       "        houseNumber2                         internet1              internet2  \\\n",
       "0                438                    www.duns.co.nz                    NaN   \n",
       "1                100  www.thevaluecarswharehouse.co.nz         www.duns.co.nz   \n",
       "2                 12              www.methodist.org.nz  www.forsythbarr.co.nz   \n",
       "3                NaN                               NaN   www.methodist.org.nz   \n",
       "4                NaN                               NaN   www.methodist.org.nz   \n",
       "...              ...                               ...                    ...   \n",
       "2990573          NaN                               NaN                    NaN   \n",
       "2990574          NaN                               NaN                    NaN   \n",
       "2990575          NaN                               NaN                    NaN   \n",
       "2990576          NaN                               NaN                    NaN   \n",
       "2990577          NaN                               NaN                    NaN   \n",
       "\n",
       "        phoneNumbers1 phoneNumbers2 postalCode1 postalCode2 haversine  \\\n",
       "0          6433650768    6433657606       80110       80110  0.394326   \n",
       "1          6433667768    6433650768       80110       80110  0.440670   \n",
       "2          6433650844    6433654244       80240       80240  0.813047   \n",
       "3          6433665049    6433650844       80110       80240  0.866951   \n",
       "4          6433665049    6433650844       80110       80240  0.866702   \n",
       "...               ...           ...         ...         ...       ...   \n",
       "2990573           NaN           NaN         NaN         NaN  0.259159   \n",
       "2990574           NaN           NaN         NaN         NaN  1.759174   \n",
       "2990575           NaN           NaN         NaN         NaN  1.498652   \n",
       "2990576           NaN           NaN         NaN         NaN  1.250411   \n",
       "2990577           NaN           NaN         NaN         NaN  1.124050   \n",
       "\n",
       "        similarity  \n",
       "0            0.680  \n",
       "1            0.733  \n",
       "2            0.264  \n",
       "3            0.849  \n",
       "4            0.849  \n",
       "...            ...  \n",
       "2990573      0.966  \n",
       "2990574      0.666  \n",
       "2990575      0.676  \n",
       "2990576      0.619  \n",
       "2990577      0.786  \n",
       "\n",
       "[2990578 rows x 30 columns]"
      ]
     },
     "execution_count": 14,
     "metadata": {},
     "output_type": "execute_result"
    }
   ],
   "source": [
    "df_pairs"
   ]
  },
  {
   "cell_type": "code",
   "execution_count": 13,
   "metadata": {},
   "outputs": [],
   "source": [
    "df_pairs.to_parquet(f\"/workspace/clustering/outputs/df_pairs_sim_{config.country}.parquet\",\n",
    "    compression=\"zstd\",\n",
    "    index=None,\n",
    ")"
   ]
  }
 ],
 "metadata": {
  "kernelspec": {
   "display_name": "Python 3.8.13 ('rapids')",
   "language": "python",
   "name": "python3"
  },
  "language_info": {
   "codemirror_mode": {
    "name": "ipython",
    "version": 3
   },
   "file_extension": ".py",
   "mimetype": "text/x-python",
   "name": "python",
   "nbconvert_exporter": "python",
   "pygments_lexer": "ipython3",
   "version": "3.8.13"
  },
  "orig_nbformat": 4,
  "vscode": {
   "interpreter": {
    "hash": "f708a36acfaef0acf74ccd43dfb58100269bf08fb79032a1e0a6f35bd9856f51"
   }
  }
 },
 "nbformat": 4,
 "nbformat_minor": 2
}
